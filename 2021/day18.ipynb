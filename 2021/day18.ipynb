{
 "cells": [
  {
   "cell_type": "markdown",
   "metadata": {},
   "source": [
    "# day 18\n",
    "\n",
    "https://adventofcode.com/2021/day/18"
   ]
  },
  {
   "cell_type": "code",
   "execution_count": null,
   "metadata": {},
   "outputs": [],
   "source": [
    "import logging\n",
    "import logging.config\n",
    "import os\n",
    "\n",
    "import yaml"
   ]
  },
  {
   "cell_type": "code",
   "execution_count": null,
   "metadata": {},
   "outputs": [],
   "source": [
    "with open('../logging.yaml') as fp:\n",
    "    logging_config = yaml.load(fp, Loader=yaml.FullLoader)\n",
    "\n",
    "logging.config.dictConfig(logging_config)"
   ]
  },
  {
   "cell_type": "code",
   "execution_count": null,
   "metadata": {},
   "outputs": [],
   "source": [
    "FNAME = os.path.join('data', 'day18.txt')\n",
    "\n",
    "LOGGER = logging.getLogger('day18')"
   ]
  },
  {
   "cell_type": "markdown",
   "metadata": {},
   "source": [
    "## part 1\n",
    "\n",
    "### problem statement:"
   ]
  },
  {
   "cell_type": "markdown",
   "metadata": {},
   "source": [
    "#### loading data"
   ]
  },
  {
   "cell_type": "code",
   "execution_count": null,
   "metadata": {},
   "outputs": [],
   "source": [
    "test_data = \"\"\"[[[0,[5,8]],[[1,7],[9,6]]],[[4,[1,2]],[[1,4],2]]]\n",
    "[[[5,[2,8]],4],[5,[[9,9],0]]]\n",
    "[6,[[[6,2],[5,6]],[[7,6],[4,7]]]]\n",
    "[[[6,[0,7]],[0,9]],[4,[9,[9,0]]]]\n",
    "[[[7,[6,4]],[3,[1,3]]],[[[5,5],1],9]]\n",
    "[[6,[[7,3],[3,2]]],[[[3,8],[5,7]],4]]\n",
    "[[[[5,4],[7,7]],8],[[8,3],8]]\n",
    "[[9,3],[[9,9],[6,[4,9]]]]\n",
    "[[2,[[7,7],7]],[[5,8],[[9,3],[0,2]]]]\n",
    "[[[[5,2],5],[8,[3,7]]],[[5,[7,5]],[4,4]]]\"\"\".strip().split('\\n')"
   ]
  },
  {
   "cell_type": "code",
   "execution_count": null,
   "metadata": {},
   "outputs": [],
   "source": [
    "def load_data(fname=FNAME):\n",
    "    with open(fname) as fp:\n",
    "        return [line.strip() for line in fp]"
   ]
  },
  {
   "cell_type": "code",
   "execution_count": null,
   "metadata": {},
   "outputs": [],
   "source": [
    "import networkx as nx\n",
    "\n",
    "def parse_snailfish_number(sn):\n",
    "    \"\"\"build a tree from a snailfish number\"\"\"\n",
    "    g = nx.DiGraph()\n",
    "    g.add_node('')\n",
    "    left, right = sn\n",
    "    add_branches(g, '', left, right)\n",
    "    return g\n",
    "\n",
    "def add_branches(g, node_name, left, right):\n",
    "    left_node_name = node_name + 'l'\n",
    "    right_node_name = node_name + 'r'\n",
    "    g.add_edge(node_name, left_node_name, direction='left')\n",
    "    g.add_edge(node_name, right_node_name, direction='right')\n",
    "    \n",
    "    if isinstance(left, int):\n",
    "        g.nodes[left_node_name]['value'] = left\n",
    "    else:\n",
    "        left_left, left_right = left\n",
    "        add_branches(g, left_node_name, left_left, left_right)\n",
    "    \n",
    "    if isinstance(right, int):\n",
    "        g.nodes[right_node_name]['value'] = right\n",
    "    else:\n",
    "        right_left, right_right = right\n",
    "        add_branches(g, right_node_name, right_left, right_right)"
   ]
  },
  {
   "cell_type": "code",
   "execution_count": null,
   "metadata": {},
   "outputs": [],
   "source": [
    "sn = eval(test_data[0])\n",
    "sn"
   ]
  },
  {
   "cell_type": "code",
   "execution_count": null,
   "metadata": {},
   "outputs": [],
   "source": [
    "g = parse_snailfish_number(sn)\n",
    "\n",
    "nx.draw_kamada_kawai(g, with_labels=True, node_size=1_000)"
   ]
  },
  {
   "cell_type": "code",
   "execution_count": null,
   "metadata": {},
   "outputs": [],
   "source": [
    "def add_graphs(g_left, g_right):\n",
    "    # relabel all nodes\n",
    "    g_left = nx.relabel_nodes(g_left, {k: 'l' + k for k in g_left.nodes})\n",
    "    g_right = nx.relabel_nodes(g_right, {k: 'r' + k for k in g_right.nodes})\n",
    "    g = nx.compose(g_left, g_right)\n",
    "    g.add_node('')\n",
    "    g.add_edge('', 'l', direction='left')\n",
    "    g.add_edge('', 'r', direction='right')\n",
    "    return g"
   ]
  },
  {
   "cell_type": "code",
   "execution_count": null,
   "metadata": {},
   "outputs": [],
   "source": [
    "def graphs_match(g0, g1):\n",
    "    return (g0.nodes == g1.nodes) and (g0.edges == g1.edges)"
   ]
  },
  {
   "cell_type": "code",
   "execution_count": null,
   "metadata": {},
   "outputs": [],
   "source": [
    "g_left = parse_snailfish_number([1,2])\n",
    "g_right = parse_snailfish_number([[3,4],5])\n",
    "g = add_graphs(g_left, g_right)\n",
    "\n",
    "g_answer = parse_snailfish_number([[1,2],[[3,4],5]])\n",
    "\n",
    "assert graphs_match(g, g_answer)"
   ]
  },
  {
   "cell_type": "code",
   "execution_count": null,
   "metadata": {},
   "outputs": [],
   "source": [
    "def get_value_nodes(g):\n",
    "    \"\"\"return only nodes with values\"\"\"\n",
    "    return sorted([n for n in g if g.nodes[n].get('value') is not None])"
   ]
  },
  {
   "cell_type": "code",
   "execution_count": null,
   "metadata": {},
   "outputs": [],
   "source": [
    "sn = [[[[[9,8],1],2],3],4]\n",
    "g = parse_snailfish_number(sn)\n",
    "get_value_nodes(g)"
   ]
  },
  {
   "cell_type": "code",
   "execution_count": null,
   "metadata": {},
   "outputs": [],
   "source": [
    "def get_left_neighbor(node_name, g):\n",
    "    vns = get_value_nodes(g)\n",
    "    i = vns.index(node_name)\n",
    "    return vns[i - 1] if i > 0 else None\n",
    "\n",
    "def get_right_neighbor(node_name, g):\n",
    "    vns = get_value_nodes(g)\n",
    "    L = len(vns)\n",
    "    i = vns.index(node_name)\n",
    "    return vns[i + 1] if i < L - 1 else None"
   ]
  },
  {
   "cell_type": "code",
   "execution_count": null,
   "metadata": {},
   "outputs": [],
   "source": [
    "sn = [[[[[9,8],1],2],3],4]\n",
    "g = parse_snailfish_number(sn)\n",
    "assert get_left_neighbor('lllll', g) is None\n",
    "assert get_left_neighbor('llllr', g) == 'lllll'\n",
    "assert get_right_neighbor('llllr', g) == 'lllr'\n",
    "assert get_right_neighbor('r', g) is None"
   ]
  },
  {
   "cell_type": "code",
   "execution_count": null,
   "metadata": {},
   "outputs": [],
   "source": [
    "def should_explode(node_name, g):\n",
    "    \"\"\"we should explode if this node is 4 levels down from the origin\"\"\"\n",
    "    return len(node_name) >= 5\n",
    "\n",
    "def explode(left_node_name, g):\n",
    "    \"\"\"node_name is the left element in a pair that should be exploded\"\"\"\n",
    "    right_node_name = left_node_name[:-1] + 'r'\n",
    "    assert right_node_name in g\n",
    "    \n",
    "    left_neighbor = get_left_neighbor(left_node_name, g)\n",
    "    right_neighbor = get_right_neighbor(right_node_name, g)\n",
    "    \n",
    "    if left_neighbor is not None:\n",
    "        g.nodes[left_neighbor]['value'] += g.nodes[left_node_name]['value']\n",
    "    if right_neighbor is not None:\n",
    "        g.nodes[right_neighbor]['value'] += g.nodes[right_node_name]['value']\n",
    "    \n",
    "    # the parent node of left / right gets value set to 0\n",
    "    g.nodes[left_node_name[:-1]]['value'] = 0\n",
    "    \n",
    "    # left and right node are removed\n",
    "    g.remove_nodes_from([left_node_name, right_node_name])"
   ]
  },
  {
   "cell_type": "code",
   "execution_count": null,
   "metadata": {},
   "outputs": [],
   "source": [
    "sn_before_after = [\n",
    "    ([[[[[9,8],1],2],3],4], [[[[0,9],2],3],4]),\n",
    "    ([7,[6,[5,[4,[3,2]]]]], [7,[6,[5,[7,0]]]]),\n",
    "    ([[6,[5,[4,[3,2]]]],1], [[6,[5,[7,0]]],3]),\n",
    "    ([[3,[2,[1,[7,3]]]],[6,[5,[4,[3,2]]]]], [[3,[2,[8,0]]],[9,[5,[4,[3,2]]]]]),\n",
    "    ([[3,[2,[8,0]]],[9,[5,[4,[3,2]]]]], [[3,[2,[8,0]]],[9,[5,[7,0]]]])\n",
    "]\n",
    "\n",
    "for sn_before, sn_after in sn_before_after:\n",
    "    g = parse_snailfish_number(sn_before)\n",
    "    g_answer = parse_snailfish_number(sn_after)\n",
    "    for node_name in get_value_nodes(g):\n",
    "        if should_explode(node_name, g):\n",
    "            explode(node_name, g)\n",
    "            assert graphs_match(g, g_answer)\n",
    "            break"
   ]
  },
  {
   "cell_type": "code",
   "execution_count": null,
   "metadata": {},
   "outputs": [],
   "source": [
    "import math\n",
    "\n",
    "def should_split(node_name, g):\n",
    "    return g.nodes[node_name]['value'] >= 10\n",
    "\n",
    "def split(node_name, g):\n",
    "    # get new left and right value\n",
    "    node_val = g.nodes[node_name]['value']\n",
    "    left_val = math.floor(node_val / 2)\n",
    "    right_val = math.ceil(node_val / 2)\n",
    "    \n",
    "    # add as new nodes\n",
    "    g.add_node(node_name + 'l', value=left_val)\n",
    "    g.add_node(node_name + 'r', value=right_val)\n",
    "    g.add_edge(node_name, node_name + 'l', direction='left')\n",
    "    g.add_edge(node_name, node_name + 'r', direction='right')\n",
    "    \n",
    "    # remove value from node\n",
    "    _ = g.nodes[node_name].pop('value')"
   ]
  },
  {
   "cell_type": "code",
   "execution_count": null,
   "metadata": {},
   "outputs": [],
   "source": [
    "g0 = parse_snailfish_number([[[[0,7],4],[15,[0,13]]],[1,1]])\n",
    "g1 = parse_snailfish_number([[[[0,7],4],[[7,8],[0,13]]],[1,1]])\n",
    "g2 = parse_snailfish_number([[[[0,7],4],[[7,8],[0,[6,7]]]],[1,1]])\n",
    "\n",
    "for node_name in get_value_nodes(g0):\n",
    "    if should_split(node_name, g0):\n",
    "        split(node_name, g0)\n",
    "        break\n",
    "assert graphs_match(g0, g1)\n",
    "\n",
    "for node_name in get_value_nodes(g0):\n",
    "    if should_split(node_name, g0):\n",
    "        split(node_name, g0)\n",
    "        break\n",
    "assert graphs_match(g0, g2)"
   ]
  },
  {
   "cell_type": "code",
   "execution_count": null,
   "metadata": {},
   "outputs": [],
   "source": [
    "def reduce(g):\n",
    "    while True:\n",
    "        made_changes = False\n",
    "        \n",
    "        # check for explodable\n",
    "        for node_name in get_value_nodes(g):\n",
    "            if should_explode(node_name, g):\n",
    "                explode(node_name, g)\n",
    "                #LOGGER.debug(str({n: g.nodes[n]['value'] for n in get_value_nodes(g)}))\n",
    "                #LOGGER.debug(g.nodes(data=True))\n",
    "                made_changes = True\n",
    "                break\n",
    "        \n",
    "        if made_changes:\n",
    "            continue\n",
    "        \n",
    "        # check for split\n",
    "        for node_name in get_value_nodes(g):\n",
    "            if should_split(node_name, g):\n",
    "                split(node_name, g)\n",
    "                #LOGGER.debug(str({n: g.nodes[n]['value'] for n in get_value_nodes(g)}))\n",
    "                #LOGGER.debug(g.nodes(data=True))\n",
    "                made_changes = True\n",
    "                break\n",
    "        \n",
    "        if made_changes:\n",
    "            continue\n",
    "        \n",
    "        # if we got here, no explosions and no splits, it's reduced\n",
    "        assert not made_changes\n",
    "        return"
   ]
  },
  {
   "cell_type": "code",
   "execution_count": null,
   "metadata": {},
   "outputs": [],
   "source": [
    "g = parse_snailfish_number([[[[[4,3],4],4],[7,[[8,4],9]]],[1,1]])\n",
    "g_answer = parse_snailfish_number([[[[0,7],4],[[7,8],[6,0]]],[8,1]])\n",
    "reduce(g)\n",
    "assert graphs_match(g, g_answer)"
   ]
  },
  {
   "cell_type": "code",
   "execution_count": null,
   "metadata": {},
   "outputs": [],
   "source": [
    "def get_magnitude(node_name, g):\n",
    "    try:\n",
    "        return g.nodes[node_name]['value']\n",
    "    except KeyError:\n",
    "        s = 0\n",
    "        for child_node_name, edge_data in g[node_name].items():\n",
    "            direction = edge_data['direction']\n",
    "            if direction == 'left':\n",
    "                s += 3 * get_magnitude(child_node_name, g)\n",
    "            elif direction == 'right':\n",
    "                s += 2 * get_magnitude(child_node_name, g)\n",
    "        return s"
   ]
  },
  {
   "cell_type": "code",
   "execution_count": null,
   "metadata": {},
   "outputs": [],
   "source": [
    "sn_mag = [\n",
    "    ([9,1], 29),\n",
    "    ([1, 9], 21),\n",
    "    ([[1,2],[[3,4],5]], 143),\n",
    "    ([[[[0,7],4],[[7,8],[6,0]]],[8,1]], 1384),\n",
    "    ([[[[1,1],[2,2]],[3,3]],[4,4]], 445),\n",
    "    ([[[[3,0],[5,3]],[4,4]],[5,5]], 791),\n",
    "    ([[[[5,0],[7,4]],[5,5]],[6,6]], 1137),\n",
    "    ([[[[8,7],[7,7]],[[8,6],[7,7]]],[[[0,7],[6,6]],[8,7]]], 3488),\n",
    "]\n",
    "\n",
    "for (sn, mag) in sn_mag:\n",
    "    g = parse_snailfish_number(sn)\n",
    "    assert get_magnitude('', g) == mag"
   ]
  },
  {
   "cell_type": "code",
   "execution_count": null,
   "metadata": {},
   "outputs": [],
   "source": [
    "def get_final_sum(graphs):\n",
    "    \"\"\"given multiple graphs, add then reduce them left to right\"\"\"\n",
    "    g_accumulator = graphs[0]\n",
    "    for g_next in graphs[1:]:\n",
    "        #LOGGER.debug(g_accumulator.nodes(data=True))\n",
    "        g_accumulator = add_graphs(g_accumulator, g_next)\n",
    "        reduce(g_accumulator)\n",
    "    #LOGGER.debug(g_accumulator.nodes(data=True))\n",
    "    return g_accumulator"
   ]
  },
  {
   "cell_type": "code",
   "execution_count": null,
   "metadata": {},
   "outputs": [],
   "source": [
    "input_sns = [[1,1], [2,2], [3,3], [4,4]]\n",
    "answer_sn = [[[[1,1],[2,2]],[3,3]],[4,4]]\n",
    "graphs = [parse_snailfish_number(sn) for sn in input_sns]\n",
    "assert graphs_match(get_final_sum(graphs),\n",
    "                    parse_snailfish_number(answer_sn))"
   ]
  },
  {
   "cell_type": "code",
   "execution_count": null,
   "metadata": {},
   "outputs": [],
   "source": [
    "input_sns = [[1,1], [2,2], [3,3], [4,4], [5,5]]\n",
    "answer_sn = [[[[3,0],[5,3]],[4,4]],[5,5]]\n",
    "graphs = [parse_snailfish_number(sn) for sn in input_sns]\n",
    "assert graphs_match(get_final_sum(graphs),\n",
    "                    parse_snailfish_number(answer_sn))"
   ]
  },
  {
   "cell_type": "code",
   "execution_count": null,
   "metadata": {},
   "outputs": [],
   "source": [
    "input_sns = [[1,1], [2,2], [3,3], [4,4], [5,5], [6,6]]\n",
    "answer_sn = [[[[5,0],[7,4]],[5,5]],[6,6]]\n",
    "graphs = [parse_snailfish_number(sn) for sn in input_sns]\n",
    "assert graphs_match(get_final_sum(graphs),\n",
    "                    parse_snailfish_number(answer_sn))"
   ]
  },
  {
   "cell_type": "code",
   "execution_count": null,
   "metadata": {},
   "outputs": [],
   "source": [
    "input_sns = [\n",
    "    [[[0,[4,5]],[0,0]],[[[4,5],[2,6]],[9,5]]],\n",
    "    [7,[[[3,7],[4,3]],[[6,3],[8,8]]]],\n",
    "    [[2,[[0,8],[3,4]]],[[[6,7],1],[7,[1,6]]]],\n",
    "    [[[[2,4],7],[6,[0,5]]],[[[6,8],[2,8]],[[2,1],[4,5]]]],\n",
    "    [7,[5,[[3,8],[1,4]]]],\n",
    "    [[2,[2,2]],[8,[8,1]]],\n",
    "    [2,9],\n",
    "    [1,[[[9,3],9],[[9,0],[0,7]]]],\n",
    "    [[[5,[7,4]],7],1],\n",
    "    [[[[4,2],2],6],[8,7]]\n",
    "]\n",
    "answer_sn = [[[[8,7],[7,7]],[[8,6],[7,7]]],[[[0,7],[6,6]],[8,7]]]\n",
    "graphs = [parse_snailfish_number(sn) for sn in input_sns]\n",
    "assert graphs_match(get_final_sum(graphs),\n",
    "                    parse_snailfish_number(answer_sn))"
   ]
  },
  {
   "cell_type": "markdown",
   "metadata": {},
   "source": [
    "#### function def"
   ]
  },
  {
   "cell_type": "code",
   "execution_count": null,
   "metadata": {},
   "outputs": [],
   "source": [
    "def q_1(data):\n",
    "    sns = [eval(line) for line in data]\n",
    "    graphs = [parse_snailfish_number(sn) for sn in sns]\n",
    "    g_sum = get_final_sum(graphs)\n",
    "    return get_magnitude(node_name='', g=g_sum)"
   ]
  },
  {
   "cell_type": "markdown",
   "metadata": {},
   "source": [
    "#### tests"
   ]
  },
  {
   "cell_type": "code",
   "execution_count": null,
   "metadata": {},
   "outputs": [],
   "source": [
    "def test_q_1():\n",
    "    LOGGER.setLevel(logging.DEBUG)\n",
    "    assert q_1(test_data) == 4140\n",
    "    LOGGER.setLevel(logging.INFO)"
   ]
  },
  {
   "cell_type": "code",
   "execution_count": null,
   "metadata": {},
   "outputs": [],
   "source": [
    "test_q_1()"
   ]
  },
  {
   "cell_type": "markdown",
   "metadata": {},
   "source": [
    "#### answer"
   ]
  },
  {
   "cell_type": "code",
   "execution_count": null,
   "metadata": {},
   "outputs": [],
   "source": [
    "q_1(load_data())"
   ]
  },
  {
   "cell_type": "markdown",
   "metadata": {},
   "source": [
    "## part 2\n",
    "\n",
    "### problem statement:"
   ]
  },
  {
   "cell_type": "markdown",
   "metadata": {},
   "source": [
    "#### function def"
   ]
  },
  {
   "cell_type": "code",
   "execution_count": null,
   "metadata": {},
   "outputs": [],
   "source": [
    "list([1, 2, 3], 2))"
   ]
  },
  {
   "cell_type": "code",
   "execution_count": null,
   "metadata": {},
   "outputs": [],
   "source": [
    "import itertools\n",
    "\n",
    "def q_2(data):\n",
    "    sns = [eval(line) for line in data]\n",
    "    graphs = [parse_snailfish_number(sn) for sn in sns]\n",
    "    sums = [get_magnitude('', get_final_sum([g_a, g_b]))\n",
    "            for (g_a, g_b) in itertools.permutations(graphs, 2)]\n",
    "    return max(sums)"
   ]
  },
  {
   "cell_type": "markdown",
   "metadata": {},
   "source": [
    "#### tests"
   ]
  },
  {
   "cell_type": "code",
   "execution_count": null,
   "metadata": {},
   "outputs": [],
   "source": [
    "def test_q_2():\n",
    "    LOGGER.setLevel(logging.DEBUG)\n",
    "    assert q_2(test_data) == 3993\n",
    "    LOGGER.setLevel(logging.INFO)"
   ]
  },
  {
   "cell_type": "code",
   "execution_count": null,
   "metadata": {
    "scrolled": true
   },
   "outputs": [],
   "source": [
    "test_q_2()"
   ]
  },
  {
   "cell_type": "markdown",
   "metadata": {},
   "source": [
    "#### answer"
   ]
  },
  {
   "cell_type": "code",
   "execution_count": null,
   "metadata": {
    "scrolled": true
   },
   "outputs": [],
   "source": [
    "q_2(load_data())"
   ]
  },
  {
   "cell_type": "markdown",
   "metadata": {},
   "source": [
    "fin"
   ]
  }
 ],
 "metadata": {
  "kernelspec": {
   "display_name": "Python 3",
   "language": "python",
   "name": "python3"
  },
  "language_info": {
   "codemirror_mode": {
    "name": "ipython",
    "version": 3
   },
   "file_extension": ".py",
   "mimetype": "text/x-python",
   "name": "python",
   "nbconvert_exporter": "python",
   "pygments_lexer": "ipython3",
   "version": "3.7.3"
  },
  "toc": {
   "base_numbering": 1,
   "nav_menu": {},
   "number_sections": true,
   "sideBar": true,
   "skip_h1_title": false,
   "title_cell": "Table of Contents",
   "title_sidebar": "Contents",
   "toc_cell": false,
   "toc_position": {},
   "toc_section_display": true,
   "toc_window_display": false
  }
 },
 "nbformat": 4,
 "nbformat_minor": 2
}
