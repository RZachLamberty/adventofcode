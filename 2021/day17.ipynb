{
 "cells": [
  {
   "cell_type": "markdown",
   "metadata": {},
   "source": [
    "# day 17\n",
    "\n",
    "https://adventofcode.com/2021/day/17"
   ]
  },
  {
   "cell_type": "code",
   "execution_count": null,
   "metadata": {},
   "outputs": [],
   "source": [
    "import logging\n",
    "import logging.config\n",
    "import os\n",
    "\n",
    "import yaml"
   ]
  },
  {
   "cell_type": "code",
   "execution_count": null,
   "metadata": {},
   "outputs": [],
   "source": [
    "with open('../logging.yaml') as fp:\n",
    "    logging_config = yaml.load(fp, Loader=yaml.FullLoader)\n",
    "\n",
    "logging.config.dictConfig(logging_config)"
   ]
  },
  {
   "cell_type": "code",
   "execution_count": null,
   "metadata": {},
   "outputs": [],
   "source": [
    "FNAME = os.path.join('data', 'day17.txt')\n",
    "\n",
    "LOGGER = logging.getLogger('day17')"
   ]
  },
  {
   "cell_type": "markdown",
   "metadata": {},
   "source": [
    "## part 1\n",
    "\n",
    "### problem statement:"
   ]
  },
  {
   "cell_type": "markdown",
   "metadata": {},
   "source": [
    "#### loading data"
   ]
  },
  {
   "cell_type": "code",
   "execution_count": null,
   "metadata": {},
   "outputs": [],
   "source": [
    "test_data = 'target area: x=20..30, y=-10..-5'"
   ]
  },
  {
   "cell_type": "code",
   "execution_count": null,
   "metadata": {},
   "outputs": [],
   "source": [
    "def load_data(fname=FNAME):\n",
    "    with open(fname) as fp:\n",
    "        return fp.read().strip()"
   ]
  },
  {
   "cell_type": "code",
   "execution_count": null,
   "metadata": {},
   "outputs": [],
   "source": [
    "load_data()"
   ]
  },
  {
   "cell_type": "code",
   "execution_count": null,
   "metadata": {},
   "outputs": [],
   "source": [
    "def parse_data(d):\n",
    "    xy = d.split(': ')[1]\n",
    "    x, y = xy.split(', ')\n",
    "    x = x[2:]\n",
    "    y = y[2:]\n",
    "    x0, x1 = x.split('..')\n",
    "    y0, y1 = y.split('..')\n",
    "    x0 = int(x0)\n",
    "    x1 = int(x1)\n",
    "    y0 = int(y0)\n",
    "    y1 = int(y1)\n",
    "    return (x0, x1), (y0, y1)"
   ]
  },
  {
   "cell_type": "code",
   "execution_count": null,
   "metadata": {},
   "outputs": [],
   "source": [
    "parse_data(test_data)"
   ]
  },
  {
   "cell_type": "code",
   "execution_count": null,
   "metadata": {},
   "outputs": [],
   "source": [
    "parse_data(load_data())"
   ]
  },
  {
   "cell_type": "markdown",
   "metadata": {},
   "source": [
    "#### function def"
   ]
  },
  {
   "cell_type": "code",
   "execution_count": null,
   "metadata": {},
   "outputs": [],
   "source": [
    "def q_1(data):\n",
    "    (x0, x1), (y0, y1) = parse_data(data)\n",
    "    return abs(y0) * (abs(y0) - 1) / 2"
   ]
  },
  {
   "cell_type": "markdown",
   "metadata": {},
   "source": [
    "#### tests"
   ]
  },
  {
   "cell_type": "code",
   "execution_count": null,
   "metadata": {},
   "outputs": [],
   "source": [
    "def test_q_1():\n",
    "    LOGGER.setLevel(logging.DEBUG)\n",
    "    assert q_1(test_data) == 45\n",
    "    LOGGER.setLevel(logging.INFO)"
   ]
  },
  {
   "cell_type": "code",
   "execution_count": null,
   "metadata": {},
   "outputs": [],
   "source": [
    "test_q_1()"
   ]
  },
  {
   "cell_type": "markdown",
   "metadata": {},
   "source": [
    "#### answer"
   ]
  },
  {
   "cell_type": "code",
   "execution_count": null,
   "metadata": {},
   "outputs": [],
   "source": [
    "q_1(load_data())"
   ]
  },
  {
   "cell_type": "markdown",
   "metadata": {},
   "source": [
    "## part 2\n",
    "\n",
    "### problem statement:"
   ]
  },
  {
   "cell_type": "markdown",
   "metadata": {},
   "source": [
    "#### function def"
   ]
  },
  {
   "cell_type": "code",
   "execution_count": null,
   "metadata": {},
   "outputs": [],
   "source": [
    "def invtri(x):\n",
    "     return int((x * 2)**0.5)\n",
    "\n",
    "def search(xmin, xmax, ymin, ymax, v0xmin):\n",
    "    total = 0\n",
    "    yhi = 0\n",
    "\n",
    "    for v0x in range(v0xmin, xmax + 1):\n",
    "        for v0y in range(ymin, -ymin):\n",
    "            x, y = 0, 0\n",
    "            vx, vy = v0x, v0y\n",
    "\n",
    "            while x <= xmax and y >= ymin:\n",
    "                if x >= xmin and y <= ymax:\n",
    "                    total += 1\n",
    "                    break\n",
    "\n",
    "                x, y = (x + vx, y + vy)\n",
    "                vy -= 1\n",
    "\n",
    "                if vx > 0:\n",
    "                    vx -= 1\n",
    "\n",
    "                if y > yhi:\n",
    "                    yhi = y\n",
    "\n",
    "    return yhi, total\n",
    "\n",
    "\n",
    "def q_2(data):\n",
    "    (xmin, xmax), (ymin, ymax) = parse_data(data)\n",
    "    assert ymin < 0 and ymax < 0\n",
    "\n",
    "    v0xmin = invtri(xmin)\n",
    "\n",
    "    # Here, if the following assumption holds (tri(n) == n-th triangular number):\n",
    "    #\n",
    "    #     assert tri(v0xmin) == xmin or tri(v0xmin + 1) <= xmax\n",
    "    #\n",
    "    # we could simply calculate yhi = tri(ymin) = ymin * (ymin + 1) // 2. To be\n",
    "    # safer though, and since we need to do a brute-force for P2 anyway, I have also\n",
    "    # integrated P1's calculation into search().\n",
    "\n",
    "    yhi, total = search(xmin, xmax, ymin, ymax, v0xmin)\n",
    "\n",
    "    return total"
   ]
  },
  {
   "cell_type": "code",
   "execution_count": null,
   "metadata": {},
   "outputs": [],
   "source": [
    "# def q_2(data):\n",
    "#     return False"
   ]
  },
  {
   "cell_type": "markdown",
   "metadata": {},
   "source": [
    "#### tests"
   ]
  },
  {
   "cell_type": "code",
   "execution_count": null,
   "metadata": {},
   "outputs": [],
   "source": [
    "def test_q_2():\n",
    "    LOGGER.setLevel(logging.DEBUG)\n",
    "    assert q_2(test_data) == 112\n",
    "    LOGGER.setLevel(logging.INFO)"
   ]
  },
  {
   "cell_type": "code",
   "execution_count": null,
   "metadata": {
    "scrolled": true
   },
   "outputs": [],
   "source": [
    "test_q_2()"
   ]
  },
  {
   "cell_type": "markdown",
   "metadata": {},
   "source": [
    "#### answer"
   ]
  },
  {
   "cell_type": "code",
   "execution_count": null,
   "metadata": {
    "scrolled": true
   },
   "outputs": [],
   "source": [
    "q_2(load_data())"
   ]
  },
  {
   "cell_type": "markdown",
   "metadata": {},
   "source": [
    "fin"
   ]
  }
 ],
 "metadata": {
  "kernelspec": {
   "display_name": "Python 3",
   "language": "python",
   "name": "python3"
  },
  "language_info": {
   "codemirror_mode": {
    "name": "ipython",
    "version": 3
   },
   "file_extension": ".py",
   "mimetype": "text/x-python",
   "name": "python",
   "nbconvert_exporter": "python",
   "pygments_lexer": "ipython3",
   "version": "3.7.3"
  },
  "toc": {
   "base_numbering": 1,
   "nav_menu": {},
   "number_sections": true,
   "sideBar": true,
   "skip_h1_title": false,
   "title_cell": "Table of Contents",
   "title_sidebar": "Contents",
   "toc_cell": false,
   "toc_position": {},
   "toc_section_display": true,
   "toc_window_display": false
  }
 },
 "nbformat": 4,
 "nbformat_minor": 2
}
