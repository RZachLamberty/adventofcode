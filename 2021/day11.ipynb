{
 "cells": [
  {
   "cell_type": "markdown",
   "metadata": {},
   "source": [
    "# day 11\n",
    "\n",
    "https://adventofcode.com/2021/day/11"
   ]
  },
  {
   "cell_type": "code",
   "execution_count": null,
   "metadata": {},
   "outputs": [],
   "source": [
    "import logging\n",
    "import logging.config\n",
    "import os\n",
    "\n",
    "import yaml"
   ]
  },
  {
   "cell_type": "code",
   "execution_count": null,
   "metadata": {},
   "outputs": [],
   "source": [
    "with open('../logging.yaml') as fp:\n",
    "    logging_config = yaml.load(fp, Loader=yaml.FullLoader)\n",
    "\n",
    "logging.config.dictConfig(logging_config)"
   ]
  },
  {
   "cell_type": "code",
   "execution_count": null,
   "metadata": {},
   "outputs": [],
   "source": [
    "FNAME = os.path.join('data', 'day11.txt')\n",
    "\n",
    "LOGGER = logging.getLogger('day11')"
   ]
  },
  {
   "cell_type": "markdown",
   "metadata": {},
   "source": [
    "## part 1\n",
    "\n",
    "### problem statement:"
   ]
  },
  {
   "cell_type": "markdown",
   "metadata": {},
   "source": [
    "#### loading data"
   ]
  },
  {
   "cell_type": "code",
   "execution_count": null,
   "metadata": {},
   "outputs": [],
   "source": [
    "test_data = \"\"\"5483143223\n",
    "2745854711\n",
    "5264556173\n",
    "6141336146\n",
    "6357385478\n",
    "4167524645\n",
    "2176841721\n",
    "6882881134\n",
    "4846848554\n",
    "5283751526\"\"\""
   ]
  },
  {
   "cell_type": "code",
   "execution_count": null,
   "metadata": {},
   "outputs": [],
   "source": [
    "def load_data(fname=FNAME):\n",
    "    with open(fname) as fp:\n",
    "        return fp.read().strip()"
   ]
  },
  {
   "cell_type": "code",
   "execution_count": null,
   "metadata": {},
   "outputs": [],
   "source": [
    "import networkx as nx\n",
    "\n",
    "def parse_data(d):\n",
    "    g = nx.Graph()\n",
    "    # build nodes\n",
    "    for i, row in enumerate(d.strip().split('\\n')):\n",
    "        for (j, c) in enumerate(row.strip()):\n",
    "            g.add_node((i, j), x=int(c), has_flashed=False)\n",
    "    # now edges\n",
    "    for i, row in enumerate(d.strip().split('\\n')):\n",
    "        for (j, c) in enumerate(row.strip()):\n",
    "            # can just add half, others will be added by default\n",
    "            up_right = (i -1, j + 1)\n",
    "            right = (i, j + 1)\n",
    "            down_left = (i + 1, j + 1)\n",
    "            down = (i + 1, j)\n",
    "            for other_node in [up_right, right, down_left, down]:\n",
    "                if other_node in g:\n",
    "                    g.add_edge((i, j), other_node)\n",
    "    return g"
   ]
  },
  {
   "cell_type": "markdown",
   "metadata": {},
   "source": [
    "#### function def"
   ]
  },
  {
   "cell_type": "code",
   "execution_count": null,
   "metadata": {},
   "outputs": [],
   "source": [
    "def graph_to_str(g):\n",
    "    # get max x and max y:\n",
    "    x_max = 0\n",
    "    y_max = 0\n",
    "    for (x, y) in g:\n",
    "        x_max = max(x_max, x)\n",
    "        y_max = max(y_max, y)\n",
    "    \n",
    "    s = '\\n'.join([''.join([str(g.node[i, j]['x']) for j in range(y_max + 1)])\n",
    "                   for i in range(x_max + 1)])\n",
    "    return s\n",
    "\n",
    "def print_graph(g):\n",
    "    print(graph_to_str(g))"
   ]
  },
  {
   "cell_type": "code",
   "execution_count": null,
   "metadata": {},
   "outputs": [],
   "source": [
    "def increment_node_id(g, node_id):\n",
    "    \"\"\"given a graph and a node_id, increment it up by 1. if that means it flashes,\n",
    "    recursively call out to the other nodes\"\"\"\n",
    "    node_data = g.node[node_id]\n",
    "    if node_data['has_flashed']:\n",
    "        return\n",
    "    \n",
    "    node_data['x'] += 1\n",
    "    if node_data['x'] > 9 and not node_data['has_flashed']:\n",
    "        # flashing is equivalent to incrementing all neighbors\n",
    "        #LOGGER.debug(f'flashing node {node_id}')\n",
    "        node_data['has_flashed'] = True\n",
    "        for neighbor_node_id in g.neighbors(node_id):\n",
    "            increment_node_id(g, neighbor_node_id)"
   ]
  },
  {
   "cell_type": "code",
   "execution_count": null,
   "metadata": {},
   "outputs": [],
   "source": [
    "def take_step(g):\n",
    "    \"\"\"for each node, iterate the value up one. if it reaches 9 it flashes.\n",
    "    iterate its neighbors again if it flashes. mark things that have flashed\n",
    "    and don't flash them twice\"\"\"\n",
    "    for node_id in g:\n",
    "        increment_node_id(g, node_id)\n",
    "        \n",
    "    # anything left above a 9 should count towards our number of flashes\n",
    "    # and reset the value to 0\n",
    "    num_flashes = 0\n",
    "    for node_id in g:\n",
    "        node_data = g.node[node_id]\n",
    "        if node_data['x'] > 9:\n",
    "            node_data['x'] = 0\n",
    "        if node_data['has_flashed']:\n",
    "            num_flashes += 1\n",
    "        node_data['has_flashed'] = False\n",
    "    return num_flashes"
   ]
  },
  {
   "cell_type": "code",
   "execution_count": null,
   "metadata": {},
   "outputs": [],
   "source": [
    "g = parse_data(test_data)"
   ]
  },
  {
   "cell_type": "code",
   "execution_count": null,
   "metadata": {},
   "outputs": [],
   "source": [
    "print_graph(g)"
   ]
  },
  {
   "cell_type": "code",
   "execution_count": null,
   "metadata": {},
   "outputs": [],
   "source": [
    "t1 = \"\"\"6594254334\n",
    "3856965822\n",
    "6375667284\n",
    "7252447257\n",
    "7468496589\n",
    "5278635756\n",
    "3287952832\n",
    "7993992245\n",
    "5957959665\n",
    "6394862637\"\"\"\n",
    "\n",
    "t2 = \"\"\"8807476555\n",
    "5089087054\n",
    "8597889608\n",
    "8485769600\n",
    "8700908800\n",
    "6600088989\n",
    "6800005943\n",
    "0000007456\n",
    "9000000876\n",
    "8700006848\"\"\"\n",
    "\n",
    "g = parse_data(test_data)\n",
    "\n",
    "num_flashes = take_step(g)\n",
    "print_graph(g)\n",
    "s = graph_to_str(g)\n",
    "s == t1\n",
    "\n",
    "print()\n",
    "\n",
    "num_flashes = take_step(g)\n",
    "print_graph(g)\n",
    "s = graph_to_str(g)\n",
    "s == t2"
   ]
  },
  {
   "cell_type": "code",
   "execution_count": null,
   "metadata": {},
   "outputs": [],
   "source": [
    "def q_1(data, N):\n",
    "    g = parse_data(data)\n",
    "    num_flashes = sum(take_step(g) for step in range(N))\n",
    "    return num_flashes"
   ]
  },
  {
   "cell_type": "markdown",
   "metadata": {},
   "source": [
    "#### tests"
   ]
  },
  {
   "cell_type": "code",
   "execution_count": null,
   "metadata": {},
   "outputs": [],
   "source": [
    "def test_q_1():\n",
    "    LOGGER.setLevel(logging.DEBUG)\n",
    "    assert q_1(test_data, 100) == 1656\n",
    "    LOGGER.setLevel(logging.INFO)"
   ]
  },
  {
   "cell_type": "code",
   "execution_count": null,
   "metadata": {},
   "outputs": [],
   "source": [
    "test_q_1()"
   ]
  },
  {
   "cell_type": "markdown",
   "metadata": {},
   "source": [
    "#### answer"
   ]
  },
  {
   "cell_type": "code",
   "execution_count": null,
   "metadata": {},
   "outputs": [],
   "source": [
    "q_1(load_data(), 100)"
   ]
  },
  {
   "cell_type": "markdown",
   "metadata": {},
   "source": [
    "## part 2\n",
    "\n",
    "### problem statement:"
   ]
  },
  {
   "cell_type": "markdown",
   "metadata": {},
   "source": [
    "#### function def"
   ]
  },
  {
   "cell_type": "code",
   "execution_count": null,
   "metadata": {},
   "outputs": [],
   "source": [
    "def q_2(data):\n",
    "    g = parse_data(data)\n",
    "    \n",
    "    num_steps = 0\n",
    "    while True:\n",
    "        num_steps += 1\n",
    "        if num_steps % 20 == 0:\n",
    "            LOGGER.debug(f'num_steps = {num_steps}')\n",
    "        num_flashes = take_step(g)\n",
    "        if num_flashes == len(g):\n",
    "            return num_steps"
   ]
  },
  {
   "cell_type": "code",
   "execution_count": null,
   "metadata": {},
   "outputs": [],
   "source": [
    "# g = parse_data(test_data)\n",
    "# for i in range(193):\n",
    "#     take_step(g)\n",
    "# print_graph(g)"
   ]
  },
  {
   "cell_type": "code",
   "execution_count": null,
   "metadata": {},
   "outputs": [],
   "source": [
    "# take_step(g)"
   ]
  },
  {
   "cell_type": "code",
   "execution_count": null,
   "metadata": {},
   "outputs": [],
   "source": [
    "# print_graph(g)"
   ]
  },
  {
   "cell_type": "code",
   "execution_count": null,
   "metadata": {},
   "outputs": [],
   "source": [
    "# take_step(g)"
   ]
  },
  {
   "cell_type": "code",
   "execution_count": null,
   "metadata": {},
   "outputs": [],
   "source": [
    "# print_graph(g)"
   ]
  },
  {
   "cell_type": "markdown",
   "metadata": {},
   "source": [
    "#### tests"
   ]
  },
  {
   "cell_type": "code",
   "execution_count": null,
   "metadata": {},
   "outputs": [],
   "source": [
    "def test_q_2():\n",
    "    LOGGER.setLevel(logging.DEBUG)\n",
    "    assert q_2(test_data) == 195\n",
    "    LOGGER.setLevel(logging.INFO)"
   ]
  },
  {
   "cell_type": "code",
   "execution_count": null,
   "metadata": {
    "scrolled": true
   },
   "outputs": [],
   "source": [
    "test_q_2()"
   ]
  },
  {
   "cell_type": "markdown",
   "metadata": {},
   "source": [
    "#### answer"
   ]
  },
  {
   "cell_type": "code",
   "execution_count": null,
   "metadata": {
    "scrolled": true
   },
   "outputs": [],
   "source": [
    "q_2(load_data())"
   ]
  },
  {
   "cell_type": "markdown",
   "metadata": {},
   "source": [
    "fin"
   ]
  }
 ],
 "metadata": {
  "kernelspec": {
   "display_name": "Python 3",
   "language": "python",
   "name": "python3"
  },
  "language_info": {
   "codemirror_mode": {
    "name": "ipython",
    "version": 3
   },
   "file_extension": ".py",
   "mimetype": "text/x-python",
   "name": "python",
   "nbconvert_exporter": "python",
   "pygments_lexer": "ipython3",
   "version": "3.7.3"
  },
  "toc": {
   "base_numbering": 1,
   "nav_menu": {},
   "number_sections": true,
   "sideBar": true,
   "skip_h1_title": false,
   "title_cell": "Table of Contents",
   "title_sidebar": "Contents",
   "toc_cell": false,
   "toc_position": {},
   "toc_section_display": true,
   "toc_window_display": false
  }
 },
 "nbformat": 4,
 "nbformat_minor": 2
}
