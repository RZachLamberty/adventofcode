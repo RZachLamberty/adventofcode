{
 "cells": [
  {
   "cell_type": "markdown",
   "metadata": {},
   "source": [
    "# day 15\n",
    "\n",
    "https://adventofcode.com/2021/day/15"
   ]
  },
  {
   "cell_type": "code",
   "execution_count": null,
   "metadata": {},
   "outputs": [],
   "source": [
    "import logging\n",
    "import logging.config\n",
    "import os\n",
    "\n",
    "import yaml"
   ]
  },
  {
   "cell_type": "code",
   "execution_count": null,
   "metadata": {},
   "outputs": [],
   "source": [
    "with open('../logging.yaml') as fp:\n",
    "    logging_config = yaml.load(fp, Loader=yaml.FullLoader)\n",
    "\n",
    "logging.config.dictConfig(logging_config)"
   ]
  },
  {
   "cell_type": "code",
   "execution_count": null,
   "metadata": {},
   "outputs": [],
   "source": [
    "FNAME = os.path.join('data', 'day15.txt')\n",
    "\n",
    "LOGGER = logging.getLogger('day15')"
   ]
  },
  {
   "cell_type": "markdown",
   "metadata": {},
   "source": [
    "## part 1\n",
    "\n",
    "### problem statement:"
   ]
  },
  {
   "cell_type": "markdown",
   "metadata": {},
   "source": [
    "#### loading data"
   ]
  },
  {
   "cell_type": "code",
   "execution_count": null,
   "metadata": {},
   "outputs": [],
   "source": [
    "test_data = \"\"\"1163751742\n",
    "1381373672\n",
    "2136511328\n",
    "3694931569\n",
    "7463417111\n",
    "1319128137\n",
    "1359912421\n",
    "3125421639\n",
    "1293138521\n",
    "2311944581\"\"\""
   ]
  },
  {
   "cell_type": "code",
   "execution_count": null,
   "metadata": {},
   "outputs": [],
   "source": [
    "def load_data(fname=FNAME):\n",
    "    with open(fname) as fp:\n",
    "        return fp.read().strip()"
   ]
  },
  {
   "cell_type": "code",
   "execution_count": null,
   "metadata": {},
   "outputs": [],
   "source": [
    "import networkx as nx\n",
    "\n",
    "def parse_data(d):\n",
    "    g = nx.DiGraph()\n",
    "    for (i, row) in enumerate(d.strip().split('\\n')):\n",
    "        for (j, c) in enumerate(row.strip()):\n",
    "            # all edges into this node have the weight c\n",
    "            g.add_edge((i - 1, j), (i, j), weight=int(c))\n",
    "            g.add_edge((i + 1, j), (i, j), weight=int(c))\n",
    "            g.add_edge((i, j - 1), (i, j), weight=int(c))\n",
    "            g.add_edge((i, j + 1), (i, j), weight=int(c))\n",
    "    max_i = i\n",
    "    max_j = j\n",
    "    # finally, one edge \"into\" the start of the cave\n",
    "    g.add_edge((-1, -1), (0, 0), weight=0)\n",
    "    return g, max_i, max_j"
   ]
  },
  {
   "cell_type": "markdown",
   "metadata": {},
   "source": [
    "#### function def"
   ]
  },
  {
   "cell_type": "code",
   "execution_count": null,
   "metadata": {},
   "outputs": [],
   "source": [
    "def q_1(data):\n",
    "    g, max_i, max_j = parse_data(data)\n",
    "    path = nx.shortest_path(g, (-1, -1), (max_i, max_j), weight='weight')\n",
    "    return sum([g[path[i]][path[i + 1]]['weight'] for i in range(len(path) - 1)])"
   ]
  },
  {
   "cell_type": "markdown",
   "metadata": {},
   "source": [
    "#### tests"
   ]
  },
  {
   "cell_type": "code",
   "execution_count": null,
   "metadata": {},
   "outputs": [],
   "source": [
    "def test_q_1():\n",
    "    LOGGER.setLevel(logging.DEBUG)\n",
    "    assert q_1(test_data) == 40\n",
    "    LOGGER.setLevel(logging.INFO)"
   ]
  },
  {
   "cell_type": "code",
   "execution_count": null,
   "metadata": {},
   "outputs": [],
   "source": [
    "test_q_1()"
   ]
  },
  {
   "cell_type": "markdown",
   "metadata": {},
   "source": [
    "#### answer"
   ]
  },
  {
   "cell_type": "code",
   "execution_count": null,
   "metadata": {},
   "outputs": [],
   "source": [
    "q_1(load_data())"
   ]
  },
  {
   "cell_type": "markdown",
   "metadata": {},
   "source": [
    "## part 2\n",
    "\n",
    "### problem statement:"
   ]
  },
  {
   "cell_type": "markdown",
   "metadata": {},
   "source": [
    "#### function def"
   ]
  },
  {
   "cell_type": "code",
   "execution_count": null,
   "metadata": {},
   "outputs": [],
   "source": [
    "# c = 8\n",
    "# max_i = 10\n",
    "# max_j = 10\n",
    "# i = 11\n",
    "# j = 11\n",
    "# (int(c) - 1 + (i // max_i) + (j // max_j)) % 9 + 1"
   ]
  },
  {
   "cell_type": "code",
   "execution_count": null,
   "metadata": {},
   "outputs": [],
   "source": [
    "import networkx as nx\n",
    "\n",
    "def parse_data_2(d):\n",
    "    g = nx.DiGraph()\n",
    "    # get the x and y dimensions\n",
    "    rows = d.strip().split('\\n')\n",
    "    max_i = len(rows)\n",
    "    max_j = len(rows[0])\n",
    "    \n",
    "    for (i, row) in enumerate(d.strip().split('\\n') * 5):\n",
    "        for (j, c) in enumerate(row.strip() * 5):\n",
    "            # all edges into this node have the weight c\n",
    "            weight = (int(c) - 1 + (i // max_i) + (j // max_j)) % 9 + 1\n",
    "            g.add_edge((i - 1, j), (i, j), weight=weight)\n",
    "            g.add_edge((i + 1, j), (i, j), weight=weight)\n",
    "            g.add_edge((i, j - 1), (i, j), weight=weight)\n",
    "            g.add_edge((i, j + 1), (i, j), weight=weight)\n",
    "\n",
    "    # finally, one edge \"into\" the start of the cave\n",
    "    g.add_edge((-1, -1), (0, 0), weight=0)\n",
    "    return g, i, j"
   ]
  },
  {
   "cell_type": "code",
   "execution_count": null,
   "metadata": {},
   "outputs": [],
   "source": [
    "def q_2(data):\n",
    "    g, max_i, max_j = parse_data_2(data)\n",
    "    path = nx.shortest_path(g, (-1, -1), (max_i, max_j), weight='weight')\n",
    "    return sum([g[path[i]][path[i + 1]]['weight'] for i in range(len(path) - 1)])"
   ]
  },
  {
   "cell_type": "markdown",
   "metadata": {},
   "source": [
    "#### tests"
   ]
  },
  {
   "cell_type": "code",
   "execution_count": null,
   "metadata": {},
   "outputs": [],
   "source": [
    "def test_q_2():\n",
    "    LOGGER.setLevel(logging.DEBUG)\n",
    "    assert q_2(test_data) == 315\n",
    "    LOGGER.setLevel(logging.INFO)"
   ]
  },
  {
   "cell_type": "code",
   "execution_count": null,
   "metadata": {},
   "outputs": [],
   "source": [
    "g, max_i, max_j = parse_data_2(test_data)\n",
    "path = nx.shortest_path(g, (-1, -1), (max_i, max_j), weight='weight')\n",
    "[g[path[i]][path[i + 1]]['weight'] for i in range(len(path) - 1)]"
   ]
  },
  {
   "cell_type": "code",
   "execution_count": null,
   "metadata": {},
   "outputs": [],
   "source": [
    "q_2(test_data)"
   ]
  },
  {
   "cell_type": "code",
   "execution_count": null,
   "metadata": {
    "scrolled": true
   },
   "outputs": [],
   "source": [
    "test_q_2()"
   ]
  },
  {
   "cell_type": "markdown",
   "metadata": {},
   "source": [
    "#### answer"
   ]
  },
  {
   "cell_type": "code",
   "execution_count": null,
   "metadata": {
    "scrolled": true
   },
   "outputs": [],
   "source": [
    "q_2(load_data())"
   ]
  },
  {
   "cell_type": "markdown",
   "metadata": {},
   "source": [
    "fin"
   ]
  }
 ],
 "metadata": {
  "kernelspec": {
   "display_name": "Python 3",
   "language": "python",
   "name": "python3"
  },
  "language_info": {
   "codemirror_mode": {
    "name": "ipython",
    "version": 3
   },
   "file_extension": ".py",
   "mimetype": "text/x-python",
   "name": "python",
   "nbconvert_exporter": "python",
   "pygments_lexer": "ipython3",
   "version": "3.7.3"
  },
  "toc": {
   "base_numbering": 1,
   "nav_menu": {},
   "number_sections": true,
   "sideBar": true,
   "skip_h1_title": false,
   "title_cell": "Table of Contents",
   "title_sidebar": "Contents",
   "toc_cell": false,
   "toc_position": {},
   "toc_section_display": true,
   "toc_window_display": false
  }
 },
 "nbformat": 4,
 "nbformat_minor": 2
}
