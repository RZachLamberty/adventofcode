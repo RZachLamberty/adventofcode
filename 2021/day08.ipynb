{
 "cells": [
  {
   "cell_type": "markdown",
   "metadata": {},
   "source": [
    "# day 8\n",
    "\n",
    "https://adventofcode.com/2021/day/8"
   ]
  },
  {
   "cell_type": "code",
   "execution_count": null,
   "metadata": {},
   "outputs": [],
   "source": [
    "import logging\n",
    "import logging.config\n",
    "import os\n",
    "\n",
    "import yaml"
   ]
  },
  {
   "cell_type": "code",
   "execution_count": null,
   "metadata": {},
   "outputs": [],
   "source": [
    "with open('../logging.yaml') as fp:\n",
    "    logging_config = yaml.load(fp, Loader=yaml.FullLoader)\n",
    "\n",
    "logging.config.dictConfig(logging_config)"
   ]
  },
  {
   "cell_type": "code",
   "execution_count": null,
   "metadata": {},
   "outputs": [],
   "source": [
    "FNAME = os.path.join('data', 'day08.txt')\n",
    "\n",
    "LOGGER = logging.getLogger('day08')"
   ]
  },
  {
   "cell_type": "markdown",
   "metadata": {},
   "source": [
    "## part 1\n",
    "\n",
    "### problem statement:"
   ]
  },
  {
   "cell_type": "markdown",
   "metadata": {},
   "source": [
    "#### loading data"
   ]
  },
  {
   "cell_type": "code",
   "execution_count": null,
   "metadata": {},
   "outputs": [],
   "source": [
    "test_data = \"\"\"be cfbegad cbdgef fgaecd cgeb fdcge agebfd fecdb fabcd edb | fdgacbe cefdb cefbgd gcbe\n",
    "edbfga begcd cbg gc gcadebf fbgde acbgfd abcde gfcbed gfec | fcgedb cgb dgebacf gc\n",
    "fgaebd cg bdaec gdafb agbcfd gdcbef bgcad gfac gcb cdgabef | cg cg fdcagb cbg\n",
    "fbegcd cbd adcefb dageb afcb bc aefdc ecdab fgdeca fcdbega | efabcd cedba gadfec cb\n",
    "aecbfdg fbg gf bafeg dbefa fcge gcbea fcaegb dgceab fcbdga | gecf egdcabf bgf bfgea\n",
    "fgeab ca afcebg bdacfeg cfaedg gcfdb baec bfadeg bafgc acf | gebdcfa ecba ca fadegcb\n",
    "dbcfg fgd bdegcaf fgec aegbdf ecdfab fbedc dacgb gdcebf gf | cefg dcbef fcge gbcadfe\n",
    "bdfegc cbegaf gecbf dfcage bdacg ed bedf ced adcbefg gebcd | ed bcgafe cdgba cbgef\n",
    "egadfb cdbfeg cegd fecab cgb gbdefca cg fgcdab egfdb bfceg | gbdfcae bgc cg cgb\n",
    "gcafb gcf dcaebfg ecagb gf abcdeg gaef cafbge fdbac fegbdc | fgae cfgab fg bagce\"\"\""
   ]
  },
  {
   "cell_type": "code",
   "execution_count": null,
   "metadata": {},
   "outputs": [],
   "source": [
    "def load_data(fname=FNAME):\n",
    "    with open(fname) as fp:\n",
    "        return fp.read()"
   ]
  },
  {
   "cell_type": "code",
   "execution_count": null,
   "metadata": {},
   "outputs": [],
   "source": [
    "def parse_data(d):\n",
    "    x = []\n",
    "    for line in d.strip().split('\\n'):\n",
    "        signal_patterns, output_vals = line.split(' | ')\n",
    "        signal_patterns = signal_patterns.split(' ')\n",
    "        output_vals = output_vals.split(' ')\n",
    "        x.append((signal_patterns, output_vals))\n",
    "    return x"
   ]
  },
  {
   "cell_type": "markdown",
   "metadata": {},
   "source": [
    "#### function def"
   ]
  },
  {
   "cell_type": "code",
   "execution_count": null,
   "metadata": {},
   "outputs": [],
   "source": [
    "def q_1(data):\n",
    "    special_lens = [2, 3, 4, 7]\n",
    "    special_items = [v\n",
    "                     for (signal_patterns, output_vals) in parse_data(data)\n",
    "                     for v in output_vals\n",
    "                     if len(v) in special_lens]\n",
    "    return len(special_items)"
   ]
  },
  {
   "cell_type": "markdown",
   "metadata": {},
   "source": [
    "#### tests"
   ]
  },
  {
   "cell_type": "code",
   "execution_count": null,
   "metadata": {},
   "outputs": [],
   "source": [
    "def test_q_1():\n",
    "    LOGGER.setLevel(logging.DEBUG)\n",
    "    assert q_1(test_data) == 26\n",
    "    LOGGER.setLevel(logging.INFO)"
   ]
  },
  {
   "cell_type": "code",
   "execution_count": null,
   "metadata": {},
   "outputs": [],
   "source": [
    "test_q_1()"
   ]
  },
  {
   "cell_type": "markdown",
   "metadata": {},
   "source": [
    "#### answer"
   ]
  },
  {
   "cell_type": "code",
   "execution_count": null,
   "metadata": {},
   "outputs": [],
   "source": [
    "q_1(load_data())"
   ]
  },
  {
   "cell_type": "markdown",
   "metadata": {},
   "source": [
    "## part 2\n",
    "\n",
    "### problem statement:"
   ]
  },
  {
   "cell_type": "markdown",
   "metadata": {},
   "source": [
    "#### function def"
   ]
  },
  {
   "cell_type": "code",
   "execution_count": null,
   "metadata": {},
   "outputs": [],
   "source": [
    "from itertools import permutations"
   ]
  },
  {
   "cell_type": "code",
   "execution_count": null,
   "metadata": {},
   "outputs": [],
   "source": [
    "VALID_SEGMENTS = [\n",
    "    'abcefg',   # 0\n",
    "    'cf',       # 1\n",
    "    'acdeg',    # 2\n",
    "    'acdfg',    # 3\n",
    "    'bcdf',     # 4\n",
    "    'abdfg',    # 5\n",
    "    'abdefg',   # 6\n",
    "    'acf',      # 7\n",
    "    'abcdefg',  # 8\n",
    "    'abcdfg',   # 9\n",
    "]\n",
    "VALID_SEGMENTS = [sorted(_) for _ in VALID_SEGMENTS]"
   ]
  },
  {
   "cell_type": "code",
   "execution_count": null,
   "metadata": {},
   "outputs": [],
   "source": [
    "SEGMENTS = 'abcdefg'"
   ]
  },
  {
   "cell_type": "code",
   "execution_count": null,
   "metadata": {},
   "outputs": [],
   "source": [
    "def is_valid_map(m, wires_list):\n",
    "    \"\"\"given a mapping from wire to segment `m` and an iterable\n",
    "    of active wires `vals`, verify that the activated segments make\n",
    "    a valid number\"\"\"\n",
    "    return all(wires_to_segments(m, wires) in VALID_SEGMENTS\n",
    "               for wires in wires_list)\n",
    "\n",
    "test_m = dict(zip('deafgbc', SEGMENTS))\n",
    "test_m_fail = dict(zip('edafgbc', SEGMENTS))\n",
    "test_wires_list = [\n",
    "    'acedgfb',\n",
    "    'cdfbe',\n",
    "    'gcdfa',\n",
    "    'fbcad',\n",
    "    'dab',\n",
    "    'cefabd',\n",
    "    'cdfgeb',\n",
    "    'eafb',\n",
    "    'cagedb',\n",
    "    'ab',\n",
    "]\n",
    "assert is_valid_map(test_m, test_wires_list)\n",
    "assert not is_valid_map(test_m_fail, test_wires_list)"
   ]
  },
  {
   "cell_type": "code",
   "execution_count": null,
   "metadata": {},
   "outputs": [],
   "source": [
    "def wires_to_segments(m, wires):\n",
    "    \"\"\"given a mapping from wire to segment `m` and a string\n",
    "    representing active wires, return the corresponding active\n",
    "    segments\"\"\"\n",
    "    return sorted(m[w] for w in wires)\n",
    "\n",
    "test_m = dict(zip('deafgbc', SEGMENTS))\n",
    "assert wires_to_segments(test_m, 'acedgfb') == VALID_SEGMENTS[8]\n",
    "assert wires_to_segments(test_m, 'cdfbe') == VALID_SEGMENTS[5]\n",
    "assert wires_to_segments(test_m, 'gcdfa') == VALID_SEGMENTS[2]\n",
    "assert wires_to_segments(test_m, 'fbcad') == VALID_SEGMENTS[3]\n",
    "assert wires_to_segments(test_m, 'dab') == VALID_SEGMENTS[7]\n",
    "assert wires_to_segments(test_m, 'cefabd') == VALID_SEGMENTS[9]\n",
    "assert wires_to_segments(test_m, 'cdfgeb') == VALID_SEGMENTS[6]\n",
    "assert wires_to_segments(test_m, 'eafb') == VALID_SEGMENTS[4]\n",
    "assert wires_to_segments(test_m, 'cagedb') == VALID_SEGMENTS[0]\n",
    "assert wires_to_segments(test_m, 'ab') == VALID_SEGMENTS[1]"
   ]
  },
  {
   "cell_type": "code",
   "execution_count": null,
   "metadata": {},
   "outputs": [],
   "source": [
    "def wires_to_ints(m, vals):\n",
    "    return [VALID_SEGMENTS.index(wires_to_segments(m, val))\n",
    "            for val in vals]\n",
    "\n",
    "test_m = dict(zip('deafgbc', SEGMENTS))\n",
    "test_vals = [\n",
    "    'cdfeb',\n",
    "    'fcadb',\n",
    "    'cdfeb',\n",
    "    'cdbaf',\n",
    "]\n",
    "assert wires_to_ints(test_m, test_vals) == [5, 3, 5, 3]"
   ]
  },
  {
   "cell_type": "code",
   "execution_count": null,
   "metadata": {},
   "outputs": [],
   "source": [
    "def q_2(data):\n",
    "    parsed_output_vals = []\n",
    "    for (signal_patterns, output_vals) in parse_data(data):\n",
    "        # re-order signal_patterns to go from shortest to longest\n",
    "        # because there are so few valid 2, 3, and 4 element maps\n",
    "        signal_patterns = sorted(signal_patterns, key=lambda l: len(l))\n",
    "        \n",
    "        for wire_perm in permutations(SEGMENTS, 7):\n",
    "            wire_segment_map = dict(zip(wire_perm, SEGMENTS))\n",
    "            \n",
    "            if is_valid_map(wire_segment_map, signal_patterns):\n",
    "                parsed_output_vals.append(wires_to_ints(wire_segment_map, output_vals))\n",
    "    \n",
    "    # turn the parsed vals into ints\n",
    "    parsed_output_vals = [(1_000 * a + 100 * b + 10 * c + d)\n",
    "                          for (a, b, c, d) in parsed_output_vals]\n",
    "    return sum(parsed_output_vals)"
   ]
  },
  {
   "cell_type": "markdown",
   "metadata": {},
   "source": [
    "#### tests"
   ]
  },
  {
   "cell_type": "code",
   "execution_count": null,
   "metadata": {},
   "outputs": [],
   "source": [
    "def test_q_2():\n",
    "    LOGGER.setLevel(logging.DEBUG)\n",
    "    assert q_2(test_data) == 61229\n",
    "    LOGGER.setLevel(logging.INFO)"
   ]
  },
  {
   "cell_type": "code",
   "execution_count": null,
   "metadata": {
    "scrolled": true
   },
   "outputs": [],
   "source": [
    "test_q_2()"
   ]
  },
  {
   "cell_type": "markdown",
   "metadata": {},
   "source": [
    "#### answer"
   ]
  },
  {
   "cell_type": "code",
   "execution_count": null,
   "metadata": {
    "scrolled": true
   },
   "outputs": [],
   "source": [
    "q_2(load_data())"
   ]
  },
  {
   "cell_type": "markdown",
   "metadata": {},
   "source": [
    "fin"
   ]
  }
 ],
 "metadata": {
  "kernelspec": {
   "display_name": "Python 3",
   "language": "python",
   "name": "python3"
  },
  "language_info": {
   "codemirror_mode": {
    "name": "ipython",
    "version": 3
   },
   "file_extension": ".py",
   "mimetype": "text/x-python",
   "name": "python",
   "nbconvert_exporter": "python",
   "pygments_lexer": "ipython3",
   "version": "3.7.3"
  },
  "toc": {
   "base_numbering": 1,
   "nav_menu": {},
   "number_sections": true,
   "sideBar": true,
   "skip_h1_title": false,
   "title_cell": "Table of Contents",
   "title_sidebar": "Contents",
   "toc_cell": false,
   "toc_position": {},
   "toc_section_display": true,
   "toc_window_display": false
  }
 },
 "nbformat": 4,
 "nbformat_minor": 2
}
