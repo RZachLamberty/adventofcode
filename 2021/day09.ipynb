{
 "cells": [
  {
   "cell_type": "markdown",
   "metadata": {},
   "source": [
    "# day 9\n",
    "\n",
    "https://adventofcode.com/2021/day/9"
   ]
  },
  {
   "cell_type": "code",
   "execution_count": null,
   "metadata": {},
   "outputs": [],
   "source": [
    "import logging\n",
    "import logging.config\n",
    "import os\n",
    "\n",
    "import yaml"
   ]
  },
  {
   "cell_type": "code",
   "execution_count": null,
   "metadata": {},
   "outputs": [],
   "source": [
    "with open('../logging.yaml') as fp:\n",
    "    logging_config = yaml.load(fp, Loader=yaml.FullLoader)\n",
    "\n",
    "logging.config.dictConfig(logging_config)"
   ]
  },
  {
   "cell_type": "code",
   "execution_count": null,
   "metadata": {},
   "outputs": [],
   "source": [
    "FNAME = os.path.join('data', 'day09.txt')\n",
    "\n",
    "LOGGER = logging.getLogger('day09')"
   ]
  },
  {
   "cell_type": "markdown",
   "metadata": {},
   "source": [
    "## part 1\n",
    "\n",
    "### problem statement:"
   ]
  },
  {
   "cell_type": "markdown",
   "metadata": {},
   "source": [
    "#### loading data"
   ]
  },
  {
   "cell_type": "code",
   "execution_count": null,
   "metadata": {},
   "outputs": [],
   "source": [
    "test_data = \"\"\"2199943210\n",
    "3987894921\n",
    "9856789892\n",
    "8767896789\n",
    "9899965678\"\"\""
   ]
  },
  {
   "cell_type": "code",
   "execution_count": null,
   "metadata": {},
   "outputs": [],
   "source": [
    "def load_data(fname=FNAME):\n",
    "    with open(fname) as fp:\n",
    "        return fp.read().strip()"
   ]
  },
  {
   "cell_type": "code",
   "execution_count": null,
   "metadata": {},
   "outputs": [],
   "source": [
    "import numpy as np\n",
    "\n",
    "def parse_data(d):\n",
    "    return np.array([[int(_) for _ in line.strip()] for line in d.strip().split('\\n')])"
   ]
  },
  {
   "cell_type": "code",
   "execution_count": null,
   "metadata": {},
   "outputs": [],
   "source": [
    "parse_data(test_data)"
   ]
  },
  {
   "cell_type": "markdown",
   "metadata": {},
   "source": [
    "#### function def"
   ]
  },
  {
   "cell_type": "code",
   "execution_count": null,
   "metadata": {},
   "outputs": [],
   "source": [
    "def is_low_point(i, j, a):\n",
    "    v = a[i, j]\n",
    "    if (i + 1) != a.shape[0] and a[i + 1, j] <= v:\n",
    "        return False\n",
    "    elif (i - 1) != -1 and a[i - 1, j] <= v:\n",
    "        return False\n",
    "    elif (j + 1) != a.shape[1] and a[i, j + 1] <= v:\n",
    "        return False\n",
    "    elif (j - 1) != -1 and a[i, j - 1] <= v:\n",
    "        return False\n",
    "    return True"
   ]
  },
  {
   "cell_type": "code",
   "execution_count": null,
   "metadata": {},
   "outputs": [],
   "source": [
    "def q_1(data):\n",
    "    data = parse_data(data)\n",
    "    i_max = data.shape[0]\n",
    "    j_max = data.shape[1]\n",
    "    low_points = [(i, j)\n",
    "                  for i in range(i_max)\n",
    "                  for j in range(j_max)\n",
    "                  if is_low_point(i, j, data)]\n",
    "    low_vals = [data[i, j] for (i, j) in low_points]\n",
    "    return sum(low_vals) + len(low_vals)"
   ]
  },
  {
   "cell_type": "markdown",
   "metadata": {},
   "source": [
    "#### tests"
   ]
  },
  {
   "cell_type": "code",
   "execution_count": null,
   "metadata": {},
   "outputs": [],
   "source": [
    "def test_q_1():\n",
    "    LOGGER.setLevel(logging.DEBUG)\n",
    "    assert q_1(test_data) == 15\n",
    "    LOGGER.setLevel(logging.INFO)"
   ]
  },
  {
   "cell_type": "code",
   "execution_count": null,
   "metadata": {},
   "outputs": [],
   "source": [
    "test_q_1()"
   ]
  },
  {
   "cell_type": "markdown",
   "metadata": {},
   "source": [
    "#### answer"
   ]
  },
  {
   "cell_type": "code",
   "execution_count": null,
   "metadata": {},
   "outputs": [],
   "source": [
    "q_1(load_data())"
   ]
  },
  {
   "cell_type": "markdown",
   "metadata": {},
   "source": [
    "## part 2\n",
    "\n",
    "### problem statement:"
   ]
  },
  {
   "cell_type": "markdown",
   "metadata": {},
   "source": [
    "#### function def"
   ]
  },
  {
   "cell_type": "code",
   "execution_count": null,
   "metadata": {},
   "outputs": [],
   "source": [
    "def find_basin(pt, data):\n",
    "    \"\"\"grow outward in each direction from the pt until you\n",
    "    hit 9s or the edge of the array\"\"\"\n",
    "    basin = {pt,}\n",
    "    while True:\n",
    "        new_basin_pts = set()\n",
    "        for (i, j) in basin:\n",
    "            up = i - 1, j\n",
    "            down = i + 1, j\n",
    "            left = i, j - 1\n",
    "            right = i, j + 1\n",
    "            \n",
    "            if up not in basin and up[0] >= 0 and data[up] != 9:\n",
    "                new_basin_pts.add(up)\n",
    "            \n",
    "            if down not in basin and down[0] < data.shape[0] and data[down] != 9:\n",
    "                new_basin_pts.add(down)\n",
    "            \n",
    "            if left not in basin and left[1] >= 0 and data[left] != 9:\n",
    "                new_basin_pts.add(left)\n",
    "            \n",
    "            if right not in basin and right[1] < data.shape[1] and data[right] != 9:\n",
    "                new_basin_pts.add(right)\n",
    "        if len(new_basin_pts) == 0:\n",
    "            break\n",
    "        else:\n",
    "            basin = basin.union(new_basin_pts)\n",
    "    return basin"
   ]
  },
  {
   "cell_type": "code",
   "execution_count": null,
   "metadata": {},
   "outputs": [],
   "source": [
    "def find_basins(pts, data):\n",
    "    return {pt: find_basin(pt, data) for pt in pts}"
   ]
  },
  {
   "cell_type": "code",
   "execution_count": null,
   "metadata": {},
   "outputs": [],
   "source": [
    "def q_2(data):\n",
    "    data = parse_data(data)\n",
    "    i_max = data.shape[0]\n",
    "    j_max = data.shape[1]\n",
    "    low_points = [(i, j)\n",
    "                  for i in range(i_max)\n",
    "                  for j in range(j_max)\n",
    "                  if is_low_point(i, j, data)]\n",
    "    basins = find_basins(low_points, data)\n",
    "    basin_sizes = [len(v) for v in basins.values()]\n",
    "    three_largest = sorted(basin_sizes)[-3:]\n",
    "    a, b, c = three_largest\n",
    "    return a * b * c"
   ]
  },
  {
   "cell_type": "markdown",
   "metadata": {},
   "source": [
    "#### tests"
   ]
  },
  {
   "cell_type": "code",
   "execution_count": null,
   "metadata": {},
   "outputs": [],
   "source": [
    "def test_q_2():\n",
    "    LOGGER.setLevel(logging.DEBUG)\n",
    "    assert q_2(test_data) == 1134\n",
    "    LOGGER.setLevel(logging.INFO)"
   ]
  },
  {
   "cell_type": "code",
   "execution_count": null,
   "metadata": {
    "scrolled": true
   },
   "outputs": [],
   "source": [
    "test_q_2()"
   ]
  },
  {
   "cell_type": "markdown",
   "metadata": {},
   "source": [
    "#### answer"
   ]
  },
  {
   "cell_type": "code",
   "execution_count": null,
   "metadata": {
    "scrolled": true
   },
   "outputs": [],
   "source": [
    "q_2(load_data())"
   ]
  },
  {
   "cell_type": "markdown",
   "metadata": {},
   "source": [
    "fin"
   ]
  }
 ],
 "metadata": {
  "kernelspec": {
   "display_name": "Python 3",
   "language": "python",
   "name": "python3"
  },
  "language_info": {
   "codemirror_mode": {
    "name": "ipython",
    "version": 3
   },
   "file_extension": ".py",
   "mimetype": "text/x-python",
   "name": "python",
   "nbconvert_exporter": "python",
   "pygments_lexer": "ipython3",
   "version": "3.7.3"
  },
  "toc": {
   "base_numbering": 1,
   "nav_menu": {},
   "number_sections": true,
   "sideBar": true,
   "skip_h1_title": false,
   "title_cell": "Table of Contents",
   "title_sidebar": "Contents",
   "toc_cell": false,
   "toc_position": {},
   "toc_section_display": true,
   "toc_window_display": false
  }
 },
 "nbformat": 4,
 "nbformat_minor": 2
}
