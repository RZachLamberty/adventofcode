{
 "cells": [
  {
   "cell_type": "markdown",
   "metadata": {},
   "source": [
    "# day 24\n",
    "\n",
    "https://adventofcode.com/2021/day/24"
   ]
  },
  {
   "cell_type": "code",
   "execution_count": null,
   "metadata": {},
   "outputs": [],
   "source": [
    "import logging\n",
    "import logging.config\n",
    "import os\n",
    "\n",
    "import yaml"
   ]
  },
  {
   "cell_type": "code",
   "execution_count": null,
   "metadata": {},
   "outputs": [],
   "source": [
    "with open('../logging.yaml') as fp:\n",
    "    logging_config = yaml.load(fp, Loader=yaml.FullLoader)\n",
    "\n",
    "logging.config.dictConfig(logging_config)"
   ]
  },
  {
   "cell_type": "code",
   "execution_count": null,
   "metadata": {},
   "outputs": [],
   "source": [
    "FNAME = os.path.join('data', 'day24.txt')\n",
    "\n",
    "LOGGER = logging.getLogger('day24')"
   ]
  },
  {
   "cell_type": "markdown",
   "metadata": {},
   "source": [
    "## part 1\n",
    "\n",
    "### problem statement:"
   ]
  },
  {
   "cell_type": "markdown",
   "metadata": {},
   "source": [
    "#### loading data"
   ]
  },
  {
   "cell_type": "code",
   "execution_count": null,
   "metadata": {},
   "outputs": [],
   "source": [
    "test_data = []"
   ]
  },
  {
   "cell_type": "code",
   "execution_count": null,
   "metadata": {},
   "outputs": [],
   "source": [
    "def load_data(fname=FNAME):\n",
    "    with open(fname) as fp:\n",
    "        return [line.strip() for line in fp]"
   ]
  },
  {
   "cell_type": "markdown",
   "metadata": {},
   "source": [
    "#### function def"
   ]
  },
  {
   "cell_type": "code",
   "execution_count": null,
   "metadata": {},
   "outputs": [],
   "source": [
    "class ALU:\n",
    "    def __init__(self, w=0, x=0, y=0, z=0, inp=None):\n",
    "        self.d = dict(w=w, x=x, y=y, z=z)\n",
    "        self.inp = [int(c) for c in str(inp)] if inp is not None else None\n",
    "    \n",
    "    def proc(self, instr):\n",
    "        op, *rest = instr.split(\" \")\n",
    "        \n",
    "        a = rest[0]\n",
    "        if op == 'inp':\n",
    "            inp = self.inp.pop(0)\n",
    "            self.d[a] = inp\n",
    "            return\n",
    "        else:\n",
    "            b = rest[1]\n",
    "            try:\n",
    "                b_val = self.d[b]\n",
    "            except KeyError:\n",
    "                b_val = int(b)\n",
    "        \n",
    "        if op == 'add':\n",
    "            self.d[a] += b_val\n",
    "        elif op == 'mul':\n",
    "            self.d[a] *= b_val\n",
    "        elif op == 'div':\n",
    "            self.d[a] //= b_val\n",
    "        elif op == 'mod':\n",
    "            self.d[a] %= b_val\n",
    "        elif op == 'eql':\n",
    "            self.d[a] = int(self.d[a] == b_val)"
   ]
  },
  {
   "cell_type": "code",
   "execution_count": null,
   "metadata": {},
   "outputs": [],
   "source": [
    "def test1():\n",
    "    alu = ALU(inp=7)\n",
    "    alu.proc('inp x')\n",
    "    alu.proc('mul x -1')\n",
    "    assert alu.d == {'w': 0, 'x': -7, 'y': 0, 'z': 0}"
   ]
  },
  {
   "cell_type": "code",
   "execution_count": null,
   "metadata": {},
   "outputs": [],
   "source": [
    "def test2():\n",
    "    alu = ALU(inp=11)\n",
    "    alu.proc('inp z')\n",
    "    alu.proc('inp x')\n",
    "    alu.proc('mul z 3')\n",
    "    alu.proc('eql z x')\n",
    "    assert alu.d == {'w': 0, 'x': 1, 'y': 0, 'z': 0}"
   ]
  },
  {
   "cell_type": "code",
   "execution_count": null,
   "metadata": {},
   "outputs": [],
   "source": [
    "def test3():\n",
    "    alu = ALU()\n",
    "    alu.inp = [15]\n",
    "    alu.proc('inp w')\n",
    "    alu.proc('add z w')\n",
    "    alu.proc('mod z 2')\n",
    "    alu.proc('div w 2')\n",
    "    alu.proc('add y w')\n",
    "    alu.proc('mod y 2')\n",
    "    alu.proc('div w 2')\n",
    "    alu.proc('add x w')\n",
    "    alu.proc('mod x 2')\n",
    "    alu.proc('div w 2')\n",
    "    alu.proc('mod w 2')\n",
    "    assert alu.d == {'w': 1, 'x': 1, 'y': 1, 'z': 1}"
   ]
  },
  {
   "cell_type": "code",
   "execution_count": null,
   "metadata": {},
   "outputs": [],
   "source": [
    "test1()\n",
    "test2()\n",
    "test3()"
   ]
  },
  {
   "cell_type": "code",
   "execution_count": null,
   "metadata": {},
   "outputs": [],
   "source": [
    "# def q_1(data):\n",
    "#     for model_number in range(99_999_999_999_999, 11_111_111_111_111, -1):\n",
    "        "
   ]
  },
  {
   "cell_type": "markdown",
   "metadata": {},
   "source": [
    "#### tests"
   ]
  },
  {
   "cell_type": "code",
   "execution_count": null,
   "metadata": {},
   "outputs": [],
   "source": [
    "def test_q_1():\n",
    "    LOGGER.setLevel(logging.DEBUG)\n",
    "    assert q_1(test_data) == True\n",
    "    LOGGER.setLevel(logging.INFO)"
   ]
  },
  {
   "cell_type": "code",
   "execution_count": null,
   "metadata": {},
   "outputs": [],
   "source": [
    "test_q_1()"
   ]
  },
  {
   "cell_type": "markdown",
   "metadata": {},
   "source": [
    "#### answer"
   ]
  },
  {
   "cell_type": "code",
   "execution_count": null,
   "metadata": {},
   "outputs": [],
   "source": [
    "q_1(load_data())"
   ]
  },
  {
   "cell_type": "markdown",
   "metadata": {},
   "source": [
    "## part 2\n",
    "\n",
    "### problem statement:"
   ]
  },
  {
   "cell_type": "markdown",
   "metadata": {},
   "source": [
    "#### function def"
   ]
  },
  {
   "cell_type": "code",
   "execution_count": null,
   "metadata": {},
   "outputs": [],
   "source": [
    "def q_2(data):\n",
    "    return False"
   ]
  },
  {
   "cell_type": "markdown",
   "metadata": {},
   "source": [
    "#### tests"
   ]
  },
  {
   "cell_type": "code",
   "execution_count": null,
   "metadata": {},
   "outputs": [],
   "source": [
    "def test_q_2():\n",
    "    LOGGER.setLevel(logging.DEBUG)\n",
    "    assert q_2(test_data) == True\n",
    "    LOGGER.setLevel(logging.INFO)"
   ]
  },
  {
   "cell_type": "code",
   "execution_count": null,
   "metadata": {
    "scrolled": true
   },
   "outputs": [],
   "source": [
    "test_q_2()"
   ]
  },
  {
   "cell_type": "markdown",
   "metadata": {},
   "source": [
    "#### answer"
   ]
  },
  {
   "cell_type": "code",
   "execution_count": null,
   "metadata": {
    "scrolled": true
   },
   "outputs": [],
   "source": [
    "q_2(load_data())"
   ]
  },
  {
   "cell_type": "markdown",
   "metadata": {},
   "source": [
    "fin"
   ]
  },
  {
   "cell_type": "markdown",
   "metadata": {},
   "source": [
    "# online"
   ]
  },
  {
   "cell_type": "code",
   "execution_count": null,
   "metadata": {},
   "outputs": [],
   "source": [
    "p, q = 99999999999999, 11111111111111\n",
    "\n",
    "instr = load_data()\n",
    "stack = []\n",
    "for i in range(14):\n",
    "    a = int(instr[18*i+5].split()[-1])\n",
    "    b = int(instr[18*i+15].split()[-1])\n",
    "\n",
    "    if a > 0: stack+=[(i, b)]; continue\n",
    "    j, b = stack.pop()\n",
    "\n",
    "    p -= abs((a+b)*10**(13-[i,j][a>-b]))\n",
    "    q += abs((a+b)*10**(13-[i,j][a<-b]))"
   ]
  },
  {
   "cell_type": "code",
   "execution_count": null,
   "metadata": {},
   "outputs": [],
   "source": [
    "print(p, q)"
   ]
  }
 ],
 "metadata": {
  "kernelspec": {
   "display_name": "Python 3",
   "language": "python",
   "name": "python3"
  },
  "language_info": {
   "codemirror_mode": {
    "name": "ipython",
    "version": 3
   },
   "file_extension": ".py",
   "mimetype": "text/x-python",
   "name": "python",
   "nbconvert_exporter": "python",
   "pygments_lexer": "ipython3",
   "version": "3.7.3"
  },
  "toc": {
   "base_numbering": 1,
   "nav_menu": {},
   "number_sections": true,
   "sideBar": true,
   "skip_h1_title": false,
   "title_cell": "Table of Contents",
   "title_sidebar": "Contents",
   "toc_cell": false,
   "toc_position": {},
   "toc_section_display": true,
   "toc_window_display": false
  }
 },
 "nbformat": 4,
 "nbformat_minor": 2
}
