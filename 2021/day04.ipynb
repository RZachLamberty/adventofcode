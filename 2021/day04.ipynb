{
 "cells": [
  {
   "cell_type": "markdown",
   "metadata": {},
   "source": [
    "# day 4\n",
    "\n",
    "https://adventofcode.com/2021/day/4"
   ]
  },
  {
   "cell_type": "code",
   "execution_count": null,
   "metadata": {},
   "outputs": [],
   "source": [
    "import logging\n",
    "import logging.config\n",
    "import os\n",
    "\n",
    "import yaml"
   ]
  },
  {
   "cell_type": "code",
   "execution_count": null,
   "metadata": {},
   "outputs": [],
   "source": [
    "with open('../logging.yaml') as fp:\n",
    "    logging_config = yaml.load(fp, Loader=yaml.FullLoader)\n",
    "\n",
    "logging.config.dictConfig(logging_config)"
   ]
  },
  {
   "cell_type": "code",
   "execution_count": null,
   "metadata": {},
   "outputs": [],
   "source": [
    "FNAME = os.path.join('data', 'day04.txt')\n",
    "\n",
    "LOGGER = logging.getLogger('day04')"
   ]
  },
  {
   "cell_type": "markdown",
   "metadata": {},
   "source": [
    "## part 1\n",
    "\n",
    "### problem statement:"
   ]
  },
  {
   "cell_type": "markdown",
   "metadata": {},
   "source": [
    "#### loading data"
   ]
  },
  {
   "cell_type": "code",
   "execution_count": null,
   "metadata": {},
   "outputs": [],
   "source": [
    "test_data = \"\"\"7,4,9,5,11,17,23,2,0,14,21,24,10,16,13,6,15,25,12,22,18,20,8,19,3,26,1\n",
    "\n",
    "22 13 17 11  0\n",
    " 8  2 23  4 24\n",
    "21  9 14 16  7\n",
    " 6 10  3 18  5\n",
    " 1 12 20 15 19\n",
    "\n",
    " 3 15  0  2 22\n",
    " 9 18 13 17  5\n",
    "19  8  7 25 23\n",
    "20 11 10 24  4\n",
    "14 21 16 12  6\n",
    "\n",
    "14 21 17 24  4\n",
    "10 16 15  9 19\n",
    "18  8 23 26 20\n",
    "22 11 13  6  5\n",
    " 2  0 12  3  7\"\"\""
   ]
  },
  {
   "cell_type": "code",
   "execution_count": null,
   "metadata": {},
   "outputs": [],
   "source": [
    "def load_data(fname=FNAME):\n",
    "    with open(fname) as fp:\n",
    "        return fp.read()"
   ]
  },
  {
   "cell_type": "code",
   "execution_count": null,
   "metadata": {},
   "outputs": [],
   "source": [
    "def parse_data(d):\n",
    "    draws_and_boards = d.split('\\n\\n')\n",
    "    draws = {int(num): i for (i, num) in enumerate(draws_and_boards[0].strip().split(','))}\n",
    "    boards = [np.array([np.fromstring(line.strip(), sep=' ')\n",
    "                        for line in board_str.strip().split('\\n')])\n",
    "              for board_str in draws_and_boards[1:]]\n",
    "    return draws, boards"
   ]
  },
  {
   "cell_type": "markdown",
   "metadata": {},
   "source": [
    "#### function def"
   ]
  },
  {
   "cell_type": "code",
   "execution_count": null,
   "metadata": {},
   "outputs": [],
   "source": [
    "def find_winning_draw_number(draws, vals):\n",
    "    \"\"\"given a draws dict and a list of values, find the earliest draw\n",
    "    number that contains every value. return None if no such number exists\"\"\"\n",
    "    draw_nums = [draws.get(v) for v in vals]\n",
    "    # for now, assume this is not possible\n",
    "    # if None in draw_nums:\n",
    "    #    return None\n",
    "    return max(draw_nums)\n",
    "\n",
    "def find_first_win_for_board(draws, board):\n",
    "    \"\"\"given a draw dict and a board, find the first win\"\"\"\n",
    "    winning_i = winning_draw_number = None\n",
    "    \n",
    "    row_winning_draw_numbers = {\n",
    "        i_row: find_winning_draw_number(draws, row)\n",
    "        for (i_row, row) in enumerate(board)\n",
    "    }\n",
    "    row_winner, row_number = min(row_winning_draw_numbers.items(), key=lambda kv: kv[1])\n",
    "    \n",
    "    col_winning_draw_numbers = {\n",
    "        i_col: find_winning_draw_number(draws, board[:, i_col])\n",
    "        for i_col in range(board.shape[1])\n",
    "    }\n",
    "    col_winner, col_number = min(col_winning_draw_numbers.items(), key=lambda kv: kv[1])\n",
    "    \n",
    "    if row_number <= col_number:\n",
    "        winning_type = 'row'\n",
    "        winning_i = row_winner\n",
    "        winning_draw_number = row_number\n",
    "    else:\n",
    "        winning_type = 'col'\n",
    "        winning_i = col_winner\n",
    "        winning_draw_number = col_number\n",
    "    \n",
    "    return winning_type, winning_i, winning_draw_number"
   ]
  },
  {
   "cell_type": "code",
   "execution_count": null,
   "metadata": {},
   "outputs": [],
   "source": [
    "def find_first_win(draws, boards):\n",
    "    \"\"\"given multiple boards, find the first win of each, and\n",
    "    then the earliest win among them all\"\"\"\n",
    "    win_info = [(board_num,) + find_first_win_for_board(draws, board)\n",
    "                for (board_num, board) in enumerate(boards)]\n",
    "    winning_board = min(win_info, key=lambda wi: wi[-1])\n",
    "    return winning_board"
   ]
  },
  {
   "cell_type": "code",
   "execution_count": null,
   "metadata": {},
   "outputs": [],
   "source": [
    "def find_last_win(draws, boards):\n",
    "    \"\"\"given multiple boards, find the first win of each, and\n",
    "    then the last win among them all\"\"\"\n",
    "    win_info = [(board_num,) + find_first_win_for_board(draws, board)\n",
    "                for (board_num, board) in enumerate(boards)]\n",
    "    last_winning_board = max(win_info, key=lambda wi: wi[-1])\n",
    "    return last_winning_board"
   ]
  },
  {
   "cell_type": "code",
   "execution_count": null,
   "metadata": {},
   "outputs": [],
   "source": [
    "def score_board(draws, board, draw_num):\n",
    "    \"\"\"given a draw dict, a winning board, and a draw number for\n",
    "    which that board won, return the score of that board\"\"\"\n",
    "    drawn_numbers = {k for (k, v) in draws.items() if v <= draw_num}\n",
    "    unmarked_numbers = set(board.flatten()).difference(drawn_numbers)\n",
    "    last_drawn_number = [k for (k, v) in draws.items() if v == draw_num][0]\n",
    "    return sum(unmarked_numbers) * last_drawn_number"
   ]
  },
  {
   "cell_type": "code",
   "execution_count": null,
   "metadata": {},
   "outputs": [],
   "source": [
    "def q_1(data):\n",
    "    draws, boards = parse_data(data)\n",
    "    winning_board = find_first_win(draws, boards)\n",
    "    board_num, _, _, draw_num = winning_board\n",
    "    return score_board(draws, boards[board_num], draw_num)"
   ]
  },
  {
   "cell_type": "markdown",
   "metadata": {},
   "source": [
    "#### tests"
   ]
  },
  {
   "cell_type": "code",
   "execution_count": null,
   "metadata": {},
   "outputs": [],
   "source": [
    "def test_q_1():\n",
    "    LOGGER.setLevel(logging.DEBUG)\n",
    "    assert q_1(test_data) == 4512\n",
    "    LOGGER.setLevel(logging.INFO)"
   ]
  },
  {
   "cell_type": "code",
   "execution_count": null,
   "metadata": {},
   "outputs": [],
   "source": [
    "test_q_1()"
   ]
  },
  {
   "cell_type": "markdown",
   "metadata": {},
   "source": [
    "#### answer"
   ]
  },
  {
   "cell_type": "code",
   "execution_count": null,
   "metadata": {},
   "outputs": [],
   "source": [
    "q_1(load_data())"
   ]
  },
  {
   "cell_type": "markdown",
   "metadata": {},
   "source": [
    "## part 2\n",
    "\n",
    "### problem statement:"
   ]
  },
  {
   "cell_type": "markdown",
   "metadata": {},
   "source": [
    "#### function def"
   ]
  },
  {
   "cell_type": "code",
   "execution_count": null,
   "metadata": {},
   "outputs": [],
   "source": [
    "def q_2(data):\n",
    "    draws, boards = parse_data(data)\n",
    "    winning_board = find_last_win(draws, boards)\n",
    "    board_num, _, _, draw_num = winning_board\n",
    "    return score_board(draws, boards[board_num], draw_num)"
   ]
  },
  {
   "cell_type": "markdown",
   "metadata": {},
   "source": [
    "#### tests"
   ]
  },
  {
   "cell_type": "code",
   "execution_count": null,
   "metadata": {},
   "outputs": [],
   "source": [
    "def test_q_2():\n",
    "    LOGGER.setLevel(logging.DEBUG)\n",
    "    assert q_2(test_data) == 1924\n",
    "    LOGGER.setLevel(logging.INFO)"
   ]
  },
  {
   "cell_type": "code",
   "execution_count": null,
   "metadata": {
    "scrolled": true
   },
   "outputs": [],
   "source": [
    "test_q_2()"
   ]
  },
  {
   "cell_type": "markdown",
   "metadata": {},
   "source": [
    "#### answer"
   ]
  },
  {
   "cell_type": "code",
   "execution_count": null,
   "metadata": {
    "scrolled": true
   },
   "outputs": [],
   "source": [
    "q_2(load_data())"
   ]
  },
  {
   "cell_type": "markdown",
   "metadata": {},
   "source": [
    "fin"
   ]
  }
 ],
 "metadata": {
  "kernelspec": {
   "display_name": "Python 3",
   "language": "python",
   "name": "python3"
  },
  "language_info": {
   "codemirror_mode": {
    "name": "ipython",
    "version": 3
   },
   "file_extension": ".py",
   "mimetype": "text/x-python",
   "name": "python",
   "nbconvert_exporter": "python",
   "pygments_lexer": "ipython3",
   "version": "3.7.3"
  },
  "toc": {
   "base_numbering": 1,
   "nav_menu": {},
   "number_sections": true,
   "sideBar": true,
   "skip_h1_title": false,
   "title_cell": "Table of Contents",
   "title_sidebar": "Contents",
   "toc_cell": false,
   "toc_position": {},
   "toc_section_display": true,
   "toc_window_display": false
  }
 },
 "nbformat": 4,
 "nbformat_minor": 2
}
