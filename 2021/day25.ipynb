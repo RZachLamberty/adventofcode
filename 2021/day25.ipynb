{
 "cells": [
  {
   "cell_type": "markdown",
   "metadata": {},
   "source": [
    "# day 25\n",
    "\n",
    "https://adventofcode.com/2021/day/25"
   ]
  },
  {
   "cell_type": "code",
   "execution_count": null,
   "metadata": {},
   "outputs": [],
   "source": [
    "import logging\n",
    "import logging.config\n",
    "import os\n",
    "\n",
    "import yaml"
   ]
  },
  {
   "cell_type": "code",
   "execution_count": null,
   "metadata": {},
   "outputs": [],
   "source": [
    "with open('../logging.yaml') as fp:\n",
    "    logging_config = yaml.load(fp, Loader=yaml.FullLoader)\n",
    "\n",
    "logging.config.dictConfig(logging_config)"
   ]
  },
  {
   "cell_type": "code",
   "execution_count": null,
   "metadata": {},
   "outputs": [],
   "source": [
    "FNAME = os.path.join('data', 'day25.txt')\n",
    "\n",
    "LOGGER = logging.getLogger('day25')"
   ]
  },
  {
   "cell_type": "markdown",
   "metadata": {},
   "source": [
    "## part 1\n",
    "\n",
    "### problem statement:"
   ]
  },
  {
   "cell_type": "markdown",
   "metadata": {},
   "source": [
    "#### loading data"
   ]
  },
  {
   "cell_type": "code",
   "execution_count": null,
   "metadata": {},
   "outputs": [],
   "source": [
    "test_data = \"\"\"v...>>.vv>\n",
    ".vv>>.vv..\n",
    ">>.>v>...v\n",
    ">>v>>.>.v.\n",
    "v>v.vv.v..\n",
    ">.>>..v...\n",
    ".vv..>.>v.\n",
    "v.v..>>v.v\n",
    "....v..v.>\"\"\""
   ]
  },
  {
   "cell_type": "code",
   "execution_count": null,
   "metadata": {},
   "outputs": [],
   "source": [
    "def load_data(fname=FNAME):\n",
    "    with open(fname) as fp:\n",
    "        return fp.read().strip()"
   ]
  },
  {
   "cell_type": "code",
   "execution_count": null,
   "metadata": {},
   "outputs": [],
   "source": [
    "def parse_map(m):\n",
    "    easties = set()\n",
    "    southies = set()\n",
    "    for (i, line) in enumerate(m.split('\\n')):\n",
    "        for (j, char) in enumerate(line.strip()):\n",
    "            if char == '>':\n",
    "                easties.add((i, j))\n",
    "            elif char == 'v':\n",
    "                southies.add((i, j))\n",
    "            elif char != '.':\n",
    "                raise ValueError(\"Unknown character\")\n",
    "    return easties, southies, i + 1, j + 1"
   ]
  },
  {
   "cell_type": "markdown",
   "metadata": {},
   "source": [
    "#### function def"
   ]
  },
  {
   "cell_type": "code",
   "execution_count": null,
   "metadata": {},
   "outputs": [],
   "source": [
    "def step(i, j, direction, N):\n",
    "    if direction == '>':\n",
    "        return i, (j + 1) % N\n",
    "    elif direction == 'v':\n",
    "        return (i + 1) % N, j\n",
    "    else:\n",
    "        raise ValueError(\"Unknown direction\")"
   ]
  },
  {
   "cell_type": "code",
   "execution_count": null,
   "metadata": {},
   "outputs": [],
   "source": [
    "class Herds:\n",
    "    def __init__(self, easties, southies, n_i, n_j):\n",
    "        self.cucumbers = {'>': easties, 'v': southies}\n",
    "        self.N = {'>': n_j, 'v': n_i}\n",
    "    \n",
    "    @property\n",
    "    def all_cucumber_locations(self):\n",
    "        return set(self.cucumbers['>']).union(self.cucumbers['v'])\n",
    "    \n",
    "    def step(self):\n",
    "        num_moves = 0\n",
    "        for direction in '>v':\n",
    "            moves = self.get_valid_moves(direction)\n",
    "            num_moves += len(moves)\n",
    "            self.move(moves, direction)\n",
    "        return num_moves\n",
    "    \n",
    "    def get_valid_moves(self, direction):\n",
    "        moves = []\n",
    "        for cuc in self.cucumbers[direction]:\n",
    "            cuc_next = step(*cuc, direction, self.N[direction])\n",
    "            if cuc_next not in self.all_cucumber_locations:\n",
    "                moves.append((cuc, cuc_next))\n",
    "        return moves\n",
    "    \n",
    "    def move(self, moves, direction):\n",
    "        for (cuc, cuc_next) in moves:\n",
    "            self.cucumbers[direction].remove(cuc)\n",
    "            self.cucumbers[direction].add(cuc_next)\n",
    "    \n",
    "    def show(self):\n",
    "        for i in range(self.N['v']):\n",
    "            s = ''\n",
    "            for j in range(self.N['>']):\n",
    "                s += ('>' if (i, j) in self.cucumbers['>']\n",
    "                      else 'v' if (i, j) in self.cucumbers['v']\n",
    "                      else '.')\n",
    "            print(s)"
   ]
  },
  {
   "cell_type": "code",
   "execution_count": null,
   "metadata": {},
   "outputs": [],
   "source": [
    "m = '...>>>>>...'\n",
    "easties, southies, n_i, n_j = parse_map(m)\n",
    "h = Herds(easties, southies, n_i, n_j)\n",
    "print('inital setup')\n",
    "h.show()\n",
    "print()\n",
    "\n",
    "num_moves = h.step()\n",
    "print(f'after one step (num_moves = {num_moves})')\n",
    "h.show()\n",
    "print()\n",
    "\n",
    "num_moves = h.step()\n",
    "print(f'after two steps (num_moves = {num_moves})')\n",
    "h.show()"
   ]
  },
  {
   "cell_type": "code",
   "execution_count": null,
   "metadata": {},
   "outputs": [],
   "source": [
    "m = \"\"\"..........\n",
    ".>v....v..\n",
    ".......>..\n",
    "..........\"\"\"\n",
    "h = Herds(*parse_map(m))\n",
    "\n",
    "print('inital setup')\n",
    "h.show()\n",
    "print()\n",
    "\n",
    "num_moves = h.step()\n",
    "print(f'after one step (num_moves = {num_moves})')\n",
    "h.show()\n",
    "print()\n",
    "\n",
    "num_moves = h.step()\n",
    "print(f'after two steps (num_moves = {num_moves})')\n",
    "h.show()\n",
    "print()\n",
    "\n",
    "num_moves = h.step()\n",
    "print(f'after three steps (num_moves = {num_moves})')\n",
    "h.show()"
   ]
  },
  {
   "cell_type": "code",
   "execution_count": null,
   "metadata": {
    "scrolled": false
   },
   "outputs": [],
   "source": [
    "h = Herds(*parse_map(test_data))\n",
    "\n",
    "print(\"Initial state:\")\n",
    "h.show()\n",
    "print()\n",
    "\n",
    "print_steps = [1, 2, 3, 4, 5,\n",
    "               10, 20, 30, 40, 50,\n",
    "               55, 56, 57, 58]\n",
    "\n",
    "for i in range(1, 59):\n",
    "    num_moves = h.step()\n",
    "    if i in print_steps:\n",
    "        print(f\"After {i} steps\")\n",
    "        h.show()\n",
    "        print()"
   ]
  },
  {
   "cell_type": "code",
   "execution_count": null,
   "metadata": {},
   "outputs": [],
   "source": [
    "def q_1(data):\n",
    "    h = Herds(*parse_map(data))\n",
    "    step_num = 0\n",
    "    while True:\n",
    "        num_moves = h.step()\n",
    "        step_num += 1\n",
    "        LOGGER.debug(f\"step_num = {step_num}, num_moves = {num_moves}\")\n",
    "        if num_moves == 0:\n",
    "            return step_num\n",
    "        if step_num % 10 == 0:\n",
    "            LOGGER.info(f'step_num = {step_num}')"
   ]
  },
  {
   "cell_type": "markdown",
   "metadata": {},
   "source": [
    "#### tests"
   ]
  },
  {
   "cell_type": "code",
   "execution_count": null,
   "metadata": {},
   "outputs": [],
   "source": [
    "def test_q_1():\n",
    "    LOGGER.setLevel(logging.DEBUG)\n",
    "    assert q_1(test_data) == 58\n",
    "    LOGGER.setLevel(logging.INFO)"
   ]
  },
  {
   "cell_type": "code",
   "execution_count": null,
   "metadata": {},
   "outputs": [],
   "source": [
    "test_q_1()"
   ]
  },
  {
   "cell_type": "markdown",
   "metadata": {},
   "source": [
    "#### answer"
   ]
  },
  {
   "cell_type": "code",
   "execution_count": null,
   "metadata": {},
   "outputs": [],
   "source": [
    "q_1(load_data())"
   ]
  },
  {
   "cell_type": "markdown",
   "metadata": {},
   "source": [
    "## part 2\n",
    "\n",
    "### problem statement:"
   ]
  },
  {
   "cell_type": "markdown",
   "metadata": {},
   "source": [
    "#### function def"
   ]
  },
  {
   "cell_type": "code",
   "execution_count": null,
   "metadata": {},
   "outputs": [],
   "source": [
    "def q_2(data):\n",
    "    return False"
   ]
  },
  {
   "cell_type": "markdown",
   "metadata": {},
   "source": [
    "#### tests"
   ]
  },
  {
   "cell_type": "code",
   "execution_count": null,
   "metadata": {},
   "outputs": [],
   "source": [
    "def test_q_2():\n",
    "    LOGGER.setLevel(logging.DEBUG)\n",
    "    assert q_2(test_data) == True\n",
    "    LOGGER.setLevel(logging.INFO)"
   ]
  },
  {
   "cell_type": "code",
   "execution_count": null,
   "metadata": {
    "scrolled": true
   },
   "outputs": [],
   "source": [
    "test_q_2()"
   ]
  },
  {
   "cell_type": "markdown",
   "metadata": {},
   "source": [
    "#### answer"
   ]
  },
  {
   "cell_type": "code",
   "execution_count": null,
   "metadata": {
    "scrolled": true
   },
   "outputs": [],
   "source": [
    "q_2(load_data())"
   ]
  },
  {
   "cell_type": "markdown",
   "metadata": {},
   "source": [
    "fin"
   ]
  },
  {
   "cell_type": "code",
   "execution_count": null,
   "metadata": {},
   "outputs": [],
   "source": [
    "#!/usr/bin/python3\n",
    "import sys\n",
    "import heapq\n",
    "import itertools\n",
    "import re\n",
    "import ast\n",
    "from collections import defaultdict, Counter, deque\n",
    "from copy import deepcopy\n",
    "\n",
    "data = load_data()\n",
    "\n",
    "G = []\n",
    "for line in data.split('\\n'):\n",
    "    assert line.strip() == line\n",
    "    G.append(line)\n",
    "R = len(G)\n",
    "C = len(G[0])\n",
    "\n",
    "t = 0\n",
    "while True:\n",
    "    t += 1\n",
    "    moved = False\n",
    "    G2 = [[G[r][c] for c in range(C)] for r in range(R)]\n",
    "    for r in range(R):\n",
    "        for c in range(C):\n",
    "            if G[r][c] == '>':\n",
    "                if G[r][(c+1)%C] == '.':\n",
    "                    moved = True\n",
    "                    G2[r][(c+1)%C] = '>'\n",
    "                    G2[r][c] = '.'\n",
    "    G3 = [[G2[r][c] for c in range(C)] for r in range(R)]\n",
    "    for r in range(R):\n",
    "        for c in range(C):\n",
    "            if G2[r][c] == 'v' and G2[(r+1)%R][c] == '.':\n",
    "                moved = True\n",
    "                G3[(r+1)%R][c] = 'v'\n",
    "                G3[r][c] = '.'\n",
    "    if not moved:\n",
    "        print(t)\n",
    "        break\n",
    "    G = G3"
   ]
  },
  {
   "cell_type": "code",
   "execution_count": null,
   "metadata": {},
   "outputs": [],
   "source": []
  }
 ],
 "metadata": {
  "kernelspec": {
   "display_name": "Python 3",
   "language": "python",
   "name": "python3"
  },
  "language_info": {
   "codemirror_mode": {
    "name": "ipython",
    "version": 3
   },
   "file_extension": ".py",
   "mimetype": "text/x-python",
   "name": "python",
   "nbconvert_exporter": "python",
   "pygments_lexer": "ipython3",
   "version": "3.7.3"
  },
  "toc": {
   "base_numbering": 1,
   "nav_menu": {},
   "number_sections": true,
   "sideBar": true,
   "skip_h1_title": false,
   "title_cell": "Table of Contents",
   "title_sidebar": "Contents",
   "toc_cell": false,
   "toc_position": {},
   "toc_section_display": true,
   "toc_window_display": false
  }
 },
 "nbformat": 4,
 "nbformat_minor": 2
}
