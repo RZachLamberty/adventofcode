{
 "cells": [
  {
   "cell_type": "markdown",
   "metadata": {},
   "source": [
    "# day 22\n",
    "\n",
    "https://adventofcode.com/2021/day/22"
   ]
  },
  {
   "cell_type": "code",
   "execution_count": null,
   "metadata": {},
   "outputs": [],
   "source": [
    "import logging\n",
    "import logging.config\n",
    "import os\n",
    "\n",
    "import yaml"
   ]
  },
  {
   "cell_type": "code",
   "execution_count": null,
   "metadata": {},
   "outputs": [],
   "source": [
    "with open('../logging.yaml') as fp:\n",
    "    logging_config = yaml.load(fp, Loader=yaml.FullLoader)\n",
    "\n",
    "logging.config.dictConfig(logging_config)"
   ]
  },
  {
   "cell_type": "code",
   "execution_count": null,
   "metadata": {},
   "outputs": [],
   "source": [
    "FNAME = os.path.join('data', 'day22.txt')\n",
    "\n",
    "LOGGER = logging.getLogger('day22')"
   ]
  },
  {
   "cell_type": "markdown",
   "metadata": {},
   "source": [
    "## part 1\n",
    "\n",
    "### problem statement:"
   ]
  },
  {
   "cell_type": "markdown",
   "metadata": {},
   "source": [
    "#### loading data"
   ]
  },
  {
   "cell_type": "code",
   "execution_count": null,
   "metadata": {},
   "outputs": [],
   "source": [
    "test_data = \"\"\"on x=-20..26,y=-36..17,z=-47..7\n",
    "on x=-20..33,y=-21..23,z=-26..28\n",
    "on x=-22..28,y=-29..23,z=-38..16\n",
    "on x=-46..7,y=-6..46,z=-50..-1\n",
    "on x=-49..1,y=-3..46,z=-24..28\n",
    "on x=2..47,y=-22..22,z=-23..27\n",
    "on x=-27..23,y=-28..26,z=-21..29\n",
    "on x=-39..5,y=-6..47,z=-3..44\n",
    "on x=-30..21,y=-8..43,z=-13..34\n",
    "on x=-22..26,y=-27..20,z=-29..19\n",
    "off x=-48..-32,y=26..41,z=-47..-37\n",
    "on x=-12..35,y=6..50,z=-50..-2\n",
    "off x=-48..-32,y=-32..-16,z=-15..-5\n",
    "on x=-18..26,y=-33..15,z=-7..46\n",
    "off x=-40..-22,y=-38..-28,z=23..41\n",
    "on x=-16..35,y=-41..10,z=-47..6\n",
    "off x=-32..-23,y=11..30,z=-14..3\n",
    "on x=-49..-5,y=-3..45,z=-29..18\n",
    "off x=18..30,y=-20..-8,z=-3..13\n",
    "on x=-41..9,y=-7..43,z=-33..15\n",
    "on x=-54112..-39298,y=-85059..-49293,z=-27449..7877\n",
    "on x=967..23432,y=45373..81175,z=27513..53682\"\"\""
   ]
  },
  {
   "cell_type": "code",
   "execution_count": null,
   "metadata": {},
   "outputs": [],
   "source": [
    "test_data_2 = \"\"\"on x=-5..47,y=-31..22,z=-19..33\n",
    "on x=-44..5,y=-27..21,z=-14..35\n",
    "on x=-49..-1,y=-11..42,z=-10..38\n",
    "on x=-20..34,y=-40..6,z=-44..1\n",
    "off x=26..39,y=40..50,z=-2..11\n",
    "on x=-41..5,y=-41..6,z=-36..8\n",
    "off x=-43..-33,y=-45..-28,z=7..25\n",
    "on x=-33..15,y=-32..19,z=-34..11\n",
    "off x=35..47,y=-46..-34,z=-11..5\n",
    "on x=-14..36,y=-6..44,z=-16..29\n",
    "on x=-57795..-6158,y=29564..72030,z=20435..90618\n",
    "on x=36731..105352,y=-21140..28532,z=16094..90401\n",
    "on x=30999..107136,y=-53464..15513,z=8553..71215\n",
    "on x=13528..83982,y=-99403..-27377,z=-24141..23996\n",
    "on x=-72682..-12347,y=18159..111354,z=7391..80950\n",
    "on x=-1060..80757,y=-65301..-20884,z=-103788..-16709\n",
    "on x=-83015..-9461,y=-72160..-8347,z=-81239..-26856\n",
    "on x=-52752..22273,y=-49450..9096,z=54442..119054\n",
    "on x=-29982..40483,y=-108474..-28371,z=-24328..38471\n",
    "on x=-4958..62750,y=40422..118853,z=-7672..65583\n",
    "on x=55694..108686,y=-43367..46958,z=-26781..48729\n",
    "on x=-98497..-18186,y=-63569..3412,z=1232..88485\n",
    "on x=-726..56291,y=-62629..13224,z=18033..85226\n",
    "on x=-110886..-34664,y=-81338..-8658,z=8914..63723\n",
    "on x=-55829..24974,y=-16897..54165,z=-121762..-28058\n",
    "on x=-65152..-11147,y=22489..91432,z=-58782..1780\n",
    "on x=-120100..-32970,y=-46592..27473,z=-11695..61039\n",
    "on x=-18631..37533,y=-124565..-50804,z=-35667..28308\n",
    "on x=-57817..18248,y=49321..117703,z=5745..55881\n",
    "on x=14781..98692,y=-1341..70827,z=15753..70151\n",
    "on x=-34419..55919,y=-19626..40991,z=39015..114138\n",
    "on x=-60785..11593,y=-56135..2999,z=-95368..-26915\n",
    "on x=-32178..58085,y=17647..101866,z=-91405..-8878\n",
    "on x=-53655..12091,y=50097..105568,z=-75335..-4862\n",
    "on x=-111166..-40997,y=-71714..2688,z=5609..50954\n",
    "on x=-16602..70118,y=-98693..-44401,z=5197..76897\n",
    "on x=16383..101554,y=4615..83635,z=-44907..18747\n",
    "off x=-95822..-15171,y=-19987..48940,z=10804..104439\n",
    "on x=-89813..-14614,y=16069..88491,z=-3297..45228\n",
    "on x=41075..99376,y=-20427..49978,z=-52012..13762\n",
    "on x=-21330..50085,y=-17944..62733,z=-112280..-30197\n",
    "on x=-16478..35915,y=36008..118594,z=-7885..47086\n",
    "off x=-98156..-27851,y=-49952..43171,z=-99005..-8456\n",
    "off x=2032..69770,y=-71013..4824,z=7471..94418\n",
    "on x=43670..120875,y=-42068..12382,z=-24787..38892\n",
    "off x=37514..111226,y=-45862..25743,z=-16714..54663\n",
    "off x=25699..97951,y=-30668..59918,z=-15349..69697\n",
    "off x=-44271..17935,y=-9516..60759,z=49131..112598\n",
    "on x=-61695..-5813,y=40978..94975,z=8655..80240\n",
    "off x=-101086..-9439,y=-7088..67543,z=33935..83858\n",
    "off x=18020..114017,y=-48931..32606,z=21474..89843\n",
    "off x=-77139..10506,y=-89994..-18797,z=-80..59318\n",
    "off x=8476..79288,y=-75520..11602,z=-96624..-24783\n",
    "on x=-47488..-1262,y=24338..100707,z=16292..72967\n",
    "off x=-84341..13987,y=2429..92914,z=-90671..-1318\n",
    "off x=-37810..49457,y=-71013..-7894,z=-105357..-13188\n",
    "off x=-27365..46395,y=31009..98017,z=15428..76570\n",
    "off x=-70369..-16548,y=22648..78696,z=-1892..86821\n",
    "on x=-53470..21291,y=-120233..-33476,z=-44150..38147\n",
    "off x=-93533..-4276,y=-16170..68771,z=-104985..-24507\"\"\""
   ]
  },
  {
   "cell_type": "code",
   "execution_count": null,
   "metadata": {},
   "outputs": [],
   "source": [
    "def load_data(fname=FNAME):\n",
    "    with open(fname) as fp:\n",
    "        return fp.read().strip()"
   ]
  },
  {
   "cell_type": "code",
   "execution_count": null,
   "metadata": {},
   "outputs": [],
   "source": [
    "def parse_line(l):\n",
    "    on_off, xyz = l.strip().split(' ')\n",
    "    x, y, z = xyz.split(',')\n",
    "    x0, x1 = [int(_) for _ in x[2:].split('..')]\n",
    "    y0, y1 = [int(_) for _ in y[2:].split('..')]\n",
    "    z0, z1 = [int(_) for _ in z[2:].split('..')]\n",
    "    return on_off, (x0, x1), (y0, y1), (z0, z1)\n",
    "\n",
    "def parse_data(d):\n",
    "    return [parse_line(l) for l in d.strip().split('\\n')]"
   ]
  },
  {
   "cell_type": "markdown",
   "metadata": {},
   "source": [
    "#### function def"
   ]
  },
  {
   "cell_type": "code",
   "execution_count": null,
   "metadata": {},
   "outputs": [],
   "source": [
    "import itertools"
   ]
  },
  {
   "cell_type": "code",
   "execution_count": null,
   "metadata": {},
   "outputs": [],
   "source": [
    "from tqdm.notebook import tqdm\n",
    "\n",
    "def q_1(data):\n",
    "    grid = {}\n",
    "    instructions = parse_data(data)\n",
    "    for (on_off, (x0, x1), (y0, y1), (z0, z1)) in tqdm(instructions):\n",
    "        # clip the values to within the initialization area (we don't care outside)\n",
    "        x0 = max(x0, -50)\n",
    "        x1 = min(x1, 50)\n",
    "        y0 = max(y0, -50)\n",
    "        y1 = min(y1, 50)\n",
    "        z0 = max(z0, -50)\n",
    "        z1 = min(z1, 50)\n",
    "        for x, y, z in itertools.product(range(x0, x1 + 1), range(y0, y1 + 1), range(z0, z1 + 1)):\n",
    "            grid[x, y, z] = on_off == 'on'\n",
    "    return sum(grid.values())"
   ]
  },
  {
   "cell_type": "markdown",
   "metadata": {},
   "source": [
    "#### tests"
   ]
  },
  {
   "cell_type": "code",
   "execution_count": null,
   "metadata": {},
   "outputs": [],
   "source": [
    "def test_q_1():\n",
    "    LOGGER.setLevel(logging.DEBUG)\n",
    "    assert q_1(test_data) == 590784\n",
    "    LOGGER.setLevel(logging.INFO)"
   ]
  },
  {
   "cell_type": "code",
   "execution_count": null,
   "metadata": {},
   "outputs": [],
   "source": [
    "test_q_1()"
   ]
  },
  {
   "cell_type": "markdown",
   "metadata": {},
   "source": [
    "#### answer"
   ]
  },
  {
   "cell_type": "code",
   "execution_count": null,
   "metadata": {},
   "outputs": [],
   "source": [
    "q_1(load_data())"
   ]
  },
  {
   "cell_type": "markdown",
   "metadata": {},
   "source": [
    "## part 2\n",
    "\n",
    "### problem statement:"
   ]
  },
  {
   "cell_type": "markdown",
   "metadata": {},
   "source": [
    "#### function def"
   ]
  },
  {
   "cell_type": "code",
   "execution_count": null,
   "metadata": {},
   "outputs": [],
   "source": [
    "def apply_instructions_in_window(instructions, x_min, x_max, y_min, y_max, z_min, z_max):\n",
    "    if len(instructions) == 0:\n",
    "        return 0\n",
    "    grid = {}\n",
    "    for (on_off, (x0, x1), (y0, y1), (z0, z1)) in instructions:\n",
    "        # clip the values to within the initialization area (we don't care outside)\n",
    "        x0 = max(x0, x_min)\n",
    "        x1 = min(x1, x_max)\n",
    "        y0 = max(y0, y_min)\n",
    "        y1 = min(y1, y_max)\n",
    "        z0 = max(z0, z_min)\n",
    "        z1 = min(z1, z_max)\n",
    "        print(f\"x0, x1 = {x0}, {x1} | y0, y1 = {y0}, {y1} | z0, z1 = {z0}, {z1} | \")\n",
    "        for x, y, z in itertools.product(range(x0, x1 + 1), range(y0, y1 + 1), range(z0, z1 + 1)):\n",
    "            grid[x, y, z] = on_off == 'on'\n",
    "    return sum(grid.values())"
   ]
  },
  {
   "cell_type": "code",
   "execution_count": null,
   "metadata": {},
   "outputs": [],
   "source": [
    "def q_2(data):\n",
    "    num_on = 0\n",
    "    instructions = parse_data(data)\n",
    "#     for (i, (on_off, (x0, x1), (y0, y1), (z0, z1))) in enumerate(tqdm(instructions)):\n",
    "    for (i, (on_off, (x0, x1), (y0, y1), (z0, z1))) in enumerate(instructions):\n",
    "        # if I'm turning things on, I should add this volume minus any overlaps\n",
    "        # if I'm turning things off, I should add 0 minus any overlaps\n",
    "        if on_off == 'on':\n",
    "            v = (x1 - x0) * (y1 - y0) * (z1 - z0)\n",
    "        else:\n",
    "            v = 0\n",
    "        \n",
    "        # find out how many are already on from prior instructions, but *only within this window*\n",
    "        already_on = apply_instructions_in_window(\n",
    "            instructions[:i],\n",
    "            x_min=x0, x_max=x1,\n",
    "            y_min=y0, y_max=y1,\n",
    "            z_min=z0, z_max=z1,\n",
    "        )\n",
    "        num_on += (v - already_on)\n",
    "        num_on -= already_on\n",
    "    return num_on"
   ]
  },
  {
   "cell_type": "code",
   "execution_count": null,
   "metadata": {},
   "outputs": [],
   "source": [
    "# num_on = 0\n",
    "# instructions = parse_data(test_data_2)\n",
    "# i = 1\n",
    "# on_off, (x0, x1), (y0, y1), (z0, z1) = instructions[i]\n",
    "# v = (x1 - x0) * (y1 - y0) * (z1 - z0)\n",
    "\n",
    "# instructions = instructions[:i]\n",
    "# x_min = x0\n",
    "# x_max = x1\n",
    "# y_min = y0\n",
    "# y_max = y1\n",
    "# z_min = z0\n",
    "# z_max = z1\n",
    "\n",
    "# grid = {}\n",
    "# for (on_off, (x0, x1), (y0, y1), (z0, z1)) in tqdm(instructions):\n",
    "#     break\n",
    "\n",
    "# # clip the values to within the initialization area (we don't care outside)\n",
    "# x0 = max(x0, x_min)\n",
    "# x1 = min(x1, x_max)\n",
    "# y0 = max(y0, y_min)\n",
    "# y1 = min(y1, y_max)\n",
    "# z0 = max(z0, z_min)\n",
    "# z1 = min(z1, z_max)\n",
    "# for x, y, z in itertools.product(range(x0, x1 + 1), range(y0, y1 + 1), range(z0, z1 + 1)):\n",
    "#     grid[x, y, z] = on_off == 'on'\n",
    "\n",
    "# v, sum(grid.values()), v - sum(grid.values())"
   ]
  },
  {
   "cell_type": "code",
   "execution_count": null,
   "metadata": {},
   "outputs": [],
   "source": [
    "q_2(test_data_2)"
   ]
  },
  {
   "cell_type": "markdown",
   "metadata": {},
   "source": [
    "#### tests"
   ]
  },
  {
   "cell_type": "code",
   "execution_count": null,
   "metadata": {},
   "outputs": [],
   "source": [
    "def test_q_2():\n",
    "    LOGGER.setLevel(logging.DEBUG)\n",
    "    assert q_2(test_data_2) == 2758514936282235\n",
    "    LOGGER.setLevel(logging.INFO)"
   ]
  },
  {
   "cell_type": "code",
   "execution_count": null,
   "metadata": {},
   "outputs": [],
   "source": [
    "q_2(test_data_2)"
   ]
  },
  {
   "cell_type": "code",
   "execution_count": null,
   "metadata": {},
   "outputs": [],
   "source": [
    "2758514936282235\n",
    "2070405982500416"
   ]
  },
  {
   "cell_type": "code",
   "execution_count": null,
   "metadata": {
    "scrolled": true
   },
   "outputs": [],
   "source": [
    "test_q_2()"
   ]
  },
  {
   "cell_type": "markdown",
   "metadata": {},
   "source": [
    "#### answer"
   ]
  },
  {
   "cell_type": "code",
   "execution_count": null,
   "metadata": {
    "scrolled": true
   },
   "outputs": [],
   "source": [
    "q_2(load_data())"
   ]
  },
  {
   "cell_type": "markdown",
   "metadata": {},
   "source": [
    "fin"
   ]
  },
  {
   "cell_type": "code",
   "execution_count": null,
   "metadata": {},
   "outputs": [],
   "source": [
    "import re, collections\n",
    "\n",
    "with open('data/day22.txt') as fp:\n",
    "    lines = fp.read().strip().split('\\n')\n",
    "\n",
    "cubes = collections.Counter()\n",
    "for line in lines:\n",
    "    nsgn = 1 if line.split()[0] == \"on\" else -1\n",
    "    nx0, nx1, ny0, ny1, nz0, nz1 = map(int, re.findall(\"-?\\d+\", line))\n",
    "\n",
    "    update = collections.Counter()\n",
    "    for (ex0, ex1, ey0, ey1, ez0, ez1), esgn in cubes.items():\n",
    "        ix0 = max(nx0, ex0); ix1 = min(nx1, ex1)\n",
    "        iy0 = max(ny0, ey0); iy1 = min(ny1, ey1)\n",
    "        iz0 = max(nz0, ez0); iz1 = min(nz1, ez1)\n",
    "        if ix0 <= ix1 and iy0 <= iy1 and iz0 <= iz1:\n",
    "            update[(ix0, ix1, iy0, iy1, iz0, iz1)] -= esgn\n",
    "    if nsgn > 0:\n",
    "        update[(nx0, nx1, ny0, ny1, nz0, nz1)] += nsgn\n",
    "    cubes.update(update)\n",
    "\n",
    "print(sum((x1 - x0 + 1) * (y1 - y0 + 1) * (z1 - z0 + 1) * sgn\n",
    "          for (x0, x1, y0, y1, z0, z1), sgn in cubes.items()))"
   ]
  },
  {
   "cell_type": "code",
   "execution_count": null,
   "metadata": {},
   "outputs": [],
   "source": []
  }
 ],
 "metadata": {
  "kernelspec": {
   "display_name": "Python 3",
   "language": "python",
   "name": "python3"
  },
  "language_info": {
   "codemirror_mode": {
    "name": "ipython",
    "version": 3
   },
   "file_extension": ".py",
   "mimetype": "text/x-python",
   "name": "python",
   "nbconvert_exporter": "python",
   "pygments_lexer": "ipython3",
   "version": "3.7.3"
  },
  "toc": {
   "base_numbering": 1,
   "nav_menu": {},
   "number_sections": true,
   "sideBar": true,
   "skip_h1_title": false,
   "title_cell": "Table of Contents",
   "title_sidebar": "Contents",
   "toc_cell": false,
   "toc_position": {},
   "toc_section_display": true,
   "toc_window_display": false
  }
 },
 "nbformat": 4,
 "nbformat_minor": 2
}
