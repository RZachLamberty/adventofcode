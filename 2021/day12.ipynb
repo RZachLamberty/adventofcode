{
 "cells": [
  {
   "cell_type": "markdown",
   "metadata": {},
   "source": [
    "# day 12\n",
    "\n",
    "https://adventofcode.com/2021/day/12"
   ]
  },
  {
   "cell_type": "code",
   "execution_count": null,
   "metadata": {},
   "outputs": [],
   "source": [
    "import logging\n",
    "import logging.config\n",
    "import os\n",
    "\n",
    "import yaml"
   ]
  },
  {
   "cell_type": "code",
   "execution_count": null,
   "metadata": {},
   "outputs": [],
   "source": [
    "with open('../logging.yaml') as fp:\n",
    "    logging_config = yaml.load(fp, Loader=yaml.FullLoader)\n",
    "\n",
    "logging.config.dictConfig(logging_config)"
   ]
  },
  {
   "cell_type": "code",
   "execution_count": null,
   "metadata": {},
   "outputs": [],
   "source": [
    "FNAME = os.path.join('data', 'day12.txt')\n",
    "\n",
    "LOGGER = logging.getLogger('day12')"
   ]
  },
  {
   "cell_type": "markdown",
   "metadata": {},
   "source": [
    "## part 1\n",
    "\n",
    "### problem statement:"
   ]
  },
  {
   "cell_type": "markdown",
   "metadata": {},
   "source": [
    "#### loading data"
   ]
  },
  {
   "cell_type": "code",
   "execution_count": null,
   "metadata": {},
   "outputs": [],
   "source": [
    "test_data = \"\"\"start-A\n",
    "start-b\n",
    "A-c\n",
    "A-b\n",
    "b-d\n",
    "A-end\n",
    "b-end\"\"\"\n",
    "\n",
    "test_data_2 = \"\"\"dc-end\n",
    "HN-start\n",
    "start-kj\n",
    "dc-start\n",
    "dc-HN\n",
    "LN-dc\n",
    "HN-end\n",
    "kj-sa\n",
    "kj-HN\n",
    "kj-dc\"\"\"\n",
    "\n",
    "test_data_3 = \"\"\"fs-end\n",
    "he-DX\n",
    "fs-he\n",
    "start-DX\n",
    "pj-DX\n",
    "end-zg\n",
    "zg-sl\n",
    "zg-pj\n",
    "pj-he\n",
    "RW-he\n",
    "fs-DX\n",
    "pj-RW\n",
    "zg-RW\n",
    "start-pj\n",
    "he-WI\n",
    "zg-he\n",
    "pj-fs\n",
    "start-RW\"\"\""
   ]
  },
  {
   "cell_type": "code",
   "execution_count": null,
   "metadata": {},
   "outputs": [],
   "source": [
    "def load_data(fname=FNAME):\n",
    "    with open(fname) as fp:\n",
    "        return fp.read().strip()"
   ]
  },
  {
   "cell_type": "code",
   "execution_count": null,
   "metadata": {},
   "outputs": [],
   "source": [
    "import itertools\n",
    "import string\n",
    "import networkx as nx\n",
    "\n",
    "def parse_data(d, dupe_nodes=False):\n",
    "    g = nx.Graph()\n",
    "    for pair in d.split('\\n'):\n",
    "        a, b = pair.split('-')\n",
    "        g.add_edge(a, b)\n",
    "    \n",
    "    if dupe_nodes is True:\n",
    "        # now duplicate every small node\n",
    "        lowercase_nodes = [n for n in g.nodes if n.lower() == n and n not in ['start', 'end']]\n",
    "        for lowercase_node in lowercase_nodes:\n",
    "            new_node = f\"{lowercase_node}2\"\n",
    "            for neighbor in g.neighbors(lowercase_node):\n",
    "                g.add_edge(new_node, neighbor)\n",
    "        \n",
    "    g2 = nx.MultiGraph(g)\n",
    "    \n",
    "    # for start, end, and lowercase, nodes and regular lines\n",
    "    # uppercase --> new edges\n",
    "    cap_nodes = [n for n in g2.nodes if n.upper() == n]\n",
    "    \n",
    "    while len(cap_nodes) > 0:\n",
    "        cap_node_now = cap_nodes.pop()\n",
    "        cap_node_now_neighbors = set(g2.neighbors(cap_node_now))\n",
    "        for (a, b) in itertools.combinations(cap_node_now_neighbors, 2):\n",
    "            g2.add_edge(a, b)\n",
    "        \n",
    "        g2.remove_node(cap_node_now)\n",
    "    \n",
    "    return g2"
   ]
  },
  {
   "cell_type": "code",
   "execution_count": null,
   "metadata": {},
   "outputs": [],
   "source": [
    "g = parse_data(test_data)\n",
    "nx.draw_networkx(g, with_labels=True)"
   ]
  },
  {
   "cell_type": "code",
   "execution_count": null,
   "metadata": {},
   "outputs": [],
   "source": [
    "g = parse_data(test_data, dupe_nodes=True)\n",
    "nx.draw_networkx(g, with_labels=True)"
   ]
  },
  {
   "cell_type": "markdown",
   "metadata": {},
   "source": [
    "#### function def"
   ]
  },
  {
   "cell_type": "code",
   "execution_count": null,
   "metadata": {},
   "outputs": [],
   "source": [
    "from networkx.algorithms.simple_paths import all_simple_paths\n",
    "\n",
    "def q_1(data):\n",
    "    g = parse_data(data)    \n",
    "    return sum(1 for path in all_simple_paths(g, 'start', 'end'))"
   ]
  },
  {
   "cell_type": "markdown",
   "metadata": {},
   "source": [
    "#### tests"
   ]
  },
  {
   "cell_type": "code",
   "execution_count": null,
   "metadata": {},
   "outputs": [],
   "source": [
    "def test_q_1():\n",
    "    LOGGER.setLevel(logging.DEBUG)\n",
    "    assert q_1(test_data) == 10\n",
    "    assert q_1(test_data_2) == 19\n",
    "    assert q_1(test_data_3) == 226\n",
    "    LOGGER.setLevel(logging.INFO)"
   ]
  },
  {
   "cell_type": "code",
   "execution_count": null,
   "metadata": {},
   "outputs": [],
   "source": [
    "test_q_1()"
   ]
  },
  {
   "cell_type": "markdown",
   "metadata": {},
   "source": [
    "#### answer"
   ]
  },
  {
   "cell_type": "code",
   "execution_count": null,
   "metadata": {},
   "outputs": [],
   "source": [
    "q_1(load_data())"
   ]
  },
  {
   "cell_type": "markdown",
   "metadata": {},
   "source": [
    "## part 2\n",
    "\n",
    "### problem statement:"
   ]
  },
  {
   "cell_type": "markdown",
   "metadata": {},
   "source": [
    "#### function def"
   ]
  },
  {
   "cell_type": "code",
   "execution_count": null,
   "metadata": {},
   "outputs": [],
   "source": [
    "def is_ordered(path):\n",
    "    for (i, node) in enumerate(path):\n",
    "        if node[-1] == '2' and node[:-1] not in path[:i]:\n",
    "            return False\n",
    "    return True\n",
    "\n",
    "assert is_ordered(['start', 'b', 'd', 'b2', 'end'])\n",
    "assert not is_ordered(['start', 'b2', 'd', 'b', 'end'])\n",
    "assert is_ordered(['start', 'a' , 'end'])\n",
    "assert not is_ordered(['start', 'a2' , 'end'])"
   ]
  },
  {
   "cell_type": "code",
   "execution_count": null,
   "metadata": {},
   "outputs": [],
   "source": [
    "def q_2(data):\n",
    "    g = parse_data(data, dupe_nodes=True)\n",
    "    return [path for path in all_simple_paths(g, 'start', 'end')\n",
    "            if is_ordered(path)]\n",
    "    return sum(1 for path in all_simple_paths(g, 'start', 'end')\n",
    "               if is_ordered(path))"
   ]
  },
  {
   "cell_type": "code",
   "execution_count": null,
   "metadata": {},
   "outputs": [],
   "source": [
    "sorted(q_2(test_data))"
   ]
  },
  {
   "cell_type": "code",
   "execution_count": null,
   "metadata": {},
   "outputs": [],
   "source": [
    "# g = q_2(test_data)"
   ]
  },
  {
   "cell_type": "code",
   "execution_count": null,
   "metadata": {},
   "outputs": [],
   "source": [
    "# nx.draw_networkx(g, with_labels=True)"
   ]
  },
  {
   "cell_type": "markdown",
   "metadata": {},
   "source": [
    "#### tests"
   ]
  },
  {
   "cell_type": "code",
   "execution_count": null,
   "metadata": {},
   "outputs": [],
   "source": [
    "def test_q_2():\n",
    "    LOGGER.setLevel(logging.DEBUG)\n",
    "    assert q_2(test_data) == 36\n",
    "    assert q_2(test_data_2) == 103\n",
    "    assert q_2(test_data_3) == 3509\n",
    "    LOGGER.setLevel(logging.INFO)"
   ]
  },
  {
   "cell_type": "code",
   "execution_count": null,
   "metadata": {
    "scrolled": true
   },
   "outputs": [],
   "source": [
    "test_q_2()"
   ]
  },
  {
   "cell_type": "markdown",
   "metadata": {},
   "source": [
    "#### answer"
   ]
  },
  {
   "cell_type": "code",
   "execution_count": null,
   "metadata": {
    "scrolled": true
   },
   "outputs": [],
   "source": [
    "q_2(load_data())"
   ]
  },
  {
   "cell_type": "markdown",
   "metadata": {},
   "source": [
    "fin"
   ]
  },
  {
   "cell_type": "code",
   "execution_count": null,
   "metadata": {},
   "outputs": [],
   "source": [
    "from collections import defaultdict\n",
    "neighbours = defaultdict(list)\n",
    "\n",
    "for line in load_data().split('\\n'):\n",
    "    a, b = line.strip().split('-')\n",
    "    neighbours[a] += [b]\n",
    "    neighbours[b] += [a]\n",
    "\n",
    "def search(part, seen=set(), cave='start'):\n",
    "    if cave == 'end': return 1\n",
    "    if cave in seen:\n",
    "        if cave == 'start': return 0\n",
    "        if cave.islower():\n",
    "            if part == 1: return 0\n",
    "            else: part = 1\n",
    "\n",
    "    return sum(search(part, seen|{cave}, n)\n",
    "                 for n in neighbours[cave])\n",
    "\n",
    "print(search(part=1), search(part=2))"
   ]
  },
  {
   "cell_type": "code",
   "execution_count": null,
   "metadata": {},
   "outputs": [],
   "source": []
  }
 ],
 "metadata": {
  "kernelspec": {
   "display_name": "Python 3",
   "language": "python",
   "name": "python3"
  },
  "language_info": {
   "codemirror_mode": {
    "name": "ipython",
    "version": 3
   },
   "file_extension": ".py",
   "mimetype": "text/x-python",
   "name": "python",
   "nbconvert_exporter": "python",
   "pygments_lexer": "ipython3",
   "version": "3.7.3"
  },
  "toc": {
   "base_numbering": 1,
   "nav_menu": {},
   "number_sections": true,
   "sideBar": true,
   "skip_h1_title": false,
   "title_cell": "Table of Contents",
   "title_sidebar": "Contents",
   "toc_cell": false,
   "toc_position": {},
   "toc_section_display": true,
   "toc_window_display": false
  }
 },
 "nbformat": 4,
 "nbformat_minor": 2
}
