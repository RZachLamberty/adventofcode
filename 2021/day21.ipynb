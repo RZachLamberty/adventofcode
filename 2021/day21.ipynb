{
 "cells": [
  {
   "cell_type": "markdown",
   "metadata": {},
   "source": [
    "# day 21\n",
    "\n",
    "https://adventofcode.com/2021/day/21"
   ]
  },
  {
   "cell_type": "code",
   "execution_count": null,
   "metadata": {},
   "outputs": [],
   "source": [
    "import logging\n",
    "import logging.config\n",
    "import os\n",
    "\n",
    "import yaml"
   ]
  },
  {
   "cell_type": "code",
   "execution_count": null,
   "metadata": {},
   "outputs": [],
   "source": [
    "with open('../logging.yaml') as fp:\n",
    "    logging_config = yaml.load(fp, Loader=yaml.FullLoader)\n",
    "\n",
    "logging.config.dictConfig(logging_config)"
   ]
  },
  {
   "cell_type": "code",
   "execution_count": null,
   "metadata": {},
   "outputs": [],
   "source": [
    "FNAME = os.path.join('data', 'day21.txt')\n",
    "\n",
    "LOGGER = logging.getLogger('day21')"
   ]
  },
  {
   "cell_type": "markdown",
   "metadata": {},
   "source": [
    "## part 1\n",
    "\n",
    "### problem statement:"
   ]
  },
  {
   "cell_type": "markdown",
   "metadata": {},
   "source": [
    "#### loading data"
   ]
  },
  {
   "cell_type": "code",
   "execution_count": null,
   "metadata": {},
   "outputs": [],
   "source": [
    "# test_data = \"\"\"Player 1 starting position: 4\n",
    "# Player 2 starting position: 8\"\"\"\n",
    "test_data = [[1, 4], [2, 8]]"
   ]
  },
  {
   "cell_type": "code",
   "execution_count": null,
   "metadata": {},
   "outputs": [],
   "source": [
    "def load_data(fname=FNAME):\n",
    "    x = []\n",
    "    with open(fname) as fp:\n",
    "        for line in fp:\n",
    "            _, a, _, _, b = line.strip().split(' ')\n",
    "            x.append([int(a), int(b)])\n",
    "        return x"
   ]
  },
  {
   "cell_type": "code",
   "execution_count": null,
   "metadata": {},
   "outputs": [],
   "source": [
    "load_data()"
   ]
  },
  {
   "cell_type": "markdown",
   "metadata": {},
   "source": [
    "#### function def"
   ]
  },
  {
   "cell_type": "code",
   "execution_count": null,
   "metadata": {},
   "outputs": [],
   "source": [
    "def make_die():\n",
    "    num_rolls = 0\n",
    "    while True:\n",
    "        for i in range(1, 101):\n",
    "            num_rolls += 1\n",
    "            yield num_rolls, i"
   ]
  },
  {
   "cell_type": "code",
   "execution_count": null,
   "metadata": {},
   "outputs": [],
   "source": [
    "die = make_die()\n",
    "next(die), next(die), next(die)"
   ]
  },
  {
   "cell_type": "code",
   "execution_count": null,
   "metadata": {},
   "outputs": [],
   "source": [
    "next(die), next(die), next(die)"
   ]
  },
  {
   "cell_type": "code",
   "execution_count": null,
   "metadata": {},
   "outputs": [],
   "source": [
    "next(die), next(die), next(die)"
   ]
  },
  {
   "cell_type": "code",
   "execution_count": null,
   "metadata": {},
   "outputs": [],
   "source": [
    "def q_1(data):\n",
    "    game = {player: {'position': position - 1, 'score': 0}\n",
    "            for (player, position) in data}\n",
    "    die = make_die()\n",
    "    \n",
    "    while True:\n",
    "        players = sorted(game.keys())\n",
    "        for player in players:\n",
    "            roll_total = 0\n",
    "            for i in range(3):\n",
    "                num_rolls, roll = next(die)\n",
    "                roll_total += roll\n",
    "            \n",
    "            # move forward, then get your score\n",
    "            game[player]['position'] += roll_total\n",
    "            game[player]['position'] %= 10\n",
    "            game[player]['score'] += game[player]['position'] + 1\n",
    "            \n",
    "            if game[player]['score'] >= 1_000:\n",
    "                other_player = 2 if player == 1 else 1\n",
    "                other_score = game[other_player]['score']\n",
    "                return num_rolls * other_score"
   ]
  },
  {
   "cell_type": "markdown",
   "metadata": {},
   "source": [
    "#### tests"
   ]
  },
  {
   "cell_type": "code",
   "execution_count": null,
   "metadata": {},
   "outputs": [],
   "source": [
    "def test_q_1():\n",
    "    LOGGER.setLevel(logging.DEBUG)\n",
    "    assert q_1(test_data) == 739785\n",
    "    LOGGER.setLevel(logging.INFO)"
   ]
  },
  {
   "cell_type": "code",
   "execution_count": null,
   "metadata": {},
   "outputs": [],
   "source": [
    "test_q_1()"
   ]
  },
  {
   "cell_type": "markdown",
   "metadata": {},
   "source": [
    "#### answer"
   ]
  },
  {
   "cell_type": "code",
   "execution_count": null,
   "metadata": {},
   "outputs": [],
   "source": [
    "q_1(load_data())"
   ]
  },
  {
   "cell_type": "markdown",
   "metadata": {},
   "source": [
    "## part 2\n",
    "\n",
    "### problem statement:"
   ]
  },
  {
   "cell_type": "markdown",
   "metadata": {},
   "source": [
    "#### function def"
   ]
  },
  {
   "cell_type": "code",
   "execution_count": null,
   "metadata": {},
   "outputs": [],
   "source": [
    "def q_2(data):\n",
    "    return False"
   ]
  },
  {
   "cell_type": "markdown",
   "metadata": {},
   "source": [
    "#### tests"
   ]
  },
  {
   "cell_type": "code",
   "execution_count": null,
   "metadata": {},
   "outputs": [],
   "source": [
    "def test_q_2():\n",
    "    LOGGER.setLevel(logging.DEBUG)\n",
    "    assert q_2(test_data) == True\n",
    "    LOGGER.setLevel(logging.INFO)"
   ]
  },
  {
   "cell_type": "code",
   "execution_count": null,
   "metadata": {
    "scrolled": true
   },
   "outputs": [],
   "source": [
    "test_q_2()"
   ]
  },
  {
   "cell_type": "markdown",
   "metadata": {},
   "source": [
    "#### answer"
   ]
  },
  {
   "cell_type": "code",
   "execution_count": null,
   "metadata": {
    "scrolled": true
   },
   "outputs": [],
   "source": [
    "q_2(load_data())"
   ]
  },
  {
   "cell_type": "markdown",
   "metadata": {},
   "source": [
    "fin"
   ]
  },
  {
   "cell_type": "code",
   "execution_count": null,
   "metadata": {},
   "outputs": [],
   "source": [
    "from collections import defaultdict\n",
    "from collections import Counter\n",
    "\n",
    "with open('data/day21.txt') as fp:\n",
    "    ll = [int(x.split(\": \")[1]) for x in fp.read().strip().split('\\n')]\n",
    "\n",
    "dice = list(Counter(\n",
    "    i + j + k\n",
    "    for i in range(1, 4)\n",
    "    for j in range(1, 4)\n",
    "    for k in range(1, 4)\n",
    ").items())\n",
    "\n",
    "universes = {(0, ll[0], 0, ll[1]): 1}\n",
    "p1wins = 0\n",
    "p2wins = 0\n",
    "while universes:\n",
    "    nuv = defaultdict(int)\n",
    "    for state, cnt in list(universes.items()):\n",
    "        score1, pos1, score2, pos2 = state\n",
    "        for d, dcount in dice:\n",
    "            p1 = (pos1 + d - 1) % 10 + 1\n",
    "            s1 = score1 + p1\n",
    "            if s1 >= 21:\n",
    "                p1wins += cnt * dcount\n",
    "                continue\n",
    "            \n",
    "            # player 2 is nested here because the universe already branched\n",
    "            for d2, d2count in dice:\n",
    "                p2 = (pos2 + d2 - 1) % 10 + 1\n",
    "                s2 = score2 + p2\n",
    "                if s2 >= 21:\n",
    "                    p2wins += cnt * dcount * d2count\n",
    "                    continue\n",
    "                nuv[(s1, p1, s2, p2)] += cnt * dcount * d2count\n",
    "    universes = nuv\n",
    "\n",
    "print(max([p1wins, p2wins]))\n"
   ]
  },
  {
   "cell_type": "code",
   "execution_count": null,
   "metadata": {},
   "outputs": [],
   "source": []
  }
 ],
 "metadata": {
  "kernelspec": {
   "display_name": "Python 3",
   "language": "python",
   "name": "python3"
  },
  "language_info": {
   "codemirror_mode": {
    "name": "ipython",
    "version": 3
   },
   "file_extension": ".py",
   "mimetype": "text/x-python",
   "name": "python",
   "nbconvert_exporter": "python",
   "pygments_lexer": "ipython3",
   "version": "3.7.3"
  },
  "toc": {
   "base_numbering": 1,
   "nav_menu": {},
   "number_sections": true,
   "sideBar": true,
   "skip_h1_title": false,
   "title_cell": "Table of Contents",
   "title_sidebar": "Contents",
   "toc_cell": false,
   "toc_position": {},
   "toc_section_display": true,
   "toc_window_display": false
  }
 },
 "nbformat": 4,
 "nbformat_minor": 2
}
