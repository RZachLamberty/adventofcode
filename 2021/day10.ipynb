{
 "cells": [
  {
   "cell_type": "markdown",
   "metadata": {},
   "source": [
    "# day 10\n",
    "\n",
    "https://adventofcode.com/2021/day/10"
   ]
  },
  {
   "cell_type": "code",
   "execution_count": null,
   "metadata": {},
   "outputs": [],
   "source": [
    "import logging\n",
    "import logging.config\n",
    "import os\n",
    "\n",
    "import yaml"
   ]
  },
  {
   "cell_type": "code",
   "execution_count": null,
   "metadata": {},
   "outputs": [],
   "source": [
    "with open('../logging.yaml') as fp:\n",
    "    logging_config = yaml.load(fp, Loader=yaml.FullLoader)\n",
    "\n",
    "logging.config.dictConfig(logging_config)"
   ]
  },
  {
   "cell_type": "code",
   "execution_count": null,
   "metadata": {},
   "outputs": [],
   "source": [
    "FNAME = os.path.join('data', 'day10.txt')\n",
    "\n",
    "LOGGER = logging.getLogger('day10')"
   ]
  },
  {
   "cell_type": "markdown",
   "metadata": {},
   "source": [
    "## part 1\n",
    "\n",
    "### problem statement:"
   ]
  },
  {
   "cell_type": "markdown",
   "metadata": {},
   "source": [
    "#### loading data"
   ]
  },
  {
   "cell_type": "code",
   "execution_count": null,
   "metadata": {},
   "outputs": [],
   "source": [
    "test_data = \"\"\"[({(<(())[]>[[{[]{<()<>>\n",
    "[(()[<>])]({[<{<<[]>>(\n",
    "{([(<{}[<>[]}>{[]{[(<()>\n",
    "(((({<>}<{<{<>}{[]{[]{}\n",
    "[[<[([]))<([[{}[[()]]]\n",
    "[{[{({}]{}}([{[{{{}}([]\n",
    "{<[[]]>}<{[{[{[]{()[[[]\n",
    "[<(<(<(<{}))><([]([]()\n",
    "<{([([[(<>()){}]>(<<{{\n",
    "<{([{{}}[<[[[<>{}]]]>[]]\"\"\".split('\\n')"
   ]
  },
  {
   "cell_type": "code",
   "execution_count": null,
   "metadata": {},
   "outputs": [],
   "source": [
    "def load_data(fname=FNAME):\n",
    "    with open(fname) as fp:\n",
    "        return [line.strip() for line in fp]"
   ]
  },
  {
   "cell_type": "markdown",
   "metadata": {},
   "source": [
    "#### function def"
   ]
  },
  {
   "cell_type": "code",
   "execution_count": null,
   "metadata": {},
   "outputs": [],
   "source": [
    "close_to_open_map = {\n",
    "    ']': '[',\n",
    "    '>': '<',\n",
    "    '}': '{',\n",
    "    ')': '('\n",
    "}\n",
    "def find_first_syntax_error(line):\n",
    "    seen = []\n",
    "    for (i, c) in enumerate(line):\n",
    "        if c in '[{<(':\n",
    "            seen.append(c)\n",
    "        else:\n",
    "            if len(seen) == 0:\n",
    "                return i, c, None\n",
    "            \n",
    "            most_recent = seen[-1]\n",
    "            \n",
    "            for (c_close, c_open) in close_to_open_map.items():\n",
    "                if c == c_close:\n",
    "                    if most_recent == c_open:\n",
    "                        # valid close, update the stack\n",
    "                        seen = seen[:-1]\n",
    "                        break\n",
    "                    else:\n",
    "                        return i, c, None\n",
    "    return None, None, seen\n",
    "\n",
    "assert find_first_syntax_error('{([(<{}[<>[]}>{[]{[(<()>')[1] == '}'\n",
    "assert find_first_syntax_error('[[<[([]))<([[{}[[()]]]')[1] == ')'\n",
    "assert find_first_syntax_error('[{[{({}]{}}([{[{{{}}([]')[1] == ']'\n",
    "assert find_first_syntax_error('[<(<(<(<{}))><([]([]()')[1] == ')'\n",
    "assert find_first_syntax_error('<{([([[(<>()){}]>(<<{{')[1] == '>'\n",
    "assert find_first_syntax_error('[({(<(())[]>[[{[]{<()<>>')[1] is None"
   ]
  },
  {
   "cell_type": "code",
   "execution_count": null,
   "metadata": {},
   "outputs": [],
   "source": [
    "error_val = {\n",
    "    ']': 57,\n",
    "    '>': 25137,\n",
    "    '}': 1197,\n",
    "    ')': 3\n",
    "}\n",
    "\n",
    "def q_1(data):\n",
    "    s = 0\n",
    "    for line in data:\n",
    "        i, c, _ = find_first_syntax_error(line)\n",
    "        if i is not None:\n",
    "            s += error_val[c]\n",
    "    return s"
   ]
  },
  {
   "cell_type": "markdown",
   "metadata": {},
   "source": [
    "#### tests"
   ]
  },
  {
   "cell_type": "code",
   "execution_count": null,
   "metadata": {},
   "outputs": [],
   "source": [
    "def test_q_1():\n",
    "    LOGGER.setLevel(logging.DEBUG)\n",
    "    assert q_1(test_data) == 26397\n",
    "    LOGGER.setLevel(logging.INFO)"
   ]
  },
  {
   "cell_type": "code",
   "execution_count": null,
   "metadata": {},
   "outputs": [],
   "source": [
    "test_q_1()"
   ]
  },
  {
   "cell_type": "markdown",
   "metadata": {},
   "source": [
    "#### answer"
   ]
  },
  {
   "cell_type": "code",
   "execution_count": null,
   "metadata": {},
   "outputs": [],
   "source": [
    "q_1(load_data())"
   ]
  },
  {
   "cell_type": "markdown",
   "metadata": {},
   "source": [
    "## part 2\n",
    "\n",
    "### problem statement:"
   ]
  },
  {
   "cell_type": "markdown",
   "metadata": {},
   "source": [
    "#### function def"
   ]
  },
  {
   "cell_type": "code",
   "execution_count": null,
   "metadata": {},
   "outputs": [],
   "source": [
    "open_to_close_map = {\n",
    "    '[': ']',\n",
    "    '<': '>',\n",
    "    '{': '}',\n",
    "    '(': ')'\n",
    "}"
   ]
  },
  {
   "cell_type": "code",
   "execution_count": null,
   "metadata": {},
   "outputs": [],
   "source": [
    "completion_char_score = {\n",
    "    ')': 1,\n",
    "    ']': 2,\n",
    "    '}': 3,\n",
    "    '>': 4,\n",
    "}\n",
    "\n",
    "def score_completion(completion):\n",
    "    \"\"\"given list of closing chars\"\"\"\n",
    "    s = 0\n",
    "    for c in completion:\n",
    "        s *= 5\n",
    "        s += completion_char_score[c]\n",
    "    return s\n",
    "\n",
    "assert score_completion(list('}}]])})]')) == 288957\n",
    "assert score_completion(list(')}>]})')) == 5566\n",
    "assert score_completion(list('}}>}>))))')) == 1480781\n",
    "assert score_completion(list(']]}}]}]}>')) == 995444\n",
    "assert score_completion(list('])}>')) == 294"
   ]
  },
  {
   "cell_type": "code",
   "execution_count": null,
   "metadata": {},
   "outputs": [],
   "source": [
    "def q_2(data):\n",
    "    x = [find_first_syntax_error(line)\n",
    "         for line in data]\n",
    "    incomplete_seens = [seen for (i, c, seen) in x if i is None]\n",
    "    completions = [list(reversed([open_to_close_map[c] for c in seen]))\n",
    "                   for seen in incomplete_seens]\n",
    "    scores = list(sorted([score_completion(completion) for completion in completions]))\n",
    "    return scores[len(scores) // 2]"
   ]
  },
  {
   "cell_type": "code",
   "execution_count": null,
   "metadata": {},
   "outputs": [],
   "source": [
    "q_2(test_data)"
   ]
  },
  {
   "cell_type": "markdown",
   "metadata": {},
   "source": [
    "#### tests"
   ]
  },
  {
   "cell_type": "code",
   "execution_count": null,
   "metadata": {},
   "outputs": [],
   "source": [
    "def test_q_2():\n",
    "    LOGGER.setLevel(logging.DEBUG)\n",
    "    assert q_2(test_data) == 288957\n",
    "    LOGGER.setLevel(logging.INFO)"
   ]
  },
  {
   "cell_type": "code",
   "execution_count": null,
   "metadata": {
    "scrolled": true
   },
   "outputs": [],
   "source": [
    "test_q_2()"
   ]
  },
  {
   "cell_type": "markdown",
   "metadata": {},
   "source": [
    "#### answer"
   ]
  },
  {
   "cell_type": "code",
   "execution_count": null,
   "metadata": {
    "scrolled": true
   },
   "outputs": [],
   "source": [
    "q_2(load_data())"
   ]
  },
  {
   "cell_type": "markdown",
   "metadata": {},
   "source": [
    "fin"
   ]
  }
 ],
 "metadata": {
  "kernelspec": {
   "display_name": "Python 3",
   "language": "python",
   "name": "python3"
  },
  "language_info": {
   "codemirror_mode": {
    "name": "ipython",
    "version": 3
   },
   "file_extension": ".py",
   "mimetype": "text/x-python",
   "name": "python",
   "nbconvert_exporter": "python",
   "pygments_lexer": "ipython3",
   "version": "3.7.3"
  },
  "toc": {
   "base_numbering": 1,
   "nav_menu": {},
   "number_sections": true,
   "sideBar": true,
   "skip_h1_title": false,
   "title_cell": "Table of Contents",
   "title_sidebar": "Contents",
   "toc_cell": false,
   "toc_position": {},
   "toc_section_display": true,
   "toc_window_display": false
  }
 },
 "nbformat": 4,
 "nbformat_minor": 2
}
