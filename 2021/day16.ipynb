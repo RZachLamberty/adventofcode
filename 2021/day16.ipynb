{
 "cells": [
  {
   "cell_type": "markdown",
   "metadata": {},
   "source": [
    "# day 16\n",
    "\n",
    "https://adventofcode.com/2021/day/16"
   ]
  },
  {
   "cell_type": "code",
   "execution_count": null,
   "metadata": {},
   "outputs": [],
   "source": [
    "import logging\n",
    "import logging.config\n",
    "import os\n",
    "\n",
    "import yaml"
   ]
  },
  {
   "cell_type": "code",
   "execution_count": null,
   "metadata": {},
   "outputs": [],
   "source": [
    "with open('../logging.yaml') as fp:\n",
    "    logging_config = yaml.load(fp, Loader=yaml.FullLoader)\n",
    "\n",
    "logging.config.dictConfig(logging_config)"
   ]
  },
  {
   "cell_type": "code",
   "execution_count": null,
   "metadata": {},
   "outputs": [],
   "source": [
    "FNAME = os.path.join('data', 'day16.txt')\n",
    "\n",
    "LOGGER = logging.getLogger('day16')"
   ]
  },
  {
   "cell_type": "markdown",
   "metadata": {},
   "source": [
    "## part 1\n",
    "\n",
    "### problem statement:"
   ]
  },
  {
   "cell_type": "markdown",
   "metadata": {},
   "source": [
    "#### loading data"
   ]
  },
  {
   "cell_type": "code",
   "execution_count": null,
   "metadata": {},
   "outputs": [],
   "source": [
    "def hex_to_bin(h_str):\n",
    "    l = len(h_str)\n",
    "    return bin(int('0x' + h_str, 16))[2:].zfill(4 * l)\n",
    "\n",
    "assert hex_to_bin('D2FE28') == '110100101111111000101000'"
   ]
  },
  {
   "cell_type": "code",
   "execution_count": null,
   "metadata": {},
   "outputs": [],
   "source": [
    "test_data = []"
   ]
  },
  {
   "cell_type": "code",
   "execution_count": null,
   "metadata": {},
   "outputs": [],
   "source": [
    "def load_data(fname=FNAME):\n",
    "    with open(fname) as fp:\n",
    "        return fp.read().strip()"
   ]
  },
  {
   "cell_type": "code",
   "execution_count": null,
   "metadata": {},
   "outputs": [],
   "source": [
    "def read_bin(b):\n",
    "    \"\"\"given a bin str, parse it (possibly hierarchical)\"\"\"\n",
    "    ver = int(b[:3], 2)\n",
    "    typ = int(b[3: 6], 2)\n",
    "    \n",
    "    if typ == 4:\n",
    "        # literal value packet\n",
    "        ptr = 6\n",
    "        literal_parts = []\n",
    "        while True:\n",
    "            ind = b[ptr]\n",
    "            vals = b[ptr + 1: ptr + 5]\n",
    "            literal_parts.append(vals)\n",
    "            ptr += 5\n",
    "            if ind == '0':\n",
    "                break\n",
    "        contents = {'type': 'literal',\n",
    "                    'value': int(''.join(literal_parts), 2)}\n",
    "        remainder = b[ptr:]\n",
    "    else:\n",
    "        length_type_id = b[6]\n",
    "        contents = {'type': 'operator'}\n",
    "        \n",
    "        if length_type_id == '0':\n",
    "            # total bit length\n",
    "            total_bit_length = int(b[7: 7 + 15], 2)\n",
    "            contents['total_bit_length'] = total_bit_length\n",
    "            \n",
    "            # read the remaining string until we've consumed total_bit_length\n",
    "            sub_packets = []\n",
    "            consumed_so_far = 0\n",
    "            remainder = b[7 + 15:]\n",
    "            while consumed_so_far < total_bit_length:\n",
    "                sub_packet, consumed, remainder = read_bin(remainder)\n",
    "                sub_packets.append(sub_packet)\n",
    "                consumed_so_far += consumed\n",
    "            contents['value'] = sub_packets\n",
    "        else:\n",
    "            # num packets\n",
    "            num_packets = int(b[7: 7 + 11], 2)\n",
    "            contents['num_packets'] = num_packets\n",
    "            \n",
    "            # read the reamining string until we've built 3 sub packets\n",
    "            sub_packets = []\n",
    "            remainder = b[7 + 11:]\n",
    "            for i in range(num_packets):\n",
    "                sub_packet, consumed, remainder = read_bin(remainder)\n",
    "                sub_packets.append(sub_packet)\n",
    "            contents['value'] = sub_packets\n",
    "    consumed = len(b) - len(remainder)\n",
    "    return {'version': ver, 'type': typ, 'contents': contents}, consumed, remainder\n",
    "\n",
    "assert read_bin(hex_to_bin('D2FE28')) == (\n",
    "    {'version': 6,\n",
    "     'type': 4,\n",
    "     'contents': {'type': 'literal', 'value': 2021}},\n",
    "    21,\n",
    "    '000'\n",
    ")\n",
    "assert read_bin(hex_to_bin('38006F45291200')) == (\n",
    "    {'version': 1,\n",
    "     'type': 6,\n",
    "     'contents': {'type': 'operator',\n",
    "                  'total_bit_length': 27,\n",
    "                  'value': [{'version': 6, 'type': 4, 'contents': {'type': 'literal', 'value': 10}},\n",
    "                            {'version': 2, 'type': 4, 'contents': {'type': 'literal', 'value': 20}}]}},\n",
    "    49,\n",
    "    '0000000'\n",
    ")\n",
    "assert read_bin(hex_to_bin('EE00D40C823060')) ==(\n",
    "    {'version': 7,\n",
    "     'type': 3,\n",
    "     'contents': {'type': 'operator',\n",
    "                  'num_packets': 3,\n",
    "                  'value': [{'version': 2, 'type': 4, 'contents': {'type': 'literal', 'value': 1}},\n",
    "                            {'version': 4, 'type': 4, 'contents': {'type': 'literal', 'value': 2}},\n",
    "                            {'version': 1, 'type': 4, 'contents': {'type': 'literal', 'value': 3}}]}},\n",
    "    51,\n",
    "    '00000'\n",
    ")"
   ]
  },
  {
   "cell_type": "code",
   "execution_count": null,
   "metadata": {},
   "outputs": [],
   "source": [
    "def get_versions(d, versions=None):\n",
    "    if versions is None:\n",
    "        versions = []\n",
    "    versions.append(d['version'])\n",
    "    if d['contents']['type'] == 'operator':\n",
    "        for sub_packet in d['contents']['value']:\n",
    "            versions = get_versions(sub_packet, versions)\n",
    "    return versions\n",
    "\n",
    "assert get_versions(read_bin(hex_to_bin('D2FE28'))[0]) == [6]\n",
    "assert get_versions(read_bin(hex_to_bin('38006F45291200'))[0]) == [1, 6, 2]\n",
    "assert get_versions(read_bin(hex_to_bin('EE00D40C823060'))[0]) == [7, 2, 4, 1]"
   ]
  },
  {
   "cell_type": "markdown",
   "metadata": {},
   "source": [
    "#### function def"
   ]
  },
  {
   "cell_type": "code",
   "execution_count": null,
   "metadata": {},
   "outputs": [],
   "source": [
    "def q_1(data):\n",
    "    return sum(get_versions(read_bin(hex_to_bin(data))[0]))"
   ]
  },
  {
   "cell_type": "markdown",
   "metadata": {},
   "source": [
    "#### tests"
   ]
  },
  {
   "cell_type": "code",
   "execution_count": null,
   "metadata": {},
   "outputs": [],
   "source": [
    "def test_q_1():\n",
    "    LOGGER.setLevel(logging.DEBUG)\n",
    "    assert q_1('8A004A801A8002F478') == 16\n",
    "    assert q_1('620080001611562C8802118E34') == 12\n",
    "    assert q_1('C0015000016115A2E0802F182340') == 23\n",
    "    assert q_1('A0016C880162017C3686B18A3D4780') == 31\n",
    "    LOGGER.setLevel(logging.INFO)"
   ]
  },
  {
   "cell_type": "code",
   "execution_count": null,
   "metadata": {},
   "outputs": [],
   "source": [
    "test_q_1()"
   ]
  },
  {
   "cell_type": "markdown",
   "metadata": {},
   "source": [
    "#### answer"
   ]
  },
  {
   "cell_type": "code",
   "execution_count": null,
   "metadata": {},
   "outputs": [],
   "source": [
    "q_1(load_data())"
   ]
  },
  {
   "cell_type": "markdown",
   "metadata": {},
   "source": [
    "## part 2\n",
    "\n",
    "### problem statement:"
   ]
  },
  {
   "cell_type": "markdown",
   "metadata": {},
   "source": [
    "#### function def"
   ]
  },
  {
   "cell_type": "code",
   "execution_count": null,
   "metadata": {},
   "outputs": [],
   "source": [
    "def get_value(d):\n",
    "    dt = d['type']\n",
    "    values = d['contents']['value']\n",
    "    if dt == 0:\n",
    "        return sum([get_value(_) for _ in values])\n",
    "    elif dt == 1:\n",
    "        p = 1\n",
    "        for sub_packet in values:\n",
    "            p *= get_value(sub_packet)\n",
    "        return p\n",
    "    elif dt == 2:\n",
    "        return min([get_value(_) for _ in values])\n",
    "    elif dt == 3:\n",
    "        return max([get_value(_) for _ in values])\n",
    "    elif dt == 4:\n",
    "        return values\n",
    "    elif dt == 5:\n",
    "        a, b = values\n",
    "        return int(get_value(a) > get_value(b))\n",
    "    elif dt == 6:\n",
    "        a, b = values\n",
    "        return int(get_value(a) < get_value(b))\n",
    "    elif dt == 7:\n",
    "        a, b = values\n",
    "        return int(get_value(a) == get_value(b))\n",
    "    print(dt)\n",
    "    print(d)\n",
    "    raise NotImplementedError()"
   ]
  },
  {
   "cell_type": "code",
   "execution_count": null,
   "metadata": {},
   "outputs": [],
   "source": [
    "def q_2(data):\n",
    "    d = read_bin(hex_to_bin(data))[0]\n",
    "    return get_value(d)"
   ]
  },
  {
   "cell_type": "markdown",
   "metadata": {},
   "source": [
    "#### tests"
   ]
  },
  {
   "cell_type": "code",
   "execution_count": null,
   "metadata": {},
   "outputs": [],
   "source": [
    "def test_q_2():\n",
    "    LOGGER.setLevel(logging.DEBUG)\n",
    "    assert q_2('C200B40A82') == 3\n",
    "    assert q_2('04005AC33890') == 54\n",
    "    assert q_2('880086C3E88112') == 7\n",
    "    assert q_2('CE00C43D881120') == 9\n",
    "    assert q_2('D8005AC2A8F0') == 1\n",
    "    assert q_2('F600BC2D8F') == 0\n",
    "    assert q_2('9C005AC2F8F0') == 0\n",
    "    assert q_2('9C0141080250320F1802104A08') == 1\n",
    "    LOGGER.setLevel(logging.INFO)"
   ]
  },
  {
   "cell_type": "code",
   "execution_count": null,
   "metadata": {
    "scrolled": true
   },
   "outputs": [],
   "source": [
    "test_q_2()"
   ]
  },
  {
   "cell_type": "markdown",
   "metadata": {},
   "source": [
    "#### answer"
   ]
  },
  {
   "cell_type": "code",
   "execution_count": null,
   "metadata": {
    "scrolled": true
   },
   "outputs": [],
   "source": [
    "q_2(load_data())"
   ]
  },
  {
   "cell_type": "markdown",
   "metadata": {},
   "source": [
    "fin"
   ]
  }
 ],
 "metadata": {
  "kernelspec": {
   "display_name": "Python 3",
   "language": "python",
   "name": "python3"
  },
  "language_info": {
   "codemirror_mode": {
    "name": "ipython",
    "version": 3
   },
   "file_extension": ".py",
   "mimetype": "text/x-python",
   "name": "python",
   "nbconvert_exporter": "python",
   "pygments_lexer": "ipython3",
   "version": "3.7.3"
  },
  "toc": {
   "base_numbering": 1,
   "nav_menu": {},
   "number_sections": true,
   "sideBar": true,
   "skip_h1_title": false,
   "title_cell": "Table of Contents",
   "title_sidebar": "Contents",
   "toc_cell": false,
   "toc_position": {},
   "toc_section_display": true,
   "toc_window_display": false
  }
 },
 "nbformat": 4,
 "nbformat_minor": 2
}
