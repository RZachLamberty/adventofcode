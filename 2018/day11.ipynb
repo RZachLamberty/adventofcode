{
 "cells": [
  {
   "cell_type": "markdown",
   "metadata": {},
   "source": [
    "# day 11\n",
    "\n",
    "https://adventofcode.com/2018/day/11"
   ]
  },
  {
   "cell_type": "code",
   "execution_count": null,
   "metadata": {},
   "outputs": [],
   "source": [
    "import os\n",
    "\n",
    "import eri.logging as logging"
   ]
  },
  {
   "cell_type": "code",
   "execution_count": null,
   "metadata": {},
   "outputs": [],
   "source": [
    "LOGGER = logging.getLogger('day11')\n",
    "logging.configure()"
   ]
  },
  {
   "cell_type": "markdown",
   "metadata": {},
   "source": [
    "## part 1\n",
    "\n",
    "### problem statement:\n",
    "\n",
    "> You watch the Elves and their sleigh fade into the distance as they head toward the North Pole.\n",
    "> \n",
    "> Actually, you're the one fading. The falling sensation returns.\n",
    "> \n",
    "> The low fuel warning light is illuminated on your wrist-mounted device. Tapping it once causes it to project a hologram of the situation: a 300x300 grid of fuel cells and their current power levels, some negative. You're not sure what negative power means in the context of time travel, but it can't be good.\n",
    "> \n",
    "> Each fuel cell has a coordinate ranging from 1 to 300 in both the X (horizontal) and Y (vertical) direction. In X,Y notation, the top-left cell is 1,1, and the top-right cell is 300,1.\n",
    "> \n",
    "> The interface lets you select any 3x3 square of fuel cells. To increase your chances of getting to your destination, you decide to choose the 3x3 square with the largest total power.\n",
    "> \n",
    "> The power level in a given fuel cell can be found through the following process:\n",
    "> \n",
    "> + Find the fuel cell's rack ID, which is its X coordinate plus 10.\n",
    "> + Begin with a power level of the rack ID times the Y coordinate.\n",
    "> + Increase the power level by the value of the grid serial number (your puzzle input).\n",
    "> + Set the power level to itself multiplied by the rack ID.\n",
    "> + Keep only the hundreds digit of the power level (so 12345 becomes 3; numbers with no hundreds digit become 0).\n",
    "> + Subtract 5 from the power level.\n",
    "> \n",
    "> For example, to find the power level of the fuel cell at 3,5 in a grid with serial number 8:\n",
    "> \n",
    "> + The rack ID is 3 + 10 = 13.\n",
    "> + The power level starts at 13 * 5 = 65.\n",
    "> + Adding the serial number produces 65 + 8 = 73.\n",
    "> + Multiplying by the rack ID produces 73 * 13 = 949.\n",
    "> + The hundreds digit of 949 is 9.\n",
    "> + Subtracting 5 produces 9 - 5 = 4.\n",
    "> \n",
    "> So, the power level of this fuel cell is 4.\n",
    "> \n",
    "> Here are some more example power levels:\n",
    "> \n",
    "> + Fuel cell at  122,79, grid serial number 57: power level -5.\n",
    "> + Fuel cell at 217,196, grid serial number 39: power level  0.\n",
    "> + Fuel cell at 101,153, grid serial number 71: power level  4.\n",
    "> \n",
    "> Your goal is to find the 3x3 square which has the largest total power. The square must be entirely within the 300x300 grid. Identify this square using the X,Y coordinate of its top-left fuel cell. For example:\n",
    "> \n",
    "> For grid serial number 18, the largest total 3x3 square has a top-left corner of 33,45 (with a total power of 29); these fuel cells appear in the middle of this 5x5 region:\n",
    "> \n",
    ">     -2  -4   4   4   4\n",
    ">     -4   4   4   4  -5\n",
    ">      4   3   3   4  -4\n",
    ">      1   1   2   4  -3\n",
    ">     -1   0   2  -5  -2\n",
    "> \n",
    "> For grid serial number 42, the largest 3x3 square's top-left is 21,61 (with a total power of 30); they are in the middle of this region:\n",
    "> \n",
    ">     -3   4   2   2   2\n",
    ">     -4   4   3   3   4\n",
    ">     -5   3   3   4  -4\n",
    ">      4   3   3   4  -3\n",
    ">      3   3   3  -5  -1\n",
    "> \n",
    "> What is the X,Y coordinate of the top-left fuel cell of the 3x3 square with the largest total power?\n",
    "> \n",
    "> Your puzzle input is 9435."
   ]
  },
  {
   "cell_type": "markdown",
   "metadata": {},
   "source": [
    "#### loading data"
   ]
  },
  {
   "cell_type": "code",
   "execution_count": null,
   "metadata": {},
   "outputs": [],
   "source": [
    "def load_data():\n",
    "    return 9435"
   ]
  },
  {
   "cell_type": "markdown",
   "metadata": {},
   "source": [
    "#### function def"
   ]
  },
  {
   "cell_type": "code",
   "execution_count": null,
   "metadata": {},
   "outputs": [],
   "source": [
    "def power(x, y, serial_number):\n",
    "    rack_id = x + 10\n",
    "    p = rack_id * y\n",
    "    p += serial_number\n",
    "    p *= rack_id\n",
    "    p //= 100\n",
    "    p %= 10\n",
    "    p -= 5\n",
    "    return p"
   ]
  },
  {
   "cell_type": "code",
   "execution_count": null,
   "metadata": {},
   "outputs": [],
   "source": [
    "# tests\n",
    "assert power(3, 5, 8) == 4\n",
    "assert power(122, 79, 57) == -5\n",
    "assert power(217, 196, 39) == 0\n",
    "assert power(101, 153, 71) == 4"
   ]
  },
  {
   "cell_type": "code",
   "execution_count": null,
   "metadata": {},
   "outputs": [],
   "source": [
    "logging.getLogger('matplotlib').setLevel(logging.ERROR)\n",
    "import matplotlib.pyplot as plt\n",
    "import numpy as np\n",
    "import pandas as pd\n",
    "\n",
    "def grid(x_max=300, y_max=300, serial_number=0):\n",
    "    df = pd.DataFrame([\n",
    "        {'x': x, 'y': y, 'power': power(x, y, serial_number)}\n",
    "        for x in range(1, x_max + 1)\n",
    "        for y in range(1, x_max + 1)\n",
    "    ])\n",
    "    \n",
    "    return df.pivot(index='y', columns='x', values='power')"
   ]
  },
  {
   "cell_type": "markdown",
   "metadata": {},
   "source": [
    "##### example 1"
   ]
  },
  {
   "cell_type": "code",
   "execution_count": null,
   "metadata": {},
   "outputs": [],
   "source": [
    "g = grid(serial_number=18)"
   ]
  },
  {
   "cell_type": "code",
   "execution_count": null,
   "metadata": {},
   "outputs": [],
   "source": [
    "g.head()"
   ]
  },
  {
   "cell_type": "code",
   "execution_count": null,
   "metadata": {},
   "outputs": [],
   "source": [
    "fig, ax = plt.subplots(figsize=(10, 10))\n",
    "ax.matshow(g.values);"
   ]
  },
  {
   "cell_type": "code",
   "execution_count": null,
   "metadata": {},
   "outputs": [],
   "source": [
    "g.loc[44: 48, 32: 36]"
   ]
  },
  {
   "cell_type": "markdown",
   "metadata": {},
   "source": [
    "getting the 3x3 sums..."
   ]
  },
  {
   "cell_type": "code",
   "execution_count": null,
   "metadata": {},
   "outputs": [],
   "source": [
    "conv_mat = np.ones((3, 3))"
   ]
  },
  {
   "cell_type": "code",
   "execution_count": null,
   "metadata": {},
   "outputs": [],
   "source": [
    "from scipy import signal"
   ]
  },
  {
   "cell_type": "code",
   "execution_count": null,
   "metadata": {},
   "outputs": [],
   "source": [
    "z = g.loc[44: 48, 32: 36].values.copy()\n",
    "z"
   ]
  },
  {
   "cell_type": "code",
   "execution_count": null,
   "metadata": {},
   "outputs": [],
   "source": [
    "signal.convolve2d(g, conv_mat, mode='valid').shape"
   ]
  },
  {
   "cell_type": "code",
   "execution_count": null,
   "metadata": {},
   "outputs": [],
   "source": [
    "def total_power(df, conv_mat):\n",
    "    return pd.DataFrame(\n",
    "        signal.convolve2d(df, conv_mat, mode='valid'),\n",
    "        index=df.index[:-conv_mat.shape[0] + 1],\n",
    "        columns=df.columns[:-conv_mat.shape[1] + 1],\n",
    "    )"
   ]
  },
  {
   "cell_type": "code",
   "execution_count": null,
   "metadata": {},
   "outputs": [],
   "source": [
    "tp = total_power(g, conv_mat)"
   ]
  },
  {
   "cell_type": "code",
   "execution_count": null,
   "metadata": {},
   "outputs": [],
   "source": [
    "assert tp.loc[45, 33] == 29"
   ]
  },
  {
   "cell_type": "code",
   "execution_count": null,
   "metadata": {},
   "outputs": [],
   "source": [
    "tp.max().idxmax()"
   ]
  },
  {
   "cell_type": "code",
   "execution_count": null,
   "metadata": {},
   "outputs": [],
   "source": [
    "def max_power(tp):\n",
    "    \"\"\"return the x, y values of max tp\"\"\"\n",
    "    xmax = tp.max().idxmax()\n",
    "    ymax = tp.max(axis=1).idxmax()\n",
    "    return xmax, ymax"
   ]
  },
  {
   "cell_type": "code",
   "execution_count": null,
   "metadata": {},
   "outputs": [],
   "source": [
    "max_power(tp)"
   ]
  },
  {
   "cell_type": "code",
   "execution_count": null,
   "metadata": {},
   "outputs": [],
   "source": [
    "assert max_power(tp) == (33, 45)"
   ]
  },
  {
   "cell_type": "markdown",
   "metadata": {},
   "source": [
    "##### example 2"
   ]
  },
  {
   "cell_type": "code",
   "execution_count": null,
   "metadata": {},
   "outputs": [],
   "source": [
    "g = grid(serial_number=42)\n",
    "tp = total_power(g, conv_mat)\n",
    "xmax, ymax = max_power(tp)\n",
    "\n",
    "assert xmax == 21\n",
    "assert ymax == 61\n",
    "assert tp.loc[ymax, xmax] == 30"
   ]
  },
  {
   "cell_type": "markdown",
   "metadata": {},
   "source": [
    "#### answer"
   ]
  },
  {
   "cell_type": "code",
   "execution_count": null,
   "metadata": {},
   "outputs": [],
   "source": [
    "g = grid(serial_number=load_data())\n",
    "tp = total_power(g, conv_mat)\n",
    "xmax, ymax = max_power(tp)\n",
    "xmax, ymax"
   ]
  },
  {
   "cell_type": "markdown",
   "metadata": {},
   "source": [
    "## part 2\n",
    "\n",
    "### problem statement:\n",
    "\n",
    "> You discover a dial on the side of the device; it seems to let you select a square of any size, not just 3x3. Sizes from 1x1 to 300x300 are supported.\n",
    "> \n",
    "> Realizing this, you now must find the square of any size with the largest total power. Identify this square by including its size as a third parameter after the top-left coordinate: a 9x9 square with a top-left corner of 3,5 is identified as 3,5,9.\n",
    "> \n",
    "> For example:\n",
    "> \n",
    "> + For grid serial number 18, the largest total square (with a total power of 113) is 16x16 and has a top-left corner of 90,269, so its identifier is 90,269,16.\n",
    "> + For grid serial number 42, the largest total square (with a total power of 119) is 12x12 and has a top-left corner of 232,251, so its identifier is 232,251,12.\n",
    "> \n",
    "> What is the X,Y,size identifier of the square with the largest total power?"
   ]
  },
  {
   "cell_type": "markdown",
   "metadata": {},
   "source": [
    "#### function def"
   ]
  },
  {
   "cell_type": "code",
   "execution_count": null,
   "metadata": {},
   "outputs": [],
   "source": [
    "import tqdm\n",
    "\n",
    "def q_2(data):\n",
    "    g = grid(serial_number=data)\n",
    "    history = []\n",
    "    for i in tqdm.tnrange(2, 300):\n",
    "        conv_mat = np.ones((i, i))\n",
    "        tp = total_power(g, conv_mat)\n",
    "        xmax, ymax = max_power(tp)\n",
    "        tp = tp.loc[ymax, xmax]\n",
    "        history.append({\n",
    "            'grid_size': i,\n",
    "            'total_power': tp,\n",
    "            'xmax': xmax,\n",
    "            'ymax': ymax\n",
    "        })\n",
    "    history = pd.DataFrame(history)\n",
    "    return history"
   ]
  },
  {
   "cell_type": "markdown",
   "metadata": {},
   "source": [
    "##### examples"
   ]
  },
  {
   "cell_type": "code",
   "execution_count": null,
   "metadata": {},
   "outputs": [],
   "source": [
    "df_hist = q_2(18)"
   ]
  },
  {
   "cell_type": "code",
   "execution_count": null,
   "metadata": {},
   "outputs": [],
   "source": [
    "df_hist.loc[df_hist.total_power.idxmax()]"
   ]
  },
  {
   "cell_type": "code",
   "execution_count": null,
   "metadata": {},
   "outputs": [],
   "source": [
    "df_hist = q_2(42)"
   ]
  },
  {
   "cell_type": "code",
   "execution_count": null,
   "metadata": {},
   "outputs": [],
   "source": [
    "df_hist.loc[df_hist.total_power.idxmax()]"
   ]
  },
  {
   "cell_type": "markdown",
   "metadata": {},
   "source": [
    "#### answer"
   ]
  },
  {
   "cell_type": "code",
   "execution_count": null,
   "metadata": {
    "scrolled": true
   },
   "outputs": [],
   "source": [
    "df_hist = q_2(load_data())"
   ]
  },
  {
   "cell_type": "code",
   "execution_count": null,
   "metadata": {},
   "outputs": [],
   "source": [
    "df_hist.loc[df_hist.total_power.idxmax()]"
   ]
  },
  {
   "cell_type": "code",
   "execution_count": null,
   "metadata": {},
   "outputs": [],
   "source": [
    "'{2:.0f},{3:.0f},{0:.0f}'.format(*(df_hist.loc[df_hist.total_power.idxmax()]))"
   ]
  },
  {
   "cell_type": "markdown",
   "metadata": {},
   "source": [
    "fin"
   ]
  }
 ],
 "metadata": {
  "kernelspec": {
   "display_name": "Python 3",
   "language": "python",
   "name": "python3"
  },
  "language_info": {
   "codemirror_mode": {
    "name": "ipython",
    "version": 3
   },
   "file_extension": ".py",
   "mimetype": "text/x-python",
   "name": "python",
   "nbconvert_exporter": "python",
   "pygments_lexer": "ipython3",
   "version": "3.6.7"
  }
 },
 "nbformat": 4,
 "nbformat_minor": 2
}
