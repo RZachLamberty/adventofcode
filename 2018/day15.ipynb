{
 "cells": [
  {
   "cell_type": "markdown",
   "metadata": {},
   "source": [
    "# day 15\n",
    "\n",
    "https://adventofcode.com/2018/day/15"
   ]
  },
  {
   "cell_type": "code",
   "execution_count": null,
   "metadata": {},
   "outputs": [],
   "source": [
    "import os\n",
    "\n",
    "import eri.logging as logging"
   ]
  },
  {
   "cell_type": "code",
   "execution_count": null,
   "metadata": {},
   "outputs": [],
   "source": [
    "FNAME = os.path.join('data', 'day15.txt')\n",
    "\n",
    "LOGGER = logging.getLogger('day15')\n",
    "logging.configure()"
   ]
  },
  {
   "cell_type": "markdown",
   "metadata": {},
   "source": [
    "## part 1\n",
    "\n",
    "### problem statement:\n",
    "\n",
    "> Having perfected their hot chocolate, the Elves have a new problem: the Goblins that live in these caves will do anything to steal it. Looks like they're here for a fight.\n",
    "> \n",
    "> You scan the area, generating a map of the walls (#), open cavern (.), and starting position of every Goblin (G) and Elf (E) (your puzzle input).\n",
    "> \n",
    "> Combat proceeds in rounds; in each round, each unit that is still alive takes a turn, resolving all of its actions before the next unit's turn begins. On each unit's turn, it tries to move into range of an enemy (if it isn't already) and then attack (if it is in range).\n",
    "> \n",
    "> All units are very disciplined and always follow very strict combat rules. Units never move or attack diagonally, as doing so would be dishonorable. When multiple choices are equally valid, ties are broken in reading order: top-to-bottom, then left-to-right. For instance, the order in which units take their turns within a round is the reading order of their starting positions in that round, regardless of the type of unit or whether other units have moved after the round started. For example:\n",
    "> \n",
    ">                      would take their\n",
    ">     These units:   turns in this order:\n",
    ">       #######           #######\n",
    ">       #.G.E.#           #.1.2.#\n",
    ">       #E.G.E#           #3.4.5#\n",
    ">       #.G.E.#           #.6.7.#\n",
    ">       #######           #######\n",
    "> \n",
    "> Each unit begins its turn by identifying all possible targets (enemy units). If no targets remain, combat ends.\n",
    "> \n",
    "> Then, the unit identifies all of the open squares (.) that are in range of each target; these are the squares which are adjacent (immediately up, down, left, or right) to any target and which aren't already occupied by a wall or another unit. Alternatively, the unit might already be in range of a target. If the unit is not already in range of a target, and there are no open squares which are in range of a target, the unit ends its turn.\n",
    "> \n",
    "> If the unit is already in range of a target, it does not move, but continues its turn with an attack. Otherwise, since it is not in range of a target, it moves.\n",
    "> \n",
    "> To move, the unit first considers the squares that are in range and determines which of those squares it could reach in the fewest steps. A step is a single movement to any adjacent (immediately up, down, left, or right) open (.) square. Units cannot move into walls or other units. The unit does this while considering the current positions of units and does not do any prediction about where units will be later. If the unit cannot reach (find an open path to) any of the squares that are in range, it ends its turn. If multiple squares are in range and tied for being reachable in the fewest steps, the square which is first in reading order is chosen. For example:\n",
    "> \n",
    ">     Targets:      In range:     Reachable:    Nearest:      Chosen:\n",
    ">     #######       #######       #######       #######       #######\n",
    ">     #E..G.#       #E.?G?#       #E.@G.#       #E.!G.#       #E.+G.#\n",
    ">     #...#.#  -->  #.?.#?#  -->  #.@.#.#  -->  #.!.#.#  -->  #...#.#\n",
    ">     #.G.#G#       #?G?#G#       #@G@#G#       #!G.#G#       #.G.#G#\n",
    ">     #######       #######       #######       #######       #######\n",
    "> \n",
    "> In the above scenario, the Elf has three targets (the three Goblins):\n",
    "> \n",
    "> Each of the Goblins has open, adjacent squares which are in range (marked with a ? on the map).\n",
    "> Of those squares, four are reachable (marked @); the other two (on the right) would require moving through a wall or unit to reach.\n",
    "> Three of these reachable squares are nearest, requiring the fewest steps (only 2) to reach (marked !).\n",
    "> Of those, the square which is first in reading order is chosen (+).\n",
    "> The unit then takes a single step toward the chosen square along the shortest path to that square. If multiple steps would put the unit equally closer to its destination, the unit chooses the step which is first in reading order. (This requires knowing when there is more than one shortest path so that you can consider the first step of each such path.) For example:\n",
    "> \n",
    ">     In range:     Nearest:      Chosen:       Distance:     Step:\n",
    ">     #######       #######       #######       #######       #######\n",
    ">     #.E...#       #.E...#       #.E...#       #4E212#       #..E..#\n",
    ">     #...?.#  -->  #...!.#  -->  #...+.#  -->  #32101#  -->  #.....#\n",
    ">     #..?G?#       #..!G.#       #...G.#       #432G2#       #...G.#\n",
    ">     #######       #######       #######       #######       #######\n",
    "> \n",
    "> The Elf sees three squares in range of a target (?), two of which are nearest (!), and so the first in reading order is chosen (+). Under \"Distance\", each open square is marked with its distance from the destination square; the two squares to which the Elf could move on this turn (down and to the right) are both equally good moves and would leave the Elf 2 steps from being in range of the Goblin. Because the step which is first in reading order is chosen, the Elf moves right one square.\n",
    "> \n",
    "> Here's a larger example of movement:\n",
    "> \n",
    ">     Initially:\n",
    ">     #########\n",
    ">     #G..G..G#\n",
    ">     #.......#\n",
    ">     #.......#\n",
    ">     #G..E..G#\n",
    ">     #.......#\n",
    ">     #.......#\n",
    ">     #G..G..G#\n",
    ">     #########\n",
    ">     \n",
    ">     After 1 round:\n",
    ">     #########\n",
    ">     #.G...G.#\n",
    ">     #...G...#\n",
    ">     #...E..G#\n",
    ">     #.G.....#\n",
    ">     #.......#\n",
    ">     #G..G..G#\n",
    ">     #.......#\n",
    ">     #########\n",
    ">     \n",
    ">     After 2 rounds:\n",
    ">     #########\n",
    ">     #..G.G..#\n",
    ">     #...G...#\n",
    ">     #.G.E.G.#\n",
    ">     #.......#\n",
    ">     #G..G..G#\n",
    ">     #.......#\n",
    ">     #.......#\n",
    ">     #########\n",
    ">     \n",
    ">     After 3 rounds:\n",
    ">     #########\n",
    ">     #.......#\n",
    ">     #..GGG..#\n",
    ">     #..GEG..#\n",
    ">     #G..G...#\n",
    ">     #......G#\n",
    ">     #.......#\n",
    ">     #.......#\n",
    ">     #########\n",
    "> \n",
    "> Once the Goblins and Elf reach the positions above, they all are either in range of a target or cannot find any square in range of a target, and so none of the units can move until a unit dies.\n",
    "> \n",
    "> After moving (or if the unit began its turn in range of a target), the unit attacks.\n",
    "> \n",
    "> To attack, the unit first determines all of the targets that are in range of it by being immediately adjacent to it. If there are no such targets, the unit ends its turn. Otherwise, the adjacent target with the fewest hit points is selected; in a tie, the adjacent target with the fewest hit points which is first in reading order is selected.\n",
    "> \n",
    "> The unit deals damage equal to its attack power to the selected target, reducing its hit points by that amount. If this reduces its hit points to 0 or fewer, the selected target dies: its square becomes . and it takes no further turns.\n",
    "> \n",
    "> Each unit, either Goblin or Elf, has 3 attack power and starts with 200 hit points.\n",
    "> \n",
    "> For example, suppose the only Elf is about to attack:\n",
    "> \n",
    ">            HP:            HP:\n",
    ">     G....  9       G....  9  \n",
    ">     ..G..  4       ..G..  4  \n",
    ">     ..EG.  2  -->  ..E..     \n",
    ">     ..G..  2       ..G..  2  \n",
    ">     ...G.  1       ...G.  1  \n",
    "> \n",
    "> The \"HP\" column shows the hit points of the Goblin to the left in the corresponding row. The Elf is in range of three targets: the Goblin above it (with 4 hit points), the Goblin to its right (with 2 hit points), and the Goblin below it (also with 2 hit points). Because three targets are in range, the ones with the lowest hit points are selected: the two Goblins with 2 hit points each (one to the right of the Elf and one below the Elf). Of those, the Goblin first in reading order (the one to the right of the Elf) is selected. The selected Goblin's hit points (2) are reduced by the Elf's attack power (3), reducing its hit points to -1, killing it.\n",
    "> \n",
    "> After attacking, the unit's turn ends. Regardless of how the unit's turn ends, the next unit in the round takes its turn. If all units have taken turns in this round, the round ends, and a new round begins.\n",
    "> \n",
    "> The Elves look quite outnumbered. You need to determine the outcome of the battle: the number of full rounds that were completed (not counting the round in which combat ends) multiplied by the sum of the hit points of all remaining units at the moment combat ends. (Combat only ends when a unit finds no targets during its turn.)\n",
    "> \n",
    "> Below is an entire sample combat. Next to each map, each row's units' hit points are listed from left to right.\n",
    "> \n",
    ">     Initially:\n",
    ">     #######   \n",
    ">     #.G...#   G(200)\n",
    ">     #...EG#   E(200), G(200)\n",
    ">     #.#.#G#   G(200)\n",
    ">     #..G#E#   G(200), E(200)\n",
    ">     #.....#   \n",
    ">     #######   \n",
    ">     \n",
    ">     After 1 round:\n",
    ">     #######   \n",
    ">     #..G..#   G(200)\n",
    ">     #...EG#   E(197), G(197)\n",
    ">     #.#G#G#   G(200), G(197)\n",
    ">     #...#E#   E(197)\n",
    ">     #.....#   \n",
    ">     #######   \n",
    ">     \n",
    ">     After 2 rounds:\n",
    ">     #######   \n",
    ">     #...G.#   G(200)\n",
    ">     #..GEG#   G(200), E(188), G(194)\n",
    ">     #.#.#G#   G(194)\n",
    ">     #...#E#   E(194)\n",
    ">     #.....#   \n",
    ">     #######   \n",
    ">     \n",
    ">     Combat ensues; eventually, the top Elf dies:\n",
    ">     \n",
    ">     After 23 rounds:\n",
    ">     #######   \n",
    ">     #...G.#   G(200)\n",
    ">     #..G.G#   G(200), G(131)\n",
    ">     #.#.#G#   G(131)\n",
    ">     #...#E#   E(131)\n",
    ">     #.....#   \n",
    ">     #######   \n",
    ">     \n",
    ">     After 24 rounds:\n",
    ">     #######   \n",
    ">     #..G..#   G(200)\n",
    ">     #...G.#   G(131)\n",
    ">     #.#G#G#   G(200), G(128)\n",
    ">     #...#E#   E(128)\n",
    ">     #.....#   \n",
    ">     #######   \n",
    ">     \n",
    ">     After 25 rounds:\n",
    ">     #######   \n",
    ">     #.G...#   G(200)\n",
    ">     #..G..#   G(131)\n",
    ">     #.#.#G#   G(125)\n",
    ">     #..G#E#   G(200), E(125)\n",
    ">     #.....#   \n",
    ">     #######   \n",
    ">     \n",
    ">     After 26 rounds:\n",
    ">     #######   \n",
    ">     #G....#   G(200)\n",
    ">     #.G...#   G(131)\n",
    ">     #.#.#G#   G(122)\n",
    ">     #...#E#   E(122)\n",
    ">     #..G..#   G(200)\n",
    ">     #######   \n",
    ">     \n",
    ">     After 27 rounds:\n",
    ">     #######   \n",
    ">     #G....#   G(200)\n",
    ">     #.G...#   G(131)\n",
    ">     #.#.#G#   G(119)\n",
    ">     #...#E#   E(119)\n",
    ">     #...G.#   G(200)\n",
    ">     #######   \n",
    ">     \n",
    ">     After 28 rounds:\n",
    ">     #######   \n",
    ">     #G....#   G(200)\n",
    ">     #.G...#   G(131)\n",
    ">     #.#.#G#   G(116)\n",
    ">     #...#E#   E(113)\n",
    ">     #....G#   G(200)\n",
    ">     #######   \n",
    ">     \n",
    ">     More combat ensues; eventually, the bottom Elf dies:\n",
    ">     \n",
    ">     After 47 rounds:\n",
    ">     #######   \n",
    ">     #G....#   G(200)\n",
    ">     #.G...#   G(131)\n",
    ">     #.#.#G#   G(59)\n",
    ">     #...#.#   \n",
    ">     #....G#   G(200)\n",
    ">     #######   \n",
    "> \n",
    "> Before the 48th round can finish, the top-left Goblin finds that there are no targets remaining, and so combat ends. So, the number of full rounds that were completed is 47, and the sum of the hit points of all remaining units is 200+131+59+200 = 590. From these, the outcome of the battle is 47 * 590 = 27730.\n",
    "> \n",
    "> Here are a few example summarized combats:\n",
    "> \n",
    ">     #######       #######\n",
    ">     #G..#E#       #...#E#   E(200)\n",
    ">     #E#E.E#       #E#...#   E(197)\n",
    ">     #G.##.#  -->  #.E##.#   E(185)\n",
    ">     #...#E#       #E..#E#   E(200), E(200)\n",
    ">     #...E.#       #.....#\n",
    ">     #######       #######\n",
    ">     \n",
    ">     Combat ends after 37 full rounds\n",
    ">     Elves win with 982 total hit points left\n",
    ">     Outcome: 37 * 982 = 36334\n",
    ">     #######       #######   \n",
    ">     #E..EG#       #.E.E.#   E(164), E(197)\n",
    ">     #.#G.E#       #.#E..#   E(200)\n",
    ">     #E.##E#  -->  #E.##.#   E(98)\n",
    ">     #G..#.#       #.E.#.#   E(200)\n",
    ">     #..E#.#       #...#.#   \n",
    ">     #######       #######   \n",
    ">     \n",
    ">     Combat ends after 46 full rounds\n",
    ">     Elves win with 859 total hit points left\n",
    ">     Outcome: 46 * 859 = 39514\n",
    ">     #######       #######   \n",
    ">     #E.G#.#       #G.G#.#   G(200), G(98)\n",
    ">     #.#G..#       #.#G..#   G(200)\n",
    ">     #G.#.G#  -->  #..#..#   \n",
    ">     #G..#.#       #...#G#   G(95)\n",
    ">     #...E.#       #...G.#   G(200)\n",
    ">     #######       #######   \n",
    ">     \n",
    ">     Combat ends after 35 full rounds\n",
    ">     Goblins win with 793 total hit points left\n",
    ">     Outcome: 35 * 793 = 27755\n",
    ">     #######       #######   \n",
    ">     #.E...#       #.....#   \n",
    ">     #.#..G#       #.#G..#   G(200)\n",
    ">     #.###.#  -->  #.###.#   \n",
    ">     #E#G#G#       #.#.#.#   \n",
    ">     #...#G#       #G.G#G#   G(98), G(38), G(200)\n",
    ">     #######       #######   \n",
    ">     \n",
    ">     Combat ends after 54 full rounds\n",
    ">     Goblins win with 536 total hit points left\n",
    ">     Outcome: 54 * 536 = 28944\n",
    ">     #########       #########   \n",
    ">     #G......#       #.G.....#   G(137)\n",
    ">     #.E.#...#       #G.G#...#   G(200), G(200)\n",
    ">     #..##..G#       #.G##...#   G(200)\n",
    ">     #...##..#  -->  #...##..#   \n",
    ">     #...#...#       #.G.#...#   G(200)\n",
    ">     #.G...G.#       #.......#   \n",
    ">     #.....G.#       #.......#   \n",
    ">     #########       #########   \n",
    ">     \n",
    ">     Combat ends after 20 full rounds\n",
    ">     Goblins win with 937 total hit points left\n",
    ">     Outcome: 20 * 937 = 18740\n",
    ">\n",
    "> What is the outcome of the combat described in your puzzle input?"
   ]
  },
  {
   "cell_type": "markdown",
   "metadata": {},
   "source": [
    "#### loading data"
   ]
  },
  {
   "cell_type": "code",
   "execution_count": null,
   "metadata": {},
   "outputs": [],
   "source": [
    "import numpy as np"
   ]
  },
  {
   "cell_type": "code",
   "execution_count": null,
   "metadata": {},
   "outputs": [],
   "source": [
    "test_data = []"
   ]
  },
  {
   "cell_type": "code",
   "execution_count": null,
   "metadata": {},
   "outputs": [],
   "source": [
    "def load_data(fname=FNAME):\n",
    "    with open(fname) as fp:\n",
    "        return np.array([list(line.strip()) for line in fp])"
   ]
  },
  {
   "cell_type": "code",
   "execution_count": null,
   "metadata": {},
   "outputs": [],
   "source": [
    "load_data()"
   ]
  },
  {
   "cell_type": "markdown",
   "metadata": {},
   "source": [
    "#### function def"
   ]
  },
  {
   "cell_type": "code",
   "execution_count": null,
   "metadata": {},
   "outputs": [],
   "source": [
    "UP, LEFT, RIGHT, DOWN = 0, 1, 2, 3\n",
    "\n",
    "def direction_to_ij(direction):\n",
    "    if direction == UP:\n",
    "        return -1, 0\n",
    "    elif direction == RIGHT:\n",
    "        return 0, 1\n",
    "    elif direction == DOWN:\n",
    "        return 1, 0\n",
    "    elif direction == LEFT:\n",
    "        return 0, -1\n",
    "    else:\n",
    "        raise ValueError(\"false direction option {}\".format(direction))"
   ]
  },
  {
   "cell_type": "code",
   "execution_count": null,
   "metadata": {},
   "outputs": [],
   "source": [
    "WALL, OPEN_CAVERN, ELF, GOBLIN = '#', '.', 'E', 'G'"
   ]
  },
  {
   "cell_type": "code",
   "execution_count": null,
   "metadata": {},
   "outputs": [],
   "source": [
    "import numpy as np"
   ]
  },
  {
   "cell_type": "code",
   "execution_count": null,
   "metadata": {},
   "outputs": [],
   "source": [
    "class BattleField(object):\n",
    "    def __init__(self, map):\n",
    "        self.update_map(map)\n",
    "        \n",
    "    def update_map(self, map):\n",
    "        assert isinstance(map, np.ndarray)\n",
    "        self.map = map\n",
    "    \n",
    "    def get_adjacent(self, locations, for_paths=False, override_occupied=None):\n",
    "        \"\"\"given a list of locations (i,j) tuples, return open adjacent locations\"\"\"\n",
    "        adjacents = []\n",
    "        for direction in [UP, RIGHT, DOWN, LEFT]:\n",
    "            delta_i, delta_j = direction_to_ij(direction)\n",
    "            for (i, j) in locations:\n",
    "                new_i, new_j = i + delta_i, j + delta_j\n",
    "                i_in_range = 0 <= new_i < self.map.shape[0]\n",
    "                j_in_range = 0 <= new_j < self.map.shape[1]\n",
    "                is_override_occupied = (\n",
    "                    (override_occupied is not None)\n",
    "                    and (new_i, new_j) in override_occupied\n",
    "                )\n",
    "                map_is_open = (\n",
    "                    self.map[new_i, new_j] == OPEN_CAVERN\n",
    "                    or is_override_occupied\n",
    "                )\n",
    "                if i_in_range and j_in_range and map_is_open:\n",
    "                    if for_paths:\n",
    "                        src = (i, j)\n",
    "                        dst = (new_i, new_j)\n",
    "                        adjacents.append((src, dst, direction))\n",
    "                    else:\n",
    "                        adjacents.append((new_i, new_j))\n",
    "        return adjacents\n",
    "    \n",
    "    def shortest_path(self, start_loc, end_locs):\n",
    "        \"\"\"given a starting location (single) find the shortest path to any number\n",
    "        of ending locations (iterable). return the distance to the nearest point,\n",
    "        where tiebreak between points at similar distances and paths to those points\n",
    "        is reading order\n",
    "        \n",
    "        \"\"\"\n",
    "        min_dist = None\n",
    "        min_path = None\n",
    "        \n",
    "        seen = {start_loc: []}\n",
    "        outer_shell = {start_loc: []}\n",
    "        while outer_shell:\n",
    "            next_outer_shell = {}\n",
    "            LOGGER.debug('outer_shell = {}'.format(outer_shell))\n",
    "            adj_w_dir = self.get_adjacent(outer_shell.keys(), for_paths=True)\n",
    "            for (outer_shell_location, adjacent_location, direction) in adj_w_dir:\n",
    "                LOGGER.debug('point {} is in direction {} from {}'.format(\n",
    "                    adjacent_location, direction, outer_shell_location\n",
    "                ))\n",
    "                \n",
    "                # do nothing if we've already seen this item\n",
    "                if adjacent_location in seen:\n",
    "                    LOGGER.debug(\"we've already seen this point, continuing\")\n",
    "                    continue\n",
    "                \n",
    "                # if we haven't seen it, add it to the next shell. keep only the\n",
    "                # \"best\" according to reading order\n",
    "                path_here = outer_shell[outer_shell_location] + [direction]\n",
    "                if adjacent_location in next_outer_shell:\n",
    "                    current_best_path = next_outer_shell[adjacent_location]\n",
    "                    LOGGER.debug(\"we've arrived at the same location ({}) multiple ways\".format(\n",
    "                        adjacent_location\n",
    "                    ))\n",
    "                    LOGGER.debug('previous best path was: {}'.format(current_best_path))\n",
    "                    LOGGER.debug('challenger path is: {}'.format(path_here))\n",
    "                    \n",
    "                    min_path = min(path_here, current_best_path)\n",
    "                    LOGGER.debug('chosen path was: {}'.format(min_path))\n",
    "                    next_outer_shell[adjacent_location] = min_path\n",
    "                else:\n",
    "                    next_outer_shell[adjacent_location] = path_here\n",
    "            \n",
    "            # see if any of the end locations are seen yet\n",
    "            seen_end_locs = [k for k in end_locs if k in next_outer_shell]\n",
    "            if seen_end_locs:\n",
    "                # tiebreaker between seen targets is reading order, which\n",
    "                # is the same as (i, j) fortunately\n",
    "                min_loc = min(seen_end_locs)\n",
    "                min_path = next_outer_shell[min_loc]\n",
    "                min_dist = len(min_path)\n",
    "                return min_loc, min_dist, min_path\n",
    "            \n",
    "            # update is to iterate the outer shell and the seen items\n",
    "            seen.update(next_outer_shell)\n",
    "            outer_shell = next_outer_shell\n",
    "            \n",
    "        LOGGER.debug(\"you can't get to any of these locations\")\n",
    "        return None, None, None\n",
    "    \n",
    "    def next_to_filter(self, start_loc, targets):\n",
    "        \"\"\"return a filtered version of targets including only those locations \n",
    "        immediately adjacent to start_loc\n",
    "        \n",
    "        \"\"\"\n",
    "        return [loc for loc in targets if self.is_adjacent(start_loc, loc)]\n",
    "    \n",
    "    def is_adjacent(self, loc0, loc1):\n",
    "        i0, j0 = loc0\n",
    "        i1, j1 = loc1\n",
    "        return abs(i0 - i1) + abs(j0 - j1) == 1"
   ]
  },
  {
   "cell_type": "code",
   "execution_count": null,
   "metadata": {},
   "outputs": [],
   "source": [
    "class Unit(object):\n",
    "    def __init__(self, location, battlefield, attack_power=3, hit_points=200):\n",
    "        self.location = location\n",
    "        self.i, self.j = self.location\n",
    "        self.battlefield = battlefield\n",
    "        self.attack_power = attack_power\n",
    "        self.hit_points = hit_points\n",
    "    \n",
    "    def __repr__(self):\n",
    "        return '{}({})'.format(self.str_token, self.hit_points)\n",
    "    \n",
    "    def take_turn(self, enemies):\n",
    "        self.locate_enemies(enemies)\n",
    "        self.move()\n",
    "        self.attack()\n",
    "        \n",
    "        found_target = len(self.enemy_locations) > 0\n",
    "        return found_target\n",
    "        \n",
    "    def locate_enemies(self, enemies):\n",
    "        self.enemies = enemies\n",
    "        self.enemy_locations = [e.location for e in enemies]\n",
    "        self.attack_locations = self.battlefield.get_adjacent(\n",
    "            locations=self.enemy_locations,\n",
    "            override_occupied=[self.location]\n",
    "        )\n",
    "    \n",
    "    @property\n",
    "    def in_range(self):\n",
    "        return self.location in self.attack_locations\n",
    "    \n",
    "    def move(self):\n",
    "        if self.in_range:\n",
    "            return\n",
    "        \n",
    "        min_loc, min_dist, min_path = self.battlefield.shortest_path(\n",
    "            start_loc=self.location,\n",
    "            end_locs=self.attack_locations,\n",
    "        )\n",
    "        \n",
    "        if min_path is None:\n",
    "            LOGGER.debug(\"no shortest path returned\")\n",
    "            return\n",
    "        \n",
    "        first_step_direction = min_path[0]\n",
    "        self.step(first_step_direction)\n",
    "        \n",
    "    def step(self, direction):\n",
    "        delta_i, delta_j = direction_to_ij(direction)\n",
    "        self.i += delta_i\n",
    "        self.j += delta_j\n",
    "        self.location = self.i, self.j\n",
    "    \n",
    "    def attack(self):\n",
    "        attackable_enemies = [\n",
    "            e\n",
    "            for e in self.enemies\n",
    "            if self.battlefield.is_adjacent(self.location, e.location)\n",
    "        ]\n",
    "        \n",
    "        try:\n",
    "            closest_enemy = min(attackable_enemies, key=lambda e: (e.hit_points,) + e.location)\n",
    "        except ValueError:\n",
    "            LOGGER.debug('no attackable enemies; moving along')\n",
    "            return\n",
    "        \n",
    "        closest_enemy.hit_points -= self.attack_power\n",
    "    \n",
    "    @property\n",
    "    def alive(self):\n",
    "        return self.hit_points > 0\n",
    "    \n",
    "    @property\n",
    "    def dead(self):\n",
    "        return not self.alive\n",
    "        \n",
    "\n",
    "class Goblin(Unit):\n",
    "    str_token = GOBLIN\n",
    "\n",
    "class Elf(Unit):\n",
    "    str_token = ELF"
   ]
  },
  {
   "cell_type": "code",
   "execution_count": null,
   "metadata": {},
   "outputs": [],
   "source": [
    "class AocError(Exception):\n",
    "    pass"
   ]
  },
  {
   "cell_type": "code",
   "execution_count": null,
   "metadata": {},
   "outputs": [],
   "source": [
    "class Battle(object):\n",
    "    def __init__(self, map, elf_power=3, goblin_power=3, protected_class=None):\n",
    "        assert isinstance(map, np.ndarray)\n",
    "        self.map = map\n",
    "        self.elf_power = elf_power\n",
    "        self.goblin_power = goblin_power\n",
    "        self.protected_class = protected_class\n",
    "        self.init_battlefield_and_units()\n",
    "        self.num_rounds = 0\n",
    "        self.combat_is_over = False\n",
    "        self.str_history = []\n",
    "    \n",
    "    def init_battlefield_and_units(self):\n",
    "        \"\"\"build a battlefield and locate units based on a provided \n",
    "        map (np char array)\n",
    "        \n",
    "        \"\"\"\n",
    "        bfwou = self.map.copy()\n",
    "        elf_locs = []\n",
    "        goblin_locs = []\n",
    "        for i in range(bfwou.shape[0]):\n",
    "            for j in range(bfwou.shape[1]):\n",
    "                if bfwou[i, j] == ELF:\n",
    "                    elf_locs.append((i, j))\n",
    "                    bfwou[i, j] = '.'\n",
    "                elif bfwou[i, j] == GOBLIN:\n",
    "                    goblin_locs.append((i, j))\n",
    "                    bfwou[i, j] = '.'\n",
    "        self.battlefield_wo_units = bfwou\n",
    "        \n",
    "        self.battlefield = BattleField(self.map)\n",
    "        self.units = [\n",
    "            Elf(loc, self.battlefield, attack_power=self.elf_power)\n",
    "            for loc in elf_locs\n",
    "        ] + [\n",
    "            Goblin(loc, self.battlefield, attack_power=self.goblin_power)\n",
    "            for loc in goblin_locs\n",
    "        ]\n",
    "    \n",
    "    def run(self):\n",
    "        while True:\n",
    "            self.combat()\n",
    "            self.str_history.append(self.str_summary)\n",
    "            if self.combat_is_over:\n",
    "                return\n",
    "            else:\n",
    "                self.num_rounds += 1\n",
    "\n",
    "    def _unit_filter(self, unit_class):\n",
    "        return [u for u in self.units if isinstance(u, unit_class)]\n",
    "    \n",
    "    @property\n",
    "    def elves(self):\n",
    "        return self._unit_filter(Elf)\n",
    "    \n",
    "    @property\n",
    "    def living_elves(self):\n",
    "        return [u for u in self.elves if u.alive]\n",
    "    \n",
    "    @property\n",
    "    def goblins(self):\n",
    "        return self._unit_filter(Goblin)\n",
    "    \n",
    "    @property\n",
    "    def living_goblins(self):\n",
    "        return [u for u in self.goblins if u.alive]\n",
    "        \n",
    "    def combat(self):\n",
    "        ro_units = sorted(self.units, key=lambda u: u.location)\n",
    "        for unit in ro_units:\n",
    "            if unit.alive:\n",
    "                found_target = unit.take_turn(self.find_enemies_of(unit))\n",
    "                if not found_target:\n",
    "                    self.combat_is_over = True\n",
    "                    return\n",
    "            self.update_map()\n",
    "            if self.protected_class is not None:\n",
    "                units = self._unit_filter(self.protected_class)\n",
    "                if any(u.dead for u in units):\n",
    "                    raise AocError(\n",
    "                        'protected class dead in round {}'.format(self.num_rounds)\n",
    "                    )\n",
    "                \n",
    "    def find_enemies_of(self, unit):\n",
    "        if isinstance(unit, Goblin):\n",
    "            enemy_class = Elf\n",
    "        elif isinstance(unit, Elf):\n",
    "            enemy_class = Goblin\n",
    "        else:\n",
    "            raise ValueError('wtf is this unit?')\n",
    "        return [u for u in self.units if isinstance(u, enemy_class) and u.alive]\n",
    "    \n",
    "    def update_map(self):\n",
    "        self.battlefield.update_map(self.battle_state)\n",
    "        for unit in self.units:\n",
    "            unit.battlefield = self.battlefield\n",
    "    \n",
    "    @property\n",
    "    def outcome(self):\n",
    "        return self.num_rounds * sum(u.hit_points for u in self.units if u.alive)\n",
    "    \n",
    "    @property\n",
    "    def battle_state(self):\n",
    "        bs = self.battlefield_wo_units.copy()\n",
    "        for unit in self.units:\n",
    "            if unit.alive:\n",
    "                bs[unit.location] = unit.str_token\n",
    "        return bs\n",
    "    \n",
    "    @property\n",
    "    def str_summary(self):\n",
    "        bs = self.battle_state\n",
    "        s = ''\n",
    "        for (i, row) in enumerate(bs):\n",
    "            s += ''.join(c for c in row)\n",
    "            units_in_row = sorted(\n",
    "                [u for u in self.units if u.i == i and u.alive], \n",
    "                key=lambda u: u.j\n",
    "            )\n",
    "            if units_in_row:\n",
    "                s += '   '\n",
    "                s += ', '.join([str(u) for u in units_in_row if u.alive])\n",
    "            s += '\\n'\n",
    "        return s"
   ]
  },
  {
   "cell_type": "markdown",
   "metadata": {},
   "source": [
    "#### various class sub-tests"
   ]
  },
  {
   "cell_type": "code",
   "execution_count": null,
   "metadata": {},
   "outputs": [],
   "source": [
    "LOGGER.setLevel(logging.INFO)"
   ]
  },
  {
   "cell_type": "markdown",
   "metadata": {},
   "source": [
    "testing the building of a battlefield and the summary string"
   ]
  },
  {
   "cell_type": "code",
   "execution_count": null,
   "metadata": {},
   "outputs": [],
   "source": [
    "td = np.array([\n",
    "    ['#', '#', '#', '#', '#', '#', '#',],\n",
    "    ['#', '.', 'G', '.', 'E', '.', '#',],\n",
    "    ['#', 'E', '.', 'G', '.', 'E', '#',],\n",
    "    ['#', '.', 'G', '.', 'E', '.', '#',],\n",
    "    ['#', '#', '#', '#', '#', '#', '#',],\n",
    "])"
   ]
  },
  {
   "cell_type": "code",
   "execution_count": null,
   "metadata": {},
   "outputs": [],
   "source": [
    "b = Battle(td)\n",
    "print(b.str_summary)"
   ]
  },
  {
   "cell_type": "markdown",
   "metadata": {},
   "source": [
    "testing the choice of adjacent point for enemies"
   ]
  },
  {
   "cell_type": "code",
   "execution_count": null,
   "metadata": {},
   "outputs": [],
   "source": [
    "td = np.array([\n",
    "    ['#', '#', '#', '#', '#', '#', '#'],\n",
    "    ['#', 'E', '.', '.', 'G', '.', '#'],\n",
    "    ['#', '.', '.', '.', '#', '.', '#'],\n",
    "    ['#', '.', 'G', '.', '#', 'G', '#'],\n",
    "    ['#', '#', '#', '#', '#', '#', '#'],\n",
    "])\n",
    "b = Battle(td)\n",
    "print(b.str_summary)"
   ]
  },
  {
   "cell_type": "code",
   "execution_count": null,
   "metadata": {},
   "outputs": [],
   "source": [
    "e = b.units[0]\n",
    "gs = b.find_enemies_of(e)\n",
    "assert [_.location for _ in gs] == [(1, 4), (3, 2), (3, 5)]"
   ]
  },
  {
   "cell_type": "code",
   "execution_count": null,
   "metadata": {},
   "outputs": [],
   "source": [
    "e.locate_enemies(gs)"
   ]
  },
  {
   "cell_type": "code",
   "execution_count": null,
   "metadata": {},
   "outputs": [],
   "source": [
    "assert e.enemy_locations == [(1, 4), (3, 2), (3, 5)]"
   ]
  },
  {
   "cell_type": "code",
   "execution_count": null,
   "metadata": {},
   "outputs": [],
   "source": [
    "assert sorted(e.attack_locations) == [\n",
    "    (1, 3), (1, 5),\n",
    "    (2, 2), (2, 5),\n",
    "    (3, 1), (3, 3)\n",
    "]"
   ]
  },
  {
   "cell_type": "markdown",
   "metadata": {},
   "source": [
    "testing the choosing of paths among various attack locations"
   ]
  },
  {
   "cell_type": "code",
   "execution_count": null,
   "metadata": {},
   "outputs": [],
   "source": [
    "bf = b.battlefield"
   ]
  },
  {
   "cell_type": "code",
   "execution_count": null,
   "metadata": {},
   "outputs": [],
   "source": [
    "min_loc, min_dist, min_path = bf.shortest_path(start_loc=e.location, end_locs=e.attack_locations)\n",
    "\n",
    "assert min_loc == (1, 3)\n",
    "assert min_dist == 2\n",
    "assert min_path == [RIGHT, RIGHT]"
   ]
  },
  {
   "cell_type": "markdown",
   "metadata": {},
   "source": [
    "assert that a step taken is in the right direction"
   ]
  },
  {
   "cell_type": "code",
   "execution_count": null,
   "metadata": {},
   "outputs": [],
   "source": [
    "e.move()"
   ]
  },
  {
   "cell_type": "code",
   "execution_count": null,
   "metadata": {},
   "outputs": [],
   "source": [
    "assert e.location == (1, 2)"
   ]
  },
  {
   "cell_type": "markdown",
   "metadata": {},
   "source": [
    "and now with a new map"
   ]
  },
  {
   "cell_type": "code",
   "execution_count": null,
   "metadata": {
    "scrolled": true
   },
   "outputs": [],
   "source": [
    "td = np.array([\n",
    "    ['#', '#', '#', '#', '#', '#', '#'],\n",
    "    ['#', '.', 'E', '.', '.', '.', '#'],\n",
    "    ['#', '.', '.', '.', '.', '.', '#'],\n",
    "    ['#', '.', '.', '.', 'G', '.', '#'],\n",
    "    ['#', '#', '#', '#', '#', '#', '#'],\n",
    "])\n",
    "b = Battle(td)\n",
    "print(b.str_summary)\n",
    "\n",
    "e = b.units[0]\n",
    "gs = b.find_enemies_of(e)\n",
    "e.locate_enemies(gs)\n",
    "e.move()"
   ]
  },
  {
   "cell_type": "code",
   "execution_count": null,
   "metadata": {},
   "outputs": [],
   "source": [
    "assert e.location == (1, 3)"
   ]
  },
  {
   "cell_type": "markdown",
   "metadata": {},
   "source": [
    "now look into a few rounds of combat movement"
   ]
  },
  {
   "cell_type": "code",
   "execution_count": null,
   "metadata": {},
   "outputs": [],
   "source": [
    "s = \"\"\"#########\n",
    "#G..G..G#\n",
    "#.......#\n",
    "#.......#\n",
    "#G..E..G#\n",
    "#.......#\n",
    "#.......#\n",
    "#G..G..G#\n",
    "#########\"\"\"\n",
    "td = np.array([list(row) for row in s.split()])\n",
    "\n",
    "b = Battle(td)\n",
    "print(b.str_summary)"
   ]
  },
  {
   "cell_type": "markdown",
   "metadata": {},
   "source": [
    "first step"
   ]
  },
  {
   "cell_type": "code",
   "execution_count": null,
   "metadata": {},
   "outputs": [],
   "source": [
    "b.combat()"
   ]
  },
  {
   "cell_type": "code",
   "execution_count": null,
   "metadata": {},
   "outputs": [],
   "source": [
    "print(b.str_summary)"
   ]
  },
  {
   "cell_type": "code",
   "execution_count": null,
   "metadata": {},
   "outputs": [],
   "source": [
    "assert sorted([_.location for _ in b.units]) == [\n",
    "    (1, 2), (1, 6),\n",
    "    (2, 4),\n",
    "    (3, 4), (3, 7),\n",
    "    (4, 2),\n",
    "    (6, 1), (6, 4), (6, 7)\n",
    "]"
   ]
  },
  {
   "cell_type": "markdown",
   "metadata": {},
   "source": [
    "second step"
   ]
  },
  {
   "cell_type": "code",
   "execution_count": null,
   "metadata": {},
   "outputs": [],
   "source": [
    "b.combat()"
   ]
  },
  {
   "cell_type": "code",
   "execution_count": null,
   "metadata": {},
   "outputs": [],
   "source": [
    "print(b.str_summary)"
   ]
  },
  {
   "cell_type": "code",
   "execution_count": null,
   "metadata": {},
   "outputs": [],
   "source": [
    "assert sorted([_.location for _ in b.units]) == [\n",
    "    (1, 3), (1, 5),\n",
    "    (2, 4),\n",
    "    (3, 2), (3, 4), (3, 6),\n",
    "    (5, 1), (5, 4), (5, 7)\n",
    "]"
   ]
  },
  {
   "cell_type": "markdown",
   "metadata": {},
   "source": [
    "third step"
   ]
  },
  {
   "cell_type": "code",
   "execution_count": null,
   "metadata": {
    "scrolled": true
   },
   "outputs": [],
   "source": [
    "b.combat()"
   ]
  },
  {
   "cell_type": "code",
   "execution_count": null,
   "metadata": {},
   "outputs": [],
   "source": [
    "print(b.str_summary)"
   ]
  },
  {
   "cell_type": "code",
   "execution_count": null,
   "metadata": {},
   "outputs": [],
   "source": [
    "assert sorted([_.location for _ in b.units]) == [\n",
    "    (2, 3), (2, 4), (2, 5),\n",
    "    (3, 3), (3, 4), (3, 5),\n",
    "    (4, 1), (4, 4),\n",
    "    (5, 7)\n",
    "]"
   ]
  },
  {
   "cell_type": "markdown",
   "metadata": {},
   "source": [
    "another combat round"
   ]
  },
  {
   "cell_type": "code",
   "execution_count": null,
   "metadata": {},
   "outputs": [],
   "source": [
    "s = \"\"\"#######\n",
    "#.G...#\n",
    "#...EG#\n",
    "#.#.#G#\n",
    "#..G#E#\n",
    "#.....#\n",
    "#######\"\"\"\n",
    "td = np.array([list(row) for row in s.split()])\n",
    "\n",
    "b = Battle(td)\n",
    "print(b.str_summary)"
   ]
  },
  {
   "cell_type": "markdown",
   "metadata": {},
   "source": [
    "first step"
   ]
  },
  {
   "cell_type": "code",
   "execution_count": null,
   "metadata": {
    "scrolled": true
   },
   "outputs": [],
   "source": [
    "b.combat()"
   ]
  },
  {
   "cell_type": "code",
   "execution_count": null,
   "metadata": {},
   "outputs": [],
   "source": [
    "assert b.str_summary == \"\"\"#######\n",
    "#..G..#   G(200)\n",
    "#...EG#   E(197), G(197)\n",
    "#.#G#G#   G(200), G(197)\n",
    "#...#E#   E(197)\n",
    "#.....#\n",
    "#######\n",
    "\"\"\""
   ]
  },
  {
   "cell_type": "markdown",
   "metadata": {},
   "source": [
    "second step"
   ]
  },
  {
   "cell_type": "code",
   "execution_count": null,
   "metadata": {},
   "outputs": [],
   "source": [
    "b.combat()"
   ]
  },
  {
   "cell_type": "code",
   "execution_count": null,
   "metadata": {},
   "outputs": [],
   "source": [
    "assert b.str_summary == \"\"\"#######\n",
    "#...G.#   G(200)\n",
    "#..GEG#   G(200), E(188), G(194)\n",
    "#.#.#G#   G(194)\n",
    "#...#E#   E(194)\n",
    "#.....#\n",
    "#######\n",
    "\"\"\""
   ]
  },
  {
   "cell_type": "markdown",
   "metadata": {},
   "source": [
    "that was rounds 1 and 2; let's finish 23 (the next 21)"
   ]
  },
  {
   "cell_type": "code",
   "execution_count": null,
   "metadata": {
    "scrolled": true
   },
   "outputs": [],
   "source": [
    "for i in range(21):\n",
    "    b.combat()"
   ]
  },
  {
   "cell_type": "code",
   "execution_count": null,
   "metadata": {},
   "outputs": [],
   "source": [
    "assert b.str_summary == \"\"\"#######\n",
    "#...G.#   G(200)\n",
    "#..G.G#   G(200), G(131)\n",
    "#.#.#G#   G(131)\n",
    "#...#E#   E(131)\n",
    "#.....#\n",
    "#######\n",
    "\"\"\""
   ]
  },
  {
   "cell_type": "code",
   "execution_count": null,
   "metadata": {},
   "outputs": [],
   "source": [
    "b.combat()"
   ]
  },
  {
   "cell_type": "code",
   "execution_count": null,
   "metadata": {},
   "outputs": [],
   "source": [
    "assert b.str_summary == \"\"\"#######\n",
    "#..G..#   G(200)\n",
    "#...G.#   G(131)\n",
    "#.#G#G#   G(200), G(128)\n",
    "#...#E#   E(128)\n",
    "#.....#\n",
    "#######\n",
    "\"\"\""
   ]
  },
  {
   "cell_type": "code",
   "execution_count": null,
   "metadata": {},
   "outputs": [],
   "source": [
    "b.combat()"
   ]
  },
  {
   "cell_type": "code",
   "execution_count": null,
   "metadata": {},
   "outputs": [],
   "source": [
    "assert b.str_summary == \"\"\"#######\n",
    "#.G...#   G(200)\n",
    "#..G..#   G(131)\n",
    "#.#.#G#   G(125)\n",
    "#..G#E#   G(200), E(125)\n",
    "#.....#\n",
    "#######\n",
    "\"\"\""
   ]
  },
  {
   "cell_type": "code",
   "execution_count": null,
   "metadata": {},
   "outputs": [],
   "source": [
    "b.combat()"
   ]
  },
  {
   "cell_type": "code",
   "execution_count": null,
   "metadata": {},
   "outputs": [],
   "source": [
    "assert b.str_summary == \"\"\"#######\n",
    "#G....#   G(200)\n",
    "#.G...#   G(131)\n",
    "#.#.#G#   G(122)\n",
    "#...#E#   E(122)\n",
    "#..G..#   G(200)\n",
    "#######\n",
    "\"\"\""
   ]
  },
  {
   "cell_type": "code",
   "execution_count": null,
   "metadata": {},
   "outputs": [],
   "source": [
    "b.combat()"
   ]
  },
  {
   "cell_type": "code",
   "execution_count": null,
   "metadata": {},
   "outputs": [],
   "source": [
    "assert b.str_summary == \"\"\"#######\n",
    "#G....#   G(200)\n",
    "#.G...#   G(131)\n",
    "#.#.#G#   G(119)\n",
    "#...#E#   E(119)\n",
    "#...G.#   G(200)\n",
    "#######\n",
    "\"\"\""
   ]
  },
  {
   "cell_type": "code",
   "execution_count": null,
   "metadata": {},
   "outputs": [],
   "source": [
    "b.combat()"
   ]
  },
  {
   "cell_type": "code",
   "execution_count": null,
   "metadata": {},
   "outputs": [],
   "source": [
    "assert b.str_summary == \"\"\"#######\n",
    "#G....#   G(200)\n",
    "#.G...#   G(131)\n",
    "#.#.#G#   G(116)\n",
    "#...#E#   E(113)\n",
    "#....G#   G(200)\n",
    "#######\n",
    "\"\"\""
   ]
  },
  {
   "cell_type": "markdown",
   "metadata": {},
   "source": [
    "and now round 28 to 47 progress:"
   ]
  },
  {
   "cell_type": "code",
   "execution_count": null,
   "metadata": {},
   "outputs": [],
   "source": [
    "for i in range(28, 47):\n",
    "    b.combat()"
   ]
  },
  {
   "cell_type": "code",
   "execution_count": null,
   "metadata": {},
   "outputs": [],
   "source": [
    "assert b.str_summary == \"\"\"#######\n",
    "#G....#   G(200)\n",
    "#.G...#   G(131)\n",
    "#.#.#G#   G(59)\n",
    "#...#.#\n",
    "#....G#   G(200)\n",
    "#######\n",
    "\"\"\""
   ]
  },
  {
   "cell_type": "markdown",
   "metadata": {},
   "source": [
    "let's start over and run through combat, testing the `.run` method"
   ]
  },
  {
   "cell_type": "code",
   "execution_count": null,
   "metadata": {},
   "outputs": [],
   "source": [
    "s = \"\"\"#######\n",
    "#.G...#\n",
    "#...EG#\n",
    "#.#.#G#\n",
    "#..G#E#\n",
    "#.....#\n",
    "#######\"\"\"\n",
    "td = np.array([list(row) for row in s.split()])\n",
    "\n",
    "b = Battle(td)\n",
    "b.run()"
   ]
  },
  {
   "cell_type": "code",
   "execution_count": null,
   "metadata": {},
   "outputs": [],
   "source": [
    "print(b.str_summary)"
   ]
  },
  {
   "cell_type": "code",
   "execution_count": null,
   "metadata": {},
   "outputs": [],
   "source": [
    "assert b.num_rounds == 47"
   ]
  },
  {
   "cell_type": "code",
   "execution_count": null,
   "metadata": {},
   "outputs": [],
   "source": [
    "assert sum([_.hit_points for _ in b.units if _.alive]) == 590"
   ]
  },
  {
   "cell_type": "code",
   "execution_count": null,
   "metadata": {},
   "outputs": [],
   "source": [
    "assert b.outcome == 27730"
   ]
  },
  {
   "cell_type": "markdown",
   "metadata": {},
   "source": [
    "and here are a ton more combats"
   ]
  },
  {
   "cell_type": "code",
   "execution_count": null,
   "metadata": {},
   "outputs": [],
   "source": [
    "s = \"\"\"#######\n",
    "#G..#E#\n",
    "#E#E.E#\n",
    "#G.##.#\n",
    "#...#E#\n",
    "#...E.#\n",
    "#######\"\"\"\n",
    "td = np.array([list(row) for row in s.split()])\n",
    "\n",
    "b = Battle(td)\n",
    "b.run()"
   ]
  },
  {
   "cell_type": "code",
   "execution_count": null,
   "metadata": {},
   "outputs": [],
   "source": [
    "assert b.str_summary == \"\"\"#######\n",
    "#...#E#   E(200)\n",
    "#E#...#   E(197)\n",
    "#.E##.#   E(185)\n",
    "#E..#E#   E(200), E(200)\n",
    "#.....#\n",
    "#######\n",
    "\"\"\"\n",
    "assert b.num_rounds == 37\n",
    "assert b.outcome == 36334"
   ]
  },
  {
   "cell_type": "code",
   "execution_count": null,
   "metadata": {},
   "outputs": [],
   "source": [
    "s = \"\"\"#######\n",
    "#E..EG#\n",
    "#.#G.E#\n",
    "#E.##E#\n",
    "#G..#.#\n",
    "#..E#.#\n",
    "#######\"\"\"\n",
    "td = np.array([list(row) for row in s.split()])\n",
    "\n",
    "b = Battle(td)\n",
    "b.run()"
   ]
  },
  {
   "cell_type": "code",
   "execution_count": null,
   "metadata": {},
   "outputs": [],
   "source": [
    "assert b.str_summary == \"\"\"#######\n",
    "#.E.E.#   E(164), E(197)\n",
    "#.#E..#   E(200)\n",
    "#E.##.#   E(98)\n",
    "#.E.#.#   E(200)\n",
    "#...#.#\n",
    "#######\n",
    "\"\"\"\n",
    "assert b.num_rounds == 46\n",
    "assert b.outcome == 39514"
   ]
  },
  {
   "cell_type": "code",
   "execution_count": null,
   "metadata": {},
   "outputs": [],
   "source": [
    "s = \"\"\"#######\n",
    "#E.G#.#\n",
    "#.#G..#\n",
    "#G.#.G#\n",
    "#G..#.#\n",
    "#...E.#\n",
    "#######\"\"\"\n",
    "td = np.array([list(row) for row in s.split()])\n",
    "\n",
    "b = Battle(td)\n",
    "b.run()"
   ]
  },
  {
   "cell_type": "code",
   "execution_count": null,
   "metadata": {},
   "outputs": [],
   "source": [
    "assert b.str_summary == \"\"\"#######\n",
    "#G.G#.#   G(200), G(98)\n",
    "#.#G..#   G(200)\n",
    "#..#..#\n",
    "#...#G#   G(95)\n",
    "#...G.#   G(200)\n",
    "#######\n",
    "\"\"\"\n",
    "assert b.num_rounds == 35\n",
    "assert b.outcome == 27755"
   ]
  },
  {
   "cell_type": "code",
   "execution_count": null,
   "metadata": {},
   "outputs": [],
   "source": [
    "s = \"\"\"#######\n",
    "#.E...#\n",
    "#.#..G#\n",
    "#.###.#\n",
    "#E#G#G#\n",
    "#...#G#\n",
    "#######\"\"\"\n",
    "td = np.array([list(row) for row in s.split()])\n",
    "\n",
    "b = Battle(td)\n",
    "b.run()"
   ]
  },
  {
   "cell_type": "code",
   "execution_count": null,
   "metadata": {},
   "outputs": [],
   "source": [
    "assert b.str_summary == \"\"\"#######\n",
    "#.....#\n",
    "#.#G..#   G(200)\n",
    "#.###.#\n",
    "#.#.#.#\n",
    "#G.G#G#   G(98), G(38), G(200)\n",
    "#######\n",
    "\"\"\"\n",
    "assert b.num_rounds == 54\n",
    "assert b.outcome == 28944"
   ]
  },
  {
   "cell_type": "code",
   "execution_count": null,
   "metadata": {},
   "outputs": [],
   "source": [
    "s = \"\"\"#########\n",
    "#G......#\n",
    "#.E.#...#\n",
    "#..##..G#\n",
    "#...##..#\n",
    "#...#...#\n",
    "#.G...G.#\n",
    "#.....G.#\n",
    "#########\"\"\"\n",
    "td = np.array([list(row) for row in s.split()])\n",
    "\n",
    "b = Battle(td)\n",
    "b.run()"
   ]
  },
  {
   "cell_type": "code",
   "execution_count": null,
   "metadata": {},
   "outputs": [],
   "source": [
    "assert b.str_summary == \"\"\"#########\n",
    "#.G.....#   G(137)\n",
    "#G.G#...#   G(200), G(200)\n",
    "#.G##...#   G(200)\n",
    "#...##..#\n",
    "#.G.#...#   G(200)\n",
    "#.......#\n",
    "#.......#\n",
    "#########\n",
    "\"\"\"\n",
    "assert b.num_rounds == 20\n",
    "assert b.outcome == 18740"
   ]
  },
  {
   "cell_type": "markdown",
   "metadata": {},
   "source": [
    "#### function def"
   ]
  },
  {
   "cell_type": "code",
   "execution_count": null,
   "metadata": {},
   "outputs": [],
   "source": [
    "def q_1(data):\n",
    "    b = Battle(data)\n",
    "    b.run()\n",
    "    return b.outcome"
   ]
  },
  {
   "cell_type": "markdown",
   "metadata": {},
   "source": [
    "#### answer"
   ]
  },
  {
   "cell_type": "code",
   "execution_count": null,
   "metadata": {},
   "outputs": [],
   "source": [
    "q_1(load_data())"
   ]
  },
  {
   "cell_type": "markdown",
   "metadata": {},
   "source": [
    "fun to see the battle history, too:"
   ]
  },
  {
   "cell_type": "code",
   "execution_count": null,
   "metadata": {},
   "outputs": [],
   "source": [
    "from ipywidgets import interact\n",
    "\n",
    "b = Battle(load_data())\n",
    "b.run()\n",
    "\n",
    "@interact(i=(0, b.num_rounds))\n",
    "def show_battle_state(i=0):\n",
    "    print(b.str_history[i])"
   ]
  },
  {
   "cell_type": "markdown",
   "metadata": {},
   "source": [
    "## part 2\n",
    "\n",
    "### problem statement:\n",
    "\n",
    "> According to your calculations, the Elves are going to lose badly. Surely, you won't mess up the timeline too much if you give them just a little advanced technology, right?\n",
    "> \n",
    "> You need to make sure the Elves not only win, but also suffer no losses: even the death of a single Elf is unacceptable.\n",
    "> \n",
    "> However, you can't go too far: larger changes will be more likely to permanently alter spacetime.\n",
    "> \n",
    "> So, you need to find the outcome of the battle in which the Elves have the lowest integer attack power (at least 4) that allows them to win without a single death. The Goblins always have an attack power of 3.\n",
    "> \n",
    "> In the first summarized example above, the lowest attack power the Elves need to win without losses is 15:\n",
    "> \n",
    ">     #######       #######\n",
    ">     #.G...#       #..E..#   E(158)\n",
    ">     #...EG#       #...E.#   E(14)\n",
    ">     #.#.#G#  -->  #.#.#.#\n",
    ">     #..G#E#       #...#.#\n",
    ">     #.....#       #.....#\n",
    ">     #######       #######\n",
    ">     \n",
    ">     Combat ends after 29 full rounds\n",
    ">     Elves win with 172 total hit points left\n",
    ">     Outcome: 29 * 172 = 4988\n",
    ">\n",
    "> In the second example above, the Elves need only 4 attack power:\n",
    "> \n",
    ">     #######       #######\n",
    ">     #E..EG#       #.E.E.#   E(200), E(23)\n",
    ">     #.#G.E#       #.#E..#   E(200)\n",
    ">     #E.##E#  -->  #E.##E#   E(125), E(200)\n",
    ">     #G..#.#       #.E.#.#   E(200)\n",
    ">     #..E#.#       #...#.#\n",
    ">     #######       #######\n",
    ">     \n",
    ">     Combat ends after 33 full rounds\n",
    ">     Elves win with 948 total hit points left\n",
    ">     Outcome: 33 * 948 = 31284\n",
    ">\n",
    "> In the third example above, the Elves need 15 attack power:\n",
    "> \n",
    ">     #######       #######\n",
    ">     #E.G#.#       #.E.#.#   E(8)\n",
    ">     #.#G..#       #.#E..#   E(86)\n",
    ">     #G.#.G#  -->  #..#..#\n",
    ">     #G..#.#       #...#.#\n",
    ">     #...E.#       #.....#\n",
    ">     #######       #######\n",
    ">     \n",
    ">     Combat ends after 37 full rounds\n",
    ">     Elves win with 94 total hit points left\n",
    ">     Outcome: 37 * 94 = 3478\n",
    ">\n",
    "> In the fourth example above, the Elves need 12 attack power:\n",
    "> \n",
    ">     #######       #######\n",
    ">     #.E...#       #...E.#   E(14)\n",
    ">     #.#..G#       #.#..E#   E(152)\n",
    ">     #.###.#  -->  #.###.#\n",
    ">     #E#G#G#       #.#.#.#\n",
    ">     #...#G#       #...#.#\n",
    ">     #######       #######\n",
    ">     \n",
    ">     Combat ends after 39 full rounds\n",
    ">     Elves win with 166 total hit points left\n",
    ">     Outcome: 39 * 166 = 6474\n",
    ">\n",
    "> In the last example above, the lone Elf needs 34 attack power:\n",
    "> \n",
    ">     #########       #########   \n",
    ">     #G......#       #.......#   \n",
    ">     #.E.#...#       #.E.#...#   E(38)\n",
    ">     #..##..G#       #..##...#   \n",
    ">     #...##..#  -->  #...##..#   \n",
    ">     #...#...#       #...#...#   \n",
    ">     #.G...G.#       #.......#   \n",
    ">     #.....G.#       #.......#   \n",
    ">     #########       #########   \n",
    ">     \n",
    ">     Combat ends after 30 full rounds\n",
    ">     Elves win with 38 total hit points left\n",
    ">     Outcome: 30 * 38 = 1140\n",
    ">\n",
    "> After increasing the Elves' attack power until it is just barely enough for them to win without any Elves dying, what is the outcome of the combat described in your puzzle input?"
   ]
  },
  {
   "cell_type": "markdown",
   "metadata": {},
   "source": [
    "#### function def"
   ]
  },
  {
   "cell_type": "code",
   "execution_count": null,
   "metadata": {},
   "outputs": [],
   "source": [
    "def q_2(data):\n",
    "    elf_power = 4\n",
    "    while True:\n",
    "        LOGGER.info('elf_power = {}'.format(elf_power))\n",
    "        try:\n",
    "            b = Battle(data, elf_power=elf_power, protected_class=Elf)\n",
    "            b.run()\n",
    "            return b.outcome\n",
    "        except AocError:\n",
    "            elf_power += 1"
   ]
  },
  {
   "cell_type": "markdown",
   "metadata": {},
   "source": [
    "#### tests"
   ]
  },
  {
   "cell_type": "code",
   "execution_count": null,
   "metadata": {},
   "outputs": [],
   "source": [
    "s = \"\"\"#######\n",
    "#.G...#\n",
    "#...EG#\n",
    "#.#.#G#\n",
    "#..G#E#\n",
    "#.....#\n",
    "#######\"\"\"\n",
    "td = np.array([list(row) for row in s.split()])"
   ]
  },
  {
   "cell_type": "markdown",
   "metadata": {},
   "source": [
    "`elf_power` must be 15. three tests:\n",
    "\n",
    "+ 14 fails\n",
    "+ 15 succeeds\n",
    "+ `q_2` finds 15"
   ]
  },
  {
   "cell_type": "code",
   "execution_count": null,
   "metadata": {},
   "outputs": [],
   "source": [
    "b = Battle(td, elf_power=14, protected_class=Elf)\n",
    "try:\n",
    "    b.run()\n",
    "except AocError:\n",
    "    print(\"excpected error thrown\")"
   ]
  },
  {
   "cell_type": "code",
   "execution_count": null,
   "metadata": {
    "scrolled": true
   },
   "outputs": [],
   "source": [
    "b = Battle(td, elf_power=15, protected_class=Elf)\n",
    "b.run()\n",
    "assert b.num_rounds == 29\n",
    "assert b.outcome == 4988"
   ]
  },
  {
   "cell_type": "code",
   "execution_count": null,
   "metadata": {},
   "outputs": [],
   "source": [
    "assert q_2(td) == 4988"
   ]
  },
  {
   "cell_type": "code",
   "execution_count": null,
   "metadata": {},
   "outputs": [],
   "source": [
    "s = \"\"\"#######\n",
    "#E..EG#\n",
    "#.#G.E#\n",
    "#E.##E#\n",
    "#G..#.#\n",
    "#..E#.#\n",
    "#######\"\"\"\n",
    "td = np.array([list(row) for row in s.split()])"
   ]
  },
  {
   "cell_type": "code",
   "execution_count": null,
   "metadata": {},
   "outputs": [],
   "source": [
    "assert q_2(td) == 31284"
   ]
  },
  {
   "cell_type": "code",
   "execution_count": null,
   "metadata": {},
   "outputs": [],
   "source": [
    "s = \"\"\"#######\n",
    "#E.G#.#\n",
    "#.#G..#\n",
    "#G.#.G#\n",
    "#G..#.#\n",
    "#...E.#\n",
    "#######\"\"\"\n",
    "td = np.array([list(row) for row in s.split()])"
   ]
  },
  {
   "cell_type": "code",
   "execution_count": null,
   "metadata": {},
   "outputs": [],
   "source": [
    "assert q_2(td) == 3478"
   ]
  },
  {
   "cell_type": "code",
   "execution_count": null,
   "metadata": {},
   "outputs": [],
   "source": [
    "s = \"\"\"#######\n",
    "#.E...#\n",
    "#.#..G#\n",
    "#.###.#\n",
    "#E#G#G#\n",
    "#...#G#\n",
    "#######\"\"\"\n",
    "td = np.array([list(row) for row in s.split()])"
   ]
  },
  {
   "cell_type": "code",
   "execution_count": null,
   "metadata": {},
   "outputs": [],
   "source": [
    "assert q_2(td) == 6474"
   ]
  },
  {
   "cell_type": "code",
   "execution_count": null,
   "metadata": {},
   "outputs": [],
   "source": [
    "s = \"\"\"#########\n",
    "#G......#\n",
    "#.E.#...#\n",
    "#..##..G#\n",
    "#...##..#\n",
    "#...#...#\n",
    "#.G...G.#\n",
    "#.....G.#\n",
    "#########\"\"\"\n",
    "td = np.array([list(row) for row in s.split()])"
   ]
  },
  {
   "cell_type": "code",
   "execution_count": null,
   "metadata": {},
   "outputs": [],
   "source": [
    "assert q_2(td) == 1140"
   ]
  },
  {
   "cell_type": "markdown",
   "metadata": {},
   "source": [
    "#### answer"
   ]
  },
  {
   "cell_type": "code",
   "execution_count": null,
   "metadata": {
    "scrolled": true
   },
   "outputs": [],
   "source": [
    "q_2(load_data())"
   ]
  },
  {
   "cell_type": "markdown",
   "metadata": {},
   "source": [
    "again, fun to see history:"
   ]
  },
  {
   "cell_type": "code",
   "execution_count": null,
   "metadata": {},
   "outputs": [],
   "source": [
    "from ipywidgets import interact\n",
    "\n",
    "b = Battle(load_data(), elf_power=24, protected_class=Elf)\n",
    "b.run()\n",
    "\n",
    "@interact(i=(0, b.num_rounds))\n",
    "def show_battle_state(i=0):\n",
    "    print(b.str_history[i])"
   ]
  },
  {
   "cell_type": "markdown",
   "metadata": {},
   "source": [
    "fin"
   ]
  }
 ],
 "metadata": {
  "kernelspec": {
   "display_name": "Python 3",
   "language": "python",
   "name": "python3"
  },
  "language_info": {
   "codemirror_mode": {
    "name": "ipython",
    "version": 3
   },
   "file_extension": ".py",
   "mimetype": "text/x-python",
   "name": "python",
   "nbconvert_exporter": "python",
   "pygments_lexer": "ipython3",
   "version": "3.6.7"
  }
 },
 "nbformat": 4,
 "nbformat_minor": 2
}
