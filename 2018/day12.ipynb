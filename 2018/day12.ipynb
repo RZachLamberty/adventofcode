{
 "cells": [
  {
   "cell_type": "markdown",
   "metadata": {},
   "source": [
    "# day 12\n",
    "\n",
    "https://adventofcode.com/2018/day/12"
   ]
  },
  {
   "cell_type": "code",
   "execution_count": null,
   "metadata": {},
   "outputs": [],
   "source": [
    "import os\n",
    "\n",
    "import eri.logging as logging"
   ]
  },
  {
   "cell_type": "code",
   "execution_count": null,
   "metadata": {},
   "outputs": [],
   "source": [
    "FNAME = os.path.join('data', 'day12.txt')\n",
    "\n",
    "LOGGER = logging.getLogger('day12')\n",
    "logging.configure()"
   ]
  },
  {
   "cell_type": "markdown",
   "metadata": {},
   "source": [
    "## part 1\n",
    "\n",
    "### problem statement:\n",
    "\n",
    "> The year 518 is significantly more underground than your history books implied. Either that, or you've arrived in a vast cavern network under the North Pole.\n",
    "> \n",
    "> After exploring a little, you discover a long tunnel that contains a row of small pots as far as you can see to your left and right. A few of them contain plants - someone is trying to grow things in these geothermally-heated caves.\n",
    "> \n",
    "> The pots are numbered, with 0 in front of you. To the left, the pots are numbered -1, -2, -3, and so on; to the right, 1, 2, 3.... Your puzzle input contains a list of pots from 0 to the right and whether they do (#) or do not (.) currently contain a plant, the initial state. (No other pots currently contain plants.) For example, an initial state of #..##.... indicates that pots 0, 3, and 4 currently contain plants.\n",
    "> \n",
    "> Your puzzle input also contains some notes you find on a nearby table: someone has been trying to figure out how these plants spread to nearby pots. Based on the notes, for each generation of plants, a given pot has or does not have a plant based on whether that pot (and the two pots on either side of it) had a plant in the last generation. These are written as LLCRR => N, where L are pots to the left, C is the current pot being considered, R are the pots to the right, and N is whether the current pot will have a plant in the next generation. For example:\n",
    "> \n",
    "> + A note like ..#.. => . means that a pot that contains a plant but with no plants within two pots of it will not have a plant in it during the next generation.\n",
    "> + A note like ##.## => . means that an empty pot with two plants on each side of it will remain empty in the next generation.\n",
    "> + A note like .##.# => # means that a pot has a plant in a given generation if, in the previous generation, there were plants in that pot, the one immediately to the left, and the one two pots to the right, but not in the ones immediately to the right and two to the left.\n",
    ">\n",
    "> It's not clear what these plants are for, but you're sure it's important, so you'd like to make sure the current configuration of plants is sustainable by determining what will happen after 20 generations.\n",
    "> \n",
    "> For example, given the following input:\n",
    "> \n",
    ">     initial state: #..#.#..##......###...###\n",
    ">     \n",
    ">     ...## => #\n",
    ">     ..#.. => #\n",
    ">     .#... => #\n",
    ">     .#.#. => #\n",
    ">     .#.## => #\n",
    ">     .##.. => #\n",
    ">     .#### => #\n",
    ">     #.#.# => #\n",
    ">     #.### => #\n",
    ">     ##.#. => #\n",
    ">     ##.## => #\n",
    ">     ###.. => #\n",
    ">     ###.# => #\n",
    ">     ####. => #\n",
    ">\n",
    "> For brevity, in this example, only the combinations which do produce a plant are listed. (Your input includes all possible combinations.) Then, the next 20 generations will look like this:\n",
    "> \n",
    ">                      1         2         3     \n",
    ">            0         0         0         0     \n",
    ">      0: ...#..#.#..##......###...###...........\n",
    ">      1: ...#...#....#.....#..#..#..#...........\n",
    ">      2: ...##..##...##....#..#..#..##..........\n",
    ">      3: ..#.#...#..#.#....#..#..#...#..........\n",
    ">      4: ...#.#..#...#.#...#..#..##..##.........\n",
    ">      5: ....#...##...#.#..#..#...#...#.........\n",
    ">      6: ....##.#.#....#...#..##..##..##........\n",
    ">      7: ...#..###.#...##..#...#...#...#........\n",
    ">      8: ...#....##.#.#.#..##..##..##..##.......\n",
    ">      9: ...##..#..#####....#...#...#...#.......\n",
    ">     10: ..#.#..#...#.##....##..##..##..##......\n",
    ">     11: ...#...##...#.#...#.#...#...#...#......\n",
    ">     12: ...##.#.#....#.#...#.#..##..##..##.....\n",
    ">     13: ..#..###.#....#.#...#....#...#...#.....\n",
    ">     14: ..#....##.#....#.#..##...##..##..##....\n",
    ">     15: ..##..#..#.#....#....#..#.#...#...#....\n",
    ">     16: .#.#..#...#.#...##...#...#.#..##..##...\n",
    ">     17: ..#...##...#.#.#.#...##...#....#...#...\n",
    ">     18: ..##.#.#....#####.#.#.#...##...##..##..\n",
    ">     19: .#..###.#..#.#.#######.#.#.#..#.#...#..\n",
    ">     20: .#....##....#####...#######....#.#..##.\n",
    "> \n",
    "> The generation is shown along the left, where 0 is the initial state. The pot numbers are shown along the top, where 0 labels the center pot, negative-numbered pots extend to the left, and positive pots extend toward the right. Remember, the initial state begins at pot 0, which is not the leftmost pot used in this example.\n",
    "> \n",
    "> After one generation, only seven plants remain. The one in pot 0 matched the rule looking for ..#.., the one in pot 4 matched the rule looking for .#.#., pot 9 matched .##.., and so on.\n",
    "> \n",
    "> In this example, after 20 generations, the pots shown as # contain plants, the furthest left of which is pot -2, and the furthest right of which is pot 34. Adding up all the numbers of plant-containing pots after the 20th generation produces 325.\n",
    "> \n",
    "> After 20 generations, what is the sum of the numbers of all pots which contain a plant?"
   ]
  },
  {
   "cell_type": "markdown",
   "metadata": {},
   "source": [
    "#### loading data"
   ]
  },
  {
   "cell_type": "code",
   "execution_count": null,
   "metadata": {},
   "outputs": [],
   "source": [
    "test_data = \"\"\"initial state: #..#.#..##......###...###\n",
    "\n",
    "...## => #\n",
    "..#.. => #\n",
    ".#... => #\n",
    ".#.#. => #\n",
    ".#.## => #\n",
    ".##.. => #\n",
    ".#### => #\n",
    "#.#.# => #\n",
    "#.### => #\n",
    "##.#. => #\n",
    "##.## => #\n",
    "###.. => #\n",
    "###.# => #\n",
    "####. => #\"\"\""
   ]
  },
  {
   "cell_type": "code",
   "execution_count": null,
   "metadata": {},
   "outputs": [],
   "source": [
    "def load_data(fname=FNAME):\n",
    "    with open(fname) as fp:\n",
    "        return fp.read()"
   ]
  },
  {
   "cell_type": "code",
   "execution_count": null,
   "metadata": {},
   "outputs": [],
   "source": [
    "import re\n",
    "\n",
    "def old_parse(notes):\n",
    "    rules = []\n",
    "    for line in notes.split('\\n'):\n",
    "        if line.startswith('initial'):\n",
    "            initial_state = line[15:]\n",
    "            continue\n",
    "        m = re.match('([\\.#]{2})([\\.#])([\\.#]{2}) => ([\\.#])', line.strip())\n",
    "        if m:\n",
    "            left, current, right, nxt = m.groups()\n",
    "            rules.append({\n",
    "                'left': left,\n",
    "                'current': current,\n",
    "                'right': right,\n",
    "                'nxt': nxt,\n",
    "            })\n",
    "    return initial_state, rules\n",
    "\n",
    "def parse(notes):\n",
    "    rules = {}\n",
    "    for line in notes.split('\\n'):\n",
    "        if line.startswith('initial'):\n",
    "            initial_state = line[15:]\n",
    "            continue\n",
    "        m = re.match('([\\.#]{5}) => ([\\.#])', line.strip())\n",
    "        if m:\n",
    "            lcr, nxt = m.groups()\n",
    "            rules[lcr] = nxt\n",
    "    return initial_state, rules"
   ]
  },
  {
   "cell_type": "code",
   "execution_count": null,
   "metadata": {},
   "outputs": [],
   "source": [
    "parse(test_data)"
   ]
  },
  {
   "cell_type": "code",
   "execution_count": null,
   "metadata": {},
   "outputs": [],
   "source": [
    "parse(load_data())"
   ]
  },
  {
   "cell_type": "markdown",
   "metadata": {},
   "source": [
    "#### function def"
   ]
  },
  {
   "cell_type": "code",
   "execution_count": null,
   "metadata": {},
   "outputs": [],
   "source": [
    "class Pots(object):\n",
    "    def __init__(self, pot_str, offset=0):\n",
    "        self.pot_str = pot_str\n",
    "        self.pot_0_ind = 0\n",
    "        LOGGER.debug(self.pot_str)\n",
    "    \n",
    "    def pad(self):\n",
    "        # make sure that both sides have at least four '.'s.\n",
    "        # update pot_0_ind when left padding\n",
    "        while not self.pot_str.startswith('....'):\n",
    "            self.pot_str = '.' + self.pot_str\n",
    "            self.pot_0_ind += 1\n",
    "            \n",
    "        while not self.pot_str.endswith('....'):\n",
    "            self.pot_str += '.'\n",
    "    \n",
    "    def update(self, rules, rule_size=5):\n",
    "        self.pad()\n",
    "        new_pot_str = ''\n",
    "        for i in range(len(self.pot_str) - rule_size):\n",
    "            substr = self.pot_str[i: i + 5]\n",
    "            new_pot_str += rules.get(substr, '.')\n",
    "        self.pot_str = new_pot_str\n",
    "        LOGGER.debug(self.pot_str)\n",
    "        \n",
    "        # in doing the above, we \"threw away\" the first two chars\n",
    "        # so we need to fix pot_0_ind\n",
    "        self.pot_0_ind -= 2\n",
    "    \n",
    "    def score(self):\n",
    "        return sum(\n",
    "            ind - self.pot_0_ind\n",
    "            for (ind, potchar) in enumerate(self.pot_str)\n",
    "            if potchar == '#'\n",
    "        )"
   ]
  },
  {
   "cell_type": "code",
   "execution_count": null,
   "metadata": {},
   "outputs": [],
   "source": [
    "import tqdm\n",
    "\n",
    "def q_1(data, num_gens=20):\n",
    "    pot_str, rules = parse(data)\n",
    "    p = Pots(pot_str)\n",
    "    for i in tqdm.tnrange(num_gens):\n",
    "        p.update(rules)\n",
    "    return p.score()"
   ]
  },
  {
   "cell_type": "markdown",
   "metadata": {},
   "source": [
    "#### tests"
   ]
  },
  {
   "cell_type": "code",
   "execution_count": null,
   "metadata": {},
   "outputs": [],
   "source": [
    "def test_q_1():\n",
    "    LOGGER.setLevel(logging.DEBUG)\n",
    "    assert q_1(test_data) == 325\n",
    "    LOGGER.setLevel(logging.INFO)"
   ]
  },
  {
   "cell_type": "code",
   "execution_count": null,
   "metadata": {},
   "outputs": [],
   "source": [
    "test_q_1()"
   ]
  },
  {
   "cell_type": "markdown",
   "metadata": {},
   "source": [
    "#### answer"
   ]
  },
  {
   "cell_type": "code",
   "execution_count": null,
   "metadata": {},
   "outputs": [],
   "source": [
    "q_1(load_data())"
   ]
  },
  {
   "cell_type": "markdown",
   "metadata": {},
   "source": [
    "## part 2\n",
    "\n",
    "### problem statement:\n",
    "\n",
    "> You realize that 20 generations aren't enough. After all, these plants will need to last another 1500 years to even reach your timeline, not to mention your future.\n",
    "> \n",
    "> After fifty billion (50000000000) generations, what is the sum of the numbers of all pots which contain a plant?"
   ]
  },
  {
   "cell_type": "markdown",
   "metadata": {},
   "source": [
    "#### function def"
   ]
  },
  {
   "cell_type": "code",
   "execution_count": null,
   "metadata": {},
   "outputs": [],
   "source": [
    "# def q_2(data):\n",
    "#     return q_1(data, num_gens=50000000000)"
   ]
  },
  {
   "cell_type": "markdown",
   "metadata": {},
   "source": [
    "too much!"
   ]
  },
  {
   "cell_type": "code",
   "execution_count": null,
   "metadata": {},
   "outputs": [],
   "source": [
    "logging.getLogger('matplotlib').setLevel(logging.WARNING)\n",
    "import pandas as pd"
   ]
  },
  {
   "cell_type": "code",
   "execution_count": null,
   "metadata": {},
   "outputs": [],
   "source": [
    "pot_str, rules = parse(load_data())\n",
    "p = Pots(pot_str)\n",
    "\n",
    "scores = [{'i': 0, 'score': p.score()}]\n",
    "for i in tqdm.tnrange(500):\n",
    "    p.update(rules)\n",
    "    scores.append({'i': i, 'score': p.score()})\n",
    "\n",
    "scores = pd.DataFrame(scores)\n",
    "scores.head()"
   ]
  },
  {
   "cell_type": "code",
   "execution_count": null,
   "metadata": {},
   "outputs": [],
   "source": [
    "%matplotlib inline\n",
    "\n",
    "import matplotlib.pyplot as plt\n",
    "import seaborn as sns\n",
    "sns.set()"
   ]
  },
  {
   "cell_type": "code",
   "execution_count": null,
   "metadata": {},
   "outputs": [],
   "source": [
    "fig, ax = plt.subplots(figsize=(10, 10))\n",
    "scores.plot('i', 'score', ax=ax)"
   ]
  },
  {
   "cell_type": "code",
   "execution_count": null,
   "metadata": {},
   "outputs": [],
   "source": [
    "scores.diff().tail(20)"
   ]
  },
  {
   "cell_type": "markdown",
   "metadata": {},
   "source": [
    "so we get 73 elements per iteration after 500."
   ]
  },
  {
   "cell_type": "markdown",
   "metadata": {},
   "source": [
    "#### answer"
   ]
  },
  {
   "cell_type": "code",
   "execution_count": null,
   "metadata": {
    "scrolled": true
   },
   "outputs": [],
   "source": [
    "scores.loc[500, 'score'] + 73 * (50_000_000_000 - 500)"
   ]
  },
  {
   "cell_type": "markdown",
   "metadata": {},
   "source": [
    "fin"
   ]
  }
 ],
 "metadata": {
  "kernelspec": {
   "display_name": "Python 3",
   "language": "python",
   "name": "python3"
  },
  "language_info": {
   "codemirror_mode": {
    "name": "ipython",
    "version": 3
   },
   "file_extension": ".py",
   "mimetype": "text/x-python",
   "name": "python",
   "nbconvert_exporter": "python",
   "pygments_lexer": "ipython3",
   "version": "3.6.7"
  }
 },
 "nbformat": 4,
 "nbformat_minor": 2
}
