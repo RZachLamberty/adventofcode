{
 "cells": [
  {
   "cell_type": "markdown",
   "metadata": {},
   "source": [
    "# day 2\n",
    "\n",
    "https://adventofcode.com/2018/day/2"
   ]
  },
  {
   "cell_type": "code",
   "execution_count": 1,
   "metadata": {},
   "outputs": [],
   "source": [
    "import os\n",
    "\n",
    "import eri.logging as logging"
   ]
  },
  {
   "cell_type": "code",
   "execution_count": 2,
   "metadata": {},
   "outputs": [],
   "source": [
    "FNAME = os.path.join('data', 'day2.txt')\n",
    "\n",
    "LOGGER = logging.getLogger('day2')\n",
    "logging.configure()"
   ]
  },
  {
   "cell_type": "markdown",
   "metadata": {},
   "source": [
    "## part 1\n",
    "\n",
    "### problem statement:\n",
    "\n",
    "> You stop falling through time, catch your breath, and check the screen on the device. \"Destination reached. Current Year: 1518. Current Location: North Pole Utility Closet 83N10.\" You made it! Now, to find those anomalies.\n",
    "> \n",
    "> Outside the utility closet, you hear footsteps and a voice. \"...I'm not sure either. But now that so many people have chimneys, maybe he could sneak in that way?\" Another voice responds, \"Actually, we've been working on a new kind of suit that would let him fit through tight spaces like that. But, I heard that a few days ago, they lost the prototype fabric, the design plans, everything! Nobody on the team can even seem to remember important details of the project!\"\n",
    "> \n",
    "> \"Wouldn't they have had enough fabric to fill several boxes in the warehouse? They'd be stored together, so the box IDs should be similar. Too bad it would take forever to search the warehouse for two similar box IDs...\" They walk too far away to hear any more.\n",
    "> \n",
    "> Late at night, you sneak to the warehouse - who knows what kinds of paradoxes you could cause if you were discovered - and use your fancy wrist device to quickly scan every box and produce a list of the likely candidates (your puzzle input).\n",
    "> \n",
    "> To make sure you didn't miss any, you scan the likely candidate boxes again, counting the number that have an ID containing exactly two of any letter and then separately counting those with exactly three of any letter. You can multiply those two counts together to get a rudimentary checksum and compare it to what your device predicts.\n",
    "> \n",
    "> For example, if you see the following box IDs:\n",
    "> \n",
    "> + abcdef contains no letters that appear exactly two or three times.\n",
    "> + bababc contains two a and three b, so it counts for both.\n",
    "> + abbcde contains two b, but no letter appears exactly three times.\n",
    "> + abcccd contains three c, but no letter appears exactly two times.\n",
    "> + aabcdd contains two a and two d, but it only counts once.\n",
    "> + abcdee contains two e.\n",
    "> + ababab contains three a and three b, but it only counts once.\n",
    ">\n",
    "> Of these box IDs, four of them contain a letter which appears exactly twice, and three of them contain a letter which appears exactly three times. Multiplying these together produces a checksum of 4 * 3 = 12.\n",
    "> \n",
    "> What is the checksum for your list of box IDs?"
   ]
  },
  {
   "cell_type": "markdown",
   "metadata": {},
   "source": [
    "#### loading data"
   ]
  },
  {
   "cell_type": "code",
   "execution_count": 3,
   "metadata": {},
   "outputs": [],
   "source": [
    "def load_data(fname=FNAME):\n",
    "    with open(fname, 'r') as f:\n",
    "        return [line.strip() for line in f]"
   ]
  },
  {
   "cell_type": "markdown",
   "metadata": {},
   "source": [
    "#### function def"
   ]
  },
  {
   "cell_type": "code",
   "execution_count": 4,
   "metadata": {},
   "outputs": [],
   "source": [
    "import collections\n",
    "\n",
    "def q_1(boxids):\n",
    "    num_twos = 0\n",
    "    num_threes = 0\n",
    "    for boxid in boxids:\n",
    "        c = collections.Counter(boxid)\n",
    "        num_twos += 2 in c.values()\n",
    "        num_threes += 3 in c.values()\n",
    "    return num_twos * num_threes"
   ]
  },
  {
   "cell_type": "markdown",
   "metadata": {},
   "source": [
    "#### tests"
   ]
  },
  {
   "cell_type": "code",
   "execution_count": 5,
   "metadata": {},
   "outputs": [],
   "source": [
    "test_data = [\n",
    "    'abcdef',\n",
    "    'bababc',\n",
    "    'abbcde',\n",
    "    'abcccd',\n",
    "    'aabcdd',\n",
    "    'abcdee',\n",
    "    'ababab',\n",
    "]\n",
    "\n",
    "def test_q_1():\n",
    "    LOGGER.setLevel(logging.DEBUG)\n",
    "    assert q_1(test_data) == 12\n",
    "    LOGGER.setLevel(logging.INFO)"
   ]
  },
  {
   "cell_type": "code",
   "execution_count": 6,
   "metadata": {},
   "outputs": [],
   "source": [
    "test_q_1()"
   ]
  },
  {
   "cell_type": "markdown",
   "metadata": {},
   "source": [
    "#### answer"
   ]
  },
  {
   "cell_type": "code",
   "execution_count": 7,
   "metadata": {},
   "outputs": [
    {
     "data": {
      "text/plain": [
       "6422"
      ]
     },
     "execution_count": 7,
     "metadata": {},
     "output_type": "execute_result"
    }
   ],
   "source": [
    "q_1(load_data())"
   ]
  },
  {
   "cell_type": "markdown",
   "metadata": {},
   "source": [
    "## part 2\n",
    "\n",
    "### problem statement:\n",
    "\n",
    "> Confident that your list of box IDs is complete, you're ready to find the boxes full of prototype fabric.\n",
    "> \n",
    "> The boxes will have IDs which differ by exactly one character at the same position in both strings. For example, given the following box IDs:\n",
    "> \n",
    "> + abcde\n",
    "> + fghij\n",
    "> + klmno\n",
    "> + pqrst\n",
    "> + fguij\n",
    "> + axcye\n",
    "> + wvxyz\n",
    "> \n",
    "> The IDs abcde and axcye are close, but they differ by two characters (the second and fourth). However, the IDs fghij and fguij differ by exactly one character, the third (h and u). Those must be the correct boxes.\n",
    "> \n",
    "> What letters are common between the two correct box IDs? (In the example above, this is found by removing the differing character from either ID, producing fgij.)"
   ]
  },
  {
   "cell_type": "markdown",
   "metadata": {},
   "source": [
    "#### function def"
   ]
  },
  {
   "cell_type": "code",
   "execution_count": 8,
   "metadata": {},
   "outputs": [],
   "source": [
    "def q_2(boxids):\n",
    "    seen = collections.defaultdict(set)\n",
    "    \n",
    "    for boxid in boxids:\n",
    "        LOGGER.debug('starting boxid: {}'.format(boxid))\n",
    "        for i in range(len(boxid)):\n",
    "            sub_boxid = boxid[:i] + boxid[i + 1:]\n",
    "            LOGGER.debug('sub-boxid: {}'.format(sub_boxid))\n",
    "            seen[sub_boxid].add(boxid)\n",
    "            if len(seen[sub_boxid]) == 2:\n",
    "                LOGGER.debug('matching pair found:')\n",
    "                LOGGER.debug(seen[sub_boxid])\n",
    "                LOGGER.debug('both one item away from')\n",
    "                LOGGER.debug(sub_boxid)\n",
    "                return sub_boxid\n",
    "            else:\n",
    "                seen[sub_boxid].add(boxid)"
   ]
  },
  {
   "cell_type": "markdown",
   "metadata": {},
   "source": [
    "#### tests"
   ]
  },
  {
   "cell_type": "code",
   "execution_count": 9,
   "metadata": {},
   "outputs": [],
   "source": [
    "test_data = [\n",
    "    'abcde',\n",
    "    'fghij',\n",
    "    'klmno',\n",
    "    'pqrst',\n",
    "    'fguij',\n",
    "    'axcye',\n",
    "    'wvxyz',\n",
    "]\n",
    "\n",
    "def test_q_2():\n",
    "    LOGGER.setLevel(logging.DEBUG)\n",
    "    assert q_2(test_data) == 'fgij'\n",
    "    LOGGER.setLevel(logging.INFO)"
   ]
  },
  {
   "cell_type": "code",
   "execution_count": 10,
   "metadata": {
    "scrolled": true
   },
   "outputs": [
    {
     "name": "stdout",
     "output_type": "stream",
     "text": [
      "2018-12-19 23:35:02,991 DEBUG    [day2.q_2:5] starting boxid: abcde\n",
      "2018-12-19 23:35:02,994 DEBUG    [day2.q_2:8] sub-boxid: bcde\n",
      "2018-12-19 23:35:02,998 DEBUG    [day2.q_2:8] sub-boxid: acde\n",
      "2018-12-19 23:35:03,000 DEBUG    [day2.q_2:8] sub-boxid: abde\n",
      "2018-12-19 23:35:03,004 DEBUG    [day2.q_2:8] sub-boxid: abce\n",
      "2018-12-19 23:35:03,009 DEBUG    [day2.q_2:8] sub-boxid: abcd\n",
      "2018-12-19 23:35:03,012 DEBUG    [day2.q_2:5] starting boxid: fghij\n",
      "2018-12-19 23:35:03,017 DEBUG    [day2.q_2:8] sub-boxid: ghij\n",
      "2018-12-19 23:35:03,020 DEBUG    [day2.q_2:8] sub-boxid: fhij\n",
      "2018-12-19 23:35:03,024 DEBUG    [day2.q_2:8] sub-boxid: fgij\n",
      "2018-12-19 23:35:03,026 DEBUG    [day2.q_2:8] sub-boxid: fghj\n",
      "2018-12-19 23:35:03,029 DEBUG    [day2.q_2:8] sub-boxid: fghi\n",
      "2018-12-19 23:35:03,031 DEBUG    [day2.q_2:5] starting boxid: klmno\n",
      "2018-12-19 23:35:03,033 DEBUG    [day2.q_2:8] sub-boxid: lmno\n",
      "2018-12-19 23:35:03,036 DEBUG    [day2.q_2:8] sub-boxid: kmno\n",
      "2018-12-19 23:35:03,041 DEBUG    [day2.q_2:8] sub-boxid: klno\n",
      "2018-12-19 23:35:03,044 DEBUG    [day2.q_2:8] sub-boxid: klmo\n",
      "2018-12-19 23:35:03,046 DEBUG    [day2.q_2:8] sub-boxid: klmn\n",
      "2018-12-19 23:35:03,048 DEBUG    [day2.q_2:5] starting boxid: pqrst\n",
      "2018-12-19 23:35:03,050 DEBUG    [day2.q_2:8] sub-boxid: qrst\n",
      "2018-12-19 23:35:03,053 DEBUG    [day2.q_2:8] sub-boxid: prst\n",
      "2018-12-19 23:35:03,056 DEBUG    [day2.q_2:8] sub-boxid: pqst\n",
      "2018-12-19 23:35:03,058 DEBUG    [day2.q_2:8] sub-boxid: pqrt\n",
      "2018-12-19 23:35:03,061 DEBUG    [day2.q_2:8] sub-boxid: pqrs\n",
      "2018-12-19 23:35:03,063 DEBUG    [day2.q_2:5] starting boxid: fguij\n",
      "2018-12-19 23:35:03,068 DEBUG    [day2.q_2:8] sub-boxid: guij\n",
      "2018-12-19 23:35:03,072 DEBUG    [day2.q_2:8] sub-boxid: fuij\n",
      "2018-12-19 23:35:03,075 DEBUG    [day2.q_2:8] sub-boxid: fgij\n",
      "2018-12-19 23:35:03,077 DEBUG    [day2.q_2:11] matching pair found:\n",
      "2018-12-19 23:35:03,079 DEBUG    [day2.q_2:12] {'fghij', 'fguij'}\n",
      "2018-12-19 23:35:03,082 DEBUG    [day2.q_2:13] both one item away from\n",
      "2018-12-19 23:35:03,084 DEBUG    [day2.q_2:14] fgij\n"
     ]
    }
   ],
   "source": [
    "test_q_2()"
   ]
  },
  {
   "cell_type": "markdown",
   "metadata": {},
   "source": [
    "#### answer"
   ]
  },
  {
   "cell_type": "code",
   "execution_count": 11,
   "metadata": {},
   "outputs": [
    {
     "data": {
      "text/plain": [
       "'qcslyvphgkrmdawljuefotxbh'"
      ]
     },
     "execution_count": 11,
     "metadata": {},
     "output_type": "execute_result"
    }
   ],
   "source": [
    "LOGGER.setLevel(logging.INFO)\n",
    "q_2(load_data())"
   ]
  },
  {
   "cell_type": "markdown",
   "metadata": {},
   "source": [
    "fin"
   ]
  }
 ],
 "metadata": {
  "kernelspec": {
   "display_name": "Python 3",
   "language": "python",
   "name": "python3"
  },
  "language_info": {
   "codemirror_mode": {
    "name": "ipython",
    "version": 3
   },
   "file_extension": ".py",
   "mimetype": "text/x-python",
   "name": "python",
   "nbconvert_exporter": "python",
   "pygments_lexer": "ipython3",
   "version": "3.6.7"
  }
 },
 "nbformat": 4,
 "nbformat_minor": 2
}
