{
 "cells": [
  {
   "cell_type": "markdown",
   "metadata": {},
   "source": [
    "# day 20\n",
    "\n",
    "https://adventofcode.com/2018/day/20"
   ]
  },
  {
   "cell_type": "code",
   "execution_count": null,
   "metadata": {},
   "outputs": [],
   "source": [
    "import os\n",
    "\n",
    "import matplotlib.pyplot as plt\n",
    "import networkx as nx\n",
    "import seaborn as sns\n",
    "\n",
    "import eri.logging as logging"
   ]
  },
  {
   "cell_type": "code",
   "execution_count": null,
   "metadata": {},
   "outputs": [],
   "source": [
    "%matplotlib inline\n",
    "\n",
    "sns.set()"
   ]
  },
  {
   "cell_type": "code",
   "execution_count": null,
   "metadata": {},
   "outputs": [],
   "source": [
    "FNAME = os.path.join('data', 'day20.txt')\n",
    "\n",
    "LOGGER = logging.getLogger('day20')\n",
    "logging.configure()\n",
    "\n",
    "logging.getLogger('matplotlib').setLevel(logging.WARN)"
   ]
  },
  {
   "cell_type": "markdown",
   "metadata": {},
   "source": [
    "## part 1\n",
    "\n",
    "### problem statement:\n",
    "\n",
    "> While you were learning about instruction pointers, the Elves made considerable progress. When you look up, you discover that the North Pole base construction project has completely surrounded you.\n",
    "> \n",
    "> The area you are in is made up entirely of rooms and doors. The rooms are arranged in a grid, and rooms only connect to adjacent rooms when a door is present between them.\n",
    "> \n",
    "> For example, drawing rooms as ., walls as #, doors as | or -, your current position as X, and where north is up, the area you're in might look like this:\n",
    "> \n",
    ">     #####\n",
    ">     #.|.#\n",
    ">     #-###\n",
    ">     #.|X#\n",
    ">     #####\n",
    ">\n",
    "> You get the attention of a passing construction Elf and ask for a map. \"I don't have time to draw out a map of this place - it's huge. Instead, I can give you directions to every room in the facility!\" He writes down some directions on a piece of parchment and runs off. In the example above, the instructions might have been `^WNE$`, a regular expression or \"regex\" (your puzzle input).\n",
    "> \n",
    "> The regex matches routes (like WNE for \"west, north, east\") that will take you from your current room through various doors in the facility. In aggregate, the routes will take you through every door in the facility at least once; mapping out all of these routes will let you build a proper map and find your way around.\n",
    "> \n",
    "> `^` and `$` are at the beginning and end of your regex; these just mean that the regex doesn't match anything outside the routes it describes. (Specifically, `^` matches the start of the route, and `$` matches the end of it.) These characters will not appear elsewhere in the regex.\n",
    "> \n",
    "> The rest of the regex matches various sequences of the characters N (north), S (south), E (east), and W (west). In the example above, `^WNE$` matches only one route, WNE, which means you can move west, then north, then east from your current position. Sequences of letters like this always match that exact route in the same order.\n",
    "> \n",
    "> Sometimes, the route can branch. A branch is given by a list of options separated by pipes (|) and wrapped in parentheses. So, `^N(E|W)N$` contains a branch: after going north, you must choose to go either east or west before finishing your route by going north again. By tracing out the possible routes after branching, you can determine where the doors are and, therefore, where the rooms are in the facility.\n",
    "> \n",
    "> For example, consider this regex: `^ENWWW(NEEE|SSE(EE|N))$`\n",
    "> \n",
    "> This regex begins with ENWWW, which means that from your current position, all routes must begin by moving east, north, and then west three times, in that order. After this, there is a branch. Before you consider the branch, this is what you know about the map so far, with doors you aren't sure about marked with a ?:\n",
    "> \n",
    ">     #?#?#?#?#\n",
    ">     ?.|.|.|.?\n",
    ">     #?#?#?#-#\n",
    ">         ?X|.?\n",
    ">         #?#?#\n",
    "> \n",
    "> After this point, there is (NEEE|SSE(EE|N)). This gives you exactly two options: NEEE and SSE(EE|N). By following NEEE, the map now looks like this:\n",
    "> \n",
    ">     #?#?#?#?#\n",
    ">     ?.|.|.|.?\n",
    ">     #-#?#?#?#\n",
    ">     ?.|.|.|.?\n",
    ">     #?#?#?#-#\n",
    ">         ?X|.?\n",
    ">         #?#?#\n",
    "> \n",
    "> Now, only SSE(EE|N) remains. Because it is in the same parenthesized group as NEEE, it starts from the same room NEEE started in. It states that starting from that point, there exist doors which will allow you to move south twice, then east; this ends up at another branch. After that, you can either move east twice or north once. This information fills in the rest of the doors:\n",
    "> \n",
    ">     #?#?#?#?#\n",
    ">     ?.|.|.|.?\n",
    ">     #-#?#?#?#\n",
    ">     ?.|.|.|.?\n",
    ">     #-#?#?#-#\n",
    ">     ?.?.?X|.?\n",
    ">     #-#-#?#?#\n",
    ">     ?.|.|.|.?\n",
    ">     #?#?#?#?#\n",
    "> \n",
    "> Once you've followed all possible routes, you know the remaining unknown parts are all walls, producing a finished map of the facility:\n",
    "> \n",
    ">     #########\n",
    ">     #.|.|.|.#\n",
    ">     #-#######\n",
    ">     #.|.|.|.#\n",
    ">     #-#####-#\n",
    ">     #.#.#X|.#\n",
    ">     #-#-#####\n",
    ">     #.|.|.|.#\n",
    ">     #########\n",
    "> \n",
    "> Sometimes, a list of options can have an empty option, like (NEWS|WNSE|). This means that routes at this point could effectively skip the options in parentheses and move on immediately. For example, consider this regex and the corresponding map:\n",
    "> \n",
    "> `^ENNWSWW(NEWS|)SSSEEN(WNSE|)EE(SWEN|)NNN$`\n",
    "> \n",
    ">     ###########\n",
    ">     #.|.#.|.#.#\n",
    ">     #-###-#-#-#\n",
    ">     #.|.|.#.#.#\n",
    ">     #-#####-#-#\n",
    ">     #.#.#X|.#.#\n",
    ">     #-#-#####-#\n",
    ">     #.#.|.|.|.#\n",
    ">     #-###-###-#\n",
    ">     #.|.|.#.|.#\n",
    ">     ###########\n",
    "> \n",
    "> This regex has one main route which, at three locations, can optionally include additional detours and be valid: (NEWS|), (WNSE|), and (SWEN|). Regardless of which option is taken, the route continues from the position it is left at after taking those steps. So, for example, this regex matches all of the following routes (and more that aren't listed here):\n",
    "> \n",
    ">     ENNWSWWSSSEENEENNN\n",
    ">     ENNWSWWNEWSSSSEENEENNN\n",
    ">     ENNWSWWNEWSSSSEENEESWENNNN\n",
    ">     ENNWSWWSSSEENWNSEEENNN\n",
    "> \n",
    "> By following the various routes the regex matches, a full map of all of the doors and rooms in the facility can be assembled.\n",
    "> \n",
    "> To get a sense for the size of this facility, you'd like to determine which room is furthest from you: specifically, you would like to find the room for which the shortest path to that room would require passing through the most doors.\n",
    "> \n",
    "> + In the first example (`^WNE$`), this would be the north-east corner 3 doors away.\n",
    "> + In the second example (`^ENWWW(NEEE|SSE(EE|N))$`), this would be the south-east corner 10 doors away.\n",
    "> + In the third example (`^ENNWSWW(NEWS|)SSSEEN(WNSE|)EE(SWEN|)NNN$`), this would be the north-east corner 18 doors away.\n",
    ">\n",
    "> Here are a few more examples:\n",
    "> \n",
    "> `Regex: ^ESSWWN(E|NNENN(EESS(WNSE|)SSS|WWWSSSSE(SW|NNNE)))$`\n",
    ">\n",
    ">     Furthest room requires passing 23 doors\n",
    ">     \n",
    ">     #############\n",
    ">     #.|.|.|.|.|.#\n",
    ">     #-#####-###-#\n",
    ">     #.#.|.#.#.#.#\n",
    ">     #-#-###-#-#-#\n",
    ">     #.#.#.|.#.|.#\n",
    ">     #-#-#-#####-#\n",
    ">     #.#.#.#X|.#.#\n",
    ">     #-#-#-###-#-#\n",
    ">     #.|.#.|.#.#.#\n",
    ">     ###-#-###-#-#\n",
    ">     #.|.#.|.|.#.#\n",
    ">     #############\n",
    "> \n",
    ">     Regex: ^WSSEESWWWNW(S|NENNEEEENN(ESSSSW(NWSW|SSEN)|WSWWN(E|WWS(E|SS))))$\n",
    ">     Furthest room requires passing 31 doors\n",
    ">     \n",
    ">     ###############\n",
    ">     #.|.|.|.#.|.|.#\n",
    ">     #-###-###-#-#-#\n",
    ">     #.|.#.|.|.#.#.#\n",
    ">     #-#########-#-#\n",
    ">     #.#.|.|.|.|.#.#\n",
    ">     #-#-#########-#\n",
    ">     #.#.#.|X#.|.#.#\n",
    ">     ###-#-###-#-#-#\n",
    ">     #.|.#.#.|.#.|.#\n",
    ">     #-###-#####-###\n",
    ">     #.|.#.|.|.#.#.#\n",
    ">     #-#-#####-#-#-#\n",
    ">     #.#.|.|.|.#.|.#\n",
    ">     ###############\n",
    "> \n",
    "> What is the largest number of doors you would be required to pass through to reach a room? That is, find the room for which the shortest path from your starting location to that room would require passing through the most doors; what is the fewest doors you can pass through to reach it?"
   ]
  },
  {
   "cell_type": "markdown",
   "metadata": {},
   "source": [
    "#### loading data"
   ]
  },
  {
   "cell_type": "code",
   "execution_count": null,
   "metadata": {},
   "outputs": [],
   "source": [
    "def load_data(fname=FNAME):\n",
    "    with open(fname) as fp:\n",
    "        return fp.read().strip()"
   ]
  },
  {
   "cell_type": "markdown",
   "metadata": {},
   "source": [
    "#### function def"
   ]
  },
  {
   "cell_type": "code",
   "execution_count": null,
   "metadata": {},
   "outputs": [],
   "source": [
    "import networkx as nx\n",
    "\n",
    "D = {'N': 1, 'E': 1j, 'S': -1, 'W': -1j}\n",
    "\n",
    "def path_to_network(paths):\n",
    "    maze = nx.Graph()\n",
    "    \n",
    "    outer_shell = {0}\n",
    "    group_stack = []\n",
    "    shell_starts = {}\n",
    "    shell_ends = set()\n",
    "\n",
    "    for c in paths:\n",
    "        if c == '|':\n",
    "            # within a group, a split. our current position is a new group\n",
    "            # ending position, so add that. then, re-boot the starting positions\n",
    "            # to the start-of-group starting_positions\n",
    "            shell_ends.update(outer_shell)\n",
    "            outer_shell = shell_starts\n",
    "        elif c in 'NESW':\n",
    "            # move in a given direction: add all edges and update our current positions\n",
    "            direction = D[c]\n",
    "            maze.add_edges_from((p, p + direction) for p in outer_shell)\n",
    "            outer_shell = {p + direction for p in outer_shell}\n",
    "        elif c == '(':\n",
    "            # start of group: add current positions as start of a new group\n",
    "            group_stack.append((shell_starts, shell_ends))\n",
    "            shell_starts, shell_ends = outer_shell, set()\n",
    "        elif c == ')':\n",
    "            # end of group: finish current group, add current positions as possible ends\n",
    "            outer_shell.update(shell_ends)\n",
    "            shell_starts, shell_ends = group_stack.pop()\n",
    "\n",
    "    return maze"
   ]
  },
  {
   "cell_type": "code",
   "execution_count": null,
   "metadata": {},
   "outputs": [],
   "source": [
    "def maze_pos(maze):\n",
    "    return {n: (n.imag, n.real) for n in maze.nodes()}"
   ]
  },
  {
   "cell_type": "code",
   "execution_count": null,
   "metadata": {},
   "outputs": [],
   "source": [
    "def vis_maze(maze, figsize=(6, 6), **kwargs):\n",
    "    fig, ax = plt.subplots(figsize=figsize)\n",
    "    nx.draw(maze, pos=maze_pos(maze), ax=ax, **kwargs)"
   ]
  },
  {
   "cell_type": "code",
   "execution_count": null,
   "metadata": {},
   "outputs": [],
   "source": [
    "def q_1(data):\n",
    "    maze = path_to_network(data)\n",
    "    \n",
    "    lengths = nx.algorithms.shortest_path_length(maze, 0)\n",
    "    return max(lengths.values())"
   ]
  },
  {
   "cell_type": "markdown",
   "metadata": {},
   "source": [
    "#### tests"
   ]
  },
  {
   "cell_type": "code",
   "execution_count": null,
   "metadata": {},
   "outputs": [],
   "source": [
    "test_0, val_0 = '^WNE$', 3\n",
    "test_1, val_1 = '^ENWWW(NEEE|SSE(EE|N))$', 10\n",
    "test_2, val_2 = '^ENNWSWW(NEWS|)SSSEEN(WNSE|)EE(SWEN|)NNN$', 18\n",
    "test_3, val_3 = '^ESSWWN(E|NNENN(EESS(WNSE|)SSS|WWWSSSSE(SW|NNNE)))$', 23\n",
    "test_4, val_4 = '^WSSEESWWWNW(S|NENNEEEENN(ESSSSW(NWSW|SSEN)|WSWWN(E|WWS(E|SS))))$', 31"
   ]
  },
  {
   "cell_type": "code",
   "execution_count": null,
   "metadata": {},
   "outputs": [],
   "source": [
    "maze_0 = path_to_network(test_0)\n",
    "maze_0.nodes()"
   ]
  },
  {
   "cell_type": "code",
   "execution_count": null,
   "metadata": {},
   "outputs": [],
   "source": [
    "vis_maze(path_to_network(test_0))"
   ]
  },
  {
   "cell_type": "code",
   "execution_count": null,
   "metadata": {},
   "outputs": [],
   "source": [
    "vis_maze(path_to_network(test_1))"
   ]
  },
  {
   "cell_type": "code",
   "execution_count": null,
   "metadata": {},
   "outputs": [],
   "source": [
    "vis_maze(path_to_network(test_2))"
   ]
  },
  {
   "cell_type": "code",
   "execution_count": null,
   "metadata": {},
   "outputs": [],
   "source": [
    "vis_maze(path_to_network(test_3))"
   ]
  },
  {
   "cell_type": "code",
   "execution_count": null,
   "metadata": {},
   "outputs": [],
   "source": [
    "vis_maze(path_to_network(test_4))"
   ]
  },
  {
   "cell_type": "code",
   "execution_count": null,
   "metadata": {},
   "outputs": [],
   "source": [
    "vis_maze(path_to_network(load_data()), figsize=(15, 15), node_size=10)"
   ]
  },
  {
   "cell_type": "code",
   "execution_count": null,
   "metadata": {},
   "outputs": [],
   "source": [
    "def test_q_1():\n",
    "    LOGGER.setLevel(logging.DEBUG)\n",
    "    assert q_1(test_0) == val_0\n",
    "    assert q_1(test_1) == val_1\n",
    "    assert q_1(test_2) == val_2\n",
    "    assert q_1(test_3) == val_3\n",
    "    assert q_1(test_4) == val_4\n",
    "    LOGGER.setLevel(logging.INFO)"
   ]
  },
  {
   "cell_type": "code",
   "execution_count": null,
   "metadata": {},
   "outputs": [],
   "source": [
    "test_q_1()"
   ]
  },
  {
   "cell_type": "markdown",
   "metadata": {},
   "source": [
    "#### answer"
   ]
  },
  {
   "cell_type": "code",
   "execution_count": null,
   "metadata": {},
   "outputs": [],
   "source": [
    "q_1(load_data())"
   ]
  },
  {
   "cell_type": "markdown",
   "metadata": {},
   "source": [
    "## part 2\n",
    "\n",
    "### problem statement:\n",
    "\n",
    "> Okay, so the facility is big.\n",
    ">\n",
    "> How many rooms have a shortest path from your current location that pass through at least 1000 doors?"
   ]
  },
  {
   "cell_type": "markdown",
   "metadata": {},
   "source": [
    "#### function def"
   ]
  },
  {
   "cell_type": "code",
   "execution_count": null,
   "metadata": {},
   "outputs": [],
   "source": [
    "def q_2(data):\n",
    "    maze = path_to_network(data)\n",
    "    \n",
    "    lengths = nx.algorithms.shortest_path_length(maze, 0)\n",
    "    return sum(l >= 1000 for l in lengths.values())"
   ]
  },
  {
   "cell_type": "markdown",
   "metadata": {},
   "source": [
    "#### answer"
   ]
  },
  {
   "cell_type": "code",
   "execution_count": null,
   "metadata": {
    "scrolled": true
   },
   "outputs": [],
   "source": [
    "q_2(load_data())"
   ]
  },
  {
   "cell_type": "markdown",
   "metadata": {},
   "source": [
    "fin"
   ]
  }
 ],
 "metadata": {
  "kernelspec": {
   "display_name": "Python 3",
   "language": "python",
   "name": "python3"
  },
  "language_info": {
   "codemirror_mode": {
    "name": "ipython",
    "version": 3
   },
   "file_extension": ".py",
   "mimetype": "text/x-python",
   "name": "python",
   "nbconvert_exporter": "python",
   "pygments_lexer": "ipython3",
   "version": "3.6.8"
  }
 },
 "nbformat": 4,
 "nbformat_minor": 2
}
