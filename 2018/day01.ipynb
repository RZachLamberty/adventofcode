{
 "cells": [
  {
   "cell_type": "markdown",
   "metadata": {},
   "source": [
    "# day 1\n",
    "\n",
    "https://adventofcode.com/2018/day/1"
   ]
  },
  {
   "cell_type": "code",
   "execution_count": 1,
   "metadata": {},
   "outputs": [],
   "source": [
    "import os\n",
    "\n",
    "import eri.logging as logging"
   ]
  },
  {
   "cell_type": "code",
   "execution_count": 2,
   "metadata": {},
   "outputs": [],
   "source": [
    "FNAME = os.path.join('data', 'day1.txt')\n",
    "\n",
    "LOGGER = logging.getLogger('day1')\n",
    "logging.configure()"
   ]
  },
  {
   "cell_type": "markdown",
   "metadata": {},
   "source": [
    "## part 1\n",
    "\n",
    "### problem statement:\n",
    "\n",
    "> \"We've detected some temporal anomalies,\" one of Santa's Elves at the Temporal Anomaly Research and Detection Instrument Station tells you. She sounded pretty worried when she called you down here. \"At 500-year intervals into the past, someone has been changing Santa's history!\"\n",
    "> \n",
    "> \"The good news is that the changes won't propagate to our time stream for another 25 days, and we have a device\" - she attaches something to your wrist - \"that will let you fix the changes with no such propagation delay. It's configured to send you 500 years further into the past every few days; that was the best we could do on such short notice.\"\n",
    "> \n",
    "> \"The bad news is that we are detecting roughly fifty anomalies throughout time; the device will indicate fixed anomalies with stars. The other bad news is that we only have one device and you're the best person for the job! Good lu--\" She taps a button on the device and you suddenly feel like you're falling. To save Christmas, you need to get all fifty stars by December 25th.\n",
    "> \n",
    "> Collect stars by solving puzzles. Two puzzles will be made available on each day in the advent calendar; the second puzzle is unlocked when you complete the first. Each puzzle grants one star. Good luck!\n",
    "> \n",
    "> After feeling like you've been falling for a few minutes, you look at the device's tiny screen. \"Error: Device must be calibrated before first use. Frequency drift detected. Cannot maintain destination lock.\" Below the message, the device shows a sequence of changes in frequency (your puzzle input). A value like +6 means the current frequency increases by 6; a value like -3 means the current frequency decreases by 3.\n",
    "> \n",
    "> For example, if the device displays frequency changes of +1, -2, +3, +1, then starting from a frequency of zero, the following changes would occur:\n",
    "> \n",
    "> + Current frequency  0, change of +1; resulting frequency  1.\n",
    "> + Current frequency  1, change of -2; resulting frequency -1.\n",
    "> + Current frequency -1, change of +3; resulting frequency  2.\n",
    "> + Current frequency  2, change of +1; resulting frequency  3.\n",
    "> \n",
    "> In this example, the resulting frequency is 3.\n",
    "> \n",
    "> Here are other example situations:\n",
    "> \n",
    "> + +1, +1, +1 results in  3\n",
    "> + +1, +1, -2 results in  0\n",
    "> + -1, -2, -3 results in -6\n",
    "> \n",
    "> Starting with a frequency of zero, what is the resulting frequency after all of the changes in frequency have been applied?"
   ]
  },
  {
   "cell_type": "markdown",
   "metadata": {},
   "source": [
    "#### loading data"
   ]
  },
  {
   "cell_type": "code",
   "execution_count": 3,
   "metadata": {},
   "outputs": [],
   "source": [
    "def load_data(fname=FNAME):\n",
    "    with open(fname, 'r') as f:\n",
    "        return [int(_.strip()) for _ in f]"
   ]
  },
  {
   "cell_type": "markdown",
   "metadata": {},
   "source": [
    "#### function def"
   ]
  },
  {
   "cell_type": "code",
   "execution_count": 4,
   "metadata": {},
   "outputs": [],
   "source": [
    "def q_1(data, freq=0):\n",
    "    return freq + sum(data)"
   ]
  },
  {
   "cell_type": "markdown",
   "metadata": {},
   "source": [
    "#### tests"
   ]
  },
  {
   "cell_type": "code",
   "execution_count": 5,
   "metadata": {},
   "outputs": [],
   "source": [
    "def test_q_1():\n",
    "    LOGGER.setLevel(logging.DEBUG)\n",
    "    assert q_1([1, -2, 3, 1]) == 3\n",
    "    assert q_1([1, 1, 1]) == 3\n",
    "    assert q_1([1, 1 -2]) == 0\n",
    "    assert q_1([-1, -2, -3]) == -6\n",
    "    LOGGER.setLevel(logging.INFO)"
   ]
  },
  {
   "cell_type": "code",
   "execution_count": 6,
   "metadata": {},
   "outputs": [],
   "source": [
    "test_q_1()"
   ]
  },
  {
   "cell_type": "markdown",
   "metadata": {},
   "source": [
    "#### answer"
   ]
  },
  {
   "cell_type": "code",
   "execution_count": 7,
   "metadata": {},
   "outputs": [
    {
     "data": {
      "text/plain": [
       "508"
      ]
     },
     "execution_count": 7,
     "metadata": {},
     "output_type": "execute_result"
    }
   ],
   "source": [
    "q_1(load_data())"
   ]
  },
  {
   "cell_type": "markdown",
   "metadata": {},
   "source": [
    "## part 2\n",
    "\n",
    "### problem statement:\n",
    "\n",
    "> You notice that the device repeats the same frequency change list over and over. To calibrate the device, you need to find the first frequency it reaches twice.\n",
    "> \n",
    "> For example, using the same list of changes above, the device would loop as follows:\n",
    "> \n",
    "> + Current frequency  0, change of +1; resulting frequency  1.\n",
    "> + Current frequency  1, change of -2; resulting frequency -1.\n",
    "> + Current frequency -1, change of +3; resulting frequency  2.\n",
    "> + Current frequency  2, change of +1; resulting frequency  3.\n",
    "> + (At this point, the device continues from the start of the list.)\n",
    "> + Current frequency  3, change of +1; resulting frequency  4.\n",
    "> + Current frequency  4, change of -2; resulting frequency  2, which has already been seen.\n",
    "> \n",
    "> + In this example, the first frequency reached twice is 2. Note that your device might need to repeat its list of frequency changes many times before a duplicate frequency is found, and that duplicates might be found while in the middle of processing the list.\n",
    "> \n",
    "> Here are other examples:\n",
    "> \n",
    "> + +1, -1 first reaches 0 twice.\n",
    "> + +3, +3, +4, -2, -4 first reaches 10 twice.\n",
    "> + -6, +3, +8, +5, -6 first reaches 5 twice.\n",
    "> + +7, +7, -2, -7, -4 first reaches 14 twice.\n",
    "> \n",
    "> What is the first frequency your device reaches twice?"
   ]
  },
  {
   "cell_type": "markdown",
   "metadata": {},
   "source": [
    "#### function def"
   ]
  },
  {
   "cell_type": "code",
   "execution_count": 8,
   "metadata": {},
   "outputs": [],
   "source": [
    "def q_2(data, freq=0):\n",
    "    seen = set([freq])\n",
    "    i = 0\n",
    "    L = len(data)\n",
    "    while True:\n",
    "        freq += data[i]\n",
    "        LOGGER.debug('new frequency is {}'.format(freq))\n",
    "        if freq in seen:\n",
    "            return freq\n",
    "        seen.add(freq)\n",
    "        i += 1\n",
    "        i %= L"
   ]
  },
  {
   "cell_type": "markdown",
   "metadata": {},
   "source": [
    "#### tests"
   ]
  },
  {
   "cell_type": "code",
   "execution_count": 9,
   "metadata": {},
   "outputs": [],
   "source": [
    "def test_q_2():\n",
    "    LOGGER.setLevel(logging.DEBUG)\n",
    "    assert q_2([1, -2, 3, 1]) == 2\n",
    "    assert q_2([1, -1]) == 0\n",
    "    assert q_2([3, 3, 4, -2, -4]) == 10\n",
    "    assert q_2([-6, 3, 8, 5, -6]) == 5\n",
    "    assert q_2([7, 7, -2, -7, -4]) == 14\n",
    "    LOGGER.setLevel(logging.INFO)"
   ]
  },
  {
   "cell_type": "code",
   "execution_count": 10,
   "metadata": {
    "scrolled": true
   },
   "outputs": [
    {
     "name": "stdout",
     "output_type": "stream",
     "text": [
      "2018-12-19 23:34:47,800 DEBUG    [day1.q_2:7] new frequency is 1\n",
      "2018-12-19 23:34:47,803 DEBUG    [day1.q_2:7] new frequency is -1\n",
      "2018-12-19 23:34:47,805 DEBUG    [day1.q_2:7] new frequency is 2\n",
      "2018-12-19 23:34:47,807 DEBUG    [day1.q_2:7] new frequency is 3\n",
      "2018-12-19 23:34:47,809 DEBUG    [day1.q_2:7] new frequency is 4\n",
      "2018-12-19 23:34:47,811 DEBUG    [day1.q_2:7] new frequency is 2\n",
      "2018-12-19 23:34:47,814 DEBUG    [day1.q_2:7] new frequency is 1\n",
      "2018-12-19 23:34:47,817 DEBUG    [day1.q_2:7] new frequency is 0\n",
      "2018-12-19 23:34:47,819 DEBUG    [day1.q_2:7] new frequency is 3\n",
      "2018-12-19 23:34:47,821 DEBUG    [day1.q_2:7] new frequency is 6\n",
      "2018-12-19 23:34:47,824 DEBUG    [day1.q_2:7] new frequency is 10\n",
      "2018-12-19 23:34:47,828 DEBUG    [day1.q_2:7] new frequency is 8\n",
      "2018-12-19 23:34:47,833 DEBUG    [day1.q_2:7] new frequency is 4\n",
      "2018-12-19 23:34:47,836 DEBUG    [day1.q_2:7] new frequency is 7\n",
      "2018-12-19 23:34:47,838 DEBUG    [day1.q_2:7] new frequency is 10\n",
      "2018-12-19 23:34:47,840 DEBUG    [day1.q_2:7] new frequency is -6\n",
      "2018-12-19 23:34:47,843 DEBUG    [day1.q_2:7] new frequency is -3\n",
      "2018-12-19 23:34:47,845 DEBUG    [day1.q_2:7] new frequency is 5\n",
      "2018-12-19 23:34:47,846 DEBUG    [day1.q_2:7] new frequency is 10\n",
      "2018-12-19 23:34:47,848 DEBUG    [day1.q_2:7] new frequency is 4\n",
      "2018-12-19 23:34:47,850 DEBUG    [day1.q_2:7] new frequency is -2\n",
      "2018-12-19 23:34:47,852 DEBUG    [day1.q_2:7] new frequency is 1\n",
      "2018-12-19 23:34:47,853 DEBUG    [day1.q_2:7] new frequency is 9\n",
      "2018-12-19 23:34:47,855 DEBUG    [day1.q_2:7] new frequency is 14\n",
      "2018-12-19 23:34:47,864 DEBUG    [day1.q_2:7] new frequency is 8\n",
      "2018-12-19 23:34:47,867 DEBUG    [day1.q_2:7] new frequency is 2\n",
      "2018-12-19 23:34:47,869 DEBUG    [day1.q_2:7] new frequency is 5\n",
      "2018-12-19 23:34:47,872 DEBUG    [day1.q_2:7] new frequency is 7\n",
      "2018-12-19 23:34:47,874 DEBUG    [day1.q_2:7] new frequency is 14\n",
      "2018-12-19 23:34:47,877 DEBUG    [day1.q_2:7] new frequency is 12\n",
      "2018-12-19 23:34:47,879 DEBUG    [day1.q_2:7] new frequency is 5\n",
      "2018-12-19 23:34:47,881 DEBUG    [day1.q_2:7] new frequency is 1\n",
      "2018-12-19 23:34:47,883 DEBUG    [day1.q_2:7] new frequency is 8\n",
      "2018-12-19 23:34:47,887 DEBUG    [day1.q_2:7] new frequency is 15\n",
      "2018-12-19 23:34:47,890 DEBUG    [day1.q_2:7] new frequency is 13\n",
      "2018-12-19 23:34:47,892 DEBUG    [day1.q_2:7] new frequency is 6\n",
      "2018-12-19 23:34:47,895 DEBUG    [day1.q_2:7] new frequency is 2\n",
      "2018-12-19 23:34:47,896 DEBUG    [day1.q_2:7] new frequency is 9\n",
      "2018-12-19 23:34:47,898 DEBUG    [day1.q_2:7] new frequency is 16\n",
      "2018-12-19 23:34:47,900 DEBUG    [day1.q_2:7] new frequency is 14\n"
     ]
    }
   ],
   "source": [
    "test_q_2()"
   ]
  },
  {
   "cell_type": "markdown",
   "metadata": {},
   "source": [
    "#### answer"
   ]
  },
  {
   "cell_type": "code",
   "execution_count": 11,
   "metadata": {},
   "outputs": [
    {
     "data": {
      "text/plain": [
       "549"
      ]
     },
     "execution_count": 11,
     "metadata": {},
     "output_type": "execute_result"
    }
   ],
   "source": [
    "LOGGER.setLevel(logging.INFO)\n",
    "q_2(load_data())"
   ]
  },
  {
   "cell_type": "markdown",
   "metadata": {},
   "source": [
    "fin"
   ]
  }
 ],
 "metadata": {
  "kernelspec": {
   "display_name": "Python 3",
   "language": "python",
   "name": "python3"
  },
  "language_info": {
   "codemirror_mode": {
    "name": "ipython",
    "version": 3
   },
   "file_extension": ".py",
   "mimetype": "text/x-python",
   "name": "python",
   "nbconvert_exporter": "python",
   "pygments_lexer": "ipython3",
   "version": "3.6.7"
  }
 },
 "nbformat": 4,
 "nbformat_minor": 2
}
