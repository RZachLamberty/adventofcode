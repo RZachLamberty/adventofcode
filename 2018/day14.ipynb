{
 "cells": [
  {
   "cell_type": "markdown",
   "metadata": {},
   "source": [
    "# day 14\n",
    "\n",
    "https://adventofcode.com/2018/day/14"
   ]
  },
  {
   "cell_type": "code",
   "execution_count": null,
   "metadata": {},
   "outputs": [],
   "source": [
    "import os\n",
    "\n",
    "import eri.logging as logging"
   ]
  },
  {
   "cell_type": "code",
   "execution_count": null,
   "metadata": {},
   "outputs": [],
   "source": [
    "FNAME = os.path.join('data', 'day14.txt')\n",
    "\n",
    "LOGGER = logging.getLogger('day14')\n",
    "logging.configure()"
   ]
  },
  {
   "cell_type": "markdown",
   "metadata": {},
   "source": [
    "## part 1\n",
    "\n",
    "### problem statement:\n",
    "\n",
    "> You finally have a chance to look at all of the produce moving around. Chocolate, cinnamon, mint, chili peppers, nutmeg, vanilla... the Elves must be growing these plants to make hot chocolate! As you realize this, you hear a conversation in the distance. When you go to investigate, you discover two Elves in what appears to be a makeshift underground kitchen/laboratory.\n",
    "> \n",
    "> The Elves are trying to come up with the ultimate hot chocolate recipe; they're even maintaining a scoreboard which tracks the quality score (0-9) of each recipe.\n",
    "> \n",
    "> Only two recipes are on the board: the first recipe got a score of 3, the second, 7. Each of the two Elves has a current recipe: the first Elf starts with the first recipe, and the second Elf starts with the second recipe.\n",
    "> \n",
    "> To create new recipes, the two Elves combine their current recipes. This creates new recipes from the digits of the sum of the current recipes' scores. With the current recipes' scores of 3 and 7, their sum is 10, and so two new recipes would be created: the first with score 1 and the second with score 0. If the current recipes' scores were 2 and 3, the sum, 5, would only create one recipe (with a score of 5) with its single digit.\n",
    "> \n",
    "> The new recipes are added to the end of the scoreboard in the order they are created. So, after the first round, the scoreboard is 3, 7, 1, 0.\n",
    "> \n",
    "> After all new recipes are added to the scoreboard, each Elf picks a new current recipe. To do this, the Elf steps forward through the scoreboard a number of recipes equal to 1 plus the score of their current recipe. So, after the first round, the first Elf moves forward 1 + 3 = 4 times, while the second Elf moves forward 1 + 7 = 8 times. If they run out of recipes, they loop back around to the beginning. After the first round, both Elves happen to loop around until they land on the same recipe that they had in the beginning; in general, they will move to different recipes.\n",
    "> \n",
    "> Drawing the first Elf as parentheses and the second Elf as square brackets, they continue this process:\n",
    "> \n",
    ">     (3)[7]\n",
    ">     (3)[7] 1  0 \n",
    ">      3  7  1 [0](1) 0 \n",
    ">      3  7  1  0 [1] 0 (1)\n",
    ">     (3) 7  1  0  1  0 [1] 2 \n",
    ">      3  7  1  0 (1) 0  1  2 [4]\n",
    ">      3  7  1 [0] 1  0 (1) 2  4  5 \n",
    ">      3  7  1  0 [1] 0  1  2 (4) 5  1 \n",
    ">      3 (7) 1  0  1  0 [1] 2  4  5  1  5 \n",
    ">      3  7  1  0  1  0  1  2 [4](5) 1  5  8 \n",
    ">      3 (7) 1  0  1  0  1  2  4  5  1  5  8 [9]\n",
    ">      3  7  1  0  1  0  1 [2] 4 (5) 1  5  8  9  1  6 \n",
    ">      3  7  1  0  1  0  1  2  4  5 [1] 5  8  9  1 (6) 7 \n",
    ">      3  7  1  0 (1) 0  1  2  4  5  1  5 [8] 9  1  6  7  7 \n",
    ">      3  7 [1] 0  1  0 (1) 2  4  5  1  5  8  9  1  6  7  7  9 \n",
    ">      3  7  1  0 [1] 0  1  2 (4) 5  1  5  8  9  1  6  7  7  9  2 \n",
    ">\n",
    "> The Elves think their skill will improve after making a few recipes (your puzzle input). However, that could take ages; you can speed this up considerably by identifying the scores of the ten recipes after that. For example:\n",
    "> \n",
    "> + If the Elves think their skill will improve after making 9 recipes, the scores of the ten recipes after the first nine on the scoreboard would be 5158916779 (highlighted in the last line of the diagram).\n",
    "> + After 5 recipes, the scores of the next ten would be 0124515891.\n",
    "> + After 18 recipes, the scores of the next ten would be 9251071085.\n",
    "> + After 2018 recipes, the scores of the next ten would be 5941429882.\n",
    ">\n",
    "> What are the scores of the ten recipes immediately after the number of recipes in your puzzle input?"
   ]
  },
  {
   "cell_type": "markdown",
   "metadata": {},
   "source": [
    "#### loading data"
   ]
  },
  {
   "cell_type": "code",
   "execution_count": null,
   "metadata": {},
   "outputs": [],
   "source": [
    "test_data = [\n",
    "    (9, '5158916779'),\n",
    "    (5, '0124515891'),\n",
    "    (18, '9251071085'),\n",
    "    (2018, '5941429882'),\n",
    "]"
   ]
  },
  {
   "cell_type": "code",
   "execution_count": null,
   "metadata": {},
   "outputs": [],
   "source": [
    "def load_data(fname=FNAME):\n",
    "    return 894501"
   ]
  },
  {
   "cell_type": "markdown",
   "metadata": {},
   "source": [
    "#### function def"
   ]
  },
  {
   "cell_type": "code",
   "execution_count": null,
   "metadata": {},
   "outputs": [],
   "source": [
    "def q_1(num_recipes):\n",
    "    recipe_list = [3, 7]\n",
    "    elf_0 = 0\n",
    "    elf_1 = 1\n",
    "    \n",
    "    while len(recipe_list) < num_recipes + 10:\n",
    "        recipe_0 = recipe_list[elf_0]\n",
    "        recipe_1 = recipe_list[elf_1]\n",
    "        \n",
    "        new_recipe_0, new_recipe_1 = divmod(recipe_0 + recipe_1, 10)\n",
    "        \n",
    "        if new_recipe_0 != 0:\n",
    "            recipe_list.append(new_recipe_0)\n",
    "        recipe_list.append(new_recipe_1)\n",
    "        \n",
    "        elf_0 += recipe_0 + 1\n",
    "        elf_0 %= len(recipe_list)\n",
    "        elf_1 += recipe_1 + 1\n",
    "        elf_1 %= len(recipe_list)\n",
    "        \n",
    "        if num_recipes < 80:\n",
    "            LOGGER.debug(''.join([\n",
    "                ('({})' if i == elf_0 else '[{}]' if i == elf_1 else ' {} ').format(v)\n",
    "                for (i, v) in enumerate(recipe_list)\n",
    "            ]))\n",
    "    \n",
    "    output = ''.join([str(_) for _ in recipe_list[num_recipes : num_recipes + 10]])\n",
    "    LOGGER.debug('output: {}'.format(output))\n",
    "    return output"
   ]
  },
  {
   "cell_type": "markdown",
   "metadata": {},
   "source": [
    "#### tests"
   ]
  },
  {
   "cell_type": "code",
   "execution_count": null,
   "metadata": {},
   "outputs": [],
   "source": [
    "def test_q_1():\n",
    "    LOGGER.setLevel(logging.DEBUG)\n",
    "    for inp, out in test_data:\n",
    "        LOGGER.debug('input: {}'.format(inp))\n",
    "        LOGGER.debug('expected output: {}'.format(out))\n",
    "        assert q_1(inp) == out\n",
    "    LOGGER.setLevel(logging.INFO)"
   ]
  },
  {
   "cell_type": "code",
   "execution_count": null,
   "metadata": {
    "scrolled": true
   },
   "outputs": [],
   "source": [
    "test_q_1()"
   ]
  },
  {
   "cell_type": "markdown",
   "metadata": {},
   "source": [
    "#### answer"
   ]
  },
  {
   "cell_type": "code",
   "execution_count": null,
   "metadata": {},
   "outputs": [],
   "source": [
    "q_1(load_data())"
   ]
  },
  {
   "cell_type": "markdown",
   "metadata": {},
   "source": [
    "## part 2\n",
    "\n",
    "### problem statement:\n",
    "\n",
    "> As it turns out, you got the Elves' plan backwards. They actually want to know how many recipes appear on the scoreboard to the left of the first recipes whose scores are the digits from your puzzle input.\n",
    "> \n",
    "> + 51589 first appears after 9 recipes.\n",
    "> + 01245 first appears after 5 recipes.\n",
    "> + 92510 first appears after 18 recipes.\n",
    "> + 59414 first appears after 2018 recipes.\n",
    ">\n",
    "> How many recipes appear on the scoreboard to the left of the score sequence in your puzzle input?"
   ]
  },
  {
   "cell_type": "markdown",
   "metadata": {},
   "source": [
    "#### function def"
   ]
  },
  {
   "cell_type": "code",
   "execution_count": null,
   "metadata": {},
   "outputs": [],
   "source": [
    "def q_2(end_val_str):\n",
    "    end_val_ints = [int(_) for _ in end_val_str]\n",
    "    LOGGER.info('target: {}'.format(end_val_ints))\n",
    "    recipe_list = [3, 7]\n",
    "    elf_0 = 0\n",
    "    elf_1 = 1\n",
    "    \n",
    "    L = len(end_val_ints)\n",
    "    i = 0\n",
    "    while True:\n",
    "        recipe_0 = recipe_list[elf_0]\n",
    "        recipe_1 = recipe_list[elf_1]\n",
    "        \n",
    "        new_recipe_0, new_recipe_1 = divmod(recipe_0 + recipe_1, 10)\n",
    "        \n",
    "        if new_recipe_0 != 0:\n",
    "            recipe_list.append(new_recipe_0)\n",
    "        recipe_list.append(new_recipe_1)\n",
    "        \n",
    "        if end_val_ints == recipe_list[-L:]:\n",
    "            output = len(recipe_list) - L\n",
    "        elif end_val_ints == recipe_list[-L-1:-1]:\n",
    "            output = len(recipe_list) - L - 1\n",
    "        else:\n",
    "            output = None\n",
    "        \n",
    "        if output:\n",
    "            LOGGER.debug('output: {}'.format(output))\n",
    "            LOGGER.info(\"trailing recipe: {}\".format(recipe_list[-L-4:]))\n",
    "            return output\n",
    "        \n",
    "        elf_0 += recipe_0 + 1\n",
    "        elf_0 %= len(recipe_list)\n",
    "        elf_1 += recipe_1 + 1\n",
    "        elf_1 %= len(recipe_list)\n",
    "        \n",
    "        if len(recipe_list) < 80:\n",
    "            LOGGER.debug(''.join([\n",
    "                ('({})' if i == elf_0 else '[{}]' if i == elf_1 else ' {} ').format(v)\n",
    "                for (i, v) in enumerate(recipe_list)\n",
    "            ]))\n",
    "        \n",
    "        if i > 0 and i % 1_000_000 == 0:\n",
    "            LOGGER.info('step {}'.format(i))\n",
    "        i += 1\n",
    "        \n",
    "        if i == 15624070:\n",
    "            break\n",
    "    \n",
    "    "
   ]
  },
  {
   "cell_type": "markdown",
   "metadata": {},
   "source": [
    "#### tests"
   ]
  },
  {
   "cell_type": "code",
   "execution_count": null,
   "metadata": {},
   "outputs": [],
   "source": [
    "test_data = [\n",
    "    ('51589', 9),\n",
    "    ('01245', 5),\n",
    "    ('92510', 18),\n",
    "    ('59414', 2018),\n",
    "]"
   ]
  },
  {
   "cell_type": "code",
   "execution_count": null,
   "metadata": {},
   "outputs": [],
   "source": [
    "def test_q_2():\n",
    "    LOGGER.setLevel(logging.DEBUG)\n",
    "    for inp, out in test_data:\n",
    "        LOGGER.debug('input: {}'.format(inp))\n",
    "        LOGGER.debug('expected output: {}'.format(out))\n",
    "        assert q_2(inp) == out\n",
    "    LOGGER.setLevel(logging.INFO)"
   ]
  },
  {
   "cell_type": "code",
   "execution_count": null,
   "metadata": {
    "scrolled": true
   },
   "outputs": [],
   "source": [
    "test_q_2()"
   ]
  },
  {
   "cell_type": "markdown",
   "metadata": {},
   "source": [
    "#### answer"
   ]
  },
  {
   "cell_type": "code",
   "execution_count": null,
   "metadata": {
    "scrolled": true
   },
   "outputs": [],
   "source": [
    "q_2(str(load_data()))"
   ]
  },
  {
   "cell_type": "markdown",
   "metadata": {},
   "source": [
    "slick super-small version on reddit"
   ]
  },
  {
   "cell_type": "code",
   "execution_count": null,
   "metadata": {},
   "outputs": [],
   "source": [
    "recipes = '894501'\n",
    "score = '37'\n",
    "elf1 = 0\n",
    "elf2 = 1\n",
    "i = 0\n",
    "while recipes not in score[-7:]:\n",
    "    score += str(int(score[elf1]) + int(score[elf2]))\n",
    "    elf1 = (elf1 + int(score[elf1]) + 1) % len(score)\n",
    "    elf2 = (elf2 + int(score[elf2]) + 1) % len(score)\n",
    "    i += 1\n",
    "\n",
    "print('Part 1:', score[int(recipes):int(recipes)+10])\n",
    "print('Part 2:', score.index(recipes))\n",
    "print(i)"
   ]
  },
  {
   "cell_type": "markdown",
   "metadata": {},
   "source": [
    "fin"
   ]
  }
 ],
 "metadata": {
  "kernelspec": {
   "display_name": "Python 3",
   "language": "python",
   "name": "python3"
  },
  "language_info": {
   "codemirror_mode": {
    "name": "ipython",
    "version": 3
   },
   "file_extension": ".py",
   "mimetype": "text/x-python",
   "name": "python",
   "nbconvert_exporter": "python",
   "pygments_lexer": "ipython3",
   "version": "3.6.7"
  }
 },
 "nbformat": 4,
 "nbformat_minor": 2
}
