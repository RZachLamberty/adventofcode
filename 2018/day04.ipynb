{
 "cells": [
  {
   "cell_type": "markdown",
   "metadata": {},
   "source": [
    "# day 4\n",
    "\n",
    "https://adventofcode.com/2018/day/4"
   ]
  },
  {
   "cell_type": "code",
   "execution_count": 1,
   "metadata": {},
   "outputs": [],
   "source": [
    "import os\n",
    "\n",
    "import eri.logging as logging"
   ]
  },
  {
   "cell_type": "code",
   "execution_count": 2,
   "metadata": {},
   "outputs": [],
   "source": [
    "FNAME = os.path.join('data', 'day4.txt')\n",
    "\n",
    "LOGGER = logging.getLogger('day4')\n",
    "logging.configure()"
   ]
  },
  {
   "cell_type": "markdown",
   "metadata": {},
   "source": [
    "## part 1\n",
    "\n",
    "### problem statement:\n",
    "\n",
    "> You've sneaked into another supply closet - this time, it's across from the prototype suit manufacturing lab. You need to sneak inside and fix the issues with the suit, but there's a guard stationed outside the lab, so this is as close as you can safely get.\n",
    "> \n",
    "> As you search the closet for anything that might help, you discover that you're not the first person to want to sneak in. Covering the walls, someone has spent an hour starting every midnight for the past few months secretly observing this guard post! They've been writing down the ID of the one guard on duty that night - the Elves seem to have decided that one guard was enough for the overnight shift - as well as when they fall asleep or wake up while at their post (your puzzle input).\n",
    "> \n",
    "> For example, consider the following records, which have already been organized into chronological order:\n",
    "> \n",
    ">     [1518-11-01 00:00] Guard #10 begins shift\n",
    ">     [1518-11-01 00:05] falls asleep\n",
    ">     [1518-11-01 00:25] wakes up\n",
    ">     [1518-11-01 00:30] falls asleep\n",
    ">     [1518-11-01 00:55] wakes up\n",
    ">     [1518-11-01 23:58] Guard #99 begins shift\n",
    ">     [1518-11-02 00:40] falls asleep\n",
    ">     [1518-11-02 00:50] wakes up\n",
    ">     [1518-11-03 00:05] Guard #10 begins shift\n",
    ">     [1518-11-03 00:24] falls asleep\n",
    ">     [1518-11-03 00:29] wakes up\n",
    ">     [1518-11-04 00:02] Guard #99 begins shift\n",
    ">     [1518-11-04 00:36] falls asleep\n",
    ">     [1518-11-04 00:46] wakes up\n",
    ">     [1518-11-05 00:03] Guard #99 begins shift\n",
    ">     [1518-11-05 00:45] falls asleep\n",
    ">     [1518-11-05 00:55] wakes up\n",
    "> \n",
    "> Timestamps are written using year-month-day hour:minute format. The guard falling asleep or waking up is always the one whose shift most recently started. Because all asleep/awake times are during the midnight hour (00:00 - 00:59), only the minute portion (00 - 59) is relevant for those events.\n",
    "> \n",
    "> Visually, these records show that the guards are asleep at these times:\n",
    "> \n",
    ">     Date   ID   Minute\n",
    ">                 000000000011111111112222222222333333333344444444445555555555\n",
    ">                 012345678901234567890123456789012345678901234567890123456789\n",
    ">     11-01  #10  .....####################.....#########################.....\n",
    ">     11-02  #99  ........................................##########..........\n",
    ">     11-03  #10  ........................#####...............................\n",
    ">     11-04  #99  ....................................##########..............\n",
    ">     11-05  #99  .............................................##########.....\n",
    ">\n",
    "> The columns are Date, which shows the month-day portion of the relevant day; ID, which shows the guard on duty that day; and Minute, which shows the minutes during which the guard was asleep within the midnight hour. (The Minute column's header shows the minute's ten's digit in the first row and the one's digit in the second row.) Awake is shown as ., and asleep is shown as #.\n",
    "> \n",
    "> Note that guards count as asleep on the minute they fall asleep, and they count as awake on the minute they wake up. For example, because Guard #10 wakes up at 00:25 on 1518-11-01, minute 25 is marked as awake.\n",
    "> \n",
    "> If you can figure out the guard most likely to be asleep at a specific time, you might be able to trick that guard into working tonight so you can have the best chance of sneaking in. You have two strategies for choosing the best guard/minute combination.\n",
    "> \n",
    "> Strategy 1: Find the guard that has the most minutes asleep. What minute does that guard spend asleep the most?\n",
    "> \n",
    "> In the example above, Guard #10 spent the most minutes asleep, a total of 50 minutes (20+25+5), while Guard #99 only slept for a total of 30 minutes (10+10+10). Guard #10 was asleep most during minute 24 (on two days, whereas any other minute the guard was asleep was only seen on one day).\n",
    "> \n",
    "> While this example listed the entries in chronological order, your entries are in the order you found them. You'll need to organize them before they can be analyzed.\n",
    "> \n",
    "> What is the ID of the guard you chose multiplied by the minute you chose? (In the above example, the answer would be 10 * 24 = 240.)"
   ]
  },
  {
   "cell_type": "markdown",
   "metadata": {},
   "source": [
    "#### loading data"
   ]
  },
  {
   "cell_type": "code",
   "execution_count": 77,
   "metadata": {},
   "outputs": [],
   "source": [
    "def load_data(fname=FNAME):\n",
    "    with open(fname, 'r') as f:\n",
    "        return [line.strip() for line in f]"
   ]
  },
  {
   "cell_type": "markdown",
   "metadata": {},
   "source": [
    "#### function def"
   ]
  },
  {
   "cell_type": "code",
   "execution_count": 59,
   "metadata": {},
   "outputs": [],
   "source": [
    "import collections\n",
    "import re\n",
    "\n",
    "import numpy as np\n",
    "\n",
    "def _parse_record(s):\n",
    "    return re.match('\\[([0-9\\- :]+)\\] ([Gfw])[^#]+#?(\\d+)?', s).groups()\n",
    "\n",
    "\n",
    "def parse(records):\n",
    "    sleep_recs = collections.defaultdict(\n",
    "        lambda: collections.defaultdict(\n",
    "            lambda: np.zeros(60)\n",
    "        )\n",
    "    )\n",
    "    for record in sorted(records):\n",
    "        ymd, gfw, guard_num = _parse_record(record)\n",
    "        if gfw == 'G':\n",
    "            current_guard = guard_num\n",
    "        elif gfw == 'f':\n",
    "            date = ymd[:10]\n",
    "            fell_asleep_at = int(ymd[-2:])\n",
    "            sleep_recs[current_guard][date][fell_asleep_at:] = 1\n",
    "        elif gfw == 'w':\n",
    "            date = ymd[:10]\n",
    "            woke_up_at = int(ymd[-2:])\n",
    "            sleep_recs[current_guard][date][woke_up_at:] = 0\n",
    "        else:\n",
    "            raise ValueError()\n",
    "    return sleep_recs"
   ]
  },
  {
   "cell_type": "code",
   "execution_count": 73,
   "metadata": {},
   "outputs": [],
   "source": [
    "def q_1(records):\n",
    "    records = parse(records)\n",
    "    \n",
    "    sleep_summary = []\n",
    "    for k, d in records.items():\n",
    "        sleep_history = sum(d.values())\n",
    "        sleep_time = sleep_history.argmax()\n",
    "        total_sleep = sleep_history.sum()\n",
    "        sleep_summary.append((k, int(k) * sleep_time, total_sleep))\n",
    "    \n",
    "    return max(sleep_summary, key=lambda rec: rec[2])[1]"
   ]
  },
  {
   "cell_type": "markdown",
   "metadata": {},
   "source": [
    "#### tests"
   ]
  },
  {
   "cell_type": "code",
   "execution_count": 74,
   "metadata": {},
   "outputs": [],
   "source": [
    "test_data = [\n",
    "    '[1518-11-01 00:00] Guard #10 begins shift',\n",
    "    '[1518-11-01 00:05] falls asleep',\n",
    "    '[1518-11-01 00:25] wakes up',\n",
    "    '[1518-11-01 00:30] falls asleep',\n",
    "    '[1518-11-01 00:55] wakes up',\n",
    "    '[1518-11-01 23:58] Guard #99 begins shift',\n",
    "    '[1518-11-02 00:40] falls asleep',\n",
    "    '[1518-11-02 00:50] wakes up',\n",
    "    '[1518-11-03 00:05] Guard #10 begins shift',\n",
    "    '[1518-11-03 00:24] falls asleep',\n",
    "    '[1518-11-03 00:29] wakes up',\n",
    "    '[1518-11-04 00:02] Guard #99 begins shift',\n",
    "    '[1518-11-04 00:36] falls asleep',\n",
    "    '[1518-11-04 00:46] wakes up',\n",
    "    '[1518-11-05 00:03] Guard #99 begins shift',\n",
    "    '[1518-11-05 00:45] falls asleep',\n",
    "    '[1518-11-05 00:55] wakes up',\n",
    "]\n",
    "\n",
    "def test_q_1():\n",
    "    LOGGER.setLevel(logging.DEBUG)\n",
    "    assert q_1(test_data) == 240\n",
    "    LOGGER.setLevel(logging.INFO)"
   ]
  },
  {
   "cell_type": "code",
   "execution_count": 75,
   "metadata": {},
   "outputs": [],
   "source": [
    "test_q_1()"
   ]
  },
  {
   "cell_type": "markdown",
   "metadata": {},
   "source": [
    "#### answer"
   ]
  },
  {
   "cell_type": "code",
   "execution_count": 78,
   "metadata": {},
   "outputs": [
    {
     "data": {
      "text/plain": [
       "30630"
      ]
     },
     "execution_count": 78,
     "metadata": {},
     "output_type": "execute_result"
    }
   ],
   "source": [
    "q_1(load_data())"
   ]
  },
  {
   "cell_type": "markdown",
   "metadata": {},
   "source": [
    "## part 2\n",
    "\n",
    "### problem statement:\n",
    "\n",
    "> Strategy 2: Of all guards, which guard is most frequently asleep on the same minute?\n",
    "> \n",
    "> In the example above, Guard #99 spent minute 45 asleep more than any other guard or minute - three times in total. (In all other cases, any guard spent any minute asleep at most twice.)\n",
    "> \n",
    "> What is the ID of the guard you chose multiplied by the minute you chose? (In the above example, the answer would be 99 * 45 = 4455.)"
   ]
  },
  {
   "cell_type": "markdown",
   "metadata": {},
   "source": [
    "#### function def"
   ]
  },
  {
   "cell_type": "code",
   "execution_count": 84,
   "metadata": {},
   "outputs": [],
   "source": [
    "def q_2(records):\n",
    "    records = parse(records)\n",
    "    \n",
    "    sleep_summary = []\n",
    "    for k, d in records.items():\n",
    "        sleep_history = sum(d.values())\n",
    "        sleep_time = sleep_history.argmax()\n",
    "        sleep_time_time = sleep_history.max()\n",
    "        sleep_summary.append((k, int(k) * sleep_time, sleep_time_time))\n",
    "    \n",
    "    return max(sleep_summary, key=lambda rec: rec[2])[1]"
   ]
  },
  {
   "cell_type": "markdown",
   "metadata": {},
   "source": [
    "#### tests"
   ]
  },
  {
   "cell_type": "code",
   "execution_count": 85,
   "metadata": {},
   "outputs": [],
   "source": [
    "def test_q_2():\n",
    "    LOGGER.setLevel(logging.DEBUG)\n",
    "    assert q_2(test_data) == 4455\n",
    "    LOGGER.setLevel(logging.INFO)"
   ]
  },
  {
   "cell_type": "code",
   "execution_count": 86,
   "metadata": {
    "scrolled": true
   },
   "outputs": [],
   "source": [
    "test_q_2()"
   ]
  },
  {
   "cell_type": "markdown",
   "metadata": {},
   "source": [
    "#### answer"
   ]
  },
  {
   "cell_type": "code",
   "execution_count": 87,
   "metadata": {},
   "outputs": [
    {
     "data": {
      "text/plain": [
       "136571"
      ]
     },
     "execution_count": 87,
     "metadata": {},
     "output_type": "execute_result"
    }
   ],
   "source": [
    "LOGGER.setLevel(logging.INFO)\n",
    "q_2(load_data())"
   ]
  },
  {
   "cell_type": "markdown",
   "metadata": {},
   "source": [
    "fin"
   ]
  }
 ],
 "metadata": {
  "kernelspec": {
   "display_name": "Python 3",
   "language": "python",
   "name": "python3"
  },
  "language_info": {
   "codemirror_mode": {
    "name": "ipython",
    "version": 3
   },
   "file_extension": ".py",
   "mimetype": "text/x-python",
   "name": "python",
   "nbconvert_exporter": "python",
   "pygments_lexer": "ipython3",
   "version": "3.6.7"
  }
 },
 "nbformat": 4,
 "nbformat_minor": 2
}
