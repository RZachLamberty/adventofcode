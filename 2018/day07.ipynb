{
 "cells": [
  {
   "cell_type": "markdown",
   "metadata": {},
   "source": [
    "# day 7\n",
    "\n",
    "https://adventofcode.com/2018/day/7"
   ]
  },
  {
   "cell_type": "code",
   "execution_count": null,
   "metadata": {},
   "outputs": [],
   "source": [
    "import os\n",
    "\n",
    "import eri.logging as logging"
   ]
  },
  {
   "cell_type": "code",
   "execution_count": null,
   "metadata": {},
   "outputs": [],
   "source": [
    "FNAME = os.path.join('data', 'day7.txt')\n",
    "\n",
    "LOGGER = logging.getLogger('day7')\n",
    "logging.configure()"
   ]
  },
  {
   "cell_type": "markdown",
   "metadata": {},
   "source": [
    "## part 1\n",
    "\n",
    "### problem statement:\n",
    "\n",
    "> You find yourself standing on a snow-covered coastline; apparently, you landed a little off course. The region is too hilly to see the North Pole from here, but you do spot some Elves that seem to be trying to unpack something that washed ashore. It's quite cold out, so you decide to risk creating a paradox by asking them for directions.\n",
    "> \n",
    "> \"Oh, are you the search party?\" Somehow, you can understand whatever Elves from the year 1018 speak; you assume it's Ancient Nordic Elvish. Could the device on your wrist also be a translator? \"Those clothes don't look very warm; take this.\" They hand you a heavy coat.\n",
    "> \n",
    "> \"We do need to find our way back to the North Pole, but we have higher priorities at the moment. You see, believe it or not, this box contains something that will solve all of Santa's transportation problems - at least, that's what it looks like from the pictures in the instructions.\" It doesn't seem like they can read whatever language it's in, but you can: \"Sleigh kit. Some assembly required.\"\n",
    "> \n",
    "> \"'Sleigh'? What a wonderful name! You must help us assemble this 'sleigh' at once!\" They start excitedly pulling more parts out of the box.\n",
    "> \n",
    "> The instructions specify a series of steps and requirements about which steps must be finished before others can begin (your puzzle input). Each step is designated by a single letter. For example, suppose you have the following instructions:\n",
    "> \n",
    ">     Step C must be finished before step A can begin.\n",
    ">     Step C must be finished before step F can begin.\n",
    ">     Step A must be finished before step B can begin.\n",
    ">     Step A must be finished before step D can begin.\n",
    ">     Step B must be finished before step E can begin.\n",
    ">     Step D must be finished before step E can begin.\n",
    ">     Step F must be finished before step E can begin.\n",
    "> \n",
    "> Visually, these requirements look like this:\n",
    "> \n",
    "> \n",
    ">       -->A--->B--\n",
    ">      /    \\      \\\n",
    ">     C      -->D----->E\n",
    ">      \\           /\n",
    ">       ---->F-----\n",
    "> \n",
    "> Your first goal is to determine the order in which the steps should be completed. If more than one step is ready, choose the step which is first alphabetically. In this example, the steps would be completed as follows:\n",
    "> \n",
    "> + Only C is available, and so it is done first.\n",
    "> + Next, both A and F are available. A is first alphabetically, so it is done next.\n",
    "> + Then, even though F was available earlier, steps B and D are now also available, and B is the first alphabetically of the three.\n",
    "> + After that, only D and F are available. E is not available because only some of its prerequisites are complete. Therefore, D is completed next.\n",
    "> + F is the only choice, so it is done next.\n",
    "> + Finally, E is completed.\n",
    "> + So, in this example, the correct order is CABDFE.\n",
    "> \n",
    "> In what order should the steps in your instructions be completed?"
   ]
  },
  {
   "cell_type": "markdown",
   "metadata": {},
   "source": [
    "#### loading data"
   ]
  },
  {
   "cell_type": "code",
   "execution_count": null,
   "metadata": {},
   "outputs": [],
   "source": [
    "def load_data(fname=FNAME):\n",
    "    with open(fname, 'r') as f:\n",
    "        return [line.strip() for line in f]"
   ]
  },
  {
   "cell_type": "markdown",
   "metadata": {},
   "source": [
    "#### function def"
   ]
  },
  {
   "cell_type": "code",
   "execution_count": null,
   "metadata": {},
   "outputs": [],
   "source": [
    "import networkx as nx\n",
    "import re\n",
    "\n",
    "def parse(records):\n",
    "    return [\n",
    "        re.match('Step (\\w) must be finished before step (\\w) can begin', s).groups()\n",
    "        for s in records\n",
    "    ]"
   ]
  },
  {
   "cell_type": "code",
   "execution_count": null,
   "metadata": {},
   "outputs": [],
   "source": [
    "def q_1(records):\n",
    "    src_dst_list = parse(records)\n",
    "    g = nx.DiGraph()\n",
    "    g.add_edges_from(src_dst_list)\n",
    "    return ''.join(nx.lexicographical_topological_sort(g))"
   ]
  },
  {
   "cell_type": "markdown",
   "metadata": {},
   "source": [
    "#### tests"
   ]
  },
  {
   "cell_type": "code",
   "execution_count": null,
   "metadata": {},
   "outputs": [],
   "source": [
    "test_data = [\n",
    "    'Step C must be finished before step A can begin.',\n",
    "    'Step C must be finished before step F can begin.',\n",
    "    'Step A must be finished before step B can begin.',\n",
    "    'Step A must be finished before step D can begin.',\n",
    "    'Step B must be finished before step E can begin.',\n",
    "    'Step D must be finished before step E can begin.',\n",
    "    'Step F must be finished before step E can begin.',\n",
    "]\n",
    "\n",
    "def test_q_1():\n",
    "    LOGGER.setLevel(logging.DEBUG)\n",
    "    assert q_1(test_data) == 'CABDFE'\n",
    "    LOGGER.setLevel(logging.INFO)"
   ]
  },
  {
   "cell_type": "code",
   "execution_count": null,
   "metadata": {},
   "outputs": [],
   "source": [
    "test_q_1()"
   ]
  },
  {
   "cell_type": "markdown",
   "metadata": {},
   "source": [
    "#### answer"
   ]
  },
  {
   "cell_type": "code",
   "execution_count": null,
   "metadata": {},
   "outputs": [],
   "source": [
    "q_1(load_data())"
   ]
  },
  {
   "cell_type": "markdown",
   "metadata": {},
   "source": [
    "## part 2\n",
    "\n",
    "### problem statement:\n",
    "\n",
    "> As you're about to begin construction, four of the Elves offer to help. \"The sun will set soon; it'll go faster if we work together.\" Now, you need to account for multiple people working on steps simultaneously. If multiple steps are available, workers should still begin them in alphabetical order.\n",
    "> \n",
    "> Each step takes 60 seconds plus an amount corresponding to its letter: A=1, B=2, C=3, and so on. So, step A takes 60+1=61 seconds, while step Z takes 60+26=86 seconds. No time is required between steps.\n",
    "> \n",
    "> To simplify things for the example, however, suppose you only have help from one Elf (a total of two workers) and that each step takes 60 fewer seconds (so that step A takes 1 second and step Z takes 26 seconds). Then, using the same instructions as above, this is how each second would be spent:\n",
    "> \n",
    ">     Second   Worker 1   Worker 2   Done\n",
    ">        0        C          .        \n",
    ">        1        C          .        \n",
    ">        2        C          .        \n",
    ">        3        A          F       C\n",
    ">        4        B          F       CA\n",
    ">        5        B          F       CA\n",
    ">        6        D          F       CAB\n",
    ">        7        D          F       CAB\n",
    ">        8        D          F       CAB\n",
    ">        9        D          .       CABF\n",
    ">       10        E          .       CABFD\n",
    ">       11        E          .       CABFD\n",
    ">       12        E          .       CABFD\n",
    ">       13        E          .       CABFD\n",
    ">       14        E          .       CABFD\n",
    ">       15        .          .       CABFDE\n",
    "> \n",
    "> Each row represents one second of time. The Second column identifies how many seconds have passed as of the beginning of that second. Each worker column shows the step that worker is currently doing (or . if they are idle). The Done column shows completed steps.\n",
    "> \n",
    "> Note that the order of the steps has changed; this is because steps now take time to finish and multiple workers can begin multiple steps simultaneously.\n",
    "> \n",
    "> In this example, it would take 15 seconds for two workers to complete these steps.\n",
    "> \n",
    "> With 5 workers and the 60+ second step durations described above, how long will it take to complete all of the steps?"
   ]
  },
  {
   "cell_type": "markdown",
   "metadata": {},
   "source": [
    "#### function def"
   ]
  },
  {
   "cell_type": "code",
   "execution_count": null,
   "metadata": {},
   "outputs": [],
   "source": [
    "#records = load_data()\n",
    "records = test_data\n",
    "src_dst_list = parse(records)\n",
    "g = nx.DiGraph()\n",
    "g.add_edges_from(src_dst_list)\n",
    "\n",
    "for node, data in g.nodes(data=True):\n",
    "    data['state'] = 'unworked'"
   ]
  },
  {
   "cell_type": "code",
   "execution_count": null,
   "metadata": {},
   "outputs": [],
   "source": [
    "l = sorted(available(g))\n",
    "l"
   ]
  },
  {
   "cell_type": "code",
   "execution_count": null,
   "metadata": {},
   "outputs": [],
   "source": []
  },
  {
   "cell_type": "code",
   "execution_count": null,
   "metadata": {},
   "outputs": [],
   "source": [
    "g.add_edges_from?"
   ]
  },
  {
   "cell_type": "code",
   "execution_count": null,
   "metadata": {},
   "outputs": [],
   "source": [
    "for n in g.nodes(data=True):\n",
    "    break"
   ]
  },
  {
   "cell_type": "code",
   "execution_count": null,
   "metadata": {},
   "outputs": [],
   "source": [
    "n"
   ]
  },
  {
   "cell_type": "code",
   "execution_count": null,
   "metadata": {},
   "outputs": [],
   "source": [
    "g.node['C']"
   ]
  },
  {
   "cell_type": "code",
   "execution_count": null,
   "metadata": {},
   "outputs": [],
   "source": [
    "g.remove_node?"
   ]
  },
  {
   "cell_type": "code",
   "execution_count": null,
   "metadata": {},
   "outputs": [],
   "source": [
    "def available(g):\n",
    "    av = {\n",
    "        node \n",
    "        for (node, data) in g.nodes(data=True)\n",
    "        if g.in_degree(node) == 0\n",
    "        and data['state'] == 'unworked'\n",
    "    }\n",
    "    LOGGER.debug('available: {}'.format(av))\n",
    "    return av\n",
    "\n",
    "def first_node(g):\n",
    "    \"\"\"mark the first available node as being in the working state \"\"\"\n",
    "    node = sorted(available(g))[0]\n",
    "    g.node[node]['state'] = 'in_queue'\n",
    "    return node\n",
    "\n",
    "def time_to_proc(node, t0=0):\n",
    "    return t0 + ord(node) - 64\n",
    "\n",
    "def assign_workers(g, working, t0=0, num_secs=None):\n",
    "    LOGGER.debug('assigning workers')\n",
    "    for (i, worker) in enumerate(working):\n",
    "        if worker is None:\n",
    "            try:\n",
    "                node = first_node(g)\n",
    "                working[i] = {'node': node, 'time': time_to_proc(node, t0)}\n",
    "                if num_secs is not None:\n",
    "                    LOGGER.info('starting node {} at {}'.format(node, num_secs))\n",
    "            except IndexError:\n",
    "                break\n",
    "\n",
    "def cleanup_workers(working, done, g, min_time):\n",
    "    for (i, worker) in enumerate(working):\n",
    "        if worker:\n",
    "            worker['time'] -= min_time\n",
    "            if worker['time'] == 0:\n",
    "                \n",
    "                done_node = worker['node']\n",
    "                done += done_node\n",
    "                LOGGER.debug('done = {}'.format(done))\n",
    "                \n",
    "                working[i] = None\n",
    "                \n",
    "                # the way we mark a node as finished is by removing it\n",
    "                g.remove_node(done_node)\n",
    "                _ = available(g)\n",
    "    return done"
   ]
  },
  {
   "cell_type": "code",
   "execution_count": null,
   "metadata": {},
   "outputs": [],
   "source": [
    "def q_2(records, num_workers=2, t0=0):\n",
    "    src_dst_list = parse(records)\n",
    "    g = nx.DiGraph()\n",
    "    g.add_edges_from(src_dst_list)\n",
    "    \n",
    "    for node, data in g.nodes(data=True):\n",
    "        data['state'] = 'unworked'\n",
    "    \n",
    "    working = [None] * num_workers\n",
    "    seen = {}\n",
    "    \n",
    "    done = ''\n",
    "    num_secs = 0\n",
    "    while g.number_of_nodes() > 0:\n",
    "        LOGGER.debug(\"{:=<50}\".format('STARTING ITERATION '))\n",
    "        \n",
    "        # assign workers\n",
    "        assign_workers(g, working, t0, num_secs)\n",
    "        \n",
    "        # fast forward to the next time someone is done\n",
    "        min_time = min([_['time'] for _ in working if _ is not None])\n",
    "        LOGGER.debug(\"jumping forward {} seconds\".format(min_time))\n",
    "        num_secs += min_time\n",
    "        \n",
    "        done = cleanup_workers(working, done, g, min_time)\n",
    "        LOGGER.debug(g.nodes(data=True))\n",
    "    LOGGER.debug(\"done (finally): {}\".format(done))\n",
    "    return num_secs"
   ]
  },
  {
   "cell_type": "markdown",
   "metadata": {},
   "source": [
    "#### tests"
   ]
  },
  {
   "cell_type": "code",
   "execution_count": null,
   "metadata": {},
   "outputs": [],
   "source": [
    "def test_q_2():\n",
    "    LOGGER.setLevel(logging.DEBUG)\n",
    "    assert q_2(test_data) == 15\n",
    "    LOGGER.setLevel(logging.INFO)"
   ]
  },
  {
   "cell_type": "code",
   "execution_count": null,
   "metadata": {
    "scrolled": true
   },
   "outputs": [],
   "source": [
    "test_q_2()"
   ]
  },
  {
   "cell_type": "markdown",
   "metadata": {},
   "source": [
    "#### answer"
   ]
  },
  {
   "cell_type": "code",
   "execution_count": null,
   "metadata": {
    "scrolled": true
   },
   "outputs": [],
   "source": [
    "LOGGER.setLevel(logging.INFO)\n",
    "q_2(load_data(), 5, 60)"
   ]
  },
  {
   "cell_type": "markdown",
   "metadata": {},
   "source": [
    "fin"
   ]
  }
 ],
 "metadata": {
  "kernelspec": {
   "display_name": "Python 3",
   "language": "python",
   "name": "python3"
  },
  "language_info": {
   "codemirror_mode": {
    "name": "ipython",
    "version": 3
   },
   "file_extension": ".py",
   "mimetype": "text/x-python",
   "name": "python",
   "nbconvert_exporter": "python",
   "pygments_lexer": "ipython3",
   "version": "3.6.7"
  }
 },
 "nbformat": 4,
 "nbformat_minor": 2
}
