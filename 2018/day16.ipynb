{
 "cells": [
  {
   "cell_type": "markdown",
   "metadata": {},
   "source": [
    "# day 16\n",
    "\n",
    "https://adventofcode.com/2018/day/16"
   ]
  },
  {
   "cell_type": "code",
   "execution_count": null,
   "metadata": {},
   "outputs": [],
   "source": [
    "import os\n",
    "\n",
    "import eri.logging as logging"
   ]
  },
  {
   "cell_type": "code",
   "execution_count": null,
   "metadata": {},
   "outputs": [],
   "source": [
    "FNAME = os.path.join('data', 'day16.txt')\n",
    "\n",
    "LOGGER = logging.getLogger('day16')\n",
    "logging.configure()"
   ]
  },
  {
   "cell_type": "markdown",
   "metadata": {},
   "source": [
    "## part 1\n",
    "\n",
    "### problem statement:\n",
    "\n",
    "> As you see the Elves defend their hot chocolate successfully, you go back to falling through time. This is going to become a problem.\n",
    "> \n",
    "> If you're ever going to return to your own time, you need to understand how this device on your wrist works. You have a little while before you reach your next destination, and with a bit of trial and error, you manage to pull up a programming manual on the device's tiny screen.\n",
    "> \n",
    "> According to the manual, the device has four registers (numbered 0 through 3) that can be manipulated by instructions containing one of 16 opcodes. The registers start with the value 0.\n",
    "> \n",
    "> Every instruction consists of four values: an opcode, two inputs (named A and B), and an output (named C), in that order. The opcode specifies the behavior of the instruction and how the inputs are interpreted. The output, C, is always treated as a register.\n",
    "> \n",
    "> In the opcode descriptions below, if something says \"value A\", it means to take the number given as A literally. (This is also called an \"immediate\" value.) If something says \"register A\", it means to use the number given as A to read from (or write to) the register with that number. So, if the opcode addi adds register A and value B, storing the result in register C, and the instruction addi 0 7 3 is encountered, it would add 7 to the value contained by register 0 and store the sum in register 3, never modifying registers 0, 1, or 2 in the process.\n",
    "> \n",
    "> Many opcodes are similar except for how they interpret their arguments. The opcodes fall into seven general categories:\n",
    "> \n",
    "> Addition:\n",
    "> \n",
    "> + addr (add register) stores into register C the result of adding register A and register B.\n",
    "> + addi (add immediate) stores into register C the result of adding register A and value B.\n",
    "> \n",
    "> Multiplication:\n",
    "> \n",
    "> + mulr (multiply register) stores into register C the result of multiplying register A and register B.\n",
    "> + muli (multiply immediate) stores into register C the result of multiplying register A and value B.\n",
    "> \n",
    "> Bitwise AND:\n",
    "> \n",
    "> + banr (bitwise AND register) stores into register C the result of the bitwise AND of register A and register B.\n",
    "> + bani (bitwise AND immediate) stores into register C the result of the bitwise AND of register A and value B.\n",
    "> \n",
    "> Bitwise OR:\n",
    "> \n",
    "> + borr (bitwise OR register) stores into register C the result of the bitwise OR of register A and register B.\n",
    "> + bori (bitwise OR immediate) stores into register C the result of the bitwise OR of register A and value B.\n",
    "> \n",
    "> Assignment:\n",
    "> \n",
    "> + setr (set register) copies the contents of register A into register C. (Input B is ignored.)\n",
    "> + seti (set immediate) stores value A into register C. (Input B is ignored.)\n",
    "> \n",
    "> Greater-than testing:\n",
    "> \n",
    "> + gtir (greater-than immediate/register) sets register C to 1 if value A is greater than register B. Otherwise, register C is set to 0.\n",
    "> + gtri (greater-than register/immediate) sets register C to 1 if register A is greater than value B. Otherwise, register C is set to 0.\n",
    "> + gtrr (greater-than register/register) sets register C to 1 if register A is greater than register B. Otherwise, register C is set to 0.\n",
    "> \n",
    "> Equality testing:\n",
    "> \n",
    "> + eqir (equal immediate/register) sets register C to 1 if value A is equal to register B. Otherwise, register C is set to 0.\n",
    "> + eqri (equal register/immediate) sets register C to 1 if register A is equal to value B. Otherwise, register C is set to 0.\n",
    "> + eqrr (equal register/register) sets register C to 1 if register A is equal to register B. Otherwise, register C is set to 0.\n",
    "> \n",
    "> Unfortunately, while the manual gives the name of each opcode, it doesn't seem to indicate the number. However, you can monitor the CPU to see the contents of the registers before and after instructions are executed to try to work them out. Each opcode has a number from 0 through 15, but the manual doesn't say which is which. For example, suppose you capture the following sample:\n",
    "> \n",
    ">     Before: [3, 2, 1, 1]\n",
    ">     9 2 1 2\n",
    ">     After:  [3, 2, 2, 1]\n",
    "> \n",
    "> This sample shows the effect of the instruction 9 2 1 2 on the registers. Before the instruction is executed, register 0 has value 3, register 1 has value 2, and registers 2 and 3 have value 1. After the instruction is executed, register 2's value becomes 2.\n",
    "> \n",
    "> The instruction itself, 9 2 1 2, means that opcode 9 was executed with A=2, B=1, and C=2. Opcode 9 could be any of the 16 opcodes listed above, but only three of them behave in a way that would cause the result shown in the sample:\n",
    "> \n",
    "> + Opcode 9 could be mulr: register 2 (which has a value of 1) times register 1 (which has a value of 2) produces 2, which matches the value stored in the output register, register 2.\n",
    "> + Opcode 9 could be addi: register 2 (which has a value of 1) plus value 1 produces 2, which matches the value stored in the output register, register 2.\n",
    "> + Opcode 9 could be seti: value 2 matches the value stored in the output register, register 2; the number given for B is irrelevant.\n",
    "> \n",
    "> None of the other opcodes produce the result captured in the sample. Because of this, the sample above behaves like three opcodes.\n",
    "> \n",
    "> You collect many of these samples (the first section of your puzzle input). The manual also includes a small test program (the second section of your puzzle input) - you can ignore it for now.\n",
    "> \n",
    "> Ignoring the opcode numbers, how many samples in your puzzle input behave like three or more opcodes?"
   ]
  },
  {
   "cell_type": "markdown",
   "metadata": {},
   "source": [
    "#### loading data"
   ]
  },
  {
   "cell_type": "code",
   "execution_count": null,
   "metadata": {},
   "outputs": [],
   "source": [
    "import re\n",
    "\n",
    "def parse_samples(s):\n",
    "    samples = []\n",
    "    for sample_str in s.split('\\n\\n'):\n",
    "        before, instruction, after = sample_str.split('\\n')\n",
    "        before = [int(_) for _ in re.findall('\\d+', before)]\n",
    "        instruction = [int(_) for _ in re.findall('\\d+', instruction)]\n",
    "        after = [int(_) for _ in re.findall('\\d+', after)]\n",
    "        samples.append([before, instruction, after])\n",
    "    return samples\n",
    "    \n",
    "def parse_program(p):\n",
    "    return [\n",
    "        [int(i) for i in line.strip().split()]\n",
    "        for line in p.split('\\n')\n",
    "        if line.strip()\n",
    "    ]"
   ]
  },
  {
   "cell_type": "code",
   "execution_count": null,
   "metadata": {},
   "outputs": [],
   "source": [
    "test_samples = parse_samples(\"\"\"Before: [3, 2, 1, 1]\n",
    "9 2 1 2\n",
    "After:  [3, 2, 2, 1]\"\"\")\n",
    "test_program = \"\"\n",
    "test_data = test_samples, test_program"
   ]
  },
  {
   "cell_type": "code",
   "execution_count": null,
   "metadata": {},
   "outputs": [],
   "source": [
    "def load_data(fname=FNAME):\n",
    "    with open(fname) as fp:\n",
    "        s = fp.read()\n",
    "    \n",
    "    # the first half is a collection of samples; the second is a program\n",
    "    sample_str, program_str = s.split('\\n\\n\\n\\n')\n",
    "    \n",
    "    return parse_samples(sample_str), parse_program(program_str)"
   ]
  },
  {
   "cell_type": "markdown",
   "metadata": {},
   "source": [
    "#### function def"
   ]
  },
  {
   "cell_type": "code",
   "execution_count": null,
   "metadata": {},
   "outputs": [],
   "source": [
    "def process(instruction, register):\n",
    "    opcode, a, b, c = instruction\n",
    "    apply(opcode, a, b, c, register)\n",
    "\n",
    "def apply(opcode, a, b, c, register):\n",
    "    raise NotImplementedError"
   ]
  },
  {
   "cell_type": "code",
   "execution_count": null,
   "metadata": {},
   "outputs": [],
   "source": [
    "def addr(a, b, c, register):\n",
    "    register[c] = register[a] + register[b]\n",
    "    \n",
    "def addi(a, b, c, register):\n",
    "    register[c] = register[a] + b"
   ]
  },
  {
   "cell_type": "code",
   "execution_count": null,
   "metadata": {},
   "outputs": [],
   "source": [
    "def mulr(a, b, c, register):\n",
    "    register[c] = register[a] * register[b]\n",
    "    \n",
    "def muli(a, b, c, register):\n",
    "    register[c] = register[a] * b"
   ]
  },
  {
   "cell_type": "code",
   "execution_count": null,
   "metadata": {},
   "outputs": [],
   "source": [
    "def banr(a, b, c, register):\n",
    "    register[c] = register[a] & register[b]\n",
    "    \n",
    "def bani(a, b, c, register):\n",
    "    register[c] = register[a] & b"
   ]
  },
  {
   "cell_type": "code",
   "execution_count": null,
   "metadata": {},
   "outputs": [],
   "source": [
    "def borr(a, b, c, register):\n",
    "    register[c] = register[a] | register[b]\n",
    "    \n",
    "def bori(a, b, c, register):\n",
    "    register[c] = register[a] | b"
   ]
  },
  {
   "cell_type": "code",
   "execution_count": null,
   "metadata": {},
   "outputs": [],
   "source": [
    "def setr(a, b, c, register):\n",
    "    register[c] = register[a]\n",
    "    \n",
    "def seti(a, b, c, register):\n",
    "    register[c] = a"
   ]
  },
  {
   "cell_type": "code",
   "execution_count": null,
   "metadata": {},
   "outputs": [],
   "source": [
    "def gtir(a, b, c, register):\n",
    "    register[c] = int(a > register[b])\n",
    "    \n",
    "def gtri(a, b, c, register):\n",
    "    register[c] = int(register[a] > b)\n",
    "    \n",
    "def gtrr(a, b, c, register):\n",
    "    register[c] = int(register[a] > register[b])"
   ]
  },
  {
   "cell_type": "code",
   "execution_count": null,
   "metadata": {},
   "outputs": [],
   "source": [
    "def eqir(a, b, c, register):\n",
    "    register[c] = int(a == register[b])\n",
    "    \n",
    "def eqri(a, b, c, register):\n",
    "    register[c] = int(register[a] == b)\n",
    "    \n",
    "def eqrr(a, b, c, register):\n",
    "    register[c] = int(register[a] == register[b])"
   ]
  },
  {
   "cell_type": "code",
   "execution_count": null,
   "metadata": {},
   "outputs": [],
   "source": [
    "funcs = [\n",
    "    addr, addi,\n",
    "    mulr, muli,\n",
    "    banr, bani,\n",
    "    borr, bori,\n",
    "    setr, seti,\n",
    "    gtir, gtri, gtrr,\n",
    "    eqir, eqri, eqrr,\n",
    "]"
   ]
  },
  {
   "cell_type": "code",
   "execution_count": null,
   "metadata": {},
   "outputs": [],
   "source": [
    "from copy import deepcopy\n",
    "\n",
    "def q_1(data):\n",
    "    samples, program = data\n",
    "    num_triad_samples = 0\n",
    "    for (before, instruction, after) in samples:\n",
    "        LOGGER.debug(\"before: {}\".format(before))\n",
    "        LOGGER.debug(\"instruction: {}\".format(instruction))\n",
    "        LOGGER.debug(\"after: {}\".format(after))\n",
    "        num_funcs = 0\n",
    "        opcode, a, b, c = instruction\n",
    "        for func in funcs:\n",
    "            reg = deepcopy(before)\n",
    "            func(a, b, c, reg)\n",
    "            if reg == after:\n",
    "                LOGGER.debug('match found for instruction {}'.format(func.__name__))\n",
    "                num_funcs += 1\n",
    "            if num_funcs >= 3:\n",
    "                num_triad_samples += 1\n",
    "                break\n",
    "    return num_triad_samples"
   ]
  },
  {
   "cell_type": "markdown",
   "metadata": {},
   "source": [
    "#### tests"
   ]
  },
  {
   "cell_type": "code",
   "execution_count": null,
   "metadata": {},
   "outputs": [],
   "source": [
    "def test_q_1():\n",
    "    LOGGER.setLevel(logging.DEBUG)\n",
    "    assert q_1(test_data) == 1\n",
    "    LOGGER.setLevel(logging.INFO)"
   ]
  },
  {
   "cell_type": "code",
   "execution_count": null,
   "metadata": {},
   "outputs": [],
   "source": [
    "test_q_1()"
   ]
  },
  {
   "cell_type": "markdown",
   "metadata": {},
   "source": [
    "#### answer"
   ]
  },
  {
   "cell_type": "code",
   "execution_count": null,
   "metadata": {},
   "outputs": [],
   "source": [
    "q_1(load_data())"
   ]
  },
  {
   "cell_type": "markdown",
   "metadata": {},
   "source": [
    "## part 2\n",
    "\n",
    "### problem statement:\n",
    "\n",
    "> Using the samples you collected, work out the number of each opcode and execute the test program (the second section of your puzzle input).\n",
    ">\n",
    "> What value is contained in register 0 after executing the test program?"
   ]
  },
  {
   "cell_type": "markdown",
   "metadata": {},
   "source": [
    "#### function def"
   ]
  },
  {
   "cell_type": "code",
   "execution_count": null,
   "metadata": {},
   "outputs": [],
   "source": [
    "def q_2(data):\n",
    "    # first, parse all samples to get an idea what the opcodes are\n",
    "    samples, program = data\n",
    "    \n",
    "    # start with all functions being valid; set differences to filter down\n",
    "    opcode_map = {i: set(funcs) for i in range(len(funcs))}\n",
    "    \n",
    "    for (before, instruction, after) in samples:\n",
    "        LOGGER.debug(\"before: {}\".format(before))\n",
    "        LOGGER.debug(\"instruction: {}\".format(instruction))\n",
    "        LOGGER.debug(\"after: {}\".format(after))\n",
    "        opcode, a, b, c = instruction\n",
    "        possible_funcs = set()\n",
    "        for func in funcs:\n",
    "            reg = deepcopy(before)\n",
    "            func(a, b, c, reg)\n",
    "            if reg == after:\n",
    "                LOGGER.debug('match found for instruction {}'.format(func.__name__))\n",
    "                possible_funcs.add(func)\n",
    "        \n",
    "        # update the possible functions to be at most this set\n",
    "        opcode_map[opcode].intersection_update(possible_funcs)\n",
    "        \n",
    "        # if we are suddenly certain, remove that function from all\n",
    "        # other opcode sets\n",
    "        if len(opcode_map[opcode]) == 1:\n",
    "            drop_func = list(opcode_map[opcode])[0]\n",
    "            LOGGER.debug('opcode {} belongs to function {}'.format(opcode, drop_func.__name__))\n",
    "            for other_opcode in opcode_map:\n",
    "                if other_opcode != opcode:\n",
    "                    opcode_map[other_opcode].discard(drop_func)\n",
    "        \n",
    "        # see if this sample did it for us\n",
    "        if max([len(possible_funcs) for possible_funcs in opcode_map.values()]) <= 1:\n",
    "            break\n",
    "    \n",
    "    assert all([len(possible_funcs) == 1 for possible_funcs in opcode_map.values()])\n",
    "    assert {f for v in opcode_map.values() for f in v}.difference(funcs) == set()\n",
    "    \n",
    "    # \"unpack\"\n",
    "    opcode_map = {k: v.pop() for k, v in opcode_map.items()}\n",
    "    \n",
    "    # use this map to process a program\n",
    "    register = [0, 0, 0, 0]\n",
    "    for (opcode, a, b, c) in program:\n",
    "        func = opcode_map[opcode]\n",
    "        func(a, b, c, register)\n",
    "        LOGGER.debug(register)\n",
    "    \n",
    "    return register[0]"
   ]
  },
  {
   "cell_type": "markdown",
   "metadata": {},
   "source": [
    "#### answer"
   ]
  },
  {
   "cell_type": "code",
   "execution_count": null,
   "metadata": {},
   "outputs": [],
   "source": [
    "q_2(load_data())"
   ]
  },
  {
   "cell_type": "markdown",
   "metadata": {},
   "source": [
    "fin"
   ]
  }
 ],
 "metadata": {
  "kernelspec": {
   "display_name": "Python 3",
   "language": "python",
   "name": "python3"
  },
  "language_info": {
   "codemirror_mode": {
    "name": "ipython",
    "version": 3
   },
   "file_extension": ".py",
   "mimetype": "text/x-python",
   "name": "python",
   "nbconvert_exporter": "python",
   "pygments_lexer": "ipython3",
   "version": "3.6.8"
  }
 },
 "nbformat": 4,
 "nbformat_minor": 2
}
