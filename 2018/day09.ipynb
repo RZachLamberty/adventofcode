{
 "cells": [
  {
   "cell_type": "markdown",
   "metadata": {},
   "source": [
    "# day 9\n",
    "\n",
    "https://adventofcode.com/2018/day/9"
   ]
  },
  {
   "cell_type": "code",
   "execution_count": null,
   "metadata": {},
   "outputs": [],
   "source": [
    "import os\n",
    "\n",
    "import eri.logging as logging"
   ]
  },
  {
   "cell_type": "code",
   "execution_count": null,
   "metadata": {},
   "outputs": [],
   "source": [
    "FNAME = os.path.join('data', 'day9.txt')\n",
    "\n",
    "LOGGER = logging.getLogger('day9')\n",
    "logging.configure()"
   ]
  },
  {
   "cell_type": "markdown",
   "metadata": {},
   "source": [
    "## part 1\n",
    "\n",
    "### problem statement:\n",
    "\n",
    "> You talk to the Elves while you wait for your navigation system to initialize. To pass the time, they introduce you to their favorite marble game.\n",
    "> \n",
    "> The Elves play this game by taking turns arranging the marbles in a circle according to very particular rules. The marbles are numbered starting with 0 and increasing by 1 until every marble has a number.\n",
    "> \n",
    "> First, the marble numbered 0 is placed in the circle. At this point, while it contains only a single marble, it is still a circle: the marble is both clockwise from itself and counter-clockwise from itself. This marble is designated the current marble.\n",
    "> \n",
    "> Then, each Elf takes a turn placing the lowest-numbered remaining marble into the circle between the marbles that are 1 and 2 marbles clockwise of the current marble. (When the circle is large enough, this means that there is one marble between the marble that was just placed and the current marble.) The marble that was just placed then becomes the current marble.\n",
    "> \n",
    "> However, if the marble that is about to be placed has a number which is a multiple of 23, something entirely different happens. First, the current player keeps the marble they would have placed, adding it to their score. In addition, the marble 7 marbles counter-clockwise from the current marble is removed from the circle and also added to the current player's score. The marble located immediately clockwise of the marble that was removed becomes the new current marble.\n",
    "> \n",
    "> For example, suppose there are 9 players. After the marble with value 0 is placed in the middle, each player (shown in square brackets) takes a turn. The result of each of those turns would produce circles of marbles like this, where clockwise is to the right and the resulting current marble is in parentheses:\n",
    "> \n",
    ">     [-] (0)\n",
    ">     [1]  0 (1)\n",
    ">     [2]  0 (2) 1 \n",
    ">     [3]  0  2  1 (3)\n",
    ">     [4]  0 (4) 2  1  3 \n",
    ">     [5]  0  4  2 (5) 1  3 \n",
    ">     [6]  0  4  2  5  1 (6) 3 \n",
    ">     [7]  0  4  2  5  1  6  3 (7)\n",
    ">     [8]  0 (8) 4  2  5  1  6  3  7 \n",
    ">     [9]  0  8  4 (9) 2  5  1  6  3  7 \n",
    ">     [1]  0  8  4  9  2(10) 5  1  6  3  7 \n",
    ">     [2]  0  8  4  9  2 10  5(11) 1  6  3  7 \n",
    ">     [3]  0  8  4  9  2 10  5 11  1(12) 6  3  7 \n",
    ">     [4]  0  8  4  9  2 10  5 11  1 12  6(13) 3  7 \n",
    ">     [5]  0  8  4  9  2 10  5 11  1 12  6 13  3(14) 7 \n",
    ">     [6]  0  8  4  9  2 10  5 11  1 12  6 13  3 14  7(15)\n",
    ">     [7]  0(16) 8  4  9  2 10  5 11  1 12  6 13  3 14  7 15 \n",
    ">     [8]  0 16  8(17) 4  9  2 10  5 11  1 12  6 13  3 14  7 15 \n",
    ">     [9]  0 16  8 17  4(18) 9  2 10  5 11  1 12  6 13  3 14  7 15 \n",
    ">     [1]  0 16  8 17  4 18  9(19) 2 10  5 11  1 12  6 13  3 14  7 15 \n",
    ">     [2]  0 16  8 17  4 18  9 19  2(20)10  5 11  1 12  6 13  3 14  7 15 \n",
    ">     [3]  0 16  8 17  4 18  9 19  2 20 10(21) 5 11  1 12  6 13  3 14  7 15 \n",
    ">     [4]  0 16  8 17  4 18  9 19  2 20 10 21  5(22)11  1 12  6 13  3 14  7 15 \n",
    ">     [5]  0 16  8 17  4 18(19) 2 20 10 21  5 22 11  1 12  6 13  3 14  7 15 \n",
    ">     [6]  0 16  8 17  4 18 19  2(24)20 10 21  5 22 11  1 12  6 13  3 14  7 15 \n",
    ">     [7]  0 16  8 17  4 18 19  2 24 20(25)10 21  5 22 11  1 12  6 13  3 14  7 15\n",
    ">\n",
    "> The goal is to be the player with the highest score after the last marble is used up. Assuming the example above ends after the marble numbered 25, the winning score is 23+9=32 (because player 5 kept marble 23 and removed marble 9, while no other player got any points in this very short example game).\n",
    "> \n",
    "> Here are a few more examples:\n",
    "> \n",
    "> + 10 players; last marble is worth 1618 points: high score is 8317\n",
    "> + 13 players; last marble is worth 7999 points: high score is 146373\n",
    "> + 17 players; last marble is worth 1104 points: high score is 2764\n",
    "> + 21 players; last marble is worth 6111 points: high score is 54718\n",
    "> + 30 players; last marble is worth 5807 points: high score is 37305\n",
    ">\n",
    "> What is the winning Elf's score?"
   ]
  },
  {
   "cell_type": "markdown",
   "metadata": {},
   "source": [
    "#### loading data"
   ]
  },
  {
   "cell_type": "code",
   "execution_count": null,
   "metadata": {},
   "outputs": [],
   "source": [
    "test_data = [\n",
    "    {'input': (9, 25), 'value': 32},\n",
    "    {'input': (10, 1618), 'value': 8317},\n",
    "    {'input': (13, 7999), 'value': 146373},\n",
    "    {'input': (17, 1104), 'value': 2764},\n",
    "    {'input': (21, 6111), 'value': 54718},\n",
    "    {'input': (30, 5807), 'value': 37305},\n",
    "]"
   ]
  },
  {
   "cell_type": "code",
   "execution_count": null,
   "metadata": {},
   "outputs": [],
   "source": [
    "def load_data(fname=FNAME):\n",
    "    # hard coding\n",
    "    num_players = 410\n",
    "    high_marble_val = 72059\n",
    "    return num_players, high_marble_val"
   ]
  },
  {
   "cell_type": "markdown",
   "metadata": {},
   "source": [
    "#### function def"
   ]
  },
  {
   "cell_type": "code",
   "execution_count": null,
   "metadata": {},
   "outputs": [],
   "source": [
    "import tqdm\n",
    "\n",
    "class Game(object):\n",
    "    def __init__(self, num_players, high_marble_val, prog_freq=100):\n",
    "        self.num_players = num_players\n",
    "        self.high_marble_val = high_marble_val\n",
    "        self.circle = [0]\n",
    "        self.current_pos = 0\n",
    "        self.current_marble_val = 1\n",
    "        self.current_player = 0\n",
    "        self.scores = {i: 0 for i in range(num_players)}\n",
    "        self.over = False\n",
    "        self.log_circle()\n",
    "        self.prog_freq = prog_freq\n",
    "        self.progbar = tqdm.tqdm_notebook(total=self.high_marble_val)\n",
    "    \n",
    "    def take_turn(self):\n",
    "        if self.current_marble_val > self.high_marble_val:\n",
    "            raise ValueError(\"how did we get a marble value higher than the highest allowed?\")\n",
    "        \n",
    "        if self.current_marble_val % 23 == 0 and self.current_marble_val > 0:\n",
    "            LOGGER.debug(\"special move!\")\n",
    "            LOGGER.debug(\n",
    "                'marble {} for player {}'.format(self.current_marble_val, self.current_player)\n",
    "            )\n",
    "            # special 23 move: current player keeps current marble.\n",
    "            # find marble 7ccw from current pos; player keeps that too\n",
    "            # current pos becomes the position that had been 7ccw\n",
    "            self.scores[self.current_player] += self.current_marble_val\n",
    "            \n",
    "            seven_ccw_ind = (self.current_pos - 7) % len(self.circle)\n",
    "            self.scores[self.current_player] += self.circle.pop(seven_ccw_ind)\n",
    "            self.current_pos = seven_ccw_ind\n",
    "            self.log_circle()\n",
    "        else:\n",
    "            # regular move: current player puts the current marble\n",
    "            # between the 1cw and 2cw (1 right and 2 right) marbles\n",
    "            one_cw_ind = (self.current_pos + 1) % len(self.circle)\n",
    "            \n",
    "            self.circle.insert(one_cw_ind + 1, self.current_marble_val)\n",
    "            \n",
    "            # iterate the player and current marble value\n",
    "            self.current_pos = self.circle.index(self.current_marble_val)\n",
    "            self.log_circle()\n",
    "            \n",
    "        self.current_marble_val += 1\n",
    "        self.current_player += 1\n",
    "        self.current_player %= self.num_players\n",
    "\n",
    "        # set game over if that makes sense\n",
    "        self.over = self.current_marble_val > self.high_marble_val\n",
    "        \n",
    "        if (self.current_marble_val % self.prog_freq == 0) or (self.current_marble_val == self.high_marble_val):\n",
    "            self.progbar.update(n=self.prog_freq)\n",
    "            self.progbar.refresh()\n",
    "        \n",
    "    \n",
    "    def winning_score(self):\n",
    "        return max(self.scores.values())\n",
    "    \n",
    "    def log_circle(self):\n",
    "        if len(self.circle) > 20:\n",
    "            return\n",
    "        circle_str = ''.join([\n",
    "            ('({})'.format(val) if i == self.current_pos else ' {} '.format(val))\n",
    "            for (i, val) in enumerate(self.circle)\n",
    "        ])\n",
    "        LOGGER.debug('circle: {}'.format(circle_str))"
   ]
  },
  {
   "cell_type": "code",
   "execution_count": null,
   "metadata": {},
   "outputs": [],
   "source": [
    "def q_1(num_players, high_marble_val, prog_freq=100):\n",
    "    g = Game(num_players, high_marble_val, prog_freq)\n",
    "    while not g.over:\n",
    "        g.take_turn()\n",
    "    return g.winning_score()"
   ]
  },
  {
   "cell_type": "markdown",
   "metadata": {},
   "source": [
    "#### tests"
   ]
  },
  {
   "cell_type": "code",
   "execution_count": null,
   "metadata": {},
   "outputs": [],
   "source": [
    "def test_q_1():\n",
    "    LOGGER.setLevel(logging.DEBUG)\n",
    "    for test in test_data:\n",
    "        LOGGER.debug('new test: {}'.format(test))\n",
    "        assert q_1(*test['input']) == test['value']\n",
    "    LOGGER.setLevel(logging.INFO)"
   ]
  },
  {
   "cell_type": "code",
   "execution_count": null,
   "metadata": {},
   "outputs": [],
   "source": [
    "test_q_1()"
   ]
  },
  {
   "cell_type": "markdown",
   "metadata": {},
   "source": [
    "#### answer"
   ]
  },
  {
   "cell_type": "code",
   "execution_count": null,
   "metadata": {
    "scrolled": true
   },
   "outputs": [],
   "source": [
    "q_1(*load_data())"
   ]
  },
  {
   "cell_type": "markdown",
   "metadata": {},
   "source": [
    "## part 2\n",
    "\n",
    "### problem statement:\n",
    "\n",
    "> Amused by the speed of your answer, the Elves are curious:\n",
    "> \n",
    "> What would the new winning Elf's score be if the number of the last marble were 100 times larger?"
   ]
  },
  {
   "cell_type": "markdown",
   "metadata": {},
   "source": [
    "#### function def"
   ]
  },
  {
   "cell_type": "code",
   "execution_count": null,
   "metadata": {},
   "outputs": [],
   "source": [
    "def q_2(num_players, high_marble_val):\n",
    "    return q_1(num_players, 100 * high_marble_val, prog_freq=10_000)"
   ]
  },
  {
   "cell_type": "markdown",
   "metadata": {},
   "source": [
    "#### answer"
   ]
  },
  {
   "cell_type": "code",
   "execution_count": null,
   "metadata": {
    "scrolled": true
   },
   "outputs": [],
   "source": [
    "q_2(*load_data())"
   ]
  },
  {
   "cell_type": "code",
   "execution_count": null,
   "metadata": {},
   "outputs": [],
   "source": [
    "from collections import deque, defaultdict\n",
    "\n",
    "def play_game(max_players, last_marble):\n",
    "    scores = defaultdict(int)\n",
    "    circle = deque([0])\n",
    "\n",
    "    for marble in range(1, last_marble + 1):\n",
    "        if marble % 23 == 0:\n",
    "            circle.rotate(7)\n",
    "            scores[marble % max_players] += marble + circle.pop()\n",
    "            circle.rotate(-1)\n",
    "        else:\n",
    "            circle.rotate(-1)\n",
    "            circle.append(marble)\n",
    "\n",
    "    return max(scores.values()) if scores else 0"
   ]
  },
  {
   "cell_type": "code",
   "execution_count": null,
   "metadata": {},
   "outputs": [],
   "source": [
    "play_game(*load_data())"
   ]
  },
  {
   "cell_type": "code",
   "execution_count": null,
   "metadata": {},
   "outputs": [],
   "source": [
    "num_players, high_marble_val = load_data()\n",
    "play_game(num_players, 100 * high_marble_val)"
   ]
  },
  {
   "cell_type": "markdown",
   "metadata": {},
   "source": [
    "fin"
   ]
  }
 ],
 "metadata": {
  "kernelspec": {
   "display_name": "Python 3",
   "language": "python",
   "name": "python3"
  },
  "language_info": {
   "codemirror_mode": {
    "name": "ipython",
    "version": 3
   },
   "file_extension": ".py",
   "mimetype": "text/x-python",
   "name": "python",
   "nbconvert_exporter": "python",
   "pygments_lexer": "ipython3",
   "version": "3.6.7"
  }
 },
 "nbformat": 4,
 "nbformat_minor": 2
}
