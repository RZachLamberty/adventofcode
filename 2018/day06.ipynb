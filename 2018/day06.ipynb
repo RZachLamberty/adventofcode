{
 "cells": [
  {
   "cell_type": "markdown",
   "metadata": {},
   "source": [
    "# day 6\n",
    "\n",
    "https://adventofcode.com/2018/day/6"
   ]
  },
  {
   "cell_type": "code",
   "execution_count": null,
   "metadata": {},
   "outputs": [],
   "source": [
    "import os\n",
    "\n",
    "import eri.logging as logging"
   ]
  },
  {
   "cell_type": "code",
   "execution_count": null,
   "metadata": {},
   "outputs": [],
   "source": [
    "FNAME = os.path.join('data', 'day6.txt')\n",
    "\n",
    "LOGGER = logging.getLogger('day6')\n",
    "logging.configure()"
   ]
  },
  {
   "cell_type": "markdown",
   "metadata": {},
   "source": [
    "## part 1\n",
    "\n",
    "### problem statement:\n",
    "\n",
    "> The device on your wrist beeps several times, and once again you feel like you're falling.\n",
    "> \n",
    "> \"Situation critical,\" the device announces. \"Destination indeterminate. Chronal interference detected. Please specify new target coordinates.\"\n",
    "> \n",
    "> The device then produces a list of coordinates (your puzzle input). Are they places it thinks are safe or dangerous? It recommends you check manual page 729. The Elves did not give you a manual.\n",
    "> \n",
    "> If they're dangerous, maybe you can minimize the danger by finding the coordinate that gives the largest distance from the other points.\n",
    "> \n",
    "> Using only the Manhattan distance, determine the area around each coordinate by counting the number of integer X,Y locations that are closest to that coordinate (and aren't tied in distance to any other coordinate).\n",
    "> \n",
    "> Your goal is to find the size of the largest area that isn't infinite. For example, consider the following list of coordinates:\n",
    "> \n",
    ">     1, 1\n",
    ">     1, 6\n",
    ">     8, 3\n",
    ">     3, 4\n",
    ">     5, 5\n",
    ">     8, 9\n",
    "> \n",
    "> If we name these coordinates A through F, we can draw them on a grid, putting 0,0 at the top left:\n",
    "> \n",
    ">     ..........\n",
    ">     .A........\n",
    ">     ..........\n",
    ">     ........C.\n",
    ">     ...D......\n",
    ">     .....E....\n",
    ">     .B........\n",
    ">     ..........\n",
    ">     ..........\n",
    ">     ........F.\n",
    ">\n",
    "> This view is partial - the actual grid extends infinitely in all directions. Using the Manhattan distance, each location's closest coordinate can be determined, shown here in lowercase:\n",
    "> \n",
    ">     aaaaa.cccc\n",
    ">     aAaaa.cccc\n",
    ">     aaaddecccc\n",
    ">     aadddeccCc\n",
    ">     ..dDdeeccc\n",
    ">     bb.deEeecc\n",
    ">     bBb.eeee..\n",
    ">     bbb.eeefff\n",
    ">     bbb.eeffff\n",
    ">     bbb.ffffFf\n",
    ">\n",
    "> Locations shown as . are equally far from two or more coordinates, and so they don't count as being closest to any.\n",
    "> \n",
    "> In this example, the areas of coordinates A, B, C, and F are infinite - while not shown here, their areas extend forever outside the visible grid. However, the areas of coordinates D and E are finite: D is closest to 9 locations, and E is closest to 17 (both including the coordinate's location itself). Therefore, in this example, the size of the largest area is 17.\n",
    "> \n",
    "> What is the size of the largest area that isn't infinite?"
   ]
  },
  {
   "cell_type": "markdown",
   "metadata": {},
   "source": [
    "#### loading data"
   ]
  },
  {
   "cell_type": "code",
   "execution_count": null,
   "metadata": {},
   "outputs": [],
   "source": [
    "import pandas as pd\n",
    "logging.getLogger('matplotlib').setLevel(logging.WARNING)\n",
    "\n",
    "def load_data(fname=FNAME):\n",
    "    with open(fname, 'r') as f:\n",
    "        return pd.DataFrame(\n",
    "            [[int(_) for _ in row.strip().split(', ')] for row in f],\n",
    "            columns=['x', 'y']\n",
    "        )"
   ]
  },
  {
   "cell_type": "code",
   "execution_count": null,
   "metadata": {},
   "outputs": [],
   "source": [
    "load_data().head()"
   ]
  },
  {
   "cell_type": "markdown",
   "metadata": {},
   "source": [
    "#### function def"
   ]
  },
  {
   "cell_type": "code",
   "execution_count": null,
   "metadata": {},
   "outputs": [],
   "source": [
    "grid = q_1(test_data)"
   ]
  },
  {
   "cell_type": "code",
   "execution_count": null,
   "metadata": {},
   "outputs": [],
   "source": [
    "row = grid.iloc[0]"
   ]
  },
  {
   "cell_type": "code",
   "execution_count": null,
   "metadata": {},
   "outputs": [],
   "source": [
    "row"
   ]
  },
  {
   "cell_type": "code",
   "execution_count": null,
   "metadata": {},
   "outputs": [],
   "source": [
    "(coordinates - row).abs().sum(axis=1)"
   ]
  },
  {
   "cell_type": "code",
   "execution_count": null,
   "metadata": {},
   "outputs": [],
   "source": [
    "import tqdm"
   ]
  },
  {
   "cell_type": "code",
   "execution_count": null,
   "metadata": {},
   "outputs": [],
   "source": [
    "def q_1(coordinates):\n",
    "    xmin = coordinates.x.min() - 1\n",
    "    ymin = coordinates.y.min() - 1\n",
    "    xmax = coordinates.x.max() + 1\n",
    "    ymax = coordinates.y.max() + 1\n",
    "    \n",
    "    grid = pd.DataFrame([{'x': x, 'y': y} for x in range(xmin, xmax + 1) for y in range(ymin, ymax + 1)])\n",
    "    \n",
    "    def dist_func(row):\n",
    "        dists = (coordinates - row).abs().sum(axis=1)\n",
    "        return {\n",
    "            'nearest_coord': dists.idxmin(),\n",
    "            'is_tie': (dists == dists.min()).sum() > 1,\n",
    "        }\n",
    "    \n",
    "    grid = grid.join(grid.progress_apply(dist_func, axis=1, result_type='expand'))\n",
    "    \n",
    "    grid.loc[:, 'is_edge'] = (\n",
    "        (grid.x == xmin)\n",
    "        | (grid.x == xmax)\n",
    "        | (grid.y == ymin)\n",
    "        | (grid.y == ymax)\n",
    "    )\n",
    "    \n",
    "    coord_sum = grid.groupby('nearest_coord') \\\n",
    "        .agg({'nearest_coord': 'count', 'is_edge': 'max'}) \\\n",
    "        .rename(columns={'nearest_coord': 'ct', 'is_edge': 'is_inf'})\n",
    "    \n",
    "    return grid, coord_sum, coord_sum[~coord_sum.is_inf].ct.max()\n",
    "    return coord_sum[~coord_sum.is_inf].ct.max()"
   ]
  },
  {
   "cell_type": "markdown",
   "metadata": {},
   "source": [
    "#### tests"
   ]
  },
  {
   "cell_type": "code",
   "execution_count": null,
   "metadata": {},
   "outputs": [],
   "source": [
    "test_data = pd.DataFrame([\n",
    "    [1, 1],\n",
    "    [1, 6],\n",
    "    [8, 3],\n",
    "    [3, 4],\n",
    "    [5, 5],\n",
    "    [8, 9]\n",
    "], columns=['x', 'y']\n",
    ")\n",
    "\n",
    "def test_q_1():\n",
    "    LOGGER.setLevel(logging.DEBUG)\n",
    "    assert q_1(test_data) == 17\n",
    "    LOGGER.setLevel(logging.INFO)"
   ]
  },
  {
   "cell_type": "code",
   "execution_count": null,
   "metadata": {},
   "outputs": [],
   "source": [
    "test_q_1()"
   ]
  },
  {
   "cell_type": "markdown",
   "metadata": {},
   "source": [
    "#### answer"
   ]
  },
  {
   "cell_type": "code",
   "execution_count": null,
   "metadata": {},
   "outputs": [],
   "source": [
    "grid, coord_sum, x = q_1(load_data())"
   ]
  },
  {
   "cell_type": "code",
   "execution_count": null,
   "metadata": {},
   "outputs": [],
   "source": [
    "grid.head()"
   ]
  },
  {
   "cell_type": "code",
   "execution_count": null,
   "metadata": {},
   "outputs": [],
   "source": [
    "coord_sum.sort_values(by='ct')"
   ]
  },
  {
   "cell_type": "code",
   "execution_count": null,
   "metadata": {},
   "outputs": [],
   "source": [
    "x"
   ]
  },
  {
   "cell_type": "markdown",
   "metadata": {},
   "source": [
    "stolen from [here](https://www.reddit.com/r/adventofcode/comments/a3kr4r/2018_day_6_solutions/):"
   ]
  },
  {
   "cell_type": "code",
   "execution_count": null,
   "metadata": {},
   "outputs": [],
   "source": [
    "import numpy as np\n",
    "from scipy.spatial import distance\n",
    "\n",
    "# read the data using scipy\n",
    "points = load_data()\n",
    "\n",
    "# build a grid of the appropriate size - note the -1 and +2 to ensure all points\n",
    "# are within the grid\n",
    "xmin, ymin = points.min(axis=0) - 1\n",
    "xmax, ymax = points.max(axis=0) + 2\n",
    "\n",
    "# and use mesgrid to build the target coordinates\n",
    "xgrid, ygrid = np.meshgrid(np.arange(xmin, xmax), np.arange(xmin, xmax))\n",
    "targets = np.dstack([xgrid, ygrid]).reshape(-1, 2)\n",
    "\n",
    "# happily scipy.spatial.distance has cityblock (or manhatten) distance out\n",
    "# of the box\n",
    "cityblock = distance.cdist(points, targets, metric='cityblock')\n",
    "# the resulting array is an input points x target points array\n",
    "# so get the index of the maximum along axis 0 to tie each target coordinate\n",
    "# to closest ID\n",
    "closest_origin = np.argmin(cityblock, axis=0)\n",
    "# we need to filter out points with competing closest IDs though\n",
    "min_distances = np.min(cityblock, axis=0)\n",
    "competing_locations_filter = (cityblock == min_distances).sum(axis=0) > 1\n",
    "# note, integers in numpy don't support NaN, so make the ID higher than\n",
    "# the possible point ID\n",
    "closest_origin[competing_locations_filter] = len(points) + 1\n",
    "# and those points around the edge of the region for \"infinite\" regions\n",
    "closest_origin = closest_origin.reshape(xgrid.shape)\n",
    "infinite_ids = np.unique(np.vstack([\n",
    "    closest_origin[0],\n",
    "    closest_origin[-1],\n",
    "    closest_origin[:, 0],\n",
    "    closest_origin[:, -1]\n",
    "]))\n",
    "closest_origin[np.isin(closest_origin, infinite_ids)] = len(points) + 1\n",
    "\n",
    "# and because we know the id of the \"null\" data is guaranteed to be last\n",
    "# in the array (it's highest) we can index it out before getting the max\n",
    "# region size\n",
    "print(np.max(np.bincount(closest_origin.ravel())[:-1]))"
   ]
  },
  {
   "cell_type": "markdown",
   "metadata": {},
   "source": [
    "## part 2\n",
    "\n",
    "### problem statement:\n",
    "\n",
    "> On the other hand, if the coordinates are safe, maybe the best you can do is try to find a region near as many coordinates as possible.\n",
    "> \n",
    "> For example, suppose you want the sum of the Manhattan distance to all of the coordinates to be less than 32. For each location, add up the distances to all of the given coordinates; if the total of those distances is less than 32, that location is within the desired region. Using the same coordinates as above, the resulting region looks like this:\n",
    "> \n",
    ">     ..........\n",
    ">     .A........\n",
    ">     ..........\n",
    ">     ...###..C.\n",
    ">     ..#D###...\n",
    ">     ..###E#...\n",
    ">     .B.###....\n",
    ">     ..........\n",
    ">     ..........\n",
    ">     ........F.\n",
    ">\n",
    "> In particular, consider the highlighted location 4,3 located at the top middle of the region. Its calculation is as follows, where abs() is the absolute value function:\n",
    "> \n",
    ">     Distance to coordinate A: abs(4-1) + abs(3-1) =  5\n",
    ">     Distance to coordinate B: abs(4-1) + abs(3-6) =  6\n",
    ">     Distance to coordinate C: abs(4-8) + abs(3-3) =  4\n",
    ">     Distance to coordinate D: abs(4-3) + abs(3-4) =  2\n",
    ">     Distance to coordinate E: abs(4-5) + abs(3-5) =  3\n",
    ">     Distance to coordinate F: abs(4-8) + abs(3-9) = 10\n",
    ">     Total distance: 5 + 6 + 4 + 2 + 3 + 10 = 30\n",
    "> \n",
    "> Because the total distance to all coordinates (30) is less than 32, the location is within the region.\n",
    "> \n",
    "> This region, which also includes coordinates D and E, has a total size of 16.\n",
    "> \n",
    "> Your actual region will need to be much larger than this example, though, instead including all locations with a total distance of less than 10000.\n",
    "> \n",
    "> What is the size of the region containing all locations which have a total distance to all given coordinates of less than 10000?"
   ]
  },
  {
   "cell_type": "markdown",
   "metadata": {},
   "source": [
    "#### function def"
   ]
  },
  {
   "cell_type": "code",
   "execution_count": null,
   "metadata": {},
   "outputs": [],
   "source": [
    "def q_2(records):\n",
    "    records = parse(records)\n",
    "    \n",
    "    sleep_summary = []\n",
    "    for k, d in records.items():\n",
    "        sleep_history = sum(d.values())\n",
    "        sleep_time = sleep_history.argmax()\n",
    "        sleep_time_time = sleep_history.max()\n",
    "        sleep_summary.append((k, int(k) * sleep_time, sleep_time_time))\n",
    "    \n",
    "    return max(sleep_summary, key=lambda rec: rec[2])[1]"
   ]
  },
  {
   "cell_type": "markdown",
   "metadata": {},
   "source": [
    "#### tests"
   ]
  },
  {
   "cell_type": "code",
   "execution_count": null,
   "metadata": {},
   "outputs": [],
   "source": [
    "def test_q_2():\n",
    "    LOGGER.setLevel(logging.DEBUG)\n",
    "    assert q_2(test_data) == 4455\n",
    "    LOGGER.setLevel(logging.INFO)"
   ]
  },
  {
   "cell_type": "code",
   "execution_count": null,
   "metadata": {
    "scrolled": true
   },
   "outputs": [],
   "source": [
    "test_q_2()"
   ]
  },
  {
   "cell_type": "markdown",
   "metadata": {},
   "source": [
    "#### answer"
   ]
  },
  {
   "cell_type": "code",
   "execution_count": null,
   "metadata": {
    "scrolled": true
   },
   "outputs": [],
   "source": [
    "LOGGER.setLevel(logging.INFO)\n",
    "q_2(load_data())"
   ]
  },
  {
   "cell_type": "code",
   "execution_count": null,
   "metadata": {},
   "outputs": [],
   "source": [
    "xmin, ymin = points.min(axis=0) - 1\n",
    "xmax, ymax = points.max(axis=0) + 2\n",
    "\n",
    "# and use mesgrid to build the target coordinates\n",
    "xgrid, ygrid = np.meshgrid(np.arange(xmin, xmax), np.arange(xmin, xmax))\n",
    "targets = np.dstack([xgrid, ygrid]).reshape(-1, 2)\n",
    "\n",
    "# happily scipy.spatial.distance has cityblock (or manhatten) distance out\n",
    "# of the box\n",
    "cityblock = distance.cdist(points, targets, metric='cityblock')\n",
    "\n",
    "# turns out using this method the solution is easier that before - simply\n",
    "# sum the distances for each possible grid location\n",
    "origin_distances = cityblock.sum(axis=0)\n",
    "# set the value of appropriate distances to 1, with the remainder as zero\n",
    "region = np.where(origin_distances < 10000, 1, 0)\n",
    "# and the sum is the result.\n",
    "print(region.sum())"
   ]
  },
  {
   "cell_type": "markdown",
   "metadata": {},
   "source": [
    "fin"
   ]
  }
 ],
 "metadata": {
  "kernelspec": {
   "display_name": "Python 3",
   "language": "python",
   "name": "python3"
  },
  "language_info": {
   "codemirror_mode": {
    "name": "ipython",
    "version": 3
   },
   "file_extension": ".py",
   "mimetype": "text/x-python",
   "name": "python",
   "nbconvert_exporter": "python",
   "pygments_lexer": "ipython3",
   "version": "3.6.7"
  }
 },
 "nbformat": 4,
 "nbformat_minor": 2
}
