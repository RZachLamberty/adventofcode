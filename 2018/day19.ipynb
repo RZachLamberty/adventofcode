{
 "cells": [
  {
   "cell_type": "markdown",
   "metadata": {},
   "source": [
    "# day 19\n",
    "\n",
    "https://adventofcode.com/2018/day/19"
   ]
  },
  {
   "cell_type": "code",
   "execution_count": null,
   "metadata": {},
   "outputs": [],
   "source": [
    "import os\n",
    "\n",
    "import eri.logging as logging"
   ]
  },
  {
   "cell_type": "code",
   "execution_count": null,
   "metadata": {},
   "outputs": [],
   "source": [
    "FNAME = os.path.join('data', 'day19.txt')\n",
    "\n",
    "LOGGER = logging.getLogger('day19')\n",
    "logging.configure()"
   ]
  },
  {
   "cell_type": "markdown",
   "metadata": {},
   "source": [
    "## part 1\n",
    "\n",
    "### problem statement:\n",
    "\n",
    "> With the Elves well on their way constructing the North Pole base, you turn your attention back to understanding the inner workings of programming the device.\n",
    "> \n",
    "> You can't help but notice that the device's opcodes don't contain any flow control like jump instructions. The device's manual goes on to explain:\n",
    "> \n",
    "> \"In programs where flow control is required, the instruction pointer can be bound to a register so that it can be manipulated directly. This way, setr/seti can function as absolute jumps, addr/addi can function as relative jumps, and other opcodes can cause truly fascinating effects.\"\n",
    "> \n",
    "> This mechanism is achieved through a declaration like #ip 1, which would modify register 1 so that accesses to it let the program indirectly access the instruction pointer itself. To compensate for this kind of binding, there are now six registers (numbered 0 through 5); the five not bound to the instruction pointer behave as normal. Otherwise, the same rules apply as the last time you worked with this device.\n",
    "> \n",
    "> When the instruction pointer is bound to a register, its value is written to that register just before each instruction is executed, and the value of that register is written back to the instruction pointer immediately after each instruction finishes execution. Afterward, move to the next instruction by adding one to the instruction pointer, even if the value in the instruction pointer was just updated by an instruction. (Because of this, instructions must effectively set the instruction pointer to the instruction before the one they want executed next.)\n",
    "> \n",
    "> The instruction pointer is 0 during the first instruction, 1 during the second, and so on. If the instruction pointer ever causes the device to attempt to load an instruction outside the instructions defined in the program, the program instead immediately halts. The instruction pointer starts at 0.\n",
    "> \n",
    "> It turns out that this new information is already proving useful: the CPU in the device is not very powerful, and a background process is occupying most of its time. You dump the background process' declarations and instructions to a file (your puzzle input), making sure to use the names of the opcodes rather than the numbers.\n",
    "> \n",
    "> For example, suppose you have the following program:\n",
    "> \n",
    ">     #ip 0\n",
    ">     seti 5 0 1\n",
    ">     seti 6 0 2\n",
    ">     addi 0 1 0\n",
    ">     addr 1 2 3\n",
    ">     setr 1 0 0\n",
    ">     seti 8 0 4\n",
    ">     seti 9 0 5\n",
    "> \n",
    "> When executed, the following instructions are executed. Each line contains the value of the instruction pointer at the time the instruction started, the values of the six registers before executing the instructions (in square brackets), the instruction itself, and the values of the six registers after executing the instruction (also in square brackets).\n",
    "> \n",
    ">     ip=0 [0, 0, 0, 0, 0, 0] seti 5 0 1 [0, 5, 0, 0, 0, 0]\n",
    ">     ip=1 [1, 5, 0, 0, 0, 0] seti 6 0 2 [1, 5, 6, 0, 0, 0]\n",
    ">     ip=2 [2, 5, 6, 0, 0, 0] addi 0 1 0 [3, 5, 6, 0, 0, 0]\n",
    ">     ip=4 [4, 5, 6, 0, 0, 0] setr 1 0 0 [5, 5, 6, 0, 0, 0]\n",
    ">     ip=6 [6, 5, 6, 0, 0, 0] seti 9 0 5 [6, 5, 6, 0, 0, 9]\n",
    "> \n",
    "> In detail, when running this program, the following events occur:\n",
    "> \n",
    "> + The first line (#ip 0) indicates that the instruction pointer should be bound to register 0 in this program. This is not an instruction, and so the value of the instruction pointer does not change during the processing of this line.\n",
    "> + The instruction pointer contains 0, and so the first instruction is executed (seti 5 0 1). It updates register 0 to the current instruction pointer value (0), sets register 1 to 5, sets the instruction pointer to the value of register 0 (which has no effect, as the instruction did not modify register 0), and then adds one to the instruction pointer.\n",
    "> + The instruction pointer contains 1, and so the second instruction, seti 6 0 2, is executed. This is very similar to the instruction before it: 6 is stored in register 2, and the instruction pointer is left with the value 2.\n",
    "> + The instruction pointer is 2, which points at the instruction addi 0 1 0. This is like a relative jump: the value of the instruction pointer, 2, is loaded into register 0. Then, addi finds the result of adding the value in register 0 and the value 1, storing the result, 3, back in register 0. Register 0 is then copied back to the instruction pointer, which will cause it to end up 1 larger than it would have otherwise and skip the next instruction (addr 1 2 3) entirely. Finally, 1 is added to the instruction pointer.\n",
    "> + The instruction pointer is 4, so the instruction setr 1 0 0 is run. This is like an absolute jump: it copies the value contained in register 1, 5, into register 0, which causes it to end up in the instruction pointer. The instruction pointer is then incremented, leaving it at 6.\n",
    "> + The instruction pointer is 6, so the instruction seti 9 0 5 stores 9 into register 5. The instruction pointer is incremented, causing it to point outside the program, and so the program ends.\n",
    "> \n",
    "> What value is left in register 0 when the background process halts?"
   ]
  },
  {
   "cell_type": "markdown",
   "metadata": {},
   "source": [
    "#### loading data"
   ]
  },
  {
   "cell_type": "code",
   "execution_count": null,
   "metadata": {},
   "outputs": [],
   "source": [
    "test_data = \"\"\"#ip 0\n",
    "seti 5 0 1\n",
    "seti 6 0 2\n",
    "addi 0 1 0\n",
    "addr 1 2 3\n",
    "setr 1 0 0\n",
    "seti 8 0 4\n",
    "seti 9 0 5\"\"\""
   ]
  },
  {
   "cell_type": "code",
   "execution_count": null,
   "metadata": {},
   "outputs": [],
   "source": [
    "def load_data(fname=FNAME):\n",
    "    with open(fname) as fp:\n",
    "        return fp.read().strip()"
   ]
  },
  {
   "cell_type": "code",
   "execution_count": null,
   "metadata": {},
   "outputs": [],
   "source": [
    "def parse_prog(s):\n",
    "    lines = s.split('\\n')\n",
    "    ip_line = lines[0]\n",
    "    ip_indx = int(ip_line.split(' ')[1])\n",
    "    prog = []\n",
    "    for line in lines[1:]:\n",
    "        func, a, b, c = line.strip().split(' ')\n",
    "        a = int(a)\n",
    "        b = int(b)\n",
    "        c = int(c)\n",
    "        prog.append([func, a, b, c])\n",
    "    return ip_indx, prog"
   ]
  },
  {
   "cell_type": "markdown",
   "metadata": {},
   "source": [
    "#### function def"
   ]
  },
  {
   "cell_type": "markdown",
   "metadata": {},
   "source": [
    "stolen from day16"
   ]
  },
  {
   "cell_type": "code",
   "execution_count": null,
   "metadata": {},
   "outputs": [],
   "source": [
    "def addr(a, b, c, register):\n",
    "    register[c] = register[a] + register[b]\n",
    "    \n",
    "def addi(a, b, c, register):\n",
    "    register[c] = register[a] + b\n",
    "\n",
    "def mulr(a, b, c, register):\n",
    "    register[c] = register[a] * register[b]\n",
    "    \n",
    "def muli(a, b, c, register):\n",
    "    register[c] = register[a] * b\n",
    "\n",
    "def banr(a, b, c, register):\n",
    "    register[c] = register[a] & register[b]\n",
    "    \n",
    "def bani(a, b, c, register):\n",
    "    register[c] = register[a] & b\n",
    "\n",
    "def borr(a, b, c, register):\n",
    "    register[c] = register[a] | register[b]\n",
    "    \n",
    "def bori(a, b, c, register):\n",
    "    register[c] = register[a] | b\n",
    "\n",
    "def setr(a, b, c, register):\n",
    "    register[c] = register[a]\n",
    "    \n",
    "def seti(a, b, c, register):\n",
    "    register[c] = a\n",
    "\n",
    "def gtir(a, b, c, register):\n",
    "    register[c] = int(a > register[b])\n",
    "    \n",
    "def gtri(a, b, c, register):\n",
    "    register[c] = int(register[a] > b)\n",
    "    \n",
    "def gtrr(a, b, c, register):\n",
    "    register[c] = int(register[a] > register[b])\n",
    "\n",
    "def eqir(a, b, c, register):\n",
    "    register[c] = int(a == register[b])\n",
    "    \n",
    "def eqri(a, b, c, register):\n",
    "    register[c] = int(register[a] == b)\n",
    "    \n",
    "def eqrr(a, b, c, register):\n",
    "    register[c] = int(register[a] == register[b])"
   ]
  },
  {
   "cell_type": "code",
   "execution_count": null,
   "metadata": {},
   "outputs": [],
   "source": [
    "def apply(ip, ip_indx, register, func_name, a, b, c):\n",
    "    LOGGER.debug('ip = {}'.format(ip))\n",
    "    \n",
    "    # load the ip into the register\n",
    "    register[ip_indx] = ip\n",
    "    \n",
    "    LOGGER.debug('register = {}'.format(register))\n",
    "    LOGGER.debug('program = {} {} {} {}'.format(func_name, a, b, c))\n",
    "    \n",
    "    # apply the function as normal\n",
    "    globals()[func_name](a, b, c, register)\n",
    "    \n",
    "    # unload the ip and increment\n",
    "    ip = register[ip_indx] + 1\n",
    "    LOGGER.debug('register = {}'.format(register))\n",
    "    \n",
    "    # return the new ip (register was updated in-place)\n",
    "    return ip"
   ]
  },
  {
   "cell_type": "code",
   "execution_count": null,
   "metadata": {},
   "outputs": [],
   "source": [
    "def q_1(data):\n",
    "    ip_indx, prog = parse_prog(data)\n",
    "    ip = 0\n",
    "    register = [0, 0, 0, 0, 0, 0]\n",
    "    \n",
    "    while ip < len(prog):\n",
    "        func_name, a, b, c = prog[ip]\n",
    "        ip = apply(ip, ip_indx, register, func_name, a, b, c)\n",
    "    \n",
    "    return register[0]"
   ]
  },
  {
   "cell_type": "markdown",
   "metadata": {},
   "source": [
    "#### tests"
   ]
  },
  {
   "cell_type": "code",
   "execution_count": null,
   "metadata": {},
   "outputs": [],
   "source": [
    "def test_q_1():\n",
    "    LOGGER.setLevel(logging.DEBUG)\n",
    "    assert q_1(test_data) == 6\n",
    "    LOGGER.setLevel(logging.INFO)"
   ]
  },
  {
   "cell_type": "code",
   "execution_count": null,
   "metadata": {},
   "outputs": [],
   "source": [
    "test_q_1()"
   ]
  },
  {
   "cell_type": "markdown",
   "metadata": {},
   "source": [
    "#### answer"
   ]
  },
  {
   "cell_type": "code",
   "execution_count": null,
   "metadata": {},
   "outputs": [],
   "source": [
    "q_1(load_data())"
   ]
  },
  {
   "cell_type": "markdown",
   "metadata": {},
   "source": [
    "## part 2\n",
    "\n",
    "### problem statement:"
   ]
  },
  {
   "cell_type": "markdown",
   "metadata": {},
   "source": [
    "#### function def"
   ]
  },
  {
   "cell_type": "code",
   "execution_count": null,
   "metadata": {},
   "outputs": [],
   "source": [
    "logging.getLogger('matplotlib').setLevel(logging.ERROR)\n",
    "import pandas as pd\n",
    "\n",
    "def q_2(data, keep_history=False, max_steps=None):\n",
    "    ip_indx, prog = parse_prog(data)\n",
    "    ip = 0\n",
    "    register = [1, 0, 0, 0, 0, 0]\n",
    "    \n",
    "    n = 0\n",
    "    history = []\n",
    "    while ip < len(prog):\n",
    "        func_name, a, b, c = prog[ip]\n",
    "        ip = apply(ip, ip_indx, register, func_name, a, b, c)\n",
    "        n += 1\n",
    "        if max_steps is not None and n >= max_steps:\n",
    "            break\n",
    "        if keep_history:\n",
    "            history.append(list(register))\n",
    "    \n",
    "    if keep_history:\n",
    "        return register[0], pd.DataFrame(history)\n",
    "    else:\n",
    "        return register[0]"
   ]
  },
  {
   "cell_type": "markdown",
   "metadata": {},
   "source": [
    "#### history vis"
   ]
  },
  {
   "cell_type": "code",
   "execution_count": null,
   "metadata": {
    "scrolled": true
   },
   "outputs": [],
   "source": [
    "_, history = q_2(load_data(), max_steps=100_000, keep_history=True)"
   ]
  },
  {
   "cell_type": "code",
   "execution_count": null,
   "metadata": {},
   "outputs": [],
   "source": [
    "history.head()"
   ]
  },
  {
   "cell_type": "code",
   "execution_count": null,
   "metadata": {},
   "outputs": [],
   "source": [
    "history.tail()"
   ]
  },
  {
   "cell_type": "code",
   "execution_count": null,
   "metadata": {},
   "outputs": [],
   "source": [
    "import plotly\n",
    "import plotly.graph_objs as go\n",
    "import plotly.offline\n",
    "\n",
    "plotly.offline.init_notebook_mode(connected=True)"
   ]
  },
  {
   "cell_type": "code",
   "execution_count": null,
   "metadata": {},
   "outputs": [],
   "source": [
    "z = history.tail(1000)\n",
    "data = [\n",
    "    go.Scatter(x=z.index, y=z[i], name=i)\n",
    "    for i in range(5)  # column 5 is a constant\n",
    "]\n",
    "plotly.offline.iplot(data)"
   ]
  },
  {
   "cell_type": "markdown",
   "metadata": {},
   "source": [
    "#### answer"
   ]
  },
  {
   "cell_type": "code",
   "execution_count": null,
   "metadata": {
    "scrolled": true
   },
   "outputs": [],
   "source": [
    "q_2(load_data())"
   ]
  },
  {
   "cell_type": "code",
   "execution_count": null,
   "metadata": {},
   "outputs": [],
   "source": [
    "def factors(n):\n",
    "    while n > 1:\n",
    "        for i in range(2, n + 1):\n",
    "            if n % i == 0:\n",
    "                n //= i\n",
    "                yield i\n",
    "                break\n",
    "\n",
    "f = list(factors(10551367))\n",
    "f"
   ]
  },
  {
   "cell_type": "code",
   "execution_count": null,
   "metadata": {},
   "outputs": [],
   "source": [
    "1 + 2801 + 3767 + 2801 * 3767"
   ]
  },
  {
   "cell_type": "markdown",
   "metadata": {},
   "source": [
    "fin"
   ]
  }
 ],
 "metadata": {
  "kernelspec": {
   "display_name": "Python 3",
   "language": "python",
   "name": "python3"
  },
  "language_info": {
   "codemirror_mode": {
    "name": "ipython",
    "version": 3
   },
   "file_extension": ".py",
   "mimetype": "text/x-python",
   "name": "python",
   "nbconvert_exporter": "python",
   "pygments_lexer": "ipython3",
   "version": "3.6.8"
  }
 },
 "nbformat": 4,
 "nbformat_minor": 2
}
