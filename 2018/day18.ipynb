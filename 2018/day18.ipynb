{
 "cells": [
  {
   "cell_type": "markdown",
   "metadata": {},
   "source": [
    "# day 18\n",
    "\n",
    "https://adventofcode.com/2018/day/18"
   ]
  },
  {
   "cell_type": "code",
   "execution_count": null,
   "metadata": {},
   "outputs": [],
   "source": [
    "import os\n",
    "\n",
    "import eri.logging as logging"
   ]
  },
  {
   "cell_type": "code",
   "execution_count": null,
   "metadata": {},
   "outputs": [],
   "source": [
    "FNAME = os.path.join('data', 'day18.txt')\n",
    "\n",
    "LOGGER = logging.getLogger('day18')\n",
    "logging.configure()"
   ]
  },
  {
   "cell_type": "markdown",
   "metadata": {},
   "source": [
    "## part 1\n",
    "\n",
    "### problem statement:\n",
    "\n",
    "> On the outskirts of the North Pole base construction project, many Elves are collecting lumber.\n",
    "> \n",
    "> The lumber collection area is 50 acres by 50 acres; each acre can be either open ground (.), trees (|), or a lumberyard (#). You take a scan of the area (your puzzle input).\n",
    "> \n",
    "> Strange magic is at work here: each minute, the landscape looks entirely different. In exactly one minute, an open acre can fill with trees, a wooded acre can be converted to a lumberyard, or a lumberyard can be cleared to open ground (the lumber having been sent to other projects).\n",
    "> \n",
    "> The change to each acre is based entirely on the contents of that acre as well as the number of open, wooded, or lumberyard acres adjacent to it at the start of each minute. Here, \"adjacent\" means any of the eight acres surrounding that acre. (Acres on the edges of the lumber collection area might have fewer than eight adjacent acres; the missing acres aren't counted.)\n",
    "> \n",
    "> In particular:\n",
    "> \n",
    "> + An open acre will become filled with trees if three or more adjacent acres contained trees. Otherwise, nothing happens.\n",
    "> + An acre filled with trees will become a lumberyard if three or more adjacent acres were lumberyards. Otherwise, nothing happens.\n",
    "> + An acre containing a lumberyard will remain a lumberyard if it was adjacent to at least one other lumberyard and at least one acre containing trees. Otherwise, it becomes open.\n",
    "> \n",
    "> These changes happen across all acres simultaneously, each of them using the state of all acres at the beginning of the minute and changing to their new form by the end of that same minute. Changes that happen during the minute don't affect each other.\n",
    "> \n",
    "> For example, suppose the lumber collection area is instead only 10 by 10 acres with this initial configuration:\n",
    "> \n",
    ">     Initial state:\n",
    ">     .#.#...|#.\n",
    ">     .....#|##|\n",
    ">     .|..|...#.\n",
    ">     ..|#.....#\n",
    ">     #.#|||#|#|\n",
    ">     ...#.||...\n",
    ">     .|....|...\n",
    ">     ||...#|.#|\n",
    ">     |.||||..|.\n",
    ">     ...#.|..|.\n",
    ">     \n",
    ">     After 1 minute:\n",
    ">     .......##.\n",
    ">     ......|###\n",
    ">     .|..|...#.\n",
    ">     ..|#||...#\n",
    ">     ..##||.|#|\n",
    ">     ...#||||..\n",
    ">     ||...|||..\n",
    ">     |||||.||.|\n",
    ">     ||||||||||\n",
    ">     ....||..|.\n",
    ">     \n",
    ">     After 2 minutes:\n",
    ">     .......#..\n",
    ">     ......|#..\n",
    ">     .|.|||....\n",
    ">     ..##|||..#\n",
    ">     ..###|||#|\n",
    ">     ...#|||||.\n",
    ">     |||||||||.\n",
    ">     ||||||||||\n",
    ">     ||||||||||\n",
    ">     .|||||||||\n",
    ">     \n",
    ">     After 3 minutes:\n",
    ">     .......#..\n",
    ">     ....|||#..\n",
    ">     .|.||||...\n",
    ">     ..###|||.#\n",
    ">     ...##|||#|\n",
    ">     .||##|||||\n",
    ">     ||||||||||\n",
    ">     ||||||||||\n",
    ">     ||||||||||\n",
    ">     ||||||||||\n",
    ">     \n",
    ">     After 4 minutes:\n",
    ">     .....|.#..\n",
    ">     ...||||#..\n",
    ">     .|.#||||..\n",
    ">     ..###||||#\n",
    ">     ...###||#|\n",
    ">     |||##|||||\n",
    ">     ||||||||||\n",
    ">     ||||||||||\n",
    ">     ||||||||||\n",
    ">     ||||||||||\n",
    ">     \n",
    ">     After 5 minutes:\n",
    ">     ....|||#..\n",
    ">     ...||||#..\n",
    ">     .|.##||||.\n",
    ">     ..####|||#\n",
    ">     .|.###||#|\n",
    ">     |||###||||\n",
    ">     ||||||||||\n",
    ">     ||||||||||\n",
    ">     ||||||||||\n",
    ">     ||||||||||\n",
    ">     \n",
    ">     After 6 minutes:\n",
    ">     ...||||#..\n",
    ">     ...||||#..\n",
    ">     .|.###|||.\n",
    ">     ..#.##|||#\n",
    ">     |||#.##|#|\n",
    ">     |||###||||\n",
    ">     ||||#|||||\n",
    ">     ||||||||||\n",
    ">     ||||||||||\n",
    ">     ||||||||||\n",
    ">     \n",
    ">     After 7 minutes:\n",
    ">     ...||||#..\n",
    ">     ..||#|##..\n",
    ">     .|.####||.\n",
    ">     ||#..##||#\n",
    ">     ||##.##|#|\n",
    ">     |||####|||\n",
    ">     |||###||||\n",
    ">     ||||||||||\n",
    ">     ||||||||||\n",
    ">     ||||||||||\n",
    ">     \n",
    ">     After 8 minutes:\n",
    ">     ..||||##..\n",
    ">     ..|#####..\n",
    ">     |||#####|.\n",
    ">     ||#...##|#\n",
    ">     ||##..###|\n",
    ">     ||##.###||\n",
    ">     |||####|||\n",
    ">     ||||#|||||\n",
    ">     ||||||||||\n",
    ">     ||||||||||\n",
    ">     \n",
    ">     After 9 minutes:\n",
    ">     ..||###...\n",
    ">     .||#####..\n",
    ">     ||##...##.\n",
    ">     ||#....###\n",
    ">     |##....##|\n",
    ">     ||##..###|\n",
    ">     ||######||\n",
    ">     |||###||||\n",
    ">     ||||||||||\n",
    ">     ||||||||||\n",
    ">     \n",
    ">     After 10 minutes:\n",
    ">     .||##.....\n",
    ">     ||###.....\n",
    ">     ||##......\n",
    ">     |##.....##\n",
    ">     |##.....##\n",
    ">     |##....##|\n",
    ">     ||##.####|\n",
    ">     ||#####|||\n",
    ">     ||||#|||||\n",
    ">     ||||||||||\n",
    "> \n",
    "> After 10 minutes, there are 37 wooded acres and 31 lumberyards. Multiplying the number of wooded acres by the number of lumberyards gives the total resource value after ten minutes: 37 * 31 = 1147.\n",
    "> \n",
    "> What will the total resource value of the lumber collection area be after 10 minutes?"
   ]
  },
  {
   "cell_type": "markdown",
   "metadata": {},
   "source": [
    "#### loading data"
   ]
  },
  {
   "cell_type": "code",
   "execution_count": null,
   "metadata": {},
   "outputs": [],
   "source": [
    "def load_data(fname=FNAME):\n",
    "    with open(fname) as fp:\n",
    "        return fp.read()"
   ]
  },
  {
   "cell_type": "code",
   "execution_count": null,
   "metadata": {},
   "outputs": [],
   "source": [
    "import numpy as np\n",
    "\n",
    "def str_to_arr(s):\n",
    "    return np.array([list(row.strip()) for row in s.strip().split('\\n')])\n",
    "\n",
    "def arr_to_str(a):\n",
    "    return '\\n'.join(\n",
    "        ''.join(row)\n",
    "        for row in a\n",
    "    )"
   ]
  },
  {
   "cell_type": "code",
   "execution_count": null,
   "metadata": {},
   "outputs": [],
   "source": [
    "test_data = \"\"\".#.#...|#.\n",
    ".....#|##|\n",
    ".|..|...#.\n",
    "..|#.....#\n",
    "#.#|||#|#|\n",
    "...#.||...\n",
    ".|....|...\n",
    "||...#|.#|\n",
    "|.||||..|.\n",
    "...#.|..|.\"\"\"\n",
    "assert test_data == arr_to_str(str_to_arr(test_data))"
   ]
  },
  {
   "cell_type": "markdown",
   "metadata": {},
   "source": [
    "#### function def"
   ]
  },
  {
   "cell_type": "code",
   "execution_count": null,
   "metadata": {},
   "outputs": [],
   "source": [
    "OPEN = '.'\n",
    "TREE = '|'\n",
    "LUMBER = '#'\n",
    "\n",
    "n2c = {0: OPEN, 1: TREE, 2: LUMBER}\n",
    "c2n = {v: k for (k, v) in n2c.items()}"
   ]
  },
  {
   "cell_type": "code",
   "execution_count": null,
   "metadata": {},
   "outputs": [],
   "source": [
    "def step(a0):\n",
    "    a1 = a0.copy()\n",
    "    for i in range(a0.shape[0]):\n",
    "        i0 = max(0, i - 1)\n",
    "        i1 = min(a0.shape[0], i + 2)\n",
    "        for j in range(a0.shape[1]):\n",
    "            j0 = max(0, j - 1)\n",
    "            j1 = min(a0.shape[1], j + 2)\n",
    "            window = a0[i0: i1, j0: j1]\n",
    "            new_val = ctr_val = a0[i, j]\n",
    "            if ctr_val == OPEN:\n",
    "                if (window == TREE).sum() >= 3:\n",
    "                    new_val = TREE\n",
    "            elif ctr_val == TREE:\n",
    "                if (window == LUMBER).sum() >= 3:\n",
    "                    new_val = LUMBER\n",
    "            elif ctr_val == LUMBER:\n",
    "                if (window == LUMBER).sum() < 2 or (window == TREE).sum() < 1:\n",
    "                    new_val = OPEN\n",
    "            a1[i, j] = new_val\n",
    "    return a1"
   ]
  },
  {
   "cell_type": "code",
   "execution_count": null,
   "metadata": {},
   "outputs": [],
   "source": [
    "import tqdm\n",
    "\n",
    "def q_1(data, num_steps=10):\n",
    "    a = str_to_arr(data)\n",
    "    for i in tqdm.tnrange(num_steps):\n",
    "        a = step(a)\n",
    "    num_tree = (a == TREE).sum()\n",
    "    num_lumber = (a == LUMBER).sum()\n",
    "    return num_tree * num_lumber"
   ]
  },
  {
   "cell_type": "markdown",
   "metadata": {},
   "source": [
    "#### tests"
   ]
  },
  {
   "cell_type": "markdown",
   "metadata": {},
   "source": [
    "some tests of the update step"
   ]
  },
  {
   "cell_type": "code",
   "execution_count": null,
   "metadata": {},
   "outputs": [],
   "source": [
    "t_0 = str_to_arr(\"\"\".#.#...|#.\n",
    ".....#|##|\n",
    ".|..|...#.\n",
    "..|#.....#\n",
    "#.#|||#|#|\n",
    "...#.||...\n",
    ".|....|...\n",
    "||...#|.#|\n",
    "|.||||..|.\n",
    "...#.|..|.\"\"\")\n",
    "\n",
    "t_1 = str_to_arr(\"\"\".......##.\n",
    "......|###\n",
    ".|..|...#.\n",
    "..|#||...#\n",
    "..##||.|#|\n",
    "...#||||..\n",
    "||...|||..\n",
    "|||||.||.|\n",
    "||||||||||\n",
    "....||..|.\"\"\")\n",
    "\n",
    "t_2 = str_to_arr(\"\"\".......#..\n",
    "......|#..\n",
    ".|.|||....\n",
    "..##|||..#\n",
    "..###|||#|\n",
    "...#|||||.\n",
    "|||||||||.\n",
    "||||||||||\n",
    "||||||||||\n",
    ".|||||||||\"\"\")\n",
    "\n",
    "t_3 = str_to_arr(\"\"\".......#..\n",
    "....|||#..\n",
    ".|.||||...\n",
    "..###|||.#\n",
    "...##|||#|\n",
    ".||##|||||\n",
    "||||||||||\n",
    "||||||||||\n",
    "||||||||||\n",
    "||||||||||\"\"\")\n",
    "\n",
    "t_4 = str_to_arr(\"\"\".....|.#..\n",
    "...||||#..\n",
    ".|.#||||..\n",
    "..###||||#\n",
    "...###||#|\n",
    "|||##|||||\n",
    "||||||||||\n",
    "||||||||||\n",
    "||||||||||\n",
    "||||||||||\"\"\")\n",
    "\n",
    "t_5 = str_to_arr(\"\"\"....|||#..\n",
    "...||||#..\n",
    ".|.##||||.\n",
    "..####|||#\n",
    ".|.###||#|\n",
    "|||###||||\n",
    "||||||||||\n",
    "||||||||||\n",
    "||||||||||\n",
    "||||||||||\"\"\")\n",
    "\n",
    "t_6 = str_to_arr(\"\"\"...||||#..\n",
    "...||||#..\n",
    ".|.###|||.\n",
    "..#.##|||#\n",
    "|||#.##|#|\n",
    "|||###||||\n",
    "||||#|||||\n",
    "||||||||||\n",
    "||||||||||\n",
    "||||||||||\"\"\")\n",
    "\n",
    "t_7 = str_to_arr(\"\"\"...||||#..\n",
    "..||#|##..\n",
    ".|.####||.\n",
    "||#..##||#\n",
    "||##.##|#|\n",
    "|||####|||\n",
    "|||###||||\n",
    "||||||||||\n",
    "||||||||||\n",
    "||||||||||\"\"\")\n",
    "\n",
    "t_8 = str_to_arr(\"\"\"..||||##..\n",
    "..|#####..\n",
    "|||#####|.\n",
    "||#...##|#\n",
    "||##..###|\n",
    "||##.###||\n",
    "|||####|||\n",
    "||||#|||||\n",
    "||||||||||\n",
    "||||||||||\"\"\")\n",
    "\n",
    "t_9 = str_to_arr(\"\"\"..||###...\n",
    ".||#####..\n",
    "||##...##.\n",
    "||#....###\n",
    "|##....##|\n",
    "||##..###|\n",
    "||######||\n",
    "|||###||||\n",
    "||||||||||\n",
    "||||||||||\"\"\")\n",
    "\n",
    "t_10 = str_to_arr(\"\"\".||##.....\n",
    "||###.....\n",
    "||##......\n",
    "|##.....##\n",
    "|##.....##\n",
    "|##....##|\n",
    "||##.####|\n",
    "||#####|||\n",
    "||||#|||||\n",
    "||||||||||\"\"\")"
   ]
  },
  {
   "cell_type": "code",
   "execution_count": null,
   "metadata": {},
   "outputs": [],
   "source": [
    "assert (step(t_0) == t_1).all()\n",
    "assert (step(t_1) == t_2).all()\n",
    "assert (step(t_2) == t_3).all()\n",
    "assert (step(t_3) == t_4).all()\n",
    "assert (step(t_4) == t_5).all()\n",
    "assert (step(t_5) == t_6).all()\n",
    "assert (step(t_6) == t_7).all()\n",
    "assert (step(t_7) == t_8).all()\n",
    "assert (step(t_8) == t_9).all()\n",
    "assert (step(t_9) == t_10).all()"
   ]
  },
  {
   "cell_type": "code",
   "execution_count": null,
   "metadata": {},
   "outputs": [],
   "source": [
    "def test_q_1():\n",
    "    LOGGER.setLevel(logging.DEBUG)\n",
    "    assert q_1(test_data) == 1147\n",
    "    LOGGER.setLevel(logging.INFO)"
   ]
  },
  {
   "cell_type": "code",
   "execution_count": null,
   "metadata": {},
   "outputs": [],
   "source": [
    "test_q_1()"
   ]
  },
  {
   "cell_type": "markdown",
   "metadata": {},
   "source": [
    "#### answer"
   ]
  },
  {
   "cell_type": "code",
   "execution_count": null,
   "metadata": {},
   "outputs": [],
   "source": [
    "q_1(load_data())"
   ]
  },
  {
   "cell_type": "markdown",
   "metadata": {},
   "source": [
    "## part 2\n",
    "\n",
    "### problem statement:\n",
    "\n",
    "> This important natural resource will need to last for at least thousands of years. Are the Elves collecting this lumber sustainably?\n",
    "> \n",
    "> What will the total resource value of the lumber collection area be after 1000000000 minutes?"
   ]
  },
  {
   "cell_type": "markdown",
   "metadata": {},
   "source": [
    "#### function def"
   ]
  },
  {
   "cell_type": "code",
   "execution_count": null,
   "metadata": {},
   "outputs": [],
   "source": [
    "def q_2(data):\n",
    "    return q_1(data, num_steps=1000000000)"
   ]
  },
  {
   "cell_type": "markdown",
   "metadata": {},
   "source": [
    "#### answer"
   ]
  },
  {
   "cell_type": "code",
   "execution_count": null,
   "metadata": {},
   "outputs": [],
   "source": [
    "data = load_data()\n",
    "\n",
    "z = []\n",
    "a = str_to_arr(data)\n",
    "for i in tqdm.tnrange(1, 1001):\n",
    "    a = step(a)\n",
    "    num_tree = (a == TREE).sum()\n",
    "    num_lumber = (a == LUMBER).sum()\n",
    "    z.append({\n",
    "        'i': i,\n",
    "        'val': num_tree * num_lumber,\n",
    "        's': arr_to_str(a)\n",
    "    })"
   ]
  },
  {
   "cell_type": "code",
   "execution_count": null,
   "metadata": {},
   "outputs": [],
   "source": [
    "from collections import Counter"
   ]
  },
  {
   "cell_type": "code",
   "execution_count": null,
   "metadata": {},
   "outputs": [],
   "source": [
    "c = Counter([_['val'] for _ in z])"
   ]
  },
  {
   "cell_type": "code",
   "execution_count": null,
   "metadata": {},
   "outputs": [],
   "source": [
    "c.most_common(5)"
   ]
  },
  {
   "cell_type": "code",
   "execution_count": null,
   "metadata": {},
   "outputs": [],
   "source": [
    "logging.getLogger('matplotlib').setLevel(logging.WARNING)\n",
    "import matplotlib.pyplot as plt"
   ]
  },
  {
   "cell_type": "code",
   "execution_count": null,
   "metadata": {},
   "outputs": [],
   "source": [
    "plt.plot(list(range(1000)), [_['val'] for _ in z])"
   ]
  },
  {
   "cell_type": "code",
   "execution_count": null,
   "metadata": {},
   "outputs": [],
   "source": [
    "from ipywidgets import interact\n",
    "\n",
    "@interact(i=(0, 1000))\n",
    "def vis(i=0):\n",
    "    print(z[i]['s'])"
   ]
  },
  {
   "cell_type": "markdown",
   "metadata": {},
   "source": [
    "so we need to find the cycle and just calculate the values assocaited with each modulus"
   ]
  },
  {
   "cell_type": "code",
   "execution_count": null,
   "metadata": {},
   "outputs": [],
   "source": [
    "z_half = z[len(z) // 2:]\n",
    "Counter(_['val'] for _ in z_half)"
   ]
  },
  {
   "cell_type": "code",
   "execution_count": null,
   "metadata": {},
   "outputs": [],
   "source": [
    "i0 = None\n",
    "i1 = None\n",
    "for el in z_half:\n",
    "    if el['val'] == 195160:\n",
    "        if i0 is None:\n",
    "            i0 = el['i']\n",
    "            continue\n",
    "        elif i1 is None:\n",
    "            i1 = el['i']\n",
    "            break\n",
    "i1 - i0"
   ]
  },
  {
   "cell_type": "code",
   "execution_count": null,
   "metadata": {},
   "outputs": [],
   "source": [
    "modscore = {(_['i'] % 28, _['val']) for _ in z_half}\n",
    "modscore"
   ]
  },
  {
   "cell_type": "code",
   "execution_count": null,
   "metadata": {},
   "outputs": [],
   "source": [
    "modscore = {k: v for (k, v) in modscore}\n",
    "modscore"
   ]
  },
  {
   "cell_type": "code",
   "execution_count": null,
   "metadata": {},
   "outputs": [],
   "source": [
    "i = 1000000000\n",
    "modscore[i % 28]"
   ]
  },
  {
   "cell_type": "markdown",
   "metadata": {},
   "source": [
    "fin"
   ]
  }
 ],
 "metadata": {
  "kernelspec": {
   "display_name": "Python 3",
   "language": "python",
   "name": "python3"
  },
  "language_info": {
   "codemirror_mode": {
    "name": "ipython",
    "version": 3
   },
   "file_extension": ".py",
   "mimetype": "text/x-python",
   "name": "python",
   "nbconvert_exporter": "python",
   "pygments_lexer": "ipython3",
   "version": "3.6.7"
  }
 },
 "nbformat": 4,
 "nbformat_minor": 2
}
