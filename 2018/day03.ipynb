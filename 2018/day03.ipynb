{
 "cells": [
  {
   "cell_type": "markdown",
   "metadata": {},
   "source": [
    "# day 3\n",
    "\n",
    "https://adventofcode.com/2018/day/3"
   ]
  },
  {
   "cell_type": "code",
   "execution_count": 1,
   "metadata": {},
   "outputs": [],
   "source": [
    "import os\n",
    "\n",
    "import eri.logging as logging"
   ]
  },
  {
   "cell_type": "code",
   "execution_count": 2,
   "metadata": {},
   "outputs": [],
   "source": [
    "FNAME = os.path.join('data', 'day3.txt')\n",
    "\n",
    "LOGGER = logging.getLogger('day3')\n",
    "logging.configure()"
   ]
  },
  {
   "cell_type": "markdown",
   "metadata": {},
   "source": [
    "## part 1\n",
    "\n",
    "### problem statement:\n",
    "\n",
    "> The Elves managed to locate the chimney-squeeze prototype fabric for Santa's suit (thanks to someone who helpfully wrote its box IDs on the wall of the warehouse in the middle of the night). Unfortunately, anomalies are still affecting them - nobody can even agree on how to cut the fabric.\n",
    "> \n",
    "> The whole piece of fabric they're working on is a very large square - at least 1000 inches on each side.\n",
    "> \n",
    "> Each Elf has made a claim about which area of fabric would be ideal for Santa's suit. All claims have an ID and consist of a single rectangle with edges parallel to the edges of the fabric. Each claim's rectangle is defined as follows:\n",
    "> \n",
    "> The number of inches between the left edge of the fabric and the left edge of the rectangle.\n",
    "> The number of inches between the top edge of the fabric and the top edge of the rectangle.\n",
    "> The width of the rectangle in inches.\n",
    "> The height of the rectangle in inches.\n",
    "> A claim like #123 @ 3,2: 5x4 means that claim ID 123 specifies a rectangle 3 inches from the left edge, 2 inches from the top edge, 5 inches wide, and 4 inches tall. Visually, it claims the square inches of fabric represented by # (and ignores the square inches of fabric represented by .) in the diagram below:\n",
    "> \n",
    ">     ...........\n",
    ">     ...........\n",
    ">     ...#####...\n",
    ">     ...#####...\n",
    ">     ...#####...\n",
    ">     ...#####...\n",
    ">     ...........\n",
    ">     ...........\n",
    ">     ...........\n",
    "> \n",
    "> The problem is that many of the claims overlap, causing two or more claims to cover part of the same areas. For example, consider the following claims:\n",
    "> \n",
    ">     #1 @ 1,3: 4x4\n",
    ">     #2 @ 3,1: 4x4\n",
    ">     #3 @ 5,5: 2x2\n",
    "> \n",
    "> Visually, these claim the following areas:\n",
    "> \n",
    ">     ........\n",
    ">     ...2222.\n",
    ">     ...2222.\n",
    ">     .11XX22.\n",
    ">     .11XX22.\n",
    ">     .111133.\n",
    ">     .111133.\n",
    ">     ........\n",
    ">\n",
    "> The four square inches marked with X are claimed by both 1 and 2. (Claim 3, while adjacent to the others, does not overlap either of them.)\n",
    "> \n",
    "> If the Elves all proceed with their own plans, none of them will have enough fabric. How many square inches of fabric are within two or more claims?"
   ]
  },
  {
   "cell_type": "markdown",
   "metadata": {},
   "source": [
    "#### loading data"
   ]
  },
  {
   "cell_type": "code",
   "execution_count": 3,
   "metadata": {},
   "outputs": [],
   "source": [
    "def load_data(fname=FNAME):\n",
    "    with open(fname, 'r') as f:\n",
    "        return [line.strip() for line in f]"
   ]
  },
  {
   "cell_type": "markdown",
   "metadata": {},
   "source": [
    "#### function def"
   ]
  },
  {
   "cell_type": "code",
   "execution_count": 4,
   "metadata": {},
   "outputs": [],
   "source": [
    "import re\n",
    "\n",
    "def parse(instruction):\n",
    "    return [int(_) for _ in re.match('#(\\d+) @ (\\d+),(\\d+): (\\d+)x(\\d+)', instruction).groups()]"
   ]
  },
  {
   "cell_type": "code",
   "execution_count": 5,
   "metadata": {},
   "outputs": [],
   "source": [
    "import numpy as np\n",
    "\n",
    "def q_1(instructions):\n",
    "    fabric = np.zeros((1000, 1000))\n",
    "    for instruction in instructions:\n",
    "        num, left, right, height, width = parse(instruction)\n",
    "        fabric[left: left + height, right: right + width] += 1\n",
    "    return (fabric > 1).sum()"
   ]
  },
  {
   "cell_type": "markdown",
   "metadata": {},
   "source": [
    "#### tests"
   ]
  },
  {
   "cell_type": "code",
   "execution_count": 6,
   "metadata": {},
   "outputs": [],
   "source": [
    "test_data = [\n",
    "    '#1 @ 1,3: 4x4',\n",
    "    '#2 @ 3,1: 4x4',\n",
    "    '#3 @ 5,5: 2x2',\n",
    "]\n",
    "\n",
    "def test_q_1():\n",
    "    LOGGER.setLevel(logging.DEBUG)\n",
    "    assert q_1(test_data) == 4\n",
    "    LOGGER.setLevel(logging.INFO)"
   ]
  },
  {
   "cell_type": "code",
   "execution_count": 7,
   "metadata": {},
   "outputs": [],
   "source": [
    "test_q_1()"
   ]
  },
  {
   "cell_type": "markdown",
   "metadata": {},
   "source": [
    "#### answer"
   ]
  },
  {
   "cell_type": "code",
   "execution_count": 8,
   "metadata": {},
   "outputs": [
    {
     "data": {
      "text/plain": [
       "115242"
      ]
     },
     "execution_count": 8,
     "metadata": {},
     "output_type": "execute_result"
    }
   ],
   "source": [
    "q_1(load_data())"
   ]
  },
  {
   "cell_type": "markdown",
   "metadata": {},
   "source": [
    "## part 2\n",
    "\n",
    "### problem statement:\n",
    "\n",
    "> Amidst the chaos, you notice that exactly one claim doesn't overlap by even a single square inch of fabric with any other claim. If you can somehow draw attention to it, maybe the Elves will be able to make Santa's suit after all!\n",
    "> \n",
    "> For example, in the claims above, only claim 3 is intact after all claims are made.\n",
    "> \n",
    "> What is the ID of the only claim that doesn't overlap?"
   ]
  },
  {
   "cell_type": "markdown",
   "metadata": {},
   "source": [
    "#### function def"
   ]
  },
  {
   "cell_type": "code",
   "execution_count": 9,
   "metadata": {},
   "outputs": [],
   "source": [
    "def q_2(instructions):\n",
    "    fabric = np.zeros((1000, 1000))\n",
    "    for instruction in instructions:\n",
    "        num, left, right, height, width = parse(instruction)\n",
    "        fabric[left: left + height, right: right + width] += 1\n",
    "    \n",
    "    for instruction in instructions:\n",
    "        num, left, right, height, width = parse(instruction)\n",
    "        if (fabric[left: left + height, right: right + width] == 1).all():\n",
    "            return num\n",
    "        \n",
    "    raise ValueError"
   ]
  },
  {
   "cell_type": "markdown",
   "metadata": {},
   "source": [
    "#### tests"
   ]
  },
  {
   "cell_type": "code",
   "execution_count": 10,
   "metadata": {},
   "outputs": [],
   "source": [
    "def test_q_2():\n",
    "    LOGGER.setLevel(logging.DEBUG)\n",
    "    assert q_2(test_data) == 3\n",
    "    LOGGER.setLevel(logging.INFO)"
   ]
  },
  {
   "cell_type": "code",
   "execution_count": 11,
   "metadata": {
    "scrolled": true
   },
   "outputs": [],
   "source": [
    "test_q_2()"
   ]
  },
  {
   "cell_type": "markdown",
   "metadata": {},
   "source": [
    "#### answer"
   ]
  },
  {
   "cell_type": "code",
   "execution_count": 12,
   "metadata": {},
   "outputs": [
    {
     "data": {
      "text/plain": [
       "1046"
      ]
     },
     "execution_count": 12,
     "metadata": {},
     "output_type": "execute_result"
    }
   ],
   "source": [
    "LOGGER.setLevel(logging.INFO)\n",
    "q_2(load_data())"
   ]
  },
  {
   "cell_type": "markdown",
   "metadata": {},
   "source": [
    "fin"
   ]
  }
 ],
 "metadata": {
  "kernelspec": {
   "display_name": "Python 3",
   "language": "python",
   "name": "python3"
  },
  "language_info": {
   "codemirror_mode": {
    "name": "ipython",
    "version": 3
   },
   "file_extension": ".py",
   "mimetype": "text/x-python",
   "name": "python",
   "nbconvert_exporter": "python",
   "pygments_lexer": "ipython3",
   "version": "3.6.7"
  }
 },
 "nbformat": 4,
 "nbformat_minor": 2
}
