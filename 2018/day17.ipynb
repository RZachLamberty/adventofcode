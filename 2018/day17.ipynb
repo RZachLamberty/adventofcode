{
 "cells": [
  {
   "cell_type": "markdown",
   "metadata": {},
   "source": [
    "# day 17\n",
    "\n",
    "https://adventofcode.com/2018/day/17"
   ]
  },
  {
   "cell_type": "code",
   "execution_count": 3,
   "metadata": {},
   "outputs": [],
   "source": [
    "import os\n",
    "\n",
    "import eri.logging as logging"
   ]
  },
  {
   "cell_type": "code",
   "execution_count": 4,
   "metadata": {},
   "outputs": [],
   "source": [
    "FNAME = os.path.join('data', 'day17.txt')\n",
    "\n",
    "LOGGER = logging.getLogger('day17')\n",
    "logging.configure()"
   ]
  },
  {
   "cell_type": "markdown",
   "metadata": {},
   "source": [
    "## part 1\n",
    "\n",
    "### problem statement:\n",
    "\n",
    "> You arrive in the year 18. If it weren't for the coat you got in 1018, you would be very cold: the North Pole base hasn't even been constructed.\n",
    "> \n",
    "> Rather, it hasn't been constructed yet. The Elves are making a little progress, but there's not a lot of liquid water in this climate, so they're getting very dehydrated. Maybe there's more underground?\n",
    "> \n",
    "> You scan a two-dimensional vertical slice of the ground nearby and discover that it is mostly sand with veins of clay. The scan only provides data with a granularity of square meters, but it should be good enough to determine how much water is trapped there. In the scan, x represents the distance to the right, and y represents the distance down. There is also a spring of water near the surface at x=500, y=0. The scan identifies which square meters are clay (your puzzle input).\n",
    "> \n",
    "> For example, suppose your scan shows the following veins of clay:\n",
    "> \n",
    ">     x=495, y=2..7\n",
    ">     y=7, x=495..501\n",
    ">     x=501, y=3..7\n",
    ">     x=498, y=2..4\n",
    ">     x=506, y=1..2\n",
    ">     x=498, y=10..13\n",
    ">     x=504, y=10..13\n",
    ">     y=13, x=498..504\n",
    "> \n",
    "> Rendering clay as #, sand as ., and the water spring as +, and with x increasing to the right and y increasing downward, this becomes:\n",
    "> \n",
    ">        44444455555555\n",
    ">        99999900000000\n",
    ">        45678901234567\n",
    ">      0 ......+.......\n",
    ">      1 ............#.\n",
    ">      2 .#..#.......#.\n",
    ">      3 .#..#..#......\n",
    ">      4 .#..#..#......\n",
    ">      5 .#.....#......\n",
    ">      6 .#.....#......\n",
    ">      7 .#######......\n",
    ">      8 ..............\n",
    ">      9 ..............\n",
    ">     10 ....#.....#...\n",
    ">     11 ....#.....#...\n",
    ">     12 ....#.....#...\n",
    ">     13 ....#######...\n",
    "> \n",
    "> The spring of water will produce water forever. Water can move through sand, but is blocked by clay. Water always moves down when possible, and spreads to the left and right otherwise, filling space that has clay on both sides and falling out otherwise.\n",
    "> \n",
    "> For example, if five squares of water are created, they will flow downward until they reach the clay and settle there. Water that has come to rest is shown here as ~, while sand through which water has passed (but which is now dry again) is shown as |:\n",
    "> \n",
    ">     ......+.......\n",
    ">     ......|.....#.\n",
    ">     .#..#.|.....#.\n",
    ">     .#..#.|#......\n",
    ">     .#..#.|#......\n",
    ">     .#....|#......\n",
    ">     .#~~~~~#......\n",
    ">     .#######......\n",
    ">     ..............\n",
    ">     ..............\n",
    ">     ....#.....#...\n",
    ">     ....#.....#...\n",
    ">     ....#.....#...\n",
    ">     ....#######...\n",
    ">\n",
    "> Two squares of water can't occupy the same location. If another five squares of water are created, they will settle on the first five, filling the clay reservoir a little more:\n",
    "> \n",
    ">     ......+.......\n",
    ">     ......|.....#.\n",
    ">     .#..#.|.....#.\n",
    ">     .#..#.|#......\n",
    ">     .#..#.|#......\n",
    ">     .#~~~~~#......\n",
    ">     .#~~~~~#......\n",
    ">     .#######......\n",
    ">     ..............\n",
    ">     ..............\n",
    ">     ....#.....#...\n",
    ">     ....#.....#...\n",
    ">     ....#.....#...\n",
    ">     ....#######...\n",
    "> \n",
    "> Water pressure does not apply in this scenario. If another four squares of water are created, they will stay on the right side of the barrier, and no water will reach the left side:\n",
    "> \n",
    ">     ......+.......\n",
    ">     ......|.....#.\n",
    ">     .#..#.|.....#.\n",
    ">     .#..#~~#......\n",
    ">     .#..#~~#......\n",
    ">     .#~~~~~#......\n",
    ">     .#~~~~~#......\n",
    ">     .#######......\n",
    ">     ..............\n",
    ">     ..............\n",
    ">     ....#.....#...\n",
    ">     ....#.....#...\n",
    ">     ....#.....#...\n",
    ">     ....#######...\n",
    "> \n",
    "> At this point, the top reservoir overflows. While water can reach the tiles above the surface of the water, it cannot settle there, and so the next five squares of water settle like this:\n",
    "> \n",
    ">     ......+.......\n",
    ">     ......|.....#.\n",
    ">     .#..#||||...#.\n",
    ">     .#..#~~#|.....\n",
    ">     .#..#~~#|.....\n",
    ">     .#~~~~~#|.....\n",
    ">     .#~~~~~#|.....\n",
    ">     .#######|.....\n",
    ">     ........|.....\n",
    ">     ........|.....\n",
    ">     ....#...|.#...\n",
    ">     ....#...|.#...\n",
    ">     ....#~~~~~#...\n",
    ">     ....#######...\n",
    "> \n",
    "> Note especially the leftmost |: the new squares of water can reach this tile, but cannot stop there. Instead, eventually, they all fall to the right and settle in the reservoir below.\n",
    "> \n",
    "> After 10 more squares of water, the bottom reservoir is also full:\n",
    "> \n",
    ">     ......+.......\n",
    ">     ......|.....#.\n",
    ">     .#..#||||...#.\n",
    ">     .#..#~~#|.....\n",
    ">     .#..#~~#|.....\n",
    ">     .#~~~~~#|.....\n",
    ">     .#~~~~~#|.....\n",
    ">     .#######|.....\n",
    ">     ........|.....\n",
    ">     ........|.....\n",
    ">     ....#~~~~~#...\n",
    ">     ....#~~~~~#...\n",
    ">     ....#~~~~~#...\n",
    ">     ....#######...\n",
    "> \n",
    "> Finally, while there is nowhere left for the water to settle, it can reach a few more tiles before overflowing beyond the bottom of the scanned data:\n",
    "> \n",
    ">     ......+.......    (line not counted: above minimum y value)\n",
    ">     ......|.....#.\n",
    ">     .#..#||||...#.\n",
    ">     .#..#~~#|.....\n",
    ">     .#..#~~#|.....\n",
    ">     .#~~~~~#|.....\n",
    ">     .#~~~~~#|.....\n",
    ">     .#######|.....\n",
    ">     ........|.....\n",
    ">     ...|||||||||..\n",
    ">     ...|#~~~~~#|..\n",
    ">     ...|#~~~~~#|..\n",
    ">     ...|#~~~~~#|..\n",
    ">     ...|#######|..\n",
    ">     ...|.......|..    (line not counted: below maximum y value)\n",
    ">     ...|.......|..    (line not counted: below maximum y value)\n",
    ">     ...|.......|..    (line not counted: below maximum y value)\n",
    "> \n",
    "> How many tiles can be reached by the water? To prevent counting forever, ignore tiles with a y coordinate smaller than the smallest y coordinate in your scan data or larger than the largest one. Any x coordinate is valid. In this example, the lowest y coordinate given is 1, and the highest is 13, causing the water spring (in row 0) and the water falling off the bottom of the render (in rows 14 through infinity) to be ignored.\n",
    "> \n",
    "> So, in the example above, counting both water at rest (~) and other sand tiles the water can hypothetically reach (|), the total number of tiles the water can reach is 57.\n",
    "> \n",
    "> How many tiles can the water reach within the range of y values in your scan?"
   ]
  },
  {
   "cell_type": "markdown",
   "metadata": {},
   "source": [
    "#### loading data"
   ]
  },
  {
   "cell_type": "code",
   "execution_count": 5,
   "metadata": {},
   "outputs": [],
   "source": [
    "test_data = \"\"\"x=495, y=2..7\n",
    "y=7, x=495..501\n",
    "x=501, y=3..7\n",
    "x=498, y=2..4\n",
    "x=506, y=1..2\n",
    "x=498, y=10..13\n",
    "x=504, y=10..13\n",
    "y=13, x=498..504\"\"\""
   ]
  },
  {
   "cell_type": "code",
   "execution_count": 6,
   "metadata": {},
   "outputs": [],
   "source": [
    "def load_data(fname=FNAME):\n",
    "    with open(fname) as fp:\n",
    "        return fp.read().strip()"
   ]
  },
  {
   "cell_type": "code",
   "execution_count": 7,
   "metadata": {},
   "outputs": [],
   "source": [
    "import re\n",
    "\n",
    "import numpy as np\n",
    "\n",
    "def inp_str_to_map(s):\n",
    "    m = []\n",
    "    for line in s.split('\\n'):\n",
    "        xy, a, b, c = re.match('([xy])=(\\d+), [xy]=(\\d+)..(\\d+)', line.strip()).groups()\n",
    "        m.append({'xy': xy, 'a': int(a), 'b': int(b), 'c': int(c)})\n",
    "        \n",
    "    # figure out the range of values\n",
    "    xmin = ymin = np.infty\n",
    "    xmax = ymax = 0\n",
    "    for record in m:\n",
    "        if record['xy'] == 'x':\n",
    "            xmin = min(xmin, record['a'])\n",
    "            xmax = max(xmax, record['a'])\n",
    "            ymin = min(ymin, record['b'], record['c'])\n",
    "            ymax = max(ymax, record['b'], record['c'])\n",
    "        else:\n",
    "            xmin = min(xmin, record['b'], record['c'])\n",
    "            xmax = max(xmax, record['b'], record['c'])\n",
    "            ymin = min(ymin, record['a'])\n",
    "            ymax = max(ymax, record['a'])\n",
    "            \n",
    "    # add an intentional overhang of one on the left and right\n",
    "    xmin -= 1\n",
    "    xmax += 1\n",
    "    \n",
    "    z = np.zeros((ymax - ymin + 1, xmax - xmin + 1))\n",
    "    for record in m:\n",
    "        if record['xy'] == 'x':\n",
    "            # a column\n",
    "            x = record['a'] - xmin\n",
    "            y0 = record['b'] - ymin\n",
    "            y1 = record['c'] - ymin + 1\n",
    "            z[y0: y1, x] = 1\n",
    "        else:\n",
    "            # a row\n",
    "            y = record['a'] - ymin\n",
    "            x0 = record['b'] - xmin\n",
    "            x1 = record['c'] - xmin + 1\n",
    "            z[y, x0: x1] = 1\n",
    "            \n",
    "    return z, xmin, xmax, ymin, ymax"
   ]
  },
  {
   "cell_type": "code",
   "execution_count": 8,
   "metadata": {},
   "outputs": [],
   "source": [
    "logging.getLogger('matplotlib').setLevel(logging.WARNING)\n",
    "import matplotlib.pyplot as plt\n",
    "import seaborn as sns\n",
    "sns.set(style={'axes.grid' : False})"
   ]
  },
  {
   "cell_type": "code",
   "execution_count": 9,
   "metadata": {},
   "outputs": [],
   "source": [
    "z, xmin, xmax, ymin, ymax = inp_str_to_map(test_data)"
   ]
  },
  {
   "cell_type": "code",
   "execution_count": 10,
   "metadata": {
    "scrolled": false
   },
   "outputs": [
    {
     "data": {
      "image/png": "[encoded data removed]",
      "text/plain": [
       "<Figure size 720x720 with 1 Axes>"
      ]
     },
     "metadata": {
      "needs_background": "light"
     },
     "output_type": "display_data"
    }
   ],
   "source": [
    "fig, ax = plt.subplots(figsize=(10, 10))\n",
    "ax.imshow(z)\n",
    "ax.plot([6], [0], linestyle='none', marker='.', color='red', markersize=20);"
   ]
  },
  {
   "cell_type": "code",
   "execution_count": 11,
   "metadata": {},
   "outputs": [],
   "source": [
    "# z, xmin, xmax, ymin, ymax = inp_str_to_map(load_data())"
   ]
  },
  {
   "cell_type": "code",
   "execution_count": 12,
   "metadata": {
    "scrolled": true
   },
   "outputs": [],
   "source": [
    "# fig, ax = plt.subplots(figsize=(15, 50))\n",
    "# ax.imshow(z, aspect='auto');"
   ]
  },
  {
   "cell_type": "markdown",
   "metadata": {},
   "source": [
    "#### function def"
   ]
  },
  {
   "cell_type": "code",
   "execution_count": 49,
   "metadata": {},
   "outputs": [],
   "source": [
    "class AocError(Exception):\n",
    "    pass"
   ]
  },
  {
   "cell_type": "code",
   "execution_count": 50,
   "metadata": {},
   "outputs": [],
   "source": [
    "from copy import deepcopy"
   ]
  },
  {
   "cell_type": "code",
   "execution_count": 52,
   "metadata": {},
   "outputs": [],
   "source": [
    "UP, RIGHT, DOWN, LEFT = 'UP', 'RIGHT', 'DOWN', 'LEFT'\n",
    "delta_ij = {\n",
    "    UP: (-1, 0),\n",
    "    DOWN: (1, 0),\n",
    "    LEFT: (0, -1),\n",
    "    RIGHT: (0, 1),\n",
    "}\n",
    "EMPTY, WALL, WATER = 0, 1, 2"
   ]
  },
  {
   "cell_type": "code",
   "execution_count": 65,
   "metadata": {},
   "outputs": [],
   "source": [
    "class Painter(object):\n",
    "    \"\"\"pixel painter\"\"\"\n",
    "    def __init__(self, a, location=(0, 500), starting_direction=DOWN,\n",
    "                 figsize=(10, 10)):\n",
    "        self.a = a\n",
    "        self.falling_points = {location,}\n",
    "        self.spreading_points = {}\n",
    "        self.direction = starting_direction\n",
    "        self.figsize = figsize\n",
    "        self.paint_history = []\n",
    "        self.paint(location)\n",
    "        self.edge_hits = 0\n",
    "    \n",
    "    def paint(self, location):\n",
    "        LOGGER.debug('painting location {}'.format(location))\n",
    "        self.a[location] = WATER\n",
    "        self.paint_history.append(location)\n",
    "    \n",
    "    @property\n",
    "    def done(self):\n",
    "        # no falling or spreading points remain\n",
    "        return self.falling_points.union(self.spreading_points) == set()\n",
    "    \n",
    "    def step(self):\n",
    "        \"\"\"take one step and paint the pixel you find there\"\"\"\n",
    "        fp_iter = deepcopy(self.falling_points)  # so we can pop in iteration\n",
    "        for falling_point in fp_iter:\n",
    "            LOGGER.debug('falling point: {}'.format(falling_point))\n",
    "            # see what is in the next chosen direction\n",
    "            try:\n",
    "                next_location = self._get_next_ij(\n",
    "                    direction=DOWN, location=falling_point\n",
    "                )\n",
    "            except AocError:\n",
    "                # this should only be possible if we are pouring off\n",
    "                # the bottom of the map. this falling iter is done!\n",
    "                LOGGER.debug('falling point reached the bottom of the screen')\n",
    "                self.falling_points.remove(falling_point)\n",
    "                continue\n",
    "            \n",
    "            # we hit walls when we are in a bucket\n",
    "            if self.a[next_location] == WALL:\n",
    "                LOGGER.debug('next step is not open')\n",
    "                \n",
    "                # we were flowing downward and landed in a bucket.\n",
    "                # create two spreading points (both starting here, one heading)\n",
    "                # left and one heading right\n",
    "                self.spreading_points[falling_point] = {\n",
    "                    direction: {\n",
    "                        'location': falling_point,\n",
    "                        'wall': False,\n",
    "                        'fall': False,\n",
    "                        'finished': False\n",
    "                    }\n",
    "                    for direction in [LEFT, RIGHT]\n",
    "                }\n",
    "                self.falling_points.remove(falling_point)\n",
    "            elif self.a[next_location] == EMPTY:\n",
    "                # move falling poing there and paint\n",
    "                self.falling_points.remove(falling_point)\n",
    "                self.falling_points.add(next_location)\n",
    "                self.paint(next_location)\n",
    "            else:\n",
    "                msg = \"haven't handled falling point next value of {} yet\".format(\n",
    "                    self.a[next_location]\n",
    "                )\n",
    "                LOGGER.error(msg)\n",
    "                raise AocError(msg)\n",
    "            \n",
    "        spc = deepcopy(self.spreading_points)\n",
    "        for (root, spreaddict) in spc.items():\n",
    "            for direction in [LEFT, RIGHT]:\n",
    "                if not spreaddict[direction]['finished']:\n",
    "                    current_location = spreaddict[direction]['location']\n",
    "                    LOGGER.debug('{}ward spreading point {}'.format(\n",
    "                        'left' if direction == LEFT else 'right',\n",
    "                        current_location\n",
    "                    ))\n",
    "                    # if the point below this item is empty, fall\n",
    "                    # otherwise, try and continue in the current direction\n",
    "                    if self._neighbor_empty(nbr_dir=DOWN, location=current_location):\n",
    "                        LOGGER.debug('falling edge found')\n",
    "                        LOGGER.debug('{}ward spread of {} is finished'.format(\n",
    "                            'left' if direction == LEFT else 'right',\n",
    "                            root\n",
    "                        ))\n",
    "                        for k in ['fall', 'finished']:\n",
    "                            self.spreading_points[root][direction][k] = True\n",
    "                        self.falling_points.add(current_location)\n",
    "                        continue\n",
    "                    else:\n",
    "                        next_location = self._get_next_ij(\n",
    "                            location=current_location,\n",
    "                            direction=direction\n",
    "                        )\n",
    "                        \n",
    "                        if self.a[next_location] == EMPTY:\n",
    "                            self.paint(next_location)\n",
    "                            self.spreading_points[root][direction]['location'] = next_location\n",
    "                            continue\n",
    "                        elif self.a[next_location] == WATER:\n",
    "                            # just take a step, no need to paint\n",
    "                            self.spreading_points[root][direction]['location'] = next_location\n",
    "                        else:\n",
    "                            LOGGER.debug('non-empty boundary found')\n",
    "                            LOGGER.debug('{}ward spread of {} is finished'.format(\n",
    "                                'left' if direction == LEFT else 'right',\n",
    "                                root\n",
    "                            ))\n",
    "                            for k in ['wall', 'finished']:\n",
    "                                self.spreading_points[root][direction][k] = True\n",
    "                                \n",
    "            # after pushing both edges, check now to see if we are done with both.\n",
    "            # if both hit walls, iterate the root up one and start anew (we can \n",
    "            # keep flowing up)\n",
    "            d = self.spreading_points[root]\n",
    "            dl = d[LEFT]\n",
    "            dr = d[RIGHT]\n",
    "            if dl['finished'] and dr['finished']:\n",
    "                if dl['wall'] and dr['wall']:\n",
    "                    # for each walker, step up and move in the opposite direction\n",
    "                    # until you find water. make that a first water spot a new \n",
    "                    # spread location\n",
    "                    lft_loc = self._get_next_ij(location=dl['location'], direction=UP)\n",
    "                    rgt_loc = self._get_next_ij(location=dr['location'], direction=UP)\n",
    "                    \n",
    "                    # iterate up and spread again. it's not as easy as moving up\n",
    "                    # from the root point, because sometimes the entry to a bucket\n",
    "                    # was spread-fall-spread-fill (bucket in a bucket scenario)\n",
    "                    # so always scan the water line for an up spout\n",
    "                    for up_point in self.scan_for_spouts(location=root):\n",
    "                        if up_point not in self.spreading_points:\n",
    "                            LOGGER.debug('adding up point {}'.format(up_point))\n",
    "                            self.spreading_points[up_point] = {\n",
    "                                direction: {\n",
    "                                    'location': up_point,\n",
    "                                    'wall': False,\n",
    "                                    'fall': False,\n",
    "                                    'finished': False\n",
    "                                }\n",
    "                                for direction in [LEFT, RIGHT]\n",
    "                            }\n",
    "                del self.spreading_points[root]\n",
    "    \n",
    "    def _get_next_ij(self, direction=None, location=None):\n",
    "        if direction is None:\n",
    "            direction = self.direction\n",
    "        delta_i, delta_j = delta_ij[direction]\n",
    "        i, j = location or self.location\n",
    "        next_i = i + delta_i\n",
    "        next_j = j + delta_j\n",
    "        \n",
    "        # bounds check\n",
    "        if (0 <= next_i < self.a.shape[0]) and (0 <= next_j < self.a.shape[1]):\n",
    "            return next_i, next_j\n",
    "        else:\n",
    "            raise AocError(\"next step out of bounds\")\n",
    "    \n",
    "    def _neighbor_value(self, nbr_dir, location=None):\n",
    "        # find the square to the left or right\n",
    "        try:\n",
    "            nbr_location = self._get_next_ij(direction=nbr_dir, location=location)\n",
    "        except AocError:\n",
    "            # this would walk off the page, so nbr is \"not\" empty\n",
    "            return None\n",
    "        \n",
    "        return self.a[nbr_location]\n",
    "    \n",
    "    def _neighbor_empty(self, nbr_dir, location=None):\n",
    "        if nbr_dir not in [LEFT, RIGHT, DOWN]:\n",
    "            msg = \"I didn't plan for this direction\"\n",
    "            LOGGER.error(msg)\n",
    "            LOGGER.debug('current direction: {}'.format(nbr_dir))\n",
    "            raise AocError(msg)\n",
    "        \n",
    "        nbr_val = self._neighbor_value(nbr_dir=nbr_dir, location=location)\n",
    "        if nbr_val is None:\n",
    "            return False\n",
    "        else:\n",
    "            return nbr_val == EMPTY\n",
    "    \n",
    "    def _scan(self, location, direction, char):\n",
    "        \"\"\"start at location, keep moving in direction until you find char\"\"\"\n",
    "        if self.a[location] == char:\n",
    "            return location\n",
    "        \n",
    "        scan_location = deepcopy(location)\n",
    "        while True:\n",
    "            scan_location = self._get_next_ij(\n",
    "                direction=direction, location=scan_location\n",
    "            )\n",
    "            if self.a[scan_location] == char:\n",
    "                return scan_location\n",
    "            \n",
    "    def scan_for_spouts(self, location):\n",
    "        \"\"\"given a starting location (assumed in a row of water), find the\n",
    "        WALL boundaries of that location's row. then find any point of water\n",
    "        in the line above that within that region\n",
    "        \n",
    "        \"\"\"\n",
    "        assert self.a[location] == WATER\n",
    "        \n",
    "        LOGGER.debug('scanning for spouts')\n",
    "        spouts = set()\n",
    "        \n",
    "        # find boundaries of current line\n",
    "        lft_wall = self._scan(location, LEFT, WALL)\n",
    "        rgt_wall = self._scan(location, RIGHT, WALL)\n",
    "        \n",
    "        for j in range(lft_wall[1] + 1, rgt_wall[1]):\n",
    "            up_location = location[0] - 1, j\n",
    "            if self.a[up_location] == WATER:\n",
    "                lft_val = self._neighbor_value(nbr_dir=LEFT, location=up_location)\n",
    "                rgt_val = self._neighbor_value(nbr_dir=RIGHT, location=up_location)\n",
    "                if (lft_val != WATER) and (rgt_val != WATER):\n",
    "                    spouts.add(up_location)\n",
    "        return spouts\n",
    "        \n",
    "    def show(self):\n",
    "        fig, ax = plt.subplots(figsize=self.figsize)\n",
    "        ax.imshow(self.a, cmap='Blues', aspect='auto')\n",
    "        ij_pts = list(self.falling_points) + [\n",
    "            spread_point['location']\n",
    "            for root, spreaddict in self.spreading_points.items()\n",
    "            for direction, spread_point in spreaddict.items()\n",
    "            if not spread_point['finished']\n",
    "        ]\n",
    "        for (i, j) in ij_pts:\n",
    "            ax.plot([j], [i], linestyle='none', marker='.', color='red', markersize=20)\n",
    "            \n",
    "        return ax\n",
    "    \n",
    "    @property\n",
    "    def painted_spots(self):\n",
    "        return (self.a == WATER).sum()"
   ]
  },
  {
   "cell_type": "code",
   "execution_count": 66,
   "metadata": {},
   "outputs": [
    {
     "data": {
      "text/plain": [
       "<matplotlib.axes._subplots.AxesSubplot object at 0x7f93584330b8>"
      ]
     },
     "execution_count": 66,
     "metadata": {},
     "output_type": "execute_result"
    },
    {
     "data": {
      "image/png": "[encoded data removed]",
      "text/plain": [
       "<Figure size 720x720 with 1 Axes>"
      ]
     },
     "metadata": {
      "needs_background": "light"
     },
     "output_type": "display_data"
    }
   ],
   "source": [
    "a, xmin, xmax, ymin, ymax = inp_str_to_map(test_data)\n",
    "spigot_location = (0, 500 - xmin)\n",
    "\n",
    "p = Painter(a=a, location=spigot_location)\n",
    "p.show()"
   ]
  },
  {
   "cell_type": "code",
   "execution_count": 67,
   "metadata": {},
   "outputs": [],
   "source": [
    "# p.step()\n",
    "# p.show()\n",
    "# print(p.edge_hits)\n",
    "# assert not p.done"
   ]
  },
  {
   "cell_type": "code",
   "execution_count": 68,
   "metadata": {},
   "outputs": [
    {
     "data": {
      "text/plain": [
       "<matplotlib.axes._subplots.AxesSubplot object at 0x7f935855ed30>"
      ]
     },
     "execution_count": 68,
     "metadata": {},
     "output_type": "execute_result"
    },
    {
     "data": {
      "image/png": "[encoded data removed]",
      "text/plain": [
       "<Figure size 720x720 with 1 Axes>"
      ]
     },
     "metadata": {
      "needs_background": "light"
     },
     "output_type": "display_data"
    }
   ],
   "source": [
    "while not p.done:\n",
    "    p.step()\n",
    "\n",
    "p.show()"
   ]
  },
  {
   "cell_type": "code",
   "execution_count": 69,
   "metadata": {},
   "outputs": [
    {
     "data": {
      "text/plain": [
       "57"
      ]
     },
     "execution_count": 69,
     "metadata": {},
     "output_type": "execute_result"
    }
   ],
   "source": [
    "p.painted_spots"
   ]
  },
  {
   "cell_type": "code",
   "execution_count": 70,
   "metadata": {},
   "outputs": [],
   "source": [
    "def q_1(data):\n",
    "    a, xmin, xmax, ymin, ymax = inp_str_to_map(data)\n",
    "    spigot_location = (0, 500 - xmin)\n",
    "\n",
    "    p = Painter(a=a, location=spigot_location)\n",
    "    \n",
    "    while not p.done:\n",
    "        p.step()\n",
    "    \n",
    "    p.show()\n",
    "    \n",
    "    return p.painted_spots"
   ]
  },
  {
   "cell_type": "markdown",
   "metadata": {},
   "source": [
    "#### tests"
   ]
  },
  {
   "cell_type": "code",
   "execution_count": 71,
   "metadata": {},
   "outputs": [],
   "source": [
    "def test_q_1():\n",
    "    LOGGER.setLevel(logging.DEBUG)\n",
    "    assert q_1(test_data) == 57\n",
    "    LOGGER.setLevel(logging.INFO)"
   ]
  },
  {
   "cell_type": "code",
   "execution_count": 72,
   "metadata": {},
   "outputs": [
    {
     "name": "stdout",
     "output_type": "stream",
     "text": [
      "2018-12-31 18:40:55,044 DEBUG    [day17.paint:15] painting location (0, 6)\n",
      "2018-12-31 18:40:55,046 DEBUG    [day17.step:28] falling point: (0, 6)\n",
      "2018-12-31 18:40:55,048 DEBUG    [day17.paint:15] painting location (1, 6)\n",
      "2018-12-31 18:40:55,051 DEBUG    [day17.step:28] falling point: (1, 6)\n",
      "2018-12-31 18:40:55,052 DEBUG    [day17.paint:15] painting location (2, 6)\n",
      "2018-12-31 18:40:55,055 DEBUG    [day17.step:28] falling point: (2, 6)\n",
      "2018-12-31 18:40:55,056 DEBUG    [day17.paint:15] painting location (3, 6)\n",
      "2018-12-31 18:40:55,059 DEBUG    [day17.step:28] falling point: (3, 6)\n",
      "2018-12-31 18:40:55,061 DEBUG    [day17.paint:15] painting location (4, 6)\n",
      "2018-12-31 18:40:55,063 DEBUG    [day17.step:28] falling point: (4, 6)\n",
      "2018-12-31 18:40:55,065 DEBUG    [day17.paint:15] painting location (5, 6)\n",
      "2018-12-31 18:40:55,067 DEBUG    [day17.step:28] falling point: (5, 6)\n",
      "2018-12-31 18:40:55,069 DEBUG    [day17.step:43] next step is not open\n",
      "2018-12-31 18:40:55,071 DEBUG    [day17.step:77] leftward spreading point (5, 6)\n",
      "2018-12-31 18:40:55,073 DEBUG    [day17.paint:15] painting location (5, 5)\n",
      "2018-12-31 18:40:55,075 DEBUG    [day17.step:77] rightward spreading point (5, 6)\n",
      "2018-12-31 18:40:55,077 DEBUG    [day17.step:105] non-empty boundary found\n",
      "2018-12-31 18:40:55,079 DEBUG    [day17.step:108] rightward spread of (5, 6) is finished\n",
      "2018-12-31 18:40:55,081 DEBUG    [day17.step:77] leftward spreading point (5, 5)\n",
      "2018-12-31 18:40:55,083 DEBUG    [day17.paint:15] painting location (5, 4)\n",
      "2018-12-31 18:40:55,085 DEBUG    [day17.step:77] leftward spreading point (5, 4)\n",
      "2018-12-31 18:40:55,089 DEBUG    [day17.paint:15] painting location (5, 3)\n",
      "2018-12-31 18:40:55,090 DEBUG    [day17.step:77] leftward spreading point (5, 3)\n",
      "2018-12-31 18:40:55,093 DEBUG    [day17.paint:15] painting location (5, 2)\n",
      "2018-12-31 18:40:55,095 DEBUG    [day17.step:77] leftward spreading point (5, 2)\n",
      "2018-12-31 18:40:55,097 DEBUG    [day17.step:105] non-empty boundary found\n",
      "2018-12-31 18:40:55,098 DEBUG    [day17.step:108] leftward spread of (5, 6) is finished\n",
      "2018-12-31 18:40:55,100 DEBUG    [day17.scan_for_spouts:197] scanning for spouts\n",
      "2018-12-31 18:40:55,102 DEBUG    [day17.step:127] adding up point (4, 6)\n",
      "2018-12-31 18:40:55,103 DEBUG    [day17.step:77] leftward spreading point (4, 6)\n",
      "2018-12-31 18:40:55,105 DEBUG    [day17.paint:15] painting location (4, 5)\n",
      "2018-12-31 18:40:55,108 DEBUG    [day17.step:77] rightward spreading point (4, 6)\n",
      "2018-12-31 18:40:55,110 DEBUG    [day17.step:105] non-empty boundary found\n",
      "2018-12-31 18:40:55,113 DEBUG    [day17.step:108] rightward spread of (4, 6) is finished\n",
      "2018-12-31 18:40:55,115 DEBUG    [day17.step:77] leftward spreading point (4, 5)\n",
      "2018-12-31 18:40:55,117 DEBUG    [day17.paint:15] painting location (4, 4)\n",
      "2018-12-31 18:40:55,119 DEBUG    [day17.step:77] leftward spreading point (4, 4)\n",
      "2018-12-31 18:40:55,121 DEBUG    [day17.paint:15] painting location (4, 3)\n",
      "2018-12-31 18:40:55,124 DEBUG    [day17.step:77] leftward spreading point (4, 3)\n",
      "2018-12-31 18:40:55,126 DEBUG    [day17.paint:15] painting location (4, 2)\n",
      "2018-12-31 18:40:55,128 DEBUG    [day17.step:77] leftward spreading point (4, 2)\n",
      "2018-12-31 18:40:55,130 DEBUG    [day17.step:105] non-empty boundary found\n",
      "2018-12-31 18:40:55,132 DEBUG    [day17.step:108] leftward spread of (4, 6) is finished\n",
      "2018-12-31 18:40:55,134 DEBUG    [day17.scan_for_spouts:197] scanning for spouts\n",
      "2018-12-31 18:40:55,136 DEBUG    [day17.step:127] adding up point (3, 6)\n",
      "2018-12-31 18:40:55,139 DEBUG    [day17.step:77] leftward spreading point (3, 6)\n",
      "2018-12-31 18:40:55,141 DEBUG    [day17.paint:15] painting location (3, 5)\n",
      "2018-12-31 18:40:55,143 DEBUG    [day17.step:77] rightward spreading point (3, 6)\n",
      "2018-12-31 18:40:55,144 DEBUG    [day17.step:105] non-empty boundary found\n",
      "2018-12-31 18:40:55,146 DEBUG    [day17.step:108] rightward spread of (3, 6) is finished\n",
      "2018-12-31 18:40:55,148 DEBUG    [day17.step:77] leftward spreading point (3, 5)\n",
      "2018-12-31 18:40:55,149 DEBUG    [day17.step:105] non-empty boundary found\n",
      "2018-12-31 18:40:55,150 DEBUG    [day17.step:108] leftward spread of (3, 6) is finished\n",
      "2018-12-31 18:40:55,152 DEBUG    [day17.scan_for_spouts:197] scanning for spouts\n",
      "2018-12-31 18:40:55,153 DEBUG    [day17.step:127] adding up point (2, 6)\n",
      "2018-12-31 18:40:55,155 DEBUG    [day17.step:77] leftward spreading point (2, 6)\n",
      "2018-12-31 18:40:55,156 DEBUG    [day17.paint:15] painting location (2, 5)\n",
      "2018-12-31 18:40:55,158 DEBUG    [day17.step:77] rightward spreading point (2, 6)\n",
      "2018-12-31 18:40:55,160 DEBUG    [day17.step:105] non-empty boundary found\n",
      "2018-12-31 18:40:55,164 DEBUG    [day17.step:108] rightward spread of (2, 6) is finished\n",
      "2018-12-31 18:40:55,165 DEBUG    [day17.step:77] leftward spreading point (2, 5)\n",
      "2018-12-31 18:40:55,168 DEBUG    [day17.step:105] non-empty boundary found\n",
      "2018-12-31 18:40:55,169 DEBUG    [day17.step:108] leftward spread of (2, 6) is finished\n",
      "2018-12-31 18:40:55,171 DEBUG    [day17.scan_for_spouts:197] scanning for spouts\n",
      "2018-12-31 18:40:55,172 DEBUG    [day17.step:127] adding up point (1, 6)\n",
      "2018-12-31 18:40:55,174 DEBUG    [day17.step:77] leftward spreading point (1, 6)\n",
      "2018-12-31 18:40:55,176 DEBUG    [day17.paint:15] painting location (1, 5)\n",
      "2018-12-31 18:40:55,177 DEBUG    [day17.step:77] rightward spreading point (1, 6)\n",
      "2018-12-31 18:40:55,179 DEBUG    [day17.paint:15] painting location (1, 7)\n",
      "2018-12-31 18:40:55,181 DEBUG    [day17.step:77] leftward spreading point (1, 5)\n",
      "2018-12-31 18:40:55,183 DEBUG    [day17.step:105] non-empty boundary found\n",
      "2018-12-31 18:40:55,184 DEBUG    [day17.step:108] leftward spread of (1, 6) is finished\n",
      "2018-12-31 18:40:55,186 DEBUG    [day17.step:77] rightward spreading point (1, 7)\n",
      "2018-12-31 18:40:55,187 DEBUG    [day17.paint:15] painting location (1, 8)\n",
      "2018-12-31 18:40:55,188 DEBUG    [day17.step:77] rightward spreading point (1, 8)\n",
      "2018-12-31 18:40:55,190 DEBUG    [day17.step:82] falling edge found\n",
      "2018-12-31 18:40:55,191 DEBUG    [day17.step:85] rightward spread of (1, 6) is finished\n",
      "2018-12-31 18:40:55,192 DEBUG    [day17.step:28] falling point: (1, 8)\n",
      "2018-12-31 18:40:55,193 DEBUG    [day17.paint:15] painting location (2, 8)\n",
      "2018-12-31 18:40:55,195 DEBUG    [day17.step:28] falling point: (2, 8)\n",
      "2018-12-31 18:40:55,196 DEBUG    [day17.paint:15] painting location (3, 8)\n",
      "2018-12-31 18:40:55,197 DEBUG    [day17.step:28] falling point: (3, 8)\n",
      "2018-12-31 18:40:55,199 DEBUG    [day17.paint:15] painting location (4, 8)\n",
      "2018-12-31 18:40:55,200 DEBUG    [day17.step:28] falling point: (4, 8)\n",
      "2018-12-31 18:40:55,202 DEBUG    [day17.paint:15] painting location (5, 8)\n",
      "2018-12-31 18:40:55,203 DEBUG    [day17.step:28] falling point: (5, 8)\n",
      "2018-12-31 18:40:55,204 DEBUG    [day17.paint:15] painting location (6, 8)\n",
      "2018-12-31 18:40:55,206 DEBUG    [day17.step:28] falling point: (6, 8)\n",
      "2018-12-31 18:40:55,207 DEBUG    [day17.paint:15] painting location (7, 8)\n",
      "2018-12-31 18:40:55,209 DEBUG    [day17.step:28] falling point: (7, 8)\n",
      "2018-12-31 18:40:55,210 DEBUG    [day17.paint:15] painting location (8, 8)\n",
      "2018-12-31 18:40:55,211 DEBUG    [day17.step:28] falling point: (8, 8)\n",
      "2018-12-31 18:40:55,212 DEBUG    [day17.paint:15] painting location (9, 8)\n",
      "2018-12-31 18:40:55,214 DEBUG    [day17.step:28] falling point: (9, 8)\n",
      "2018-12-31 18:40:55,215 DEBUG    [day17.paint:15] painting location (10, 8)\n",
      "2018-12-31 18:40:55,216 DEBUG    [day17.step:28] falling point: (10, 8)\n",
      "2018-12-31 18:40:55,218 DEBUG    [day17.paint:15] painting location (11, 8)\n",
      "2018-12-31 18:40:55,219 DEBUG    [day17.step:28] falling point: (11, 8)\n",
      "2018-12-31 18:40:55,220 DEBUG    [day17.step:43] next step is not open\n",
      "2018-12-31 18:40:55,221 DEBUG    [day17.step:77] leftward spreading point (11, 8)\n",
      "2018-12-31 18:40:55,223 DEBUG    [day17.paint:15] painting location (11, 7)\n",
      "2018-12-31 18:40:55,224 DEBUG    [day17.step:77] rightward spreading point (11, 8)\n",
      "2018-12-31 18:40:55,226 DEBUG    [day17.paint:15] painting location (11, 9)\n",
      "2018-12-31 18:40:55,227 DEBUG    [day17.step:77] leftward spreading point (11, 7)\n",
      "2018-12-31 18:40:55,229 DEBUG    [day17.paint:15] painting location (11, 6)\n",
      "2018-12-31 18:40:55,230 DEBUG    [day17.step:77] rightward spreading point (11, 9)\n",
      "2018-12-31 18:40:55,231 DEBUG    [day17.step:105] non-empty boundary found\n",
      "2018-12-31 18:40:55,233 DEBUG    [day17.step:108] rightward spread of (11, 8) is finished\n",
      "2018-12-31 18:40:55,234 DEBUG    [day17.step:77] leftward spreading point (11, 6)\n",
      "2018-12-31 18:40:55,235 DEBUG    [day17.paint:15] painting location (11, 5)\n",
      "2018-12-31 18:40:55,236 DEBUG    [day17.step:77] leftward spreading point (11, 5)\n",
      "2018-12-31 18:40:55,238 DEBUG    [day17.step:105] non-empty boundary found\n",
      "2018-12-31 18:40:55,239 DEBUG    [day17.step:108] leftward spread of (11, 8) is finished\n",
      "2018-12-31 18:40:55,240 DEBUG    [day17.scan_for_spouts:197] scanning for spouts\n",
      "2018-12-31 18:40:55,241 DEBUG    [day17.step:127] adding up point (10, 8)\n",
      "2018-12-31 18:40:55,242 DEBUG    [day17.step:77] leftward spreading point (10, 8)\n",
      "2018-12-31 18:40:55,244 DEBUG    [day17.paint:15] painting location (10, 7)\n",
      "2018-12-31 18:40:55,245 DEBUG    [day17.step:77] rightward spreading point (10, 8)\n",
      "2018-12-31 18:40:55,246 DEBUG    [day17.paint:15] painting location (10, 9)\n",
      "2018-12-31 18:40:55,247 DEBUG    [day17.step:77] leftward spreading point (10, 7)\n",
      "2018-12-31 18:40:55,249 DEBUG    [day17.paint:15] painting location (10, 6)\n",
      "2018-12-31 18:40:55,250 DEBUG    [day17.step:77] rightward spreading point (10, 9)\n",
      "2018-12-31 18:40:55,251 DEBUG    [day17.step:105] non-empty boundary found\n",
      "2018-12-31 18:40:55,252 DEBUG    [day17.step:108] rightward spread of (10, 8) is finished\n",
      "2018-12-31 18:40:55,254 DEBUG    [day17.step:77] leftward spreading point (10, 6)\n",
      "2018-12-31 18:40:55,255 DEBUG    [day17.paint:15] painting location (10, 5)\n",
      "2018-12-31 18:40:55,257 DEBUG    [day17.step:77] leftward spreading point (10, 5)\n",
      "2018-12-31 18:40:55,258 DEBUG    [day17.step:105] non-empty boundary found\n",
      "2018-12-31 18:40:55,259 DEBUG    [day17.step:108] leftward spread of (10, 8) is finished\n",
      "2018-12-31 18:40:55,261 DEBUG    [day17.scan_for_spouts:197] scanning for spouts\n",
      "2018-12-31 18:40:55,263 DEBUG    [day17.step:127] adding up point (9, 8)\n",
      "2018-12-31 18:40:55,264 DEBUG    [day17.step:77] leftward spreading point (9, 8)\n",
      "2018-12-31 18:40:55,265 DEBUG    [day17.paint:15] painting location (9, 7)\n",
      "2018-12-31 18:40:55,266 DEBUG    [day17.step:77] rightward spreading point (9, 8)\n",
      "2018-12-31 18:40:55,268 DEBUG    [day17.paint:15] painting location (9, 9)\n",
      "2018-12-31 18:40:55,269 DEBUG    [day17.step:77] leftward spreading point (9, 7)\n",
      "2018-12-31 18:40:55,270 DEBUG    [day17.paint:15] painting location (9, 6)\n",
      "2018-12-31 18:40:55,271 DEBUG    [day17.step:77] rightward spreading point (9, 9)\n",
      "2018-12-31 18:40:55,272 DEBUG    [day17.step:105] non-empty boundary found\n",
      "2018-12-31 18:40:55,273 DEBUG    [day17.step:108] rightward spread of (9, 8) is finished\n",
      "2018-12-31 18:40:55,274 DEBUG    [day17.step:77] leftward spreading point (9, 6)\n",
      "2018-12-31 18:40:55,276 DEBUG    [day17.paint:15] painting location (9, 5)\n",
      "2018-12-31 18:40:55,277 DEBUG    [day17.step:77] leftward spreading point (9, 5)\n",
      "2018-12-31 18:40:55,278 DEBUG    [day17.step:105] non-empty boundary found\n",
      "2018-12-31 18:40:55,279 DEBUG    [day17.step:108] leftward spread of (9, 8) is finished\n",
      "2018-12-31 18:40:55,280 DEBUG    [day17.scan_for_spouts:197] scanning for spouts\n",
      "2018-12-31 18:40:55,281 DEBUG    [day17.step:127] adding up point (8, 8)\n",
      "2018-12-31 18:40:55,283 DEBUG    [day17.step:77] leftward spreading point (8, 8)\n",
      "2018-12-31 18:40:55,284 DEBUG    [day17.paint:15] painting location (8, 7)\n",
      "2018-12-31 18:40:55,285 DEBUG    [day17.step:77] rightward spreading point (8, 8)\n",
      "2018-12-31 18:40:55,286 DEBUG    [day17.paint:15] painting location (8, 9)\n",
      "2018-12-31 18:40:55,287 DEBUG    [day17.step:77] leftward spreading point (8, 7)\n",
      "2018-12-31 18:40:55,288 DEBUG    [day17.paint:15] painting location (8, 6)\n",
      "2018-12-31 18:40:55,289 DEBUG    [day17.step:77] rightward spreading point (8, 9)\n",
      "2018-12-31 18:40:55,290 DEBUG    [day17.paint:15] painting location (8, 10)\n",
      "2018-12-31 18:40:55,292 DEBUG    [day17.step:77] leftward spreading point (8, 6)\n",
      "2018-12-31 18:40:55,294 DEBUG    [day17.paint:15] painting location (8, 5)\n",
      "2018-12-31 18:40:55,295 DEBUG    [day17.step:77] rightward spreading point (8, 10)\n",
      "2018-12-31 18:40:55,296 DEBUG    [day17.paint:15] painting location (8, 11)\n",
      "2018-12-31 18:40:55,297 DEBUG    [day17.step:77] leftward spreading point (8, 5)\n",
      "2018-12-31 18:40:55,299 DEBUG    [day17.paint:15] painting location (8, 4)\n",
      "2018-12-31 18:40:55,301 DEBUG    [day17.step:77] rightward spreading point (8, 11)\n",
      "2018-12-31 18:40:55,302 DEBUG    [day17.step:82] falling edge found\n",
      "2018-12-31 18:40:55,303 DEBUG    [day17.step:85] rightward spread of (8, 8) is finished\n",
      "2018-12-31 18:40:55,304 DEBUG    [day17.step:28] falling point: (8, 11)\n",
      "2018-12-31 18:40:55,306 DEBUG    [day17.paint:15] painting location (9, 11)\n",
      "2018-12-31 18:40:55,307 DEBUG    [day17.step:77] leftward spreading point (8, 4)\n",
      "2018-12-31 18:40:55,308 DEBUG    [day17.paint:15] painting location (8, 3)\n",
      "2018-12-31 18:40:55,310 DEBUG    [day17.step:28] falling point: (9, 11)\n",
      "2018-12-31 18:40:55,311 DEBUG    [day17.paint:15] painting location (10, 11)\n",
      "2018-12-31 18:40:55,312 DEBUG    [day17.step:77] leftward spreading point (8, 3)\n",
      "2018-12-31 18:40:55,314 DEBUG    [day17.step:82] falling edge found\n",
      "2018-12-31 18:40:55,315 DEBUG    [day17.step:85] leftward spread of (8, 8) is finished\n",
      "2018-12-31 18:40:55,317 DEBUG    [day17.step:28] falling point: (8, 3)\n",
      "2018-12-31 18:40:55,318 DEBUG    [day17.paint:15] painting location (9, 3)\n",
      "2018-12-31 18:40:55,319 DEBUG    [day17.step:28] falling point: (10, 11)\n",
      "2018-12-31 18:40:55,320 DEBUG    [day17.paint:15] painting location (11, 11)\n",
      "2018-12-31 18:40:55,322 DEBUG    [day17.step:28] falling point: (9, 3)\n",
      "2018-12-31 18:40:55,324 DEBUG    [day17.paint:15] painting location (10, 3)\n",
      "2018-12-31 18:40:55,325 DEBUG    [day17.step:28] falling point: (11, 11)\n",
      "2018-12-31 18:40:55,326 DEBUG    [day17.paint:15] painting location (12, 11)\n",
      "2018-12-31 18:40:55,328 DEBUG    [day17.step:28] falling point: (10, 3)\n",
      "2018-12-31 18:40:55,329 DEBUG    [day17.paint:15] painting location (11, 3)\n",
      "2018-12-31 18:40:55,330 DEBUG    [day17.step:28] falling point: (12, 11)\n",
      "2018-12-31 18:40:55,331 DEBUG    [day17.step:37] falling point reached the bottom of the screen\n",
      "2018-12-31 18:40:55,332 DEBUG    [day17.step:28] falling point: (11, 3)\n",
      "2018-12-31 18:40:55,333 DEBUG    [day17.paint:15] painting location (12, 3)\n",
      "2018-12-31 18:40:55,335 DEBUG    [day17.step:28] falling point: (12, 3)\n",
      "2018-12-31 18:40:55,335 DEBUG    [day17.step:37] falling point reached the bottom of the screen\n"
     ]
    },
    {
     "data": {
      "image/png": "[encoded data removed]",
      "text/plain": [
       "<Figure size 720x720 with 1 Axes>"
      ]
     },
     "metadata": {
      "needs_background": "light"
     },
     "output_type": "display_data"
    }
   ],
   "source": [
    "test_q_1()"
   ]
  },
  {
   "cell_type": "markdown",
   "metadata": {},
   "source": [
    "#### answer"
   ]
  },
  {
   "cell_type": "code",
   "execution_count": 80,
   "metadata": {},
   "outputs": [
    {
     "data": {
      "image/png": "[encoded data removed]",
      "text/plain": [
       "<Figure size 1080x14400 with 1 Axes>"
      ]
     },
     "metadata": {
      "needs_background": "light"
     },
     "output_type": "display_data"
    }
   ],
   "source": [
    "a, xmin, xmax, ymin, ymax = inp_str_to_map(load_data())\n",
    "spigot_location = (0, 500 - xmin)\n",
    "\n",
    "p = Painter(a=a, location=spigot_location, figsize=(15, 200))\n",
    "# p.show();\n",
    "\n",
    "# ---------\n",
    "\n",
    "# i = 0\n",
    "# while not p.done:\n",
    "#     p.step()\n",
    "#     i += 1\n",
    "# p.show()\n",
    "\n",
    "# ---------\n",
    "\n",
    "for i in range(289):\n",
    "    p.step()\n",
    "p.show();"
   ]
  },
  {
   "cell_type": "code",
   "execution_count": null,
   "metadata": {},
   "outputs": [],
   "source": []
  },
  {
   "cell_type": "code",
   "execution_count": 64,
   "metadata": {},
   "outputs": [
    {
     "name": "stdout",
     "output_type": "stream",
     "text": [
      "{(30, 82): {'LEFT': {'fall': False,\n",
      "                     'finished': False,\n",
      "                     'location': (30, 80),\n",
      "                     'wall': False},\n",
      "            'RIGHT': {'fall': False,\n",
      "                      'finished': True,\n",
      "                      'location': (30, 82),\n",
      "                      'wall': True}},\n",
      " (30, 86): {'LEFT': {'fall': False,\n",
      "                     'finished': True,\n",
      "                     'location': (30, 86),\n",
      "                     'wall': True},\n",
      "            'RIGHT': {'fall': False,\n",
      "                      'finished': False,\n",
      "                      'location': (30, 88),\n",
      "                      'wall': False}},\n",
      " (31, 86): {'LEFT': {'fall': False,\n",
      "                     'finished': False,\n",
      "                     'location': (31, 72),\n",
      "                     'wall': False},\n",
      "            'RIGHT': {'fall': False,\n",
      "                      'finished': True,\n",
      "                      'location': (31, 93),\n",
      "                      'wall': True}}}\n"
     ]
    }
   ],
   "source": [
    "from pprint import pprint\n",
    "pprint(p.spreading_points)"
   ]
  },
  {
   "cell_type": "code",
   "execution_count": null,
   "metadata": {},
   "outputs": [],
   "source": [
    "pprint(p.falling_points)"
   ]
  },
  {
   "cell_type": "code",
   "execution_count": null,
   "metadata": {},
   "outputs": [],
   "source": [
    "p.step??"
   ]
  },
  {
   "cell_type": "code",
   "execution_count": null,
   "metadata": {},
   "outputs": [],
   "source": [
    "root = (32, 86)"
   ]
  },
  {
   "cell_type": "code",
   "execution_count": null,
   "metadata": {},
   "outputs": [],
   "source": [
    "spc = deepcopy(p.spreading_points)\n",
    "spreaddict = spc[root]"
   ]
  },
  {
   "cell_type": "code",
   "execution_count": null,
   "metadata": {},
   "outputs": [],
   "source": [
    "direction = LEFT\n",
    "spreaddict[direction]['finished']"
   ]
  },
  {
   "cell_type": "code",
   "execution_count": null,
   "metadata": {},
   "outputs": [],
   "source": [
    "current_location = spreaddict[direction]['location']\n",
    "current_location"
   ]
  },
  {
   "cell_type": "code",
   "execution_count": null,
   "metadata": {},
   "outputs": [],
   "source": [
    "p._neighbor_empty(nbr_dir=DOWN, location=current_location)"
   ]
  },
  {
   "cell_type": "code",
   "execution_count": null,
   "metadata": {},
   "outputs": [],
   "source": [
    "next_location = p._get_next_ij(location=current_location, direction=direction)\n",
    "next_location"
   ]
  },
  {
   "cell_type": "code",
   "execution_count": null,
   "metadata": {},
   "outputs": [],
   "source": [
    "p.a[next_location] == EMPTY"
   ]
  },
  {
   "cell_type": "code",
   "execution_count": null,
   "metadata": {},
   "outputs": [],
   "source": [
    "p.a[next_location] == WATER"
   ]
  },
  {
   "cell_type": "code",
   "execution_count": null,
   "metadata": {},
   "outputs": [],
   "source": [
    "p.a[next_location] == WALL"
   ]
  },
  {
   "cell_type": "code",
   "execution_count": null,
   "metadata": {},
   "outputs": [],
   "source": [
    "for k in ['wall', 'finished']:\n",
    "    p.spreading_points[root][direction][k] = True"
   ]
  },
  {
   "cell_type": "code",
   "execution_count": null,
   "metadata": {},
   "outputs": [],
   "source": [
    "d = p.spreading_points[root]\n",
    "d"
   ]
  },
  {
   "cell_type": "code",
   "execution_count": null,
   "metadata": {},
   "outputs": [],
   "source": [
    "dl = d[LEFT]\n",
    "dr = d[RIGHT]\n",
    "dl['finished'] and dr['finished']"
   ]
  },
  {
   "cell_type": "code",
   "execution_count": null,
   "metadata": {},
   "outputs": [],
   "source": [
    "dl['wall'] and dr['wall']"
   ]
  },
  {
   "cell_type": "code",
   "execution_count": null,
   "metadata": {},
   "outputs": [],
   "source": [
    "up_points = list(p.scan_for_spouts(location=root))\n",
    "up_points"
   ]
  },
  {
   "cell_type": "code",
   "execution_count": null,
   "metadata": {},
   "outputs": [],
   "source": [
    "p.spreading_points"
   ]
  },
  {
   "cell_type": "code",
   "execution_count": null,
   "metadata": {},
   "outputs": [],
   "source": []
  },
  {
   "cell_type": "code",
   "execution_count": null,
   "metadata": {
    "scrolled": true
   },
   "outputs": [],
   "source": [
    "p.step()\n",
    "p.show();"
   ]
  },
  {
   "cell_type": "code",
   "execution_count": null,
   "metadata": {},
   "outputs": [],
   "source": []
  },
  {
   "cell_type": "code",
   "execution_count": null,
   "metadata": {},
   "outputs": [],
   "source": []
  },
  {
   "cell_type": "code",
   "execution_count": null,
   "metadata": {},
   "outputs": [],
   "source": []
  },
  {
   "cell_type": "code",
   "execution_count": null,
   "metadata": {},
   "outputs": [],
   "source": [
    "i = 0\n",
    "while not p.done:\n",
    "    i += 1\n",
    "    p.step()"
   ]
  },
  {
   "cell_type": "code",
   "execution_count": null,
   "metadata": {},
   "outputs": [],
   "source": [
    "p.show();"
   ]
  },
  {
   "cell_type": "code",
   "execution_count": null,
   "metadata": {},
   "outputs": [],
   "source": [
    "i"
   ]
  },
  {
   "cell_type": "code",
   "execution_count": null,
   "metadata": {},
   "outputs": [],
   "source": []
  },
  {
   "cell_type": "code",
   "execution_count": null,
   "metadata": {},
   "outputs": [],
   "source": []
  },
  {
   "cell_type": "code",
   "execution_count": null,
   "metadata": {},
   "outputs": [],
   "source": []
  },
  {
   "cell_type": "code",
   "execution_count": null,
   "metadata": {},
   "outputs": [],
   "source": [
    "q_1(load_data())"
   ]
  },
  {
   "cell_type": "markdown",
   "metadata": {},
   "source": [
    "## part 2\n",
    "\n",
    "### problem statement:"
   ]
  },
  {
   "cell_type": "markdown",
   "metadata": {},
   "source": [
    "#### function def"
   ]
  },
  {
   "cell_type": "code",
   "execution_count": null,
   "metadata": {},
   "outputs": [],
   "source": [
    "def q_2(data):\n",
    "    return False"
   ]
  },
  {
   "cell_type": "markdown",
   "metadata": {},
   "source": [
    "#### tests"
   ]
  },
  {
   "cell_type": "code",
   "execution_count": null,
   "metadata": {},
   "outputs": [],
   "source": [
    "def test_q_2():\n",
    "    LOGGER.setLevel(logging.DEBUG)\n",
    "    assert q_2(test_data) == True\n",
    "    LOGGER.setLevel(logging.INFO)"
   ]
  },
  {
   "cell_type": "code",
   "execution_count": null,
   "metadata": {
    "scrolled": true
   },
   "outputs": [],
   "source": [
    "test_q_2()"
   ]
  },
  {
   "cell_type": "markdown",
   "metadata": {},
   "source": [
    "#### answer"
   ]
  },
  {
   "cell_type": "code",
   "execution_count": null,
   "metadata": {
    "scrolled": true
   },
   "outputs": [],
   "source": [
    "q_2(load_data())"
   ]
  },
  {
   "cell_type": "markdown",
   "metadata": {},
   "source": [
    "fin"
   ]
  },
  {
   "cell_type": "code",
   "execution_count": 81,
   "metadata": {},
   "outputs": [
    {
     "name": "stdout",
     "output_type": "stream",
     "text": [
      "part 1: 31883\n",
      "part 2: 24927\n"
     ]
    }
   ],
   "source": [
    "import collections\n",
    "\n",
    "clay = collections.defaultdict(bool)\n",
    "\n",
    "for line in open('data/day17.txt').read().splitlines():\n",
    "    a, brange = line.split(',')\n",
    "    if a[0] == 'x':\n",
    "        x = int(a.split('=')[1])\n",
    "        y1, y2 = map(int, brange.split('=')[1].split('..'))\n",
    "\n",
    "        for y in range(y1, y2 + 1):\n",
    "            clay[(x, y)] = True\n",
    "    else:\n",
    "        y = int(a.split('=')[1])\n",
    "        x1, x2 = map(int, brange.split('=')[1].split('..'))\n",
    "\n",
    "        for x in range(x1, x2 + 1):\n",
    "            clay[(x, y)] = True\n",
    "\n",
    "ymin, ymax = min(clay, key=lambda p: p[1])[1], max(clay, key=lambda p: p[1])[1]\n",
    "\n",
    "settled = set()\n",
    "flowing = set()\n",
    "\n",
    "def fill(pt, direction=(0, 1)):\n",
    "    flowing.add(pt)\n",
    "\n",
    "    below = (pt[0], pt[1] + 1)\n",
    "\n",
    "    if not clay[below] and below not in flowing and 1 <= below[1] <= ymax:\n",
    "        fill(below)\n",
    "\n",
    "    if not clay[below] and below not in settled:\n",
    "        return False\n",
    "\n",
    "    left = (pt[0] - 1, pt[1])\n",
    "    right = (pt[0] + 1, pt[1])\n",
    "\n",
    "    left_filled = clay[left] or left not in flowing and fill(left, direction=(-1, 0))\n",
    "    right_filled = clay[right] or right not in flowing and fill(right, direction=(1, 0))\n",
    "\n",
    "    if direction == (0, 1) and left_filled and right_filled:\n",
    "        settled.add(pt)\n",
    "\n",
    "        while left in flowing:\n",
    "            settled.add(left)\n",
    "            left = (left[0] - 1, left[1])\n",
    "\n",
    "        while right in flowing:\n",
    "            settled.add(right)\n",
    "            right = (right[0] + 1, right[1])\n",
    "\n",
    "    return direction == (-1, 0) and (left_filled or clay[left]) or \\\n",
    "        direction == (1, 0) and (right_filled or clay[right])\n",
    "\n",
    "fill((500, 0))\n",
    "\n",
    "print('part 1:', len([pt for pt in flowing | settled if ymin <= pt[1] <= ymax]))\n",
    "print('part 2:', len([pt for pt in settled if ymin <= pt[1] <= ymax]))"
   ]
  },
  {
   "cell_type": "code",
   "execution_count": null,
   "metadata": {},
   "outputs": [],
   "source": []
  }
 ],
 "metadata": {
  "kernelspec": {
   "display_name": "Python 3",
   "language": "python",
   "name": "python3"
  },
  "language_info": {
   "codemirror_mode": {
    "name": "ipython",
    "version": 3
   },
   "file_extension": ".py",
   "mimetype": "text/x-python",
   "name": "python",
   "nbconvert_exporter": "python",
   "pygments_lexer": "ipython3",
   "version": "3.6.7"
  }
 },
 "nbformat": 4,
 "nbformat_minor": 2
}
