{
 "cells": [
  {
   "cell_type": "markdown",
   "metadata": {},
   "source": [
    "# day 5\n",
    "\n",
    "https://adventofcode.com/2018/day/5"
   ]
  },
  {
   "cell_type": "code",
   "execution_count": null,
   "metadata": {},
   "outputs": [],
   "source": [
    "import os\n",
    "\n",
    "import eri.logging as logging"
   ]
  },
  {
   "cell_type": "code",
   "execution_count": null,
   "metadata": {},
   "outputs": [],
   "source": [
    "FNAME = os.path.join('data', 'day5.txt')\n",
    "\n",
    "LOGGER = logging.getLogger('day5')\n",
    "logging.configure()"
   ]
  },
  {
   "cell_type": "markdown",
   "metadata": {},
   "source": [
    "## part 1\n",
    "\n",
    "### problem statement:\n",
    "\n",
    "> You've managed to sneak in to the prototype suit manufacturing lab. The Elves are making decent progress, but are still struggling with the suit's size reduction capabilities.\n",
    "> \n",
    "> While the very latest in 1518 alchemical technology might have solved their problem eventually, you can do better. You scan the chemical composition of the suit's material and discover that it is formed by extremely long polymers (one of which is available as your puzzle input).\n",
    "> \n",
    "> The polymer is formed by smaller units which, when triggered, react with each other such that two adjacent units of the same type and opposite polarity are destroyed. Units' types are represented by letters; units' polarity is represented by capitalization. For instance, r and R are units with the same type but opposite polarity, whereas r and s are entirely different types and do not react.\n",
    "> \n",
    "> For example:\n",
    "> \n",
    "> + In aA, a and A react, leaving nothing behind.\n",
    "> + In abBA, bB destroys itself, leaving aA. As above, this then destroys itself, leaving nothing.\n",
    "> + In abAB, no two adjacent units are of the same type, and so nothing happens.\n",
    "> + In aabAAB, even though aa and AA are of the same type, their polarities match, and so nothing happens.\n",
    "> \n",
    "> Now, consider a larger example, dabAcCaCBAcCcaDA:\n",
    "> \n",
    ">     dabAcCaCBAcCcaDA  The first 'cC' is removed.\n",
    ">     dabAaCBAcCcaDA    This creates 'Aa', which is removed.\n",
    ">     dabCBAcCcaDA      Either 'cC' or 'Cc' are removed (the result is the same).\n",
    ">     dabCBAcaDA        No further actions can be taken.\n",
    ">     After all possible reactions, the resulting polymer contains 10 units.\n",
    "> \n",
    "> How many units remain after fully reacting the polymer you scanned? (Note: in this puzzle and others, the input is large; if you copy/paste your input, make sure you get the whole thing.)"
   ]
  },
  {
   "cell_type": "markdown",
   "metadata": {},
   "source": [
    "#### loading data"
   ]
  },
  {
   "cell_type": "code",
   "execution_count": null,
   "metadata": {},
   "outputs": [],
   "source": [
    "def load_data(fname=FNAME):\n",
    "    with open(fname, 'r') as f:\n",
    "        return f.read().strip()"
   ]
  },
  {
   "cell_type": "markdown",
   "metadata": {},
   "source": [
    "#### function def"
   ]
  },
  {
   "cell_type": "code",
   "execution_count": null,
   "metadata": {},
   "outputs": [],
   "source": [
    "from string import ascii_lowercase, ascii_uppercase\n",
    "\n",
    "def reduce(polymer):\n",
    "    LOGGER.debug('polymer length: {}'.format(len(polymer)))\n",
    "    for (lower, upper) in zip(ascii_lowercase, ascii_uppercase):\n",
    "        polymer = polymer.replace('{}{}'.format(lower, upper), '')\n",
    "        polymer = polymer.replace('{}{}'.format(upper, lower), '')\n",
    "    return polymer"
   ]
  },
  {
   "cell_type": "code",
   "execution_count": null,
   "metadata": {},
   "outputs": [],
   "source": [
    "def q_1(polymer):\n",
    "    while True:\n",
    "        new_polymer = reduce(polymer)\n",
    "        if new_polymer == polymer:\n",
    "            return len(polymer)\n",
    "        polymer = new_polymer"
   ]
  },
  {
   "cell_type": "markdown",
   "metadata": {},
   "source": [
    "#### tests"
   ]
  },
  {
   "cell_type": "code",
   "execution_count": null,
   "metadata": {},
   "outputs": [],
   "source": [
    "def test_q_1():\n",
    "    LOGGER.setLevel(logging.DEBUG)\n",
    "    assert q_1('dabAcCaCBAcCcaDA') == 10\n",
    "    LOGGER.setLevel(logging.INFO)"
   ]
  },
  {
   "cell_type": "code",
   "execution_count": null,
   "metadata": {},
   "outputs": [],
   "source": [
    "test_q_1()"
   ]
  },
  {
   "cell_type": "markdown",
   "metadata": {},
   "source": [
    "#### answer"
   ]
  },
  {
   "cell_type": "code",
   "execution_count": null,
   "metadata": {},
   "outputs": [],
   "source": [
    "q_1(load_data())"
   ]
  },
  {
   "cell_type": "markdown",
   "metadata": {},
   "source": [
    "## part 2\n",
    "\n",
    "### problem statement:\n",
    "\n",
    "> Time to improve the polymer.\n",
    "> \n",
    "> One of the unit types is causing problems; it's preventing the polymer from collapsing as much as it should. Your goal is to figure out which unit type is causing the most problems, remove all instances of it (regardless of polarity), fully react the remaining polymer, and measure its length.\n",
    "> \n",
    "> For example, again using the polymer dabAcCaCBAcCcaDA from above:\n",
    "> \n",
    "> + Removing all A/a units produces dbcCCBcCcD. Fully reacting this polymer produces dbCBcD, which has length 6.\n",
    "> + Removing all B/b units produces daAcCaCAcCcaDA. Fully reacting this polymer produces daCAcaDA, which has length 8.\n",
    "> + Removing all C/c units produces dabAaBAaDA. Fully reacting this polymer produces daDA, which has length 4.\n",
    "> + Removing all D/d units produces abAcCaCBAcCcaA. Fully reacting this polymer produces abCBAc, which has length 6.\n",
    ">\n",
    "> In this example, removing all C/c units was best, producing the answer 4.\n",
    "> \n",
    "> What is the length of the shortest polymer you can produce by removing all units of exactly one type and fully reacting the result?"
   ]
  },
  {
   "cell_type": "markdown",
   "metadata": {},
   "source": [
    "#### function def"
   ]
  },
  {
   "cell_type": "code",
   "execution_count": null,
   "metadata": {},
   "outputs": [],
   "source": [
    "def q_2(polymer):\n",
    "    min_len = len(polymer)\n",
    "    for ch in ascii_lowercase:\n",
    "        sub_polymer = polymer.replace(ch, '').replace(ch.upper(), '')\n",
    "        min_len = min(min_len, q_1(sub_polymer))\n",
    "    return min_len"
   ]
  },
  {
   "cell_type": "markdown",
   "metadata": {},
   "source": [
    "#### tests"
   ]
  },
  {
   "cell_type": "code",
   "execution_count": null,
   "metadata": {},
   "outputs": [],
   "source": [
    "def test_q_2():\n",
    "    LOGGER.setLevel(logging.DEBUG)\n",
    "    assert q_2('dabAcCaCBAcCcaDA') == 4\n",
    "    LOGGER.setLevel(logging.INFO)"
   ]
  },
  {
   "cell_type": "code",
   "execution_count": null,
   "metadata": {
    "scrolled": true
   },
   "outputs": [],
   "source": [
    "test_q_2()"
   ]
  },
  {
   "cell_type": "markdown",
   "metadata": {},
   "source": [
    "#### answer"
   ]
  },
  {
   "cell_type": "code",
   "execution_count": null,
   "metadata": {},
   "outputs": [],
   "source": [
    "LOGGER.setLevel(logging.INFO)\n",
    "q_2(load_data())"
   ]
  },
  {
   "cell_type": "markdown",
   "metadata": {},
   "source": [
    "fin"
   ]
  }
 ],
 "metadata": {
  "kernelspec": {
   "display_name": "Python 3",
   "language": "python",
   "name": "python3"
  },
  "language_info": {
   "codemirror_mode": {
    "name": "ipython",
    "version": 3
   },
   "file_extension": ".py",
   "mimetype": "text/x-python",
   "name": "python",
   "nbconvert_exporter": "python",
   "pygments_lexer": "ipython3",
   "version": "3.6.7"
  }
 },
 "nbformat": 4,
 "nbformat_minor": 2
}
