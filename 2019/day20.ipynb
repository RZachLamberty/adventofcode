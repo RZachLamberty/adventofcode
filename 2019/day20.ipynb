{
 "cells": [
  {
   "cell_type": "markdown",
   "metadata": {},
   "source": [
    "# day 20\n",
    "\n",
    "https://adventofcode.com/2019/day/20"
   ]
  },
  {
   "cell_type": "code",
   "execution_count": 1,
   "metadata": {},
   "outputs": [],
   "source": [
    "import logging\n",
    "import logging.config\n",
    "import os\n",
    "\n",
    "import yaml"
   ]
  },
  {
   "cell_type": "code",
   "execution_count": 4,
   "metadata": {},
   "outputs": [],
   "source": [
    "with open('../logging.yaml') as fp:\n",
    "    logging_config = yaml.load(fp, Loader=yaml.FullLoader)\n",
    "\n",
    "logging.config.dictConfig(logging_config)"
   ]
  },
  {
   "cell_type": "code",
   "execution_count": 5,
   "metadata": {},
   "outputs": [],
   "source": [
    "FNAME = os.path.join('data', 'day20.txt')\n",
    "\n",
    "LOGGER = logging.getLogger('day20')"
   ]
  },
  {
   "cell_type": "markdown",
   "metadata": {},
   "source": [
    "## part 1\n",
    "\n",
    "### problem statement:"
   ]
  },
  {
   "cell_type": "markdown",
   "metadata": {},
   "source": [
    "#### loading data"
   ]
  },
  {
   "cell_type": "code",
   "execution_count": 7,
   "metadata": {},
   "outputs": [],
   "source": [
    "test_0 = \"\"\"         A           \n",
    "         A           \n",
    "  #######.#########  \n",
    "  #######.........#  \n",
    "  #######.#######.#  \n",
    "  #######.#######.#  \n",
    "  #######.#######.#  \n",
    "  #####  B    ###.#  \n",
    "BC...##  C    ###.#  \n",
    "  ##.##       ###.#  \n",
    "  ##...DE  F  ###.#  \n",
    "  #####    G  ###.#  \n",
    "  #########.#####.#  \n",
    "DE..#######...###.#  \n",
    "  #.#########.###.#  \n",
    "FG..#########.....#  \n",
    "  ###########.#####  \n",
    "             Z       \n",
    "             Z       \"\"\", 23\n",
    "\n",
    "test_1 = \"\"\"                   A               \n",
    "                   A               \n",
    "  #################.#############  \n",
    "  #.#...#...................#.#.#  \n",
    "  #.#.#.###.###.###.#########.#.#  \n",
    "  #.#.#.......#...#.....#.#.#...#  \n",
    "  #.#########.###.#####.#.#.###.#  \n",
    "  #.............#.#.....#.......#  \n",
    "  ###.###########.###.#####.#.#.#  \n",
    "  #.....#        A   C    #.#.#.#  \n",
    "  #######        S   P    #####.#  \n",
    "  #.#...#                 #......VT\n",
    "  #.#.#.#                 #.#####  \n",
    "  #...#.#               YN....#.#  \n",
    "  #.###.#                 #####.#  \n",
    "DI....#.#                 #.....#  \n",
    "  #####.#                 #.###.#  \n",
    "ZZ......#               QG....#..AS\n",
    "  ###.###                 #######  \n",
    "JO..#.#.#                 #.....#  \n",
    "  #.#.#.#                 ###.#.#  \n",
    "  #...#..DI             BU....#..LF\n",
    "  #####.#                 #.#####  \n",
    "YN......#               VT..#....QG\n",
    "  #.###.#                 #.###.#  \n",
    "  #.#...#                 #.....#  \n",
    "  ###.###    J L     J    #.#.###  \n",
    "  #.....#    O F     P    #.#...#  \n",
    "  #.###.#####.#.#####.#####.###.#  \n",
    "  #...#.#.#...#.....#.....#.#...#  \n",
    "  #.#####.###.###.#.#.#########.#  \n",
    "  #...#.#.....#...#.#.#.#.....#.#  \n",
    "  #.###.#####.###.###.#.#.#######  \n",
    "  #.#.........#...#.............#  \n",
    "  #########.###.###.#############  \n",
    "           B   J   C               \n",
    "           U   P   P               \"\"\", 58"
   ]
  },
  {
   "cell_type": "code",
   "execution_count": 10,
   "metadata": {},
   "outputs": [],
   "source": [
    "def load_data(fname=FNAME):\n",
    "    with open(fname) as fp:\n",
    "        return fp.read()"
   ]
  },
  {
   "cell_type": "code",
   "execution_count": 17,
   "metadata": {},
   "outputs": [],
   "source": [
    "HALL = '.'\n",
    "WALL = '#'\n",
    "EMPTY = ' '\n",
    "\n",
    "import string\n",
    "\n",
    "def map_to_grid(s):\n",
    "    return {(i, j): c\n",
    "            for (i, row) in enumerate(s.split('\\n'))\n",
    "            if row.strip()\n",
    "            for (j, c) in enumerate(row)\n",
    "            if c in (HALL + string.ascii_uppercase)}"
   ]
  },
  {
   "cell_type": "code",
   "execution_count": 50,
   "metadata": {},
   "outputs": [],
   "source": [
    "import networkx as nx\n",
    "\n",
    "def grid_to_nx(grid):\n",
    "    g = nx.Graph()\n",
    "    # handle the halls first\n",
    "    for ij, c in grid.items():\n",
    "        if c == HALL:\n",
    "            g.add_node(ij)\n",
    "    \n",
    "    seen_teleportals = set()\n",
    "    for (i, j), c in grid.items():\n",
    "        # LR\n",
    "        l = (i, j - 1)\n",
    "        cl = grid.get(l, '~')\n",
    "        r = (i, j + 1)\n",
    "        cr = grid.get(r, '~')\n",
    "        \n",
    "        # UD\n",
    "        u = (i - 1, j)\n",
    "        cu = grid.get(u, '~')\n",
    "        d = (i + 1, j)\n",
    "        cd = grid.get(d, '~')\n",
    "        \n",
    "        if c == HALL:\n",
    "            for nbr in (l, r, u, d):\n",
    "                if grid.get(nbr, '~') == HALL:\n",
    "                    g.add_edge((i, j), nbr)\n",
    "                    \n",
    "        elif c in string.ascii_uppercase:\n",
    "            # we are looking for a letter on one side and a . on the other\n",
    "            # otherwise ignore\n",
    "            \n",
    "            if cl in string.ascii_uppercase and cr == '.':\n",
    "                teleportal = f'{cl}{c}'\n",
    "                if teleportal in seen_teleportals:\n",
    "                    teleportal2 = f'{teleportal}_2'\n",
    "                    g.add_edge(teleportal2, r)\n",
    "                    g.add_edge(teleportal, teleportal2)\n",
    "                else:\n",
    "                    g.add_edge(teleportal, r)\n",
    "                    seen_teleportals.add(teleportal)\n",
    "            elif cl == '.' and cr in string.ascii_uppercase:\n",
    "                teleportal = f'{c}{cr}'\n",
    "                if teleportal in seen_teleportals:\n",
    "                    teleportal2 = f'{teleportal}_2'\n",
    "                    g.add_edge(teleportal2, r)\n",
    "                    g.add_edge(teleportal, teleportal2)\n",
    "                else:\n",
    "                    g.add_edge(teleportal, r)\n",
    "                    seen_teleportals.add(teleportal)\n",
    "                g.add_edge((c, cr), l)\n",
    "            \n",
    "            if cu in string.ascii_uppercase and cd == '.':\n",
    "                teleportal = f'{cu}{c}'\n",
    "                if teleportal in seen_teleportals:\n",
    "                    teleportal2 = f'{teleportal}_2'\n",
    "                    g.add_edge(teleportal2, r)\n",
    "                    g.add_edge(teleportal, teleportal2)\n",
    "                else:\n",
    "                    g.add_edge(teleportal, r)\n",
    "                    seen_teleportals.add(teleportal)\n",
    "            elif cu == '.' and cd in string.ascii_uppercase:\n",
    "                teleportal = f'{c}{cd}'\n",
    "                if teleportal in seen_teleportals:\n",
    "                    teleportal2 = f'{teleportal}_2'\n",
    "                    g.add_edge(teleportal2, r)\n",
    "                    g.add_edge(teleportal, teleportal2)\n",
    "                else:\n",
    "                    g.add_edge(teleportal, r)\n",
    "                    seen_teleportals.add(teleportal)\n",
    "\n",
    "    return g"
   ]
  },
  {
   "cell_type": "code",
   "execution_count": 51,
   "metadata": {},
   "outputs": [],
   "source": [
    "def map_to_nx(s):\n",
    "    return grid_to_nx(map_to_grid(s))"
   ]
  },
  {
   "cell_type": "code",
   "execution_count": 52,
   "metadata": {},
   "outputs": [],
   "source": [
    "g = map_to_nx(test_0[0])"
   ]
  },
  {
   "cell_type": "code",
   "execution_count": 53,
   "metadata": {},
   "outputs": [
    {
     "data": {
      "text/plain": [
       "EdgeView([((2, 9), (3, 9)), ((3, 9), (3, 10)), ((3, 9), (4, 9)), ((3, 10), (3, 11)), ((3, 11), (3, 12)), ((3, 12), (3, 13)), ((3, 13), (3, 14)), ((3, 14), (3, 15)), ((3, 15), (3, 16)), ((3, 16), (3, 17)), ((3, 17), (4, 17)), ((4, 9), (5, 9)), ((4, 17), (5, 17)), ((5, 9), (6, 9)), ((5, 17), (6, 17)), ((6, 17), (7, 17)), ((7, 17), (8, 17)), ((8, 2), 'BC_2'), ((8, 2), (8, 3)), ((8, 3), (8, 4)), ((8, 4), (9, 4)), ((8, 17), (9, 17)), ((9, 4), (10, 4)), ((9, 17), (10, 17)), ((10, 4), (10, 5)), ((10, 5), (10, 6)), ((10, 6), ('D', 'E')), ((10, 17), (11, 17)), ((11, 17), (12, 17)), ((12, 11), (13, 11)), ((12, 17), (13, 17)), ((13, 2), 'DE_2'), ((13, 2), (13, 3)), ((13, 3), (14, 3)), ((13, 11), (13, 12)), ((13, 12), (13, 13)), ((13, 13), (14, 13)), ((13, 17), (14, 17)), ((14, 3), (15, 3)), ((14, 13), (15, 13)), ((14, 17), (15, 17)), ((15, 2), 'FG_2'), ((15, 2), (15, 3)), ((15, 13), (15, 14)), ((15, 13), (16, 13)), ((15, 14), (15, 15)), ((15, 15), (15, 16)), ((15, 16), (15, 17)), ('AA', (1, 10)), ('BC', (7, 10)), ('BC', 'BC_2'), ('DE', (10, 8)), ('DE', 'DE_2'), ('FG', (11, 12)), ('FG', 'FG_2'), ('ZZ', (17, 14))])"
      ]
     },
     "execution_count": 53,
     "metadata": {},
     "output_type": "execute_result"
    }
   ],
   "source": [
    "g.edges()"
   ]
  },
  {
   "cell_type": "markdown",
   "metadata": {},
   "source": [
    "#### function def"
   ]
  },
  {
   "cell_type": "code",
   "execution_count": 66,
   "metadata": {},
   "outputs": [],
   "source": [
    "def q_1(data):\n",
    "    LOGGER.debug(f'\\n{data}')\n",
    "    g = map_to_nx(data)\n",
    "    return nx.shortest_path_length(g, 'AA', 'ZZ')"
   ]
  },
  {
   "cell_type": "markdown",
   "metadata": {},
   "source": [
    "#### tests"
   ]
  },
  {
   "cell_type": "code",
   "execution_count": 67,
   "metadata": {},
   "outputs": [],
   "source": [
    "def test_q_1():\n",
    "    LOGGER.setLevel(logging.DEBUG)\n",
    "    t, a = test_0\n",
    "    assert q_1(t) == a\n",
    "    LOGGER.setLevel(logging.INFO)"
   ]
  },
  {
   "cell_type": "code",
   "execution_count": 68,
   "metadata": {},
   "outputs": [
    {
     "name": "stdout",
     "output_type": "stream",
     "text": [
      "\u001b[37m2019-12-20 00:31:22,884 DEBUG    [day20.q_1:2] \n",
      "         A           \n",
      "         A           \n",
      "  #######.#########  \n",
      "  #######.........#  \n",
      "  #######.#######.#  \n",
      "  #######.#######.#  \n",
      "  #######.#######.#  \n",
      "  #####  B    ###.#  \n",
      "BC...##  C    ###.#  \n",
      "  ##.##       ###.#  \n",
      "  ##...DE  F  ###.#  \n",
      "  #####    G  ###.#  \n",
      "  #########.#####.#  \n",
      "DE..#######...###.#  \n",
      "  #.#########.###.#  \n",
      "FG..#########.....#  \n",
      "  ###########.#####  \n",
      "             Z       \n",
      "             Z       \u001b[0m\n"
     ]
    },
    {
     "ename": "NetworkXNoPath",
     "evalue": "No path between AA and ZZ.",
     "output_type": "error",
     "traceback": [
      "\u001b[0;31m---------------------------------------------------------------------------\u001b[0m",
      "\u001b[0;31mNetworkXNoPath\u001b[0m                            Traceback (most recent call last)",
      "\u001b[0;32m<ipython-input-68-8605d512d910>\u001b[0m in \u001b[0;36m<module>\u001b[0;34m\u001b[0m\n\u001b[0;32m----> 1\u001b[0;31m \u001b[0mtest_q_1\u001b[0m\u001b[0;34m(\u001b[0m\u001b[0;34m)\u001b[0m\u001b[0;34m\u001b[0m\u001b[0;34m\u001b[0m\u001b[0m\n\u001b[0m",
      "\u001b[0;32m<ipython-input-67-5705234e4f61>\u001b[0m in \u001b[0;36mtest_q_1\u001b[0;34m()\u001b[0m\n\u001b[1;32m      2\u001b[0m     \u001b[0mLOGGER\u001b[0m\u001b[0;34m.\u001b[0m\u001b[0msetLevel\u001b[0m\u001b[0;34m(\u001b[0m\u001b[0mlogging\u001b[0m\u001b[0;34m.\u001b[0m\u001b[0mDEBUG\u001b[0m\u001b[0;34m)\u001b[0m\u001b[0;34m\u001b[0m\u001b[0;34m\u001b[0m\u001b[0m\n\u001b[1;32m      3\u001b[0m     \u001b[0mt\u001b[0m\u001b[0;34m,\u001b[0m \u001b[0ma\u001b[0m \u001b[0;34m=\u001b[0m \u001b[0mtest_0\u001b[0m\u001b[0;34m\u001b[0m\u001b[0;34m\u001b[0m\u001b[0m\n\u001b[0;32m----> 4\u001b[0;31m     \u001b[0;32massert\u001b[0m \u001b[0mq_1\u001b[0m\u001b[0;34m(\u001b[0m\u001b[0mt\u001b[0m\u001b[0;34m)\u001b[0m \u001b[0;34m==\u001b[0m \u001b[0ma\u001b[0m\u001b[0;34m\u001b[0m\u001b[0;34m\u001b[0m\u001b[0m\n\u001b[0m\u001b[1;32m      5\u001b[0m     \u001b[0mLOGGER\u001b[0m\u001b[0;34m.\u001b[0m\u001b[0msetLevel\u001b[0m\u001b[0;34m(\u001b[0m\u001b[0mlogging\u001b[0m\u001b[0;34m.\u001b[0m\u001b[0mINFO\u001b[0m\u001b[0;34m)\u001b[0m\u001b[0;34m\u001b[0m\u001b[0;34m\u001b[0m\u001b[0m\n",
      "\u001b[0;32m<ipython-input-66-ddfa21d0eb80>\u001b[0m in \u001b[0;36mq_1\u001b[0;34m(data)\u001b[0m\n\u001b[1;32m      2\u001b[0m     \u001b[0mLOGGER\u001b[0m\u001b[0;34m.\u001b[0m\u001b[0mdebug\u001b[0m\u001b[0;34m(\u001b[0m\u001b[0;34mf'\\n{data}'\u001b[0m\u001b[0;34m)\u001b[0m\u001b[0;34m\u001b[0m\u001b[0;34m\u001b[0m\u001b[0m\n\u001b[1;32m      3\u001b[0m     \u001b[0mg\u001b[0m \u001b[0;34m=\u001b[0m \u001b[0mmap_to_nx\u001b[0m\u001b[0;34m(\u001b[0m\u001b[0mdata\u001b[0m\u001b[0;34m)\u001b[0m\u001b[0;34m\u001b[0m\u001b[0;34m\u001b[0m\u001b[0m\n\u001b[0;32m----> 4\u001b[0;31m     \u001b[0;32mreturn\u001b[0m \u001b[0mnx\u001b[0m\u001b[0;34m.\u001b[0m\u001b[0mshortest_path_length\u001b[0m\u001b[0;34m(\u001b[0m\u001b[0mg\u001b[0m\u001b[0;34m,\u001b[0m \u001b[0;34m'AA'\u001b[0m\u001b[0;34m,\u001b[0m \u001b[0;34m'ZZ'\u001b[0m\u001b[0;34m)\u001b[0m\u001b[0;34m\u001b[0m\u001b[0;34m\u001b[0m\u001b[0m\n\u001b[0m",
      "\u001b[0;32m~/.virtualenvs/aoc/lib/python3.7/site-packages/networkx/algorithms/shortest_paths/generic.py\u001b[0m in \u001b[0;36mshortest_path_length\u001b[0;34m(G, source, target, weight, method)\u001b[0m\n\u001b[1;32m    310\u001b[0m             \u001b[0;31m# Find shortest source-target path.\u001b[0m\u001b[0;34m\u001b[0m\u001b[0;34m\u001b[0m\u001b[0;34m\u001b[0m\u001b[0m\n\u001b[1;32m    311\u001b[0m             \u001b[0;32mif\u001b[0m \u001b[0mmethod\u001b[0m \u001b[0;34m==\u001b[0m \u001b[0;34m'unweighted'\u001b[0m\u001b[0;34m:\u001b[0m\u001b[0;34m\u001b[0m\u001b[0;34m\u001b[0m\u001b[0m\n\u001b[0;32m--> 312\u001b[0;31m                 \u001b[0mp\u001b[0m \u001b[0;34m=\u001b[0m \u001b[0mnx\u001b[0m\u001b[0;34m.\u001b[0m\u001b[0mbidirectional_shortest_path\u001b[0m\u001b[0;34m(\u001b[0m\u001b[0mG\u001b[0m\u001b[0;34m,\u001b[0m \u001b[0msource\u001b[0m\u001b[0;34m,\u001b[0m \u001b[0mtarget\u001b[0m\u001b[0;34m)\u001b[0m\u001b[0;34m\u001b[0m\u001b[0;34m\u001b[0m\u001b[0m\n\u001b[0m\u001b[1;32m    313\u001b[0m                 \u001b[0mpaths\u001b[0m \u001b[0;34m=\u001b[0m \u001b[0mlen\u001b[0m\u001b[0;34m(\u001b[0m\u001b[0mp\u001b[0m\u001b[0;34m)\u001b[0m \u001b[0;34m-\u001b[0m \u001b[0;36m1\u001b[0m\u001b[0;34m\u001b[0m\u001b[0;34m\u001b[0m\u001b[0m\n\u001b[1;32m    314\u001b[0m             \u001b[0;32melif\u001b[0m \u001b[0mmethod\u001b[0m \u001b[0;34m==\u001b[0m \u001b[0;34m'dijkstra'\u001b[0m\u001b[0;34m:\u001b[0m\u001b[0;34m\u001b[0m\u001b[0;34m\u001b[0m\u001b[0m\n",
      "\u001b[0;32m~/.virtualenvs/aoc/lib/python3.7/site-packages/networkx/algorithms/shortest_paths/unweighted.py\u001b[0m in \u001b[0;36mbidirectional_shortest_path\u001b[0;34m(G, source, target)\u001b[0m\n\u001b[1;32m    224\u001b[0m \u001b[0;34m\u001b[0m\u001b[0m\n\u001b[1;32m    225\u001b[0m     \u001b[0;31m# call helper to do the real work\u001b[0m\u001b[0;34m\u001b[0m\u001b[0;34m\u001b[0m\u001b[0;34m\u001b[0m\u001b[0m\n\u001b[0;32m--> 226\u001b[0;31m     \u001b[0mresults\u001b[0m \u001b[0;34m=\u001b[0m \u001b[0m_bidirectional_pred_succ\u001b[0m\u001b[0;34m(\u001b[0m\u001b[0mG\u001b[0m\u001b[0;34m,\u001b[0m \u001b[0msource\u001b[0m\u001b[0;34m,\u001b[0m \u001b[0mtarget\u001b[0m\u001b[0;34m)\u001b[0m\u001b[0;34m\u001b[0m\u001b[0;34m\u001b[0m\u001b[0m\n\u001b[0m\u001b[1;32m    227\u001b[0m     \u001b[0mpred\u001b[0m\u001b[0;34m,\u001b[0m \u001b[0msucc\u001b[0m\u001b[0;34m,\u001b[0m \u001b[0mw\u001b[0m \u001b[0;34m=\u001b[0m \u001b[0mresults\u001b[0m\u001b[0;34m\u001b[0m\u001b[0;34m\u001b[0m\u001b[0m\n\u001b[1;32m    228\u001b[0m \u001b[0;34m\u001b[0m\u001b[0m\n",
      "\u001b[0;32m~/.virtualenvs/aoc/lib/python3.7/site-packages/networkx/algorithms/shortest_paths/unweighted.py\u001b[0m in \u001b[0;36m_bidirectional_pred_succ\u001b[0;34m(G, source, target)\u001b[0m\n\u001b[1;32m    292\u001b[0m                         \u001b[0;32mreturn\u001b[0m \u001b[0mpred\u001b[0m\u001b[0;34m,\u001b[0m \u001b[0msucc\u001b[0m\u001b[0;34m,\u001b[0m \u001b[0mw\u001b[0m\u001b[0;34m\u001b[0m\u001b[0;34m\u001b[0m\u001b[0m\n\u001b[1;32m    293\u001b[0m \u001b[0;34m\u001b[0m\u001b[0m\n\u001b[0;32m--> 294\u001b[0;31m     \u001b[0;32mraise\u001b[0m \u001b[0mnx\u001b[0m\u001b[0;34m.\u001b[0m\u001b[0mNetworkXNoPath\u001b[0m\u001b[0;34m(\u001b[0m\u001b[0;34m\"No path between %s and %s.\"\u001b[0m \u001b[0;34m%\u001b[0m \u001b[0;34m(\u001b[0m\u001b[0msource\u001b[0m\u001b[0;34m,\u001b[0m \u001b[0mtarget\u001b[0m\u001b[0;34m)\u001b[0m\u001b[0;34m)\u001b[0m\u001b[0;34m\u001b[0m\u001b[0;34m\u001b[0m\u001b[0m\n\u001b[0m\u001b[1;32m    295\u001b[0m \u001b[0;34m\u001b[0m\u001b[0m\n\u001b[1;32m    296\u001b[0m \u001b[0;34m\u001b[0m\u001b[0m\n",
      "\u001b[0;31mNetworkXNoPath\u001b[0m: No path between AA and ZZ."
     ]
    }
   ],
   "source": [
    "test_q_1()"
   ]
  },
  {
   "cell_type": "markdown",
   "metadata": {},
   "source": [
    "#### answer"
   ]
  },
  {
   "cell_type": "code",
   "execution_count": null,
   "metadata": {},
   "outputs": [],
   "source": [
    "q_1(load_data())"
   ]
  },
  {
   "cell_type": "markdown",
   "metadata": {},
   "source": [
    "## part 2\n",
    "\n",
    "### problem statement:"
   ]
  },
  {
   "cell_type": "markdown",
   "metadata": {},
   "source": [
    "#### function def"
   ]
  },
  {
   "cell_type": "code",
   "execution_count": null,
   "metadata": {},
   "outputs": [],
   "source": [
    "def q_2(data):\n",
    "    return False"
   ]
  },
  {
   "cell_type": "markdown",
   "metadata": {},
   "source": [
    "#### tests"
   ]
  },
  {
   "cell_type": "code",
   "execution_count": null,
   "metadata": {},
   "outputs": [],
   "source": [
    "def test_q_2():\n",
    "    LOGGER.setLevel(logging.DEBUG)\n",
    "    assert q_2(test_data) == True\n",
    "    LOGGER.setLevel(logging.INFO)"
   ]
  },
  {
   "cell_type": "code",
   "execution_count": null,
   "metadata": {
    "scrolled": true
   },
   "outputs": [],
   "source": [
    "test_q_2()"
   ]
  },
  {
   "cell_type": "markdown",
   "metadata": {},
   "source": [
    "#### answer"
   ]
  },
  {
   "cell_type": "code",
   "execution_count": null,
   "metadata": {
    "scrolled": true
   },
   "outputs": [],
   "source": [
    "q_2(load_data())"
   ]
  },
  {
   "cell_type": "markdown",
   "metadata": {},
   "source": [
    "fin"
   ]
  },
  {
   "cell_type": "code",
   "execution_count": null,
   "metadata": {},
   "outputs": [],
   "source": []
  },
  {
   "cell_type": "code",
   "execution_count": null,
   "metadata": {},
   "outputs": [],
   "source": []
  },
  {
   "cell_type": "code",
   "execution_count": 70,
   "metadata": {},
   "outputs": [
    {
     "name": "stdout",
     "output_type": "stream",
     "text": [
      "Number of steps to get from AA to ZZ: 410\n"
     ]
    }
   ],
   "source": [
    "from collections import defaultdict\n",
    "from string import ascii_uppercase\n",
    "\n",
    "import networkx as nx\n",
    "\n",
    "\n",
    "def get_nbs(point):\n",
    "    \"\"\"Get all four neighbouring points.\"\"\"\n",
    "    return [(point[0] + dx, point[1] + dy) for dx, dy in zip([0, 1, 0, -1], [-1, 0, 1, 0])]\n",
    "\n",
    "\n",
    "in1 = load_data()[:-1].split('\\n')\n",
    "\n",
    "grid = defaultdict(lambda: '#')\n",
    "W, H = len(in1[0]), len(in1)\n",
    "\n",
    "for y in range(H):\n",
    "    for x in range(W):\n",
    "        grid[(x, y)] = in1[y][x] if in1[y][x] != ' ' else '#'\n",
    "\n",
    "portals = defaultdict(list)  # matches the portal names to their coordinates like portals['XY'] = [(x1,y1), (x2, y2)]\n",
    "G = nx.Graph()\n",
    "start = end = None\n",
    "for y in range(1, H - 1):\n",
    "    for x in range(1, W - 1):\n",
    "        symbol = grid[(x, y)]\n",
    "        if symbol in ascii_uppercase:\n",
    "            nbs = [(a, b) for a, b in get_nbs((x, y)) if grid[(a, b)] != '#']\n",
    "            if len(nbs) == 2:\n",
    "                # letter and pathway found\n",
    "                if grid[nbs[0]] in ascii_uppercase:\n",
    "                    letter, pad = nbs\n",
    "                else:\n",
    "                    pad, letter = nbs\n",
    "                key = ''.join(sorted(symbol + grid[letter]))  # sort portal name\n",
    "                portals[key].append(pad)\n",
    "                if key == 'AA':\n",
    "                    start = pad\n",
    "                elif key == 'ZZ':\n",
    "                    end = pad\n",
    "        elif symbol == '.':\n",
    "            G.add_node((x, y))\n",
    "            nbs = [(a, b) for a, b in get_nbs((x, y)) if grid[(a, b)] == '.']\n",
    "            for nb in nbs:\n",
    "                G.add_edge((x, y), nb)  # connect pathways\n",
    "\n",
    "for pads in portals.values():\n",
    "    if len(pads) == 2:\n",
    "        G.add_edge(pads[0], pads[1])  # connect portals\n",
    "\n",
    "ansa = nx.shortest_path_length(G, start, end)\n",
    "print(\"Number of steps to get from AA to ZZ:\", ansa)\n",
    "# puzzle.answer_a = ansa"
   ]
  },
  {
   "cell_type": "code",
   "execution_count": 71,
   "metadata": {},
   "outputs": [
    {
     "name": "stdout",
     "output_type": "stream",
     "text": [
      "Number of steps to get from AA to ZZ on level 0: 5084\n"
     ]
    }
   ],
   "source": [
    "from collections import defaultdict\n",
    "from string import ascii_uppercase\n",
    "\n",
    "import networkx as nx\n",
    "\n",
    "\n",
    "def get_nbs(point):\n",
    "    \"\"\"Get all four neighbouring points.\"\"\"\n",
    "    return [(point[0] + dx, point[1] + dy) for dx, dy in zip([0, 1, 0, -1], [-1, 0, 1, 0])]\n",
    "\n",
    "\n",
    "load_data()[:-1].split('\\n')\n",
    "\n",
    "grid = defaultdict(lambda: '#')\n",
    "W, H = len(in1[0]), len(in1)\n",
    "\n",
    "for y in range(H):\n",
    "    for x in range(W):\n",
    "        grid[(x, y)] = in1[y][x] if in1[y][x] != ' ' else '#'\n",
    "\n",
    "portals = defaultdict(list)  # matches the portal names to their coordinates like portals['XY'] = [(x1,y1), (x2, y2)]\n",
    "G = nx.Graph()\n",
    "levels = 30  # maximum allowed recursion depth\n",
    "start = end = None\n",
    "for y in range(1, H - 1):\n",
    "    for x in range(1, W - 1):\n",
    "        symbol = grid[(x, y)]\n",
    "        if symbol in ascii_uppercase:\n",
    "            nbs = [(a, b) for a, b in get_nbs((x, y)) if grid[(a, b)] != '#']\n",
    "            if len(nbs) == 2:\n",
    "                # letter and pathway found\n",
    "                if grid[nbs[0]] in ascii_uppercase:\n",
    "                    letter, pad = nbs\n",
    "                else:\n",
    "                    pad, letter = nbs\n",
    "                key = ''.join(sorted(symbol + grid[letter]))  # sort portal name\n",
    "                portals[key].append(pad)\n",
    "                if key == 'AA':\n",
    "                    start = pad\n",
    "                elif key == 'ZZ':\n",
    "                    end = pad\n",
    "        elif symbol == '.':\n",
    "            for i in range(levels):\n",
    "                G.add_node((x, y, i))  # create the node on each level\n",
    "            nbs = [(a, b) for a, b in get_nbs((x, y)) if grid[(a, b)] == '.']\n",
    "            for nb in nbs:\n",
    "                for i in range(levels):\n",
    "                    G.add_edge((x, y, i), (*nb, i))  # connect the pathways on each level\n",
    "\n",
    "for pads in portals.values():\n",
    "    if len(pads) == 2:\n",
    "        if pads[0][0] in [2, W - 3] or pads[0][1] in [2, H - 3]:\n",
    "            outer, inner = pads\n",
    "        else:\n",
    "            inner, outer = pads\n",
    "        for i in range(levels - 1):\n",
    "            # inner portals lead to the outer portals on the next level and outer to inner on the previous level\n",
    "            G.add_edge((*inner, i), (*outer, i + 1))\n",
    "            G.add_edge((*outer, i + 1), (*inner, i))\n",
    "\n",
    "\n",
    "ansb = nx.shortest_path_length(G, (*start, 0), (*end, 0))  # specify that we want to start and end on level 0\n",
    "print(\"Number of steps to get from AA to ZZ on level 0:\", ansb)\n",
    "# puzzle.answer_b = ansb"
   ]
  },
  {
   "cell_type": "code",
   "execution_count": null,
   "metadata": {},
   "outputs": [],
   "source": []
  }
 ],
 "metadata": {
  "kernelspec": {
   "display_name": "Python 3",
   "language": "python",
   "name": "python3"
  },
  "language_info": {
   "codemirror_mode": {
    "name": "ipython",
    "version": 3
   },
   "file_extension": ".py",
   "mimetype": "text/x-python",
   "name": "python",
   "nbconvert_exporter": "python",
   "pygments_lexer": "ipython3",
   "version": "3.7.3"
  },
  "toc": {
   "base_numbering": 1,
   "nav_menu": {},
   "number_sections": true,
   "sideBar": true,
   "skip_h1_title": false,
   "title_cell": "Table of Contents",
   "title_sidebar": "Contents",
   "toc_cell": false,
   "toc_position": {},
   "toc_section_display": true,
   "toc_window_display": false
  }
 },
 "nbformat": 4,
 "nbformat_minor": 2
}
