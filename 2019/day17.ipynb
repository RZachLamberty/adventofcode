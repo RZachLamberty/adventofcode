{
 "cells": [
  {
   "cell_type": "markdown",
   "metadata": {},
   "source": [
    "# day 17\n",
    "\n",
    "https://adventofcode.com/2019/day/17"
   ]
  },
  {
   "cell_type": "code",
   "execution_count": null,
   "metadata": {},
   "outputs": [],
   "source": [
    "import logging\n",
    "import logging.config\n",
    "import os\n",
    "\n",
    "import yaml"
   ]
  },
  {
   "cell_type": "code",
   "execution_count": null,
   "metadata": {},
   "outputs": [],
   "source": [
    "with open('../logging.yaml') as fp:\n",
    "    logging_config = yaml.load(fp, Loader=yaml.FullLoader)\n",
    "\n",
    "logging.config.dictConfig(logging_config)"
   ]
  },
  {
   "cell_type": "code",
   "execution_count": null,
   "metadata": {},
   "outputs": [],
   "source": [
    "FNAME = os.path.join('data', 'day17.txt')\n",
    "\n",
    "LOGGER = logging.getLogger('day17')"
   ]
  },
  {
   "cell_type": "markdown",
   "metadata": {},
   "source": [
    "## part 1\n",
    "\n",
    "### problem statement:"
   ]
  },
  {
   "cell_type": "markdown",
   "metadata": {},
   "source": [
    "#### loading data"
   ]
  },
  {
   "cell_type": "code",
   "execution_count": null,
   "metadata": {},
   "outputs": [],
   "source": [
    "test_data = []"
   ]
  },
  {
   "cell_type": "code",
   "execution_count": null,
   "metadata": {},
   "outputs": [],
   "source": [
    "def load_data(fname=FNAME):\n",
    "    with open(fname) as fp:\n",
    "        return [int(_) for _ in fp.read().strip().split(',')]"
   ]
  },
  {
   "cell_type": "markdown",
   "metadata": {},
   "source": [
    "#### function def"
   ]
  },
  {
   "cell_type": "code",
   "execution_count": null,
   "metadata": {},
   "outputs": [],
   "source": [
    "import aoc2019 as A"
   ]
  },
  {
   "cell_type": "code",
   "execution_count": null,
   "metadata": {},
   "outputs": [],
   "source": [
    "def q_1(data):\n",
    "    ic = A.IntcodeComputer(data, inputs=[])\n",
    "    scaffolding = ''\n",
    "    for output in ic:\n",
    "        c = chr(output)\n",
    "        LOGGER.debug(f'received value {output} --> {c}')\n",
    "        scaffolding += c\n",
    "    return scaffolding"
   ]
  },
  {
   "cell_type": "markdown",
   "metadata": {},
   "source": [
    "#### tests"
   ]
  },
  {
   "cell_type": "code",
   "execution_count": null,
   "metadata": {},
   "outputs": [],
   "source": [
    "# def test_q_1():\n",
    "#     LOGGER.setLevel(logging.DEBUG)\n",
    "#     assert q_1(test_data) == True\n",
    "#     LOGGER.setLevel(logging.INFO)"
   ]
  },
  {
   "cell_type": "code",
   "execution_count": null,
   "metadata": {},
   "outputs": [],
   "source": [
    "# test_q_1()"
   ]
  },
  {
   "cell_type": "markdown",
   "metadata": {},
   "source": [
    "#### answer"
   ]
  },
  {
   "cell_type": "code",
   "execution_count": null,
   "metadata": {},
   "outputs": [],
   "source": [
    "scaffolding = q_1(load_data())"
   ]
  },
  {
   "cell_type": "code",
   "execution_count": null,
   "metadata": {},
   "outputs": [],
   "source": [
    "print(scaffolding.strip())"
   ]
  },
  {
   "cell_type": "code",
   "execution_count": null,
   "metadata": {},
   "outputs": [],
   "source": [
    "n_rows = len(scaffolding.strip().split('\\n'))\n",
    "n_cols = len(scaffolding.strip().split('\\n')[0])\n",
    "n_rows, n_cols"
   ]
  },
  {
   "cell_type": "code",
   "execution_count": null,
   "metadata": {},
   "outputs": [],
   "source": [
    "x = [list(row)\n",
    "     for row in scaffolding.strip().split('\\n')]"
   ]
  },
  {
   "cell_type": "code",
   "execution_count": null,
   "metadata": {},
   "outputs": [],
   "source": [
    "intersections = set()\n",
    "for i in range(n_rows):\n",
    "    for j in range(n_cols):\n",
    "        if x[i][j] == '#':\n",
    "            neighbor_pts = []\n",
    "            if j > 0:\n",
    "                neighbor_pts.append((i, j - 1))\n",
    "                \n",
    "            if j < (n_cols - 1):\n",
    "                neighbor_pts.append((i, j + 1))\n",
    "            \n",
    "            if i > 0:\n",
    "                neighbor_pts.append((i - 1, j))\n",
    "            \n",
    "            if i < (n_rows - 1):\n",
    "                neighbor_pts.append((i + 1, j))\n",
    "                \n",
    "            if all([x[i2][j2] == '#' for [i2, j2] in neighbor_pts]):\n",
    "                intersections.add((i, j))"
   ]
  },
  {
   "cell_type": "code",
   "execution_count": null,
   "metadata": {},
   "outputs": [],
   "source": [
    "import numpy as np\n",
    "np.array(x)[i: i + 2, j - 2 : j + 2]"
   ]
  },
  {
   "cell_type": "code",
   "execution_count": null,
   "metadata": {},
   "outputs": [],
   "source": [
    "intersections"
   ]
  },
  {
   "cell_type": "code",
   "execution_count": null,
   "metadata": {},
   "outputs": [],
   "source": [
    "sum(a * b for (a, b) in intersections)"
   ]
  },
  {
   "cell_type": "markdown",
   "metadata": {},
   "source": [
    "## part 2\n",
    "\n",
    "### problem statement:"
   ]
  },
  {
   "cell_type": "code",
   "execution_count": null,
   "metadata": {},
   "outputs": [],
   "source": [
    "print(scaffolding)"
   ]
  },
  {
   "cell_type": "markdown",
   "metadata": {},
   "source": [
    "hard coded:\n",
    "\n",
    "```\n",
    "R6 L12 R6 R6 L12 R6 L12 R6 L8 L12 R12 L10 L10 L12 R6 L8 L12 R12 L10 L10 L12 R6 L8 L12 R12 L10 L10 L12 R6 L8 L12 R6 L12 R6\n",
    "```\n",
    "\n",
    "can be re-written\n",
    "\n",
    "```\n",
    "R6 L12 R6      <- a\n",
    "R6 L12 R6      <- a\n",
    "L12 R6 L8 L12  <- b\n",
    "R12 L10 L10    <- c\n",
    "L12 R6 L8 L12  <- b\n",
    "R12 L10 L10    <- c\n",
    "L12 R6 L8 L12  <- b\n",
    "R12 L10 L10    <- c\n",
    "L12 R6 L8 L12  <- b\n",
    "R6 L12 R6      <- a\n",
    "```"
   ]
  },
  {
   "cell_type": "markdown",
   "metadata": {},
   "source": [
    "#### function def"
   ]
  },
  {
   "cell_type": "code",
   "execution_count": null,
   "metadata": {},
   "outputs": [],
   "source": [
    "MAIN_ROUTINE = 'A,A,B,C,B,C,B,C,B,A'\n",
    "FUNCTION_A = 'R,6,L,12,R,6'\n",
    "FUNCTION_B = 'L,12,R,6,L,8,L,12'\n",
    "FUNCTION_C = 'R,12,L,10,L,10'\n",
    "VIDEO_FEED = 'n'\n",
    "PROGRAM = f\"\"\"{MAIN_ROUTINE}\n",
    "{FUNCTION_A}\n",
    "{FUNCTION_B}\n",
    "{FUNCTION_C}\n",
    "{VIDEO_FEED}\n",
    "\"\"\"\n",
    "\n",
    "PROGRAM = [ord(_) for _ in PROGRAM]\n",
    "\n",
    "def q_2(data):\n",
    "    data[0] = 2\n",
    "    ic = A.IntcodeComputer(data, inputs=PROGRAM)\n",
    "    outputs = list(ic)\n",
    "    \n",
    "    output_str = ''.join(chr(_) for _ in outputs[:-1])\n",
    "    LOGGER.info(f'all outputs:\\n{output_str}')\n",
    "    \n",
    "    return outputs[-1]"
   ]
  },
  {
   "cell_type": "markdown",
   "metadata": {},
   "source": [
    "#### tests"
   ]
  },
  {
   "cell_type": "code",
   "execution_count": null,
   "metadata": {},
   "outputs": [],
   "source": [
    "# def test_q_2():\n",
    "#     LOGGER.setLevel(logging.DEBUG)\n",
    "#     assert q_2(test_data) == True\n",
    "#     LOGGER.setLevel(logging.INFO)"
   ]
  },
  {
   "cell_type": "code",
   "execution_count": null,
   "metadata": {
    "scrolled": true
   },
   "outputs": [],
   "source": [
    "# test_q_2()"
   ]
  },
  {
   "cell_type": "markdown",
   "metadata": {},
   "source": [
    "#### answer"
   ]
  },
  {
   "cell_type": "code",
   "execution_count": null,
   "metadata": {
    "scrolled": true
   },
   "outputs": [],
   "source": [
    "q_2(load_data())"
   ]
  },
  {
   "cell_type": "markdown",
   "metadata": {},
   "source": [
    "fin"
   ]
  }
 ],
 "metadata": {
  "kernelspec": {
   "display_name": "Python 3",
   "language": "python",
   "name": "python3"
  },
  "language_info": {
   "codemirror_mode": {
    "name": "ipython",
    "version": 3
   },
   "file_extension": ".py",
   "mimetype": "text/x-python",
   "name": "python",
   "nbconvert_exporter": "python",
   "pygments_lexer": "ipython3",
   "version": "3.7.3"
  },
  "toc": {
   "base_numbering": 1,
   "nav_menu": {},
   "number_sections": true,
   "sideBar": true,
   "skip_h1_title": false,
   "title_cell": "Table of Contents",
   "title_sidebar": "Contents",
   "toc_cell": false,
   "toc_position": {},
   "toc_section_display": true,
   "toc_window_display": false
  }
 },
 "nbformat": 4,
 "nbformat_minor": 2
}
