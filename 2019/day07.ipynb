{
 "cells": [
  {
   "cell_type": "markdown",
   "metadata": {},
   "source": [
    "# day 7\n",
    "\n",
    "https://adventofcode.com/2019/day/7"
   ]
  },
  {
   "cell_type": "code",
   "execution_count": null,
   "metadata": {},
   "outputs": [],
   "source": [
    "import logging\n",
    "import logging.config\n",
    "import os\n",
    "\n",
    "import yaml"
   ]
  },
  {
   "cell_type": "code",
   "execution_count": null,
   "metadata": {},
   "outputs": [],
   "source": [
    "with open('../logging.yaml') as fp:\n",
    "    logging_config = yaml.load(fp, Loader=yaml.FullLoader)\n",
    "\n",
    "logging.config.dictConfig(logging_config)"
   ]
  },
  {
   "cell_type": "code",
   "execution_count": null,
   "metadata": {},
   "outputs": [],
   "source": [
    "FNAME = os.path.join('data', 'day07.txt')\n",
    "\n",
    "LOGGER = logging.getLogger('day07')"
   ]
  },
  {
   "cell_type": "markdown",
   "metadata": {},
   "source": [
    "## part 1\n",
    "\n",
    "### problem statement:"
   ]
  },
  {
   "cell_type": "markdown",
   "metadata": {},
   "source": [
    "#### loading data"
   ]
  },
  {
   "cell_type": "code",
   "execution_count": null,
   "metadata": {},
   "outputs": [],
   "source": [
    "test_data = []"
   ]
  },
  {
   "cell_type": "code",
   "execution_count": null,
   "metadata": {},
   "outputs": [],
   "source": [
    "def load_data(fname=FNAME):\n",
    "    with open(fname) as fp:\n",
    "        return [int(_)\n",
    "                for line in fp\n",
    "                for _ in line.strip().split(',')]"
   ]
  },
  {
   "cell_type": "markdown",
   "metadata": {},
   "source": [
    "#### function def"
   ]
  },
  {
   "cell_type": "code",
   "execution_count": null,
   "metadata": {},
   "outputs": [],
   "source": [
    "import aoc2019 as A, importlib\n",
    "importlib.reload(A)"
   ]
  },
  {
   "cell_type": "code",
   "execution_count": null,
   "metadata": {},
   "outputs": [],
   "source": [
    "def apply_amplifiers(intcode_program, phase_settings, inp=0, with_feedback_loop=False):\n",
    "    LOGGER.debug(f'phase_settings = {phase_settings}')\n",
    "    N_AMP = len(phase_settings)\n",
    "    \n",
    "    amplifiers = [A.IntcodeComputer(intcode=intcode_program, inputs=[p])\n",
    "                  for p in phase_settings]\n",
    "    amplifiers[0].inputs.append(0)\n",
    "\n",
    "    amp_idx = 0\n",
    "    while True:\n",
    "        LOGGER.debug(f'processing amplifier #{amp_idx}')\n",
    "        try:\n",
    "            output = amplifiers[amp_idx].get_output()\n",
    "        except StopIteration:\n",
    "            break\n",
    "        LOGGER.debug(f'amplifier #{amp_idx} output {output}')\n",
    "        \n",
    "        next_inp = output\n",
    "        next_amp_idx = amp_idx + 1\n",
    "        \n",
    "        if next_amp_idx == N_AMP:\n",
    "            if with_feedback_loop:\n",
    "                LOGGER.debug('looping again...')\n",
    "                next_amp_idx = 0\n",
    "            else:\n",
    "                break\n",
    "        \n",
    "        LOGGER.debug(f'appending output ({next_inp}) to inputs for amplifier #{next_amp_idx}')\n",
    "        amplifiers[next_amp_idx].inputs.append(next_inp)    \n",
    "        LOGGER.debug(f'inputs for amplifier #{next_amp_idx} are now {amplifiers[next_amp_idx].inputs}')\n",
    "        \n",
    "        # update shit\n",
    "        amp_idx = next_amp_idx\n",
    "    return output"
   ]
  },
  {
   "cell_type": "code",
   "execution_count": null,
   "metadata": {},
   "outputs": [],
   "source": [
    "from itertools import permutations\n",
    "\n",
    "def q_1(intcode_program, phases=None, with_feedback_loop=False):\n",
    "    max_thruster_signal = 0\n",
    "    max_phase_settings = None\n",
    "    phases = phases or range(5)\n",
    "    for phase_settings in permutations(phases, 5):\n",
    "        thruster_signal = apply_amplifiers(intcode_program,\n",
    "                                           phase_settings,\n",
    "                                           with_feedback_loop=with_feedback_loop)\n",
    "        if thruster_signal > max_thruster_signal:\n",
    "            max_thruster_signal = thruster_signal\n",
    "            max_phase_settings = phase_settings\n",
    "    LOGGER.debug(f'max_phase_settings: {max_phase_settings}')\n",
    "    LOGGER.debug(f'max_thruster_signal: {max_thruster_signal}')\n",
    "    return max_thruster_signal"
   ]
  },
  {
   "cell_type": "markdown",
   "metadata": {},
   "source": [
    "#### tests"
   ]
  },
  {
   "cell_type": "code",
   "execution_count": null,
   "metadata": {},
   "outputs": [],
   "source": [
    "def test_q_1():\n",
    "    LOGGER.setLevel(logging.DEBUG)\n",
    "    a_logger_reset_level = A.LOGGER.level\n",
    "    A.LOGGER.setLevel(logging.DEBUG)\n",
    "    LOGGER.warning('intcode_computer tests')\n",
    "    assert list(A.compute_intcode([1002, 4, 3, 4, 33])) == []\n",
    "    \n",
    "    LOGGER.warning('apply_amplifiers tests')\n",
    "    assert apply_amplifiers(intcode_program=[3,15,3,16,1002,16,10,16,1,16,15,15,4,15,99,0,0],\n",
    "                            phase_settings=[4, 3, 2, 1, 0]) == 43210\n",
    "    assert apply_amplifiers(intcode_program=[3,23,3,24,1002,24,10,24,1002,23,-1,23,\n",
    "                                             101,5,23,23,1,24,23,23,4,23,99,0,0],\n",
    "                            phase_settings=[0,1,2,3,4]) == 54321\n",
    "    assert apply_amplifiers(intcode_program=[3,31,3,32,1002,32,10,32,1001,31,-2,31,1007,31,0,33,\n",
    "                                             1002,33,7,33,1,33,31,31,1,32,31,31,4,31,99,0,0,0],\n",
    "                            phase_settings=[1,0,4,3,2]) == 65210\n",
    "    #assert q_1(test_data) == True\n",
    "    A.LOGGER.setLevel(a_logger_reset_level)\n",
    "    LOGGER.setLevel(logging.WARN)"
   ]
  },
  {
   "cell_type": "code",
   "execution_count": null,
   "metadata": {},
   "outputs": [],
   "source": [
    "test_q_1()"
   ]
  },
  {
   "cell_type": "markdown",
   "metadata": {},
   "source": [
    "#### answer"
   ]
  },
  {
   "cell_type": "code",
   "execution_count": null,
   "metadata": {},
   "outputs": [],
   "source": [
    "q_1(load_data())"
   ]
  },
  {
   "cell_type": "markdown",
   "metadata": {},
   "source": [
    "## part 2\n",
    "\n",
    "### problem statement:"
   ]
  },
  {
   "cell_type": "markdown",
   "metadata": {},
   "source": [
    "#### function def"
   ]
  },
  {
   "cell_type": "code",
   "execution_count": null,
   "metadata": {},
   "outputs": [],
   "source": [
    "def q_2(intcode_program):\n",
    "    return q_1(intcode_program,\n",
    "               phases=range(5, 10),\n",
    "               with_feedback_loop=True)"
   ]
  },
  {
   "cell_type": "markdown",
   "metadata": {},
   "source": [
    "#### tests"
   ]
  },
  {
   "cell_type": "code",
   "execution_count": null,
   "metadata": {},
   "outputs": [],
   "source": [
    "def test_q_2():\n",
    "    LOGGER.setLevel(logging.DEBUG)\n",
    "    LOGGER.warning('intcode_computer tests')\n",
    "    assert list(A.compute_intcode([1002, 4, 3, 4, 33])) == []\n",
    "    \n",
    "    LOGGER.warning('apply_amplifiers tests')\n",
    "    assert apply_amplifiers(intcode_program=[3,26,1001,26,-4,26,3,27,1002,27,2,27,1,27,26,\n",
    "                                             27,4,27,1001,28,-1,28,1005,28,6,99,0,0,5],\n",
    "                            phase_settings=[9, 8, 7, 6, 5],\n",
    "                            with_feedback_loop=True) == 139_629_729\n",
    "    assert apply_amplifiers(intcode_program=[3,52,1001,52,-5,52,3,53,1,52,56,54,1007,54,5,55,1005,55,26,1001,54,\n",
    "                                             -5,54,1105,1,12,1,53,54,53,1008,54,0,55,1001,55,1,55,2,53,55,53,4,\n",
    "                                             53,1001,56,-1,56,1005,56,6,99,0,0,0,0,10],\n",
    "                            phase_settings=[9, 7, 8, 5, 6],\n",
    "                            with_feedback_loop=True) == 18_216\n",
    "    \n",
    "    LOGGER.setLevel(logging.WARN)"
   ]
  },
  {
   "cell_type": "code",
   "execution_count": null,
   "metadata": {
    "scrolled": true
   },
   "outputs": [],
   "source": [
    "test_q_2()"
   ]
  },
  {
   "cell_type": "markdown",
   "metadata": {},
   "source": [
    "#### answer"
   ]
  },
  {
   "cell_type": "code",
   "execution_count": null,
   "metadata": {
    "scrolled": true
   },
   "outputs": [],
   "source": [
    "q_2(load_data())"
   ]
  },
  {
   "cell_type": "markdown",
   "metadata": {},
   "source": [
    "fin"
   ]
  }
 ],
 "metadata": {
  "kernelspec": {
   "display_name": "Python 3",
   "language": "python",
   "name": "python3"
  },
  "language_info": {
   "codemirror_mode": {
    "name": "ipython",
    "version": 3
   },
   "file_extension": ".py",
   "mimetype": "text/x-python",
   "name": "python",
   "nbconvert_exporter": "python",
   "pygments_lexer": "ipython3",
   "version": "3.7.3"
  },
  "toc": {
   "base_numbering": 1,
   "nav_menu": {},
   "number_sections": true,
   "sideBar": true,
   "skip_h1_title": false,
   "title_cell": "Table of Contents",
   "title_sidebar": "Contents",
   "toc_cell": false,
   "toc_position": {},
   "toc_section_display": true,
   "toc_window_display": false
  }
 },
 "nbformat": 4,
 "nbformat_minor": 2
}
