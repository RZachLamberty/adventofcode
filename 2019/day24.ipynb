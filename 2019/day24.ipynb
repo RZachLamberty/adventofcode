{
 "cells": [
  {
   "cell_type": "markdown",
   "metadata": {},
   "source": [
    "# day 24\n",
    "\n",
    "https://adventofcode.com/2019/day/24"
   ]
  },
  {
   "cell_type": "code",
   "execution_count": 1,
   "metadata": {},
   "outputs": [],
   "source": [
    "import logging\n",
    "import logging.config\n",
    "import os\n",
    "\n",
    "import yaml"
   ]
  },
  {
   "cell_type": "code",
   "execution_count": 2,
   "metadata": {},
   "outputs": [],
   "source": [
    "with open('../logging.yaml') as fp:\n",
    "    logging_config = yaml.load(fp, Loader=yaml.FullLoader)\n",
    "\n",
    "logging.config.dictConfig(logging_config)"
   ]
  },
  {
   "cell_type": "code",
   "execution_count": 3,
   "metadata": {},
   "outputs": [],
   "source": [
    "FNAME = os.path.join('data', 'day24.txt')\n",
    "\n",
    "LOGGER = logging.getLogger('day24')"
   ]
  },
  {
   "cell_type": "markdown",
   "metadata": {},
   "source": [
    "## part 1\n",
    "\n",
    "### problem statement:"
   ]
  },
  {
   "cell_type": "markdown",
   "metadata": {},
   "source": [
    "#### loading data"
   ]
  },
  {
   "cell_type": "code",
   "execution_count": 7,
   "metadata": {},
   "outputs": [],
   "source": [
    "test_data = \"\"\"....#\n",
    "#..#.\n",
    "#..##\n",
    "..#..\n",
    "#....\"\"\"\n",
    "test_answer = 2129920"
   ]
  },
  {
   "cell_type": "code",
   "execution_count": 8,
   "metadata": {},
   "outputs": [],
   "source": [
    "def load_data(fname=FNAME):\n",
    "    with open(fname) as fp:\n",
    "        return fp.read().strip()"
   ]
  },
  {
   "cell_type": "code",
   "execution_count": 10,
   "metadata": {},
   "outputs": [
    {
     "name": "stdout",
     "output_type": "stream",
     "text": [
      "#..##\n",
      "#.#..\n",
      "#...#\n",
      "##..#\n",
      "#..##\n"
     ]
    }
   ],
   "source": [
    "print(load_data())"
   ]
  },
  {
   "cell_type": "markdown",
   "metadata": {},
   "source": [
    "#### function def"
   ]
  },
  {
   "cell_type": "code",
   "execution_count": 25,
   "metadata": {},
   "outputs": [],
   "source": [
    "SPACE = 0\n",
    "BUG = 1\n",
    "\n",
    "SPACE_CHAR = '.'\n",
    "BUG_CHAR = '#'\n",
    "\n",
    "def parse_map(s):\n",
    "    return {(i + 1j * j): SPACE if c == SPACE_CHAR else BUG\n",
    "            for (i, row) in enumerate(s.split('\\n'))\n",
    "            for (j, c) in enumerate(row)}"
   ]
  },
  {
   "cell_type": "code",
   "execution_count": 42,
   "metadata": {},
   "outputs": [],
   "source": [
    "def step(g):\n",
    "    new_g = {}\n",
    "    for (k, v) in g.items():\n",
    "        num_bug_neighbors = sum(g.get(k + delta, SPACE) == BUG\n",
    "                                for delta in [+1, -1, +1j, -1j])\n",
    "        if v == BUG and num_bug_neighbors != 1:\n",
    "            new_g[k] = SPACE\n",
    "        elif v == SPACE and num_bug_neighbors in [1, 2]:\n",
    "            new_g[k] = BUG\n",
    "        else:\n",
    "            new_g[k] = v\n",
    "    return new_g"
   ]
  },
  {
   "cell_type": "code",
   "execution_count": 43,
   "metadata": {},
   "outputs": [],
   "source": [
    "def map_to_str(g):\n",
    "    s = ''\n",
    "    for i in range(5):\n",
    "        for j in range(5):\n",
    "            k = i + (1j * j)\n",
    "            s += BUG_CHAR if g[k] == BUG else SPACE_CHAR\n",
    "        s += '\\n'\n",
    "    return s"
   ]
  },
  {
   "cell_type": "code",
   "execution_count": 44,
   "metadata": {},
   "outputs": [
    {
     "name": "stdout",
     "output_type": "stream",
     "text": [
      "....#\n",
      "#..#.\n",
      "#..##\n",
      "..#..\n",
      "#....\n",
      "\n"
     ]
    }
   ],
   "source": [
    "g = parse_map(test_data)\n",
    "print(map_to_str(g))"
   ]
  },
  {
   "cell_type": "code",
   "execution_count": 45,
   "metadata": {},
   "outputs": [
    {
     "name": "stdout",
     "output_type": "stream",
     "text": [
      "#..#.\n",
      "####.\n",
      "###.#\n",
      "##.##\n",
      ".##..\n",
      "\n"
     ]
    }
   ],
   "source": [
    "g = step(g)\n",
    "print(map_to_str(g))"
   ]
  },
  {
   "cell_type": "code",
   "execution_count": 49,
   "metadata": {},
   "outputs": [],
   "source": [
    "def hashable(g):\n",
    "    return tuple(g.items())"
   ]
  },
  {
   "cell_type": "code",
   "execution_count": 54,
   "metadata": {},
   "outputs": [],
   "source": [
    "def q_1(data):\n",
    "    g = parse_map(data)\n",
    "    seen_grids = set(hashable(g))\n",
    "    while True:\n",
    "        g = step(g)\n",
    "        hg = hashable(g)\n",
    "        if hg in seen_grids:\n",
    "            return sum(2 ** (5 * k.real + k.imag)\n",
    "                       for (k, v) in g.items()\n",
    "                       if v == BUG)\n",
    "        else:\n",
    "            seen_grids.add(hg)"
   ]
  },
  {
   "cell_type": "markdown",
   "metadata": {},
   "source": [
    "#### tests"
   ]
  },
  {
   "cell_type": "code",
   "execution_count": 55,
   "metadata": {},
   "outputs": [],
   "source": [
    "def test_q_1():\n",
    "    LOGGER.setLevel(logging.DEBUG)\n",
    "    assert q_1(test_data) == test_answer\n",
    "    LOGGER.setLevel(logging.INFO)"
   ]
  },
  {
   "cell_type": "code",
   "execution_count": 56,
   "metadata": {},
   "outputs": [],
   "source": [
    "test_q_1()"
   ]
  },
  {
   "cell_type": "markdown",
   "metadata": {},
   "source": [
    "#### answer"
   ]
  },
  {
   "cell_type": "code",
   "execution_count": 57,
   "metadata": {},
   "outputs": [
    {
     "data": {
      "text/plain": [
       "30446641.0"
      ]
     },
     "execution_count": 57,
     "metadata": {},
     "output_type": "execute_result"
    }
   ],
   "source": [
    "q_1(load_data())"
   ]
  },
  {
   "cell_type": "markdown",
   "metadata": {},
   "source": [
    "## part 2\n",
    "\n",
    "### problem statement:"
   ]
  },
  {
   "cell_type": "markdown",
   "metadata": {},
   "source": [
    "#### function def"
   ]
  },
  {
   "cell_type": "code",
   "execution_count": 78,
   "metadata": {},
   "outputs": [],
   "source": [
    "from collections import defaultdict, namedtuple\n",
    "\n",
    "GridLoc = namedtuple('GridLoc', ['ij', 'level'])"
   ]
  },
  {
   "cell_type": "code",
   "execution_count": 82,
   "metadata": {},
   "outputs": [],
   "source": [
    "import functools"
   ]
  },
  {
   "cell_type": "code",
   "execution_count": 109,
   "metadata": {},
   "outputs": [],
   "source": [
    "UP = -1\n",
    "DOWN = 1\n",
    "LEFT = -1j\n",
    "RIGHT = 1j\n",
    "\n",
    "@functools.lru_cache()\n",
    "def _smart(gl):\n",
    "    LOGGER.info(f'gl.ij = {gl.ij}')\n",
    "    # the four outer walls\n",
    "    if gl.ij.real < 0:\n",
    "        return [GridLoc(1 + 2j, gl.level + 1)]\n",
    "    elif gl.ij.real > 4:\n",
    "        return [GridLoc(3 + 2j, gl.level + 1)]\n",
    "    elif gl.ij.imag < 0:\n",
    "        return [GridLoc(2 + 1j, gl.level + 1)]\n",
    "    elif gl.ij.imag > 4:\n",
    "        return [GridLoc(2 + 3j, gl.level + 1)]\n",
    "    # the four inner walls\n",
    "    elif gl.ij == 1 + 2j:\n",
    "        return [GridLoc(0 + 1j * j, gl.level - 1)\n",
    "                for j in range(5)]\n",
    "    elif gl.ij == 3 + 2j:\n",
    "        return [GridLoc(4 + 1j * j, gl.level - 1)\n",
    "                for j in range(5)]\n",
    "    elif gl.ij == 2 + 1j:\n",
    "        return [GridLoc(i, gl.level - 1)\n",
    "                for i in range(5)]\n",
    "    elif gl.ij == 2 + 3j:\n",
    "        return [GridLoc(i + 4j, gl.level - 1)\n",
    "                for i in range(5)]\n",
    "    else:\n",
    "        return [gl]\n",
    "\n",
    "@functools.lru_cache()\n",
    "def get_neighbors(gl):\n",
    "    return [nbr\n",
    "            for direction in [UP, DOWN, LEFT, RIGHT]\n",
    "            for nbr in _smart(GridLoc(gl.ij + direction, gl.level))]"
   ]
  },
  {
   "cell_type": "code",
   "execution_count": 110,
   "metadata": {},
   "outputs": [
    {
     "name": "stdout",
     "output_type": "stream",
     "text": [
      "\u001b[01;37m2019-12-24 00:58:04,653 INFO     [day24._smart:8] gl.ij = (2+3j)\u001b[0m\n",
      "\u001b[01;37m2019-12-24 00:58:04,654 INFO     [day24._smart:8] gl.ij = (4+3j)\u001b[0m\n",
      "\u001b[01;37m2019-12-24 00:58:04,655 INFO     [day24._smart:8] gl.ij = (3+2j)\u001b[0m\n",
      "\u001b[01;37m2019-12-24 00:58:04,657 INFO     [day24._smart:8] gl.ij = (3+4j)\u001b[0m\n"
     ]
    },
    {
     "data": {
      "text/plain": [
       "[GridLoc(ij=4j, level=0),\n",
       " GridLoc(ij=(1+4j), level=0),\n",
       " GridLoc(ij=(2+4j), level=0),\n",
       " GridLoc(ij=(3+4j), level=0),\n",
       " GridLoc(ij=(4+4j), level=0),\n",
       " GridLoc(ij=(4+3j), level=1),\n",
       " GridLoc(ij=(4+0j), level=0),\n",
       " GridLoc(ij=(4+1j), level=0),\n",
       " GridLoc(ij=(4+2j), level=0),\n",
       " GridLoc(ij=(4+3j), level=0),\n",
       " GridLoc(ij=(4+4j), level=0),\n",
       " GridLoc(ij=(3+4j), level=1)]"
      ]
     },
     "execution_count": 110,
     "metadata": {},
     "output_type": "execute_result"
    }
   ],
   "source": [
    "get_neighbors(GridLoc(3 + 3j, 1))"
   ]
  },
  {
   "cell_type": "code",
   "execution_count": 102,
   "metadata": {},
   "outputs": [],
   "source": [
    "CENTER_IJ = 2 + 2j\n",
    "\n",
    "def q_2(data):\n",
    "    grid = defaultdict(int)\n",
    "    \n",
    "    # parse the starting grid\n",
    "    for ij, c in parse_map(data).items():\n",
    "        if ij != CENTER_IJ:\n",
    "            grid[ij] = c\n",
    "\n",
    "    return grid"
   ]
  },
  {
   "cell_type": "code",
   "execution_count": 73,
   "metadata": {},
   "outputs": [],
   "source": [
    "grid = q_2(load_data())"
   ]
  },
  {
   "cell_type": "code",
   "execution_count": 74,
   "metadata": {},
   "outputs": [
    {
     "data": {
      "text/plain": [
       "defaultdict(int,\n",
       "            {0j: 1,\n",
       "             1j: 0,\n",
       "             2j: 0,\n",
       "             3j: 1,\n",
       "             4j: 1,\n",
       "             (1+0j): 1,\n",
       "             (1+1j): 0,\n",
       "             (1+2j): 1,\n",
       "             (1+3j): 0,\n",
       "             (1+4j): 0,\n",
       "             (2+0j): 1,\n",
       "             (2+1j): 0,\n",
       "             (2+3j): 0,\n",
       "             (2+4j): 1,\n",
       "             (3+0j): 1,\n",
       "             (3+1j): 1,\n",
       "             (3+2j): 0,\n",
       "             (3+3j): 0,\n",
       "             (3+4j): 1,\n",
       "             (4+0j): 1,\n",
       "             (4+1j): 0,\n",
       "             (4+2j): 0,\n",
       "             (4+3j): 1,\n",
       "             (4+4j): 1})"
      ]
     },
     "execution_count": 74,
     "metadata": {},
     "output_type": "execute_result"
    }
   ],
   "source": [
    "grid"
   ]
  },
  {
   "cell_type": "markdown",
   "metadata": {},
   "source": [
    "#### tests"
   ]
  },
  {
   "cell_type": "code",
   "execution_count": null,
   "metadata": {},
   "outputs": [],
   "source": [
    "def test_q_2():\n",
    "    LOGGER.setLevel(logging.DEBUG)\n",
    "    assert q_2(test_data) == True\n",
    "    LOGGER.setLevel(logging.INFO)"
   ]
  },
  {
   "cell_type": "code",
   "execution_count": null,
   "metadata": {
    "scrolled": true
   },
   "outputs": [],
   "source": [
    "test_q_2()"
   ]
  },
  {
   "cell_type": "markdown",
   "metadata": {},
   "source": [
    "#### answer"
   ]
  },
  {
   "cell_type": "code",
   "execution_count": null,
   "metadata": {
    "scrolled": true
   },
   "outputs": [],
   "source": [
    "q_2(load_data())"
   ]
  },
  {
   "cell_type": "markdown",
   "metadata": {},
   "source": [
    "fin"
   ]
  }
 ],
 "metadata": {
  "kernelspec": {
   "display_name": "Python 3",
   "language": "python",
   "name": "python3"
  },
  "language_info": {
   "codemirror_mode": {
    "name": "ipython",
    "version": 3
   },
   "file_extension": ".py",
   "mimetype": "text/x-python",
   "name": "python",
   "nbconvert_exporter": "python",
   "pygments_lexer": "ipython3",
   "version": "3.7.3"
  },
  "toc": {
   "base_numbering": 1,
   "nav_menu": {},
   "number_sections": true,
   "sideBar": true,
   "skip_h1_title": false,
   "title_cell": "Table of Contents",
   "title_sidebar": "Contents",
   "toc_cell": false,
   "toc_position": {},
   "toc_section_display": true,
   "toc_window_display": false
  }
 },
 "nbformat": 4,
 "nbformat_minor": 2
}
