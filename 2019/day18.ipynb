{
 "cells": [
  {
   "cell_type": "markdown",
   "metadata": {},
   "source": [
    "# day 18\n",
    "\n",
    "https://adventofcode.com/2019/day/18"
   ]
  },
  {
   "cell_type": "code",
   "execution_count": 1,
   "metadata": {},
   "outputs": [],
   "source": [
    "import logging\n",
    "import logging.config\n",
    "import os\n",
    "\n",
    "import yaml"
   ]
  },
  {
   "cell_type": "code",
   "execution_count": 2,
   "metadata": {},
   "outputs": [],
   "source": [
    "with open('../logging.yaml') as fp:\n",
    "    logging_config = yaml.load(fp, Loader=yaml.FullLoader)\n",
    "\n",
    "logging.config.dictConfig(logging_config)"
   ]
  },
  {
   "cell_type": "code",
   "execution_count": 3,
   "metadata": {},
   "outputs": [],
   "source": [
    "FNAME = os.path.join('data', 'day18.txt')\n",
    "\n",
    "LOGGER = logging.getLogger('day18')"
   ]
  },
  {
   "cell_type": "markdown",
   "metadata": {},
   "source": [
    "## part 1\n",
    "\n",
    "### problem statement:"
   ]
  },
  {
   "cell_type": "markdown",
   "metadata": {},
   "source": [
    "#### loading data"
   ]
  },
  {
   "cell_type": "code",
   "execution_count": 381,
   "metadata": {},
   "outputs": [],
   "source": [
    "test_0 = \"\"\"#########\n",
    "#b.A.@.a#\n",
    "#########\"\"\", 8\n",
    "\n",
    "test_1 = \"\"\"########################\n",
    "#f.D.E.e.C.b.A.@.a.B.c.#\n",
    "######################.#\n",
    "#d.....................#\n",
    "########################\"\"\", 86\n",
    "\n",
    "test_2 = \"\"\"########################\n",
    "#...............b.C.D.f#\n",
    "#.######################\n",
    "#.....@.a.B.c.d.A.e.F.g#\n",
    "########################\"\"\", 132\n",
    "\n",
    "test_3 = \"\"\"#################\n",
    "#i.G..c...e..H.p#\n",
    "########.########\n",
    "#j.A..b...f..D.o#\n",
    "########@########\n",
    "#k.E..a...g..B.n#\n",
    "########.########\n",
    "#l.F..d...h..C.m#\n",
    "#################\"\"\", 136\n",
    "\n",
    "test_4 = \"\"\"########################\n",
    "#@..............ac.GI.b#\n",
    "###d#e#f################\n",
    "###A#B#C################\n",
    "###g#h#i################\n",
    "########################\"\"\", 81\n",
    "\n",
    "tests = [test_0, test_1, test_2, test_3, test_4]"
   ]
  },
  {
   "cell_type": "code",
   "execution_count": 382,
   "metadata": {},
   "outputs": [],
   "source": [
    "def load_data(fname=FNAME):\n",
    "    with open(fname) as fp:\n",
    "        return fp.read()"
   ]
  },
  {
   "cell_type": "markdown",
   "metadata": {},
   "source": [
    "#### function def"
   ]
  },
  {
   "cell_type": "code",
   "execution_count": 383,
   "metadata": {},
   "outputs": [],
   "source": [
    "import string\n",
    "\n",
    "import networkx as nx\n",
    "\n",
    "WALL = '#'\n",
    "ORIGIN = '@'\n",
    "EMPTY = '.'\n",
    "\n",
    "KEYS = string.ascii_lowercase\n",
    "DOORS = string.ascii_uppercase\n",
    "\n",
    "INF = float('inf')\n",
    "\n",
    "def map_to_graph(s):\n",
    "    g = nx.Graph()\n",
    "    for (i, row) in enumerate(s.split('\\n')):\n",
    "        for (j, c) in enumerate(row):\n",
    "            if c != WALL:\n",
    "                g.add_node((i, j), c=c)\n",
    "    \n",
    "    for (i, j) in g.nodes():\n",
    "        neighbors = [(i - 1, j),\n",
    "                     (i + 1, j),\n",
    "                     (i, j - 1),\n",
    "                     (i, j + 1)]\n",
    "        for neighbor in neighbors:\n",
    "            if neighbor in g:\n",
    "                g.add_edge((i, j), neighbor)\n",
    "    return g"
   ]
  },
  {
   "cell_type": "code",
   "execution_count": 384,
   "metadata": {},
   "outputs": [],
   "source": [
    "def find_shit(g):\n",
    "    key_nodes = {}\n",
    "    door_nodes = {}\n",
    "\n",
    "    for (n, d) in g.nodes(data=True):\n",
    "        if d['c'] == ORIGIN:\n",
    "            origin_node = n\n",
    "        elif d['c'] in KEYS:\n",
    "            key_nodes[d['c']] = n\n",
    "        elif d['c'] in DOORS:\n",
    "            door_nodes[d['c']] = n\n",
    "    \n",
    "    return origin_node, key_nodes, door_nodes"
   ]
  },
  {
   "cell_type": "code",
   "execution_count": 385,
   "metadata": {},
   "outputs": [],
   "source": [
    "from collections import namedtuple\n",
    "Rule = namedtuple('Rule', 'first,then')"
   ]
  },
  {
   "cell_type": "code",
   "execution_count": 386,
   "metadata": {},
   "outputs": [],
   "source": [
    "def make_rules(g, origin_node, key_nodes, door_nodes):\n",
    "    # for each key, find the doors that must be unlocked\n",
    "    # to reach that key.\n",
    "    rules = []\n",
    "    for (key, key_node) in key_nodes.items():\n",
    "        sp = nx.shortest_path(g, origin_node, key_node)\n",
    "        for _ in sp:\n",
    "            c = g.nodes[_]['c']\n",
    "            if c in DOORS or (c in KEYS and c != key):\n",
    "                rules.append(Rule(c.lower(), key))\n",
    "    return rules"
   ]
  },
  {
   "cell_type": "code",
   "execution_count": 387,
   "metadata": {},
   "outputs": [],
   "source": [
    "def subset_obeys_rules(subset, rules):\n",
    "    idx = {c: i for (i, c) in enumerate(subset)}\n",
    "    # rules will contain the majority of the keys in the map\n",
    "    # the subset will not. we want our subset to obey all\n",
    "    # rules that apply to them exclusively, meaning we are\n",
    "    # only interested in rules where first and then are both\n",
    "    # in our subset\n",
    "    subset_rules = [r for r in rules\n",
    "                    if r.first in subset\n",
    "                    or r.then in subset]\n",
    "    return all([idx.get(rule.first, INF) < idx.get(rule.then, INF)\n",
    "                for rule in subset_rules])"
   ]
  },
  {
   "cell_type": "code",
   "execution_count": 388,
   "metadata": {},
   "outputs": [],
   "source": [
    "g0 = map_to_graph(test_0[0])\n",
    "origin_node_0, key_nodes_0, door_nodes_0 = find_shit(g0)\n",
    "rules0 = make_rules(g0, origin_node_0, key_nodes_0, door_nodes_0)"
   ]
  },
  {
   "cell_type": "code",
   "execution_count": 389,
   "metadata": {},
   "outputs": [],
   "source": [
    "assert subset_obeys_rules(('a', 'b'), rules0)\n",
    "assert not subset_obeys_rules(('b', 'a'), rules0)"
   ]
  },
  {
   "cell_type": "code",
   "execution_count": 390,
   "metadata": {},
   "outputs": [],
   "source": [
    "g1 = map_to_graph(test_1[0])\n",
    "origin_node_1, key_nodes_1, door_nodes_1 = find_shit(g1)\n",
    "rules1 = make_rules(g1, origin_node_1, key_nodes_1, door_nodes_1)\n",
    "\n",
    "# one element\n",
    "for k in 'abcdef':\n",
    "    subset = (k,)\n",
    "    assert subset_obeys_rules(subset, rules1) == (k == 'a')\n",
    "\n",
    "# other examples\n",
    "assert subset_obeys_rules(('a', 'b'), rules1)\n",
    "assert not subset_obeys_rules(('b', 'a'), rules1)\n",
    "\n",
    "assert subset_obeys_rules(('a', 'b', 'c'), rules1)\n",
    "assert not subset_obeys_rules(('a', 'c', 'b'), rules1)\n",
    "assert not subset_obeys_rules(('b', 'a', 'c'), rules1)"
   ]
  },
  {
   "cell_type": "markdown",
   "metadata": {},
   "source": [
    "now we iteratively generate acceptable subsets (like shells), excluding any subsets that violate our rules"
   ]
  },
  {
   "cell_type": "code",
   "execution_count": 412,
   "metadata": {},
   "outputs": [],
   "source": [
    "import tqdm.autonotebook as tqdm\n",
    "\n",
    "def generate_valid_paths(keys, rules):\n",
    "    keys = set(keys)\n",
    "    shell = set([tuple()])\n",
    "    for i in tqdm.trange(len(keys), leave=False):\n",
    "        #LOGGER.debug(f'i = {i}')\n",
    "        new_shell = set()\n",
    "        for valid_subset_so_far in tqdm.tqdm(shell, leave=False):\n",
    "            #LOGGER.debug(f'valid_subset_so_far = {valid_subset_so_far}')\n",
    "            next_step_choices = keys.difference(valid_subset_so_far)\n",
    "            for next_step_choice in next_step_choices:\n",
    "                #LOGGER.debug(f'next_step_choice = {next_step_choice}')\n",
    "                new_subset = valid_subset_so_far + (next_step_choice,)\n",
    "                if subset_obeys_rules(new_subset, rules):\n",
    "                    #LOGGER.debug('this works')\n",
    "                    new_shell.add(new_subset)\n",
    "        LOGGER.debug(f'found {len(new_shell)} valid new subsets of length {i + 1}')\n",
    "        shell = new_shell\n",
    "    return shell"
   ]
  },
  {
   "cell_type": "code",
   "execution_count": 413,
   "metadata": {},
   "outputs": [
    {
     "data": {
      "application/vnd.jupyter.widget-view+json": {
       "model_id": "",
       "version_major": 2,
       "version_minor": 0
      },
      "text/plain": [
       "HBox(children=(FloatProgress(value=0.0, max=2.0), HTML(value='')))"
      ]
     },
     "metadata": {},
     "output_type": "display_data"
    },
    {
     "data": {
      "application/vnd.jupyter.widget-view+json": {
       "model_id": "",
       "version_major": 2,
       "version_minor": 0
      },
      "text/plain": [
       "HBox(children=(FloatProgress(value=0.0, max=1.0), HTML(value='')))"
      ]
     },
     "metadata": {},
     "output_type": "display_data"
    },
    {
     "name": "stdout",
     "output_type": "stream",
     "text": [
      "\u001b[37m2019-12-18 23:41:55,430 DEBUG    [day18.generate_valid_paths:18] found 1 valid new subsets of length 1\u001b[0m\n"
     ]
    },
    {
     "data": {
      "application/vnd.jupyter.widget-view+json": {
       "model_id": "",
       "version_major": 2,
       "version_minor": 0
      },
      "text/plain": [
       "HBox(children=(FloatProgress(value=0.0, max=1.0), HTML(value='')))"
      ]
     },
     "metadata": {},
     "output_type": "display_data"
    },
    {
     "name": "stdout",
     "output_type": "stream",
     "text": [
      "\u001b[37m2019-12-18 23:41:55,476 DEBUG    [day18.generate_valid_paths:18] found 1 valid new subsets of length 2\u001b[0m\n"
     ]
    },
    {
     "data": {
      "text/plain": [
       "{('a', 'b')}"
      ]
     },
     "execution_count": 413,
     "metadata": {},
     "output_type": "execute_result"
    }
   ],
   "source": [
    "LOGGER.setLevel(logging.DEBUG)\n",
    "shell = generate_valid_paths(key_nodes_0, rules0)\n",
    "LOGGER.setLevel(logging.INFO)\n",
    "shell"
   ]
  },
  {
   "cell_type": "code",
   "execution_count": 414,
   "metadata": {},
   "outputs": [
    {
     "name": "stdout",
     "output_type": "stream",
     "text": [
      "########################\n",
      "#f.D.E.e.C.b.A.@.a.B.c.#\n",
      "######################.#\n",
      "#d.....................#\n",
      "########################\n"
     ]
    }
   ],
   "source": [
    "print(test_1[0])"
   ]
  },
  {
   "cell_type": "code",
   "execution_count": 415,
   "metadata": {},
   "outputs": [
    {
     "data": {
      "application/vnd.jupyter.widget-view+json": {
       "model_id": "",
       "version_major": 2,
       "version_minor": 0
      },
      "text/plain": [
       "HBox(children=(FloatProgress(value=0.0, max=6.0), HTML(value='')))"
      ]
     },
     "metadata": {},
     "output_type": "display_data"
    },
    {
     "data": {
      "application/vnd.jupyter.widget-view+json": {
       "model_id": "",
       "version_major": 2,
       "version_minor": 0
      },
      "text/plain": [
       "HBox(children=(FloatProgress(value=0.0, max=1.0), HTML(value='')))"
      ]
     },
     "metadata": {},
     "output_type": "display_data"
    },
    {
     "name": "stdout",
     "output_type": "stream",
     "text": [
      "\u001b[37m2019-12-18 23:41:57,972 DEBUG    [day18.generate_valid_paths:18] found 1 valid new subsets of length 1\u001b[0m\n"
     ]
    },
    {
     "data": {
      "application/vnd.jupyter.widget-view+json": {
       "model_id": "",
       "version_major": 2,
       "version_minor": 0
      },
      "text/plain": [
       "HBox(children=(FloatProgress(value=0.0, max=1.0), HTML(value='')))"
      ]
     },
     "metadata": {},
     "output_type": "display_data"
    },
    {
     "name": "stdout",
     "output_type": "stream",
     "text": [
      "\u001b[37m2019-12-18 23:41:58,004 DEBUG    [day18.generate_valid_paths:18] found 1 valid new subsets of length 2\u001b[0m\n"
     ]
    },
    {
     "data": {
      "application/vnd.jupyter.widget-view+json": {
       "model_id": "",
       "version_major": 2,
       "version_minor": 0
      },
      "text/plain": [
       "HBox(children=(FloatProgress(value=0.0, max=1.0), HTML(value='')))"
      ]
     },
     "metadata": {},
     "output_type": "display_data"
    },
    {
     "name": "stdout",
     "output_type": "stream",
     "text": [
      "\u001b[37m2019-12-18 23:41:58,049 DEBUG    [day18.generate_valid_paths:18] found 1 valid new subsets of length 3\u001b[0m\n"
     ]
    },
    {
     "data": {
      "application/vnd.jupyter.widget-view+json": {
       "model_id": "",
       "version_major": 2,
       "version_minor": 0
      },
      "text/plain": [
       "HBox(children=(FloatProgress(value=0.0, max=1.0), HTML(value='')))"
      ]
     },
     "metadata": {},
     "output_type": "display_data"
    },
    {
     "name": "stdout",
     "output_type": "stream",
     "text": [
      "\u001b[37m2019-12-18 23:41:58,130 DEBUG    [day18.generate_valid_paths:18] found 2 valid new subsets of length 4\u001b[0m\n"
     ]
    },
    {
     "data": {
      "application/vnd.jupyter.widget-view+json": {
       "model_id": "",
       "version_major": 2,
       "version_minor": 0
      },
      "text/plain": [
       "HBox(children=(FloatProgress(value=0.0, max=2.0), HTML(value='')))"
      ]
     },
     "metadata": {},
     "output_type": "display_data"
    },
    {
     "name": "stdout",
     "output_type": "stream",
     "text": [
      "\u001b[37m2019-12-18 23:41:58,173 DEBUG    [day18.generate_valid_paths:18] found 2 valid new subsets of length 5\u001b[0m\n"
     ]
    },
    {
     "data": {
      "application/vnd.jupyter.widget-view+json": {
       "model_id": "",
       "version_major": 2,
       "version_minor": 0
      },
      "text/plain": [
       "HBox(children=(FloatProgress(value=0.0, max=2.0), HTML(value='')))"
      ]
     },
     "metadata": {},
     "output_type": "display_data"
    },
    {
     "name": "stdout",
     "output_type": "stream",
     "text": [
      "\u001b[37m2019-12-18 23:41:58,232 DEBUG    [day18.generate_valid_paths:18] found 2 valid new subsets of length 6\u001b[0m\n"
     ]
    },
    {
     "data": {
      "text/plain": [
       "{('a', 'b', 'c', 'd', 'e', 'f'), ('a', 'b', 'c', 'e', 'd', 'f')}"
      ]
     },
     "execution_count": 415,
     "metadata": {},
     "output_type": "execute_result"
    }
   ],
   "source": [
    "LOGGER.setLevel(logging.DEBUG)\n",
    "shell = generate_valid_paths(key_nodes_1, rules1)\n",
    "LOGGER.setLevel(logging.INFO)\n",
    "shell"
   ]
  },
  {
   "cell_type": "code",
   "execution_count": 416,
   "metadata": {},
   "outputs": [],
   "source": [
    "def key_path_length(g, key_order, origin_node, key_nodes):\n",
    "    n0 = origin_node\n",
    "    pl = 0\n",
    "\n",
    "    for key in key_order:\n",
    "        n1 = key_nodes[key]\n",
    "        p = nx.shortest_path_length(g, n0, n1)\n",
    "        LOGGER.debug(f\"dist from {g.nodes[n0]['c']} to {g.nodes[n1]['c']} is {p}\")\n",
    "        pl += p\n",
    "        n0 = n1\n",
    "    \n",
    "    LOGGER.debug(f'key_order = {key_order}')\n",
    "    LOGGER.debug(f'path lenght = {pl}')\n",
    "    return pl"
   ]
  },
  {
   "cell_type": "code",
   "execution_count": 417,
   "metadata": {},
   "outputs": [],
   "source": [
    "def q_1(data):\n",
    "    g = map_to_graph(data)\n",
    "    origin_node, key_nodes, door_nodes = find_shit(g)\n",
    "    rules = make_rules(g, origin_node, key_nodes, door_nodes)\n",
    "    \n",
    "    best_path = None\n",
    "    best_path_length = INF\n",
    "    for valid_path in generate_valid_paths(key_nodes, rules):\n",
    "        kpl = key_path_length(g, valid_path, origin_node, key_nodes)\n",
    "        if kpl < best_path_length:\n",
    "            best_path = valid_path\n",
    "            best_path_length = kpl\n",
    "    \n",
    "    LOGGER.info(f'best key sequence: {best_path}')\n",
    "    return best_path_length"
   ]
  },
  {
   "cell_type": "raw",
   "metadata": {},
   "source": [
    "def get_path_len(g, key_order, key_nodes, origin_node):\n",
    "    n0 = origin_node\n",
    "    pl = 0\n",
    "    keys_acquired = set()\n",
    "    for (key_idx, key) in enumerate(key_order):\n",
    "        n1 = key_nodes[key]\n",
    "        sp = nx.shortest_path(g, n0, n1)\n",
    "        doors_on_sp = {g.nodes[_]['c'] for _ in sp}.intersection(DOORS)\n",
    "        keys_needed = {_.lower() for _ in doors_on_sp}\n",
    "        if keys_needed.difference(keys_acquired):\n",
    "            return INF\n",
    "        else:\n",
    "            LOGGER.debug(f'sp = {sp}')\n",
    "            pl += len(sp) - 1\n",
    "            keys_acquired.add(key)\n",
    "            n0 = n1\n",
    "    return pl"
   ]
  },
  {
   "cell_type": "markdown",
   "metadata": {},
   "source": [
    "#### tests"
   ]
  },
  {
   "cell_type": "code",
   "execution_count": 418,
   "metadata": {},
   "outputs": [],
   "source": [
    "def test_q_1():\n",
    "    LOGGER.setLevel(logging.DEBUG)\n",
    "    for test_map, ans in tests:\n",
    "        LOGGER.info(f'\\n{test_map}')\n",
    "        assert q_1(test_map) == ans\n",
    "    LOGGER.setLevel(logging.INFO)"
   ]
  },
  {
   "cell_type": "code",
   "execution_count": 419,
   "metadata": {
    "scrolled": false
   },
   "outputs": [
    {
     "name": "stdout",
     "output_type": "stream",
     "text": [
      "\u001b[01;37m2019-12-18 23:42:04,162 INFO     [day18.test_q_1:4] \n",
      "#########\n",
      "#b.A.@.a#\n",
      "#########\u001b[0m\n"
     ]
    },
    {
     "data": {
      "application/vnd.jupyter.widget-view+json": {
       "model_id": "",
       "version_major": 2,
       "version_minor": 0
      },
      "text/plain": [
       "HBox(children=(FloatProgress(value=0.0, max=2.0), HTML(value='')))"
      ]
     },
     "metadata": {},
     "output_type": "display_data"
    },
    {
     "data": {
      "application/vnd.jupyter.widget-view+json": {
       "model_id": "",
       "version_major": 2,
       "version_minor": 0
      },
      "text/plain": [
       "HBox(children=(FloatProgress(value=0.0, max=1.0), HTML(value='')))"
      ]
     },
     "metadata": {},
     "output_type": "display_data"
    },
    {
     "name": "stdout",
     "output_type": "stream",
     "text": [
      "\u001b[37m2019-12-18 23:42:04,294 DEBUG    [day18.generate_valid_paths:18] found 1 valid new subsets of length 1\u001b[0m\n"
     ]
    },
    {
     "data": {
      "application/vnd.jupyter.widget-view+json": {
       "model_id": "",
       "version_major": 2,
       "version_minor": 0
      },
      "text/plain": [
       "HBox(children=(FloatProgress(value=0.0, max=1.0), HTML(value='')))"
      ]
     },
     "metadata": {},
     "output_type": "display_data"
    },
    {
     "name": "stdout",
     "output_type": "stream",
     "text": [
      "\u001b[37m2019-12-18 23:42:04,325 DEBUG    [day18.generate_valid_paths:18] found 1 valid new subsets of length 2\u001b[0m\n",
      "\u001b[37m2019-12-18 23:42:04,334 DEBUG    [day18.key_path_length:8] dist from @ to a is 2\u001b[0m\n",
      "\u001b[37m2019-12-18 23:42:04,336 DEBUG    [day18.key_path_length:8] dist from a to b is 6\u001b[0m\n",
      "\u001b[37m2019-12-18 23:42:04,336 DEBUG    [day18.key_path_length:12] key_order = ('a', 'b')\u001b[0m\n",
      "\u001b[37m2019-12-18 23:42:04,339 DEBUG    [day18.key_path_length:13] path lenght = 8\u001b[0m\n",
      "\u001b[01;37m2019-12-18 23:42:04,359 INFO     [day18.q_1:14] best key sequence: ('a', 'b')\u001b[0m\n",
      "\u001b[01;37m2019-12-18 23:42:04,363 INFO     [day18.test_q_1:4] \n",
      "########################\n",
      "#f.D.E.e.C.b.A.@.a.B.c.#\n",
      "######################.#\n",
      "#d.....................#\n",
      "########################\u001b[0m\n"
     ]
    },
    {
     "data": {
      "application/vnd.jupyter.widget-view+json": {
       "model_id": "",
       "version_major": 2,
       "version_minor": 0
      },
      "text/plain": [
       "HBox(children=(FloatProgress(value=0.0, max=6.0), HTML(value='')))"
      ]
     },
     "metadata": {},
     "output_type": "display_data"
    },
    {
     "data": {
      "application/vnd.jupyter.widget-view+json": {
       "model_id": "",
       "version_major": 2,
       "version_minor": 0
      },
      "text/plain": [
       "HBox(children=(FloatProgress(value=0.0, max=1.0), HTML(value='')))"
      ]
     },
     "metadata": {},
     "output_type": "display_data"
    },
    {
     "name": "stdout",
     "output_type": "stream",
     "text": [
      "\u001b[37m2019-12-18 23:42:04,433 DEBUG    [day18.generate_valid_paths:18] found 1 valid new subsets of length 1\u001b[0m\n"
     ]
    },
    {
     "data": {
      "application/vnd.jupyter.widget-view+json": {
       "model_id": "",
       "version_major": 2,
       "version_minor": 0
      },
      "text/plain": [
       "HBox(children=(FloatProgress(value=0.0, max=1.0), HTML(value='')))"
      ]
     },
     "metadata": {},
     "output_type": "display_data"
    },
    {
     "name": "stdout",
     "output_type": "stream",
     "text": [
      "\u001b[37m2019-12-18 23:42:04,460 DEBUG    [day18.generate_valid_paths:18] found 1 valid new subsets of length 2\u001b[0m\n"
     ]
    },
    {
     "data": {
      "application/vnd.jupyter.widget-view+json": {
       "model_id": "",
       "version_major": 2,
       "version_minor": 0
      },
      "text/plain": [
       "HBox(children=(FloatProgress(value=0.0, max=1.0), HTML(value='')))"
      ]
     },
     "metadata": {},
     "output_type": "display_data"
    },
    {
     "name": "stdout",
     "output_type": "stream",
     "text": [
      "\u001b[37m2019-12-18 23:42:04,481 DEBUG    [day18.generate_valid_paths:18] found 1 valid new subsets of length 3\u001b[0m\n"
     ]
    },
    {
     "data": {
      "application/vnd.jupyter.widget-view+json": {
       "model_id": "",
       "version_major": 2,
       "version_minor": 0
      },
      "text/plain": [
       "HBox(children=(FloatProgress(value=0.0, max=1.0), HTML(value='')))"
      ]
     },
     "metadata": {},
     "output_type": "display_data"
    },
    {
     "name": "stdout",
     "output_type": "stream",
     "text": [
      "\u001b[37m2019-12-18 23:42:04,550 DEBUG    [day18.generate_valid_paths:18] found 2 valid new subsets of length 4\u001b[0m\n"
     ]
    },
    {
     "data": {
      "application/vnd.jupyter.widget-view+json": {
       "model_id": "",
       "version_major": 2,
       "version_minor": 0
      },
      "text/plain": [
       "HBox(children=(FloatProgress(value=0.0, max=2.0), HTML(value='')))"
      ]
     },
     "metadata": {},
     "output_type": "display_data"
    },
    {
     "name": "stdout",
     "output_type": "stream",
     "text": [
      "\u001b[37m2019-12-18 23:42:04,612 DEBUG    [day18.generate_valid_paths:18] found 2 valid new subsets of length 5\u001b[0m\n"
     ]
    },
    {
     "data": {
      "application/vnd.jupyter.widget-view+json": {
       "model_id": "",
       "version_major": 2,
       "version_minor": 0
      },
      "text/plain": [
       "HBox(children=(FloatProgress(value=0.0, max=2.0), HTML(value='')))"
      ]
     },
     "metadata": {},
     "output_type": "display_data"
    },
    {
     "name": "stdout",
     "output_type": "stream",
     "text": [
      "\u001b[37m2019-12-18 23:42:04,659 DEBUG    [day18.generate_valid_paths:18] found 2 valid new subsets of length 6\u001b[0m\n",
      "\u001b[37m2019-12-18 23:42:04,667 DEBUG    [day18.key_path_length:8] dist from @ to a is 2\u001b[0m\n",
      "\u001b[37m2019-12-18 23:42:04,669 DEBUG    [day18.key_path_length:8] dist from a to b is 6\u001b[0m\n",
      "\u001b[37m2019-12-18 23:42:04,672 DEBUG    [day18.key_path_length:8] dist from b to c is 10\u001b[0m\n",
      "\u001b[37m2019-12-18 23:42:04,675 DEBUG    [day18.key_path_length:8] dist from c to e is 14\u001b[0m\n",
      "\u001b[37m2019-12-18 23:42:04,677 DEBUG    [day18.key_path_length:8] dist from e to d is 38\u001b[0m\n",
      "\u001b[37m2019-12-18 23:42:04,679 DEBUG    [day18.key_path_length:8] dist from d to f is 44\u001b[0m\n",
      "\u001b[37m2019-12-18 23:42:04,681 DEBUG    [day18.key_path_length:12] key_order = ('a', 'b', 'c', 'e', 'd', 'f')\u001b[0m\n",
      "\u001b[37m2019-12-18 23:42:04,683 DEBUG    [day18.key_path_length:13] path lenght = 114\u001b[0m\n",
      "\u001b[37m2019-12-18 23:42:04,685 DEBUG    [day18.key_path_length:8] dist from @ to a is 2\u001b[0m\n",
      "\u001b[37m2019-12-18 23:42:04,686 DEBUG    [day18.key_path_length:8] dist from a to b is 6\u001b[0m\n",
      "\u001b[37m2019-12-18 23:42:04,687 DEBUG    [day18.key_path_length:8] dist from b to c is 10\u001b[0m\n",
      "\u001b[37m2019-12-18 23:42:04,688 DEBUG    [day18.key_path_length:8] dist from c to d is 24\u001b[0m\n",
      "\u001b[37m2019-12-18 23:42:04,689 DEBUG    [day18.key_path_length:8] dist from d to e is 38\u001b[0m\n",
      "\u001b[37m2019-12-18 23:42:04,691 DEBUG    [day18.key_path_length:8] dist from e to f is 6\u001b[0m\n",
      "\u001b[37m2019-12-18 23:42:04,694 DEBUG    [day18.key_path_length:12] key_order = ('a', 'b', 'c', 'd', 'e', 'f')\u001b[0m\n",
      "\u001b[37m2019-12-18 23:42:04,696 DEBUG    [day18.key_path_length:13] path lenght = 86\u001b[0m\n",
      "\u001b[01;37m2019-12-18 23:42:04,697 INFO     [day18.q_1:14] best key sequence: ('a', 'b', 'c', 'd', 'e', 'f')\u001b[0m\n",
      "\u001b[01;37m2019-12-18 23:42:04,699 INFO     [day18.test_q_1:4] \n",
      "########################\n",
      "#...............b.C.D.f#\n",
      "#.######################\n",
      "#.....@.a.B.c.d.A.e.F.g#\n",
      "########################\u001b[0m\n"
     ]
    },
    {
     "data": {
      "application/vnd.jupyter.widget-view+json": {
       "model_id": "",
       "version_major": 2,
       "version_minor": 0
      },
      "text/plain": [
       "HBox(children=(FloatProgress(value=0.0, max=7.0), HTML(value='')))"
      ]
     },
     "metadata": {},
     "output_type": "display_data"
    },
    {
     "data": {
      "application/vnd.jupyter.widget-view+json": {
       "model_id": "",
       "version_major": 2,
       "version_minor": 0
      },
      "text/plain": [
       "HBox(children=(FloatProgress(value=0.0, max=1.0), HTML(value='')))"
      ]
     },
     "metadata": {},
     "output_type": "display_data"
    },
    {
     "name": "stdout",
     "output_type": "stream",
     "text": [
      "\u001b[37m2019-12-18 23:42:04,775 DEBUG    [day18.generate_valid_paths:18] found 2 valid new subsets of length 1\u001b[0m\n"
     ]
    },
    {
     "data": {
      "application/vnd.jupyter.widget-view+json": {
       "model_id": "",
       "version_major": 2,
       "version_minor": 0
      },
      "text/plain": [
       "HBox(children=(FloatProgress(value=0.0, max=2.0), HTML(value='')))"
      ]
     },
     "metadata": {},
     "output_type": "display_data"
    },
    {
     "name": "stdout",
     "output_type": "stream",
     "text": [
      "\u001b[37m2019-12-18 23:42:04,812 DEBUG    [day18.generate_valid_paths:18] found 2 valid new subsets of length 2\u001b[0m\n"
     ]
    },
    {
     "data": {
      "application/vnd.jupyter.widget-view+json": {
       "model_id": "",
       "version_major": 2,
       "version_minor": 0
      },
      "text/plain": [
       "HBox(children=(FloatProgress(value=0.0, max=2.0), HTML(value='')))"
      ]
     },
     "metadata": {},
     "output_type": "display_data"
    },
    {
     "name": "stdout",
     "output_type": "stream",
     "text": [
      "\u001b[37m2019-12-18 23:42:04,852 DEBUG    [day18.generate_valid_paths:18] found 2 valid new subsets of length 3\u001b[0m\n"
     ]
    },
    {
     "data": {
      "application/vnd.jupyter.widget-view+json": {
       "model_id": "",
       "version_major": 2,
       "version_minor": 0
      },
      "text/plain": [
       "HBox(children=(FloatProgress(value=0.0, max=2.0), HTML(value='')))"
      ]
     },
     "metadata": {},
     "output_type": "display_data"
    },
    {
     "name": "stdout",
     "output_type": "stream",
     "text": [
      "\u001b[37m2019-12-18 23:42:04,893 DEBUG    [day18.generate_valid_paths:18] found 2 valid new subsets of length 4\u001b[0m\n"
     ]
    },
    {
     "data": {
      "application/vnd.jupyter.widget-view+json": {
       "model_id": "",
       "version_major": 2,
       "version_minor": 0
      },
      "text/plain": [
       "HBox(children=(FloatProgress(value=0.0, max=2.0), HTML(value='')))"
      ]
     },
     "metadata": {},
     "output_type": "display_data"
    },
    {
     "name": "stdout",
     "output_type": "stream",
     "text": [
      "\u001b[37m2019-12-18 23:42:04,939 DEBUG    [day18.generate_valid_paths:18] found 4 valid new subsets of length 5\u001b[0m\n"
     ]
    },
    {
     "data": {
      "application/vnd.jupyter.widget-view+json": {
       "model_id": "",
       "version_major": 2,
       "version_minor": 0
      },
      "text/plain": [
       "HBox(children=(FloatProgress(value=0.0, max=4.0), HTML(value='')))"
      ]
     },
     "metadata": {},
     "output_type": "display_data"
    },
    {
     "name": "stdout",
     "output_type": "stream",
     "text": [
      "\u001b[37m2019-12-18 23:42:04,982 DEBUG    [day18.generate_valid_paths:18] found 4 valid new subsets of length 6\u001b[0m\n"
     ]
    },
    {
     "data": {
      "application/vnd.jupyter.widget-view+json": {
       "model_id": "",
       "version_major": 2,
       "version_minor": 0
      },
      "text/plain": [
       "HBox(children=(FloatProgress(value=0.0, max=4.0), HTML(value='')))"
      ]
     },
     "metadata": {},
     "output_type": "display_data"
    },
    {
     "name": "stdout",
     "output_type": "stream",
     "text": [
      "\u001b[37m2019-12-18 23:42:05,032 DEBUG    [day18.generate_valid_paths:18] found 4 valid new subsets of length 7\u001b[0m\n",
      "\u001b[37m2019-12-18 23:42:05,051 DEBUG    [day18.key_path_length:8] dist from @ to b is 22\u001b[0m\n",
      "\u001b[37m2019-12-18 23:42:05,053 DEBUG    [day18.key_path_length:8] dist from b to a is 24\u001b[0m\n",
      "\u001b[37m2019-12-18 23:42:05,054 DEBUG    [day18.key_path_length:8] dist from a to c is 4\u001b[0m\n",
      "\u001b[37m2019-12-18 23:42:05,055 DEBUG    [day18.key_path_length:8] dist from c to d is 2\u001b[0m\n",
      "\u001b[37m2019-12-18 23:42:05,056 DEBUG    [day18.key_path_length:8] dist from d to f is 36\u001b[0m\n",
      "\u001b[37m2019-12-18 23:42:05,064 DEBUG    [day18.key_path_length:8] dist from f to e is 40\u001b[0m\n",
      "\u001b[37m2019-12-18 23:42:05,066 DEBUG    [day18.key_path_length:8] dist from e to g is 4\u001b[0m\n",
      "\u001b[37m2019-12-18 23:42:05,083 DEBUG    [day18.key_path_length:12] key_order = ('b', 'a', 'c', 'd', 'f', 'e', 'g')\u001b[0m\n",
      "\u001b[37m2019-12-18 23:42:05,090 DEBUG    [day18.key_path_length:13] path lenght = 132\u001b[0m\n",
      "\u001b[37m2019-12-18 23:42:05,092 DEBUG    [day18.key_path_length:8] dist from @ to a is 2\u001b[0m\n",
      "\u001b[37m2019-12-18 23:42:05,095 DEBUG    [day18.key_path_length:8] dist from a to b is 24\u001b[0m\n",
      "\u001b[37m2019-12-18 23:42:05,099 DEBUG    [day18.key_path_length:8] dist from b to c is 28\u001b[0m\n",
      "\u001b[37m2019-12-18 23:42:05,104 DEBUG    [day18.key_path_length:8] dist from c to d is 2\u001b[0m\n",
      "\u001b[37m2019-12-18 23:42:05,105 DEBUG    [day18.key_path_length:8] dist from d to f is 36\u001b[0m\n",
      "\u001b[37m2019-12-18 23:42:05,108 DEBUG    [day18.key_path_length:8] dist from f to e is 40\u001b[0m\n",
      "\u001b[37m2019-12-18 23:42:05,112 DEBUG    [day18.key_path_length:8] dist from e to g is 4\u001b[0m\n",
      "\u001b[37m2019-12-18 23:42:05,117 DEBUG    [day18.key_path_length:12] key_order = ('a', 'b', 'c', 'd', 'f', 'e', 'g')\u001b[0m\n",
      "\u001b[37m2019-12-18 23:42:05,119 DEBUG    [day18.key_path_length:13] path lenght = 136\u001b[0m\n",
      "\u001b[37m2019-12-18 23:42:05,121 DEBUG    [day18.key_path_length:8] dist from @ to b is 22\u001b[0m\n",
      "\u001b[37m2019-12-18 23:42:05,124 DEBUG    [day18.key_path_length:8] dist from b to a is 24\u001b[0m\n",
      "\u001b[37m2019-12-18 23:42:05,125 DEBUG    [day18.key_path_length:8] dist from a to c is 4\u001b[0m\n",
      "\u001b[37m2019-12-18 23:42:05,127 DEBUG    [day18.key_path_length:8] dist from c to d is 2\u001b[0m\n",
      "\u001b[37m2019-12-18 23:42:05,128 DEBUG    [day18.key_path_length:8] dist from d to e is 4\u001b[0m\n",
      "\u001b[37m2019-12-18 23:42:05,130 DEBUG    [day18.key_path_length:8] dist from e to f is 40\u001b[0m\n",
      "\u001b[37m2019-12-18 23:42:05,132 DEBUG    [day18.key_path_length:8] dist from f to g is 44\u001b[0m\n",
      "\u001b[37m2019-12-18 23:42:05,134 DEBUG    [day18.key_path_length:12] key_order = ('b', 'a', 'c', 'd', 'e', 'f', 'g')\u001b[0m\n",
      "\u001b[37m2019-12-18 23:42:05,137 DEBUG    [day18.key_path_length:13] path lenght = 140\u001b[0m\n",
      "\u001b[37m2019-12-18 23:42:05,139 DEBUG    [day18.key_path_length:8] dist from @ to a is 2\u001b[0m\n",
      "\u001b[37m2019-12-18 23:42:05,141 DEBUG    [day18.key_path_length:8] dist from a to b is 24\u001b[0m\n",
      "\u001b[37m2019-12-18 23:42:05,144 DEBUG    [day18.key_path_length:8] dist from b to c is 28\u001b[0m\n",
      "\u001b[37m2019-12-18 23:42:05,151 DEBUG    [day18.key_path_length:8] dist from c to d is 2\u001b[0m\n",
      "\u001b[37m2019-12-18 23:42:05,154 DEBUG    [day18.key_path_length:8] dist from d to e is 4\u001b[0m\n",
      "\u001b[37m2019-12-18 23:42:05,155 DEBUG    [day18.key_path_length:8] dist from e to f is 40\u001b[0m\n",
      "\u001b[37m2019-12-18 23:42:05,157 DEBUG    [day18.key_path_length:8] dist from f to g is 44\u001b[0m\n",
      "\u001b[37m2019-12-18 23:42:05,159 DEBUG    [day18.key_path_length:12] key_order = ('a', 'b', 'c', 'd', 'e', 'f', 'g')\u001b[0m\n",
      "\u001b[37m2019-12-18 23:42:05,161 DEBUG    [day18.key_path_length:13] path lenght = 144\u001b[0m\n",
      "\u001b[01;37m2019-12-18 23:42:05,163 INFO     [day18.q_1:14] best key sequence: ('b', 'a', 'c', 'd', 'f', 'e', 'g')\u001b[0m\n",
      "\u001b[01;37m2019-12-18 23:42:05,165 INFO     [day18.test_q_1:4] \n",
      "#################\n",
      "#i.G..c...e..H.p#\n",
      "########.########\n",
      "#j.A..b...f..D.o#\n",
      "########@########\n",
      "#k.E..a...g..B.n#\n",
      "########.########\n",
      "#l.F..d...h..C.m#\n",
      "#################\u001b[0m\n"
     ]
    },
    {
     "data": {
      "application/vnd.jupyter.widget-view+json": {
       "model_id": "6baf4bffbb1b42e0adae49be28db6450",
       "version_major": 2,
       "version_minor": 0
      },
      "text/plain": [
       "HBox(children=(FloatProgress(value=0.0, max=16.0), HTML(value='')))"
      ]
     },
     "metadata": {},
     "output_type": "display_data"
    },
    {
     "data": {
      "application/vnd.jupyter.widget-view+json": {
       "model_id": "",
       "version_major": 2,
       "version_minor": 0
      },
      "text/plain": [
       "HBox(children=(FloatProgress(value=0.0, max=1.0), HTML(value='')))"
      ]
     },
     "metadata": {},
     "output_type": "display_data"
    },
    {
     "name": "stdout",
     "output_type": "stream",
     "text": [
      "\u001b[37m2019-12-18 23:42:05,234 DEBUG    [day18.generate_valid_paths:18] found 8 valid new subsets of length 1\u001b[0m\n"
     ]
    },
    {
     "data": {
      "application/vnd.jupyter.widget-view+json": {
       "model_id": "",
       "version_major": 2,
       "version_minor": 0
      },
      "text/plain": [
       "HBox(children=(FloatProgress(value=0.0, max=8.0), HTML(value='')))"
      ]
     },
     "metadata": {},
     "output_type": "display_data"
    },
    {
     "name": "stdout",
     "output_type": "stream",
     "text": [
      "\u001b[37m2019-12-18 23:42:05,268 DEBUG    [day18.generate_valid_paths:18] found 56 valid new subsets of length 2\u001b[0m\n"
     ]
    },
    {
     "data": {
      "application/vnd.jupyter.widget-view+json": {
       "model_id": "",
       "version_major": 2,
       "version_minor": 0
      },
      "text/plain": [
       "HBox(children=(FloatProgress(value=0.0, max=56.0), HTML(value='')))"
      ]
     },
     "metadata": {},
     "output_type": "display_data"
    },
    {
     "name": "stdout",
     "output_type": "stream",
     "text": [
      "\u001b[37m2019-12-18 23:42:05,315 DEBUG    [day18.generate_valid_paths:18] found 352 valid new subsets of length 3\u001b[0m\n"
     ]
    },
    {
     "data": {
      "application/vnd.jupyter.widget-view+json": {
       "model_id": "",
       "version_major": 2,
       "version_minor": 0
      },
      "text/plain": [
       "HBox(children=(FloatProgress(value=0.0, max=352.0), HTML(value='')))"
      ]
     },
     "metadata": {},
     "output_type": "display_data"
    },
    {
     "name": "stdout",
     "output_type": "stream",
     "text": [
      "\u001b[37m2019-12-18 23:42:05,448 DEBUG    [day18.generate_valid_paths:18] found 2068 valid new subsets of length 4\u001b[0m\n"
     ]
    },
    {
     "data": {
      "application/vnd.jupyter.widget-view+json": {
       "model_id": "",
       "version_major": 2,
       "version_minor": 0
      },
      "text/plain": [
       "HBox(children=(FloatProgress(value=0.0, max=2068.0), HTML(value='')))"
      ]
     },
     "metadata": {},
     "output_type": "display_data"
    },
    {
     "name": "stdout",
     "output_type": "stream",
     "text": [
      "\u001b[37m2019-12-18 23:42:05,891 DEBUG    [day18.generate_valid_paths:18] found 11736 valid new subsets of length 5\u001b[0m\n"
     ]
    },
    {
     "data": {
      "application/vnd.jupyter.widget-view+json": {
       "model_id": "",
       "version_major": 2,
       "version_minor": 0
      },
      "text/plain": [
       "HBox(children=(FloatProgress(value=0.0, max=11736.0), HTML(value='')))"
      ]
     },
     "metadata": {},
     "output_type": "display_data"
    },
    {
     "name": "stdout",
     "output_type": "stream",
     "text": [
      "\u001b[37m2019-12-18 23:42:07,538 DEBUG    [day18.generate_valid_paths:18] found 64920 valid new subsets of length 6\u001b[0m\n"
     ]
    },
    {
     "data": {
      "application/vnd.jupyter.widget-view+json": {
       "model_id": "",
       "version_major": 2,
       "version_minor": 0
      },
      "text/plain": [
       "HBox(children=(FloatProgress(value=0.0, max=64920.0), HTML(value='')))"
      ]
     },
     "metadata": {},
     "output_type": "display_data"
    },
    {
     "name": "stdout",
     "output_type": "stream",
     "text": [
      "\u001b[37m2019-12-18 23:42:14,796 DEBUG    [day18.generate_valid_paths:18] found 349392 valid new subsets of length 7\u001b[0m\n"
     ]
    },
    {
     "data": {
      "application/vnd.jupyter.widget-view+json": {
       "model_id": "",
       "version_major": 2,
       "version_minor": 0
      },
      "text/plain": [
       "HBox(children=(FloatProgress(value=0.0, max=349392.0), HTML(value='')))"
      ]
     },
     "metadata": {},
     "output_type": "display_data"
    },
    {
     "name": "stdout",
     "output_type": "stream",
     "text": [
      "\u001b[37m2019-12-18 23:42:52,405 DEBUG    [day18.generate_valid_paths:18] found 1822272 valid new subsets of length 8\u001b[0m\n"
     ]
    },
    {
     "data": {
      "application/vnd.jupyter.widget-view+json": {
       "model_id": "",
       "version_major": 2,
       "version_minor": 0
      },
      "text/plain": [
       "HBox(children=(FloatProgress(value=0.0, max=1822272.0), HTML(value='')))"
      ]
     },
     "metadata": {},
     "output_type": "display_data"
    },
    {
     "name": "stdout",
     "output_type": "stream",
     "text": [
      "\u001b[37m2019-12-18 23:45:57,091 DEBUG    [day18.generate_valid_paths:18] found 9125760 valid new subsets of length 9\u001b[0m\n"
     ]
    },
    {
     "data": {
      "application/vnd.jupyter.widget-view+json": {
       "model_id": "",
       "version_major": 2,
       "version_minor": 0
      },
      "text/plain": [
       "HBox(children=(FloatProgress(value=0.0, max=9125760.0), HTML(value='')))"
      ]
     },
     "metadata": {},
     "output_type": "display_data"
    },
    {
     "name": "stdout",
     "output_type": "stream",
     "text": [
      "\u001b[37m2019-12-18 23:59:20,275 DEBUG    [day18.generate_valid_paths:18] found 43355136 valid new subsets of length 10\u001b[0m\n"
     ]
    },
    {
     "data": {
      "application/vnd.jupyter.widget-view+json": {
       "model_id": "32a0dea3957c4e5c8e759653b6001ec7",
       "version_major": 2,
       "version_minor": 0
      },
      "text/plain": [
       "HBox(children=(FloatProgress(value=0.0, max=43355136.0), HTML(value='')))"
      ]
     },
     "metadata": {},
     "output_type": "display_data"
    },
    {
     "ename": "KeyboardInterrupt",
     "evalue": "",
     "output_type": "error",
     "traceback": [
      "\u001b[0;31m---------------------------------------------------------------------------\u001b[0m",
      "\u001b[0;31mKeyboardInterrupt\u001b[0m                         Traceback (most recent call last)",
      "\u001b[0;32m<ipython-input-419-8605d512d910>\u001b[0m in \u001b[0;36m<module>\u001b[0;34m\u001b[0m\n\u001b[0;32m----> 1\u001b[0;31m \u001b[0mtest_q_1\u001b[0m\u001b[0;34m(\u001b[0m\u001b[0;34m)\u001b[0m\u001b[0;34m\u001b[0m\u001b[0;34m\u001b[0m\u001b[0m\n\u001b[0m",
      "\u001b[0;32m<ipython-input-418-aa37cabeda2f>\u001b[0m in \u001b[0;36mtest_q_1\u001b[0;34m()\u001b[0m\n\u001b[1;32m      3\u001b[0m     \u001b[0;32mfor\u001b[0m \u001b[0mtest_map\u001b[0m\u001b[0;34m,\u001b[0m \u001b[0mans\u001b[0m \u001b[0;32min\u001b[0m \u001b[0mtests\u001b[0m\u001b[0;34m:\u001b[0m\u001b[0;34m\u001b[0m\u001b[0;34m\u001b[0m\u001b[0m\n\u001b[1;32m      4\u001b[0m         \u001b[0mLOGGER\u001b[0m\u001b[0;34m.\u001b[0m\u001b[0minfo\u001b[0m\u001b[0;34m(\u001b[0m\u001b[0;34mf'\\n{test_map}'\u001b[0m\u001b[0;34m)\u001b[0m\u001b[0;34m\u001b[0m\u001b[0;34m\u001b[0m\u001b[0m\n\u001b[0;32m----> 5\u001b[0;31m         \u001b[0;32massert\u001b[0m \u001b[0mq_1\u001b[0m\u001b[0;34m(\u001b[0m\u001b[0mtest_map\u001b[0m\u001b[0;34m)\u001b[0m \u001b[0;34m==\u001b[0m \u001b[0mans\u001b[0m\u001b[0;34m\u001b[0m\u001b[0;34m\u001b[0m\u001b[0m\n\u001b[0m\u001b[1;32m      6\u001b[0m     \u001b[0mLOGGER\u001b[0m\u001b[0;34m.\u001b[0m\u001b[0msetLevel\u001b[0m\u001b[0;34m(\u001b[0m\u001b[0mlogging\u001b[0m\u001b[0;34m.\u001b[0m\u001b[0mINFO\u001b[0m\u001b[0;34m)\u001b[0m\u001b[0;34m\u001b[0m\u001b[0;34m\u001b[0m\u001b[0m\n",
      "\u001b[0;32m<ipython-input-417-b7907fbfc9cd>\u001b[0m in \u001b[0;36mq_1\u001b[0;34m(data)\u001b[0m\n\u001b[1;32m      6\u001b[0m     \u001b[0mbest_path\u001b[0m \u001b[0;34m=\u001b[0m \u001b[0;32mNone\u001b[0m\u001b[0;34m\u001b[0m\u001b[0;34m\u001b[0m\u001b[0m\n\u001b[1;32m      7\u001b[0m     \u001b[0mbest_path_length\u001b[0m \u001b[0;34m=\u001b[0m \u001b[0mINF\u001b[0m\u001b[0;34m\u001b[0m\u001b[0;34m\u001b[0m\u001b[0m\n\u001b[0;32m----> 8\u001b[0;31m     \u001b[0;32mfor\u001b[0m \u001b[0mvalid_path\u001b[0m \u001b[0;32min\u001b[0m \u001b[0mgenerate_valid_paths\u001b[0m\u001b[0;34m(\u001b[0m\u001b[0mkey_nodes\u001b[0m\u001b[0;34m,\u001b[0m \u001b[0mrules\u001b[0m\u001b[0;34m)\u001b[0m\u001b[0;34m:\u001b[0m\u001b[0;34m\u001b[0m\u001b[0;34m\u001b[0m\u001b[0m\n\u001b[0m\u001b[1;32m      9\u001b[0m         \u001b[0mkpl\u001b[0m \u001b[0;34m=\u001b[0m \u001b[0mkey_path_length\u001b[0m\u001b[0;34m(\u001b[0m\u001b[0mg\u001b[0m\u001b[0;34m,\u001b[0m \u001b[0mvalid_path\u001b[0m\u001b[0;34m,\u001b[0m \u001b[0morigin_node\u001b[0m\u001b[0;34m,\u001b[0m \u001b[0mkey_nodes\u001b[0m\u001b[0;34m)\u001b[0m\u001b[0;34m\u001b[0m\u001b[0;34m\u001b[0m\u001b[0m\n\u001b[1;32m     10\u001b[0m         \u001b[0;32mif\u001b[0m \u001b[0mkpl\u001b[0m \u001b[0;34m<\u001b[0m \u001b[0mbest_path_length\u001b[0m\u001b[0;34m:\u001b[0m\u001b[0;34m\u001b[0m\u001b[0;34m\u001b[0m\u001b[0m\n",
      "\u001b[0;32m<ipython-input-412-16ebad2a5066>\u001b[0m in \u001b[0;36mgenerate_valid_paths\u001b[0;34m(keys, rules)\u001b[0m\n\u001b[1;32m     13\u001b[0m                 \u001b[0;31m#LOGGER.debug(f'next_step_choice = {next_step_choice}')\u001b[0m\u001b[0;34m\u001b[0m\u001b[0;34m\u001b[0m\u001b[0;34m\u001b[0m\u001b[0m\n\u001b[1;32m     14\u001b[0m                 \u001b[0mnew_subset\u001b[0m \u001b[0;34m=\u001b[0m \u001b[0mvalid_subset_so_far\u001b[0m \u001b[0;34m+\u001b[0m \u001b[0;34m(\u001b[0m\u001b[0mnext_step_choice\u001b[0m\u001b[0;34m,\u001b[0m\u001b[0;34m)\u001b[0m\u001b[0;34m\u001b[0m\u001b[0;34m\u001b[0m\u001b[0m\n\u001b[0;32m---> 15\u001b[0;31m                 \u001b[0;32mif\u001b[0m \u001b[0msubset_obeys_rules\u001b[0m\u001b[0;34m(\u001b[0m\u001b[0mnew_subset\u001b[0m\u001b[0;34m,\u001b[0m \u001b[0mrules\u001b[0m\u001b[0;34m)\u001b[0m\u001b[0;34m:\u001b[0m\u001b[0;34m\u001b[0m\u001b[0;34m\u001b[0m\u001b[0m\n\u001b[0m\u001b[1;32m     16\u001b[0m                     \u001b[0;31m#LOGGER.debug('this works')\u001b[0m\u001b[0;34m\u001b[0m\u001b[0;34m\u001b[0m\u001b[0;34m\u001b[0m\u001b[0m\n\u001b[1;32m     17\u001b[0m                     \u001b[0mnew_shell\u001b[0m\u001b[0;34m.\u001b[0m\u001b[0madd\u001b[0m\u001b[0;34m(\u001b[0m\u001b[0mnew_subset\u001b[0m\u001b[0;34m)\u001b[0m\u001b[0;34m\u001b[0m\u001b[0;34m\u001b[0m\u001b[0m\n",
      "\u001b[0;32m<ipython-input-387-15895fca9ca1>\u001b[0m in \u001b[0;36msubset_obeys_rules\u001b[0;34m(subset, rules)\u001b[0m\n\u001b[1;32m      6\u001b[0m     \u001b[0;31m# only interested in rules where first and then are both\u001b[0m\u001b[0;34m\u001b[0m\u001b[0;34m\u001b[0m\u001b[0;34m\u001b[0m\u001b[0m\n\u001b[1;32m      7\u001b[0m     \u001b[0;31m# in our subset\u001b[0m\u001b[0;34m\u001b[0m\u001b[0;34m\u001b[0m\u001b[0;34m\u001b[0m\u001b[0m\n\u001b[0;32m----> 8\u001b[0;31m     subset_rules = [r for r in rules\n\u001b[0m\u001b[1;32m      9\u001b[0m                     \u001b[0;32mif\u001b[0m \u001b[0mr\u001b[0m\u001b[0;34m.\u001b[0m\u001b[0mfirst\u001b[0m \u001b[0;32min\u001b[0m \u001b[0msubset\u001b[0m\u001b[0;34m\u001b[0m\u001b[0;34m\u001b[0m\u001b[0m\n\u001b[1;32m     10\u001b[0m                     or r.then in subset]\n",
      "\u001b[0;32m<ipython-input-387-15895fca9ca1>\u001b[0m in \u001b[0;36m<listcomp>\u001b[0;34m(.0)\u001b[0m\n\u001b[1;32m      7\u001b[0m     \u001b[0;31m# in our subset\u001b[0m\u001b[0;34m\u001b[0m\u001b[0;34m\u001b[0m\u001b[0;34m\u001b[0m\u001b[0m\n\u001b[1;32m      8\u001b[0m     subset_rules = [r for r in rules\n\u001b[0;32m----> 9\u001b[0;31m                     \u001b[0;32mif\u001b[0m \u001b[0mr\u001b[0m\u001b[0;34m.\u001b[0m\u001b[0mfirst\u001b[0m \u001b[0;32min\u001b[0m \u001b[0msubset\u001b[0m\u001b[0;34m\u001b[0m\u001b[0;34m\u001b[0m\u001b[0m\n\u001b[0m\u001b[1;32m     10\u001b[0m                     or r.then in subset]\n\u001b[1;32m     11\u001b[0m     return all([idx.get(rule.first, INF) < idx.get(rule.then, INF)\n",
      "\u001b[0;31mKeyboardInterrupt\u001b[0m: "
     ]
    }
   ],
   "source": [
    "test_q_1()"
   ]
  },
  {
   "cell_type": "markdown",
   "metadata": {},
   "source": [
    "#### answer"
   ]
  },
  {
   "cell_type": "markdown",
   "metadata": {},
   "source": [
    "loooool\n",
    "\n",
    "brute force was\n",
    "```\n",
    "7582/15511210043330985984000000 [00:26<17115725575404552628:54:24, 251.74it/s]\n",
    "```"
   ]
  },
  {
   "cell_type": "code",
   "execution_count": 421,
   "metadata": {},
   "outputs": [
    {
     "data": {
      "application/vnd.jupyter.widget-view+json": {
       "model_id": "632e11b903684d888036caa08c448598",
       "version_major": 2,
       "version_minor": 0
      },
      "text/plain": [
       "HBox(children=(FloatProgress(value=0.0, max=26.0), HTML(value='')))"
      ]
     },
     "metadata": {},
     "output_type": "display_data"
    },
    {
     "data": {
      "application/vnd.jupyter.widget-view+json": {
       "model_id": "",
       "version_major": 2,
       "version_minor": 0
      },
      "text/plain": [
       "HBox(children=(FloatProgress(value=0.0, max=1.0), HTML(value='')))"
      ]
     },
     "metadata": {},
     "output_type": "display_data"
    },
    {
     "name": "stdout",
     "output_type": "stream",
     "text": [
      "\u001b[37m2019-12-19 01:07:17,839 DEBUG    [day18.generate_valid_paths:18] found 6 valid new subsets of length 1\u001b[0m\n"
     ]
    },
    {
     "data": {
      "application/vnd.jupyter.widget-view+json": {
       "model_id": "",
       "version_major": 2,
       "version_minor": 0
      },
      "text/plain": [
       "HBox(children=(FloatProgress(value=0.0, max=6.0), HTML(value='')))"
      ]
     },
     "metadata": {},
     "output_type": "display_data"
    },
    {
     "name": "stdout",
     "output_type": "stream",
     "text": [
      "\u001b[37m2019-12-19 01:07:17,884 DEBUG    [day18.generate_valid_paths:18] found 33 valid new subsets of length 2\u001b[0m\n"
     ]
    },
    {
     "data": {
      "application/vnd.jupyter.widget-view+json": {
       "model_id": "",
       "version_major": 2,
       "version_minor": 0
      },
      "text/plain": [
       "HBox(children=(FloatProgress(value=0.0, max=33.0), HTML(value='')))"
      ]
     },
     "metadata": {},
     "output_type": "display_data"
    },
    {
     "name": "stdout",
     "output_type": "stream",
     "text": [
      "\u001b[37m2019-12-19 01:07:17,982 DEBUG    [day18.generate_valid_paths:18] found 170 valid new subsets of length 3\u001b[0m\n"
     ]
    },
    {
     "data": {
      "application/vnd.jupyter.widget-view+json": {
       "model_id": "",
       "version_major": 2,
       "version_minor": 0
      },
      "text/plain": [
       "HBox(children=(FloatProgress(value=0.0, max=170.0), HTML(value='')))"
      ]
     },
     "metadata": {},
     "output_type": "display_data"
    },
    {
     "name": "stdout",
     "output_type": "stream",
     "text": [
      "\u001b[37m2019-12-19 01:07:18,231 DEBUG    [day18.generate_valid_paths:18] found 843 valid new subsets of length 4\u001b[0m\n"
     ]
    },
    {
     "data": {
      "application/vnd.jupyter.widget-view+json": {
       "model_id": "",
       "version_major": 2,
       "version_minor": 0
      },
      "text/plain": [
       "HBox(children=(FloatProgress(value=0.0, max=843.0), HTML(value='')))"
      ]
     },
     "metadata": {},
     "output_type": "display_data"
    },
    {
     "name": "stdout",
     "output_type": "stream",
     "text": [
      "\u001b[37m2019-12-19 01:07:19,007 DEBUG    [day18.generate_valid_paths:18] found 4081 valid new subsets of length 5\u001b[0m\n"
     ]
    },
    {
     "data": {
      "application/vnd.jupyter.widget-view+json": {
       "model_id": "",
       "version_major": 2,
       "version_minor": 0
      },
      "text/plain": [
       "HBox(children=(FloatProgress(value=0.0, max=4081.0), HTML(value='')))"
      ]
     },
     "metadata": {},
     "output_type": "display_data"
    },
    {
     "name": "stdout",
     "output_type": "stream",
     "text": [
      "\u001b[37m2019-12-19 01:07:22,674 DEBUG    [day18.generate_valid_paths:18] found 19107 valid new subsets of length 6\u001b[0m\n"
     ]
    },
    {
     "data": {
      "application/vnd.jupyter.widget-view+json": {
       "model_id": "",
       "version_major": 2,
       "version_minor": 0
      },
      "text/plain": [
       "HBox(children=(FloatProgress(value=0.0, max=19107.0), HTML(value='')))"
      ]
     },
     "metadata": {},
     "output_type": "display_data"
    },
    {
     "name": "stdout",
     "output_type": "stream",
     "text": [
      "\u001b[37m2019-12-19 01:07:40,597 DEBUG    [day18.generate_valid_paths:18] found 85176 valid new subsets of length 7\u001b[0m\n"
     ]
    },
    {
     "data": {
      "application/vnd.jupyter.widget-view+json": {
       "model_id": "",
       "version_major": 2,
       "version_minor": 0
      },
      "text/plain": [
       "HBox(children=(FloatProgress(value=0.0, max=85176.0), HTML(value='')))"
      ]
     },
     "metadata": {},
     "output_type": "display_data"
    },
    {
     "name": "stdout",
     "output_type": "stream",
     "text": [
      "\u001b[37m2019-12-19 01:09:08,086 DEBUG    [day18.generate_valid_paths:18] found 359490 valid new subsets of length 8\u001b[0m\n"
     ]
    },
    {
     "data": {
      "application/vnd.jupyter.widget-view+json": {
       "model_id": "25827c05498541e5b4c1051ae0d64b12",
       "version_major": 2,
       "version_minor": 0
      },
      "text/plain": [
       "HBox(children=(FloatProgress(value=0.0, max=359490.0), HTML(value='')))"
      ]
     },
     "metadata": {},
     "output_type": "display_data"
    },
    {
     "ename": "KeyboardInterrupt",
     "evalue": "",
     "output_type": "error",
     "traceback": [
      "\u001b[0;31m---------------------------------------------------------------------------\u001b[0m",
      "\u001b[0;31mKeyboardInterrupt\u001b[0m                         Traceback (most recent call last)",
      "\u001b[0;32m<ipython-input-421-7dd1744d727f>\u001b[0m in \u001b[0;36m<module>\u001b[0;34m\u001b[0m\n\u001b[0;32m----> 1\u001b[0;31m \u001b[0mq_1\u001b[0m\u001b[0;34m(\u001b[0m\u001b[0mload_data\u001b[0m\u001b[0;34m(\u001b[0m\u001b[0;34m)\u001b[0m\u001b[0;34m)\u001b[0m\u001b[0;34m\u001b[0m\u001b[0;34m\u001b[0m\u001b[0m\n\u001b[0m",
      "\u001b[0;32m<ipython-input-417-b7907fbfc9cd>\u001b[0m in \u001b[0;36mq_1\u001b[0;34m(data)\u001b[0m\n\u001b[1;32m      6\u001b[0m     \u001b[0mbest_path\u001b[0m \u001b[0;34m=\u001b[0m \u001b[0;32mNone\u001b[0m\u001b[0;34m\u001b[0m\u001b[0;34m\u001b[0m\u001b[0m\n\u001b[1;32m      7\u001b[0m     \u001b[0mbest_path_length\u001b[0m \u001b[0;34m=\u001b[0m \u001b[0mINF\u001b[0m\u001b[0;34m\u001b[0m\u001b[0;34m\u001b[0m\u001b[0m\n\u001b[0;32m----> 8\u001b[0;31m     \u001b[0;32mfor\u001b[0m \u001b[0mvalid_path\u001b[0m \u001b[0;32min\u001b[0m \u001b[0mgenerate_valid_paths\u001b[0m\u001b[0;34m(\u001b[0m\u001b[0mkey_nodes\u001b[0m\u001b[0;34m,\u001b[0m \u001b[0mrules\u001b[0m\u001b[0;34m)\u001b[0m\u001b[0;34m:\u001b[0m\u001b[0;34m\u001b[0m\u001b[0;34m\u001b[0m\u001b[0m\n\u001b[0m\u001b[1;32m      9\u001b[0m         \u001b[0mkpl\u001b[0m \u001b[0;34m=\u001b[0m \u001b[0mkey_path_length\u001b[0m\u001b[0;34m(\u001b[0m\u001b[0mg\u001b[0m\u001b[0;34m,\u001b[0m \u001b[0mvalid_path\u001b[0m\u001b[0;34m,\u001b[0m \u001b[0morigin_node\u001b[0m\u001b[0;34m,\u001b[0m \u001b[0mkey_nodes\u001b[0m\u001b[0;34m)\u001b[0m\u001b[0;34m\u001b[0m\u001b[0;34m\u001b[0m\u001b[0m\n\u001b[1;32m     10\u001b[0m         \u001b[0;32mif\u001b[0m \u001b[0mkpl\u001b[0m \u001b[0;34m<\u001b[0m \u001b[0mbest_path_length\u001b[0m\u001b[0;34m:\u001b[0m\u001b[0;34m\u001b[0m\u001b[0;34m\u001b[0m\u001b[0m\n",
      "\u001b[0;32m<ipython-input-412-16ebad2a5066>\u001b[0m in \u001b[0;36mgenerate_valid_paths\u001b[0;34m(keys, rules)\u001b[0m\n\u001b[1;32m     13\u001b[0m                 \u001b[0;31m#LOGGER.debug(f'next_step_choice = {next_step_choice}')\u001b[0m\u001b[0;34m\u001b[0m\u001b[0;34m\u001b[0m\u001b[0;34m\u001b[0m\u001b[0m\n\u001b[1;32m     14\u001b[0m                 \u001b[0mnew_subset\u001b[0m \u001b[0;34m=\u001b[0m \u001b[0mvalid_subset_so_far\u001b[0m \u001b[0;34m+\u001b[0m \u001b[0;34m(\u001b[0m\u001b[0mnext_step_choice\u001b[0m\u001b[0;34m,\u001b[0m\u001b[0;34m)\u001b[0m\u001b[0;34m\u001b[0m\u001b[0;34m\u001b[0m\u001b[0m\n\u001b[0;32m---> 15\u001b[0;31m                 \u001b[0;32mif\u001b[0m \u001b[0msubset_obeys_rules\u001b[0m\u001b[0;34m(\u001b[0m\u001b[0mnew_subset\u001b[0m\u001b[0;34m,\u001b[0m \u001b[0mrules\u001b[0m\u001b[0;34m)\u001b[0m\u001b[0;34m:\u001b[0m\u001b[0;34m\u001b[0m\u001b[0;34m\u001b[0m\u001b[0m\n\u001b[0m\u001b[1;32m     16\u001b[0m                     \u001b[0;31m#LOGGER.debug('this works')\u001b[0m\u001b[0;34m\u001b[0m\u001b[0;34m\u001b[0m\u001b[0;34m\u001b[0m\u001b[0m\n\u001b[1;32m     17\u001b[0m                     \u001b[0mnew_shell\u001b[0m\u001b[0;34m.\u001b[0m\u001b[0madd\u001b[0m\u001b[0;34m(\u001b[0m\u001b[0mnew_subset\u001b[0m\u001b[0;34m)\u001b[0m\u001b[0;34m\u001b[0m\u001b[0;34m\u001b[0m\u001b[0m\n",
      "\u001b[0;32m<ipython-input-387-15895fca9ca1>\u001b[0m in \u001b[0;36msubset_obeys_rules\u001b[0;34m(subset, rules)\u001b[0m\n\u001b[1;32m      6\u001b[0m     \u001b[0;31m# only interested in rules where first and then are both\u001b[0m\u001b[0;34m\u001b[0m\u001b[0;34m\u001b[0m\u001b[0;34m\u001b[0m\u001b[0m\n\u001b[1;32m      7\u001b[0m     \u001b[0;31m# in our subset\u001b[0m\u001b[0;34m\u001b[0m\u001b[0;34m\u001b[0m\u001b[0;34m\u001b[0m\u001b[0m\n\u001b[0;32m----> 8\u001b[0;31m     subset_rules = [r for r in rules\n\u001b[0m\u001b[1;32m      9\u001b[0m                     \u001b[0;32mif\u001b[0m \u001b[0mr\u001b[0m\u001b[0;34m.\u001b[0m\u001b[0mfirst\u001b[0m \u001b[0;32min\u001b[0m \u001b[0msubset\u001b[0m\u001b[0;34m\u001b[0m\u001b[0;34m\u001b[0m\u001b[0m\n\u001b[1;32m     10\u001b[0m                     or r.then in subset]\n",
      "\u001b[0;32m<ipython-input-387-15895fca9ca1>\u001b[0m in \u001b[0;36m<listcomp>\u001b[0;34m(.0)\u001b[0m\n\u001b[1;32m      7\u001b[0m     \u001b[0;31m# in our subset\u001b[0m\u001b[0;34m\u001b[0m\u001b[0;34m\u001b[0m\u001b[0;34m\u001b[0m\u001b[0m\n\u001b[1;32m      8\u001b[0m     subset_rules = [r for r in rules\n\u001b[0;32m----> 9\u001b[0;31m                     \u001b[0;32mif\u001b[0m \u001b[0mr\u001b[0m\u001b[0;34m.\u001b[0m\u001b[0mfirst\u001b[0m \u001b[0;32min\u001b[0m \u001b[0msubset\u001b[0m\u001b[0;34m\u001b[0m\u001b[0;34m\u001b[0m\u001b[0m\n\u001b[0m\u001b[1;32m     10\u001b[0m                     or r.then in subset]\n\u001b[1;32m     11\u001b[0m     return all([idx.get(rule.first, INF) < idx.get(rule.then, INF)\n",
      "\u001b[0;31mKeyboardInterrupt\u001b[0m: "
     ]
    }
   ],
   "source": [
    "q_1(load_data())"
   ]
  },
  {
   "cell_type": "markdown",
   "metadata": {},
   "source": [
    "## part 2\n",
    "\n",
    "### problem statement:"
   ]
  },
  {
   "cell_type": "markdown",
   "metadata": {},
   "source": [
    "#### function def"
   ]
  },
  {
   "cell_type": "code",
   "execution_count": null,
   "metadata": {},
   "outputs": [],
   "source": [
    "def q_2(data):\n",
    "    return False"
   ]
  },
  {
   "cell_type": "markdown",
   "metadata": {},
   "source": [
    "#### tests"
   ]
  },
  {
   "cell_type": "code",
   "execution_count": null,
   "metadata": {},
   "outputs": [],
   "source": [
    "def test_q_2():\n",
    "    LOGGER.setLevel(logging.DEBUG)\n",
    "    assert q_2(test_data) == True\n",
    "    LOGGER.setLevel(logging.INFO)"
   ]
  },
  {
   "cell_type": "code",
   "execution_count": null,
   "metadata": {
    "scrolled": true
   },
   "outputs": [],
   "source": [
    "test_q_2()"
   ]
  },
  {
   "cell_type": "markdown",
   "metadata": {},
   "source": [
    "#### answer"
   ]
  },
  {
   "cell_type": "code",
   "execution_count": null,
   "metadata": {
    "scrolled": true
   },
   "outputs": [],
   "source": [
    "q_2(load_data())"
   ]
  },
  {
   "cell_type": "markdown",
   "metadata": {},
   "source": [
    "fin"
   ]
  },
  {
   "cell_type": "code",
   "execution_count": null,
   "metadata": {},
   "outputs": [],
   "source": []
  },
  {
   "cell_type": "code",
   "execution_count": null,
   "metadata": {},
   "outputs": [],
   "source": []
  }
 ],
 "metadata": {
  "kernelspec": {
   "display_name": "Python 3",
   "language": "python",
   "name": "python3"
  },
  "language_info": {
   "codemirror_mode": {
    "name": "ipython",
    "version": 3
   },
   "file_extension": ".py",
   "mimetype": "text/x-python",
   "name": "python",
   "nbconvert_exporter": "python",
   "pygments_lexer": "ipython3",
   "version": "3.7.3"
  },
  "toc": {
   "base_numbering": 1,
   "nav_menu": {},
   "number_sections": true,
   "sideBar": true,
   "skip_h1_title": false,
   "title_cell": "Table of Contents",
   "title_sidebar": "Contents",
   "toc_cell": false,
   "toc_position": {},
   "toc_section_display": true,
   "toc_window_display": false
  }
 },
 "nbformat": 4,
 "nbformat_minor": 2
}
