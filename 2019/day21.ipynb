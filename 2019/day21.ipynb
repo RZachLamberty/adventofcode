{
 "cells": [
  {
   "cell_type": "markdown",
   "metadata": {},
   "source": [
    "# day 21\n",
    "\n",
    "https://adventofcode.com/2019/day/21"
   ]
  },
  {
   "cell_type": "code",
   "execution_count": null,
   "metadata": {},
   "outputs": [],
   "source": [
    "import logging\n",
    "import logging.config\n",
    "import os\n",
    "\n",
    "import yaml"
   ]
  },
  {
   "cell_type": "code",
   "execution_count": null,
   "metadata": {},
   "outputs": [],
   "source": [
    "with open('../logging.yaml') as fp:\n",
    "    logging_config = yaml.load(fp, Loader=yaml.FullLoader)\n",
    "\n",
    "logging.config.dictConfig(logging_config)"
   ]
  },
  {
   "cell_type": "code",
   "execution_count": null,
   "metadata": {},
   "outputs": [],
   "source": [
    "FNAME = os.path.join('data', 'day21.txt')\n",
    "\n",
    "LOGGER = logging.getLogger('day21')"
   ]
  },
  {
   "cell_type": "markdown",
   "metadata": {},
   "source": [
    "## part 1\n",
    "\n",
    "### problem statement:"
   ]
  },
  {
   "cell_type": "markdown",
   "metadata": {},
   "source": [
    "#### loading data"
   ]
  },
  {
   "cell_type": "code",
   "execution_count": null,
   "metadata": {},
   "outputs": [],
   "source": [
    "test_data = []"
   ]
  },
  {
   "cell_type": "code",
   "execution_count": null,
   "metadata": {},
   "outputs": [],
   "source": [
    "import aoc2019 as A"
   ]
  },
  {
   "cell_type": "code",
   "execution_count": null,
   "metadata": {},
   "outputs": [],
   "source": [
    "def load_data(fname=FNAME):\n",
    "    return A.load_intcode(fname)"
   ]
  },
  {
   "cell_type": "code",
   "execution_count": null,
   "metadata": {},
   "outputs": [],
   "source": [
    "# load_data()"
   ]
  },
  {
   "cell_type": "markdown",
   "metadata": {},
   "source": [
    "#### function def"
   ]
  },
  {
   "cell_type": "code",
   "execution_count": null,
   "metadata": {},
   "outputs": [],
   "source": [
    "DROID = '@'\n",
    "HULL = '#'\n",
    "EMPTY = '.'\n",
    "\n",
    "class SpringDroid:\n",
    "    def __init__(self, intcode_prog):\n",
    "        self.ic = A.IntcodeComputer(intcode_prog, inputs=[])\n",
    "        self.T = False\n",
    "        self.J = False\n",
    "    \n",
    "    def run(self, ss_prog='WALK\\n'):\n",
    "        assert ss_prog[-1] == '\\n'\n",
    "        self.parse(ss_prog)\n",
    "        return self._run()\n",
    "    \n",
    "    def parse(self, ss_prog):\n",
    "        self.ic.inputs = [ord(_) for _ in ss_prog]\n",
    "    \n",
    "    def _run(self):\n",
    "        s = ''\n",
    "        for o in self.ic:\n",
    "            try:\n",
    "                s += chr(o)\n",
    "            except ValueError:\n",
    "                s += str(o)\n",
    "        \n",
    "        return s"
   ]
  },
  {
   "cell_type": "code",
   "execution_count": null,
   "metadata": {},
   "outputs": [],
   "source": [
    "# sd = SpringDroid(load_data())\n",
    "# print(sd.run())"
   ]
  },
  {
   "cell_type": "code",
   "execution_count": null,
   "metadata": {},
   "outputs": [],
   "source": [
    "# sd = SpringDroid(load_data())\n",
    "# prog = \"\"\"NOT D J\n",
    "# WALK\n",
    "# \"\"\"\n",
    "# print(sd.run(prog))"
   ]
  },
  {
   "cell_type": "code",
   "execution_count": null,
   "metadata": {},
   "outputs": [],
   "source": [
    "# sd = SpringDroid(load_data())\n",
    "# prog = \"\"\"NOT A J\n",
    "# NOT B T\n",
    "# AND T J\n",
    "# NOT C T\n",
    "# AND T J\n",
    "# AND D J\n",
    "# WALK\n",
    "# \"\"\"\n",
    "# print(sd.run(prog))"
   ]
  },
  {
   "cell_type": "code",
   "execution_count": null,
   "metadata": {},
   "outputs": [],
   "source": [
    "# def q_1(data):\n",
    "#     return False"
   ]
  },
  {
   "cell_type": "markdown",
   "metadata": {},
   "source": [
    "#### tests"
   ]
  },
  {
   "cell_type": "code",
   "execution_count": null,
   "metadata": {},
   "outputs": [],
   "source": [
    "# def test_q_1():\n",
    "#     LOGGER.setLevel(logging.DEBUG)\n",
    "#     assert q_1(test_data) == True\n",
    "#     LOGGER.setLevel(logging.INFO)"
   ]
  },
  {
   "cell_type": "code",
   "execution_count": null,
   "metadata": {},
   "outputs": [],
   "source": [
    "# test_q_1()"
   ]
  },
  {
   "cell_type": "markdown",
   "metadata": {},
   "source": [
    "#### answer"
   ]
  },
  {
   "cell_type": "code",
   "execution_count": null,
   "metadata": {},
   "outputs": [],
   "source": [
    "# q_1(load_data())"
   ]
  },
  {
   "cell_type": "markdown",
   "metadata": {},
   "source": [
    "two reasons to jump:\n",
    "\n",
    "1. hole at A (must)\n",
    "1. hole at C with land at `D`\n",
    "    1. this avoids the `##.##.` problem (where we wait to jump unil A and D are both holes. we must jump early so it's either at B or C.\n",
    "    1. if we chose B instead, we could see `##.##.##.` and not possibly avoid the second jump\n",
    "\n",
    "all together this is `(D and !C) or !A`"
   ]
  },
  {
   "cell_type": "code",
   "execution_count": null,
   "metadata": {},
   "outputs": [],
   "source": [
    "sd = SpringDroid(load_data())\n",
    "prog = \"\"\"NOT A J\n",
    "NOT C T\n",
    "AND D T\n",
    "OR T J\n",
    "WALK\n",
    "\"\"\"\n",
    "print(sd.run(prog))"
   ]
  },
  {
   "cell_type": "markdown",
   "metadata": {},
   "source": [
    "## part 2\n",
    "\n",
    "### problem statement:"
   ]
  },
  {
   "cell_type": "markdown",
   "metadata": {},
   "source": [
    "#### function def"
   ]
  },
  {
   "cell_type": "code",
   "execution_count": null,
   "metadata": {},
   "outputs": [],
   "source": [
    "# def q_2(data):\n",
    "#     return False"
   ]
  },
  {
   "cell_type": "code",
   "execution_count": null,
   "metadata": {},
   "outputs": [],
   "source": [
    "# sd = SpringDroid(load_data())\n",
    "# prog = \"\"\"NOT A J\n",
    "# NOT C T\n",
    "# AND D T\n",
    "# OR T J\n",
    "# RUN\n",
    "# \"\"\"\n",
    "# print(sd.run(prog))"
   ]
  },
  {
   "cell_type": "code",
   "execution_count": null,
   "metadata": {},
   "outputs": [],
   "source": [
    "# sd = SpringDroid(load_data())\n",
    "# prog = \"\"\"NOT A J\n",
    "# NOT C T\n",
    "# AND D T\n",
    "# OR E J\n",
    "# OR H J\n",
    "# AND J T\n",
    "# NOT A J\n",
    "# OR T J\n",
    "# RUN\n",
    "# \"\"\"\n",
    "# print(sd.run(prog))"
   ]
  },
  {
   "cell_type": "markdown",
   "metadata": {},
   "source": [
    "#### tests"
   ]
  },
  {
   "cell_type": "code",
   "execution_count": null,
   "metadata": {},
   "outputs": [],
   "source": [
    "# def test_q_2():\n",
    "#     LOGGER.setLevel(logging.DEBUG)\n",
    "#     assert q_2(test_data) == True\n",
    "#     LOGGER.setLevel(logging.INFO)"
   ]
  },
  {
   "cell_type": "code",
   "execution_count": null,
   "metadata": {
    "scrolled": true
   },
   "outputs": [],
   "source": [
    "# test_q_2()"
   ]
  },
  {
   "cell_type": "markdown",
   "metadata": {},
   "source": [
    "#### answer"
   ]
  },
  {
   "cell_type": "code",
   "execution_count": null,
   "metadata": {
    "scrolled": true
   },
   "outputs": [],
   "source": [
    "# q_2(load_data())"
   ]
  },
  {
   "cell_type": "markdown",
   "metadata": {},
   "source": [
    "three reasons to jump now:\n",
    "\n",
    "1. hole at A (must)\n",
    "2. hole at C **but ground at H**\n",
    "    1. same reason to jump exists as before, but now we check to make sure we won't be screwed by the scenario `##.#.##.`\n",
    "3. hole at B but both A and C available (assured by the above)\n",
    "    1. the less greedy option. I think there are still scenarios where we would die here but I don't die so I'm rolling with it."
   ]
  },
  {
   "cell_type": "code",
   "execution_count": null,
   "metadata": {},
   "outputs": [],
   "source": [
    "sd = SpringDroid(load_data())\n",
    "prog = \"\"\"NOT A J\n",
    "NOT C T\n",
    "AND H T\n",
    "OR T J\n",
    "NOT B T\n",
    "AND A T\n",
    "AND C T\n",
    "OR T J\n",
    "AND D J\n",
    "RUN\n",
    "\"\"\"\n",
    "print(sd.run(prog))"
   ]
  },
  {
   "cell_type": "markdown",
   "metadata": {},
   "source": [
    "fin"
   ]
  }
 ],
 "metadata": {
  "kernelspec": {
   "display_name": "Python 3",
   "language": "python",
   "name": "python3"
  },
  "language_info": {
   "codemirror_mode": {
    "name": "ipython",
    "version": 3
   },
   "file_extension": ".py",
   "mimetype": "text/x-python",
   "name": "python",
   "nbconvert_exporter": "python",
   "pygments_lexer": "ipython3",
   "version": "3.7.3"
  },
  "toc": {
   "base_numbering": 1,
   "nav_menu": {},
   "number_sections": true,
   "sideBar": true,
   "skip_h1_title": false,
   "title_cell": "Table of Contents",
   "title_sidebar": "Contents",
   "toc_cell": false,
   "toc_position": {},
   "toc_section_display": true,
   "toc_window_display": false
  }
 },
 "nbformat": 4,
 "nbformat_minor": 2
}
