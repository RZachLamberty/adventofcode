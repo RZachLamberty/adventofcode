{
 "cells": [
  {
   "cell_type": "markdown",
   "metadata": {},
   "source": [
    "# day 22\n",
    "\n",
    "https://adventofcode.com/2019/day/22"
   ]
  },
  {
   "cell_type": "code",
   "execution_count": null,
   "metadata": {},
   "outputs": [],
   "source": [
    "import logging\n",
    "import logging.config\n",
    "import os\n",
    "\n",
    "import yaml"
   ]
  },
  {
   "cell_type": "code",
   "execution_count": null,
   "metadata": {},
   "outputs": [],
   "source": [
    "with open('../logging.yaml') as fp:\n",
    "    logging_config = yaml.load(fp, Loader=yaml.FullLoader)\n",
    "\n",
    "logging.config.dictConfig(logging_config)"
   ]
  },
  {
   "cell_type": "code",
   "execution_count": null,
   "metadata": {},
   "outputs": [],
   "source": [
    "FNAME = os.path.join('data', 'day22.txt')\n",
    "\n",
    "LOGGER = logging.getLogger('day22')"
   ]
  },
  {
   "cell_type": "markdown",
   "metadata": {},
   "source": [
    "## part 1\n",
    "\n",
    "### problem statement:"
   ]
  },
  {
   "cell_type": "markdown",
   "metadata": {},
   "source": [
    "#### loading data"
   ]
  },
  {
   "cell_type": "code",
   "execution_count": null,
   "metadata": {},
   "outputs": [],
   "source": [
    "test_0 = \"\"\"deal with increment 7\n",
    "deal into new stack\n",
    "deal into new stack\"\"\"\n",
    "answer_0 = [0, 3, 6, 9, 2, 5, 8, 1, 4, 7]\n",
    "\n",
    "test_1 = \"\"\"cut 6\n",
    "deal with increment 7\n",
    "deal into new stack\"\"\"\n",
    "answer_1 = [3, 0, 7, 4, 1, 8, 5, 2, 9, 6]\n",
    "\n",
    "test_2 = \"\"\"deal with increment 7\n",
    "deal with increment 9\n",
    "cut -2\"\"\"\n",
    "answer_2= [6, 3, 0, 7, 4, 1, 8, 5, 2, 9]\n",
    "\n",
    "test_3 = \"\"\"deal into new stack\n",
    "cut -2\n",
    "deal with increment 7\n",
    "cut 8\n",
    "cut -4\n",
    "deal with increment 7\n",
    "cut 3\n",
    "deal with increment 9\n",
    "deal with increment 3\n",
    "cut -1\"\"\"\n",
    "answer_3 = [9, 2, 5, 8, 1, 4, 7, 0, 3, 6]"
   ]
  },
  {
   "cell_type": "code",
   "execution_count": null,
   "metadata": {},
   "outputs": [],
   "source": [
    "def load_data(fname=FNAME):\n",
    "    with open(fname) as fp:\n",
    "        return fp.read().strip()"
   ]
  },
  {
   "cell_type": "markdown",
   "metadata": {},
   "source": [
    "#### function def"
   ]
  },
  {
   "cell_type": "code",
   "execution_count": null,
   "metadata": {},
   "outputs": [],
   "source": [
    "import re\n",
    "\n",
    "DEAL_WITH = 'deal with'\n",
    "DEAL_INTO = 'deal into'\n",
    "CUT = 'cut'\n",
    "\n",
    "def parse_instr(i):\n",
    "    if i[:9] == DEAL_WITH:\n",
    "        instr_type = DEAL_WITH\n",
    "        param = int(i.split(' ')[-1])\n",
    "    elif i[:9] == 'deal into':\n",
    "        instr_type = DEAL_INTO\n",
    "        param = None\n",
    "    elif i[:3] == CUT:\n",
    "        instr_type = CUT\n",
    "        param = int(i.split(' ')[-1])\n",
    "    else:\n",
    "        print(i)\n",
    "        raise ValueError()\n",
    "    return instr_type, param"
   ]
  },
  {
   "cell_type": "code",
   "execution_count": null,
   "metadata": {},
   "outputs": [],
   "source": [
    "# [parse_instr(_) for _ in test_0.split('\\n')]\n",
    "# [parse_instr(_) for _ in test_1.split('\\n')]\n",
    "# [parse_instr(_) for _ in test_2.split('\\n')]\n",
    "# [parse_instr(_) for _ in test_3.split('\\n')]\n",
    "# [parse_instr(_) for _ in load_data().split('\\n')]"
   ]
  },
  {
   "cell_type": "code",
   "execution_count": null,
   "metadata": {},
   "outputs": [],
   "source": [
    "def apply_instr(l, instr_type, param=None):\n",
    "    if instr_type == DEAL_WITH:\n",
    "        L = len(l)\n",
    "        new_list = {((i * param) % L): elem\n",
    "                    for (i, elem) in enumerate(l)}\n",
    "        return [new_list[i] for i in range(L)]\n",
    "    elif instr_type == DEAL_INTO:\n",
    "        l.reverse()\n",
    "        return l\n",
    "    elif instr_type == CUT:\n",
    "        return l[param:] + l[:param]\n",
    "        #if param > 0:\n",
    "        #    for i in range(param):\n",
    "        #        l.append(l.pop(0))\n",
    "        #else:   \n",
    "    else:\n",
    "        msg = f\"instr_type {instr_type} not known\"\n",
    "        LOGGER.error(msg)\n",
    "        raise ValueError(msg)\n",
    "    raise ValueError('should not have gotten here')"
   ]
  },
  {
   "cell_type": "code",
   "execution_count": null,
   "metadata": {},
   "outputs": [],
   "source": [
    "# # deal into new deck\n",
    "# l = list(range(10))\n",
    "# l = apply_instr(l, DEAL_INTO)\n",
    "# assert l == list(range(9, -1, -1))\n",
    "\n",
    "# # cut 3\n",
    "# l = list(range(10))\n",
    "# l = apply_instr(l, CUT, 3)\n",
    "# assert l == [3, 4, 5, 6, 7, 8, 9, 0, 1, 2]\n",
    "\n",
    "# # cut -4\n",
    "# l = list(range(10))\n",
    "# l = apply_instr(l, CUT, -4)\n",
    "# assert l == [6, 7, 8, 9, 0, 1, 2, 3, 4, 5,]\n",
    "\n",
    "# # deal with increment 3\n",
    "# l = list(range(10))\n",
    "# l = apply_instr(l, DEAL_WITH, 3)\n",
    "# assert l == [0, 7, 4, 1, 8, 5, 2, 9, 6, 3]"
   ]
  },
  {
   "cell_type": "code",
   "execution_count": null,
   "metadata": {},
   "outputs": [],
   "source": [
    "def apply_all_instrs(l, instr_str):\n",
    "    for i in instr_str.split('\\n'):\n",
    "        instr_type, param = parse_instr(i)\n",
    "        l = apply_instr(l, instr_type, param)\n",
    "    return l"
   ]
  },
  {
   "cell_type": "code",
   "execution_count": null,
   "metadata": {},
   "outputs": [],
   "source": [
    "def q_1(data, L=10_007):\n",
    "    l = list(range(L))\n",
    "    return apply_all_instrs(l, data)"
   ]
  },
  {
   "cell_type": "markdown",
   "metadata": {},
   "source": [
    "#### tests"
   ]
  },
  {
   "cell_type": "code",
   "execution_count": null,
   "metadata": {},
   "outputs": [],
   "source": [
    "def test_q_1():\n",
    "    LOGGER.setLevel(logging.DEBUG)\n",
    "    tests = [(test_0, answer_0),\n",
    "             (test_1, answer_1),\n",
    "             (test_2, answer_2),\n",
    "             (test_3, answer_3)]\n",
    "    for (t, a) in tests:\n",
    "        assert q_1(t, 10) == a\n",
    "    LOGGER.setLevel(logging.INFO)"
   ]
  },
  {
   "cell_type": "code",
   "execution_count": null,
   "metadata": {},
   "outputs": [],
   "source": [
    "test_q_1()"
   ]
  },
  {
   "cell_type": "markdown",
   "metadata": {},
   "source": [
    "#### answer"
   ]
  },
  {
   "cell_type": "code",
   "execution_count": null,
   "metadata": {},
   "outputs": [],
   "source": [
    "z = q_1(load_data())\n",
    "z.index(2019)"
   ]
  },
  {
   "cell_type": "markdown",
   "metadata": {},
   "source": [
    "## part 2\n",
    "\n",
    "### problem statement:"
   ]
  },
  {
   "cell_type": "markdown",
   "metadata": {},
   "source": [
    "#### function def"
   ]
  },
  {
   "cell_type": "code",
   "execution_count": null,
   "metadata": {},
   "outputs": [],
   "source": [
    "import functools"
   ]
  },
  {
   "cell_type": "code",
   "execution_count": null,
   "metadata": {},
   "outputs": [],
   "source": [
    "@functools.lru_cache()\n",
    "def _deal_with(i, param, L):\n",
    "    \"\"\"i is some number which times param then mod L is\n",
    "    the integer j, i.e. (i = (j * param) % L). this means\n",
    "    there exists an n such that (j * param) = n * L + i.\n",
    "    to invet this, we iterate through n until we find a\n",
    "    value where (n * L + i) % param is 0\n",
    "    \n",
    "    \"\"\"\n",
    "    #n = 0\n",
    "    #while True:\n",
    "    #    if (n * L + i) % param == 0:\n",
    "    #        return (n * L + i) / param\n",
    "    # this is equivalent:\n",
    "    accum = i\n",
    "    while accum % param != 0:\n",
    "        accum += L\n",
    "    return accum / param\n",
    "\n",
    "\n",
    "@functools.lru_cache()\n",
    "def which_ends_up_at(i, instr_type, param=None, L=10):\n",
    "    \"\"\"which input list index (i_in) ends up in slot\n",
    "    i in the output after instr_type\n",
    "    \n",
    "    \"\"\"\n",
    "    if instr_type == DEAL_WITH:\n",
    "        return _deal_with(i, param, L)\n",
    "    elif instr_type == DEAL_INTO:\n",
    "        return L - i - 1\n",
    "    elif instr_type == CUT:\n",
    "        return (i + param) % L\n",
    "    else:\n",
    "        msg = f\"instr_type {instr_type} not known\"\n",
    "        LOGGER.error(msg)\n",
    "        raise ValueError(msg)\n",
    "    raise ValueError('should not have gotten here')"
   ]
  },
  {
   "cell_type": "code",
   "execution_count": null,
   "metadata": {},
   "outputs": [],
   "source": [
    "# deal into\n",
    "assert which_ends_up_at(0, DEAL_INTO) == 9\n",
    "assert which_ends_up_at(1, DEAL_INTO) == 8\n",
    "assert which_ends_up_at(2, DEAL_INTO) == 7\n",
    "assert which_ends_up_at(3, DEAL_INTO) == 6\n",
    "assert which_ends_up_at(4, DEAL_INTO) == 5\n",
    "assert which_ends_up_at(5, DEAL_INTO) == 4\n",
    "assert which_ends_up_at(6, DEAL_INTO) == 3\n",
    "assert which_ends_up_at(7, DEAL_INTO) == 2\n",
    "assert which_ends_up_at(8, DEAL_INTO) == 1\n",
    "assert which_ends_up_at(9, DEAL_INTO) == 0\n",
    "\n",
    "# cut 3\n",
    "assert which_ends_up_at(0, CUT, 3) == 3\n",
    "assert which_ends_up_at(1, CUT, 3) == 4\n",
    "assert which_ends_up_at(2, CUT, 3) == 5\n",
    "assert which_ends_up_at(3, CUT, 3) == 6\n",
    "assert which_ends_up_at(4, CUT, 3) == 7\n",
    "assert which_ends_up_at(5, CUT, 3) == 8\n",
    "assert which_ends_up_at(6, CUT, 3) == 9\n",
    "assert which_ends_up_at(7, CUT, 3) == 0\n",
    "assert which_ends_up_at(8, CUT, 3) == 1\n",
    "assert which_ends_up_at(9, CUT, 3) == 2\n",
    "\n",
    "# cut -4\n",
    "assert which_ends_up_at(0, CUT, -4) == 6\n",
    "assert which_ends_up_at(1, CUT, -4) == 7\n",
    "assert which_ends_up_at(2, CUT, -4) == 8\n",
    "assert which_ends_up_at(3, CUT, -4) == 9\n",
    "assert which_ends_up_at(4, CUT, -4) == 0\n",
    "assert which_ends_up_at(5, CUT, -4) == 1\n",
    "assert which_ends_up_at(6, CUT, -4) == 2\n",
    "assert which_ends_up_at(7, CUT, -4) == 3\n",
    "assert which_ends_up_at(8, CUT, -4) == 4\n",
    "assert which_ends_up_at(9, CUT, -4) == 5\n",
    "\n",
    "# deal with increment 3\n",
    "assert which_ends_up_at(0, DEAL_WITH, 3) == 0\n",
    "assert which_ends_up_at(1, DEAL_WITH, 3) == 7\n",
    "assert which_ends_up_at(2, DEAL_WITH, 3) == 4\n",
    "assert which_ends_up_at(3, DEAL_WITH, 3) == 1\n",
    "assert which_ends_up_at(4, DEAL_WITH, 3) == 8\n",
    "assert which_ends_up_at(5, DEAL_WITH, 3) == 5\n",
    "assert which_ends_up_at(6, DEAL_WITH, 3) == 2\n",
    "assert which_ends_up_at(7, DEAL_WITH, 3) == 9\n",
    "assert which_ends_up_at(8, DEAL_WITH, 3) == 6\n",
    "assert which_ends_up_at(9, DEAL_WITH, 3) == 3"
   ]
  },
  {
   "cell_type": "code",
   "execution_count": null,
   "metadata": {},
   "outputs": [],
   "source": [
    "import tqdm.autonotebook as tqdm"
   ]
  },
  {
   "cell_type": "code",
   "execution_count": null,
   "metadata": {},
   "outputs": [],
   "source": [
    "def q_2(data):\n",
    "    # basically, walk backwards through the instructions\n",
    "    instructions = [parse_instr(_) for _ in data.split('\\n')]\n",
    "    L = 119_315_717_514_047\n",
    "    \n",
    "    j = 2020\n",
    "    num_iter = 101_741_582_076_661\n",
    "    \n",
    "    i = 0\n",
    "    while i < num_iter:\n",
    "        if i % 100_000 == 0:\n",
    "            LOGGER.info(f'i = {i:,}')\n",
    "        # apply all instructions\n",
    "        for (instr_type, param) in instructions[::-1]:\n",
    "            j = which_ends_up_at(j, instr_type, param, L)\n",
    "            \n",
    "        if j == 2020:\n",
    "            LOGGER.info('found cycle')\n",
    "            LOGGER.debug(f'returned to input position after {i} steps')\n",
    "            # skip to the last multiple of current i less than num_iter\n",
    "            i = i * (num_iter // i)\n",
    "        else:\n",
    "            i += 1\n",
    "    return i"
   ]
  },
  {
   "cell_type": "markdown",
   "metadata": {},
   "source": [
    "#### tests"
   ]
  },
  {
   "cell_type": "code",
   "execution_count": null,
   "metadata": {},
   "outputs": [],
   "source": [
    "# def test_q_2():\n",
    "#     LOGGER.setLevel(logging.DEBUG)\n",
    "#     assert q_2(test_data) == True\n",
    "#     LOGGER.setLevel(logging.INFO)"
   ]
  },
  {
   "cell_type": "code",
   "execution_count": null,
   "metadata": {
    "scrolled": true
   },
   "outputs": [],
   "source": [
    "# test_q_2()"
   ]
  },
  {
   "cell_type": "markdown",
   "metadata": {},
   "source": [
    "#### answer"
   ]
  },
  {
   "cell_type": "code",
   "execution_count": null,
   "metadata": {
    "scrolled": true
   },
   "outputs": [],
   "source": [
    "q_2(load_data())"
   ]
  },
  {
   "cell_type": "markdown",
   "metadata": {},
   "source": [
    "fin"
   ]
  },
  {
   "cell_type": "code",
   "execution_count": null,
   "metadata": {},
   "outputs": [],
   "source": [
    "import sys; sys.dont_write_bytecode = True\n",
    "\n",
    "def do_case(inp: str, sample=False):\n",
    "    # READ THE PROBLEM FROM TOP TO BOTTOM OK\n",
    "    def sprint(*a, **k): sample and print(*a, **k)\n",
    "    lines = inp.splitlines()\n",
    "    cards = 119315717514047\n",
    "    repeats = 101741582076661\n",
    "\n",
    "    def inv(n):\n",
    "        # gets the modular inverse of n\n",
    "        # as cards is prime, use Euler's theorem\n",
    "        return pow(n, cards-2, cards)\n",
    "    def get(offset, increment, i):\n",
    "        # gets the ith number in a given sequence\n",
    "        return (offset + i * increment) % cards\n",
    "    \n",
    "    # increment = 1 = the difference between two adjacent numbers\n",
    "    # doing the process will multiply increment by increment_mul.\n",
    "    increment_mul = 1\n",
    "    # offset = 0 = the first number in the sequence.\n",
    "    # doing the process will increment this by offset_diff * (the increment before the process started).\n",
    "    offset_diff = 0\n",
    "    for line in inp.splitlines():\n",
    "        if line == \"deal into new stack\":\n",
    "            # reverse sequence.\n",
    "            # instead of going up, go down.\n",
    "            increment_mul *= -1\n",
    "            increment_mul %= cards\n",
    "            # then shift 1 left\n",
    "            offset_diff += increment_mul\n",
    "            offset_diff %= cards\n",
    "        elif line.startswith(\"cut\"):\n",
    "            q = int(line.split(' ')[-1])\n",
    "            # shift q left\n",
    "            offset_diff += q * increment_mul\n",
    "            offset_diff %= cards\n",
    "        elif line.startswith(\"deal with increment \"):\n",
    "            q = int(line.split(' ')[-1])\n",
    "            # difference between two adjacent numbers is multiplied by the\n",
    "            # inverse of the increment.\n",
    "            increment_mul *= inv(q)\n",
    "            increment_mul %= cards\n",
    "\n",
    "    def get_sequence(iterations):\n",
    "        # calculate (increment, offset) for the number of iterations of the process\n",
    "        # increment = increment_mul^iterations\n",
    "        increment = pow(increment_mul, iterations, cards)\n",
    "        # offset = 0 + offset_diff * (1 + increment_mul + increment_mul^2 + ... + increment_mul^iterations)\n",
    "        # use geometric series.\n",
    "        offset = offset_diff * (1 - increment) * inv((1 - increment_mul) % cards)\n",
    "        offset %= cards\n",
    "        return increment, offset\n",
    "\n",
    "    increment, offset = get_sequence(repeats)\n",
    "    print(get(offset, increment, 2020))\n",
    "    \n",
    "    return  # RETURNED VALUE DOESN'T DO ANYTHING, PRINT THINGS INSTEAD\n",
    "\n",
    "\n",
    "\n",
    "do_case(load_data())"
   ]
  },
  {
   "cell_type": "code",
   "execution_count": null,
   "metadata": {},
   "outputs": [],
   "source": []
  }
 ],
 "metadata": {
  "kernelspec": {
   "display_name": "Python 3",
   "language": "python",
   "name": "python3"
  },
  "language_info": {
   "codemirror_mode": {
    "name": "ipython",
    "version": 3
   },
   "file_extension": ".py",
   "mimetype": "text/x-python",
   "name": "python",
   "nbconvert_exporter": "python",
   "pygments_lexer": "ipython3",
   "version": "3.7.3"
  },
  "toc": {
   "base_numbering": 1,
   "nav_menu": {},
   "number_sections": true,
   "sideBar": true,
   "skip_h1_title": false,
   "title_cell": "Table of Contents",
   "title_sidebar": "Contents",
   "toc_cell": false,
   "toc_position": {},
   "toc_section_display": true,
   "toc_window_display": false
  }
 },
 "nbformat": 4,
 "nbformat_minor": 2
}
