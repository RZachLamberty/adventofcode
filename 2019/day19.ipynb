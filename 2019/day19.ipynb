{
 "cells": [
  {
   "cell_type": "markdown",
   "metadata": {},
   "source": [
    "# day 19\n",
    "\n",
    "https://adventofcode.com/2019/day/19"
   ]
  },
  {
   "cell_type": "code",
   "execution_count": 1,
   "metadata": {},
   "outputs": [],
   "source": [
    "import logging\n",
    "import logging.config\n",
    "import os\n",
    "\n",
    "import yaml"
   ]
  },
  {
   "cell_type": "code",
   "execution_count": 2,
   "metadata": {},
   "outputs": [],
   "source": [
    "with open('../logging.yaml') as fp:\n",
    "    logging_config = yaml.load(fp, Loader=yaml.FullLoader)\n",
    "\n",
    "logging.config.dictConfig(logging_config)"
   ]
  },
  {
   "cell_type": "code",
   "execution_count": 3,
   "metadata": {},
   "outputs": [],
   "source": [
    "FNAME = os.path.join('data', 'day19.txt')\n",
    "\n",
    "LOGGER = logging.getLogger('day19')"
   ]
  },
  {
   "cell_type": "markdown",
   "metadata": {},
   "source": [
    "## part 1\n",
    "\n",
    "### problem statement:"
   ]
  },
  {
   "cell_type": "markdown",
   "metadata": {},
   "source": [
    "#### loading data"
   ]
  },
  {
   "cell_type": "code",
   "execution_count": 4,
   "metadata": {},
   "outputs": [],
   "source": [
    "test_data = []"
   ]
  },
  {
   "cell_type": "code",
   "execution_count": 77,
   "metadata": {},
   "outputs": [],
   "source": [
    "def load_data(fname=FNAME):\n",
    "    with open(fname) as fp:\n",
    "        return tuple([int(_) for _ in fp.read().strip().split(\",\")])"
   ]
  },
  {
   "cell_type": "markdown",
   "metadata": {},
   "source": [
    "#### function def"
   ]
  },
  {
   "cell_type": "code",
   "execution_count": 9,
   "metadata": {},
   "outputs": [],
   "source": [
    "import aoc2019 as A"
   ]
  },
  {
   "cell_type": "code",
   "execution_count": 10,
   "metadata": {},
   "outputs": [],
   "source": [
    "STATIONARY = 0\n",
    "PULLED = 1"
   ]
  },
  {
   "cell_type": "code",
   "execution_count": 12,
   "metadata": {},
   "outputs": [],
   "source": [
    "import tqdm.autonotebook as tqdm"
   ]
  },
  {
   "cell_type": "code",
   "execution_count": 73,
   "metadata": {},
   "outputs": [],
   "source": [
    "import functools"
   ]
  },
  {
   "cell_type": "code",
   "execution_count": 114,
   "metadata": {},
   "outputs": [],
   "source": [
    "@functools.lru_cache()\n",
    "def get_grid_val(data, inputs):\n",
    "    return A.IntcodeComputer(list(data), inputs=list(inputs)).get_output()"
   ]
  },
  {
   "cell_type": "code",
   "execution_count": 115,
   "metadata": {},
   "outputs": [],
   "source": [
    "@functools.lru_cache()\n",
    "def q_1(data, N=50):\n",
    "    grid = {}\n",
    "    for x in tqdm.trange(N):\n",
    "        for y in tqdm.trange(N, leave=False):\n",
    "            grid[x, y] = get_grid_val(data, (x, y))\n",
    "    LOGGER.info(f'num pulled: {len([v for v in grid.values() if v == PULLED])}')\n",
    "    return grid"
   ]
  },
  {
   "cell_type": "markdown",
   "metadata": {},
   "source": [
    "#### tests"
   ]
  },
  {
   "cell_type": "code",
   "execution_count": 116,
   "metadata": {},
   "outputs": [],
   "source": [
    "# def test_q_1():\n",
    "#     LOGGER.setLevel(logging.DEBUG)\n",
    "#     assert q_1(test_data) == True\n",
    "#     LOGGER.setLevel(logging.INFO)"
   ]
  },
  {
   "cell_type": "code",
   "execution_count": 117,
   "metadata": {},
   "outputs": [],
   "source": [
    "# test_q_1()"
   ]
  },
  {
   "cell_type": "markdown",
   "metadata": {},
   "source": [
    "#### answer"
   ]
  },
  {
   "cell_type": "code",
   "execution_count": 118,
   "metadata": {},
   "outputs": [
    {
     "data": {
      "application/vnd.jupyter.widget-view+json": {
       "model_id": "a0962e941ee14ddb860b02df3e224725",
       "version_major": 2,
       "version_minor": 0
      },
      "text/plain": [
       "HBox(children=(FloatProgress(value=0.0, max=50.0), HTML(value='')))"
      ]
     },
     "metadata": {},
     "output_type": "display_data"
    },
    {
     "data": {
      "application/vnd.jupyter.widget-view+json": {
       "model_id": "",
       "version_major": 2,
       "version_minor": 0
      },
      "text/plain": [
       "HBox(children=(FloatProgress(value=0.0, max=50.0), HTML(value='')))"
      ]
     },
     "metadata": {},
     "output_type": "display_data"
    },
    {
     "data": {
      "application/vnd.jupyter.widget-view+json": {
       "model_id": "",
       "version_major": 2,
       "version_minor": 0
      },
      "text/plain": [
       "HBox(children=(FloatProgress(value=0.0, max=50.0), HTML(value='')))"
      ]
     },
     "metadata": {},
     "output_type": "display_data"
    },
    {
     "data": {
      "application/vnd.jupyter.widget-view+json": {
       "model_id": "",
       "version_major": 2,
       "version_minor": 0
      },
      "text/plain": [
       "HBox(children=(FloatProgress(value=0.0, max=50.0), HTML(value='')))"
      ]
     },
     "metadata": {},
     "output_type": "display_data"
    },
    {
     "data": {
      "application/vnd.jupyter.widget-view+json": {
       "model_id": "",
       "version_major": 2,
       "version_minor": 0
      },
      "text/plain": [
       "HBox(children=(FloatProgress(value=0.0, max=50.0), HTML(value='')))"
      ]
     },
     "metadata": {},
     "output_type": "display_data"
    },
    {
     "data": {
      "application/vnd.jupyter.widget-view+json": {
       "model_id": "",
       "version_major": 2,
       "version_minor": 0
      },
      "text/plain": [
       "HBox(children=(FloatProgress(value=0.0, max=50.0), HTML(value='')))"
      ]
     },
     "metadata": {},
     "output_type": "display_data"
    },
    {
     "data": {
      "application/vnd.jupyter.widget-view+json": {
       "model_id": "",
       "version_major": 2,
       "version_minor": 0
      },
      "text/plain": [
       "HBox(children=(FloatProgress(value=0.0, max=50.0), HTML(value='')))"
      ]
     },
     "metadata": {},
     "output_type": "display_data"
    },
    {
     "data": {
      "application/vnd.jupyter.widget-view+json": {
       "model_id": "",
       "version_major": 2,
       "version_minor": 0
      },
      "text/plain": [
       "HBox(children=(FloatProgress(value=0.0, max=50.0), HTML(value='')))"
      ]
     },
     "metadata": {},
     "output_type": "display_data"
    },
    {
     "data": {
      "application/vnd.jupyter.widget-view+json": {
       "model_id": "",
       "version_major": 2,
       "version_minor": 0
      },
      "text/plain": [
       "HBox(children=(FloatProgress(value=0.0, max=50.0), HTML(value='')))"
      ]
     },
     "metadata": {},
     "output_type": "display_data"
    },
    {
     "data": {
      "application/vnd.jupyter.widget-view+json": {
       "model_id": "",
       "version_major": 2,
       "version_minor": 0
      },
      "text/plain": [
       "HBox(children=(FloatProgress(value=0.0, max=50.0), HTML(value='')))"
      ]
     },
     "metadata": {},
     "output_type": "display_data"
    },
    {
     "data": {
      "application/vnd.jupyter.widget-view+json": {
       "model_id": "",
       "version_major": 2,
       "version_minor": 0
      },
      "text/plain": [
       "HBox(children=(FloatProgress(value=0.0, max=50.0), HTML(value='')))"
      ]
     },
     "metadata": {},
     "output_type": "display_data"
    },
    {
     "data": {
      "application/vnd.jupyter.widget-view+json": {
       "model_id": "",
       "version_major": 2,
       "version_minor": 0
      },
      "text/plain": [
       "HBox(children=(FloatProgress(value=0.0, max=50.0), HTML(value='')))"
      ]
     },
     "metadata": {},
     "output_type": "display_data"
    },
    {
     "data": {
      "application/vnd.jupyter.widget-view+json": {
       "model_id": "",
       "version_major": 2,
       "version_minor": 0
      },
      "text/plain": [
       "HBox(children=(FloatProgress(value=0.0, max=50.0), HTML(value='')))"
      ]
     },
     "metadata": {},
     "output_type": "display_data"
    },
    {
     "data": {
      "application/vnd.jupyter.widget-view+json": {
       "model_id": "",
       "version_major": 2,
       "version_minor": 0
      },
      "text/plain": [
       "HBox(children=(FloatProgress(value=0.0, max=50.0), HTML(value='')))"
      ]
     },
     "metadata": {},
     "output_type": "display_data"
    },
    {
     "data": {
      "application/vnd.jupyter.widget-view+json": {
       "model_id": "",
       "version_major": 2,
       "version_minor": 0
      },
      "text/plain": [
       "HBox(children=(FloatProgress(value=0.0, max=50.0), HTML(value='')))"
      ]
     },
     "metadata": {},
     "output_type": "display_data"
    },
    {
     "data": {
      "application/vnd.jupyter.widget-view+json": {
       "model_id": "",
       "version_major": 2,
       "version_minor": 0
      },
      "text/plain": [
       "HBox(children=(FloatProgress(value=0.0, max=50.0), HTML(value='')))"
      ]
     },
     "metadata": {},
     "output_type": "display_data"
    },
    {
     "data": {
      "application/vnd.jupyter.widget-view+json": {
       "model_id": "",
       "version_major": 2,
       "version_minor": 0
      },
      "text/plain": [
       "HBox(children=(FloatProgress(value=0.0, max=50.0), HTML(value='')))"
      ]
     },
     "metadata": {},
     "output_type": "display_data"
    },
    {
     "data": {
      "application/vnd.jupyter.widget-view+json": {
       "model_id": "",
       "version_major": 2,
       "version_minor": 0
      },
      "text/plain": [
       "HBox(children=(FloatProgress(value=0.0, max=50.0), HTML(value='')))"
      ]
     },
     "metadata": {},
     "output_type": "display_data"
    },
    {
     "data": {
      "application/vnd.jupyter.widget-view+json": {
       "model_id": "",
       "version_major": 2,
       "version_minor": 0
      },
      "text/plain": [
       "HBox(children=(FloatProgress(value=0.0, max=50.0), HTML(value='')))"
      ]
     },
     "metadata": {},
     "output_type": "display_data"
    },
    {
     "data": {
      "application/vnd.jupyter.widget-view+json": {
       "model_id": "",
       "version_major": 2,
       "version_minor": 0
      },
      "text/plain": [
       "HBox(children=(FloatProgress(value=0.0, max=50.0), HTML(value='')))"
      ]
     },
     "metadata": {},
     "output_type": "display_data"
    },
    {
     "data": {
      "application/vnd.jupyter.widget-view+json": {
       "model_id": "",
       "version_major": 2,
       "version_minor": 0
      },
      "text/plain": [
       "HBox(children=(FloatProgress(value=0.0, max=50.0), HTML(value='')))"
      ]
     },
     "metadata": {},
     "output_type": "display_data"
    },
    {
     "data": {
      "application/vnd.jupyter.widget-view+json": {
       "model_id": "",
       "version_major": 2,
       "version_minor": 0
      },
      "text/plain": [
       "HBox(children=(FloatProgress(value=0.0, max=50.0), HTML(value='')))"
      ]
     },
     "metadata": {},
     "output_type": "display_data"
    },
    {
     "data": {
      "application/vnd.jupyter.widget-view+json": {
       "model_id": "",
       "version_major": 2,
       "version_minor": 0
      },
      "text/plain": [
       "HBox(children=(FloatProgress(value=0.0, max=50.0), HTML(value='')))"
      ]
     },
     "metadata": {},
     "output_type": "display_data"
    },
    {
     "data": {
      "application/vnd.jupyter.widget-view+json": {
       "model_id": "",
       "version_major": 2,
       "version_minor": 0
      },
      "text/plain": [
       "HBox(children=(FloatProgress(value=0.0, max=50.0), HTML(value='')))"
      ]
     },
     "metadata": {},
     "output_type": "display_data"
    },
    {
     "data": {
      "application/vnd.jupyter.widget-view+json": {
       "model_id": "",
       "version_major": 2,
       "version_minor": 0
      },
      "text/plain": [
       "HBox(children=(FloatProgress(value=0.0, max=50.0), HTML(value='')))"
      ]
     },
     "metadata": {},
     "output_type": "display_data"
    },
    {
     "data": {
      "application/vnd.jupyter.widget-view+json": {
       "model_id": "",
       "version_major": 2,
       "version_minor": 0
      },
      "text/plain": [
       "HBox(children=(FloatProgress(value=0.0, max=50.0), HTML(value='')))"
      ]
     },
     "metadata": {},
     "output_type": "display_data"
    },
    {
     "data": {
      "application/vnd.jupyter.widget-view+json": {
       "model_id": "",
       "version_major": 2,
       "version_minor": 0
      },
      "text/plain": [
       "HBox(children=(FloatProgress(value=0.0, max=50.0), HTML(value='')))"
      ]
     },
     "metadata": {},
     "output_type": "display_data"
    },
    {
     "data": {
      "application/vnd.jupyter.widget-view+json": {
       "model_id": "",
       "version_major": 2,
       "version_minor": 0
      },
      "text/plain": [
       "HBox(children=(FloatProgress(value=0.0, max=50.0), HTML(value='')))"
      ]
     },
     "metadata": {},
     "output_type": "display_data"
    },
    {
     "data": {
      "application/vnd.jupyter.widget-view+json": {
       "model_id": "",
       "version_major": 2,
       "version_minor": 0
      },
      "text/plain": [
       "HBox(children=(FloatProgress(value=0.0, max=50.0), HTML(value='')))"
      ]
     },
     "metadata": {},
     "output_type": "display_data"
    },
    {
     "data": {
      "application/vnd.jupyter.widget-view+json": {
       "model_id": "",
       "version_major": 2,
       "version_minor": 0
      },
      "text/plain": [
       "HBox(children=(FloatProgress(value=0.0, max=50.0), HTML(value='')))"
      ]
     },
     "metadata": {},
     "output_type": "display_data"
    },
    {
     "data": {
      "application/vnd.jupyter.widget-view+json": {
       "model_id": "",
       "version_major": 2,
       "version_minor": 0
      },
      "text/plain": [
       "HBox(children=(FloatProgress(value=0.0, max=50.0), HTML(value='')))"
      ]
     },
     "metadata": {},
     "output_type": "display_data"
    },
    {
     "data": {
      "application/vnd.jupyter.widget-view+json": {
       "model_id": "",
       "version_major": 2,
       "version_minor": 0
      },
      "text/plain": [
       "HBox(children=(FloatProgress(value=0.0, max=50.0), HTML(value='')))"
      ]
     },
     "metadata": {},
     "output_type": "display_data"
    },
    {
     "data": {
      "application/vnd.jupyter.widget-view+json": {
       "model_id": "",
       "version_major": 2,
       "version_minor": 0
      },
      "text/plain": [
       "HBox(children=(FloatProgress(value=0.0, max=50.0), HTML(value='')))"
      ]
     },
     "metadata": {},
     "output_type": "display_data"
    },
    {
     "data": {
      "application/vnd.jupyter.widget-view+json": {
       "model_id": "",
       "version_major": 2,
       "version_minor": 0
      },
      "text/plain": [
       "HBox(children=(FloatProgress(value=0.0, max=50.0), HTML(value='')))"
      ]
     },
     "metadata": {},
     "output_type": "display_data"
    },
    {
     "data": {
      "application/vnd.jupyter.widget-view+json": {
       "model_id": "",
       "version_major": 2,
       "version_minor": 0
      },
      "text/plain": [
       "HBox(children=(FloatProgress(value=0.0, max=50.0), HTML(value='')))"
      ]
     },
     "metadata": {},
     "output_type": "display_data"
    },
    {
     "data": {
      "application/vnd.jupyter.widget-view+json": {
       "model_id": "",
       "version_major": 2,
       "version_minor": 0
      },
      "text/plain": [
       "HBox(children=(FloatProgress(value=0.0, max=50.0), HTML(value='')))"
      ]
     },
     "metadata": {},
     "output_type": "display_data"
    },
    {
     "data": {
      "application/vnd.jupyter.widget-view+json": {
       "model_id": "",
       "version_major": 2,
       "version_minor": 0
      },
      "text/plain": [
       "HBox(children=(FloatProgress(value=0.0, max=50.0), HTML(value='')))"
      ]
     },
     "metadata": {},
     "output_type": "display_data"
    },
    {
     "data": {
      "application/vnd.jupyter.widget-view+json": {
       "model_id": "",
       "version_major": 2,
       "version_minor": 0
      },
      "text/plain": [
       "HBox(children=(FloatProgress(value=0.0, max=50.0), HTML(value='')))"
      ]
     },
     "metadata": {},
     "output_type": "display_data"
    },
    {
     "data": {
      "application/vnd.jupyter.widget-view+json": {
       "model_id": "",
       "version_major": 2,
       "version_minor": 0
      },
      "text/plain": [
       "HBox(children=(FloatProgress(value=0.0, max=50.0), HTML(value='')))"
      ]
     },
     "metadata": {},
     "output_type": "display_data"
    },
    {
     "data": {
      "application/vnd.jupyter.widget-view+json": {
       "model_id": "",
       "version_major": 2,
       "version_minor": 0
      },
      "text/plain": [
       "HBox(children=(FloatProgress(value=0.0, max=50.0), HTML(value='')))"
      ]
     },
     "metadata": {},
     "output_type": "display_data"
    },
    {
     "data": {
      "application/vnd.jupyter.widget-view+json": {
       "model_id": "",
       "version_major": 2,
       "version_minor": 0
      },
      "text/plain": [
       "HBox(children=(FloatProgress(value=0.0, max=50.0), HTML(value='')))"
      ]
     },
     "metadata": {},
     "output_type": "display_data"
    },
    {
     "data": {
      "application/vnd.jupyter.widget-view+json": {
       "model_id": "",
       "version_major": 2,
       "version_minor": 0
      },
      "text/plain": [
       "HBox(children=(FloatProgress(value=0.0, max=50.0), HTML(value='')))"
      ]
     },
     "metadata": {},
     "output_type": "display_data"
    },
    {
     "data": {
      "application/vnd.jupyter.widget-view+json": {
       "model_id": "",
       "version_major": 2,
       "version_minor": 0
      },
      "text/plain": [
       "HBox(children=(FloatProgress(value=0.0, max=50.0), HTML(value='')))"
      ]
     },
     "metadata": {},
     "output_type": "display_data"
    },
    {
     "data": {
      "application/vnd.jupyter.widget-view+json": {
       "model_id": "",
       "version_major": 2,
       "version_minor": 0
      },
      "text/plain": [
       "HBox(children=(FloatProgress(value=0.0, max=50.0), HTML(value='')))"
      ]
     },
     "metadata": {},
     "output_type": "display_data"
    },
    {
     "data": {
      "application/vnd.jupyter.widget-view+json": {
       "model_id": "",
       "version_major": 2,
       "version_minor": 0
      },
      "text/plain": [
       "HBox(children=(FloatProgress(value=0.0, max=50.0), HTML(value='')))"
      ]
     },
     "metadata": {},
     "output_type": "display_data"
    },
    {
     "data": {
      "application/vnd.jupyter.widget-view+json": {
       "model_id": "",
       "version_major": 2,
       "version_minor": 0
      },
      "text/plain": [
       "HBox(children=(FloatProgress(value=0.0, max=50.0), HTML(value='')))"
      ]
     },
     "metadata": {},
     "output_type": "display_data"
    },
    {
     "data": {
      "application/vnd.jupyter.widget-view+json": {
       "model_id": "",
       "version_major": 2,
       "version_minor": 0
      },
      "text/plain": [
       "HBox(children=(FloatProgress(value=0.0, max=50.0), HTML(value='')))"
      ]
     },
     "metadata": {},
     "output_type": "display_data"
    },
    {
     "data": {
      "application/vnd.jupyter.widget-view+json": {
       "model_id": "",
       "version_major": 2,
       "version_minor": 0
      },
      "text/plain": [
       "HBox(children=(FloatProgress(value=0.0, max=50.0), HTML(value='')))"
      ]
     },
     "metadata": {},
     "output_type": "display_data"
    },
    {
     "data": {
      "application/vnd.jupyter.widget-view+json": {
       "model_id": "",
       "version_major": 2,
       "version_minor": 0
      },
      "text/plain": [
       "HBox(children=(FloatProgress(value=0.0, max=50.0), HTML(value='')))"
      ]
     },
     "metadata": {},
     "output_type": "display_data"
    },
    {
     "data": {
      "application/vnd.jupyter.widget-view+json": {
       "model_id": "",
       "version_major": 2,
       "version_minor": 0
      },
      "text/plain": [
       "HBox(children=(FloatProgress(value=0.0, max=50.0), HTML(value='')))"
      ]
     },
     "metadata": {},
     "output_type": "display_data"
    },
    {
     "data": {
      "application/vnd.jupyter.widget-view+json": {
       "model_id": "",
       "version_major": 2,
       "version_minor": 0
      },
      "text/plain": [
       "HBox(children=(FloatProgress(value=0.0, max=50.0), HTML(value='')))"
      ]
     },
     "metadata": {},
     "output_type": "display_data"
    },
    {
     "name": "stdout",
     "output_type": "stream",
     "text": [
      "\n",
      "\u001b[01;37m2019-12-19 00:47:33,367 INFO     [day19.q_1:7] num pulled: 126\u001b[0m\n"
     ]
    }
   ],
   "source": [
    "grid = q_1(load_data())"
   ]
  },
  {
   "cell_type": "code",
   "execution_count": 119,
   "metadata": {},
   "outputs": [
    {
     "name": "stdout",
     "output_type": "stream",
     "text": [
      "#.................................................\n",
      "..................................................\n",
      "...#..............................................\n",
      "....#.............................................\n",
      "......#...........................................\n",
      ".......#..........................................\n",
      "........##........................................\n",
      "..........#.......................................\n",
      "...........##.....................................\n",
      "............##....................................\n",
      "..............##..................................\n",
      "...............##.................................\n",
      "................###...............................\n",
      "..................##..............................\n",
      "...................###............................\n",
      "....................###...........................\n",
      "......................###.........................\n",
      ".......................###........................\n",
      "........................####......................\n",
      "..........................###.....................\n",
      "...........................####...................\n",
      "............................####..................\n",
      ".............................#####................\n",
      "...............................####...............\n",
      "................................#####.............\n",
      ".................................#####............\n",
      "...................................#####..........\n",
      "....................................######........\n",
      ".....................................######.......\n",
      ".......................................######.....\n",
      "........................................######....\n",
      ".........................................#######..\n",
      "...........................................######.\n",
      "............................................######\n",
      ".............................................#####\n",
      "...............................................###\n",
      "................................................##\n",
      ".................................................#\n",
      "..................................................\n",
      "..................................................\n",
      "..................................................\n",
      "..................................................\n",
      "..................................................\n",
      "..................................................\n",
      "..................................................\n",
      "..................................................\n",
      "..................................................\n",
      "..................................................\n",
      "..................................................\n",
      "..................................................\n",
      "\n"
     ]
    }
   ],
   "source": [
    "def draw_grid(grid):\n",
    "    s = ''\n",
    "    for x in range(50):\n",
    "        for y in range(50):\n",
    "            s += '#' if grid[x, y] == PULLED else '.'\n",
    "        s += '\\n'\n",
    "    return s\n",
    "\n",
    "print(draw_grid(grid))"
   ]
  },
  {
   "cell_type": "markdown",
   "metadata": {},
   "source": [
    "## part 2\n",
    "\n",
    "### problem statement:"
   ]
  },
  {
   "cell_type": "markdown",
   "metadata": {},
   "source": [
    "#### function def"
   ]
  },
  {
   "cell_type": "code",
   "execution_count": 120,
   "metadata": {},
   "outputs": [],
   "source": [
    "grid = q_1(load_data())"
   ]
  },
  {
   "cell_type": "code",
   "execution_count": 121,
   "metadata": {},
   "outputs": [],
   "source": [
    "ones = {k for (k, v) in grid.items() if v == 1}"
   ]
  },
  {
   "cell_type": "code",
   "execution_count": 122,
   "metadata": {},
   "outputs": [
    {
     "data": {
      "text/plain": [
       "(37, 49)"
      ]
     },
     "execution_count": 122,
     "metadata": {},
     "output_type": "execute_result"
    }
   ],
   "source": [
    "current_top_right = max(ones, key=lambda rec: (rec[1], rec[0]))\n",
    "current_top_right"
   ]
  },
  {
   "cell_type": "code",
   "execution_count": 123,
   "metadata": {},
   "outputs": [
    {
     "data": {
      "text/plain": [
       "(37, 49)"
      ]
     },
     "execution_count": 123,
     "metadata": {},
     "output_type": "execute_result"
    }
   ],
   "source": [
    "current_bottom_left = max(ones, key=lambda rec: (rec[0], rec[1]))\n",
    "current_bottom_left"
   ]
  },
  {
   "cell_type": "code",
   "execution_count": 135,
   "metadata": {},
   "outputs": [],
   "source": [
    "def q_2(data):\n",
    "    grid = q_1(data)\n",
    "    \n",
    "    # we only need to know the top and bottom edges of the ray, I think\n",
    "    ones = {k for (k, v) in grid.items() if v == 1}\n",
    "    \n",
    "    current_top_right = max(ones, key=lambda rec: (rec[1], rec[0]))\n",
    "    current_bottom_left = max(ones, key=lambda rec: (rec[0], rec[1]))\n",
    "    \n",
    "    top_rights = set([current_top_right])\n",
    "    bottom_lefts = set([current_bottom_left])\n",
    "    \n",
    "    while True:\n",
    "        # check for next top-right edge point:\n",
    "        x, y = current_top_right\n",
    "        LOGGER.info(f'current_top_right = {current_top_right}')\n",
    "        if get_grid_val(data, (x, y + 1)) == PULLED:\n",
    "            current_top_right = x, y + 1\n",
    "            top_rights.add(current_top_right)\n",
    "        elif get_grid_val(data, (x + 1, y)) == PULLED:\n",
    "            current_top_right = x + 1, y\n",
    "            top_rights.add(current_top_right)\n",
    "        else:\n",
    "            raise ValueError(f'huh? a hole? (x, y) = {(x, y)})')\n",
    "        \n",
    "        # same for next bottom-left edge point:\n",
    "        x, y = current_bottom_left\n",
    "        if get_grid_val(data, (x + 1, y)) == PULLED:\n",
    "            current_bottom_left = x + 1, y\n",
    "            bottom_lefts.add(current_bottom_left)\n",
    "        elif get_grid_val(data, (x, y + 1)) == PULLED:\n",
    "            current_bottom_left = x, y + 1\n",
    "            bottom_lefts.add(current_bottom_left)\n",
    "        else:\n",
    "            raise ValueError(f'huh? a hole? (x, y) = {(x, y)})')\n",
    "        \n",
    "        # assuming convexity, any time that there is a top right for which\n",
    "        # x + 100, y - 100 is a bottom left, the square is in there\n",
    "        for (x_tr, y_tr) in top_rights:\n",
    "            if any(((x_tr + 100 <= x_bl)\n",
    "                    and (y_bl + 100 <= y_tr))\n",
    "                   for (x_bl, y_bl) in bottom_lefts):\n",
    "                LOGGER.warning(f'top_right = {x_tr, y_tr}')\n",
    "                return x_tr, y_tr - 100"
   ]
  },
  {
   "cell_type": "markdown",
   "metadata": {},
   "source": [
    "#### tests"
   ]
  },
  {
   "cell_type": "code",
   "execution_count": 136,
   "metadata": {},
   "outputs": [],
   "source": [
    "# def test_q_2():\n",
    "#     LOGGER.setLevel(logging.DEBUG)\n",
    "#     assert q_2(test_data) == True\n",
    "#     LOGGER.setLevel(logging.INFO)"
   ]
  },
  {
   "cell_type": "code",
   "execution_count": 137,
   "metadata": {
    "scrolled": true
   },
   "outputs": [],
   "source": [
    "# test_q_2()"
   ]
  },
  {
   "cell_type": "markdown",
   "metadata": {},
   "source": [
    "#### answer"
   ]
  },
  {
   "cell_type": "code",
   "execution_count": 138,
   "metadata": {
    "scrolled": true
   },
   "outputs": [
    {
     "name": "stdout",
     "output_type": "stream",
     "text": [
      "\u001b[01;37m2019-12-19 00:58:25,178 INFO     [day19.q_2:16] current_top_right = (37, 49)\u001b[0m\n",
      "\u001b[01;37m2019-12-19 00:58:25,268 INFO     [day19.q_2:16] current_top_right = (37, 50)\u001b[0m\n",
      "\u001b[01;37m2019-12-19 00:58:25,391 INFO     [day19.q_2:16] current_top_right = (37, 51)\u001b[0m\n",
      "\u001b[01;37m2019-12-19 00:58:25,461 INFO     [day19.q_2:16] current_top_right = (37, 52)\u001b[0m\n",
      "\u001b[01;37m2019-12-19 00:58:25,563 INFO     [day19.q_2:16] current_top_right = (37, 53)\u001b[0m\n",
      "\u001b[01;37m2019-12-19 00:58:25,629 INFO     [day19.q_2:16] current_top_right = (37, 54)\u001b[0m\n",
      "\u001b[01;37m2019-12-19 00:58:25,722 INFO     [day19.q_2:16] current_top_right = (37, 55)\u001b[0m\n",
      "\u001b[01;37m2019-12-19 00:58:25,786 INFO     [day19.q_2:16] current_top_right = (37, 56)\u001b[0m\n",
      "\u001b[01;37m2019-12-19 00:58:25,909 INFO     [day19.q_2:16] current_top_right = (38, 56)\u001b[0m\n",
      "\u001b[01;37m2019-12-19 00:58:25,971 INFO     [day19.q_2:16] current_top_right = (38, 57)\u001b[0m\n",
      "\u001b[01;37m2019-12-19 00:58:26,106 INFO     [day19.q_2:16] current_top_right = (39, 57)\u001b[0m\n",
      "\u001b[01;37m2019-12-19 00:58:26,199 INFO     [day19.q_2:16] current_top_right = (39, 58)\u001b[0m\n",
      "\u001b[01;37m2019-12-19 00:58:26,265 INFO     [day19.q_2:16] current_top_right = (39, 59)\u001b[0m\n",
      "\u001b[01;37m2019-12-19 00:58:26,397 INFO     [day19.q_2:16] current_top_right = (40, 59)\u001b[0m\n",
      "\u001b[01;37m2019-12-19 00:58:26,466 INFO     [day19.q_2:16] current_top_right = (40, 60)\u001b[0m\n",
      "\u001b[01;37m2019-12-19 00:58:26,587 INFO     [day19.q_2:16] current_top_right = (41, 60)\u001b[0m\n",
      "\u001b[01;37m2019-12-19 00:58:26,647 INFO     [day19.q_2:16] current_top_right = (41, 61)\u001b[0m\n",
      "\u001b[01;37m2019-12-19 00:58:26,745 INFO     [day19.q_2:16] current_top_right = (41, 62)\u001b[0m\n",
      "\u001b[01;37m2019-12-19 00:58:26,863 INFO     [day19.q_2:16] current_top_right = (42, 62)\u001b[0m\n",
      "\u001b[01;37m2019-12-19 00:58:26,923 INFO     [day19.q_2:16] current_top_right = (42, 63)\u001b[0m\n",
      "\u001b[01;37m2019-12-19 00:58:27,052 INFO     [day19.q_2:16] current_top_right = (43, 63)\u001b[0m\n",
      "\u001b[01;37m2019-12-19 00:58:27,112 INFO     [day19.q_2:16] current_top_right = (43, 64)\u001b[0m\n",
      "\u001b[01;37m2019-12-19 00:58:27,216 INFO     [day19.q_2:16] current_top_right = (43, 65)\u001b[0m\n",
      "\u001b[01;37m2019-12-19 00:58:27,310 INFO     [day19.q_2:16] current_top_right = (44, 65)\u001b[0m\n",
      "\u001b[01;37m2019-12-19 00:58:27,399 INFO     [day19.q_2:16] current_top_right = (44, 66)\u001b[0m\n",
      "\u001b[01;37m2019-12-19 00:58:27,517 INFO     [day19.q_2:16] current_top_right = (45, 66)\u001b[0m\n",
      "\u001b[01;37m2019-12-19 00:58:27,579 INFO     [day19.q_2:16] current_top_right = (45, 67)\u001b[0m\n",
      "\u001b[01;37m2019-12-19 00:58:27,670 INFO     [day19.q_2:16] current_top_right = (45, 68)\u001b[0m\n",
      "\u001b[01;37m2019-12-19 00:58:27,761 INFO     [day19.q_2:16] current_top_right = (46, 68)\u001b[0m\n",
      "\u001b[01;37m2019-12-19 00:58:27,857 INFO     [day19.q_2:16] current_top_right = (46, 69)\u001b[0m\n",
      "\u001b[01;37m2019-12-19 00:58:27,957 INFO     [day19.q_2:16] current_top_right = (47, 69)\u001b[0m\n",
      "\u001b[01;37m2019-12-19 00:58:28,061 INFO     [day19.q_2:16] current_top_right = (47, 70)\u001b[0m\n",
      "\u001b[01;37m2019-12-19 00:58:28,156 INFO     [day19.q_2:16] current_top_right = (47, 71)\u001b[0m\n",
      "\u001b[01;37m2019-12-19 00:58:28,249 INFO     [day19.q_2:16] current_top_right = (48, 71)\u001b[0m\n",
      "\u001b[01;37m2019-12-19 00:58:28,343 INFO     [day19.q_2:16] current_top_right = (48, 72)\u001b[0m\n",
      "\u001b[01;37m2019-12-19 00:58:28,446 INFO     [day19.q_2:16] current_top_right = (49, 72)\u001b[0m\n",
      "\u001b[01;37m2019-12-19 00:58:28,557 INFO     [day19.q_2:16] current_top_right = (49, 73)\u001b[0m\n",
      "\u001b[01;37m2019-12-19 00:58:28,631 INFO     [day19.q_2:16] current_top_right = (49, 74)\u001b[0m\n",
      "\u001b[01;37m2019-12-19 00:58:28,775 INFO     [day19.q_2:16] current_top_right = (50, 74)\u001b[0m\n",
      "\u001b[01;37m2019-12-19 00:58:28,871 INFO     [day19.q_2:16] current_top_right = (50, 75)\u001b[0m\n",
      "\u001b[01;37m2019-12-19 00:58:28,964 INFO     [day19.q_2:16] current_top_right = (51, 75)\u001b[0m\n",
      "\u001b[01;37m2019-12-19 00:58:29,060 INFO     [day19.q_2:16] current_top_right = (51, 76)\u001b[0m\n",
      "\u001b[01;37m2019-12-19 00:58:29,124 INFO     [day19.q_2:16] current_top_right = (51, 77)\u001b[0m\n",
      "\u001b[01;37m2019-12-19 00:58:29,265 INFO     [day19.q_2:16] current_top_right = (52, 77)\u001b[0m\n",
      "\u001b[01;37m2019-12-19 00:58:29,330 INFO     [day19.q_2:16] current_top_right = (52, 78)\u001b[0m\n",
      "\u001b[01;37m2019-12-19 00:58:29,460 INFO     [day19.q_2:16] current_top_right = (53, 78)\u001b[0m\n",
      "\u001b[01;37m2019-12-19 00:58:29,557 INFO     [day19.q_2:16] current_top_right = (53, 79)\u001b[0m\n",
      "\u001b[01;37m2019-12-19 00:58:29,621 INFO     [day19.q_2:16] current_top_right = (53, 80)\u001b[0m\n",
      "\u001b[01;37m2019-12-19 00:58:29,764 INFO     [day19.q_2:16] current_top_right = (54, 80)\u001b[0m\n",
      "\u001b[01;37m2019-12-19 00:58:29,843 INFO     [day19.q_2:16] current_top_right = (54, 81)\u001b[0m\n",
      "\u001b[01;37m2019-12-19 00:58:30,036 INFO     [day19.q_2:16] current_top_right = (54, 82)\u001b[0m\n",
      "\u001b[01;37m2019-12-19 00:58:30,275 INFO     [day19.q_2:16] current_top_right = (55, 82)\u001b[0m\n",
      "\u001b[01;37m2019-12-19 00:58:30,431 INFO     [day19.q_2:16] current_top_right = (55, 83)\u001b[0m\n",
      "\u001b[01;37m2019-12-19 00:58:30,559 INFO     [day19.q_2:16] current_top_right = (56, 83)\u001b[0m\n",
      "\u001b[01;37m2019-12-19 00:58:30,678 INFO     [day19.q_2:16] current_top_right = (56, 84)\u001b[0m\n",
      "\u001b[01;37m2019-12-19 00:58:30,835 INFO     [day19.q_2:16] current_top_right = (56, 85)\u001b[0m\n",
      "\u001b[01;37m2019-12-19 00:58:30,935 INFO     [day19.q_2:16] current_top_right = (57, 85)\u001b[0m\n",
      "\u001b[01;37m2019-12-19 00:58:31,030 INFO     [day19.q_2:16] current_top_right = (57, 86)\u001b[0m\n",
      "\u001b[01;37m2019-12-19 00:58:31,123 INFO     [day19.q_2:16] current_top_right = (58, 86)\u001b[0m\n",
      "\u001b[01;37m2019-12-19 00:58:31,210 INFO     [day19.q_2:16] current_top_right = (58, 87)\u001b[0m\n",
      "\u001b[01;37m2019-12-19 00:58:31,273 INFO     [day19.q_2:16] current_top_right = (58, 88)\u001b[0m\n",
      "\u001b[01;37m2019-12-19 00:58:31,455 INFO     [day19.q_2:16] current_top_right = (59, 88)\u001b[0m\n",
      "\u001b[01;37m2019-12-19 00:58:31,576 INFO     [day19.q_2:16] current_top_right = (59, 89)\u001b[0m\n",
      "\u001b[01;37m2019-12-19 00:58:31,682 INFO     [day19.q_2:16] current_top_right = (60, 89)\u001b[0m\n",
      "\u001b[01;37m2019-12-19 00:58:31,782 INFO     [day19.q_2:16] current_top_right = (60, 90)\u001b[0m\n",
      "\u001b[01;37m2019-12-19 00:58:31,854 INFO     [day19.q_2:16] current_top_right = (60, 91)\u001b[0m\n",
      "\u001b[01;37m2019-12-19 00:58:32,007 INFO     [day19.q_2:16] current_top_right = (61, 91)\u001b[0m\n",
      "\u001b[01;37m2019-12-19 00:58:32,101 INFO     [day19.q_2:16] current_top_right = (61, 92)\u001b[0m\n",
      "\u001b[01;37m2019-12-19 00:58:32,248 INFO     [day19.q_2:16] current_top_right = (62, 92)\u001b[0m\n",
      "\u001b[01;37m2019-12-19 00:58:32,360 INFO     [day19.q_2:16] current_top_right = (62, 93)\u001b[0m\n",
      "\u001b[01;37m2019-12-19 00:58:32,433 INFO     [day19.q_2:16] current_top_right = (62, 94)\u001b[0m\n",
      "\u001b[01;37m2019-12-19 00:58:32,604 INFO     [day19.q_2:16] current_top_right = (63, 94)\u001b[0m\n",
      "\u001b[01;37m2019-12-19 00:58:32,686 INFO     [day19.q_2:16] current_top_right = (63, 95)\u001b[0m\n",
      "\u001b[01;37m2019-12-19 00:58:32,842 INFO     [day19.q_2:16] current_top_right = (64, 95)\u001b[0m\n",
      "\u001b[01;37m2019-12-19 00:58:32,922 INFO     [day19.q_2:16] current_top_right = (64, 96)\u001b[0m\n",
      "\u001b[01;37m2019-12-19 00:58:33,023 INFO     [day19.q_2:16] current_top_right = (64, 97)\u001b[0m\n",
      "\u001b[01;37m2019-12-19 00:58:33,144 INFO     [day19.q_2:16] current_top_right = (65, 97)\u001b[0m\n",
      "\u001b[01;37m2019-12-19 00:58:33,221 INFO     [day19.q_2:16] current_top_right = (65, 98)\u001b[0m\n",
      "\u001b[01;37m2019-12-19 00:58:33,393 INFO     [day19.q_2:16] current_top_right = (66, 98)\u001b[0m\n",
      "\u001b[01;37m2019-12-19 00:58:33,483 INFO     [day19.q_2:16] current_top_right = (66, 99)\u001b[0m\n",
      "\u001b[01;37m2019-12-19 00:58:33,600 INFO     [day19.q_2:16] current_top_right = (66, 100)\u001b[0m\n",
      "\u001b[01;37m2019-12-19 00:58:33,715 INFO     [day19.q_2:16] current_top_right = (67, 100)\u001b[0m\n",
      "\u001b[01;37m2019-12-19 00:58:33,842 INFO     [day19.q_2:16] current_top_right = (67, 101)\u001b[0m\n",
      "\u001b[01;37m2019-12-19 00:58:33,987 INFO     [day19.q_2:16] current_top_right = (68, 101)\u001b[0m\n",
      "\u001b[01;37m2019-12-19 00:58:34,056 INFO     [day19.q_2:16] current_top_right = (68, 102)\u001b[0m\n",
      "\u001b[01;37m2019-12-19 00:58:34,147 INFO     [day19.q_2:16] current_top_right = (68, 103)\u001b[0m\n",
      "\u001b[01;37m2019-12-19 00:58:34,238 INFO     [day19.q_2:16] current_top_right = (69, 103)\u001b[0m\n",
      "\u001b[01;37m2019-12-19 00:58:34,331 INFO     [day19.q_2:16] current_top_right = (69, 104)\u001b[0m\n",
      "\u001b[01;37m2019-12-19 00:58:34,429 INFO     [day19.q_2:16] current_top_right = (70, 104)\u001b[0m\n",
      "\u001b[01;37m2019-12-19 00:58:34,529 INFO     [day19.q_2:16] current_top_right = (70, 105)\u001b[0m\n",
      "\u001b[01;37m2019-12-19 00:58:34,623 INFO     [day19.q_2:16] current_top_right = (70, 106)\u001b[0m\n",
      "\u001b[01;37m2019-12-19 00:58:34,717 INFO     [day19.q_2:16] current_top_right = (71, 106)\u001b[0m\n"
     ]
    },
    {
     "name": "stdout",
     "output_type": "stream",
     "text": [
      "\u001b[01;37m2019-12-19 00:58:34,821 INFO     [day19.q_2:16] current_top_right = (71, 107)\u001b[0m\n",
      "\u001b[01;37m2019-12-19 00:58:34,932 INFO     [day19.q_2:16] current_top_right = (72, 107)\u001b[0m\n",
      "\u001b[01;37m2019-12-19 00:58:35,047 INFO     [day19.q_2:16] current_top_right = (72, 108)\u001b[0m\n",
      "\u001b[01;37m2019-12-19 00:58:35,120 INFO     [day19.q_2:16] current_top_right = (72, 109)\u001b[0m\n",
      "\u001b[01;37m2019-12-19 00:58:35,259 INFO     [day19.q_2:16] current_top_right = (73, 109)\u001b[0m\n",
      "\u001b[01;37m2019-12-19 00:58:35,531 INFO     [day19.q_2:16] current_top_right = (73, 110)\u001b[0m\n",
      "\u001b[01;37m2019-12-19 00:58:35,631 INFO     [day19.q_2:16] current_top_right = (74, 110)\u001b[0m\n",
      "\u001b[01;37m2019-12-19 00:58:35,724 INFO     [day19.q_2:16] current_top_right = (74, 111)\u001b[0m\n",
      "\u001b[01;37m2019-12-19 00:58:35,790 INFO     [day19.q_2:16] current_top_right = (74, 112)\u001b[0m\n",
      "\u001b[01;37m2019-12-19 00:58:35,912 INFO     [day19.q_2:16] current_top_right = (75, 112)\u001b[0m\n",
      "\u001b[01;37m2019-12-19 00:58:35,980 INFO     [day19.q_2:16] current_top_right = (75, 113)\u001b[0m\n",
      "\u001b[01;37m2019-12-19 00:58:36,125 INFO     [day19.q_2:16] current_top_right = (76, 113)\u001b[0m\n",
      "\u001b[01;37m2019-12-19 00:58:36,191 INFO     [day19.q_2:16] current_top_right = (76, 114)\u001b[0m\n",
      "\u001b[01;37m2019-12-19 00:58:36,309 INFO     [day19.q_2:16] current_top_right = (76, 115)\u001b[0m\n",
      "\u001b[01;37m2019-12-19 00:58:36,439 INFO     [day19.q_2:16] current_top_right = (77, 115)\u001b[0m\n",
      "\u001b[01;37m2019-12-19 00:58:36,501 INFO     [day19.q_2:16] current_top_right = (77, 116)\u001b[0m\n",
      "\u001b[01;37m2019-12-19 00:58:36,626 INFO     [day19.q_2:16] current_top_right = (78, 116)\u001b[0m\n",
      "\u001b[01;37m2019-12-19 00:58:36,687 INFO     [day19.q_2:16] current_top_right = (78, 117)\u001b[0m\n",
      "\u001b[01;37m2019-12-19 00:58:36,791 INFO     [day19.q_2:16] current_top_right = (78, 118)\u001b[0m\n",
      "\u001b[01;37m2019-12-19 00:58:36,887 INFO     [day19.q_2:16] current_top_right = (79, 118)\u001b[0m\n",
      "\u001b[01;37m2019-12-19 00:58:36,984 INFO     [day19.q_2:16] current_top_right = (79, 119)\u001b[0m\n",
      "\u001b[01;37m2019-12-19 00:58:37,139 INFO     [day19.q_2:16] current_top_right = (79, 120)\u001b[0m\n",
      "\u001b[01;37m2019-12-19 00:58:37,297 INFO     [day19.q_2:16] current_top_right = (80, 120)\u001b[0m\n",
      "\u001b[01;37m2019-12-19 00:58:37,511 INFO     [day19.q_2:16] current_top_right = (80, 121)\u001b[0m\n",
      "\u001b[01;37m2019-12-19 00:58:37,644 INFO     [day19.q_2:16] current_top_right = (81, 121)\u001b[0m\n",
      "\u001b[01;37m2019-12-19 00:58:37,791 INFO     [day19.q_2:16] current_top_right = (81, 122)\u001b[0m\n",
      "\u001b[01;37m2019-12-19 00:58:37,915 INFO     [day19.q_2:16] current_top_right = (81, 123)\u001b[0m\n",
      "\u001b[01;37m2019-12-19 00:58:38,098 INFO     [day19.q_2:16] current_top_right = (82, 123)\u001b[0m\n",
      "\u001b[01;37m2019-12-19 00:58:38,210 INFO     [day19.q_2:16] current_top_right = (82, 124)\u001b[0m\n",
      "\u001b[01;37m2019-12-19 00:58:38,328 INFO     [day19.q_2:16] current_top_right = (83, 124)\u001b[0m\n",
      "\u001b[01;37m2019-12-19 00:58:38,422 INFO     [day19.q_2:16] current_top_right = (83, 125)\u001b[0m\n",
      "\u001b[01;37m2019-12-19 00:58:38,487 INFO     [day19.q_2:16] current_top_right = (83, 126)\u001b[0m\n",
      "\u001b[01;37m2019-12-19 00:58:38,639 INFO     [day19.q_2:16] current_top_right = (84, 126)\u001b[0m\n",
      "\u001b[01;37m2019-12-19 00:58:38,725 INFO     [day19.q_2:16] current_top_right = (84, 127)\u001b[0m\n",
      "\u001b[01;37m2019-12-19 00:58:38,879 INFO     [day19.q_2:16] current_top_right = (85, 127)\u001b[0m\n",
      "\u001b[01;37m2019-12-19 00:58:38,980 INFO     [day19.q_2:16] current_top_right = (85, 128)\u001b[0m\n",
      "\u001b[01;37m2019-12-19 00:58:39,049 INFO     [day19.q_2:16] current_top_right = (85, 129)\u001b[0m\n",
      "\u001b[01;37m2019-12-19 00:58:39,172 INFO     [day19.q_2:16] current_top_right = (86, 129)\u001b[0m\n",
      "\u001b[01;37m2019-12-19 00:58:39,238 INFO     [day19.q_2:16] current_top_right = (86, 130)\u001b[0m\n",
      "\u001b[01;37m2019-12-19 00:58:39,368 INFO     [day19.q_2:16] current_top_right = (87, 130)\u001b[0m\n",
      "\u001b[01;37m2019-12-19 00:58:39,440 INFO     [day19.q_2:16] current_top_right = (87, 131)\u001b[0m\n",
      "\u001b[01;37m2019-12-19 00:58:39,538 INFO     [day19.q_2:16] current_top_right = (87, 132)\u001b[0m\n",
      "\u001b[01;37m2019-12-19 00:58:39,663 INFO     [day19.q_2:16] current_top_right = (88, 132)\u001b[0m\n",
      "\u001b[01;37m2019-12-19 00:58:39,725 INFO     [day19.q_2:16] current_top_right = (88, 133)\u001b[0m\n",
      "\u001b[01;37m2019-12-19 00:58:39,844 INFO     [day19.q_2:16] current_top_right = (89, 133)\u001b[0m\n",
      "\u001b[01;37m2019-12-19 00:58:39,907 INFO     [day19.q_2:16] current_top_right = (89, 134)\u001b[0m\n",
      "\u001b[01;37m2019-12-19 00:58:40,006 INFO     [day19.q_2:16] current_top_right = (89, 135)\u001b[0m\n",
      "\u001b[01;37m2019-12-19 00:58:40,098 INFO     [day19.q_2:16] current_top_right = (90, 135)\u001b[0m\n",
      "\u001b[01;37m2019-12-19 00:58:40,190 INFO     [day19.q_2:16] current_top_right = (90, 136)\u001b[0m\n",
      "\u001b[01;37m2019-12-19 00:58:40,311 INFO     [day19.q_2:16] current_top_right = (91, 136)\u001b[0m\n",
      "\u001b[01;37m2019-12-19 00:58:40,375 INFO     [day19.q_2:16] current_top_right = (91, 137)\u001b[0m\n",
      "\u001b[01;37m2019-12-19 00:58:40,469 INFO     [day19.q_2:16] current_top_right = (91, 138)\u001b[0m\n",
      "\u001b[01;37m2019-12-19 00:58:40,562 INFO     [day19.q_2:16] current_top_right = (92, 138)\u001b[0m\n",
      "\u001b[01;37m2019-12-19 00:58:40,657 INFO     [day19.q_2:16] current_top_right = (92, 139)\u001b[0m\n",
      "\u001b[01;37m2019-12-19 00:58:40,750 INFO     [day19.q_2:16] current_top_right = (93, 139)\u001b[0m\n",
      "\u001b[01;37m2019-12-19 00:58:40,847 INFO     [day19.q_2:16] current_top_right = (93, 140)\u001b[0m\n",
      "\u001b[01;37m2019-12-19 00:58:40,914 INFO     [day19.q_2:16] current_top_right = (93, 141)\u001b[0m\n",
      "\u001b[01;37m2019-12-19 00:58:41,038 INFO     [day19.q_2:16] current_top_right = (94, 141)\u001b[0m\n",
      "\u001b[01;37m2019-12-19 00:58:41,132 INFO     [day19.q_2:16] current_top_right = (94, 142)\u001b[0m\n",
      "\u001b[01;37m2019-12-19 00:58:41,225 INFO     [day19.q_2:16] current_top_right = (95, 142)\u001b[0m\n",
      "\u001b[01;37m2019-12-19 00:58:41,317 INFO     [day19.q_2:16] current_top_right = (95, 143)\u001b[0m\n",
      "\u001b[01;37m2019-12-19 00:58:41,392 INFO     [day19.q_2:16] current_top_right = (95, 144)\u001b[0m\n",
      "\u001b[01;37m2019-12-19 00:58:41,513 INFO     [day19.q_2:16] current_top_right = (96, 144)\u001b[0m\n",
      "\u001b[01;37m2019-12-19 00:58:41,576 INFO     [day19.q_2:16] current_top_right = (96, 145)\u001b[0m\n",
      "\u001b[01;37m2019-12-19 00:58:41,696 INFO     [day19.q_2:16] current_top_right = (97, 145)\u001b[0m\n",
      "\u001b[01;37m2019-12-19 00:58:41,786 INFO     [day19.q_2:16] current_top_right = (97, 146)\u001b[0m\n",
      "\u001b[01;37m2019-12-19 00:58:41,850 INFO     [day19.q_2:16] current_top_right = (97, 147)\u001b[0m\n",
      "\u001b[01;37m2019-12-19 00:58:41,970 INFO     [day19.q_2:16] current_top_right = (98, 147)\u001b[0m\n",
      "\u001b[01;37m2019-12-19 00:58:42,036 INFO     [day19.q_2:16] current_top_right = (98, 148)\u001b[0m\n",
      "\u001b[01;37m2019-12-19 00:58:42,158 INFO     [day19.q_2:16] current_top_right = (99, 148)\u001b[0m\n",
      "\u001b[01;37m2019-12-19 00:58:42,222 INFO     [day19.q_2:16] current_top_right = (99, 149)\u001b[0m\n",
      "\u001b[01;37m2019-12-19 00:58:42,316 INFO     [day19.q_2:16] current_top_right = (99, 150)\u001b[0m\n",
      "\u001b[01;37m2019-12-19 00:58:42,437 INFO     [day19.q_2:16] current_top_right = (100, 150)\u001b[0m\n",
      "\u001b[01;37m2019-12-19 00:58:42,506 INFO     [day19.q_2:16] current_top_right = (100, 151)\u001b[0m\n",
      "\u001b[01;37m2019-12-19 00:58:42,626 INFO     [day19.q_2:16] current_top_right = (101, 151)\u001b[0m\n",
      "\u001b[01;37m2019-12-19 00:58:42,692 INFO     [day19.q_2:16] current_top_right = (101, 152)\u001b[0m\n",
      "\u001b[01;37m2019-12-19 00:58:42,785 INFO     [day19.q_2:16] current_top_right = (101, 153)\u001b[0m\n",
      "\u001b[01;37m2019-12-19 00:58:42,877 INFO     [day19.q_2:16] current_top_right = (102, 153)\u001b[0m\n",
      "\u001b[01;37m2019-12-19 00:58:42,974 INFO     [day19.q_2:16] current_top_right = (102, 154)\u001b[0m\n",
      "\u001b[01;37m2019-12-19 00:58:43,095 INFO     [day19.q_2:16] current_top_right = (103, 154)\u001b[0m\n",
      "\u001b[01;37m2019-12-19 00:58:43,159 INFO     [day19.q_2:16] current_top_right = (103, 155)\u001b[0m\n",
      "\u001b[01;37m2019-12-19 00:58:43,253 INFO     [day19.q_2:16] current_top_right = (103, 156)\u001b[0m\n",
      "\u001b[01;37m2019-12-19 00:58:43,347 INFO     [day19.q_2:16] current_top_right = (104, 156)\u001b[0m\n",
      "\u001b[01;37m2019-12-19 00:58:43,441 INFO     [day19.q_2:16] current_top_right = (104, 157)\u001b[0m\n",
      "\u001b[01;37m2019-12-19 00:58:43,536 INFO     [day19.q_2:16] current_top_right = (105, 157)\u001b[0m\n",
      "\u001b[01;37m2019-12-19 00:58:43,633 INFO     [day19.q_2:16] current_top_right = (105, 158)\u001b[0m\n",
      "\u001b[01;37m2019-12-19 00:58:43,727 INFO     [day19.q_2:16] current_top_right = (105, 159)\u001b[0m\n",
      "\u001b[01;37m2019-12-19 00:58:43,845 INFO     [day19.q_2:16] current_top_right = (106, 159)\u001b[0m\n",
      "\u001b[01;37m2019-12-19 00:58:43,938 INFO     [day19.q_2:16] current_top_right = (106, 160)\u001b[0m\n",
      "\u001b[01;37m2019-12-19 00:58:44,003 INFO     [day19.q_2:16] current_top_right = (106, 161)\u001b[0m\n",
      "\u001b[01;37m2019-12-19 00:58:44,143 INFO     [day19.q_2:16] current_top_right = (107, 161)\u001b[0m\n"
     ]
    },
    {
     "name": "stdout",
     "output_type": "stream",
     "text": [
      "\u001b[01;37m2019-12-19 00:58:44,208 INFO     [day19.q_2:16] current_top_right = (107, 162)\u001b[0m\n",
      "\u001b[01;37m2019-12-19 00:58:44,326 INFO     [day19.q_2:16] current_top_right = (108, 162)\u001b[0m\n",
      "\u001b[01;37m2019-12-19 00:58:44,418 INFO     [day19.q_2:16] current_top_right = (108, 163)\u001b[0m\n",
      "\u001b[01;37m2019-12-19 00:58:44,481 INFO     [day19.q_2:16] current_top_right = (108, 164)\u001b[0m\n",
      "\u001b[01;37m2019-12-19 00:58:44,602 INFO     [day19.q_2:16] current_top_right = (109, 164)\u001b[0m\n",
      "\u001b[01;37m2019-12-19 00:58:44,665 INFO     [day19.q_2:16] current_top_right = (109, 165)\u001b[0m\n",
      "\u001b[01;37m2019-12-19 00:58:44,786 INFO     [day19.q_2:16] current_top_right = (110, 165)\u001b[0m\n",
      "\u001b[01;37m2019-12-19 00:58:44,857 INFO     [day19.q_2:16] current_top_right = (110, 166)\u001b[0m\n",
      "\u001b[01;37m2019-12-19 00:58:44,949 INFO     [day19.q_2:16] current_top_right = (110, 167)\u001b[0m\n",
      "\u001b[01;37m2019-12-19 00:58:45,042 INFO     [day19.q_2:16] current_top_right = (111, 167)\u001b[0m\n",
      "\u001b[01;37m2019-12-19 00:58:45,135 INFO     [day19.q_2:16] current_top_right = (111, 168)\u001b[0m\n",
      "\u001b[01;37m2019-12-19 00:58:45,254 INFO     [day19.q_2:16] current_top_right = (112, 168)\u001b[0m\n",
      "\u001b[01;37m2019-12-19 00:58:45,318 INFO     [day19.q_2:16] current_top_right = (112, 169)\u001b[0m\n",
      "\u001b[01;37m2019-12-19 00:58:45,410 INFO     [day19.q_2:16] current_top_right = (112, 170)\u001b[0m\n",
      "\u001b[01;37m2019-12-19 00:58:45,503 INFO     [day19.q_2:16] current_top_right = (113, 170)\u001b[0m\n",
      "\u001b[01;37m2019-12-19 00:58:45,598 INFO     [day19.q_2:16] current_top_right = (113, 171)\u001b[0m\n",
      "\u001b[01;37m2019-12-19 00:58:45,692 INFO     [day19.q_2:16] current_top_right = (114, 171)\u001b[0m\n",
      "\u001b[01;37m2019-12-19 00:58:45,786 INFO     [day19.q_2:16] current_top_right = (114, 172)\u001b[0m\n",
      "\u001b[01;37m2019-12-19 00:58:45,878 INFO     [day19.q_2:16] current_top_right = (114, 173)\u001b[0m\n",
      "\u001b[01;37m2019-12-19 00:58:45,972 INFO     [day19.q_2:16] current_top_right = (115, 173)\u001b[0m\n",
      "\u001b[01;37m2019-12-19 00:58:46,070 INFO     [day19.q_2:16] current_top_right = (115, 174)\u001b[0m\n",
      "\u001b[01;37m2019-12-19 00:58:46,162 INFO     [day19.q_2:16] current_top_right = (116, 174)\u001b[0m\n",
      "\u001b[01;37m2019-12-19 00:58:46,255 INFO     [day19.q_2:16] current_top_right = (116, 175)\u001b[0m\n",
      "\u001b[01;37m2019-12-19 00:58:46,321 INFO     [day19.q_2:16] current_top_right = (116, 176)\u001b[0m\n",
      "\u001b[01;37m2019-12-19 00:58:46,440 INFO     [day19.q_2:16] current_top_right = (117, 176)\u001b[0m\n",
      "\u001b[01;37m2019-12-19 00:58:46,532 INFO     [day19.q_2:16] current_top_right = (117, 177)\u001b[0m\n",
      "\u001b[01;37m2019-12-19 00:58:46,625 INFO     [day19.q_2:16] current_top_right = (118, 177)\u001b[0m\n",
      "\u001b[01;37m2019-12-19 00:58:46,718 INFO     [day19.q_2:16] current_top_right = (118, 178)\u001b[0m\n",
      "\u001b[01;37m2019-12-19 00:58:46,782 INFO     [day19.q_2:16] current_top_right = (118, 179)\u001b[0m\n",
      "\u001b[01;37m2019-12-19 00:58:46,947 INFO     [day19.q_2:16] current_top_right = (119, 179)\u001b[0m\n",
      "\u001b[01;37m2019-12-19 00:58:47,035 INFO     [day19.q_2:16] current_top_right = (119, 180)\u001b[0m\n",
      "\u001b[01;37m2019-12-19 00:58:47,212 INFO     [day19.q_2:16] current_top_right = (120, 180)\u001b[0m\n",
      "\u001b[01;37m2019-12-19 00:58:47,305 INFO     [day19.q_2:16] current_top_right = (120, 181)\u001b[0m\n",
      "\u001b[01;37m2019-12-19 00:58:47,374 INFO     [day19.q_2:16] current_top_right = (120, 182)\u001b[0m\n",
      "\u001b[01;37m2019-12-19 00:58:47,497 INFO     [day19.q_2:16] current_top_right = (121, 182)\u001b[0m\n",
      "\u001b[01;37m2019-12-19 00:58:47,562 INFO     [day19.q_2:16] current_top_right = (121, 183)\u001b[0m\n",
      "\u001b[01;37m2019-12-19 00:58:47,683 INFO     [day19.q_2:16] current_top_right = (122, 183)\u001b[0m\n",
      "\u001b[01;37m2019-12-19 00:58:47,749 INFO     [day19.q_2:16] current_top_right = (122, 184)\u001b[0m\n",
      "\u001b[01;37m2019-12-19 00:58:47,840 INFO     [day19.q_2:16] current_top_right = (122, 185)\u001b[0m\n",
      "\u001b[01;37m2019-12-19 00:58:47,959 INFO     [day19.q_2:16] current_top_right = (123, 185)\u001b[0m\n",
      "\u001b[01;37m2019-12-19 00:58:48,025 INFO     [day19.q_2:16] current_top_right = (123, 186)\u001b[0m\n",
      "\u001b[01;37m2019-12-19 00:58:48,146 INFO     [day19.q_2:16] current_top_right = (124, 186)\u001b[0m\n",
      "\u001b[01;37m2019-12-19 00:58:48,211 INFO     [day19.q_2:16] current_top_right = (124, 187)\u001b[0m\n",
      "\u001b[01;37m2019-12-19 00:58:48,304 INFO     [day19.q_2:16] current_top_right = (124, 188)\u001b[0m\n",
      "\u001b[01;37m2019-12-19 00:58:48,396 INFO     [day19.q_2:16] current_top_right = (125, 188)\u001b[0m\n",
      "\u001b[01;37m2019-12-19 00:58:48,488 INFO     [day19.q_2:16] current_top_right = (125, 189)\u001b[0m\n",
      "\u001b[01;37m2019-12-19 00:58:48,611 INFO     [day19.q_2:16] current_top_right = (126, 189)\u001b[0m\n",
      "\u001b[01;37m2019-12-19 00:58:48,680 INFO     [day19.q_2:16] current_top_right = (126, 190)\u001b[0m\n",
      "\u001b[01;37m2019-12-19 00:58:48,779 INFO     [day19.q_2:16] current_top_right = (126, 191)\u001b[0m\n",
      "\u001b[01;37m2019-12-19 00:58:48,872 INFO     [day19.q_2:16] current_top_right = (127, 191)\u001b[0m\n",
      "\u001b[01;37m2019-12-19 00:58:48,964 INFO     [day19.q_2:16] current_top_right = (127, 192)\u001b[0m\n",
      "\u001b[01;37m2019-12-19 00:58:49,059 INFO     [day19.q_2:16] current_top_right = (128, 192)\u001b[0m\n",
      "\u001b[01;37m2019-12-19 00:58:49,153 INFO     [day19.q_2:16] current_top_right = (128, 193)\u001b[0m\n",
      "\u001b[01;37m2019-12-19 00:58:49,247 INFO     [day19.q_2:16] current_top_right = (128, 194)\u001b[0m\n",
      "\u001b[01;37m2019-12-19 00:58:49,339 INFO     [day19.q_2:16] current_top_right = (129, 194)\u001b[0m\n",
      "\u001b[01;37m2019-12-19 00:58:49,436 INFO     [day19.q_2:16] current_top_right = (129, 195)\u001b[0m\n",
      "\u001b[01;37m2019-12-19 00:58:49,529 INFO     [day19.q_2:16] current_top_right = (130, 195)\u001b[0m\n",
      "\u001b[01;37m2019-12-19 00:58:49,622 INFO     [day19.q_2:16] current_top_right = (130, 196)\u001b[0m\n",
      "\u001b[01;37m2019-12-19 00:58:49,687 INFO     [day19.q_2:16] current_top_right = (130, 197)\u001b[0m\n",
      "\u001b[01;37m2019-12-19 00:58:49,808 INFO     [day19.q_2:16] current_top_right = (131, 197)\u001b[0m\n",
      "\u001b[01;37m2019-12-19 00:58:49,873 INFO     [day19.q_2:16] current_top_right = (131, 198)\u001b[0m\n",
      "\u001b[01;37m2019-12-19 00:58:49,967 INFO     [day19.q_2:16] current_top_right = (131, 199)\u001b[0m\n",
      "\u001b[01;37m2019-12-19 00:58:50,092 INFO     [day19.q_2:16] current_top_right = (132, 199)\u001b[0m\n",
      "\u001b[01;37m2019-12-19 00:58:50,157 INFO     [day19.q_2:16] current_top_right = (132, 200)\u001b[0m\n",
      "\u001b[01;37m2019-12-19 00:58:50,278 INFO     [day19.q_2:16] current_top_right = (133, 200)\u001b[0m\n",
      "\u001b[01;37m2019-12-19 00:58:50,344 INFO     [day19.q_2:16] current_top_right = (133, 201)\u001b[0m\n",
      "\u001b[01;37m2019-12-19 00:58:50,438 INFO     [day19.q_2:16] current_top_right = (133, 202)\u001b[0m\n",
      "\u001b[01;37m2019-12-19 00:58:50,532 INFO     [day19.q_2:16] current_top_right = (134, 202)\u001b[0m\n",
      "\u001b[01;37m2019-12-19 00:58:50,627 INFO     [day19.q_2:16] current_top_right = (134, 203)\u001b[0m\n",
      "\u001b[01;37m2019-12-19 00:58:50,751 INFO     [day19.q_2:16] current_top_right = (135, 203)\u001b[0m\n",
      "\u001b[01;37m2019-12-19 00:58:50,818 INFO     [day19.q_2:16] current_top_right = (135, 204)\u001b[0m\n",
      "\u001b[01;37m2019-12-19 00:58:50,913 INFO     [day19.q_2:16] current_top_right = (135, 205)\u001b[0m\n",
      "\u001b[01;37m2019-12-19 00:58:51,008 INFO     [day19.q_2:16] current_top_right = (136, 205)\u001b[0m\n",
      "\u001b[01;37m2019-12-19 00:58:51,105 INFO     [day19.q_2:16] current_top_right = (136, 206)\u001b[0m\n",
      "\u001b[01;37m2019-12-19 00:58:51,199 INFO     [day19.q_2:16] current_top_right = (137, 206)\u001b[0m\n",
      "\u001b[01;37m2019-12-19 00:58:51,293 INFO     [day19.q_2:16] current_top_right = (137, 207)\u001b[0m\n",
      "\u001b[01;37m2019-12-19 00:58:51,393 INFO     [day19.q_2:16] current_top_right = (137, 208)\u001b[0m\n",
      "\u001b[01;37m2019-12-19 00:58:51,488 INFO     [day19.q_2:16] current_top_right = (138, 208)\u001b[0m\n",
      "\u001b[01;37m2019-12-19 00:58:51,583 INFO     [day19.q_2:16] current_top_right = (138, 209)\u001b[0m\n",
      "\u001b[01;37m2019-12-19 00:58:51,681 INFO     [day19.q_2:16] current_top_right = (139, 209)\u001b[0m\n",
      "\u001b[01;37m2019-12-19 00:58:51,775 INFO     [day19.q_2:16] current_top_right = (139, 210)\u001b[0m\n",
      "\u001b[01;37m2019-12-19 00:58:51,841 INFO     [day19.q_2:16] current_top_right = (139, 211)\u001b[0m\n",
      "\u001b[01;37m2019-12-19 00:58:51,964 INFO     [day19.q_2:16] current_top_right = (140, 211)\u001b[0m\n",
      "\u001b[01;37m2019-12-19 00:58:52,062 INFO     [day19.q_2:16] current_top_right = (140, 212)\u001b[0m\n",
      "\u001b[01;37m2019-12-19 00:58:52,158 INFO     [day19.q_2:16] current_top_right = (141, 212)\u001b[0m\n",
      "\u001b[01;37m2019-12-19 00:58:52,253 INFO     [day19.q_2:16] current_top_right = (141, 213)\u001b[0m\n",
      "\u001b[01;37m2019-12-19 00:58:52,323 INFO     [day19.q_2:16] current_top_right = (141, 214)\u001b[0m\n",
      "\u001b[01;37m2019-12-19 00:58:52,445 INFO     [day19.q_2:16] current_top_right = (142, 214)\u001b[0m\n",
      "\u001b[01;37m2019-12-19 00:58:52,515 INFO     [day19.q_2:16] current_top_right = (142, 215)\u001b[0m\n",
      "\u001b[01;37m2019-12-19 00:58:52,638 INFO     [day19.q_2:16] current_top_right = (143, 215)\u001b[0m\n",
      "\u001b[01;37m2019-12-19 00:58:52,733 INFO     [day19.q_2:16] current_top_right = (143, 216)\u001b[0m\n"
     ]
    },
    {
     "name": "stdout",
     "output_type": "stream",
     "text": [
      "\u001b[01;37m2019-12-19 00:58:52,801 INFO     [day19.q_2:16] current_top_right = (143, 217)\u001b[0m\n",
      "\u001b[01;37m2019-12-19 00:58:52,924 INFO     [day19.q_2:16] current_top_right = (144, 217)\u001b[0m\n",
      "\u001b[01;37m2019-12-19 00:58:52,993 INFO     [day19.q_2:16] current_top_right = (144, 218)\u001b[0m\n",
      "\u001b[01;37m2019-12-19 00:58:53,119 INFO     [day19.q_2:16] current_top_right = (145, 218)\u001b[0m\n",
      "\u001b[01;37m2019-12-19 00:58:53,186 INFO     [day19.q_2:16] current_top_right = (145, 219)\u001b[0m\n",
      "\u001b[01;37m2019-12-19 00:58:53,280 INFO     [day19.q_2:16] current_top_right = (145, 220)\u001b[0m\n",
      "\u001b[01;37m2019-12-19 00:58:53,405 INFO     [day19.q_2:16] current_top_right = (146, 220)\u001b[0m\n",
      "\u001b[01;37m2019-12-19 00:58:53,472 INFO     [day19.q_2:16] current_top_right = (146, 221)\u001b[0m\n",
      "\u001b[01;37m2019-12-19 00:58:53,595 INFO     [day19.q_2:16] current_top_right = (147, 221)\u001b[0m\n",
      "\u001b[01;37m2019-12-19 00:58:53,662 INFO     [day19.q_2:16] current_top_right = (147, 222)\u001b[0m\n",
      "\u001b[01;37m2019-12-19 00:58:53,759 INFO     [day19.q_2:16] current_top_right = (147, 223)\u001b[0m\n",
      "\u001b[01;37m2019-12-19 00:58:53,855 INFO     [day19.q_2:16] current_top_right = (148, 223)\u001b[0m\n",
      "\u001b[01;37m2019-12-19 00:58:53,953 INFO     [day19.q_2:16] current_top_right = (148, 224)\u001b[0m\n",
      "\u001b[01;37m2019-12-19 00:58:54,055 INFO     [day19.q_2:16] current_top_right = (149, 224)\u001b[0m\n",
      "\u001b[01;37m2019-12-19 00:58:54,152 INFO     [day19.q_2:16] current_top_right = (149, 225)\u001b[0m\n",
      "\u001b[01;37m2019-12-19 00:58:54,249 INFO     [day19.q_2:16] current_top_right = (149, 226)\u001b[0m\n",
      "\u001b[01;37m2019-12-19 00:58:54,351 INFO     [day19.q_2:16] current_top_right = (150, 226)\u001b[0m\n",
      "\u001b[01;37m2019-12-19 00:58:54,448 INFO     [day19.q_2:16] current_top_right = (150, 227)\u001b[0m\n",
      "\u001b[01;37m2019-12-19 00:58:54,548 INFO     [day19.q_2:16] current_top_right = (151, 227)\u001b[0m\n",
      "\u001b[01;37m2019-12-19 00:58:54,644 INFO     [day19.q_2:16] current_top_right = (151, 228)\u001b[0m\n",
      "\u001b[01;37m2019-12-19 00:58:54,713 INFO     [day19.q_2:16] current_top_right = (151, 229)\u001b[0m\n",
      "\u001b[01;37m2019-12-19 00:58:54,838 INFO     [day19.q_2:16] current_top_right = (152, 229)\u001b[0m\n",
      "\u001b[01;37m2019-12-19 00:58:54,934 INFO     [day19.q_2:16] current_top_right = (152, 230)\u001b[0m\n",
      "\u001b[01;37m2019-12-19 00:58:55,032 INFO     [day19.q_2:16] current_top_right = (153, 230)\u001b[0m\n",
      "\u001b[01;37m2019-12-19 00:58:55,130 INFO     [day19.q_2:16] current_top_right = (153, 231)\u001b[0m\n",
      "\u001b[01;37m2019-12-19 00:58:55,197 INFO     [day19.q_2:16] current_top_right = (153, 232)\u001b[0m\n",
      "\u001b[01;37m2019-12-19 00:58:55,321 INFO     [day19.q_2:16] current_top_right = (154, 232)\u001b[0m\n",
      "\u001b[01;37m2019-12-19 00:58:55,388 INFO     [day19.q_2:16] current_top_right = (154, 233)\u001b[0m\n",
      "\u001b[01;37m2019-12-19 00:58:55,510 INFO     [day19.q_2:16] current_top_right = (155, 233)\u001b[0m\n",
      "\u001b[01;37m2019-12-19 00:58:55,606 INFO     [day19.q_2:16] current_top_right = (155, 234)\u001b[0m\n",
      "\u001b[01;37m2019-12-19 00:58:55,674 INFO     [day19.q_2:16] current_top_right = (155, 235)\u001b[0m\n",
      "\u001b[01;37m2019-12-19 00:58:55,797 INFO     [day19.q_2:16] current_top_right = (156, 235)\u001b[0m\n",
      "\u001b[01;37m2019-12-19 00:58:55,866 INFO     [day19.q_2:16] current_top_right = (156, 236)\u001b[0m\n",
      "\u001b[01;37m2019-12-19 00:58:55,991 INFO     [day19.q_2:16] current_top_right = (157, 236)\u001b[0m\n",
      "\u001b[01;37m2019-12-19 00:58:56,063 INFO     [day19.q_2:16] current_top_right = (157, 237)\u001b[0m\n",
      "\u001b[01;37m2019-12-19 00:58:56,160 INFO     [day19.q_2:16] current_top_right = (157, 238)\u001b[0m\n",
      "\u001b[01;37m2019-12-19 00:58:56,283 INFO     [day19.q_2:16] current_top_right = (158, 238)\u001b[0m\n",
      "\u001b[01;37m2019-12-19 00:58:56,357 INFO     [day19.q_2:16] current_top_right = (158, 239)\u001b[0m\n",
      "\u001b[01;37m2019-12-19 00:58:56,452 INFO     [day19.q_2:16] current_top_right = (158, 240)\u001b[0m\n",
      "\u001b[01;37m2019-12-19 00:58:56,547 INFO     [day19.q_2:16] current_top_right = (159, 240)\u001b[0m\n",
      "\u001b[01;37m2019-12-19 00:58:56,645 INFO     [day19.q_2:16] current_top_right = (159, 241)\u001b[0m\n",
      "\u001b[01;37m2019-12-19 00:58:56,743 INFO     [day19.q_2:16] current_top_right = (160, 241)\u001b[0m\n",
      "\u001b[01;37m2019-12-19 00:58:56,840 INFO     [day19.q_2:16] current_top_right = (160, 242)\u001b[0m\n",
      "\u001b[01;37m2019-12-19 00:58:56,938 INFO     [day19.q_2:16] current_top_right = (160, 243)\u001b[0m\n",
      "\u001b[01;37m2019-12-19 00:58:57,035 INFO     [day19.q_2:16] current_top_right = (161, 243)\u001b[0m\n",
      "\u001b[01;37m2019-12-19 00:58:57,134 INFO     [day19.q_2:16] current_top_right = (161, 244)\u001b[0m\n",
      "\u001b[01;37m2019-12-19 00:58:57,232 INFO     [day19.q_2:16] current_top_right = (162, 244)\u001b[0m\n",
      "\u001b[01;37m2019-12-19 00:58:57,330 INFO     [day19.q_2:16] current_top_right = (162, 245)\u001b[0m\n",
      "\u001b[01;37m2019-12-19 00:58:57,401 INFO     [day19.q_2:16] current_top_right = (162, 246)\u001b[0m\n",
      "\u001b[01;37m2019-12-19 00:58:57,527 INFO     [day19.q_2:16] current_top_right = (163, 246)\u001b[0m\n",
      "\u001b[01;37m2019-12-19 00:58:57,625 INFO     [day19.q_2:16] current_top_right = (163, 247)\u001b[0m\n",
      "\u001b[01;37m2019-12-19 00:58:57,723 INFO     [day19.q_2:16] current_top_right = (164, 247)\u001b[0m\n",
      "\u001b[01;37m2019-12-19 00:58:57,820 INFO     [day19.q_2:16] current_top_right = (164, 248)\u001b[0m\n",
      "\u001b[01;37m2019-12-19 00:58:57,890 INFO     [day19.q_2:16] current_top_right = (164, 249)\u001b[0m\n",
      "\u001b[01;37m2019-12-19 00:58:58,016 INFO     [day19.q_2:16] current_top_right = (165, 249)\u001b[0m\n",
      "\u001b[01;37m2019-12-19 00:58:58,089 INFO     [day19.q_2:16] current_top_right = (165, 250)\u001b[0m\n",
      "\u001b[01;37m2019-12-19 00:58:58,214 INFO     [day19.q_2:16] current_top_right = (166, 250)\u001b[0m\n",
      "\u001b[01;37m2019-12-19 00:58:58,287 INFO     [day19.q_2:16] current_top_right = (166, 251)\u001b[0m\n",
      "\u001b[01;37m2019-12-19 00:58:58,388 INFO     [day19.q_2:16] current_top_right = (166, 252)\u001b[0m\n",
      "\u001b[01;37m2019-12-19 00:58:58,514 INFO     [day19.q_2:16] current_top_right = (167, 252)\u001b[0m\n",
      "\u001b[01;37m2019-12-19 00:58:58,585 INFO     [day19.q_2:16] current_top_right = (167, 253)\u001b[0m\n",
      "\u001b[01;37m2019-12-19 00:58:58,709 INFO     [day19.q_2:16] current_top_right = (168, 253)\u001b[0m\n",
      "\u001b[01;37m2019-12-19 00:58:58,781 INFO     [day19.q_2:16] current_top_right = (168, 254)\u001b[0m\n",
      "\u001b[01;37m2019-12-19 00:58:58,879 INFO     [day19.q_2:16] current_top_right = (168, 255)\u001b[0m\n",
      "\u001b[01;37m2019-12-19 00:58:58,978 INFO     [day19.q_2:16] current_top_right = (169, 255)\u001b[0m\n",
      "\u001b[01;37m2019-12-19 00:58:59,079 INFO     [day19.q_2:16] current_top_right = (169, 256)\u001b[0m\n",
      "\u001b[01;37m2019-12-19 00:58:59,204 INFO     [day19.q_2:16] current_top_right = (170, 256)\u001b[0m\n",
      "\u001b[01;37m2019-12-19 00:58:59,276 INFO     [day19.q_2:16] current_top_right = (170, 257)\u001b[0m\n",
      "\u001b[01;37m2019-12-19 00:58:59,376 INFO     [day19.q_2:16] current_top_right = (170, 258)\u001b[0m\n",
      "\u001b[01;37m2019-12-19 00:58:59,474 INFO     [day19.q_2:16] current_top_right = (171, 258)\u001b[0m\n",
      "\u001b[01;37m2019-12-19 00:58:59,576 INFO     [day19.q_2:16] current_top_right = (171, 259)\u001b[0m\n",
      "\u001b[01;37m2019-12-19 00:58:59,675 INFO     [day19.q_2:16] current_top_right = (172, 259)\u001b[0m\n",
      "\u001b[01;37m2019-12-19 00:58:59,774 INFO     [day19.q_2:16] current_top_right = (172, 260)\u001b[0m\n",
      "\u001b[01;37m2019-12-19 00:58:59,874 INFO     [day19.q_2:16] current_top_right = (172, 261)\u001b[0m\n",
      "\u001b[01;37m2019-12-19 00:58:59,974 INFO     [day19.q_2:16] current_top_right = (173, 261)\u001b[0m\n",
      "\u001b[01;37m2019-12-19 00:59:00,080 INFO     [day19.q_2:16] current_top_right = (173, 262)\u001b[0m\n",
      "\u001b[01;37m2019-12-19 00:59:00,179 INFO     [day19.q_2:16] current_top_right = (174, 262)\u001b[0m\n",
      "\u001b[01;37m2019-12-19 00:59:00,278 INFO     [day19.q_2:16] current_top_right = (174, 263)\u001b[0m\n",
      "\u001b[01;37m2019-12-19 00:59:00,352 INFO     [day19.q_2:16] current_top_right = (174, 264)\u001b[0m\n",
      "\u001b[01;37m2019-12-19 00:59:00,479 INFO     [day19.q_2:16] current_top_right = (175, 264)\u001b[0m\n",
      "\u001b[01;37m2019-12-19 00:59:00,579 INFO     [day19.q_2:16] current_top_right = (175, 265)\u001b[0m\n",
      "\u001b[01;37m2019-12-19 00:59:00,679 INFO     [day19.q_2:16] current_top_right = (176, 265)\u001b[0m\n",
      "\u001b[01;37m2019-12-19 00:59:00,779 INFO     [day19.q_2:16] current_top_right = (176, 266)\u001b[0m\n",
      "\u001b[01;37m2019-12-19 00:59:00,851 INFO     [day19.q_2:16] current_top_right = (176, 267)\u001b[0m\n",
      "\u001b[01;37m2019-12-19 00:59:00,986 INFO     [day19.q_2:16] current_top_right = (177, 267)\u001b[0m\n",
      "\u001b[01;37m2019-12-19 00:59:01,061 INFO     [day19.q_2:16] current_top_right = (177, 268)\u001b[0m\n",
      "\u001b[01;37m2019-12-19 00:59:01,191 INFO     [day19.q_2:16] current_top_right = (178, 268)\u001b[0m\n",
      "\u001b[01;37m2019-12-19 00:59:01,291 INFO     [day19.q_2:16] current_top_right = (178, 269)\u001b[0m\n",
      "\u001b[01;37m2019-12-19 00:59:01,367 INFO     [day19.q_2:16] current_top_right = (178, 270)\u001b[0m\n",
      "\u001b[01;37m2019-12-19 00:59:01,496 INFO     [day19.q_2:16] current_top_right = (179, 270)\u001b[0m\n",
      "\u001b[01;37m2019-12-19 00:59:01,570 INFO     [day19.q_2:16] current_top_right = (179, 271)\u001b[0m\n"
     ]
    },
    {
     "name": "stdout",
     "output_type": "stream",
     "text": [
      "\u001b[01;37m2019-12-19 00:59:01,698 INFO     [day19.q_2:16] current_top_right = (180, 271)\u001b[0m\n",
      "\u001b[01;37m2019-12-19 00:59:01,771 INFO     [day19.q_2:16] current_top_right = (180, 272)\u001b[0m\n",
      "\u001b[01;37m2019-12-19 00:59:01,871 INFO     [day19.q_2:16] current_top_right = (180, 273)\u001b[0m\n",
      "\u001b[01;37m2019-12-19 00:59:01,999 INFO     [day19.q_2:16] current_top_right = (181, 273)\u001b[0m\n",
      "\u001b[01;37m2019-12-19 00:59:02,075 INFO     [day19.q_2:16] current_top_right = (181, 274)\u001b[0m\n",
      "\u001b[01;37m2019-12-19 00:59:02,204 INFO     [day19.q_2:16] current_top_right = (182, 274)\u001b[0m\n",
      "\u001b[01;37m2019-12-19 00:59:02,283 INFO     [day19.q_2:16] current_top_right = (182, 275)\u001b[0m\n",
      "\u001b[01;37m2019-12-19 00:59:02,384 INFO     [day19.q_2:16] current_top_right = (182, 276)\u001b[0m\n",
      "\u001b[01;37m2019-12-19 00:59:02,485 INFO     [day19.q_2:16] current_top_right = (183, 276)\u001b[0m\n",
      "\u001b[01;37m2019-12-19 00:59:02,588 INFO     [day19.q_2:16] current_top_right = (183, 277)\u001b[0m\n",
      "\u001b[01;37m2019-12-19 00:59:02,691 INFO     [day19.q_2:16] current_top_right = (184, 277)\u001b[0m\n",
      "\u001b[01;37m2019-12-19 00:59:02,793 INFO     [day19.q_2:16] current_top_right = (184, 278)\u001b[0m\n",
      "\u001b[01;37m2019-12-19 00:59:02,896 INFO     [day19.q_2:16] current_top_right = (184, 279)\u001b[0m\n",
      "\u001b[01;37m2019-12-19 00:59:02,998 INFO     [day19.q_2:16] current_top_right = (185, 279)\u001b[0m\n",
      "\u001b[01;37m2019-12-19 00:59:03,105 INFO     [day19.q_2:16] current_top_right = (185, 280)\u001b[0m\n",
      "\u001b[01;37m2019-12-19 00:59:03,180 INFO     [day19.q_2:16] current_top_right = (185, 281)\u001b[0m\n",
      "\u001b[01;37m2019-12-19 00:59:03,311 INFO     [day19.q_2:16] current_top_right = (186, 281)\u001b[0m\n",
      "\u001b[01;37m2019-12-19 00:59:03,385 INFO     [day19.q_2:16] current_top_right = (186, 282)\u001b[0m\n",
      "\u001b[01;37m2019-12-19 00:59:03,514 INFO     [day19.q_2:16] current_top_right = (187, 282)\u001b[0m\n",
      "\u001b[01;37m2019-12-19 00:59:03,619 INFO     [day19.q_2:16] current_top_right = (187, 283)\u001b[0m\n",
      "\u001b[01;37m2019-12-19 00:59:03,694 INFO     [day19.q_2:16] current_top_right = (187, 284)\u001b[0m\n",
      "\u001b[01;37m2019-12-19 00:59:03,823 INFO     [day19.q_2:16] current_top_right = (188, 284)\u001b[0m\n",
      "\u001b[01;37m2019-12-19 00:59:03,898 INFO     [day19.q_2:16] current_top_right = (188, 285)\u001b[0m\n",
      "\u001b[01;37m2019-12-19 00:59:04,029 INFO     [day19.q_2:16] current_top_right = (189, 285)\u001b[0m\n",
      "\u001b[01;37m2019-12-19 00:59:04,108 INFO     [day19.q_2:16] current_top_right = (189, 286)\u001b[0m\n",
      "\u001b[01;37m2019-12-19 00:59:04,211 INFO     [day19.q_2:16] current_top_right = (189, 287)\u001b[0m\n",
      "\u001b[01;37m2019-12-19 00:59:04,341 INFO     [day19.q_2:16] current_top_right = (190, 287)\u001b[0m\n",
      "\u001b[01;37m2019-12-19 00:59:04,418 INFO     [day19.q_2:16] current_top_right = (190, 288)\u001b[0m\n",
      "\u001b[01;37m2019-12-19 00:59:04,548 INFO     [day19.q_2:16] current_top_right = (191, 288)\u001b[0m\n",
      "\u001b[01;37m2019-12-19 00:59:04,626 INFO     [day19.q_2:16] current_top_right = (191, 289)\u001b[0m\n",
      "\u001b[01;37m2019-12-19 00:59:04,731 INFO     [day19.q_2:16] current_top_right = (191, 290)\u001b[0m\n",
      "\u001b[01;37m2019-12-19 00:59:04,836 INFO     [day19.q_2:16] current_top_right = (192, 290)\u001b[0m\n",
      "\u001b[01;37m2019-12-19 00:59:04,939 INFO     [day19.q_2:16] current_top_right = (192, 291)\u001b[0m\n",
      "\u001b[01;37m2019-12-19 00:59:05,074 INFO     [day19.q_2:16] current_top_right = (193, 291)\u001b[0m\n",
      "\u001b[01;37m2019-12-19 00:59:05,150 INFO     [day19.q_2:16] current_top_right = (193, 292)\u001b[0m\n",
      "\u001b[01;37m2019-12-19 00:59:05,254 INFO     [day19.q_2:16] current_top_right = (193, 293)\u001b[0m\n",
      "\u001b[01;37m2019-12-19 00:59:05,359 INFO     [day19.q_2:16] current_top_right = (194, 293)\u001b[0m\n",
      "\u001b[01;37m2019-12-19 00:59:05,462 INFO     [day19.q_2:16] current_top_right = (194, 294)\u001b[0m\n",
      "\u001b[01;37m2019-12-19 00:59:05,566 INFO     [day19.q_2:16] current_top_right = (195, 294)\u001b[0m\n",
      "\u001b[01;37m2019-12-19 00:59:05,670 INFO     [day19.q_2:16] current_top_right = (195, 295)\u001b[0m\n",
      "\u001b[01;37m2019-12-19 00:59:05,774 INFO     [day19.q_2:16] current_top_right = (195, 296)\u001b[0m\n",
      "\u001b[01;37m2019-12-19 00:59:05,878 INFO     [day19.q_2:16] current_top_right = (196, 296)\u001b[0m\n",
      "\u001b[01;37m2019-12-19 00:59:05,982 INFO     [day19.q_2:16] current_top_right = (196, 297)\u001b[0m\n",
      "\u001b[01;37m2019-12-19 00:59:06,090 INFO     [day19.q_2:16] current_top_right = (197, 297)\u001b[0m\n",
      "\u001b[01;37m2019-12-19 00:59:06,194 INFO     [day19.q_2:16] current_top_right = (197, 298)\u001b[0m\n",
      "\u001b[01;37m2019-12-19 00:59:06,271 INFO     [day19.q_2:16] current_top_right = (197, 299)\u001b[0m\n",
      "\u001b[01;37m2019-12-19 00:59:06,408 INFO     [day19.q_2:16] current_top_right = (198, 299)\u001b[0m\n",
      "\u001b[01;37m2019-12-19 00:59:06,514 INFO     [day19.q_2:16] current_top_right = (198, 300)\u001b[0m\n",
      "\u001b[01;37m2019-12-19 00:59:06,619 INFO     [day19.q_2:16] current_top_right = (199, 300)\u001b[0m\n",
      "\u001b[01;37m2019-12-19 00:59:06,725 INFO     [day19.q_2:16] current_top_right = (199, 301)\u001b[0m\n",
      "\u001b[01;37m2019-12-19 00:59:06,802 INFO     [day19.q_2:16] current_top_right = (199, 302)\u001b[0m\n",
      "\u001b[01;37m2019-12-19 00:59:06,935 INFO     [day19.q_2:16] current_top_right = (200, 302)\u001b[0m\n",
      "\u001b[01;37m2019-12-19 00:59:07,013 INFO     [day19.q_2:16] current_top_right = (200, 303)\u001b[0m\n",
      "\u001b[01;37m2019-12-19 00:59:07,148 INFO     [day19.q_2:16] current_top_right = (201, 303)\u001b[0m\n",
      "\u001b[01;37m2019-12-19 00:59:07,257 INFO     [day19.q_2:16] current_top_right = (201, 304)\u001b[0m\n",
      "\u001b[01;37m2019-12-19 00:59:07,339 INFO     [day19.q_2:16] current_top_right = (201, 305)\u001b[0m\n",
      "\u001b[01;37m2019-12-19 00:59:07,475 INFO     [day19.q_2:16] current_top_right = (202, 305)\u001b[0m\n",
      "\u001b[01;37m2019-12-19 00:59:07,556 INFO     [day19.q_2:16] current_top_right = (202, 306)\u001b[0m\n",
      "\u001b[01;37m2019-12-19 00:59:07,690 INFO     [day19.q_2:16] current_top_right = (203, 306)\u001b[0m\n",
      "\u001b[01;37m2019-12-19 00:59:07,774 INFO     [day19.q_2:16] current_top_right = (203, 307)\u001b[0m\n",
      "\u001b[01;37m2019-12-19 00:59:07,881 INFO     [day19.q_2:16] current_top_right = (203, 308)\u001b[0m\n",
      "\u001b[01;37m2019-12-19 00:59:07,986 INFO     [day19.q_2:16] current_top_right = (204, 308)\u001b[0m\n",
      "\u001b[01;37m2019-12-19 00:59:08,095 INFO     [day19.q_2:16] current_top_right = (204, 309)\u001b[0m\n",
      "\u001b[01;37m2019-12-19 00:59:08,229 INFO     [day19.q_2:16] current_top_right = (205, 309)\u001b[0m\n",
      "\u001b[01;37m2019-12-19 00:59:08,310 INFO     [day19.q_2:16] current_top_right = (205, 310)\u001b[0m\n",
      "\u001b[01;37m2019-12-19 00:59:08,419 INFO     [day19.q_2:16] current_top_right = (205, 311)\u001b[0m\n",
      "\u001b[01;37m2019-12-19 00:59:08,526 INFO     [day19.q_2:16] current_top_right = (206, 311)\u001b[0m\n",
      "\u001b[01;37m2019-12-19 00:59:08,633 INFO     [day19.q_2:16] current_top_right = (206, 312)\u001b[0m\n",
      "\u001b[01;37m2019-12-19 00:59:08,746 INFO     [day19.q_2:16] current_top_right = (207, 312)\u001b[0m\n",
      "\u001b[01;37m2019-12-19 00:59:08,853 INFO     [day19.q_2:16] current_top_right = (207, 313)\u001b[0m\n",
      "\u001b[01;37m2019-12-19 00:59:08,965 INFO     [day19.q_2:16] current_top_right = (207, 314)\u001b[0m\n",
      "\u001b[01;37m2019-12-19 00:59:09,075 INFO     [day19.q_2:16] current_top_right = (208, 314)\u001b[0m\n",
      "\u001b[01;37m2019-12-19 00:59:09,183 INFO     [day19.q_2:16] current_top_right = (208, 315)\u001b[0m\n",
      "\u001b[01;37m2019-12-19 00:59:09,290 INFO     [day19.q_2:16] current_top_right = (209, 315)\u001b[0m\n",
      "\u001b[01;37m2019-12-19 00:59:09,399 INFO     [day19.q_2:16] current_top_right = (209, 316)\u001b[0m\n",
      "\u001b[01;37m2019-12-19 00:59:09,479 INFO     [day19.q_2:16] current_top_right = (209, 317)\u001b[0m\n",
      "\u001b[01;37m2019-12-19 00:59:09,614 INFO     [day19.q_2:16] current_top_right = (210, 317)\u001b[0m\n",
      "\u001b[01;37m2019-12-19 00:59:09,722 INFO     [day19.q_2:16] current_top_right = (210, 318)\u001b[0m\n",
      "\u001b[01;37m2019-12-19 00:59:09,802 INFO     [day19.q_2:16] current_top_right = (210, 319)\u001b[0m\n",
      "\u001b[01;37m2019-12-19 00:59:09,937 INFO     [day19.q_2:16] current_top_right = (211, 319)\u001b[0m\n",
      "\u001b[01;37m2019-12-19 00:59:10,019 INFO     [day19.q_2:16] current_top_right = (211, 320)\u001b[0m\n",
      "\u001b[01;37m2019-12-19 00:59:10,155 INFO     [day19.q_2:16] current_top_right = (212, 320)\u001b[0m\n",
      "\u001b[01;37m2019-12-19 00:59:10,236 INFO     [day19.q_2:16] current_top_right = (212, 321)\u001b[0m\n",
      "\u001b[01;37m2019-12-19 00:59:10,349 INFO     [day19.q_2:16] current_top_right = (212, 322)\u001b[0m\n",
      "\u001b[01;37m2019-12-19 00:59:10,486 INFO     [day19.q_2:16] current_top_right = (213, 322)\u001b[0m\n",
      "\u001b[01;37m2019-12-19 00:59:10,567 INFO     [day19.q_2:16] current_top_right = (213, 323)\u001b[0m\n",
      "\u001b[01;37m2019-12-19 00:59:10,703 INFO     [day19.q_2:16] current_top_right = (214, 323)\u001b[0m\n",
      "\u001b[01;37m2019-12-19 00:59:10,785 INFO     [day19.q_2:16] current_top_right = (214, 324)\u001b[0m\n",
      "\u001b[01;37m2019-12-19 00:59:10,894 INFO     [day19.q_2:16] current_top_right = (214, 325)\u001b[0m\n",
      "\u001b[01;37m2019-12-19 00:59:11,003 INFO     [day19.q_2:16] current_top_right = (215, 325)\u001b[0m\n",
      "\u001b[01;37m2019-12-19 00:59:11,114 INFO     [day19.q_2:16] current_top_right = (215, 326)\u001b[0m\n"
     ]
    },
    {
     "name": "stdout",
     "output_type": "stream",
     "text": [
      "\u001b[01;37m2019-12-19 00:59:11,250 INFO     [day19.q_2:16] current_top_right = (216, 326)\u001b[0m\n",
      "\u001b[01;37m2019-12-19 00:59:11,337 INFO     [day19.q_2:16] current_top_right = (216, 327)\u001b[0m\n",
      "\u001b[01;37m2019-12-19 00:59:11,446 INFO     [day19.q_2:16] current_top_right = (216, 328)\u001b[0m\n",
      "\u001b[01;37m2019-12-19 00:59:11,556 INFO     [day19.q_2:16] current_top_right = (217, 328)\u001b[0m\n",
      "\u001b[01;37m2019-12-19 00:59:11,665 INFO     [day19.q_2:16] current_top_right = (217, 329)\u001b[0m\n",
      "\u001b[01;37m2019-12-19 00:59:11,775 INFO     [day19.q_2:16] current_top_right = (218, 329)\u001b[0m\n",
      "\u001b[01;37m2019-12-19 00:59:11,885 INFO     [day19.q_2:16] current_top_right = (218, 330)\u001b[0m\n",
      "\u001b[01;37m2019-12-19 00:59:11,994 INFO     [day19.q_2:16] current_top_right = (218, 331)\u001b[0m\n",
      "\u001b[01;37m2019-12-19 00:59:12,108 INFO     [day19.q_2:16] current_top_right = (219, 331)\u001b[0m\n",
      "\u001b[01;37m2019-12-19 00:59:12,218 INFO     [day19.q_2:16] current_top_right = (219, 332)\u001b[0m\n",
      "\u001b[01;37m2019-12-19 00:59:12,332 INFO     [day19.q_2:16] current_top_right = (220, 332)\u001b[0m\n",
      "\u001b[01;37m2019-12-19 00:59:12,445 INFO     [day19.q_2:16] current_top_right = (220, 333)\u001b[0m\n",
      "\u001b[01;37m2019-12-19 00:59:12,528 INFO     [day19.q_2:16] current_top_right = (220, 334)\u001b[0m\n",
      "\u001b[01;37m2019-12-19 00:59:12,666 INFO     [day19.q_2:16] current_top_right = (221, 334)\u001b[0m\n",
      "\u001b[01;37m2019-12-19 00:59:12,749 INFO     [day19.q_2:16] current_top_right = (221, 335)\u001b[0m\n",
      "\u001b[01;37m2019-12-19 00:59:12,886 INFO     [day19.q_2:16] current_top_right = (222, 335)\u001b[0m\n",
      "\u001b[01;37m2019-12-19 00:59:12,997 INFO     [day19.q_2:16] current_top_right = (222, 336)\u001b[0m\n",
      "\u001b[01;37m2019-12-19 00:59:13,084 INFO     [day19.q_2:16] current_top_right = (222, 337)\u001b[0m\n",
      "\u001b[01;37m2019-12-19 00:59:13,222 INFO     [day19.q_2:16] current_top_right = (223, 337)\u001b[0m\n",
      "\u001b[01;37m2019-12-19 00:59:13,306 INFO     [day19.q_2:16] current_top_right = (223, 338)\u001b[0m\n",
      "\u001b[01;37m2019-12-19 00:59:13,445 INFO     [day19.q_2:16] current_top_right = (224, 338)\u001b[0m\n",
      "\u001b[01;37m2019-12-19 00:59:13,529 INFO     [day19.q_2:16] current_top_right = (224, 339)\u001b[0m\n",
      "\u001b[01;37m2019-12-19 00:59:13,641 INFO     [day19.q_2:16] current_top_right = (224, 340)\u001b[0m\n",
      "\u001b[01;37m2019-12-19 00:59:13,779 INFO     [day19.q_2:16] current_top_right = (225, 340)\u001b[0m\n",
      "\u001b[01;37m2019-12-19 00:59:13,870 INFO     [day19.q_2:16] current_top_right = (225, 341)\u001b[0m\n",
      "\u001b[01;37m2019-12-19 00:59:14,010 INFO     [day19.q_2:16] current_top_right = (226, 341)\u001b[0m\n",
      "\u001b[01;37m2019-12-19 00:59:14,098 INFO     [day19.q_2:16] current_top_right = (226, 342)\u001b[0m\n",
      "\u001b[01;37m2019-12-19 00:59:14,211 INFO     [day19.q_2:16] current_top_right = (226, 343)\u001b[0m\n",
      "\u001b[01;37m2019-12-19 00:59:14,323 INFO     [day19.q_2:16] current_top_right = (227, 343)\u001b[0m\n",
      "\u001b[01;37m2019-12-19 00:59:14,436 INFO     [day19.q_2:16] current_top_right = (227, 344)\u001b[0m\n",
      "\u001b[01;37m2019-12-19 00:59:14,574 INFO     [day19.q_2:16] current_top_right = (228, 344)\u001b[0m\n",
      "\u001b[01;37m2019-12-19 00:59:14,660 INFO     [day19.q_2:16] current_top_right = (228, 345)\u001b[0m\n",
      "\u001b[01;37m2019-12-19 00:59:14,772 INFO     [day19.q_2:16] current_top_right = (228, 346)\u001b[0m\n",
      "\u001b[01;37m2019-12-19 00:59:14,885 INFO     [day19.q_2:16] current_top_right = (229, 346)\u001b[0m\n",
      "\u001b[01;37m2019-12-19 00:59:14,997 INFO     [day19.q_2:16] current_top_right = (229, 347)\u001b[0m\n",
      "\u001b[01;37m2019-12-19 00:59:15,113 INFO     [day19.q_2:16] current_top_right = (230, 347)\u001b[0m\n",
      "\u001b[01;37m2019-12-19 00:59:15,226 INFO     [day19.q_2:16] current_top_right = (230, 348)\u001b[0m\n",
      "\u001b[01;37m2019-12-19 00:59:15,340 INFO     [day19.q_2:16] current_top_right = (230, 349)\u001b[0m\n",
      "\u001b[01;37m2019-12-19 00:59:15,453 INFO     [day19.q_2:16] current_top_right = (231, 349)\u001b[0m\n",
      "\u001b[01;37m2019-12-19 00:59:15,567 INFO     [day19.q_2:16] current_top_right = (231, 350)\u001b[0m\n",
      "\u001b[01;37m2019-12-19 00:59:15,681 INFO     [day19.q_2:16] current_top_right = (232, 350)\u001b[0m\n",
      "\u001b[01;37m2019-12-19 00:59:15,794 INFO     [day19.q_2:16] current_top_right = (232, 351)\u001b[0m\n",
      "\u001b[01;37m2019-12-19 00:59:15,881 INFO     [day19.q_2:16] current_top_right = (232, 352)\u001b[0m\n",
      "\u001b[01;37m2019-12-19 00:59:16,022 INFO     [day19.q_2:16] current_top_right = (233, 352)\u001b[0m\n",
      "\u001b[01;37m2019-12-19 00:59:16,161 INFO     [day19.q_2:16] current_top_right = (233, 353)\u001b[0m\n",
      "\u001b[01;37m2019-12-19 00:59:16,275 INFO     [day19.q_2:16] current_top_right = (234, 353)\u001b[0m\n",
      "\u001b[01;37m2019-12-19 00:59:16,394 INFO     [day19.q_2:16] current_top_right = (234, 354)\u001b[0m\n",
      "\u001b[01;37m2019-12-19 00:59:16,481 INFO     [day19.q_2:16] current_top_right = (234, 355)\u001b[0m\n",
      "\u001b[01;37m2019-12-19 00:59:16,622 INFO     [day19.q_2:16] current_top_right = (235, 355)\u001b[0m\n",
      "\u001b[01;37m2019-12-19 00:59:16,709 INFO     [day19.q_2:16] current_top_right = (235, 356)\u001b[0m\n",
      "\u001b[01;37m2019-12-19 00:59:16,852 INFO     [day19.q_2:16] current_top_right = (236, 356)\u001b[0m\n",
      "\u001b[01;37m2019-12-19 00:59:16,967 INFO     [day19.q_2:16] current_top_right = (236, 357)\u001b[0m\n",
      "\u001b[01;37m2019-12-19 00:59:17,098 INFO     [day19.q_2:16] current_top_right = (236, 358)\u001b[0m\n",
      "\u001b[01;37m2019-12-19 00:59:17,292 INFO     [day19.q_2:16] current_top_right = (237, 358)\u001b[0m\n",
      "\u001b[01;37m2019-12-19 00:59:17,415 INFO     [day19.q_2:16] current_top_right = (237, 359)\u001b[0m\n",
      "\u001b[01;37m2019-12-19 00:59:17,532 INFO     [day19.q_2:16] current_top_right = (237, 360)\u001b[0m\n",
      "\u001b[01;37m2019-12-19 00:59:17,661 INFO     [day19.q_2:16] current_top_right = (238, 360)\u001b[0m\n",
      "\u001b[01;37m2019-12-19 00:59:17,778 INFO     [day19.q_2:16] current_top_right = (238, 361)\u001b[0m\n",
      "\u001b[01;37m2019-12-19 00:59:17,893 INFO     [day19.q_2:16] current_top_right = (239, 361)\u001b[0m\n",
      "\u001b[01;37m2019-12-19 00:59:18,010 INFO     [day19.q_2:16] current_top_right = (239, 362)\u001b[0m\n",
      "\u001b[01;37m2019-12-19 00:59:18,130 INFO     [day19.q_2:16] current_top_right = (239, 363)\u001b[0m\n",
      "\u001b[01;37m2019-12-19 00:59:18,247 INFO     [day19.q_2:16] current_top_right = (240, 363)\u001b[0m\n",
      "\u001b[01;37m2019-12-19 00:59:18,366 INFO     [day19.q_2:16] current_top_right = (240, 364)\u001b[0m\n",
      "\u001b[01;37m2019-12-19 00:59:18,485 INFO     [day19.q_2:16] current_top_right = (241, 364)\u001b[0m\n",
      "\u001b[01;37m2019-12-19 00:59:18,602 INFO     [day19.q_2:16] current_top_right = (241, 365)\u001b[0m\n",
      "\u001b[01;37m2019-12-19 00:59:18,693 INFO     [day19.q_2:16] current_top_right = (241, 366)\u001b[0m\n",
      "\u001b[01;37m2019-12-19 00:59:18,838 INFO     [day19.q_2:16] current_top_right = (242, 366)\u001b[0m\n",
      "\u001b[01;37m2019-12-19 00:59:18,956 INFO     [day19.q_2:16] current_top_right = (242, 367)\u001b[0m\n",
      "\u001b[01;37m2019-12-19 00:59:19,081 INFO     [day19.q_2:16] current_top_right = (243, 367)\u001b[0m\n",
      "\u001b[01;37m2019-12-19 00:59:19,199 INFO     [day19.q_2:16] current_top_right = (243, 368)\u001b[0m\n",
      "\u001b[01;37m2019-12-19 00:59:19,293 INFO     [day19.q_2:16] current_top_right = (243, 369)\u001b[0m\n",
      "\u001b[01;37m2019-12-19 00:59:19,443 INFO     [day19.q_2:16] current_top_right = (244, 369)\u001b[0m\n",
      "\u001b[01;37m2019-12-19 00:59:19,533 INFO     [day19.q_2:16] current_top_right = (244, 370)\u001b[0m\n",
      "\u001b[01;37m2019-12-19 00:59:19,678 INFO     [day19.q_2:16] current_top_right = (245, 370)\u001b[0m\n",
      "\u001b[01;37m2019-12-19 00:59:19,797 INFO     [day19.q_2:16] current_top_right = (245, 371)\u001b[0m\n",
      "\u001b[01;37m2019-12-19 00:59:19,888 INFO     [day19.q_2:16] current_top_right = (245, 372)\u001b[0m\n",
      "\u001b[01;37m2019-12-19 00:59:20,039 INFO     [day19.q_2:16] current_top_right = (246, 372)\u001b[0m\n",
      "\u001b[01;37m2019-12-19 00:59:20,136 INFO     [day19.q_2:16] current_top_right = (246, 373)\u001b[0m\n",
      "\u001b[01;37m2019-12-19 00:59:20,287 INFO     [day19.q_2:16] current_top_right = (247, 373)\u001b[0m\n",
      "\u001b[01;37m2019-12-19 00:59:20,380 INFO     [day19.q_2:16] current_top_right = (247, 374)\u001b[0m\n",
      "\u001b[01;37m2019-12-19 00:59:20,498 INFO     [day19.q_2:16] current_top_right = (247, 375)\u001b[0m\n",
      "\u001b[01;37m2019-12-19 00:59:20,647 INFO     [day19.q_2:16] current_top_right = (248, 375)\u001b[0m\n",
      "\u001b[01;37m2019-12-19 00:59:20,746 INFO     [day19.q_2:16] current_top_right = (248, 376)\u001b[0m\n",
      "\u001b[01;37m2019-12-19 00:59:20,894 INFO     [day19.q_2:16] current_top_right = (249, 376)\u001b[0m\n",
      "\u001b[01;37m2019-12-19 00:59:20,986 INFO     [day19.q_2:16] current_top_right = (249, 377)\u001b[0m\n",
      "\u001b[01;37m2019-12-19 00:59:21,115 INFO     [day19.q_2:16] current_top_right = (249, 378)\u001b[0m\n",
      "\u001b[01;37m2019-12-19 00:59:21,235 INFO     [day19.q_2:16] current_top_right = (250, 378)\u001b[0m\n",
      "\u001b[01;37m2019-12-19 00:59:21,358 INFO     [day19.q_2:16] current_top_right = (250, 379)\u001b[0m\n",
      "\u001b[01;37m2019-12-19 00:59:21,505 INFO     [day19.q_2:16] current_top_right = (251, 379)\u001b[0m\n",
      "\u001b[01;37m2019-12-19 00:59:21,598 INFO     [day19.q_2:16] current_top_right = (251, 380)\u001b[0m\n",
      "\u001b[01;37m2019-12-19 00:59:21,718 INFO     [day19.q_2:16] current_top_right = (251, 381)\u001b[0m\n"
     ]
    },
    {
     "name": "stdout",
     "output_type": "stream",
     "text": [
      "\u001b[01;37m2019-12-19 00:59:21,838 INFO     [day19.q_2:16] current_top_right = (252, 381)\u001b[0m\n",
      "\u001b[01;37m2019-12-19 00:59:21,958 INFO     [day19.q_2:16] current_top_right = (252, 382)\u001b[0m\n",
      "\u001b[01;37m2019-12-19 00:59:22,081 INFO     [day19.q_2:16] current_top_right = (253, 382)\u001b[0m\n",
      "\u001b[01;37m2019-12-19 00:59:22,202 INFO     [day19.q_2:16] current_top_right = (253, 383)\u001b[0m\n",
      "\u001b[01;37m2019-12-19 00:59:22,327 INFO     [day19.q_2:16] current_top_right = (253, 384)\u001b[0m\n",
      "\u001b[01;37m2019-12-19 00:59:22,448 INFO     [day19.q_2:16] current_top_right = (254, 384)\u001b[0m\n",
      "\u001b[01;37m2019-12-19 00:59:22,572 INFO     [day19.q_2:16] current_top_right = (254, 385)\u001b[0m\n",
      "\u001b[01;37m2019-12-19 00:59:22,694 INFO     [day19.q_2:16] current_top_right = (255, 385)\u001b[0m\n",
      "\u001b[01;37m2019-12-19 00:59:22,816 INFO     [day19.q_2:16] current_top_right = (255, 386)\u001b[0m\n",
      "\u001b[01;37m2019-12-19 00:59:22,910 INFO     [day19.q_2:16] current_top_right = (255, 387)\u001b[0m\n",
      "\u001b[01;37m2019-12-19 00:59:23,061 INFO     [day19.q_2:16] current_top_right = (256, 387)\u001b[0m\n",
      "\u001b[01;37m2019-12-19 00:59:23,184 INFO     [day19.q_2:16] current_top_right = (256, 388)\u001b[0m\n",
      "\u001b[01;37m2019-12-19 00:59:23,306 INFO     [day19.q_2:16] current_top_right = (257, 388)\u001b[0m\n",
      "\u001b[01;37m2019-12-19 00:59:23,428 INFO     [day19.q_2:16] current_top_right = (257, 389)\u001b[0m\n",
      "\u001b[01;37m2019-12-19 00:59:23,524 INFO     [day19.q_2:16] current_top_right = (257, 390)\u001b[0m\n",
      "\u001b[01;37m2019-12-19 00:59:23,672 INFO     [day19.q_2:16] current_top_right = (258, 390)\u001b[0m\n",
      "\u001b[01;37m2019-12-19 00:59:23,772 INFO     [day19.q_2:16] current_top_right = (258, 391)\u001b[0m\n",
      "\u001b[01;37m2019-12-19 00:59:23,922 INFO     [day19.q_2:16] current_top_right = (259, 391)\u001b[0m\n",
      "\u001b[01;37m2019-12-19 00:59:24,021 INFO     [day19.q_2:16] current_top_right = (259, 392)\u001b[0m\n",
      "\u001b[01;37m2019-12-19 00:59:24,144 INFO     [day19.q_2:16] current_top_right = (259, 393)\u001b[0m\n",
      "\u001b[01;37m2019-12-19 00:59:24,299 INFO     [day19.q_2:16] current_top_right = (260, 393)\u001b[0m\n",
      "\u001b[01;37m2019-12-19 00:59:24,396 INFO     [day19.q_2:16] current_top_right = (260, 394)\u001b[0m\n",
      "\u001b[01;37m2019-12-19 00:59:24,545 INFO     [day19.q_2:16] current_top_right = (261, 394)\u001b[0m\n",
      "\u001b[01;37m2019-12-19 00:59:24,641 INFO     [day19.q_2:16] current_top_right = (261, 395)\u001b[0m\n",
      "\u001b[01;37m2019-12-19 00:59:24,764 INFO     [day19.q_2:16] current_top_right = (261, 396)\u001b[0m\n",
      "\u001b[01;37m2019-12-19 00:59:24,889 INFO     [day19.q_2:16] current_top_right = (262, 396)\u001b[0m\n",
      "\u001b[01;37m2019-12-19 00:59:25,012 INFO     [day19.q_2:16] current_top_right = (262, 397)\u001b[0m\n",
      "\u001b[01;37m2019-12-19 00:59:25,138 INFO     [day19.q_2:16] current_top_right = (262, 398)\u001b[0m\n",
      "\u001b[01;37m2019-12-19 00:59:25,262 INFO     [day19.q_2:16] current_top_right = (263, 398)\u001b[0m\n",
      "\u001b[01;37m2019-12-19 00:59:25,386 INFO     [day19.q_2:16] current_top_right = (263, 399)\u001b[0m\n",
      "\u001b[01;37m2019-12-19 00:59:25,510 INFO     [day19.q_2:16] current_top_right = (264, 399)\u001b[0m\n",
      "\u001b[01;37m2019-12-19 00:59:25,634 INFO     [day19.q_2:16] current_top_right = (264, 400)\u001b[0m\n",
      "\u001b[01;37m2019-12-19 00:59:25,731 INFO     [day19.q_2:16] current_top_right = (264, 401)\u001b[0m\n",
      "\u001b[01;37m2019-12-19 00:59:25,882 INFO     [day19.q_2:16] current_top_right = (265, 401)\u001b[0m\n",
      "\u001b[01;37m2019-12-19 00:59:26,008 INFO     [day19.q_2:16] current_top_right = (265, 402)\u001b[0m\n",
      "\u001b[01;37m2019-12-19 00:59:26,136 INFO     [day19.q_2:16] current_top_right = (266, 402)\u001b[0m\n",
      "\u001b[01;37m2019-12-19 00:59:26,261 INFO     [day19.q_2:16] current_top_right = (266, 403)\u001b[0m\n",
      "\u001b[01;37m2019-12-19 00:59:26,362 INFO     [day19.q_2:16] current_top_right = (266, 404)\u001b[0m\n",
      "\u001b[01;37m2019-12-19 00:59:26,513 INFO     [day19.q_2:16] current_top_right = (267, 404)\u001b[0m\n",
      "\u001b[01;37m2019-12-19 00:59:26,611 INFO     [day19.q_2:16] current_top_right = (267, 405)\u001b[0m\n",
      "\u001b[01;37m2019-12-19 00:59:26,765 INFO     [day19.q_2:16] current_top_right = (268, 405)\u001b[0m\n",
      "\u001b[01;37m2019-12-19 00:59:26,890 INFO     [day19.q_2:16] current_top_right = (268, 406)\u001b[0m\n",
      "\u001b[01;37m2019-12-19 00:59:26,988 INFO     [day19.q_2:16] current_top_right = (268, 407)\u001b[0m\n",
      "\u001b[01;37m2019-12-19 00:59:27,143 INFO     [day19.q_2:16] current_top_right = (269, 407)\u001b[0m\n",
      "\u001b[01;37m2019-12-19 00:59:27,243 INFO     [day19.q_2:16] current_top_right = (269, 408)\u001b[0m\n",
      "\u001b[01;37m2019-12-19 00:59:27,397 INFO     [day19.q_2:16] current_top_right = (270, 408)\u001b[0m\n",
      "\u001b[01;37m2019-12-19 00:59:27,496 INFO     [day19.q_2:16] current_top_right = (270, 409)\u001b[0m\n",
      "\u001b[01;37m2019-12-19 00:59:27,621 INFO     [day19.q_2:16] current_top_right = (270, 410)\u001b[0m\n",
      "\u001b[01;37m2019-12-19 00:59:27,774 INFO     [day19.q_2:16] current_top_right = (271, 410)\u001b[0m\n",
      "\u001b[01;37m2019-12-19 00:59:27,874 INFO     [day19.q_2:16] current_top_right = (271, 411)\u001b[0m\n",
      "\u001b[01;37m2019-12-19 00:59:28,030 INFO     [day19.q_2:16] current_top_right = (272, 411)\u001b[0m\n",
      "\u001b[01;37m2019-12-19 00:59:28,134 INFO     [day19.q_2:16] current_top_right = (272, 412)\u001b[0m\n",
      "\u001b[01;37m2019-12-19 00:59:28,267 INFO     [day19.q_2:16] current_top_right = (272, 413)\u001b[0m\n",
      "\u001b[01;37m2019-12-19 00:59:28,396 INFO     [day19.q_2:16] current_top_right = (273, 413)\u001b[0m\n",
      "\u001b[01;37m2019-12-19 00:59:28,526 INFO     [day19.q_2:16] current_top_right = (273, 414)\u001b[0m\n",
      "\u001b[01;37m2019-12-19 00:59:28,684 INFO     [day19.q_2:16] current_top_right = (274, 414)\u001b[0m\n",
      "\u001b[01;37m2019-12-19 00:59:28,789 INFO     [day19.q_2:16] current_top_right = (274, 415)\u001b[0m\n",
      "\u001b[01;37m2019-12-19 00:59:28,918 INFO     [day19.q_2:16] current_top_right = (274, 416)\u001b[0m\n",
      "\u001b[01;37m2019-12-19 00:59:29,051 INFO     [day19.q_2:16] current_top_right = (275, 416)\u001b[0m\n",
      "\u001b[01;37m2019-12-19 00:59:29,184 INFO     [day19.q_2:16] current_top_right = (275, 417)\u001b[0m\n",
      "\u001b[01;37m2019-12-19 00:59:29,321 INFO     [day19.q_2:16] current_top_right = (276, 417)\u001b[0m\n",
      "\u001b[01;37m2019-12-19 00:59:29,450 INFO     [day19.q_2:16] current_top_right = (276, 418)\u001b[0m\n",
      "\u001b[01;37m2019-12-19 00:59:29,552 INFO     [day19.q_2:16] current_top_right = (276, 419)\u001b[0m\n",
      "\u001b[01;37m2019-12-19 00:59:29,707 INFO     [day19.q_2:16] current_top_right = (277, 419)\u001b[0m\n",
      "\u001b[01;37m2019-12-19 00:59:29,835 INFO     [day19.q_2:16] current_top_right = (277, 420)\u001b[0m\n",
      "\u001b[01;37m2019-12-19 00:59:29,964 INFO     [day19.q_2:16] current_top_right = (278, 420)\u001b[0m\n",
      "\u001b[01;37m2019-12-19 00:59:30,096 INFO     [day19.q_2:16] current_top_right = (278, 421)\u001b[0m\n",
      "\u001b[01;37m2019-12-19 00:59:30,200 INFO     [day19.q_2:16] current_top_right = (278, 422)\u001b[0m\n",
      "\u001b[01;37m2019-12-19 00:59:30,358 INFO     [day19.q_2:16] current_top_right = (279, 422)\u001b[0m\n",
      "\u001b[01;37m2019-12-19 00:59:30,461 INFO     [day19.q_2:16] current_top_right = (279, 423)\u001b[0m\n",
      "\u001b[01;37m2019-12-19 00:59:30,617 INFO     [day19.q_2:16] current_top_right = (280, 423)\u001b[0m\n",
      "\u001b[01;37m2019-12-19 00:59:30,746 INFO     [day19.q_2:16] current_top_right = (280, 424)\u001b[0m\n",
      "\u001b[01;37m2019-12-19 00:59:30,849 INFO     [day19.q_2:16] current_top_right = (280, 425)\u001b[0m\n",
      "\u001b[01;37m2019-12-19 00:59:31,007 INFO     [day19.q_2:16] current_top_right = (281, 425)\u001b[0m\n",
      "\u001b[01;37m2019-12-19 00:59:31,112 INFO     [day19.q_2:16] current_top_right = (281, 426)\u001b[0m\n",
      "\u001b[01;37m2019-12-19 00:59:31,270 INFO     [day19.q_2:16] current_top_right = (282, 426)\u001b[0m\n",
      "\u001b[01;37m2019-12-19 00:59:31,420 INFO     [day19.q_2:16] current_top_right = (282, 427)\u001b[0m\n",
      "\u001b[01;37m2019-12-19 00:59:31,599 INFO     [day19.q_2:16] current_top_right = (282, 428)\u001b[0m\n",
      "\u001b[01;37m2019-12-19 00:59:31,784 INFO     [day19.q_2:16] current_top_right = (283, 428)\u001b[0m\n",
      "\u001b[01;37m2019-12-19 00:59:31,889 INFO     [day19.q_2:16] current_top_right = (283, 429)\u001b[0m\n",
      "\u001b[01;37m2019-12-19 00:59:32,052 INFO     [day19.q_2:16] current_top_right = (284, 429)\u001b[0m\n",
      "\u001b[01;37m2019-12-19 00:59:32,159 INFO     [day19.q_2:16] current_top_right = (284, 430)\u001b[0m\n",
      "\u001b[01;37m2019-12-19 00:59:32,292 INFO     [day19.q_2:16] current_top_right = (284, 431)\u001b[0m\n",
      "\u001b[01;37m2019-12-19 00:59:32,431 INFO     [day19.q_2:16] current_top_right = (285, 431)\u001b[0m\n",
      "\u001b[01;37m2019-12-19 00:59:32,566 INFO     [day19.q_2:16] current_top_right = (285, 432)\u001b[0m\n",
      "\u001b[01;37m2019-12-19 00:59:32,725 INFO     [day19.q_2:16] current_top_right = (286, 432)\u001b[0m\n",
      "\u001b[01;37m2019-12-19 00:59:32,831 INFO     [day19.q_2:16] current_top_right = (286, 433)\u001b[0m\n",
      "\u001b[01;37m2019-12-19 00:59:32,963 INFO     [day19.q_2:16] current_top_right = (286, 434)\u001b[0m\n",
      "\u001b[01;37m2019-12-19 00:59:33,104 INFO     [day19.q_2:16] current_top_right = (287, 434)\u001b[0m\n",
      "\u001b[01;37m2019-12-19 00:59:33,236 INFO     [day19.q_2:16] current_top_right = (287, 435)\u001b[0m\n",
      "\u001b[01;37m2019-12-19 00:59:33,370 INFO     [day19.q_2:16] current_top_right = (288, 435)\u001b[0m\n"
     ]
    },
    {
     "name": "stdout",
     "output_type": "stream",
     "text": [
      "\u001b[01;37m2019-12-19 00:59:33,503 INFO     [day19.q_2:16] current_top_right = (288, 436)\u001b[0m\n",
      "\u001b[01;37m2019-12-19 00:59:33,638 INFO     [day19.q_2:16] current_top_right = (288, 437)\u001b[0m\n",
      "\u001b[01;37m2019-12-19 00:59:33,773 INFO     [day19.q_2:16] current_top_right = (289, 437)\u001b[0m\n",
      "\u001b[01;37m2019-12-19 00:59:33,906 INFO     [day19.q_2:16] current_top_right = (289, 438)\u001b[0m\n",
      "\u001b[01;37m2019-12-19 00:59:34,013 INFO     [day19.q_2:16] current_top_right = (289, 439)\u001b[0m\n",
      "\u001b[01;37m2019-12-19 00:59:34,177 INFO     [day19.q_2:16] current_top_right = (290, 439)\u001b[0m\n",
      "\u001b[01;37m2019-12-19 00:59:34,289 INFO     [day19.q_2:16] current_top_right = (290, 440)\u001b[0m\n",
      "\u001b[01;37m2019-12-19 00:59:34,452 INFO     [day19.q_2:16] current_top_right = (291, 440)\u001b[0m\n",
      "\u001b[01;37m2019-12-19 00:59:34,590 INFO     [day19.q_2:16] current_top_right = (291, 441)\u001b[0m\n",
      "\u001b[01;37m2019-12-19 00:59:34,697 INFO     [day19.q_2:16] current_top_right = (291, 442)\u001b[0m\n",
      "\u001b[01;37m2019-12-19 00:59:34,859 INFO     [day19.q_2:16] current_top_right = (292, 442)\u001b[0m\n",
      "\u001b[01;37m2019-12-19 00:59:34,966 INFO     [day19.q_2:16] current_top_right = (292, 443)\u001b[0m\n",
      "\u001b[01;37m2019-12-19 00:59:35,132 INFO     [day19.q_2:16] current_top_right = (293, 443)\u001b[0m\n",
      "\u001b[01;37m2019-12-19 00:59:35,239 INFO     [day19.q_2:16] current_top_right = (293, 444)\u001b[0m\n",
      "\u001b[01;37m2019-12-19 00:59:35,384 INFO     [day19.q_2:16] current_top_right = (293, 445)\u001b[0m\n",
      "\u001b[01;37m2019-12-19 00:59:35,520 INFO     [day19.q_2:16] current_top_right = (294, 445)\u001b[0m\n",
      "\u001b[01;37m2019-12-19 00:59:35,656 INFO     [day19.q_2:16] current_top_right = (294, 446)\u001b[0m\n",
      "\u001b[01;37m2019-12-19 00:59:35,817 INFO     [day19.q_2:16] current_top_right = (295, 446)\u001b[0m\n",
      "\u001b[01;37m2019-12-19 00:59:35,925 INFO     [day19.q_2:16] current_top_right = (295, 447)\u001b[0m\n",
      "\u001b[01;37m2019-12-19 00:59:36,063 INFO     [day19.q_2:16] current_top_right = (295, 448)\u001b[0m\n",
      "\u001b[01;37m2019-12-19 00:59:36,201 INFO     [day19.q_2:16] current_top_right = (296, 448)\u001b[0m\n",
      "\u001b[01;37m2019-12-19 00:59:36,345 INFO     [day19.q_2:16] current_top_right = (296, 449)\u001b[0m\n",
      "\u001b[01;37m2019-12-19 00:59:36,483 INFO     [day19.q_2:16] current_top_right = (297, 449)\u001b[0m\n",
      "\u001b[01;37m2019-12-19 00:59:36,621 INFO     [day19.q_2:16] current_top_right = (297, 450)\u001b[0m\n",
      "\u001b[01;37m2019-12-19 00:59:36,761 INFO     [day19.q_2:16] current_top_right = (297, 451)\u001b[0m\n",
      "\u001b[01;37m2019-12-19 00:59:36,897 INFO     [day19.q_2:16] current_top_right = (298, 451)\u001b[0m\n",
      "\u001b[01;37m2019-12-19 00:59:37,037 INFO     [day19.q_2:16] current_top_right = (298, 452)\u001b[0m\n",
      "\u001b[01;37m2019-12-19 00:59:37,177 INFO     [day19.q_2:16] current_top_right = (299, 452)\u001b[0m\n",
      "\u001b[01;37m2019-12-19 00:59:37,315 INFO     [day19.q_2:16] current_top_right = (299, 453)\u001b[0m\n",
      "\u001b[01;37m2019-12-19 00:59:37,426 INFO     [day19.q_2:16] current_top_right = (299, 454)\u001b[0m\n",
      "\u001b[01;37m2019-12-19 00:59:37,589 INFO     [day19.q_2:16] current_top_right = (300, 454)\u001b[0m\n",
      "\u001b[01;37m2019-12-19 00:59:37,726 INFO     [day19.q_2:16] current_top_right = (300, 455)\u001b[0m\n",
      "\u001b[01;37m2019-12-19 00:59:37,862 INFO     [day19.q_2:16] current_top_right = (301, 455)\u001b[0m\n",
      "\u001b[01;37m2019-12-19 00:59:38,000 INFO     [day19.q_2:16] current_top_right = (301, 456)\u001b[0m\n",
      "\u001b[01;37m2019-12-19 00:59:38,114 INFO     [day19.q_2:16] current_top_right = (301, 457)\u001b[0m\n",
      "\u001b[01;37m2019-12-19 00:59:38,279 INFO     [day19.q_2:16] current_top_right = (302, 457)\u001b[0m\n",
      "\u001b[01;37m2019-12-19 00:59:38,393 INFO     [day19.q_2:16] current_top_right = (302, 458)\u001b[0m\n",
      "\u001b[01;37m2019-12-19 00:59:38,558 INFO     [day19.q_2:16] current_top_right = (303, 458)\u001b[0m\n",
      "\u001b[01;37m2019-12-19 00:59:38,697 INFO     [day19.q_2:16] current_top_right = (303, 459)\u001b[0m\n",
      "\u001b[01;37m2019-12-19 00:59:38,809 INFO     [day19.q_2:16] current_top_right = (303, 460)\u001b[0m\n",
      "\u001b[01;37m2019-12-19 00:59:38,975 INFO     [day19.q_2:16] current_top_right = (304, 460)\u001b[0m\n",
      "\u001b[01;37m2019-12-19 00:59:39,089 INFO     [day19.q_2:16] current_top_right = (304, 461)\u001b[0m\n",
      "\u001b[01;37m2019-12-19 00:59:39,257 INFO     [day19.q_2:16] current_top_right = (305, 461)\u001b[0m\n",
      "\u001b[01;37m2019-12-19 00:59:39,372 INFO     [day19.q_2:16] current_top_right = (305, 462)\u001b[0m\n",
      "\u001b[01;37m2019-12-19 00:59:39,514 INFO     [day19.q_2:16] current_top_right = (305, 463)\u001b[0m\n",
      "\u001b[01;37m2019-12-19 00:59:39,684 INFO     [day19.q_2:16] current_top_right = (306, 463)\u001b[0m\n",
      "\u001b[01;37m2019-12-19 00:59:39,799 INFO     [day19.q_2:16] current_top_right = (306, 464)\u001b[0m\n",
      "\u001b[01;37m2019-12-19 00:59:39,968 INFO     [day19.q_2:16] current_top_right = (307, 464)\u001b[0m\n",
      "\u001b[01;37m2019-12-19 00:59:40,086 INFO     [day19.q_2:16] current_top_right = (307, 465)\u001b[0m\n",
      "\u001b[01;37m2019-12-19 00:59:40,229 INFO     [day19.q_2:16] current_top_right = (307, 466)\u001b[0m\n",
      "\u001b[01;37m2019-12-19 00:59:40,370 INFO     [day19.q_2:16] current_top_right = (308, 466)\u001b[0m\n",
      "\u001b[01;37m2019-12-19 00:59:40,510 INFO     [day19.q_2:16] current_top_right = (308, 467)\u001b[0m\n",
      "\u001b[01;37m2019-12-19 00:59:40,678 INFO     [day19.q_2:16] current_top_right = (309, 467)\u001b[0m\n",
      "\u001b[01;37m2019-12-19 00:59:40,793 INFO     [day19.q_2:16] current_top_right = (309, 468)\u001b[0m\n",
      "\u001b[01;37m2019-12-19 00:59:40,934 INFO     [day19.q_2:16] current_top_right = (309, 469)\u001b[0m\n",
      "\u001b[01;37m2019-12-19 00:59:41,077 INFO     [day19.q_2:16] current_top_right = (310, 469)\u001b[0m\n",
      "\u001b[01;37m2019-12-19 00:59:41,220 INFO     [day19.q_2:16] current_top_right = (310, 470)\u001b[0m\n",
      "\u001b[01;37m2019-12-19 00:59:41,367 INFO     [day19.q_2:16] current_top_right = (311, 470)\u001b[0m\n",
      "\u001b[01;37m2019-12-19 00:59:41,514 INFO     [day19.q_2:16] current_top_right = (311, 471)\u001b[0m\n",
      "\u001b[01;37m2019-12-19 00:59:41,655 INFO     [day19.q_2:16] current_top_right = (311, 472)\u001b[0m\n",
      "\u001b[01;37m2019-12-19 00:59:41,798 INFO     [day19.q_2:16] current_top_right = (312, 472)\u001b[0m\n",
      "\u001b[01;37m2019-12-19 00:59:41,941 INFO     [day19.q_2:16] current_top_right = (312, 473)\u001b[0m\n",
      "\u001b[01;37m2019-12-19 00:59:42,084 INFO     [day19.q_2:16] current_top_right = (313, 473)\u001b[0m\n",
      "\u001b[01;37m2019-12-19 00:59:42,227 INFO     [day19.q_2:16] current_top_right = (313, 474)\u001b[0m\n",
      "\u001b[01;37m2019-12-19 00:59:42,344 INFO     [day19.q_2:16] current_top_right = (313, 475)\u001b[0m\n",
      "\u001b[01;37m2019-12-19 00:59:42,514 INFO     [day19.q_2:16] current_top_right = (314, 475)\u001b[0m\n",
      "\u001b[01;37m2019-12-19 00:59:42,631 INFO     [day19.q_2:16] current_top_right = (314, 476)\u001b[0m\n",
      "\u001b[01;37m2019-12-19 00:59:42,802 INFO     [day19.q_2:16] current_top_right = (315, 476)\u001b[0m\n",
      "\u001b[01;37m2019-12-19 00:59:42,949 INFO     [day19.q_2:16] current_top_right = (315, 477)\u001b[0m\n",
      "\u001b[01;37m2019-12-19 00:59:43,089 INFO     [day19.q_2:16] current_top_right = (315, 478)\u001b[0m\n",
      "\u001b[01;37m2019-12-19 00:59:43,263 INFO     [day19.q_2:16] current_top_right = (316, 478)\u001b[0m\n",
      "\u001b[01;37m2019-12-19 00:59:43,385 INFO     [day19.q_2:16] current_top_right = (316, 479)\u001b[0m\n",
      "\u001b[01;37m2019-12-19 00:59:43,531 INFO     [day19.q_2:16] current_top_right = (316, 480)\u001b[0m\n",
      "\u001b[01;37m2019-12-19 00:59:43,677 INFO     [day19.q_2:16] current_top_right = (317, 480)\u001b[0m\n",
      "\u001b[01;37m2019-12-19 00:59:43,824 INFO     [day19.q_2:16] current_top_right = (317, 481)\u001b[0m\n",
      "\u001b[01;37m2019-12-19 00:59:44,012 INFO     [day19.q_2:16] current_top_right = (318, 481)\u001b[0m\n",
      "\u001b[01;37m2019-12-19 00:59:44,133 INFO     [day19.q_2:16] current_top_right = (318, 482)\u001b[0m\n",
      "\u001b[01;37m2019-12-19 00:59:44,278 INFO     [day19.q_2:16] current_top_right = (318, 483)\u001b[0m\n",
      "\u001b[01;37m2019-12-19 00:59:44,426 INFO     [day19.q_2:16] current_top_right = (319, 483)\u001b[0m\n",
      "\u001b[01;37m2019-12-19 00:59:44,572 INFO     [day19.q_2:16] current_top_right = (319, 484)\u001b[0m\n",
      "\u001b[01;37m2019-12-19 00:59:44,716 INFO     [day19.q_2:16] current_top_right = (320, 484)\u001b[0m\n",
      "\u001b[01;37m2019-12-19 00:59:44,863 INFO     [day19.q_2:16] current_top_right = (320, 485)\u001b[0m\n",
      "\u001b[01;37m2019-12-19 00:59:45,009 INFO     [day19.q_2:16] current_top_right = (320, 486)\u001b[0m\n",
      "\u001b[01;37m2019-12-19 00:59:45,158 INFO     [day19.q_2:16] current_top_right = (321, 486)\u001b[0m\n",
      "\u001b[01;37m2019-12-19 00:59:45,304 INFO     [day19.q_2:16] current_top_right = (321, 487)\u001b[0m\n",
      "\u001b[01;37m2019-12-19 00:59:45,451 INFO     [day19.q_2:16] current_top_right = (322, 487)\u001b[0m\n",
      "\u001b[01;37m2019-12-19 00:59:45,597 INFO     [day19.q_2:16] current_top_right = (322, 488)\u001b[0m\n",
      "\u001b[01;37m2019-12-19 00:59:45,718 INFO     [day19.q_2:16] current_top_right = (322, 489)\u001b[0m\n",
      "\u001b[01;37m2019-12-19 00:59:45,892 INFO     [day19.q_2:16] current_top_right = (323, 489)\u001b[0m\n",
      "\u001b[01;37m2019-12-19 00:59:46,041 INFO     [day19.q_2:16] current_top_right = (323, 490)\u001b[0m\n",
      "\u001b[01;37m2019-12-19 00:59:46,191 INFO     [day19.q_2:16] current_top_right = (324, 490)\u001b[0m\n"
     ]
    },
    {
     "name": "stdout",
     "output_type": "stream",
     "text": [
      "\u001b[01;37m2019-12-19 00:59:46,340 INFO     [day19.q_2:16] current_top_right = (324, 491)\u001b[0m\n",
      "\u001b[01;37m2019-12-19 00:59:46,460 INFO     [day19.q_2:16] current_top_right = (324, 492)\u001b[0m\n",
      "\u001b[01;37m2019-12-19 00:59:46,636 INFO     [day19.q_2:16] current_top_right = (325, 492)\u001b[0m\n",
      "\u001b[01;37m2019-12-19 00:59:46,758 INFO     [day19.q_2:16] current_top_right = (325, 493)\u001b[0m\n",
      "\u001b[01;37m2019-12-19 00:59:46,932 INFO     [day19.q_2:16] current_top_right = (326, 493)\u001b[0m\n",
      "\u001b[01;37m2019-12-19 00:59:47,082 INFO     [day19.q_2:16] current_top_right = (326, 494)\u001b[0m\n",
      "\u001b[01;37m2019-12-19 00:59:47,208 INFO     [day19.q_2:16] current_top_right = (326, 495)\u001b[0m\n",
      "\u001b[01;37m2019-12-19 00:59:47,389 INFO     [day19.q_2:16] current_top_right = (327, 495)\u001b[0m\n",
      "\u001b[01;37m2019-12-19 00:59:47,515 INFO     [day19.q_2:16] current_top_right = (327, 496)\u001b[0m\n",
      "\u001b[01;37m2019-12-19 00:59:47,692 INFO     [day19.q_2:16] current_top_right = (328, 496)\u001b[0m\n",
      "\u001b[01;37m2019-12-19 00:59:47,815 INFO     [day19.q_2:16] current_top_right = (328, 497)\u001b[0m\n",
      "\u001b[01;37m2019-12-19 00:59:47,964 INFO     [day19.q_2:16] current_top_right = (328, 498)\u001b[0m\n",
      "\u001b[01;37m2019-12-19 00:59:48,143 INFO     [day19.q_2:16] current_top_right = (329, 498)\u001b[0m\n",
      "\u001b[01;37m2019-12-19 00:59:48,267 INFO     [day19.q_2:16] current_top_right = (329, 499)\u001b[0m\n",
      "\u001b[01;37m2019-12-19 00:59:48,446 INFO     [day19.q_2:16] current_top_right = (330, 499)\u001b[0m\n",
      "\u001b[01;37m2019-12-19 00:59:48,571 INFO     [day19.q_2:16] current_top_right = (330, 500)\u001b[0m\n",
      "\u001b[01;37m2019-12-19 00:59:48,728 INFO     [day19.q_2:16] current_top_right = (330, 501)\u001b[0m\n",
      "\u001b[01;37m2019-12-19 00:59:48,880 INFO     [day19.q_2:16] current_top_right = (331, 501)\u001b[0m\n",
      "\u001b[01;37m2019-12-19 00:59:49,039 INFO     [day19.q_2:16] current_top_right = (331, 502)\u001b[0m\n",
      "\u001b[01;37m2019-12-19 00:59:49,192 INFO     [day19.q_2:16] current_top_right = (332, 502)\u001b[0m\n",
      "\u001b[01;37m2019-12-19 00:59:49,344 INFO     [day19.q_2:16] current_top_right = (332, 503)\u001b[0m\n",
      "\u001b[01;37m2019-12-19 00:59:49,494 INFO     [day19.q_2:16] current_top_right = (332, 504)\u001b[0m\n",
      "\u001b[01;37m2019-12-19 00:59:49,646 INFO     [day19.q_2:16] current_top_right = (333, 504)\u001b[0m\n",
      "\u001b[01;37m2019-12-19 00:59:49,797 INFO     [day19.q_2:16] current_top_right = (333, 505)\u001b[0m\n",
      "\u001b[01;37m2019-12-19 00:59:49,949 INFO     [day19.q_2:16] current_top_right = (334, 505)\u001b[0m\n",
      "\u001b[01;37m2019-12-19 00:59:50,103 INFO     [day19.q_2:16] current_top_right = (334, 506)\u001b[0m\n",
      "\u001b[01;37m2019-12-19 00:59:50,229 INFO     [day19.q_2:16] current_top_right = (334, 507)\u001b[0m\n",
      "\u001b[01;37m2019-12-19 00:59:50,409 INFO     [day19.q_2:16] current_top_right = (335, 507)\u001b[0m\n",
      "\u001b[01;37m2019-12-19 00:59:50,562 INFO     [day19.q_2:16] current_top_right = (335, 508)\u001b[0m\n",
      "\u001b[01;37m2019-12-19 00:59:50,715 INFO     [day19.q_2:16] current_top_right = (336, 508)\u001b[0m\n",
      "\u001b[01;37m2019-12-19 00:59:50,867 INFO     [day19.q_2:16] current_top_right = (336, 509)\u001b[0m\n",
      "\u001b[01;37m2019-12-19 00:59:50,992 INFO     [day19.q_2:16] current_top_right = (336, 510)\u001b[0m\n",
      "\u001b[01;37m2019-12-19 00:59:51,176 INFO     [day19.q_2:16] current_top_right = (337, 510)\u001b[0m\n",
      "\u001b[01;37m2019-12-19 00:59:51,303 INFO     [day19.q_2:16] current_top_right = (337, 511)\u001b[0m\n",
      "\u001b[01;37m2019-12-19 00:59:51,488 INFO     [day19.q_2:16] current_top_right = (338, 511)\u001b[0m\n",
      "\u001b[01;37m2019-12-19 00:59:51,642 INFO     [day19.q_2:16] current_top_right = (338, 512)\u001b[0m\n",
      "\u001b[01;37m2019-12-19 00:59:51,768 INFO     [day19.q_2:16] current_top_right = (338, 513)\u001b[0m\n",
      "\u001b[01;37m2019-12-19 00:59:51,949 INFO     [day19.q_2:16] current_top_right = (339, 513)\u001b[0m\n",
      "\u001b[01;37m2019-12-19 00:59:52,084 INFO     [day19.q_2:16] current_top_right = (339, 514)\u001b[0m\n",
      "\u001b[01;37m2019-12-19 00:59:52,271 INFO     [day19.q_2:16] current_top_right = (340, 514)\u001b[0m\n",
      "\u001b[01;37m2019-12-19 00:59:52,405 INFO     [day19.q_2:16] current_top_right = (340, 515)\u001b[0m\n",
      "\u001b[01;37m2019-12-19 00:59:52,561 INFO     [day19.q_2:16] current_top_right = (340, 516)\u001b[0m\n",
      "\u001b[01;37m2019-12-19 00:59:52,743 INFO     [day19.q_2:16] current_top_right = (341, 516)\u001b[0m\n",
      "\u001b[01;37m2019-12-19 00:59:52,871 INFO     [day19.q_2:16] current_top_right = (341, 517)\u001b[0m\n",
      "\u001b[01;37m2019-12-19 00:59:53,027 INFO     [day19.q_2:16] current_top_right = (341, 518)\u001b[0m\n",
      "\u001b[01;37m2019-12-19 00:59:53,185 INFO     [day19.q_2:16] current_top_right = (342, 518)\u001b[0m\n",
      "\u001b[01;37m2019-12-19 00:59:53,347 INFO     [day19.q_2:16] current_top_right = (342, 519)\u001b[0m\n",
      "\u001b[01;37m2019-12-19 00:59:53,503 INFO     [day19.q_2:16] current_top_right = (343, 519)\u001b[0m\n",
      "\u001b[01;37m2019-12-19 00:59:53,660 INFO     [day19.q_2:16] current_top_right = (343, 520)\u001b[0m\n",
      "\u001b[01;37m2019-12-19 00:59:53,822 INFO     [day19.q_2:16] current_top_right = (343, 521)\u001b[0m\n",
      "\u001b[01;37m2019-12-19 00:59:53,979 INFO     [day19.q_2:16] current_top_right = (344, 521)\u001b[0m\n",
      "\u001b[01;37m2019-12-19 00:59:54,142 INFO     [day19.q_2:16] current_top_right = (344, 522)\u001b[0m\n",
      "\u001b[01;37m2019-12-19 00:59:54,301 INFO     [day19.q_2:16] current_top_right = (345, 522)\u001b[0m\n",
      "\u001b[01;37m2019-12-19 00:59:54,462 INFO     [day19.q_2:16] current_top_right = (345, 523)\u001b[0m\n",
      "\u001b[01;37m2019-12-19 00:59:54,592 INFO     [day19.q_2:16] current_top_right = (345, 524)\u001b[0m\n",
      "\u001b[01;37m2019-12-19 00:59:54,777 INFO     [day19.q_2:16] current_top_right = (346, 524)\u001b[0m\n",
      "\u001b[01;37m2019-12-19 00:59:54,936 INFO     [day19.q_2:16] current_top_right = (346, 525)\u001b[0m\n",
      "\u001b[01;37m2019-12-19 00:59:55,098 INFO     [day19.q_2:16] current_top_right = (347, 525)\u001b[0m\n",
      "\u001b[01;37m2019-12-19 00:59:55,257 INFO     [day19.q_2:16] current_top_right = (347, 526)\u001b[0m\n",
      "\u001b[01;37m2019-12-19 00:59:55,389 INFO     [day19.q_2:16] current_top_right = (347, 527)\u001b[0m\n",
      "\u001b[01;37m2019-12-19 00:59:55,574 INFO     [day19.q_2:16] current_top_right = (348, 527)\u001b[0m\n",
      "\u001b[01;37m2019-12-19 00:59:55,705 INFO     [day19.q_2:16] current_top_right = (348, 528)\u001b[0m\n",
      "\u001b[01;37m2019-12-19 00:59:55,892 INFO     [day19.q_2:16] current_top_right = (349, 528)\u001b[0m\n",
      "\u001b[01;37m2019-12-19 00:59:56,026 INFO     [day19.q_2:16] current_top_right = (349, 529)\u001b[0m\n",
      "\u001b[01;37m2019-12-19 00:59:56,188 INFO     [day19.q_2:16] current_top_right = (349, 530)\u001b[0m\n",
      "\u001b[01;37m2019-12-19 00:59:56,376 INFO     [day19.q_2:16] current_top_right = (350, 530)\u001b[0m\n",
      "\u001b[01;37m2019-12-19 00:59:56,508 INFO     [day19.q_2:16] current_top_right = (350, 531)\u001b[0m\n",
      "\u001b[01;37m2019-12-19 00:59:56,693 INFO     [day19.q_2:16] current_top_right = (351, 531)\u001b[0m\n",
      "\u001b[01;37m2019-12-19 00:59:56,829 INFO     [day19.q_2:16] current_top_right = (351, 532)\u001b[0m\n",
      "\u001b[01;37m2019-12-19 00:59:56,988 INFO     [day19.q_2:16] current_top_right = (351, 533)\u001b[0m\n",
      "\u001b[01;37m2019-12-19 00:59:57,151 INFO     [day19.q_2:16] current_top_right = (352, 533)\u001b[0m\n",
      "\u001b[01;37m2019-12-19 00:59:57,317 INFO     [day19.q_2:16] current_top_right = (352, 534)\u001b[0m\n",
      "\u001b[01;37m2019-12-19 00:59:57,506 INFO     [day19.q_2:16] current_top_right = (353, 534)\u001b[0m\n",
      "\u001b[01;37m2019-12-19 00:59:57,640 INFO     [day19.q_2:16] current_top_right = (353, 535)\u001b[0m\n",
      "\u001b[01;37m2019-12-19 00:59:57,800 INFO     [day19.q_2:16] current_top_right = (353, 536)\u001b[0m\n",
      "\u001b[01;37m2019-12-19 00:59:57,962 INFO     [day19.q_2:16] current_top_right = (354, 536)\u001b[0m\n",
      "\u001b[01;37m2019-12-19 00:59:58,128 INFO     [day19.q_2:16] current_top_right = (354, 537)\u001b[0m\n",
      "\u001b[01;37m2019-12-19 00:59:58,290 INFO     [day19.q_2:16] current_top_right = (355, 537)\u001b[0m\n",
      "\u001b[01;37m2019-12-19 00:59:58,461 INFO     [day19.q_2:16] current_top_right = (355, 538)\u001b[0m\n",
      "\u001b[01;37m2019-12-19 00:59:58,623 INFO     [day19.q_2:16] current_top_right = (355, 539)\u001b[0m\n",
      "\u001b[01;37m2019-12-19 00:59:58,785 INFO     [day19.q_2:16] current_top_right = (356, 539)\u001b[0m\n",
      "\u001b[01;37m2019-12-19 00:59:58,947 INFO     [day19.q_2:16] current_top_right = (356, 540)\u001b[0m\n",
      "\u001b[01;37m2019-12-19 00:59:59,114 INFO     [day19.q_2:16] current_top_right = (357, 540)\u001b[0m\n",
      "\u001b[01;37m2019-12-19 00:59:59,279 INFO     [day19.q_2:16] current_top_right = (357, 541)\u001b[0m\n",
      "\u001b[01;37m2019-12-19 00:59:59,416 INFO     [day19.q_2:16] current_top_right = (357, 542)\u001b[0m\n",
      "\u001b[01;37m2019-12-19 00:59:59,606 INFO     [day19.q_2:16] current_top_right = (358, 542)\u001b[0m\n",
      "\u001b[01;37m2019-12-19 00:59:59,770 INFO     [day19.q_2:16] current_top_right = (358, 543)\u001b[0m\n",
      "\u001b[01;37m2019-12-19 00:59:59,933 INFO     [day19.q_2:16] current_top_right = (359, 543)\u001b[0m\n",
      "\u001b[01;37m2019-12-19 01:00:00,101 INFO     [day19.q_2:16] current_top_right = (359, 544)\u001b[0m\n",
      "\u001b[01;37m2019-12-19 01:00:00,239 INFO     [day19.q_2:16] current_top_right = (359, 545)\u001b[0m\n",
      "\u001b[01;37m2019-12-19 01:00:00,437 INFO     [day19.q_2:16] current_top_right = (360, 545)\u001b[0m\n"
     ]
    },
    {
     "name": "stdout",
     "output_type": "stream",
     "text": [
      "\u001b[01;37m2019-12-19 01:00:00,641 INFO     [day19.q_2:16] current_top_right = (360, 546)\u001b[0m\n",
      "\u001b[01;37m2019-12-19 01:00:00,891 INFO     [day19.q_2:16] current_top_right = (361, 546)\u001b[0m\n",
      "\u001b[01;37m2019-12-19 01:00:01,064 INFO     [day19.q_2:16] current_top_right = (361, 547)\u001b[0m\n",
      "\u001b[01;37m2019-12-19 01:00:01,204 INFO     [day19.q_2:16] current_top_right = (361, 548)\u001b[0m\n",
      "\u001b[01;37m2019-12-19 01:00:01,405 INFO     [day19.q_2:16] current_top_right = (362, 548)\u001b[0m\n",
      "\u001b[01;37m2019-12-19 01:00:01,544 INFO     [day19.q_2:16] current_top_right = (362, 549)\u001b[0m\n",
      "\u001b[01;37m2019-12-19 01:00:01,737 INFO     [day19.q_2:16] current_top_right = (363, 549)\u001b[0m\n",
      "\u001b[01;37m2019-12-19 01:00:01,881 INFO     [day19.q_2:16] current_top_right = (363, 550)\u001b[0m\n",
      "\u001b[01;37m2019-12-19 01:00:02,052 INFO     [day19.q_2:16] current_top_right = (363, 551)\u001b[0m\n",
      "\u001b[01;37m2019-12-19 01:00:02,245 INFO     [day19.q_2:16] current_top_right = (364, 551)\u001b[0m\n",
      "\u001b[01;37m2019-12-19 01:00:02,386 INFO     [day19.q_2:16] current_top_right = (364, 552)\u001b[0m\n",
      "\u001b[01;37m2019-12-19 01:00:02,578 INFO     [day19.q_2:16] current_top_right = (365, 552)\u001b[0m\n",
      "\u001b[01;37m2019-12-19 01:00:02,718 INFO     [day19.q_2:16] current_top_right = (365, 553)\u001b[0m\n",
      "\u001b[01;37m2019-12-19 01:00:02,885 INFO     [day19.q_2:16] current_top_right = (365, 554)\u001b[0m\n",
      "\u001b[01;37m2019-12-19 01:00:03,056 INFO     [day19.q_2:16] current_top_right = (366, 554)\u001b[0m\n",
      "\u001b[01;37m2019-12-19 01:00:03,224 INFO     [day19.q_2:16] current_top_right = (366, 555)\u001b[0m\n",
      "\u001b[01;37m2019-12-19 01:00:03,392 INFO     [day19.q_2:16] current_top_right = (367, 555)\u001b[0m\n",
      "\u001b[01;37m2019-12-19 01:00:03,560 INFO     [day19.q_2:16] current_top_right = (367, 556)\u001b[0m\n",
      "\u001b[01;37m2019-12-19 01:00:03,727 INFO     [day19.q_2:16] current_top_right = (367, 557)\u001b[0m\n",
      "\u001b[01;37m2019-12-19 01:00:03,896 INFO     [day19.q_2:16] current_top_right = (368, 557)\u001b[0m\n",
      "\u001b[01;37m2019-12-19 01:00:04,067 INFO     [day19.q_2:16] current_top_right = (368, 558)\u001b[0m\n",
      "\u001b[01;37m2019-12-19 01:00:04,211 INFO     [day19.q_2:16] current_top_right = (368, 559)\u001b[0m\n",
      "\u001b[01;37m2019-12-19 01:00:04,437 INFO     [day19.q_2:16] current_top_right = (369, 559)\u001b[0m\n",
      "\u001b[01;37m2019-12-19 01:00:04,743 INFO     [day19.q_2:16] current_top_right = (369, 560)\u001b[0m\n",
      "\u001b[01;37m2019-12-19 01:00:05,164 INFO     [day19.q_2:16] current_top_right = (370, 560)\u001b[0m\n",
      "\u001b[01;37m2019-12-19 01:00:05,399 INFO     [day19.q_2:16] current_top_right = (370, 561)\u001b[0m\n",
      "\u001b[01;37m2019-12-19 01:00:05,543 INFO     [day19.q_2:16] current_top_right = (370, 562)\u001b[0m\n",
      "\u001b[01;37m2019-12-19 01:00:05,745 INFO     [day19.q_2:16] current_top_right = (371, 562)\u001b[0m\n",
      "\u001b[01;37m2019-12-19 01:00:05,891 INFO     [day19.q_2:16] current_top_right = (371, 563)\u001b[0m\n",
      "\u001b[01;37m2019-12-19 01:00:06,111 INFO     [day19.q_2:16] current_top_right = (372, 563)\u001b[0m\n",
      "\u001b[01;37m2019-12-19 01:00:06,264 INFO     [day19.q_2:16] current_top_right = (372, 564)\u001b[0m\n",
      "\u001b[01;37m2019-12-19 01:00:06,435 INFO     [day19.q_2:16] current_top_right = (372, 565)\u001b[0m\n",
      "\u001b[01;37m2019-12-19 01:00:06,632 INFO     [day19.q_2:16] current_top_right = (373, 565)\u001b[0m\n",
      "\u001b[01;37m2019-12-19 01:00:06,780 INFO     [day19.q_2:16] current_top_right = (373, 566)\u001b[0m\n",
      "\u001b[01;37m2019-12-19 01:00:06,978 INFO     [day19.q_2:16] current_top_right = (374, 566)\u001b[0m\n",
      "\u001b[01;37m2019-12-19 01:00:07,136 INFO     [day19.q_2:16] current_top_right = (374, 567)\u001b[0m\n",
      "\u001b[01;37m2019-12-19 01:00:07,324 INFO     [day19.q_2:16] current_top_right = (374, 568)\u001b[0m\n",
      "\u001b[01;37m2019-12-19 01:00:07,500 INFO     [day19.q_2:16] current_top_right = (375, 568)\u001b[0m\n",
      "\u001b[01;37m2019-12-19 01:00:07,673 INFO     [day19.q_2:16] current_top_right = (375, 569)\u001b[0m\n",
      "\u001b[01;37m2019-12-19 01:00:07,873 INFO     [day19.q_2:16] current_top_right = (376, 569)\u001b[0m\n",
      "\u001b[01;37m2019-12-19 01:00:08,021 INFO     [day19.q_2:16] current_top_right = (376, 570)\u001b[0m\n",
      "\u001b[01;37m2019-12-19 01:00:08,197 INFO     [day19.q_2:16] current_top_right = (376, 571)\u001b[0m\n",
      "\u001b[01;37m2019-12-19 01:00:08,372 INFO     [day19.q_2:16] current_top_right = (377, 571)\u001b[0m\n",
      "\u001b[01;37m2019-12-19 01:00:08,548 INFO     [day19.q_2:16] current_top_right = (377, 572)\u001b[0m\n",
      "\u001b[01;37m2019-12-19 01:00:08,724 INFO     [day19.q_2:16] current_top_right = (378, 572)\u001b[0m\n",
      "\u001b[01;37m2019-12-19 01:00:08,900 INFO     [day19.q_2:16] current_top_right = (378, 573)\u001b[0m\n",
      "\u001b[01;37m2019-12-19 01:00:09,080 INFO     [day19.q_2:16] current_top_right = (378, 574)\u001b[0m\n",
      "\u001b[01;37m2019-12-19 01:00:09,258 INFO     [day19.q_2:16] current_top_right = (379, 574)\u001b[0m\n",
      "\u001b[01;37m2019-12-19 01:00:09,435 INFO     [day19.q_2:16] current_top_right = (379, 575)\u001b[0m\n",
      "\u001b[01;37m2019-12-19 01:00:09,610 INFO     [day19.q_2:16] current_top_right = (380, 575)\u001b[0m\n",
      "\u001b[01;37m2019-12-19 01:00:09,786 INFO     [day19.q_2:16] current_top_right = (380, 576)\u001b[0m\n",
      "\u001b[01;37m2019-12-19 01:00:09,935 INFO     [day19.q_2:16] current_top_right = (380, 577)\u001b[0m\n",
      "\u001b[01;37m2019-12-19 01:00:10,139 INFO     [day19.q_2:16] current_top_right = (381, 577)\u001b[0m\n",
      "\u001b[01;37m2019-12-19 01:00:10,318 INFO     [day19.q_2:16] current_top_right = (381, 578)\u001b[0m\n",
      "\u001b[01;37m2019-12-19 01:00:10,494 INFO     [day19.q_2:16] current_top_right = (382, 578)\u001b[0m\n",
      "\u001b[01;37m2019-12-19 01:00:10,672 INFO     [day19.q_2:16] current_top_right = (382, 579)\u001b[0m\n",
      "\u001b[01;37m2019-12-19 01:00:10,823 INFO     [day19.q_2:16] current_top_right = (382, 580)\u001b[0m\n",
      "\u001b[01;37m2019-12-19 01:00:11,031 INFO     [day19.q_2:16] current_top_right = (383, 580)\u001b[0m\n",
      "\u001b[01;37m2019-12-19 01:00:11,185 INFO     [day19.q_2:16] current_top_right = (383, 581)\u001b[0m\n",
      "\u001b[01;37m2019-12-19 01:00:11,398 INFO     [day19.q_2:16] current_top_right = (384, 581)\u001b[0m\n",
      "\u001b[01;37m2019-12-19 01:00:11,578 INFO     [day19.q_2:16] current_top_right = (384, 582)\u001b[0m\n",
      "\u001b[01;37m2019-12-19 01:00:11,728 INFO     [day19.q_2:16] current_top_right = (384, 583)\u001b[0m\n",
      "\u001b[01;37m2019-12-19 01:00:11,933 INFO     [day19.q_2:16] current_top_right = (385, 583)\u001b[0m\n",
      "\u001b[01;37m2019-12-19 01:00:12,086 INFO     [day19.q_2:16] current_top_right = (385, 584)\u001b[0m\n",
      "\u001b[01;37m2019-12-19 01:00:12,369 INFO     [day19.q_2:16] current_top_right = (386, 584)\u001b[0m\n",
      "\u001b[01;37m2019-12-19 01:00:12,561 INFO     [day19.q_2:16] current_top_right = (386, 585)\u001b[0m\n",
      "\u001b[01;37m2019-12-19 01:00:12,744 INFO     [day19.q_2:16] current_top_right = (386, 586)\u001b[0m\n",
      "\u001b[01;37m2019-12-19 01:00:12,925 INFO     [day19.q_2:16] current_top_right = (387, 586)\u001b[0m\n",
      "\u001b[01;37m2019-12-19 01:00:13,107 INFO     [day19.q_2:16] current_top_right = (387, 587)\u001b[0m\n",
      "\u001b[01;37m2019-12-19 01:00:13,316 INFO     [day19.q_2:16] current_top_right = (388, 587)\u001b[0m\n",
      "\u001b[01;37m2019-12-19 01:00:13,468 INFO     [day19.q_2:16] current_top_right = (388, 588)\u001b[0m\n",
      "\u001b[01;37m2019-12-19 01:00:13,648 INFO     [day19.q_2:16] current_top_right = (388, 589)\u001b[0m\n",
      "\u001b[01;37m2019-12-19 01:00:13,851 INFO     [day19.q_2:16] current_top_right = (389, 589)\u001b[0m\n",
      "\u001b[01;37m2019-12-19 01:00:14,044 INFO     [day19.q_2:16] current_top_right = (389, 590)\u001b[0m\n",
      "\u001b[01;37m2019-12-19 01:00:14,260 INFO     [day19.q_2:16] current_top_right = (390, 590)\u001b[0m\n",
      "\u001b[01;37m2019-12-19 01:00:14,450 INFO     [day19.q_2:16] current_top_right = (390, 591)\u001b[0m\n",
      "\u001b[01;37m2019-12-19 01:00:14,639 INFO     [day19.q_2:16] current_top_right = (390, 592)\u001b[0m\n",
      "\u001b[01;37m2019-12-19 01:00:14,821 INFO     [day19.q_2:16] current_top_right = (391, 592)\u001b[0m\n",
      "\u001b[01;37m2019-12-19 01:00:15,006 INFO     [day19.q_2:16] current_top_right = (391, 593)\u001b[0m\n",
      "\u001b[01;37m2019-12-19 01:00:15,197 INFO     [day19.q_2:16] current_top_right = (392, 593)\u001b[0m\n",
      "\u001b[01;37m2019-12-19 01:00:15,382 INFO     [day19.q_2:16] current_top_right = (392, 594)\u001b[0m\n",
      "\u001b[01;37m2019-12-19 01:00:15,537 INFO     [day19.q_2:16] current_top_right = (392, 595)\u001b[0m\n",
      "\u001b[01;37m2019-12-19 01:00:15,746 INFO     [day19.q_2:16] current_top_right = (393, 595)\u001b[0m\n",
      "\u001b[01;37m2019-12-19 01:00:15,993 INFO     [day19.q_2:16] current_top_right = (393, 596)\u001b[0m\n",
      "\u001b[01;37m2019-12-19 01:00:16,226 INFO     [day19.q_2:16] current_top_right = (393, 597)\u001b[0m\n",
      "\u001b[01;37m2019-12-19 01:00:16,447 INFO     [day19.q_2:16] current_top_right = (394, 597)\u001b[0m\n",
      "\u001b[01;37m2019-12-19 01:00:16,607 INFO     [day19.q_2:16] current_top_right = (394, 598)\u001b[0m\n",
      "\u001b[01;37m2019-12-19 01:00:16,819 INFO     [day19.q_2:16] current_top_right = (395, 598)\u001b[0m\n",
      "\u001b[01;37m2019-12-19 01:00:16,978 INFO     [day19.q_2:16] current_top_right = (395, 599)\u001b[0m\n",
      "\u001b[01;37m2019-12-19 01:00:17,171 INFO     [day19.q_2:16] current_top_right = (395, 600)\u001b[0m\n",
      "\u001b[01;37m2019-12-19 01:00:17,390 INFO     [day19.q_2:16] current_top_right = (396, 600)\u001b[0m\n"
     ]
    },
    {
     "name": "stdout",
     "output_type": "stream",
     "text": [
      "\u001b[01;37m2019-12-19 01:00:17,549 INFO     [day19.q_2:16] current_top_right = (396, 601)\u001b[0m\n",
      "\u001b[01;37m2019-12-19 01:00:17,774 INFO     [day19.q_2:16] current_top_right = (397, 601)\u001b[0m\n",
      "\u001b[01;37m2019-12-19 01:00:17,932 INFO     [day19.q_2:16] current_top_right = (397, 602)\u001b[0m\n",
      "\u001b[01;37m2019-12-19 01:00:18,120 INFO     [day19.q_2:16] current_top_right = (397, 603)\u001b[0m\n",
      "\u001b[01;37m2019-12-19 01:00:18,307 INFO     [day19.q_2:16] current_top_right = (398, 603)\u001b[0m\n",
      "\u001b[01;37m2019-12-19 01:00:18,496 INFO     [day19.q_2:16] current_top_right = (398, 604)\u001b[0m\n",
      "\u001b[01;37m2019-12-19 01:00:18,708 INFO     [day19.q_2:16] current_top_right = (399, 604)\u001b[0m\n",
      "\u001b[01;37m2019-12-19 01:00:18,867 INFO     [day19.q_2:16] current_top_right = (399, 605)\u001b[0m\n",
      "\u001b[01;37m2019-12-19 01:00:19,053 INFO     [day19.q_2:16] current_top_right = (399, 606)\u001b[0m\n",
      "\u001b[01;37m2019-12-19 01:00:19,240 INFO     [day19.q_2:16] current_top_right = (400, 606)\u001b[0m\n",
      "\u001b[01;37m2019-12-19 01:00:19,426 INFO     [day19.q_2:16] current_top_right = (400, 607)\u001b[0m\n",
      "\u001b[01;37m2019-12-19 01:00:19,613 INFO     [day19.q_2:16] current_top_right = (401, 607)\u001b[0m\n",
      "\u001b[01;37m2019-12-19 01:00:19,802 INFO     [day19.q_2:16] current_top_right = (401, 608)\u001b[0m\n",
      "\u001b[01;37m2019-12-19 01:00:19,988 INFO     [day19.q_2:16] current_top_right = (401, 609)\u001b[0m\n",
      "\u001b[01;37m2019-12-19 01:00:20,179 INFO     [day19.q_2:16] current_top_right = (402, 609)\u001b[0m\n",
      "\u001b[01;37m2019-12-19 01:00:20,372 INFO     [day19.q_2:16] current_top_right = (402, 610)\u001b[0m\n",
      "\u001b[01;37m2019-12-19 01:00:20,560 INFO     [day19.q_2:16] current_top_right = (403, 610)\u001b[0m\n",
      "\u001b[01;37m2019-12-19 01:00:20,751 INFO     [day19.q_2:16] current_top_right = (403, 611)\u001b[0m\n",
      "\u001b[01;37m2019-12-19 01:00:20,914 INFO     [day19.q_2:16] current_top_right = (403, 612)\u001b[0m\n",
      "\u001b[01;37m2019-12-19 01:00:21,132 INFO     [day19.q_2:16] current_top_right = (404, 612)\u001b[0m\n",
      "\u001b[01;37m2019-12-19 01:00:21,297 INFO     [day19.q_2:16] current_top_right = (404, 613)\u001b[0m\n",
      "\u001b[01;37m2019-12-19 01:00:21,521 INFO     [day19.q_2:16] current_top_right = (405, 613)\u001b[0m\n",
      "\u001b[01;37m2019-12-19 01:00:21,711 INFO     [day19.q_2:16] current_top_right = (405, 614)\u001b[0m\n",
      "\u001b[01;37m2019-12-19 01:00:21,875 INFO     [day19.q_2:16] current_top_right = (405, 615)\u001b[0m\n",
      "\u001b[01;37m2019-12-19 01:00:22,097 INFO     [day19.q_2:16] current_top_right = (406, 615)\u001b[0m\n",
      "\u001b[01;37m2019-12-19 01:00:22,264 INFO     [day19.q_2:16] current_top_right = (406, 616)\u001b[0m\n",
      "\u001b[01;37m2019-12-19 01:00:22,482 INFO     [day19.q_2:16] current_top_right = (407, 616)\u001b[0m\n",
      "\u001b[01;37m2019-12-19 01:00:22,648 INFO     [day19.q_2:16] current_top_right = (407, 617)\u001b[0m\n",
      "\u001b[01;37m2019-12-19 01:00:22,838 INFO     [day19.q_2:16] current_top_right = (407, 618)\u001b[0m\n",
      "\u001b[01;37m2019-12-19 01:00:23,056 INFO     [day19.q_2:16] current_top_right = (408, 618)\u001b[0m\n",
      "\u001b[01;37m2019-12-19 01:00:23,223 INFO     [day19.q_2:16] current_top_right = (408, 619)\u001b[0m\n",
      "\u001b[01;37m2019-12-19 01:00:23,446 INFO     [day19.q_2:16] current_top_right = (409, 619)\u001b[0m\n",
      "\u001b[01;37m2019-12-19 01:00:23,611 INFO     [day19.q_2:16] current_top_right = (409, 620)\u001b[0m\n",
      "\u001b[01;37m2019-12-19 01:00:23,802 INFO     [day19.q_2:16] current_top_right = (409, 621)\u001b[0m\n",
      "\u001b[01;37m2019-12-19 01:00:23,994 INFO     [day19.q_2:16] current_top_right = (410, 621)\u001b[0m\n",
      "\u001b[01;37m2019-12-19 01:00:24,195 INFO     [day19.q_2:16] current_top_right = (410, 622)\u001b[0m\n",
      "\u001b[01;37m2019-12-19 01:00:24,416 INFO     [day19.q_2:16] current_top_right = (411, 622)\u001b[0m\n",
      "\u001b[01;37m2019-12-19 01:00:24,583 INFO     [day19.q_2:16] current_top_right = (411, 623)\u001b[0m\n",
      "\u001b[01;37m2019-12-19 01:00:24,775 INFO     [day19.q_2:16] current_top_right = (411, 624)\u001b[0m\n",
      "\u001b[01;37m2019-12-19 01:00:24,968 INFO     [day19.q_2:16] current_top_right = (412, 624)\u001b[0m\n",
      "\u001b[01;37m2019-12-19 01:00:25,166 INFO     [day19.q_2:16] current_top_right = (412, 625)\u001b[0m\n",
      "\u001b[01;37m2019-12-19 01:00:25,359 INFO     [day19.q_2:16] current_top_right = (413, 625)\u001b[0m\n",
      "\u001b[01;37m2019-12-19 01:00:25,553 INFO     [day19.q_2:16] current_top_right = (413, 626)\u001b[0m\n",
      "\u001b[01;37m2019-12-19 01:00:25,746 INFO     [day19.q_2:16] current_top_right = (413, 627)\u001b[0m\n",
      "\u001b[01;37m2019-12-19 01:00:25,942 INFO     [day19.q_2:16] current_top_right = (414, 627)\u001b[0m\n",
      "\u001b[01;37m2019-12-19 01:00:26,140 INFO     [day19.q_2:16] current_top_right = (414, 628)\u001b[0m\n",
      "\u001b[01;37m2019-12-19 01:00:26,354 INFO     [day19.q_2:16] current_top_right = (415, 628)\u001b[0m\n",
      "\u001b[01;37m2019-12-19 01:00:26,553 INFO     [day19.q_2:16] current_top_right = (415, 629)\u001b[0m\n",
      "\u001b[01;37m2019-12-19 01:00:26,720 INFO     [day19.q_2:16] current_top_right = (415, 630)\u001b[0m\n",
      "\u001b[01;37m2019-12-19 01:00:26,944 INFO     [day19.q_2:16] current_top_right = (416, 630)\u001b[0m\n",
      "\u001b[01;37m2019-12-19 01:00:27,143 INFO     [day19.q_2:16] current_top_right = (416, 631)\u001b[0m\n",
      "\u001b[01;37m2019-12-19 01:00:27,346 INFO     [day19.q_2:16] current_top_right = (417, 631)\u001b[0m\n",
      "\u001b[01;37m2019-12-19 01:00:27,556 INFO     [day19.q_2:16] current_top_right = (417, 632)\u001b[0m\n",
      "\u001b[01;37m2019-12-19 01:00:27,725 INFO     [day19.q_2:16] current_top_right = (417, 633)\u001b[0m\n",
      "\u001b[01;37m2019-12-19 01:00:27,949 INFO     [day19.q_2:16] current_top_right = (418, 633)\u001b[0m\n",
      "\u001b[01;37m2019-12-19 01:00:28,123 INFO     [day19.q_2:16] current_top_right = (418, 634)\u001b[0m\n",
      "\u001b[01;37m2019-12-19 01:00:28,348 INFO     [day19.q_2:16] current_top_right = (419, 634)\u001b[0m\n",
      "\u001b[01;37m2019-12-19 01:00:28,547 INFO     [day19.q_2:16] current_top_right = (419, 635)\u001b[0m\n",
      "\u001b[01;37m2019-12-19 01:00:28,726 INFO     [day19.q_2:16] current_top_right = (419, 636)\u001b[0m\n",
      "\u001b[01;37m2019-12-19 01:00:28,955 INFO     [day19.q_2:16] current_top_right = (420, 636)\u001b[0m\n",
      "\u001b[01;37m2019-12-19 01:00:29,135 INFO     [day19.q_2:16] current_top_right = (420, 637)\u001b[0m\n",
      "\u001b[01;37m2019-12-19 01:00:29,342 INFO     [day19.q_2:16] current_top_right = (420, 638)\u001b[0m\n",
      "\u001b[01;37m2019-12-19 01:00:29,544 INFO     [day19.q_2:16] current_top_right = (421, 638)\u001b[0m\n",
      "\u001b[01;37m2019-12-19 01:00:29,744 INFO     [day19.q_2:16] current_top_right = (421, 639)\u001b[0m\n",
      "\u001b[01;37m2019-12-19 01:00:29,943 INFO     [day19.q_2:16] current_top_right = (422, 639)\u001b[0m\n",
      "\u001b[01;37m2019-12-19 01:00:30,144 INFO     [day19.q_2:16] current_top_right = (422, 640)\u001b[0m\n",
      "\u001b[01;37m2019-12-19 01:00:30,348 INFO     [day19.q_2:16] current_top_right = (422, 641)\u001b[0m\n",
      "\u001b[01;37m2019-12-19 01:00:30,550 INFO     [day19.q_2:16] current_top_right = (423, 641)\u001b[0m\n",
      "\u001b[01;37m2019-12-19 01:00:30,749 INFO     [day19.q_2:16] current_top_right = (423, 642)\u001b[0m\n",
      "\u001b[01;37m2019-12-19 01:00:30,947 INFO     [day19.q_2:16] current_top_right = (424, 642)\u001b[0m\n",
      "\u001b[01;37m2019-12-19 01:00:31,151 INFO     [day19.q_2:16] current_top_right = (424, 643)\u001b[0m\n",
      "\u001b[01;37m2019-12-19 01:00:31,327 INFO     [day19.q_2:16] current_top_right = (424, 644)\u001b[0m\n",
      "\u001b[01;37m2019-12-19 01:00:31,557 INFO     [day19.q_2:16] current_top_right = (425, 644)\u001b[0m\n",
      "\u001b[01;37m2019-12-19 01:00:31,852 INFO     [day19.q_2:16] current_top_right = (425, 645)\u001b[0m\n",
      "\u001b[01;37m2019-12-19 01:00:32,087 INFO     [day19.q_2:16] current_top_right = (426, 645)\u001b[0m\n",
      "\u001b[01;37m2019-12-19 01:00:32,292 INFO     [day19.q_2:16] current_top_right = (426, 646)\u001b[0m\n",
      "\u001b[01;37m2019-12-19 01:00:32,470 INFO     [day19.q_2:16] current_top_right = (426, 647)\u001b[0m\n",
      "\u001b[01;37m2019-12-19 01:00:32,701 INFO     [day19.q_2:16] current_top_right = (427, 647)\u001b[0m\n",
      "\u001b[01;37m2019-12-19 01:00:32,876 INFO     [day19.q_2:16] current_top_right = (427, 648)\u001b[0m\n",
      "\u001b[01;37m2019-12-19 01:00:33,111 INFO     [day19.q_2:16] current_top_right = (428, 648)\u001b[0m\n",
      "\u001b[01;37m2019-12-19 01:00:33,318 INFO     [day19.q_2:16] current_top_right = (428, 649)\u001b[0m\n",
      "\u001b[01;37m2019-12-19 01:00:33,493 INFO     [day19.q_2:16] current_top_right = (428, 650)\u001b[0m\n",
      "\u001b[01;37m2019-12-19 01:00:33,725 INFO     [day19.q_2:16] current_top_right = (429, 650)\u001b[0m\n",
      "\u001b[01;37m2019-12-19 01:00:33,906 INFO     [day19.q_2:16] current_top_right = (429, 651)\u001b[0m\n",
      "\u001b[01;37m2019-12-19 01:00:34,141 INFO     [day19.q_2:16] current_top_right = (430, 651)\u001b[0m\n",
      "\u001b[01;37m2019-12-19 01:00:34,319 INFO     [day19.q_2:16] current_top_right = (430, 652)\u001b[0m\n",
      "\u001b[01;37m2019-12-19 01:00:34,522 INFO     [day19.q_2:16] current_top_right = (430, 653)\u001b[0m\n",
      "\u001b[01;37m2019-12-19 01:00:34,753 INFO     [day19.q_2:16] current_top_right = (431, 653)\u001b[0m\n",
      "\u001b[01;37m2019-12-19 01:00:34,931 INFO     [day19.q_2:16] current_top_right = (431, 654)\u001b[0m\n",
      "\u001b[01;37m2019-12-19 01:00:35,166 INFO     [day19.q_2:16] current_top_right = (432, 654)\u001b[0m\n",
      "\u001b[01;37m2019-12-19 01:00:35,346 INFO     [day19.q_2:16] current_top_right = (432, 655)\u001b[0m\n"
     ]
    },
    {
     "name": "stdout",
     "output_type": "stream",
     "text": [
      "\u001b[01;37m2019-12-19 01:00:35,551 INFO     [day19.q_2:16] current_top_right = (432, 656)\u001b[0m\n",
      "\u001b[01;37m2019-12-19 01:00:35,756 INFO     [day19.q_2:16] current_top_right = (433, 656)\u001b[0m\n",
      "\u001b[01;37m2019-12-19 01:00:35,966 INFO     [day19.q_2:16] current_top_right = (433, 657)\u001b[0m\n",
      "\u001b[01;37m2019-12-19 01:00:36,207 INFO     [day19.q_2:16] current_top_right = (434, 657)\u001b[0m\n",
      "\u001b[01;37m2019-12-19 01:00:36,391 INFO     [day19.q_2:16] current_top_right = (434, 658)\u001b[0m\n",
      "\u001b[01;37m2019-12-19 01:00:36,598 INFO     [day19.q_2:16] current_top_right = (434, 659)\u001b[0m\n",
      "\u001b[01;37m2019-12-19 01:00:36,806 INFO     [day19.q_2:16] current_top_right = (435, 659)\u001b[0m\n",
      "\u001b[01;37m2019-12-19 01:00:37,014 INFO     [day19.q_2:16] current_top_right = (435, 660)\u001b[0m\n",
      "\u001b[01;37m2019-12-19 01:00:37,223 INFO     [day19.q_2:16] current_top_right = (436, 660)\u001b[0m\n",
      "\u001b[01;37m2019-12-19 01:00:37,432 INFO     [day19.q_2:16] current_top_right = (436, 661)\u001b[0m\n",
      "\u001b[01;37m2019-12-19 01:00:37,640 INFO     [day19.q_2:16] current_top_right = (436, 662)\u001b[0m\n",
      "\u001b[01;37m2019-12-19 01:00:37,846 INFO     [day19.q_2:16] current_top_right = (437, 662)\u001b[0m\n",
      "\u001b[01;37m2019-12-19 01:00:38,055 INFO     [day19.q_2:16] current_top_right = (437, 663)\u001b[0m\n",
      "\u001b[01;37m2019-12-19 01:00:38,264 INFO     [day19.q_2:16] current_top_right = (438, 663)\u001b[0m\n",
      "\u001b[01;37m2019-12-19 01:00:38,473 INFO     [day19.q_2:16] current_top_right = (438, 664)\u001b[0m\n",
      "\u001b[01;37m2019-12-19 01:00:38,655 INFO     [day19.q_2:16] current_top_right = (438, 665)\u001b[0m\n",
      "\u001b[01;37m2019-12-19 01:00:38,891 INFO     [day19.q_2:16] current_top_right = (439, 665)\u001b[0m\n",
      "\u001b[01;37m2019-12-19 01:00:39,102 INFO     [day19.q_2:16] current_top_right = (439, 666)\u001b[0m\n",
      "\u001b[01;37m2019-12-19 01:00:39,314 INFO     [day19.q_2:16] current_top_right = (440, 666)\u001b[0m\n",
      "\u001b[01;37m2019-12-19 01:00:39,525 INFO     [day19.q_2:16] current_top_right = (440, 667)\u001b[0m\n",
      "\u001b[01;37m2019-12-19 01:00:39,710 INFO     [day19.q_2:16] current_top_right = (440, 668)\u001b[0m\n",
      "\u001b[01;37m2019-12-19 01:00:39,950 INFO     [day19.q_2:16] current_top_right = (441, 668)\u001b[0m\n",
      "\u001b[01;37m2019-12-19 01:00:40,143 INFO     [day19.q_2:16] current_top_right = (441, 669)\u001b[0m\n",
      "\u001b[01;37m2019-12-19 01:00:40,383 INFO     [day19.q_2:16] current_top_right = (442, 669)\u001b[0m\n",
      "\u001b[01;37m2019-12-19 01:00:40,571 INFO     [day19.q_2:16] current_top_right = (442, 670)\u001b[0m\n",
      "\u001b[01;37m2019-12-19 01:00:40,784 INFO     [day19.q_2:16] current_top_right = (442, 671)\u001b[0m\n",
      "\u001b[01;37m2019-12-19 01:00:41,024 INFO     [day19.q_2:16] current_top_right = (443, 671)\u001b[0m\n",
      "\u001b[01;37m2019-12-19 01:00:41,210 INFO     [day19.q_2:16] current_top_right = (443, 672)\u001b[0m\n",
      "\u001b[01;37m2019-12-19 01:00:41,454 INFO     [day19.q_2:16] current_top_right = (444, 672)\u001b[0m\n",
      "\u001b[01;37m2019-12-19 01:00:41,645 INFO     [day19.q_2:16] current_top_right = (444, 673)\u001b[0m\n",
      "\u001b[01;37m2019-12-19 01:00:41,858 INFO     [day19.q_2:16] current_top_right = (444, 674)\u001b[0m\n",
      "\u001b[01;37m2019-12-19 01:00:42,092 INFO     [day19.q_2:16] current_top_right = (445, 674)\u001b[0m\n",
      "\u001b[01;37m2019-12-19 01:00:42,309 INFO     [day19.q_2:16] current_top_right = (445, 675)\u001b[0m\n",
      "\u001b[01;37m2019-12-19 01:00:42,551 INFO     [day19.q_2:16] current_top_right = (446, 675)\u001b[0m\n",
      "\u001b[01;37m2019-12-19 01:00:42,742 INFO     [day19.q_2:16] current_top_right = (446, 676)\u001b[0m\n",
      "\u001b[01;37m2019-12-19 01:00:42,961 INFO     [day19.q_2:16] current_top_right = (446, 677)\u001b[0m\n",
      "\u001b[01;37m2019-12-19 01:00:43,192 INFO     [day19.q_2:16] current_top_right = (447, 677)\u001b[0m\n",
      "\u001b[01;37m2019-12-19 01:00:43,419 INFO     [day19.q_2:16] current_top_right = (447, 678)\u001b[0m\n",
      "\u001b[01;37m2019-12-19 01:00:43,611 INFO     [day19.q_2:16] current_top_right = (447, 679)\u001b[0m\n",
      "\u001b[01;37m2019-12-19 01:00:43,868 INFO     [day19.q_2:16] current_top_right = (448, 679)\u001b[0m\n",
      "\u001b[01;37m2019-12-19 01:00:44,118 INFO     [day19.q_2:16] current_top_right = (448, 680)\u001b[0m\n",
      "\u001b[01;37m2019-12-19 01:00:44,342 INFO     [day19.q_2:16] current_top_right = (449, 680)\u001b[0m\n",
      "\u001b[01;37m2019-12-19 01:00:44,560 INFO     [day19.q_2:16] current_top_right = (449, 681)\u001b[0m\n",
      "\u001b[01;37m2019-12-19 01:00:44,749 INFO     [day19.q_2:16] current_top_right = (449, 682)\u001b[0m\n",
      "\u001b[01;37m2019-12-19 01:00:44,994 INFO     [day19.q_2:16] current_top_right = (450, 682)\u001b[0m\n",
      "\u001b[01;37m2019-12-19 01:00:45,195 INFO     [day19.q_2:16] current_top_right = (450, 683)\u001b[0m\n",
      "\u001b[01;37m2019-12-19 01:00:45,439 INFO     [day19.q_2:16] current_top_right = (451, 683)\u001b[0m\n",
      "\u001b[01;37m2019-12-19 01:00:45,665 INFO     [day19.q_2:16] current_top_right = (451, 684)\u001b[0m\n",
      "\u001b[01;37m2019-12-19 01:00:45,858 INFO     [day19.q_2:16] current_top_right = (451, 685)\u001b[0m\n",
      "\u001b[01;37m2019-12-19 01:00:46,105 INFO     [day19.q_2:16] current_top_right = (452, 685)\u001b[0m\n",
      "\u001b[01;37m2019-12-19 01:00:46,310 INFO     [day19.q_2:16] current_top_right = (452, 686)\u001b[0m\n",
      "\u001b[01;37m2019-12-19 01:00:46,556 INFO     [day19.q_2:16] current_top_right = (453, 686)\u001b[0m\n",
      "\u001b[01;37m2019-12-19 01:00:46,747 INFO     [day19.q_2:16] current_top_right = (453, 687)\u001b[0m\n",
      "\u001b[01;37m2019-12-19 01:00:46,968 INFO     [day19.q_2:16] current_top_right = (453, 688)\u001b[0m\n",
      "\u001b[01;37m2019-12-19 01:00:47,216 INFO     [day19.q_2:16] current_top_right = (454, 688)\u001b[0m\n",
      "\u001b[01;37m2019-12-19 01:00:47,409 INFO     [day19.q_2:16] current_top_right = (454, 689)\u001b[0m\n",
      "\u001b[01;37m2019-12-19 01:00:47,654 INFO     [day19.q_2:16] current_top_right = (455, 689)\u001b[0m\n",
      "\u001b[01;37m2019-12-19 01:00:47,846 INFO     [day19.q_2:16] current_top_right = (455, 690)\u001b[0m\n",
      "\u001b[01;37m2019-12-19 01:00:48,070 INFO     [day19.q_2:16] current_top_right = (455, 691)\u001b[0m\n",
      "\u001b[01;37m2019-12-19 01:00:48,295 INFO     [day19.q_2:16] current_top_right = (456, 691)\u001b[0m\n",
      "\u001b[01;37m2019-12-19 01:00:48,520 INFO     [day19.q_2:16] current_top_right = (456, 692)\u001b[0m\n",
      "\u001b[01;37m2019-12-19 01:00:48,778 INFO     [day19.q_2:16] current_top_right = (457, 692)\u001b[0m\n",
      "\u001b[01;37m2019-12-19 01:00:48,970 INFO     [day19.q_2:16] current_top_right = (457, 693)\u001b[0m\n",
      "\u001b[01;37m2019-12-19 01:00:49,195 INFO     [day19.q_2:16] current_top_right = (457, 694)\u001b[0m\n",
      "\u001b[01;37m2019-12-19 01:00:49,415 INFO     [day19.q_2:16] current_top_right = (458, 694)\u001b[0m\n",
      "\u001b[01;37m2019-12-19 01:00:49,636 INFO     [day19.q_2:16] current_top_right = (458, 695)\u001b[0m\n",
      "\u001b[01;37m2019-12-19 01:00:49,857 INFO     [day19.q_2:16] current_top_right = (459, 695)\u001b[0m\n",
      "\u001b[01;37m2019-12-19 01:00:50,082 INFO     [day19.q_2:16] current_top_right = (459, 696)\u001b[0m\n",
      "\u001b[01;37m2019-12-19 01:00:50,280 INFO     [day19.q_2:16] current_top_right = (459, 697)\u001b[0m\n",
      "\u001b[01;37m2019-12-19 01:00:50,530 INFO     [day19.q_2:16] current_top_right = (460, 697)\u001b[0m\n",
      "\u001b[01;37m2019-12-19 01:00:50,752 INFO     [day19.q_2:16] current_top_right = (460, 698)\u001b[0m\n",
      "\u001b[01;37m2019-12-19 01:00:50,975 INFO     [day19.q_2:16] current_top_right = (461, 698)\u001b[0m\n",
      "\u001b[01;37m2019-12-19 01:00:51,202 INFO     [day19.q_2:16] current_top_right = (461, 699)\u001b[0m\n",
      "\u001b[01;37m2019-12-19 01:00:51,400 INFO     [day19.q_2:16] current_top_right = (461, 700)\u001b[0m\n",
      "\u001b[01;37m2019-12-19 01:00:51,652 INFO     [day19.q_2:16] current_top_right = (462, 700)\u001b[0m\n",
      "\u001b[01;37m2019-12-19 01:00:51,849 INFO     [day19.q_2:16] current_top_right = (462, 701)\u001b[0m\n",
      "\u001b[01;37m2019-12-19 01:00:52,100 INFO     [day19.q_2:16] current_top_right = (463, 701)\u001b[0m\n",
      "\u001b[01;37m2019-12-19 01:00:52,327 INFO     [day19.q_2:16] current_top_right = (463, 702)\u001b[0m\n",
      "\u001b[01;37m2019-12-19 01:00:52,523 INFO     [day19.q_2:16] current_top_right = (463, 703)\u001b[0m\n",
      "\u001b[01;37m2019-12-19 01:00:52,911 INFO     [day19.q_2:16] current_top_right = (464, 703)\u001b[0m\n",
      "\u001b[01;37m2019-12-19 01:00:53,114 INFO     [day19.q_2:16] current_top_right = (464, 704)\u001b[0m\n",
      "\u001b[01;37m2019-12-19 01:00:53,374 INFO     [day19.q_2:16] current_top_right = (465, 704)\u001b[0m\n",
      "\u001b[01;37m2019-12-19 01:00:53,573 INFO     [day19.q_2:16] current_top_right = (465, 705)\u001b[0m\n",
      "\u001b[01;37m2019-12-19 01:00:53,802 INFO     [day19.q_2:16] current_top_right = (465, 706)\u001b[0m\n",
      "\u001b[01;37m2019-12-19 01:00:54,058 INFO     [day19.q_2:16] current_top_right = (466, 706)\u001b[0m\n",
      "\u001b[01;37m2019-12-19 01:00:54,259 INFO     [day19.q_2:16] current_top_right = (466, 707)\u001b[0m\n",
      "\u001b[01;37m2019-12-19 01:00:54,513 INFO     [day19.q_2:16] current_top_right = (467, 707)\u001b[0m\n",
      "\u001b[01;37m2019-12-19 01:00:54,712 INFO     [day19.q_2:16] current_top_right = (467, 708)\u001b[0m\n",
      "\u001b[01;37m2019-12-19 01:00:54,938 INFO     [day19.q_2:16] current_top_right = (467, 709)\u001b[0m\n",
      "\u001b[01;37m2019-12-19 01:00:55,168 INFO     [day19.q_2:16] current_top_right = (468, 709)\u001b[0m\n",
      "\u001b[01;37m2019-12-19 01:00:55,398 INFO     [day19.q_2:16] current_top_right = (468, 710)\u001b[0m\n"
     ]
    },
    {
     "name": "stdout",
     "output_type": "stream",
     "text": [
      "\u001b[01;37m2019-12-19 01:00:55,656 INFO     [day19.q_2:16] current_top_right = (469, 710)\u001b[0m\n",
      "\u001b[01;37m2019-12-19 01:00:55,857 INFO     [day19.q_2:16] current_top_right = (469, 711)\u001b[0m\n",
      "\u001b[01;37m2019-12-19 01:00:56,090 INFO     [day19.q_2:16] current_top_right = (469, 712)\u001b[0m\n",
      "\u001b[01;37m2019-12-19 01:00:56,323 INFO     [day19.q_2:16] current_top_right = (470, 712)\u001b[0m\n",
      "\u001b[01;37m2019-12-19 01:00:56,556 INFO     [day19.q_2:16] current_top_right = (470, 713)\u001b[0m\n",
      "\u001b[01;37m2019-12-19 01:00:56,789 INFO     [day19.q_2:16] current_top_right = (471, 713)\u001b[0m\n",
      "\u001b[01;37m2019-12-19 01:00:57,019 INFO     [day19.q_2:16] current_top_right = (471, 714)\u001b[0m\n",
      "\u001b[01;37m2019-12-19 01:00:57,252 INFO     [day19.q_2:16] current_top_right = (471, 715)\u001b[0m\n",
      "\u001b[01;37m2019-12-19 01:00:57,483 INFO     [day19.q_2:16] current_top_right = (472, 715)\u001b[0m\n",
      "\u001b[01;37m2019-12-19 01:00:57,712 INFO     [day19.q_2:16] current_top_right = (472, 716)\u001b[0m\n",
      "\u001b[01;37m2019-12-19 01:00:57,915 INFO     [day19.q_2:16] current_top_right = (472, 717)\u001b[0m\n",
      "\u001b[01;37m2019-12-19 01:00:58,177 INFO     [day19.q_2:16] current_top_right = (473, 717)\u001b[0m\n",
      "\u001b[01;37m2019-12-19 01:00:58,382 INFO     [day19.q_2:16] current_top_right = (473, 718)\u001b[0m\n",
      "\u001b[01;37m2019-12-19 01:00:58,641 INFO     [day19.q_2:16] current_top_right = (474, 718)\u001b[0m\n",
      "\u001b[01;37m2019-12-19 01:00:58,874 INFO     [day19.q_2:16] current_top_right = (474, 719)\u001b[0m\n",
      "\u001b[01;37m2019-12-19 01:00:59,081 INFO     [day19.q_2:16] current_top_right = (474, 720)\u001b[0m\n",
      "\u001b[01;37m2019-12-19 01:00:59,343 INFO     [day19.q_2:16] current_top_right = (475, 720)\u001b[0m\n",
      "\u001b[01;37m2019-12-19 01:00:59,548 INFO     [day19.q_2:16] current_top_right = (475, 721)\u001b[0m\n",
      "\u001b[01;37m2019-12-19 01:00:59,808 INFO     [day19.q_2:16] current_top_right = (476, 721)\u001b[0m\n",
      "\u001b[01;37m2019-12-19 01:01:00,015 INFO     [day19.q_2:16] current_top_right = (476, 722)\u001b[0m\n",
      "\u001b[01;37m2019-12-19 01:01:00,253 INFO     [day19.q_2:16] current_top_right = (476, 723)\u001b[0m\n",
      "\u001b[01;37m2019-12-19 01:01:00,489 INFO     [day19.q_2:16] current_top_right = (477, 723)\u001b[0m\n",
      "\u001b[01;37m2019-12-19 01:01:00,724 INFO     [day19.q_2:16] current_top_right = (477, 724)\u001b[0m\n",
      "\u001b[01;37m2019-12-19 01:01:00,984 INFO     [day19.q_2:16] current_top_right = (478, 724)\u001b[0m\n",
      "\u001b[01;37m2019-12-19 01:01:01,200 INFO     [day19.q_2:16] current_top_right = (478, 725)\u001b[0m\n",
      "\u001b[01;37m2019-12-19 01:01:01,436 INFO     [day19.q_2:16] current_top_right = (478, 726)\u001b[0m\n",
      "\u001b[01;37m2019-12-19 01:01:01,674 INFO     [day19.q_2:16] current_top_right = (479, 726)\u001b[0m\n",
      "\u001b[01;37m2019-12-19 01:01:01,911 INFO     [day19.q_2:16] current_top_right = (479, 727)\u001b[0m\n",
      "\u001b[01;37m2019-12-19 01:01:02,150 INFO     [day19.q_2:16] current_top_right = (480, 727)\u001b[0m\n",
      "\u001b[01;37m2019-12-19 01:01:02,396 INFO     [day19.q_2:16] current_top_right = (480, 728)\u001b[0m\n",
      "\u001b[01;37m2019-12-19 01:01:02,631 INFO     [day19.q_2:16] current_top_right = (480, 729)\u001b[0m\n",
      "\u001b[01;37m2019-12-19 01:01:02,868 INFO     [day19.q_2:16] current_top_right = (481, 729)\u001b[0m\n",
      "\u001b[01;37m2019-12-19 01:01:03,108 INFO     [day19.q_2:16] current_top_right = (481, 730)\u001b[0m\n",
      "\u001b[01;37m2019-12-19 01:01:03,346 INFO     [day19.q_2:16] current_top_right = (482, 730)\u001b[0m\n",
      "\u001b[01;37m2019-12-19 01:01:03,585 INFO     [day19.q_2:16] current_top_right = (482, 731)\u001b[0m\n",
      "\u001b[01;37m2019-12-19 01:01:03,797 INFO     [day19.q_2:16] current_top_right = (482, 732)\u001b[0m\n",
      "\u001b[01;37m2019-12-19 01:01:04,065 INFO     [day19.q_2:16] current_top_right = (483, 732)\u001b[0m\n",
      "\u001b[01;37m2019-12-19 01:01:04,304 INFO     [day19.q_2:16] current_top_right = (483, 733)\u001b[0m\n",
      "\u001b[01;37m2019-12-19 01:01:04,544 INFO     [day19.q_2:16] current_top_right = (484, 733)\u001b[0m\n",
      "\u001b[01;37m2019-12-19 01:01:04,784 INFO     [day19.q_2:16] current_top_right = (484, 734)\u001b[0m\n",
      "\u001b[01;37m2019-12-19 01:01:04,994 INFO     [day19.q_2:16] current_top_right = (484, 735)\u001b[0m\n",
      "\u001b[01;37m2019-12-19 01:01:05,262 INFO     [day19.q_2:16] current_top_right = (485, 735)\u001b[0m\n",
      "\u001b[01;37m2019-12-19 01:01:05,474 INFO     [day19.q_2:16] current_top_right = (485, 736)\u001b[0m\n",
      "\u001b[01;37m2019-12-19 01:01:05,742 INFO     [day19.q_2:16] current_top_right = (486, 736)\u001b[0m\n",
      "\u001b[01;37m2019-12-19 01:01:05,982 INFO     [day19.q_2:16] current_top_right = (486, 737)\u001b[0m\n",
      "\u001b[01;37m2019-12-19 01:01:06,199 INFO     [day19.q_2:16] current_top_right = (486, 738)\u001b[0m\n",
      "\u001b[01;37m2019-12-19 01:01:06,476 INFO     [day19.q_2:16] current_top_right = (487, 738)\u001b[0m\n",
      "\u001b[01;37m2019-12-19 01:01:06,689 INFO     [day19.q_2:16] current_top_right = (487, 739)\u001b[0m\n",
      "\u001b[01;37m2019-12-19 01:01:06,959 INFO     [day19.q_2:16] current_top_right = (488, 739)\u001b[0m\n",
      "\u001b[01;37m2019-12-19 01:01:07,180 INFO     [day19.q_2:16] current_top_right = (488, 740)\u001b[0m\n",
      "\u001b[01;37m2019-12-19 01:01:07,430 INFO     [day19.q_2:16] current_top_right = (488, 741)\u001b[0m\n",
      "\u001b[01;37m2019-12-19 01:01:07,699 INFO     [day19.q_2:16] current_top_right = (489, 741)\u001b[0m\n",
      "\u001b[01;37m2019-12-19 01:01:07,914 INFO     [day19.q_2:16] current_top_right = (489, 742)\u001b[0m\n",
      "\u001b[01;37m2019-12-19 01:01:08,189 INFO     [day19.q_2:16] current_top_right = (490, 742)\u001b[0m\n",
      "\u001b[01;37m2019-12-19 01:01:08,411 INFO     [day19.q_2:16] current_top_right = (490, 743)\u001b[0m\n",
      "\u001b[01;37m2019-12-19 01:01:08,656 INFO     [day19.q_2:16] current_top_right = (490, 744)\u001b[0m\n",
      "\u001b[01;37m2019-12-19 01:01:08,901 INFO     [day19.q_2:16] current_top_right = (491, 744)\u001b[0m\n",
      "\u001b[01;37m2019-12-19 01:01:09,148 INFO     [day19.q_2:16] current_top_right = (491, 745)\u001b[0m\n",
      "\u001b[01;37m2019-12-19 01:01:09,425 INFO     [day19.q_2:16] current_top_right = (492, 745)\u001b[0m\n",
      "\u001b[01;37m2019-12-19 01:01:09,644 INFO     [day19.q_2:16] current_top_right = (492, 746)\u001b[0m\n",
      "\u001b[01;37m2019-12-19 01:01:09,890 INFO     [day19.q_2:16] current_top_right = (492, 747)\u001b[0m\n",
      "\u001b[01;37m2019-12-19 01:01:10,136 INFO     [day19.q_2:16] current_top_right = (493, 747)\u001b[0m\n",
      "\u001b[01;37m2019-12-19 01:01:10,383 INFO     [day19.q_2:16] current_top_right = (493, 748)\u001b[0m\n",
      "\u001b[01;37m2019-12-19 01:01:10,628 INFO     [day19.q_2:16] current_top_right = (494, 748)\u001b[0m\n",
      "\u001b[01;37m2019-12-19 01:01:10,874 INFO     [day19.q_2:16] current_top_right = (494, 749)\u001b[0m\n",
      "\u001b[01;37m2019-12-19 01:01:11,094 INFO     [day19.q_2:16] current_top_right = (494, 750)\u001b[0m\n",
      "\u001b[01;37m2019-12-19 01:01:11,371 INFO     [day19.q_2:16] current_top_right = (495, 750)\u001b[0m\n",
      "\u001b[01;37m2019-12-19 01:01:11,620 INFO     [day19.q_2:16] current_top_right = (495, 751)\u001b[0m\n",
      "\u001b[01;37m2019-12-19 01:01:11,870 INFO     [day19.q_2:16] current_top_right = (496, 751)\u001b[0m\n",
      "\u001b[01;37m2019-12-19 01:01:12,123 INFO     [day19.q_2:16] current_top_right = (496, 752)\u001b[0m\n",
      "\u001b[01;37m2019-12-19 01:01:12,349 INFO     [day19.q_2:16] current_top_right = (496, 753)\u001b[0m\n",
      "\u001b[01;37m2019-12-19 01:01:12,625 INFO     [day19.q_2:16] current_top_right = (497, 753)\u001b[0m\n",
      "\u001b[01;37m2019-12-19 01:01:12,843 INFO     [day19.q_2:16] current_top_right = (497, 754)\u001b[0m\n",
      "\u001b[01;37m2019-12-19 01:01:13,119 INFO     [day19.q_2:16] current_top_right = (498, 754)\u001b[0m\n",
      "\u001b[01;37m2019-12-19 01:01:13,369 INFO     [day19.q_2:16] current_top_right = (498, 755)\u001b[0m\n",
      "\u001b[01;37m2019-12-19 01:01:13,596 INFO     [day19.q_2:16] current_top_right = (498, 756)\u001b[0m\n",
      "\u001b[01;37m2019-12-19 01:01:13,912 INFO     [day19.q_2:16] current_top_right = (499, 756)\u001b[0m\n",
      "\u001b[01;37m2019-12-19 01:01:14,139 INFO     [day19.q_2:16] current_top_right = (499, 757)\u001b[0m\n",
      "\u001b[01;37m2019-12-19 01:01:14,391 INFO     [day19.q_2:16] current_top_right = (499, 758)\u001b[0m\n",
      "\u001b[01;37m2019-12-19 01:01:14,641 INFO     [day19.q_2:16] current_top_right = (500, 758)\u001b[0m\n",
      "\u001b[01;37m2019-12-19 01:01:14,891 INFO     [day19.q_2:16] current_top_right = (500, 759)\u001b[0m\n",
      "\u001b[01;37m2019-12-19 01:01:15,173 INFO     [day19.q_2:16] current_top_right = (501, 759)\u001b[0m\n",
      "\u001b[01;37m2019-12-19 01:01:15,397 INFO     [day19.q_2:16] current_top_right = (501, 760)\u001b[0m\n",
      "\u001b[01;37m2019-12-19 01:01:15,647 INFO     [day19.q_2:16] current_top_right = (501, 761)\u001b[0m\n",
      "\u001b[01;37m2019-12-19 01:01:15,899 INFO     [day19.q_2:16] current_top_right = (502, 761)\u001b[0m\n",
      "\u001b[01;37m2019-12-19 01:01:16,251 INFO     [day19.q_2:16] current_top_right = (502, 762)\u001b[0m\n",
      "\u001b[01;37m2019-12-19 01:01:16,547 INFO     [day19.q_2:16] current_top_right = (503, 762)\u001b[0m\n",
      "\u001b[01;37m2019-12-19 01:01:16,804 INFO     [day19.q_2:16] current_top_right = (503, 763)\u001b[0m\n",
      "\u001b[01;37m2019-12-19 01:01:17,057 INFO     [day19.q_2:16] current_top_right = (503, 764)\u001b[0m\n",
      "\u001b[01;37m2019-12-19 01:01:17,311 INFO     [day19.q_2:16] current_top_right = (504, 764)\u001b[0m\n",
      "\u001b[01;37m2019-12-19 01:01:17,576 INFO     [day19.q_2:16] current_top_right = (504, 765)\u001b[0m\n"
     ]
    },
    {
     "name": "stdout",
     "output_type": "stream",
     "text": [
      "\u001b[01;37m2019-12-19 01:01:17,829 INFO     [day19.q_2:16] current_top_right = (505, 765)\u001b[0m\n",
      "\u001b[01;37m2019-12-19 01:01:18,086 INFO     [day19.q_2:16] current_top_right = (505, 766)\u001b[0m\n",
      "\u001b[01;37m2019-12-19 01:01:18,314 INFO     [day19.q_2:16] current_top_right = (505, 767)\u001b[0m\n",
      "\u001b[01;37m2019-12-19 01:01:18,597 INFO     [day19.q_2:16] current_top_right = (506, 767)\u001b[0m\n",
      "\u001b[01;37m2019-12-19 01:01:18,854 INFO     [day19.q_2:16] current_top_right = (506, 768)\u001b[0m\n",
      "\u001b[01;37m2019-12-19 01:01:19,117 INFO     [day19.q_2:16] current_top_right = (507, 768)\u001b[0m\n",
      "\u001b[01;37m2019-12-19 01:01:19,375 INFO     [day19.q_2:16] current_top_right = (507, 769)\u001b[0m\n",
      "\u001b[01;37m2019-12-19 01:01:19,607 INFO     [day19.q_2:16] current_top_right = (507, 770)\u001b[0m\n",
      "\u001b[01;37m2019-12-19 01:01:19,890 INFO     [day19.q_2:16] current_top_right = (508, 770)\u001b[0m\n",
      "\u001b[01;37m2019-12-19 01:01:20,120 INFO     [day19.q_2:16] current_top_right = (508, 771)\u001b[0m\n",
      "\u001b[01;37m2019-12-19 01:01:20,410 INFO     [day19.q_2:16] current_top_right = (509, 771)\u001b[0m\n",
      "\u001b[01;37m2019-12-19 01:01:20,670 INFO     [day19.q_2:16] current_top_right = (509, 772)\u001b[0m\n",
      "\u001b[01;37m2019-12-19 01:01:20,903 INFO     [day19.q_2:16] current_top_right = (509, 773)\u001b[0m\n",
      "\u001b[01;37m2019-12-19 01:01:21,195 INFO     [day19.q_2:16] current_top_right = (510, 773)\u001b[0m\n",
      "\u001b[01;37m2019-12-19 01:01:21,442 INFO     [day19.q_2:16] current_top_right = (510, 774)\u001b[0m\n",
      "\u001b[01;37m2019-12-19 01:01:21,730 INFO     [day19.q_2:16] current_top_right = (511, 774)\u001b[0m\n",
      "\u001b[01;37m2019-12-19 01:01:21,964 INFO     [day19.q_2:16] current_top_right = (511, 775)\u001b[0m\n",
      "\u001b[01;37m2019-12-19 01:01:22,226 INFO     [day19.q_2:16] current_top_right = (511, 776)\u001b[0m\n",
      "\u001b[01;37m2019-12-19 01:01:22,514 INFO     [day19.q_2:16] current_top_right = (512, 776)\u001b[0m\n",
      "\u001b[01;37m2019-12-19 01:01:22,748 INFO     [day19.q_2:16] current_top_right = (512, 777)\u001b[0m\n",
      "\u001b[01;37m2019-12-19 01:01:23,036 INFO     [day19.q_2:16] current_top_right = (513, 777)\u001b[0m\n",
      "\u001b[01;37m2019-12-19 01:01:23,270 INFO     [day19.q_2:16] current_top_right = (513, 778)\u001b[0m\n",
      "\u001b[01;37m2019-12-19 01:01:23,531 INFO     [day19.q_2:16] current_top_right = (513, 779)\u001b[0m\n",
      "\u001b[01;37m2019-12-19 01:01:23,793 INFO     [day19.q_2:16] current_top_right = (514, 779)\u001b[0m\n",
      "\u001b[01;37m2019-12-19 01:01:24,055 INFO     [day19.q_2:16] current_top_right = (514, 780)\u001b[0m\n",
      "\u001b[01;37m2019-12-19 01:01:24,318 INFO     [day19.q_2:16] current_top_right = (515, 780)\u001b[0m\n",
      "\u001b[01;37m2019-12-19 01:01:24,579 INFO     [day19.q_2:16] current_top_right = (515, 781)\u001b[0m\n",
      "\u001b[01;37m2019-12-19 01:01:24,841 INFO     [day19.q_2:16] current_top_right = (515, 782)\u001b[0m\n",
      "\u001b[01;37m2019-12-19 01:01:25,114 INFO     [day19.q_2:16] current_top_right = (516, 782)\u001b[0m\n",
      "\u001b[01;37m2019-12-19 01:01:25,379 INFO     [day19.q_2:16] current_top_right = (516, 783)\u001b[0m\n",
      "\u001b[01;37m2019-12-19 01:01:25,639 INFO     [day19.q_2:16] current_top_right = (517, 783)\u001b[0m\n",
      "\u001b[01;37m2019-12-19 01:01:25,901 INFO     [day19.q_2:16] current_top_right = (517, 784)\u001b[0m\n",
      "\u001b[01;37m2019-12-19 01:01:26,138 INFO     [day19.q_2:16] current_top_right = (517, 785)\u001b[0m\n",
      "\u001b[01;37m2019-12-19 01:01:26,433 INFO     [day19.q_2:16] current_top_right = (518, 785)\u001b[0m\n",
      "\u001b[01;37m2019-12-19 01:01:26,698 INFO     [day19.q_2:16] current_top_right = (518, 786)\u001b[0m\n",
      "\u001b[01;37m2019-12-19 01:01:26,963 INFO     [day19.q_2:16] current_top_right = (519, 786)\u001b[0m\n",
      "\u001b[01;37m2019-12-19 01:01:27,230 INFO     [day19.q_2:16] current_top_right = (519, 787)\u001b[0m\n",
      "\u001b[01;37m2019-12-19 01:01:27,468 INFO     [day19.q_2:16] current_top_right = (519, 788)\u001b[0m\n",
      "\u001b[01;37m2019-12-19 01:01:27,769 INFO     [day19.q_2:16] current_top_right = (520, 788)\u001b[0m\n",
      "\u001b[01;37m2019-12-19 01:01:28,011 INFO     [day19.q_2:16] current_top_right = (520, 789)\u001b[0m\n",
      "\u001b[01;37m2019-12-19 01:01:28,313 INFO     [day19.q_2:16] current_top_right = (521, 789)\u001b[0m\n",
      "\u001b[01;37m2019-12-19 01:01:28,586 INFO     [day19.q_2:16] current_top_right = (521, 790)\u001b[0m\n",
      "\u001b[01;37m2019-12-19 01:01:28,824 INFO     [day19.q_2:16] current_top_right = (521, 791)\u001b[0m\n",
      "\u001b[01;37m2019-12-19 01:01:29,124 INFO     [day19.q_2:16] current_top_right = (522, 791)\u001b[0m\n",
      "\u001b[01;37m2019-12-19 01:01:29,375 INFO     [day19.q_2:16] current_top_right = (522, 792)\u001b[0m\n",
      "\u001b[01;37m2019-12-19 01:01:29,682 INFO     [day19.q_2:16] current_top_right = (523, 792)\u001b[0m\n",
      "\u001b[01;37m2019-12-19 01:01:29,930 INFO     [day19.q_2:16] current_top_right = (523, 793)\u001b[0m\n",
      "\u001b[01;37m2019-12-19 01:01:30,210 INFO     [day19.q_2:16] current_top_right = (523, 794)\u001b[0m\n",
      "\u001b[01;37m2019-12-19 01:01:30,517 INFO     [day19.q_2:16] current_top_right = (524, 794)\u001b[0m\n",
      "\u001b[01;37m2019-12-19 01:01:30,767 INFO     [day19.q_2:16] current_top_right = (524, 795)\u001b[0m\n",
      "\u001b[01;37m2019-12-19 01:01:31,047 INFO     [day19.q_2:16] current_top_right = (524, 796)\u001b[0m\n",
      "\u001b[01;37m2019-12-19 01:01:31,327 INFO     [day19.q_2:16] current_top_right = (525, 796)\u001b[0m\n",
      "\u001b[01;37m2019-12-19 01:01:31,606 INFO     [day19.q_2:16] current_top_right = (525, 797)\u001b[0m\n",
      "\u001b[01;37m2019-12-19 01:01:31,884 INFO     [day19.q_2:16] current_top_right = (526, 797)\u001b[0m\n",
      "\u001b[01;37m2019-12-19 01:01:32,168 INFO     [day19.q_2:16] current_top_right = (526, 798)\u001b[0m\n",
      "\u001b[01;37m2019-12-19 01:01:32,451 INFO     [day19.q_2:16] current_top_right = (526, 799)\u001b[0m\n",
      "\u001b[01;37m2019-12-19 01:01:32,736 INFO     [day19.q_2:16] current_top_right = (527, 799)\u001b[0m\n",
      "\u001b[01;37m2019-12-19 01:01:33,021 INFO     [day19.q_2:16] current_top_right = (527, 800)\u001b[0m\n",
      "\u001b[01;37m2019-12-19 01:01:33,310 INFO     [day19.q_2:16] current_top_right = (528, 800)\u001b[0m\n",
      "\u001b[01;37m2019-12-19 01:01:33,591 INFO     [day19.q_2:16] current_top_right = (528, 801)\u001b[0m\n",
      "\u001b[01;37m2019-12-19 01:01:33,846 INFO     [day19.q_2:16] current_top_right = (528, 802)\u001b[0m\n",
      "\u001b[01;37m2019-12-19 01:01:34,156 INFO     [day19.q_2:16] current_top_right = (529, 802)\u001b[0m\n",
      "\u001b[01;37m2019-12-19 01:01:34,441 INFO     [day19.q_2:16] current_top_right = (529, 803)\u001b[0m\n",
      "\u001b[01;37m2019-12-19 01:01:34,724 INFO     [day19.q_2:16] current_top_right = (530, 803)\u001b[0m\n",
      "\u001b[01;37m2019-12-19 01:01:35,007 INFO     [day19.q_2:16] current_top_right = (530, 804)\u001b[0m\n",
      "\u001b[01;37m2019-12-19 01:01:35,269 INFO     [day19.q_2:16] current_top_right = (530, 805)\u001b[0m\n",
      "\u001b[01;37m2019-12-19 01:01:35,580 INFO     [day19.q_2:16] current_top_right = (531, 805)\u001b[0m\n",
      "\u001b[01;37m2019-12-19 01:01:35,837 INFO     [day19.q_2:16] current_top_right = (531, 806)\u001b[0m\n",
      "\u001b[01;37m2019-12-19 01:01:36,152 INFO     [day19.q_2:16] current_top_right = (532, 806)\u001b[0m\n",
      "\u001b[01;37m2019-12-19 01:01:36,411 INFO     [day19.q_2:16] current_top_right = (532, 807)\u001b[0m\n",
      "\u001b[01;37m2019-12-19 01:01:36,701 INFO     [day19.q_2:16] current_top_right = (532, 808)\u001b[0m\n",
      "\u001b[01;37m2019-12-19 01:01:37,020 INFO     [day19.q_2:16] current_top_right = (533, 808)\u001b[0m\n",
      "\u001b[01;37m2019-12-19 01:01:37,282 INFO     [day19.q_2:16] current_top_right = (533, 809)\u001b[0m\n",
      "\u001b[01;37m2019-12-19 01:01:37,601 INFO     [day19.q_2:16] current_top_right = (534, 809)\u001b[0m\n",
      "\u001b[01;37m2019-12-19 01:01:37,858 INFO     [day19.q_2:16] current_top_right = (534, 810)\u001b[0m\n",
      "\u001b[01;37m2019-12-19 01:01:38,148 INFO     [day19.q_2:16] current_top_right = (534, 811)\u001b[0m\n",
      "\u001b[01;37m2019-12-19 01:01:38,437 INFO     [day19.q_2:16] current_top_right = (535, 811)\u001b[0m\n",
      "\u001b[01;37m2019-12-19 01:01:38,730 INFO     [day19.q_2:16] current_top_right = (535, 812)\u001b[0m\n",
      "\u001b[01;37m2019-12-19 01:01:39,046 INFO     [day19.q_2:16] current_top_right = (536, 812)\u001b[0m\n",
      "\u001b[01;37m2019-12-19 01:01:39,309 INFO     [day19.q_2:16] current_top_right = (536, 813)\u001b[0m\n",
      "\u001b[01;37m2019-12-19 01:01:39,597 INFO     [day19.q_2:16] current_top_right = (536, 814)\u001b[0m\n",
      "\u001b[01;37m2019-12-19 01:01:39,886 INFO     [day19.q_2:16] current_top_right = (537, 814)\u001b[0m\n",
      "\u001b[01;37m2019-12-19 01:01:40,176 INFO     [day19.q_2:16] current_top_right = (537, 815)\u001b[0m\n",
      "\u001b[01;37m2019-12-19 01:01:40,469 INFO     [day19.q_2:16] current_top_right = (538, 815)\u001b[0m\n",
      "\u001b[01;37m2019-12-19 01:01:40,759 INFO     [day19.q_2:16] current_top_right = (538, 816)\u001b[0m\n",
      "\u001b[01;37m2019-12-19 01:01:41,053 INFO     [day19.q_2:16] current_top_right = (538, 817)\u001b[0m\n",
      "\u001b[01;37m2019-12-19 01:01:41,345 INFO     [day19.q_2:16] current_top_right = (539, 817)\u001b[0m\n",
      "\u001b[01;37m2019-12-19 01:01:41,636 INFO     [day19.q_2:16] current_top_right = (539, 818)\u001b[0m\n",
      "\u001b[01;37m2019-12-19 01:01:41,927 INFO     [day19.q_2:16] current_top_right = (540, 818)\u001b[0m\n",
      "\u001b[01;37m2019-12-19 01:01:42,222 INFO     [day19.q_2:16] current_top_right = (540, 819)\u001b[0m\n",
      "\u001b[01;37m2019-12-19 01:01:42,490 INFO     [day19.q_2:16] current_top_right = (540, 820)\u001b[0m\n"
     ]
    },
    {
     "name": "stdout",
     "output_type": "stream",
     "text": [
      "\u001b[01;37m2019-12-19 01:01:42,809 INFO     [day19.q_2:16] current_top_right = (541, 820)\u001b[0m\n",
      "\u001b[01;37m2019-12-19 01:01:43,102 INFO     [day19.q_2:16] current_top_right = (541, 821)\u001b[0m\n",
      "\u001b[01;37m2019-12-19 01:01:43,396 INFO     [day19.q_2:16] current_top_right = (542, 821)\u001b[0m\n",
      "\u001b[01;37m2019-12-19 01:01:43,691 INFO     [day19.q_2:16] current_top_right = (542, 822)\u001b[0m\n",
      "\u001b[01;37m2019-12-19 01:01:43,963 INFO     [day19.q_2:16] current_top_right = (542, 823)\u001b[0m\n",
      "\u001b[01;37m2019-12-19 01:01:44,287 INFO     [day19.q_2:16] current_top_right = (543, 823)\u001b[0m\n",
      "\u001b[01;37m2019-12-19 01:01:44,557 INFO     [day19.q_2:16] current_top_right = (543, 824)\u001b[0m\n",
      "\u001b[01;37m2019-12-19 01:01:44,883 INFO     [day19.q_2:16] current_top_right = (544, 824)\u001b[0m\n",
      "\u001b[01;37m2019-12-19 01:01:45,181 INFO     [day19.q_2:16] current_top_right = (544, 825)\u001b[0m\n",
      "\u001b[01;37m2019-12-19 01:01:45,451 INFO     [day19.q_2:16] current_top_right = (544, 826)\u001b[0m\n",
      "\u001b[01;37m2019-12-19 01:01:45,772 INFO     [day19.q_2:16] current_top_right = (545, 826)\u001b[0m\n",
      "\u001b[01;37m2019-12-19 01:01:46,046 INFO     [day19.q_2:16] current_top_right = (545, 827)\u001b[0m\n",
      "\u001b[01;37m2019-12-19 01:01:46,387 INFO     [day19.q_2:16] current_top_right = (546, 827)\u001b[0m\n",
      "\u001b[01;37m2019-12-19 01:01:46,659 INFO     [day19.q_2:16] current_top_right = (546, 828)\u001b[0m\n",
      "\u001b[01;37m2019-12-19 01:01:46,957 INFO     [day19.q_2:16] current_top_right = (546, 829)\u001b[0m\n",
      "\u001b[01;37m2019-12-19 01:01:47,285 INFO     [day19.q_2:16] current_top_right = (547, 829)\u001b[0m\n",
      "\u001b[01;37m2019-12-19 01:01:47,562 INFO     [day19.q_2:16] current_top_right = (547, 830)\u001b[0m\n",
      "\u001b[01;37m2019-12-19 01:01:47,890 INFO     [day19.q_2:16] current_top_right = (548, 830)\u001b[0m\n",
      "\u001b[01;37m2019-12-19 01:01:48,162 INFO     [day19.q_2:16] current_top_right = (548, 831)\u001b[0m\n",
      "\u001b[01;37m2019-12-19 01:01:48,464 INFO     [day19.q_2:16] current_top_right = (548, 832)\u001b[0m\n",
      "\u001b[01;37m2019-12-19 01:01:48,765 INFO     [day19.q_2:16] current_top_right = (549, 832)\u001b[0m\n",
      "\u001b[01;37m2019-12-19 01:01:49,063 INFO     [day19.q_2:16] current_top_right = (549, 833)\u001b[0m\n",
      "\u001b[01;37m2019-12-19 01:01:49,366 INFO     [day19.q_2:16] current_top_right = (550, 833)\u001b[0m\n",
      "\u001b[01;37m2019-12-19 01:01:49,665 INFO     [day19.q_2:16] current_top_right = (550, 834)\u001b[0m\n",
      "\u001b[01;37m2019-12-19 01:01:49,964 INFO     [day19.q_2:16] current_top_right = (550, 835)\u001b[0m\n",
      "\u001b[01;37m2019-12-19 01:01:50,267 INFO     [day19.q_2:16] current_top_right = (551, 835)\u001b[0m\n",
      "\u001b[01;37m2019-12-19 01:01:50,572 INFO     [day19.q_2:16] current_top_right = (551, 836)\u001b[0m\n",
      "\u001b[01;37m2019-12-19 01:01:50,942 INFO     [day19.q_2:16] current_top_right = (551, 837)\u001b[0m\n",
      "\u001b[01;37m2019-12-19 01:01:51,276 INFO     [day19.q_2:16] current_top_right = (552, 837)\u001b[0m\n",
      "\u001b[01;37m2019-12-19 01:01:51,560 INFO     [day19.q_2:16] current_top_right = (552, 838)\u001b[0m\n",
      "\u001b[01;37m2019-12-19 01:01:51,889 INFO     [day19.q_2:16] current_top_right = (553, 838)\u001b[0m\n",
      "\u001b[01;37m2019-12-19 01:01:52,196 INFO     [day19.q_2:16] current_top_right = (553, 839)\u001b[0m\n",
      "\u001b[01;37m2019-12-19 01:01:52,475 INFO     [day19.q_2:16] current_top_right = (553, 840)\u001b[0m\n",
      "\u001b[01;37m2019-12-19 01:01:52,809 INFO     [day19.q_2:16] current_top_right = (554, 840)\u001b[0m\n",
      "\u001b[01;37m2019-12-19 01:01:53,089 INFO     [day19.q_2:16] current_top_right = (554, 841)\u001b[0m\n",
      "\u001b[01;37m2019-12-19 01:01:53,424 INFO     [day19.q_2:16] current_top_right = (555, 841)\u001b[0m\n",
      "\u001b[01;37m2019-12-19 01:01:53,704 INFO     [day19.q_2:16] current_top_right = (555, 842)\u001b[0m\n",
      "\u001b[01;37m2019-12-19 01:01:54,010 INFO     [day19.q_2:16] current_top_right = (555, 843)\u001b[0m\n",
      "\u001b[01;37m2019-12-19 01:01:54,345 INFO     [day19.q_2:16] current_top_right = (556, 843)\u001b[0m\n",
      "\u001b[01;37m2019-12-19 01:01:54,622 INFO     [day19.q_2:16] current_top_right = (556, 844)\u001b[0m\n",
      "\u001b[01;37m2019-12-19 01:01:54,953 INFO     [day19.q_2:16] current_top_right = (557, 844)\u001b[0m\n",
      "\u001b[01;37m2019-12-19 01:01:55,233 INFO     [day19.q_2:16] current_top_right = (557, 845)\u001b[0m\n",
      "\u001b[01;37m2019-12-19 01:01:55,543 INFO     [day19.q_2:16] current_top_right = (557, 846)\u001b[0m\n",
      "\u001b[01;37m2019-12-19 01:01:55,848 INFO     [day19.q_2:16] current_top_right = (558, 846)\u001b[0m\n",
      "\u001b[01;37m2019-12-19 01:01:56,156 INFO     [day19.q_2:16] current_top_right = (558, 847)\u001b[0m\n",
      "\u001b[01;37m2019-12-19 01:01:56,493 INFO     [day19.q_2:16] current_top_right = (559, 847)\u001b[0m\n",
      "\u001b[01;37m2019-12-19 01:01:56,780 INFO     [day19.q_2:16] current_top_right = (559, 848)\u001b[0m\n",
      "\u001b[01;37m2019-12-19 01:01:57,093 INFO     [day19.q_2:16] current_top_right = (559, 849)\u001b[0m\n",
      "\u001b[01;37m2019-12-19 01:01:57,403 INFO     [day19.q_2:16] current_top_right = (560, 849)\u001b[0m\n",
      "\u001b[01;37m2019-12-19 01:01:57,712 INFO     [day19.q_2:16] current_top_right = (560, 850)\u001b[0m\n",
      "\u001b[01;37m2019-12-19 01:01:58,023 INFO     [day19.q_2:16] current_top_right = (561, 850)\u001b[0m\n",
      "\u001b[01;37m2019-12-19 01:01:58,338 INFO     [day19.q_2:16] current_top_right = (561, 851)\u001b[0m\n",
      "\u001b[01;37m2019-12-19 01:01:58,649 INFO     [day19.q_2:16] current_top_right = (561, 852)\u001b[0m\n",
      "\u001b[01;37m2019-12-19 01:01:58,962 INFO     [day19.q_2:16] current_top_right = (562, 852)\u001b[0m\n",
      "\u001b[01;37m2019-12-19 01:01:59,285 INFO     [day19.q_2:16] current_top_right = (562, 853)\u001b[0m\n",
      "\u001b[01;37m2019-12-19 01:01:59,601 INFO     [day19.q_2:16] current_top_right = (563, 853)\u001b[0m\n",
      "\u001b[01;37m2019-12-19 01:01:59,915 INFO     [day19.q_2:16] current_top_right = (563, 854)\u001b[0m\n",
      "\u001b[01;37m2019-12-19 01:02:00,207 INFO     [day19.q_2:16] current_top_right = (563, 855)\u001b[0m\n",
      "\u001b[01;37m2019-12-19 01:02:00,563 INFO     [day19.q_2:16] current_top_right = (564, 855)\u001b[0m\n",
      "\u001b[01;37m2019-12-19 01:02:00,876 INFO     [day19.q_2:16] current_top_right = (564, 856)\u001b[0m\n",
      "\u001b[01;37m2019-12-19 01:02:01,190 INFO     [day19.q_2:16] current_top_right = (565, 856)\u001b[0m\n",
      "\u001b[01;37m2019-12-19 01:02:01,507 INFO     [day19.q_2:16] current_top_right = (565, 857)\u001b[0m\n",
      "\u001b[01;37m2019-12-19 01:02:01,793 INFO     [day19.q_2:16] current_top_right = (565, 858)\u001b[0m\n",
      "\u001b[01;37m2019-12-19 01:02:02,135 INFO     [day19.q_2:16] current_top_right = (566, 858)\u001b[0m\n",
      "\u001b[01;37m2019-12-19 01:02:02,422 INFO     [day19.q_2:16] current_top_right = (566, 859)\u001b[0m\n",
      "\u001b[01;37m2019-12-19 01:02:02,763 INFO     [day19.q_2:16] current_top_right = (567, 859)\u001b[0m\n",
      "\u001b[01;37m2019-12-19 01:02:03,084 INFO     [day19.q_2:16] current_top_right = (567, 860)\u001b[0m\n",
      "\u001b[01;37m2019-12-19 01:02:03,375 INFO     [day19.q_2:16] current_top_right = (567, 861)\u001b[0m\n",
      "\u001b[01;37m2019-12-19 01:02:03,723 INFO     [day19.q_2:16] current_top_right = (568, 861)\u001b[0m\n",
      "\u001b[01;37m2019-12-19 01:02:04,014 INFO     [day19.q_2:16] current_top_right = (568, 862)\u001b[0m\n",
      "\u001b[01;37m2019-12-19 01:02:04,366 INFO     [day19.q_2:16] current_top_right = (569, 862)\u001b[0m\n",
      "\u001b[01;37m2019-12-19 01:02:04,655 INFO     [day19.q_2:16] current_top_right = (569, 863)\u001b[0m\n",
      "\u001b[01;37m2019-12-19 01:02:04,980 INFO     [day19.q_2:16] current_top_right = (569, 864)\u001b[0m\n",
      "\u001b[01;37m2019-12-19 01:02:05,371 INFO     [day19.q_2:16] current_top_right = (570, 864)\u001b[0m\n",
      "\u001b[01;37m2019-12-19 01:02:05,760 INFO     [day19.q_2:16] current_top_right = (570, 865)\u001b[0m\n",
      "\u001b[01;37m2019-12-19 01:02:06,163 INFO     [day19.q_2:16] current_top_right = (571, 865)\u001b[0m\n",
      "\u001b[01;37m2019-12-19 01:02:06,741 INFO     [day19.q_2:16] current_top_right = (571, 866)\u001b[0m\n",
      "\u001b[01;37m2019-12-19 01:02:07,154 INFO     [day19.q_2:16] current_top_right = (571, 867)\u001b[0m\n",
      "\u001b[01;37m2019-12-19 01:02:07,819 INFO     [day19.q_2:16] current_top_right = (572, 867)\u001b[0m\n",
      "\u001b[01;37m2019-12-19 01:02:08,217 INFO     [day19.q_2:16] current_top_right = (572, 868)\u001b[0m\n",
      "\u001b[01;37m2019-12-19 01:02:08,581 INFO     [day19.q_2:16] current_top_right = (573, 868)\u001b[0m\n",
      "\u001b[01;37m2019-12-19 01:02:08,922 INFO     [day19.q_2:16] current_top_right = (573, 869)\u001b[0m\n",
      "\u001b[01;37m2019-12-19 01:02:09,264 INFO     [day19.q_2:16] current_top_right = (573, 870)\u001b[0m\n",
      "\u001b[01;37m2019-12-19 01:02:09,620 INFO     [day19.q_2:16] current_top_right = (574, 870)\u001b[0m\n",
      "\u001b[01;37m2019-12-19 01:02:09,976 INFO     [day19.q_2:16] current_top_right = (574, 871)\u001b[0m\n",
      "\u001b[01;37m2019-12-19 01:02:10,323 INFO     [day19.q_2:16] current_top_right = (575, 871)\u001b[0m\n",
      "\u001b[01;37m2019-12-19 01:02:10,649 INFO     [day19.q_2:16] current_top_right = (575, 872)\u001b[0m\n",
      "\u001b[01;37m2019-12-19 01:02:10,946 INFO     [day19.q_2:16] current_top_right = (575, 873)\u001b[0m\n",
      "\u001b[01;37m2019-12-19 01:02:11,304 INFO     [day19.q_2:16] current_top_right = (576, 873)\u001b[0m\n",
      "\u001b[01;37m2019-12-19 01:02:11,630 INFO     [day19.q_2:16] current_top_right = (576, 874)\u001b[0m\n",
      "\u001b[01;37m2019-12-19 01:02:11,928 INFO     [day19.q_2:16] current_top_right = (576, 875)\u001b[0m\n"
     ]
    },
    {
     "name": "stdout",
     "output_type": "stream",
     "text": [
      "\u001b[01;37m2019-12-19 01:02:12,282 INFO     [day19.q_2:16] current_top_right = (577, 875)\u001b[0m\n",
      "\u001b[01;37m2019-12-19 01:02:12,584 INFO     [day19.q_2:16] current_top_right = (577, 876)\u001b[0m\n",
      "\u001b[01;37m2019-12-19 01:02:12,942 INFO     [day19.q_2:16] current_top_right = (578, 876)\u001b[0m\n",
      "\u001b[01;37m2019-12-19 01:02:13,246 INFO     [day19.q_2:16] current_top_right = (578, 877)\u001b[0m\n",
      "\u001b[01;37m2019-12-19 01:02:13,576 INFO     [day19.q_2:16] current_top_right = (578, 878)\u001b[0m\n",
      "\u001b[01;37m2019-12-19 01:02:13,933 INFO     [day19.q_2:16] current_top_right = (579, 878)\u001b[0m\n",
      "\u001b[01;37m2019-12-19 01:02:14,233 INFO     [day19.q_2:16] current_top_right = (579, 879)\u001b[0m\n",
      "\u001b[01;37m2019-12-19 01:02:14,591 INFO     [day19.q_2:16] current_top_right = (580, 879)\u001b[0m\n",
      "\u001b[01;37m2019-12-19 01:02:14,893 INFO     [day19.q_2:16] current_top_right = (580, 880)\u001b[0m\n",
      "\u001b[01;37m2019-12-19 01:02:15,228 INFO     [day19.q_2:16] current_top_right = (580, 881)\u001b[0m\n",
      "\u001b[01;37m2019-12-19 01:02:15,560 INFO     [day19.q_2:16] current_top_right = (581, 881)\u001b[0m\n",
      "\u001b[01;37m2019-12-19 01:02:15,889 INFO     [day19.q_2:16] current_top_right = (581, 882)\u001b[0m\n",
      "\u001b[01;37m2019-12-19 01:02:16,248 INFO     [day19.q_2:16] current_top_right = (582, 882)\u001b[0m\n",
      "\u001b[01;37m2019-12-19 01:02:16,555 INFO     [day19.q_2:16] current_top_right = (582, 883)\u001b[0m\n",
      "\u001b[01;37m2019-12-19 01:02:16,891 INFO     [day19.q_2:16] current_top_right = (582, 884)\u001b[0m\n",
      "\u001b[01;37m2019-12-19 01:02:17,227 INFO     [day19.q_2:16] current_top_right = (583, 884)\u001b[0m\n",
      "\u001b[01;37m2019-12-19 01:02:17,587 INFO     [day19.q_2:16] current_top_right = (583, 885)\u001b[0m\n",
      "\u001b[01;37m2019-12-19 01:02:17,923 INFO     [day19.q_2:16] current_top_right = (584, 885)\u001b[0m\n",
      "\u001b[01;37m2019-12-19 01:02:18,262 INFO     [day19.q_2:16] current_top_right = (584, 886)\u001b[0m\n",
      "\u001b[01;37m2019-12-19 01:02:18,600 INFO     [day19.q_2:16] current_top_right = (584, 887)\u001b[0m\n",
      "\u001b[01;37m2019-12-19 01:02:18,933 INFO     [day19.q_2:16] current_top_right = (585, 887)\u001b[0m\n",
      "\u001b[01;37m2019-12-19 01:02:19,275 INFO     [day19.q_2:16] current_top_right = (585, 888)\u001b[0m\n",
      "\u001b[01;37m2019-12-19 01:02:19,617 INFO     [day19.q_2:16] current_top_right = (586, 888)\u001b[0m\n",
      "\u001b[01;37m2019-12-19 01:02:19,950 INFO     [day19.q_2:16] current_top_right = (586, 889)\u001b[0m\n",
      "\u001b[01;37m2019-12-19 01:02:20,259 INFO     [day19.q_2:16] current_top_right = (586, 890)\u001b[0m\n",
      "\u001b[01;37m2019-12-19 01:02:20,623 INFO     [day19.q_2:16] current_top_right = (587, 890)\u001b[0m\n",
      "\u001b[01;37m2019-12-19 01:02:20,931 INFO     [day19.q_2:16] current_top_right = (587, 891)\u001b[0m\n",
      "\u001b[01;37m2019-12-19 01:02:21,296 INFO     [day19.q_2:16] current_top_right = (588, 891)\u001b[0m\n",
      "\u001b[01;37m2019-12-19 01:02:21,632 INFO     [day19.q_2:16] current_top_right = (588, 892)\u001b[0m\n",
      "\u001b[01;37m2019-12-19 01:02:21,945 INFO     [day19.q_2:16] current_top_right = (588, 893)\u001b[0m\n",
      "\u001b[01;37m2019-12-19 01:02:22,314 INFO     [day19.q_2:16] current_top_right = (589, 893)\u001b[0m\n",
      "\u001b[01;37m2019-12-19 01:02:22,627 INFO     [day19.q_2:16] current_top_right = (589, 894)\u001b[0m\n",
      "\u001b[01;37m2019-12-19 01:02:22,993 INFO     [day19.q_2:16] current_top_right = (590, 894)\u001b[0m\n",
      "\u001b[01;37m2019-12-19 01:02:23,309 INFO     [day19.q_2:16] current_top_right = (590, 895)\u001b[0m\n",
      "\u001b[01;37m2019-12-19 01:02:23,647 INFO     [day19.q_2:16] current_top_right = (590, 896)\u001b[0m\n",
      "\u001b[01;37m2019-12-19 01:02:24,014 INFO     [day19.q_2:16] current_top_right = (591, 896)\u001b[0m\n",
      "\u001b[01;37m2019-12-19 01:02:24,329 INFO     [day19.q_2:16] current_top_right = (591, 897)\u001b[0m\n",
      "\u001b[01;37m2019-12-19 01:02:24,695 INFO     [day19.q_2:16] current_top_right = (592, 897)\u001b[0m\n",
      "\u001b[01;37m2019-12-19 01:02:25,015 INFO     [day19.q_2:16] current_top_right = (592, 898)\u001b[0m\n",
      "\u001b[01;37m2019-12-19 01:02:25,358 INFO     [day19.q_2:16] current_top_right = (592, 899)\u001b[0m\n",
      "\u001b[01;37m2019-12-19 01:02:25,701 INFO     [day19.q_2:16] current_top_right = (593, 899)\u001b[0m\n",
      "\u001b[01;37m2019-12-19 01:02:26,042 INFO     [day19.q_2:16] current_top_right = (593, 900)\u001b[0m\n",
      "\u001b[01;37m2019-12-19 01:02:26,424 INFO     [day19.q_2:16] current_top_right = (594, 900)\u001b[0m\n",
      "\u001b[01;37m2019-12-19 01:02:26,736 INFO     [day19.q_2:16] current_top_right = (594, 901)\u001b[0m\n",
      "\u001b[01;37m2019-12-19 01:02:27,080 INFO     [day19.q_2:16] current_top_right = (594, 902)\u001b[0m\n",
      "\u001b[01;37m2019-12-19 01:02:27,464 INFO     [day19.q_2:16] current_top_right = (595, 902)\u001b[0m\n",
      "\u001b[01;37m2019-12-19 01:02:27,963 INFO     [day19.q_2:16] current_top_right = (595, 903)\u001b[0m\n",
      "\u001b[01;37m2019-12-19 01:02:28,313 INFO     [day19.q_2:16] current_top_right = (596, 903)\u001b[0m\n",
      "\u001b[01;37m2019-12-19 01:02:28,663 INFO     [day19.q_2:16] current_top_right = (596, 904)\u001b[0m\n",
      "\u001b[01;37m2019-12-19 01:02:29,006 INFO     [day19.q_2:16] current_top_right = (596, 905)\u001b[0m\n",
      "\u001b[01;37m2019-12-19 01:02:29,363 INFO     [day19.q_2:16] current_top_right = (597, 905)\u001b[0m\n",
      "\u001b[01;37m2019-12-19 01:02:29,720 INFO     [day19.q_2:16] current_top_right = (597, 906)\u001b[0m\n",
      "\u001b[01;37m2019-12-19 01:02:30,069 INFO     [day19.q_2:16] current_top_right = (598, 906)\u001b[0m\n",
      "\u001b[01;37m2019-12-19 01:02:30,419 INFO     [day19.q_2:16] current_top_right = (598, 907)\u001b[0m\n",
      "\u001b[01;37m2019-12-19 01:02:30,740 INFO     [day19.q_2:16] current_top_right = (598, 908)\u001b[0m\n",
      "\u001b[01;37m2019-12-19 01:02:31,116 INFO     [day19.q_2:16] current_top_right = (599, 908)\u001b[0m\n",
      "\u001b[01;37m2019-12-19 01:02:31,466 INFO     [day19.q_2:16] current_top_right = (599, 909)\u001b[0m\n",
      "\u001b[01;37m2019-12-19 01:02:31,814 INFO     [day19.q_2:16] current_top_right = (600, 909)\u001b[0m\n",
      "\u001b[01;37m2019-12-19 01:02:32,169 INFO     [day19.q_2:16] current_top_right = (600, 910)\u001b[0m\n",
      "\u001b[01;37m2019-12-19 01:02:32,489 INFO     [day19.q_2:16] current_top_right = (600, 911)\u001b[0m\n",
      "\u001b[01;37m2019-12-19 01:02:32,867 INFO     [day19.q_2:16] current_top_right = (601, 911)\u001b[0m\n",
      "\u001b[01;37m2019-12-19 01:02:33,194 INFO     [day19.q_2:16] current_top_right = (601, 912)\u001b[0m\n",
      "\u001b[01;37m2019-12-19 01:02:33,581 INFO     [day19.q_2:16] current_top_right = (602, 912)\u001b[0m\n",
      "\u001b[01;37m2019-12-19 01:02:33,947 INFO     [day19.q_2:16] current_top_right = (602, 913)\u001b[0m\n",
      "\u001b[01;37m2019-12-19 01:02:34,279 INFO     [day19.q_2:16] current_top_right = (602, 914)\u001b[0m\n",
      "\u001b[01;37m2019-12-19 01:02:34,655 INFO     [day19.q_2:16] current_top_right = (603, 914)\u001b[0m\n",
      "\u001b[01;37m2019-12-19 01:02:34,976 INFO     [day19.q_2:16] current_top_right = (603, 915)\u001b[0m\n",
      "\u001b[01;37m2019-12-19 01:02:35,332 INFO     [day19.q_2:16] current_top_right = (603, 916)\u001b[0m\n",
      "\u001b[01;37m2019-12-19 01:02:35,682 INFO     [day19.q_2:16] current_top_right = (604, 916)\u001b[0m\n",
      "\u001b[01;37m2019-12-19 01:02:36,033 INFO     [day19.q_2:16] current_top_right = (604, 917)\u001b[0m\n",
      "\u001b[01;37m2019-12-19 01:02:36,425 INFO     [day19.q_2:16] current_top_right = (605, 917)\u001b[0m\n",
      "\u001b[01;37m2019-12-19 01:02:36,786 INFO     [day19.q_2:16] current_top_right = (605, 918)\u001b[0m\n",
      "\u001b[01;37m2019-12-19 01:02:37,168 INFO     [day19.q_2:16] current_top_right = (605, 919)\u001b[0m\n",
      "\u001b[01;37m2019-12-19 01:02:37,534 INFO     [day19.q_2:16] current_top_right = (606, 919)\u001b[0m\n",
      "\u001b[01;37m2019-12-19 01:02:37,888 INFO     [day19.q_2:16] current_top_right = (606, 920)\u001b[0m\n",
      "\u001b[01;37m2019-12-19 01:02:38,246 INFO     [day19.q_2:16] current_top_right = (607, 920)\u001b[0m\n",
      "\u001b[01;37m2019-12-19 01:02:38,606 INFO     [day19.q_2:16] current_top_right = (607, 921)\u001b[0m\n",
      "\u001b[01;37m2019-12-19 01:02:38,934 INFO     [day19.q_2:16] current_top_right = (607, 922)\u001b[0m\n",
      "\u001b[01;37m2019-12-19 01:02:39,317 INFO     [day19.q_2:16] current_top_right = (608, 922)\u001b[0m\n",
      "\u001b[01;37m2019-12-19 01:02:39,674 INFO     [day19.q_2:16] current_top_right = (608, 923)\u001b[0m\n",
      "\u001b[01;37m2019-12-19 01:02:40,032 INFO     [day19.q_2:16] current_top_right = (609, 923)\u001b[0m\n",
      "\u001b[01;37m2019-12-19 01:02:40,494 INFO     [day19.q_2:16] current_top_right = (609, 924)\u001b[0m\n",
      "\u001b[01;37m2019-12-19 01:02:40,826 INFO     [day19.q_2:16] current_top_right = (609, 925)\u001b[0m\n",
      "\u001b[01;37m2019-12-19 01:02:41,217 INFO     [day19.q_2:16] current_top_right = (610, 925)\u001b[0m\n",
      "\u001b[01;37m2019-12-19 01:02:41,553 INFO     [day19.q_2:16] current_top_right = (610, 926)\u001b[0m\n",
      "\u001b[01;37m2019-12-19 01:02:41,937 INFO     [day19.q_2:16] current_top_right = (611, 926)\u001b[0m\n",
      "\u001b[01;37m2019-12-19 01:02:42,298 INFO     [day19.q_2:16] current_top_right = (611, 927)\u001b[0m\n",
      "\u001b[01;37m2019-12-19 01:02:42,635 INFO     [day19.q_2:16] current_top_right = (611, 928)\u001b[0m\n",
      "\u001b[01;37m2019-12-19 01:02:43,037 INFO     [day19.q_2:16] current_top_right = (612, 928)\u001b[0m\n",
      "\u001b[01;37m2019-12-19 01:02:43,371 INFO     [day19.q_2:16] current_top_right = (612, 929)\u001b[0m\n",
      "\u001b[01;37m2019-12-19 01:02:43,757 INFO     [day19.q_2:16] current_top_right = (613, 929)\u001b[0m\n"
     ]
    },
    {
     "name": "stdout",
     "output_type": "stream",
     "text": [
      "\u001b[01;37m2019-12-19 01:02:44,110 INFO     [day19.q_2:16] current_top_right = (613, 930)\u001b[0m\n",
      "\u001b[01;37m2019-12-19 01:02:44,472 INFO     [day19.q_2:16] current_top_right = (613, 931)\u001b[0m\n",
      "\u001b[01;37m2019-12-19 01:02:44,869 INFO     [day19.q_2:16] current_top_right = (614, 931)\u001b[0m\n",
      "\u001b[01;37m2019-12-19 01:02:45,206 INFO     [day19.q_2:16] current_top_right = (614, 932)\u001b[0m\n",
      "\u001b[01;37m2019-12-19 01:02:45,598 INFO     [day19.q_2:16] current_top_right = (615, 932)\u001b[0m\n",
      "\u001b[01;37m2019-12-19 01:02:45,932 INFO     [day19.q_2:16] current_top_right = (615, 933)\u001b[0m\n",
      "\u001b[01;37m2019-12-19 01:02:46,294 INFO     [day19.q_2:16] current_top_right = (615, 934)\u001b[0m\n",
      "\u001b[01;37m2019-12-19 01:02:46,657 INFO     [day19.q_2:16] current_top_right = (616, 934)\u001b[0m\n",
      "\u001b[01;37m2019-12-19 01:02:47,028 INFO     [day19.q_2:16] current_top_right = (616, 935)\u001b[0m\n",
      "\u001b[01;37m2019-12-19 01:02:47,417 INFO     [day19.q_2:16] current_top_right = (617, 935)\u001b[0m\n",
      "\u001b[01;37m2019-12-19 01:02:47,755 INFO     [day19.q_2:16] current_top_right = (617, 936)\u001b[0m\n",
      "\u001b[01;37m2019-12-19 01:02:48,119 INFO     [day19.q_2:16] current_top_right = (617, 937)\u001b[0m\n",
      "\u001b[01;37m2019-12-19 01:02:48,485 INFO     [day19.q_2:16] current_top_right = (618, 937)\u001b[0m\n",
      "\u001b[01;37m2019-12-19 01:02:48,849 INFO     [day19.q_2:16] current_top_right = (618, 938)\u001b[0m\n",
      "\u001b[01;37m2019-12-19 01:02:49,217 INFO     [day19.q_2:16] current_top_right = (619, 938)\u001b[0m\n",
      "\u001b[01;37m2019-12-19 01:02:49,590 INFO     [day19.q_2:16] current_top_right = (619, 939)\u001b[0m\n",
      "\u001b[01;37m2019-12-19 01:02:49,953 INFO     [day19.q_2:16] current_top_right = (619, 940)\u001b[0m\n",
      "\u001b[01;37m2019-12-19 01:02:50,324 INFO     [day19.q_2:16] current_top_right = (620, 940)\u001b[0m\n",
      "\u001b[01;37m2019-12-19 01:02:50,690 INFO     [day19.q_2:16] current_top_right = (620, 941)\u001b[0m\n",
      "\u001b[01;37m2019-12-19 01:02:51,089 INFO     [day19.q_2:16] current_top_right = (621, 941)\u001b[0m\n",
      "\u001b[01;37m2019-12-19 01:02:51,463 INFO     [day19.q_2:16] current_top_right = (621, 942)\u001b[0m\n",
      "\u001b[01;37m2019-12-19 01:02:51,818 INFO     [day19.q_2:16] current_top_right = (621, 943)\u001b[0m\n",
      "\u001b[01;37m2019-12-19 01:02:52,221 INFO     [day19.q_2:16] current_top_right = (622, 943)\u001b[0m\n",
      "\u001b[01;37m2019-12-19 01:02:52,614 INFO     [day19.q_2:16] current_top_right = (622, 944)\u001b[0m\n",
      "\u001b[01;37m2019-12-19 01:02:52,979 INFO     [day19.q_2:16] current_top_right = (623, 944)\u001b[0m\n",
      "\u001b[01;37m2019-12-19 01:02:53,353 INFO     [day19.q_2:16] current_top_right = (623, 945)\u001b[0m\n",
      "\u001b[01;37m2019-12-19 01:02:53,694 INFO     [day19.q_2:16] current_top_right = (623, 946)\u001b[0m\n",
      "\u001b[01;37m2019-12-19 01:02:54,091 INFO     [day19.q_2:16] current_top_right = (624, 946)\u001b[0m\n",
      "\u001b[01;37m2019-12-19 01:02:54,434 INFO     [day19.q_2:16] current_top_right = (624, 947)\u001b[0m\n",
      "\u001b[01;37m2019-12-19 01:02:54,830 INFO     [day19.q_2:16] current_top_right = (625, 947)\u001b[0m\n",
      "\u001b[01;37m2019-12-19 01:02:55,175 INFO     [day19.q_2:16] current_top_right = (625, 948)\u001b[0m\n",
      "\u001b[01;37m2019-12-19 01:02:55,551 INFO     [day19.q_2:16] current_top_right = (625, 949)\u001b[0m\n",
      "\u001b[01;37m2019-12-19 01:02:55,951 INFO     [day19.q_2:16] current_top_right = (626, 949)\u001b[0m\n",
      "\u001b[01;37m2019-12-19 01:02:56,297 INFO     [day19.q_2:16] current_top_right = (626, 950)\u001b[0m\n",
      "\u001b[01;37m2019-12-19 01:02:56,698 INFO     [day19.q_2:16] current_top_right = (627, 950)\u001b[0m\n",
      "\u001b[01;37m2019-12-19 01:02:57,048 INFO     [day19.q_2:16] current_top_right = (627, 951)\u001b[0m\n",
      "\u001b[01;37m2019-12-19 01:02:57,425 INFO     [day19.q_2:16] current_top_right = (627, 952)\u001b[0m\n",
      "\u001b[01;37m2019-12-19 01:02:57,797 INFO     [day19.q_2:16] current_top_right = (628, 952)\u001b[0m\n",
      "\u001b[01;37m2019-12-19 01:02:58,172 INFO     [day19.q_2:16] current_top_right = (628, 953)\u001b[0m\n",
      "\u001b[01;37m2019-12-19 01:02:58,578 INFO     [day19.q_2:16] current_top_right = (629, 953)\u001b[0m\n",
      "\u001b[01;37m2019-12-19 01:02:58,925 INFO     [day19.q_2:16] current_top_right = (629, 954)\u001b[0m\n",
      "\u001b[01;37m2019-12-19 01:02:59,301 INFO     [day19.q_2:16] current_top_right = (629, 955)\u001b[0m\n",
      "\u001b[01;37m2019-12-19 01:02:59,675 INFO     [day19.q_2:16] current_top_right = (630, 955)\u001b[0m\n",
      "\u001b[01;37m2019-12-19 01:03:00,053 INFO     [day19.q_2:16] current_top_right = (630, 956)\u001b[0m\n",
      "\u001b[01;37m2019-12-19 01:03:00,408 INFO     [day19.q_2:16] current_top_right = (630, 957)\u001b[0m\n",
      "\u001b[01;37m2019-12-19 01:03:00,810 INFO     [day19.q_2:16] current_top_right = (631, 957)\u001b[0m\n",
      "\u001b[01;37m2019-12-19 01:03:01,188 INFO     [day19.q_2:16] current_top_right = (631, 958)\u001b[0m\n",
      "\u001b[01;37m2019-12-19 01:03:01,568 INFO     [day19.q_2:16] current_top_right = (632, 958)\u001b[0m\n",
      "\u001b[01;37m2019-12-19 01:03:01,945 INFO     [day19.q_2:16] current_top_right = (632, 959)\u001b[0m\n",
      "\u001b[01;37m2019-12-19 01:03:02,297 INFO     [day19.q_2:16] current_top_right = (632, 960)\u001b[0m\n",
      "\u001b[01;37m2019-12-19 01:03:02,702 INFO     [day19.q_2:16] current_top_right = (633, 960)\u001b[0m\n",
      "\u001b[01;37m2019-12-19 01:03:03,057 INFO     [day19.q_2:16] current_top_right = (633, 961)\u001b[0m\n",
      "\u001b[01;37m2019-12-19 01:03:03,464 INFO     [day19.q_2:16] current_top_right = (634, 961)\u001b[0m\n",
      "\u001b[01;37m2019-12-19 01:03:03,844 INFO     [day19.q_2:16] current_top_right = (634, 962)\u001b[0m\n",
      "\u001b[01;37m2019-12-19 01:03:04,202 INFO     [day19.q_2:16] current_top_right = (634, 963)\u001b[0m\n",
      "\u001b[01;37m2019-12-19 01:03:04,614 INFO     [day19.q_2:16] current_top_right = (635, 963)\u001b[0m\n",
      "\u001b[01;37m2019-12-19 01:03:04,966 INFO     [day19.q_2:16] current_top_right = (635, 964)\u001b[0m\n",
      "\u001b[01;37m2019-12-19 01:03:05,375 INFO     [day19.q_2:16] current_top_right = (636, 964)\u001b[0m\n",
      "\u001b[01;37m2019-12-19 01:03:05,728 INFO     [day19.q_2:16] current_top_right = (636, 965)\u001b[0m\n",
      "\u001b[01;37m2019-12-19 01:03:06,114 INFO     [day19.q_2:16] current_top_right = (636, 966)\u001b[0m\n",
      "\u001b[01;37m2019-12-19 01:03:06,530 INFO     [day19.q_2:16] current_top_right = (637, 966)\u001b[0m\n",
      "\u001b[01;37m2019-12-19 01:03:06,887 INFO     [day19.q_2:16] current_top_right = (637, 967)\u001b[0m\n",
      "\u001b[01;37m2019-12-19 01:03:07,301 INFO     [day19.q_2:16] current_top_right = (638, 967)\u001b[0m\n",
      "\u001b[01;37m2019-12-19 01:03:07,660 INFO     [day19.q_2:16] current_top_right = (638, 968)\u001b[0m\n",
      "\u001b[01;37m2019-12-19 01:03:08,047 INFO     [day19.q_2:16] current_top_right = (638, 969)\u001b[0m\n",
      "\u001b[01;37m2019-12-19 01:03:08,434 INFO     [day19.q_2:16] current_top_right = (639, 969)\u001b[0m\n",
      "\u001b[01;37m2019-12-19 01:03:08,827 INFO     [day19.q_2:16] current_top_right = (639, 970)\u001b[0m\n",
      "\u001b[01;37m2019-12-19 01:03:09,242 INFO     [day19.q_2:16] current_top_right = (640, 970)\u001b[0m\n",
      "\u001b[01;37m2019-12-19 01:03:09,604 INFO     [day19.q_2:16] current_top_right = (640, 971)\u001b[0m\n",
      "\u001b[01;37m2019-12-19 01:03:09,988 INFO     [day19.q_2:16] current_top_right = (640, 972)\u001b[0m\n",
      "\u001b[01;37m2019-12-19 01:03:10,386 INFO     [day19.q_2:16] current_top_right = (641, 972)\u001b[0m\n",
      "\u001b[01;37m2019-12-19 01:03:10,774 INFO     [day19.q_2:16] current_top_right = (641, 973)\u001b[0m\n",
      "\u001b[01;37m2019-12-19 01:03:11,165 INFO     [day19.q_2:16] current_top_right = (642, 973)\u001b[0m\n",
      "\u001b[01;37m2019-12-19 01:03:11,555 INFO     [day19.q_2:16] current_top_right = (642, 974)\u001b[0m\n",
      "\u001b[01;37m2019-12-19 01:03:11,917 INFO     [day19.q_2:16] current_top_right = (642, 975)\u001b[0m\n",
      "\u001b[01;37m2019-12-19 01:03:12,336 INFO     [day19.q_2:16] current_top_right = (643, 975)\u001b[0m\n",
      "\u001b[01;37m2019-12-19 01:03:12,725 INFO     [day19.q_2:16] current_top_right = (643, 976)\u001b[0m\n",
      "\u001b[01;37m2019-12-19 01:03:13,121 INFO     [day19.q_2:16] current_top_right = (644, 976)\u001b[0m\n",
      "\u001b[01;37m2019-12-19 01:03:13,516 INFO     [day19.q_2:16] current_top_right = (644, 977)\u001b[0m\n",
      "\u001b[01;37m2019-12-19 01:03:13,880 INFO     [day19.q_2:16] current_top_right = (644, 978)\u001b[0m\n",
      "\u001b[01;37m2019-12-19 01:03:14,306 INFO     [day19.q_2:16] current_top_right = (645, 978)\u001b[0m\n",
      "\u001b[01;37m2019-12-19 01:03:14,674 INFO     [day19.q_2:16] current_top_right = (645, 979)\u001b[0m\n",
      "\u001b[01;37m2019-12-19 01:03:15,093 INFO     [day19.q_2:16] current_top_right = (646, 979)\u001b[0m\n",
      "\u001b[01;37m2019-12-19 01:03:15,492 INFO     [day19.q_2:16] current_top_right = (646, 980)\u001b[0m\n",
      "\u001b[01;37m2019-12-19 01:03:15,861 INFO     [day19.q_2:16] current_top_right = (646, 981)\u001b[0m\n",
      "\u001b[01;37m2019-12-19 01:03:16,394 INFO     [day19.q_2:16] current_top_right = (647, 981)\u001b[0m\n",
      "\u001b[01;37m2019-12-19 01:03:16,759 INFO     [day19.q_2:16] current_top_right = (647, 982)\u001b[0m\n",
      "\u001b[01;37m2019-12-19 01:03:17,187 INFO     [day19.q_2:16] current_top_right = (648, 982)\u001b[0m\n",
      "\u001b[01;37m2019-12-19 01:03:17,554 INFO     [day19.q_2:16] current_top_right = (648, 983)\u001b[0m\n",
      "\u001b[01;37m2019-12-19 01:03:17,959 INFO     [day19.q_2:16] current_top_right = (648, 984)\u001b[0m\n",
      "\u001b[01;37m2019-12-19 01:03:18,385 INFO     [day19.q_2:16] current_top_right = (649, 984)\u001b[0m\n"
     ]
    },
    {
     "name": "stdout",
     "output_type": "stream",
     "text": [
      "\u001b[01;37m2019-12-19 01:03:18,762 INFO     [day19.q_2:16] current_top_right = (649, 985)\u001b[0m\n",
      "\u001b[01;37m2019-12-19 01:03:19,242 INFO     [day19.q_2:16] current_top_right = (650, 985)\u001b[0m\n",
      "\u001b[01;37m2019-12-19 01:03:19,617 INFO     [day19.q_2:16] current_top_right = (650, 986)\u001b[0m\n",
      "\u001b[01;37m2019-12-19 01:03:20,012 INFO     [day19.q_2:16] current_top_right = (650, 987)\u001b[0m\n",
      "\u001b[01;37m2019-12-19 01:03:20,413 INFO     [day19.q_2:16] current_top_right = (651, 987)\u001b[0m\n",
      "\u001b[01;37m2019-12-19 01:03:20,812 INFO     [day19.q_2:16] current_top_right = (651, 988)\u001b[0m\n",
      "\u001b[01;37m2019-12-19 01:03:21,235 INFO     [day19.q_2:16] current_top_right = (652, 988)\u001b[0m\n",
      "\u001b[01;37m2019-12-19 01:03:21,610 INFO     [day19.q_2:16] current_top_right = (652, 989)\u001b[0m\n",
      "\u001b[01;37m2019-12-19 01:03:22,014 INFO     [day19.q_2:16] current_top_right = (652, 990)\u001b[0m\n",
      "\u001b[01;37m2019-12-19 01:03:22,415 INFO     [day19.q_2:16] current_top_right = (653, 990)\u001b[0m\n",
      "\u001b[01;37m2019-12-19 01:03:22,812 INFO     [day19.q_2:16] current_top_right = (653, 991)\u001b[0m\n",
      "\u001b[01;37m2019-12-19 01:03:23,213 INFO     [day19.q_2:16] current_top_right = (654, 991)\u001b[0m\n",
      "\u001b[01;37m2019-12-19 01:03:23,615 INFO     [day19.q_2:16] current_top_right = (654, 992)\u001b[0m\n",
      "\u001b[01;37m2019-12-19 01:03:24,018 INFO     [day19.q_2:16] current_top_right = (654, 993)\u001b[0m\n",
      "\u001b[01;37m2019-12-19 01:03:24,430 INFO     [day19.q_2:16] current_top_right = (655, 993)\u001b[0m\n",
      "\u001b[01;37m2019-12-19 01:03:24,837 INFO     [day19.q_2:16] current_top_right = (655, 994)\u001b[0m\n",
      "\u001b[01;37m2019-12-19 01:03:25,215 INFO     [day19.q_2:16] current_top_right = (655, 995)\u001b[0m\n",
      "\u001b[01;37m2019-12-19 01:03:25,650 INFO     [day19.q_2:16] current_top_right = (656, 995)\u001b[0m\n",
      "\u001b[01;37m2019-12-19 01:03:26,031 INFO     [day19.q_2:16] current_top_right = (656, 996)\u001b[0m\n",
      "\u001b[01;37m2019-12-19 01:03:26,467 INFO     [day19.q_2:16] current_top_right = (657, 996)\u001b[0m\n",
      "\u001b[01;37m2019-12-19 01:03:26,872 INFO     [day19.q_2:16] current_top_right = (657, 997)\u001b[0m\n",
      "\u001b[01;37m2019-12-19 01:03:27,250 INFO     [day19.q_2:16] current_top_right = (657, 998)\u001b[0m\n",
      "\u001b[01;37m2019-12-19 01:03:27,680 INFO     [day19.q_2:16] current_top_right = (658, 998)\u001b[0m\n",
      "\u001b[01;37m2019-12-19 01:03:28,055 INFO     [day19.q_2:16] current_top_right = (658, 999)\u001b[0m\n",
      "\u001b[01;37m2019-12-19 01:03:28,486 INFO     [day19.q_2:16] current_top_right = (659, 999)\u001b[0m\n",
      "\u001b[01;37m2019-12-19 01:03:28,868 INFO     [day19.q_2:16] current_top_right = (659, 1000)\u001b[0m\n",
      "\u001b[01;37m2019-12-19 01:03:29,275 INFO     [day19.q_2:16] current_top_right = (659, 1001)\u001b[0m\n",
      "\u001b[01;37m2019-12-19 01:03:29,681 INFO     [day19.q_2:16] current_top_right = (660, 1001)\u001b[0m\n",
      "\u001b[01;37m2019-12-19 01:03:30,089 INFO     [day19.q_2:16] current_top_right = (660, 1002)\u001b[0m\n",
      "\u001b[01;37m2019-12-19 01:03:30,522 INFO     [day19.q_2:16] current_top_right = (661, 1002)\u001b[0m\n",
      "\u001b[01;37m2019-12-19 01:03:30,900 INFO     [day19.q_2:16] current_top_right = (661, 1003)\u001b[0m\n",
      "\u001b[01;37m2019-12-19 01:03:31,317 INFO     [day19.q_2:16] current_top_right = (661, 1004)\u001b[0m\n",
      "\u001b[01;37m2019-12-19 01:03:31,726 INFO     [day19.q_2:16] current_top_right = (662, 1004)\u001b[0m\n",
      "\u001b[01;37m2019-12-19 01:03:32,139 INFO     [day19.q_2:16] current_top_right = (662, 1005)\u001b[0m\n",
      "\u001b[01;37m2019-12-19 01:03:32,550 INFO     [day19.q_2:16] current_top_right = (663, 1005)\u001b[0m\n",
      "\u001b[01;37m2019-12-19 01:03:32,956 INFO     [day19.q_2:16] current_top_right = (663, 1006)\u001b[0m\n",
      "\u001b[01;37m2019-12-19 01:03:33,368 INFO     [day19.q_2:16] current_top_right = (663, 1007)\u001b[0m\n",
      "\u001b[01;37m2019-12-19 01:03:33,776 INFO     [day19.q_2:16] current_top_right = (664, 1007)\u001b[0m\n",
      "\u001b[01;37m2019-12-19 01:03:34,185 INFO     [day19.q_2:16] current_top_right = (664, 1008)\u001b[0m\n",
      "\u001b[01;37m2019-12-19 01:03:34,598 INFO     [day19.q_2:16] current_top_right = (665, 1008)\u001b[0m\n",
      "\u001b[01;37m2019-12-19 01:03:35,013 INFO     [day19.q_2:16] current_top_right = (665, 1009)\u001b[0m\n",
      "\u001b[01;37m2019-12-19 01:03:35,398 INFO     [day19.q_2:16] current_top_right = (665, 1010)\u001b[0m\n",
      "\u001b[01;37m2019-12-19 01:03:35,836 INFO     [day19.q_2:16] current_top_right = (666, 1010)\u001b[0m\n",
      "\u001b[01;37m2019-12-19 01:03:36,249 INFO     [day19.q_2:16] current_top_right = (666, 1011)\u001b[0m\n",
      "\u001b[01;37m2019-12-19 01:03:36,677 INFO     [day19.q_2:16] current_top_right = (667, 1011)\u001b[0m\n",
      "\u001b[01;37m2019-12-19 01:03:37,103 INFO     [day19.q_2:16] current_top_right = (667, 1012)\u001b[0m\n",
      "\u001b[01;37m2019-12-19 01:03:37,503 INFO     [day19.q_2:16] current_top_right = (667, 1013)\u001b[0m\n",
      "\u001b[01;37m2019-12-19 01:03:37,944 INFO     [day19.q_2:16] current_top_right = (668, 1013)\u001b[0m\n",
      "\u001b[01;37m2019-12-19 01:03:38,331 INFO     [day19.q_2:16] current_top_right = (668, 1014)\u001b[0m\n",
      "\u001b[01;37m2019-12-19 01:03:38,775 INFO     [day19.q_2:16] current_top_right = (669, 1014)\u001b[0m\n",
      "\u001b[01;37m2019-12-19 01:03:39,189 INFO     [day19.q_2:16] current_top_right = (669, 1015)\u001b[0m\n",
      "\u001b[01;37m2019-12-19 01:03:39,577 INFO     [day19.q_2:16] current_top_right = (669, 1016)\u001b[0m\n",
      "\u001b[01;37m2019-12-19 01:03:40,022 INFO     [day19.q_2:16] current_top_right = (670, 1016)\u001b[0m\n",
      "\u001b[01;37m2019-12-19 01:03:40,412 INFO     [day19.q_2:16] current_top_right = (670, 1017)\u001b[0m\n",
      "\u001b[01;37m2019-12-19 01:03:40,857 INFO     [day19.q_2:16] current_top_right = (671, 1017)\u001b[0m\n",
      "\u001b[01;37m2019-12-19 01:03:41,252 INFO     [day19.q_2:16] current_top_right = (671, 1018)\u001b[0m\n",
      "\u001b[01;37m2019-12-19 01:03:41,673 INFO     [day19.q_2:16] current_top_right = (671, 1019)\u001b[0m\n",
      "\u001b[01;37m2019-12-19 01:03:42,118 INFO     [day19.q_2:16] current_top_right = (672, 1019)\u001b[0m\n",
      "\u001b[01;37m2019-12-19 01:03:42,511 INFO     [day19.q_2:16] current_top_right = (672, 1020)\u001b[0m\n",
      "\u001b[01;37m2019-12-19 01:03:42,956 INFO     [day19.q_2:16] current_top_right = (673, 1020)\u001b[0m\n",
      "\u001b[01;37m2019-12-19 01:03:43,354 INFO     [day19.q_2:16] current_top_right = (673, 1021)\u001b[0m\n",
      "\u001b[01;37m2019-12-19 01:03:43,776 INFO     [day19.q_2:16] current_top_right = (673, 1022)\u001b[0m\n",
      "\u001b[01;37m2019-12-19 01:03:44,204 INFO     [day19.q_2:16] current_top_right = (674, 1022)\u001b[0m\n",
      "\u001b[01;37m2019-12-19 01:03:44,624 INFO     [day19.q_2:16] current_top_right = (674, 1023)\u001b[0m\n",
      "\u001b[01;37m2019-12-19 01:03:45,073 INFO     [day19.q_2:16] current_top_right = (675, 1023)\u001b[0m\n",
      "\u001b[01;37m2019-12-19 01:03:45,475 INFO     [day19.q_2:16] current_top_right = (675, 1024)\u001b[0m\n",
      "\u001b[01;37m2019-12-19 01:03:45,899 INFO     [day19.q_2:16] current_top_right = (675, 1025)\u001b[0m\n",
      "\u001b[01;37m2019-12-19 01:03:46,323 INFO     [day19.q_2:16] current_top_right = (676, 1025)\u001b[0m\n",
      "\u001b[01;37m2019-12-19 01:03:46,754 INFO     [day19.q_2:16] current_top_right = (676, 1026)\u001b[0m\n",
      "\u001b[01;37m2019-12-19 01:03:47,181 INFO     [day19.q_2:16] current_top_right = (677, 1026)\u001b[0m\n",
      "\u001b[01;37m2019-12-19 01:03:47,604 INFO     [day19.q_2:16] current_top_right = (677, 1027)\u001b[0m\n",
      "\u001b[01;37m2019-12-19 01:03:48,000 INFO     [day19.q_2:16] current_top_right = (677, 1028)\u001b[0m\n",
      "\u001b[01;37m2019-12-19 01:03:48,457 INFO     [day19.q_2:16] current_top_right = (678, 1028)\u001b[0m\n",
      "\u001b[01;37m2019-12-19 01:03:48,885 INFO     [day19.q_2:16] current_top_right = (678, 1029)\u001b[0m\n",
      "\u001b[01;37m2019-12-19 01:03:49,315 INFO     [day19.q_2:16] current_top_right = (679, 1029)\u001b[0m\n",
      "\u001b[01;37m2019-12-19 01:03:49,741 INFO     [day19.q_2:16] current_top_right = (679, 1030)\u001b[0m\n",
      "\u001b[01;37m2019-12-19 01:03:50,143 INFO     [day19.q_2:16] current_top_right = (679, 1031)\u001b[0m\n",
      "\u001b[01;37m2019-12-19 01:03:50,600 INFO     [day19.q_2:16] current_top_right = (680, 1031)\u001b[0m\n",
      "\u001b[01;37m2019-12-19 01:03:50,999 INFO     [day19.q_2:16] current_top_right = (680, 1032)\u001b[0m\n",
      "\u001b[01;37m2019-12-19 01:03:51,470 INFO     [day19.q_2:16] current_top_right = (681, 1032)\u001b[0m\n",
      "\u001b[01;37m2019-12-19 01:03:51,901 INFO     [day19.q_2:16] current_top_right = (681, 1033)\u001b[0m\n",
      "\u001b[01;37m2019-12-19 01:03:52,309 INFO     [day19.q_2:16] current_top_right = (681, 1034)\u001b[0m\n",
      "\u001b[01;37m2019-12-19 01:03:52,784 INFO     [day19.q_2:16] current_top_right = (682, 1034)\u001b[0m\n",
      "\u001b[01;37m2019-12-19 01:03:53,190 INFO     [day19.q_2:16] current_top_right = (682, 1035)\u001b[0m\n",
      "\u001b[01;37m2019-12-19 01:03:53,620 INFO     [day19.q_2:16] current_top_right = (682, 1036)\u001b[0m\n",
      "\u001b[01;37m2019-12-19 01:03:54,060 INFO     [day19.q_2:16] current_top_right = (683, 1036)\u001b[0m\n",
      "\u001b[01;37m2019-12-19 01:03:54,491 INFO     [day19.q_2:16] current_top_right = (683, 1037)\u001b[0m\n",
      "\u001b[01;37m2019-12-19 01:03:54,948 INFO     [day19.q_2:16] current_top_right = (684, 1037)\u001b[0m\n",
      "\u001b[01;37m2019-12-19 01:03:55,449 INFO     [day19.q_2:16] current_top_right = (684, 1038)\u001b[0m\n",
      "\u001b[01;37m2019-12-19 01:03:55,880 INFO     [day19.q_2:16] current_top_right = (684, 1039)\u001b[0m\n"
     ]
    },
    {
     "name": "stdout",
     "output_type": "stream",
     "text": [
      "\u001b[01;37m2019-12-19 01:03:56,320 INFO     [day19.q_2:16] current_top_right = (685, 1039)\u001b[0m\n",
      "\u001b[01;37m2019-12-19 01:03:56,750 INFO     [day19.q_2:16] current_top_right = (685, 1040)\u001b[0m\n",
      "\u001b[01;37m2019-12-19 01:03:57,188 INFO     [day19.q_2:16] current_top_right = (686, 1040)\u001b[0m\n",
      "\u001b[01;37m2019-12-19 01:03:57,623 INFO     [day19.q_2:16] current_top_right = (686, 1041)\u001b[0m\n",
      "\u001b[01;37m2019-12-19 01:03:58,057 INFO     [day19.q_2:16] current_top_right = (686, 1042)\u001b[0m\n",
      "\u001b[01;37m2019-12-19 01:03:58,494 INFO     [day19.q_2:16] current_top_right = (687, 1042)\u001b[0m\n",
      "\u001b[01;37m2019-12-19 01:03:58,928 INFO     [day19.q_2:16] current_top_right = (687, 1043)\u001b[0m\n",
      "\u001b[01;37m2019-12-19 01:03:59,369 INFO     [day19.q_2:16] current_top_right = (688, 1043)\u001b[0m\n",
      "\u001b[01;37m2019-12-19 01:03:59,804 INFO     [day19.q_2:16] current_top_right = (688, 1044)\u001b[0m\n",
      "\u001b[01;37m2019-12-19 01:04:00,215 INFO     [day19.q_2:16] current_top_right = (688, 1045)\u001b[0m\n",
      "\u001b[01;37m2019-12-19 01:04:00,679 INFO     [day19.q_2:16] current_top_right = (689, 1045)\u001b[0m\n",
      "\u001b[01;37m2019-12-19 01:04:01,118 INFO     [day19.q_2:16] current_top_right = (689, 1046)\u001b[0m\n",
      "\u001b[01;37m2019-12-19 01:04:01,570 INFO     [day19.q_2:16] current_top_right = (690, 1046)\u001b[0m\n",
      "\u001b[01;37m2019-12-19 01:04:02,006 INFO     [day19.q_2:16] current_top_right = (690, 1047)\u001b[0m\n",
      "\u001b[01;37m2019-12-19 01:04:02,420 INFO     [day19.q_2:16] current_top_right = (690, 1048)\u001b[0m\n",
      "\u001b[01;37m2019-12-19 01:04:02,884 INFO     [day19.q_2:16] current_top_right = (691, 1048)\u001b[0m\n",
      "\u001b[01;37m2019-12-19 01:04:03,303 INFO     [day19.q_2:16] current_top_right = (691, 1049)\u001b[0m\n",
      "\u001b[01;37m2019-12-19 01:04:03,771 INFO     [day19.q_2:16] current_top_right = (692, 1049)\u001b[0m\n",
      "\u001b[01;37m2019-12-19 01:04:04,221 INFO     [day19.q_2:16] current_top_right = (692, 1050)\u001b[0m\n",
      "\u001b[01;37m2019-12-19 01:04:04,637 INFO     [day19.q_2:16] current_top_right = (692, 1051)\u001b[0m\n",
      "\u001b[01;37m2019-12-19 01:04:05,117 INFO     [day19.q_2:16] current_top_right = (693, 1051)\u001b[0m\n",
      "\u001b[01;37m2019-12-19 01:04:05,547 INFO     [day19.q_2:16] current_top_right = (693, 1052)\u001b[0m\n",
      "\u001b[01;37m2019-12-19 01:04:06,016 INFO     [day19.q_2:16] current_top_right = (694, 1052)\u001b[0m\n",
      "\u001b[01;37m2019-12-19 01:04:06,442 INFO     [day19.q_2:16] current_top_right = (694, 1053)\u001b[0m\n",
      "\u001b[01;37m2019-12-19 01:04:06,884 INFO     [day19.q_2:16] current_top_right = (694, 1054)\u001b[0m\n",
      "\u001b[01;37m2019-12-19 01:04:07,371 INFO     [day19.q_2:16] current_top_right = (695, 1054)\u001b[0m\n",
      "\u001b[01;37m2019-12-19 01:04:07,789 INFO     [day19.q_2:16] current_top_right = (695, 1055)\u001b[0m\n",
      "\u001b[01;37m2019-12-19 01:04:08,263 INFO     [day19.q_2:16] current_top_right = (696, 1055)\u001b[0m\n",
      "\u001b[01;37m2019-12-19 01:04:08,680 INFO     [day19.q_2:16] current_top_right = (696, 1056)\u001b[0m\n",
      "\u001b[01;37m2019-12-19 01:04:09,140 INFO     [day19.q_2:16] current_top_right = (696, 1057)\u001b[0m\n",
      "\u001b[01;37m2019-12-19 01:04:09,585 INFO     [day19.q_2:16] current_top_right = (697, 1057)\u001b[0m\n",
      "\u001b[01;37m2019-12-19 01:04:10,036 INFO     [day19.q_2:16] current_top_right = (697, 1058)\u001b[0m\n",
      "\u001b[01;37m2019-12-19 01:04:10,485 INFO     [day19.q_2:16] current_top_right = (698, 1058)\u001b[0m\n",
      "\u001b[01;37m2019-12-19 01:04:10,936 INFO     [day19.q_2:16] current_top_right = (698, 1059)\u001b[0m\n",
      "\u001b[01;37m2019-12-19 01:04:11,390 INFO     [day19.q_2:16] current_top_right = (698, 1060)\u001b[0m\n",
      "\u001b[01;37m2019-12-19 01:04:11,842 INFO     [day19.q_2:16] current_top_right = (699, 1060)\u001b[0m\n",
      "\u001b[01;37m2019-12-19 01:04:12,296 INFO     [day19.q_2:16] current_top_right = (699, 1061)\u001b[0m\n",
      "\u001b[01;37m2019-12-19 01:04:12,750 INFO     [day19.q_2:16] current_top_right = (700, 1061)\u001b[0m\n",
      "\u001b[01;37m2019-12-19 01:04:13,201 INFO     [day19.q_2:16] current_top_right = (700, 1062)\u001b[0m\n",
      "\u001b[01;37m2019-12-19 01:04:13,631 INFO     [day19.q_2:16] current_top_right = (700, 1063)\u001b[0m\n",
      "\u001b[01;37m2019-12-19 01:04:14,117 INFO     [day19.q_2:16] current_top_right = (701, 1063)\u001b[0m\n",
      "\u001b[01;37m2019-12-19 01:04:14,578 INFO     [day19.q_2:16] current_top_right = (701, 1064)\u001b[0m\n",
      "\u001b[01;37m2019-12-19 01:04:15,030 INFO     [day19.q_2:16] current_top_right = (702, 1064)\u001b[0m\n",
      "\u001b[01;37m2019-12-19 01:04:15,486 INFO     [day19.q_2:16] current_top_right = (702, 1065)\u001b[0m\n",
      "\u001b[01;37m2019-12-19 01:04:15,909 INFO     [day19.q_2:16] current_top_right = (702, 1066)\u001b[0m\n",
      "\u001b[01;37m2019-12-19 01:04:16,393 INFO     [day19.q_2:16] current_top_right = (703, 1066)\u001b[0m\n",
      "\u001b[01;37m2019-12-19 01:04:16,824 INFO     [day19.q_2:16] current_top_right = (703, 1067)\u001b[0m\n",
      "\u001b[01;37m2019-12-19 01:04:17,307 INFO     [day19.q_2:16] current_top_right = (704, 1067)\u001b[0m\n",
      "\u001b[01;37m2019-12-19 01:04:17,781 INFO     [day19.q_2:16] current_top_right = (704, 1068)\u001b[0m\n",
      "\u001b[01;37m2019-12-19 01:04:18,212 INFO     [day19.q_2:16] current_top_right = (704, 1069)\u001b[0m\n",
      "\u001b[01;37m2019-12-19 01:04:18,699 INFO     [day19.q_2:16] current_top_right = (705, 1069)\u001b[0m\n",
      "\u001b[01;37m2019-12-19 01:04:19,131 INFO     [day19.q_2:16] current_top_right = (705, 1070)\u001b[0m\n",
      "\u001b[01;37m2019-12-19 01:04:19,626 INFO     [day19.q_2:16] current_top_right = (706, 1070)\u001b[0m\n",
      "\u001b[01;37m2019-12-19 01:04:20,064 INFO     [day19.q_2:16] current_top_right = (706, 1071)\u001b[0m\n",
      "\u001b[01;37m2019-12-19 01:04:20,532 INFO     [day19.q_2:16] current_top_right = (706, 1072)\u001b[0m\n",
      "\u001b[01;37m2019-12-19 01:04:21,021 INFO     [day19.q_2:16] current_top_right = (707, 1072)\u001b[0m\n",
      "\u001b[01;37m2019-12-19 01:04:21,459 INFO     [day19.q_2:16] current_top_right = (707, 1073)\u001b[0m\n",
      "\u001b[01;37m2019-12-19 01:04:21,920 INFO     [day19.q_2:16] current_top_right = (707, 1074)\u001b[0m\n",
      "\u001b[01;37m2019-12-19 01:04:22,383 INFO     [day19.q_2:16] current_top_right = (708, 1074)\u001b[0m\n",
      "\u001b[01;37m2019-12-19 01:04:22,848 INFO     [day19.q_2:16] current_top_right = (708, 1075)\u001b[0m\n",
      "\u001b[01;37m2019-12-19 01:04:23,315 INFO     [day19.q_2:16] current_top_right = (709, 1075)\u001b[0m\n",
      "\u001b[01;37m2019-12-19 01:04:23,778 INFO     [day19.q_2:16] current_top_right = (709, 1076)\u001b[0m\n",
      "\u001b[01;37m2019-12-19 01:04:24,239 INFO     [day19.q_2:16] current_top_right = (709, 1077)\u001b[0m\n",
      "\u001b[01;37m2019-12-19 01:04:24,708 INFO     [day19.q_2:16] current_top_right = (710, 1077)\u001b[0m\n",
      "\u001b[01;37m2019-12-19 01:04:25,172 INFO     [day19.q_2:16] current_top_right = (710, 1078)\u001b[0m\n",
      "\u001b[01;37m2019-12-19 01:04:25,633 INFO     [day19.q_2:16] current_top_right = (711, 1078)\u001b[0m\n",
      "\u001b[01;37m2019-12-19 01:04:26,099 INFO     [day19.q_2:16] current_top_right = (711, 1079)\u001b[0m\n",
      "\u001b[01;37m2019-12-19 01:04:26,540 INFO     [day19.q_2:16] current_top_right = (711, 1080)\u001b[0m\n",
      "\u001b[01;37m2019-12-19 01:04:27,036 INFO     [day19.q_2:16] current_top_right = (712, 1080)\u001b[0m\n",
      "\u001b[01;37m2019-12-19 01:04:27,503 INFO     [day19.q_2:16] current_top_right = (712, 1081)\u001b[0m\n",
      "\u001b[01;37m2019-12-19 01:04:27,968 INFO     [day19.q_2:16] current_top_right = (713, 1081)\u001b[0m\n",
      "\u001b[01;37m2019-12-19 01:04:28,435 INFO     [day19.q_2:16] current_top_right = (713, 1082)\u001b[0m\n",
      "\u001b[01;37m2019-12-19 01:04:28,876 INFO     [day19.q_2:16] current_top_right = (713, 1083)\u001b[0m\n",
      "\u001b[01;37m2019-12-19 01:04:29,379 INFO     [day19.q_2:16] current_top_right = (714, 1083)\u001b[0m\n",
      "\u001b[01;37m2019-12-19 01:04:29,823 INFO     [day19.q_2:16] current_top_right = (714, 1084)\u001b[0m\n",
      "\u001b[01;37m2019-12-19 01:04:30,321 INFO     [day19.q_2:16] current_top_right = (715, 1084)\u001b[0m\n",
      "\u001b[01;37m2019-12-19 01:04:30,763 INFO     [day19.q_2:16] current_top_right = (715, 1085)\u001b[0m\n",
      "\u001b[01;37m2019-12-19 01:04:31,231 INFO     [day19.q_2:16] current_top_right = (715, 1086)\u001b[0m\n",
      "\u001b[01;37m2019-12-19 01:04:31,730 INFO     [day19.q_2:16] current_top_right = (716, 1086)\u001b[0m\n",
      "\u001b[01;37m2019-12-19 01:04:32,176 INFO     [day19.q_2:16] current_top_right = (716, 1087)\u001b[0m\n",
      "\u001b[01;37m2019-12-19 01:04:32,672 INFO     [day19.q_2:16] current_top_right = (717, 1087)\u001b[0m\n",
      "\u001b[01;37m2019-12-19 01:04:33,115 INFO     [day19.q_2:16] current_top_right = (717, 1088)\u001b[0m\n",
      "\u001b[01;37m2019-12-19 01:04:33,586 INFO     [day19.q_2:16] current_top_right = (717, 1089)\u001b[0m\n",
      "\u001b[01;37m2019-12-19 01:04:34,056 INFO     [day19.q_2:16] current_top_right = (718, 1089)\u001b[0m\n",
      "\u001b[01;37m2019-12-19 01:04:34,529 INFO     [day19.q_2:16] current_top_right = (718, 1090)\u001b[0m\n",
      "\u001b[01;37m2019-12-19 01:04:35,028 INFO     [day19.q_2:16] current_top_right = (719, 1090)\u001b[0m\n",
      "\u001b[01;37m2019-12-19 01:04:35,476 INFO     [day19.q_2:16] current_top_right = (719, 1091)\u001b[0m\n",
      "\u001b[01;37m2019-12-19 01:04:35,948 INFO     [day19.q_2:16] current_top_right = (719, 1092)\u001b[0m\n",
      "\u001b[01;37m2019-12-19 01:04:36,426 INFO     [day19.q_2:16] current_top_right = (720, 1092)\u001b[0m\n",
      "\u001b[01;37m2019-12-19 01:04:36,902 INFO     [day19.q_2:16] current_top_right = (720, 1093)\u001b[0m\n"
     ]
    },
    {
     "name": "stdout",
     "output_type": "stream",
     "text": [
      "\u001b[01;37m2019-12-19 01:04:37,379 INFO     [day19.q_2:16] current_top_right = (721, 1093)\u001b[0m\n",
      "\u001b[01;37m2019-12-19 01:04:37,853 INFO     [day19.q_2:16] current_top_right = (721, 1094)\u001b[0m\n",
      "\u001b[01;37m2019-12-19 01:04:38,330 INFO     [day19.q_2:16] current_top_right = (721, 1095)\u001b[0m\n",
      "\u001b[01;37m2019-12-19 01:04:38,805 INFO     [day19.q_2:16] current_top_right = (722, 1095)\u001b[0m\n",
      "\u001b[01;37m2019-12-19 01:04:39,283 INFO     [day19.q_2:16] current_top_right = (722, 1096)\u001b[0m\n",
      "\u001b[01;37m2019-12-19 01:04:39,768 INFO     [day19.q_2:16] current_top_right = (723, 1096)\u001b[0m\n",
      "\u001b[01;37m2019-12-19 01:04:40,246 INFO     [day19.q_2:16] current_top_right = (723, 1097)\u001b[0m\n",
      "\u001b[01;37m2019-12-19 01:04:40,703 INFO     [day19.q_2:16] current_top_right = (723, 1098)\u001b[0m\n",
      "\u001b[01;37m2019-12-19 01:04:41,223 INFO     [day19.q_2:16] current_top_right = (724, 1098)\u001b[0m\n",
      "\u001b[01;37m2019-12-19 01:04:41,814 INFO     [day19.q_2:16] current_top_right = (724, 1099)\u001b[0m\n",
      "\u001b[01;37m2019-12-19 01:04:42,300 INFO     [day19.q_2:16] current_top_right = (725, 1099)\u001b[0m\n",
      "\u001b[01;37m2019-12-19 01:04:42,789 INFO     [day19.q_2:16] current_top_right = (725, 1100)\u001b[0m\n",
      "\u001b[01;37m2019-12-19 01:04:43,245 INFO     [day19.q_2:16] current_top_right = (725, 1101)\u001b[0m\n",
      "\u001b[01;37m2019-12-19 01:04:43,756 INFO     [day19.q_2:16] current_top_right = (726, 1101)\u001b[0m\n",
      "\u001b[01;37m2019-12-19 01:04:44,239 INFO     [day19.q_2:16] current_top_right = (726, 1102)\u001b[0m\n",
      "\u001b[01;37m2019-12-19 01:04:44,756 INFO     [day19.q_2:16] current_top_right = (727, 1102)\u001b[0m\n",
      "\u001b[01;37m2019-12-19 01:04:45,242 INFO     [day19.q_2:16] current_top_right = (727, 1103)\u001b[0m\n",
      "\u001b[01;37m2019-12-19 01:04:45,700 INFO     [day19.q_2:16] current_top_right = (727, 1104)\u001b[0m\n",
      "\u001b[01;37m2019-12-19 01:04:46,223 INFO     [day19.q_2:16] current_top_right = (728, 1104)\u001b[0m\n",
      "\u001b[01;37m2019-12-19 01:04:46,688 INFO     [day19.q_2:16] current_top_right = (728, 1105)\u001b[0m\n",
      "\u001b[01;37m2019-12-19 01:04:47,207 INFO     [day19.q_2:16] current_top_right = (729, 1105)\u001b[0m\n",
      "\u001b[01;37m2019-12-19 01:04:47,665 INFO     [day19.q_2:16] current_top_right = (729, 1106)\u001b[0m\n",
      "\u001b[01;37m2019-12-19 01:04:48,153 INFO     [day19.q_2:16] current_top_right = (729, 1107)\u001b[0m\n",
      "\u001b[01;37m2019-12-19 01:04:48,667 INFO     [day19.q_2:16] current_top_right = (730, 1107)\u001b[0m\n",
      "\u001b[01;37m2019-12-19 01:04:49,126 INFO     [day19.q_2:16] current_top_right = (730, 1108)\u001b[0m\n",
      "\u001b[01;37m2019-12-19 01:04:49,640 INFO     [day19.q_2:16] current_top_right = (731, 1108)\u001b[0m\n",
      "\u001b[01;37m2019-12-19 01:04:50,098 INFO     [day19.q_2:16] current_top_right = (731, 1109)\u001b[0m\n",
      "\u001b[01;37m2019-12-19 01:04:50,586 INFO     [day19.q_2:16] current_top_right = (731, 1110)\u001b[0m\n",
      "\u001b[01;37m2019-12-19 01:04:51,072 INFO     [day19.q_2:16] current_top_right = (732, 1110)\u001b[0m\n",
      "\u001b[01;37m2019-12-19 01:04:51,561 INFO     [day19.q_2:16] current_top_right = (732, 1111)\u001b[0m\n",
      "\u001b[01;37m2019-12-19 01:04:52,046 INFO     [day19.q_2:16] current_top_right = (733, 1111)\u001b[0m\n",
      "\u001b[01;37m2019-12-19 01:04:52,537 INFO     [day19.q_2:16] current_top_right = (733, 1112)\u001b[0m\n",
      "\u001b[01;37m2019-12-19 01:04:53,025 INFO     [day19.q_2:16] current_top_right = (733, 1113)\u001b[0m\n",
      "\u001b[01;37m2019-12-19 01:04:53,513 INFO     [day19.q_2:16] current_top_right = (734, 1113)\u001b[0m\n",
      "\u001b[01;37m2019-12-19 01:04:54,002 INFO     [day19.q_2:16] current_top_right = (734, 1114)\u001b[0m\n",
      "\u001b[01;37m2019-12-19 01:04:54,464 INFO     [day19.q_2:16] current_top_right = (734, 1115)\u001b[0m\n",
      "\u001b[01;37m2019-12-19 01:04:54,985 INFO     [day19.q_2:16] current_top_right = (735, 1115)\u001b[0m\n",
      "\u001b[01;37m2019-12-19 01:04:55,451 INFO     [day19.q_2:16] current_top_right = (735, 1116)\u001b[0m\n",
      "\u001b[01;37m2019-12-19 01:04:55,967 INFO     [day19.q_2:16] current_top_right = (736, 1116)\u001b[0m\n",
      "\u001b[01;37m2019-12-19 01:04:56,463 INFO     [day19.q_2:16] current_top_right = (736, 1117)\u001b[0m\n",
      "\u001b[01;37m2019-12-19 01:04:56,930 INFO     [day19.q_2:16] current_top_right = (736, 1118)\u001b[0m\n",
      "\u001b[01;37m2019-12-19 01:04:57,451 INFO     [day19.q_2:16] current_top_right = (737, 1118)\u001b[0m\n",
      "\u001b[01;37m2019-12-19 01:04:57,917 INFO     [day19.q_2:16] current_top_right = (737, 1119)\u001b[0m\n",
      "\u001b[01;37m2019-12-19 01:04:58,444 INFO     [day19.q_2:16] current_top_right = (738, 1119)\u001b[0m\n",
      "\u001b[01;37m2019-12-19 01:04:58,913 INFO     [day19.q_2:16] current_top_right = (738, 1120)\u001b[0m\n",
      "\u001b[01;37m2019-12-19 01:04:59,413 INFO     [day19.q_2:16] current_top_right = (738, 1121)\u001b[0m\n",
      "\u001b[01;37m2019-12-19 01:04:59,938 INFO     [day19.q_2:16] current_top_right = (739, 1121)\u001b[0m\n",
      "\u001b[01;37m2019-12-19 01:05:00,417 INFO     [day19.q_2:16] current_top_right = (739, 1122)\u001b[0m\n",
      "\u001b[01;37m2019-12-19 01:05:00,952 INFO     [day19.q_2:16] current_top_right = (740, 1122)\u001b[0m\n",
      "\u001b[01;37m2019-12-19 01:05:01,439 INFO     [day19.q_2:16] current_top_right = (740, 1123)\u001b[0m\n",
      "\u001b[01;37m2019-12-19 01:05:01,944 INFO     [day19.q_2:16] current_top_right = (740, 1124)\u001b[0m\n",
      "\u001b[01;37m2019-12-19 01:05:02,446 INFO     [day19.q_2:16] current_top_right = (741, 1124)\u001b[0m\n",
      "\u001b[01;37m2019-12-19 01:05:02,943 INFO     [day19.q_2:16] current_top_right = (741, 1125)\u001b[0m\n",
      "\u001b[01;37m2019-12-19 01:05:03,468 INFO     [day19.q_2:16] current_top_right = (742, 1125)\u001b[0m\n",
      "\u001b[01;37m2019-12-19 01:05:03,942 INFO     [day19.q_2:16] current_top_right = (742, 1126)\u001b[0m\n",
      "\u001b[01;37m2019-12-19 01:05:04,448 INFO     [day19.q_2:16] current_top_right = (742, 1127)\u001b[0m\n",
      "\u001b[01;37m2019-12-19 01:05:04,953 INFO     [day19.q_2:16] current_top_right = (743, 1127)\u001b[0m\n",
      "\u001b[01;37m2019-12-19 01:05:05,462 INFO     [day19.q_2:16] current_top_right = (743, 1128)\u001b[0m\n",
      "\u001b[01;37m2019-12-19 01:05:05,967 INFO     [day19.q_2:16] current_top_right = (744, 1128)\u001b[0m\n",
      "\u001b[01;37m2019-12-19 01:05:06,481 INFO     [day19.q_2:16] current_top_right = (744, 1129)\u001b[0m\n",
      "\u001b[01;37m2019-12-19 01:05:06,988 INFO     [day19.q_2:16] current_top_right = (744, 1130)\u001b[0m\n",
      "\u001b[01;37m2019-12-19 01:05:07,495 INFO     [day19.q_2:16] current_top_right = (745, 1130)\u001b[0m\n",
      "\u001b[01;37m2019-12-19 01:05:07,997 INFO     [day19.q_2:16] current_top_right = (745, 1131)\u001b[0m\n",
      "\u001b[01;37m2019-12-19 01:05:08,508 INFO     [day19.q_2:16] current_top_right = (746, 1131)\u001b[0m\n",
      "\u001b[01;37m2019-12-19 01:05:09,013 INFO     [day19.q_2:16] current_top_right = (746, 1132)\u001b[0m\n",
      "\u001b[01;37m2019-12-19 01:05:09,494 INFO     [day19.q_2:16] current_top_right = (746, 1133)\u001b[0m\n",
      "\u001b[01;37m2019-12-19 01:05:10,030 INFO     [day19.q_2:16] current_top_right = (747, 1133)\u001b[0m\n",
      "\u001b[01;37m2019-12-19 01:05:10,538 INFO     [day19.q_2:16] current_top_right = (747, 1134)\u001b[0m\n",
      "\u001b[01;37m2019-12-19 01:05:11,048 INFO     [day19.q_2:16] current_top_right = (748, 1134)\u001b[0m\n",
      "\u001b[01;37m2019-12-19 01:05:11,562 INFO     [day19.q_2:16] current_top_right = (748, 1135)\u001b[0m\n",
      "\u001b[01;37m2019-12-19 01:05:12,051 INFO     [day19.q_2:16] current_top_right = (748, 1136)\u001b[0m\n",
      "\u001b[01;37m2019-12-19 01:05:12,587 INFO     [day19.q_2:16] current_top_right = (749, 1136)\u001b[0m\n",
      "\u001b[01;37m2019-12-19 01:05:13,066 INFO     [day19.q_2:16] current_top_right = (749, 1137)\u001b[0m\n",
      "\u001b[01;37m2019-12-19 01:05:13,605 INFO     [day19.q_2:16] current_top_right = (750, 1137)\u001b[0m\n",
      "\u001b[01;37m2019-12-19 01:05:14,121 INFO     [day19.q_2:16] current_top_right = (750, 1138)\u001b[0m\n",
      "\u001b[01;37m2019-12-19 01:05:14,603 INFO     [day19.q_2:16] current_top_right = (750, 1139)\u001b[0m\n",
      "\u001b[01;37m2019-12-19 01:05:15,137 INFO     [day19.q_2:16] current_top_right = (751, 1139)\u001b[0m\n",
      "\u001b[01;37m2019-12-19 01:05:15,620 INFO     [day19.q_2:16] current_top_right = (751, 1140)\u001b[0m\n",
      "\u001b[01;37m2019-12-19 01:05:16,160 INFO     [day19.q_2:16] current_top_right = (752, 1140)\u001b[0m\n",
      "\u001b[01;37m2019-12-19 01:05:16,648 INFO     [day19.q_2:16] current_top_right = (752, 1141)\u001b[0m\n",
      "\u001b[01;37m2019-12-19 01:05:17,167 INFO     [day19.q_2:16] current_top_right = (752, 1142)\u001b[0m\n",
      "\u001b[01;37m2019-12-19 01:05:17,695 INFO     [day19.q_2:16] current_top_right = (753, 1142)\u001b[0m\n",
      "\u001b[01;37m2019-12-19 01:05:18,209 INFO     [day19.q_2:16] current_top_right = (753, 1143)\u001b[0m\n",
      "\u001b[01;37m2019-12-19 01:05:18,754 INFO     [day19.q_2:16] current_top_right = (754, 1143)\u001b[0m\n",
      "\u001b[01;37m2019-12-19 01:05:19,250 INFO     [day19.q_2:16] current_top_right = (754, 1144)\u001b[0m\n",
      "\u001b[01;37m2019-12-19 01:05:19,770 INFO     [day19.q_2:16] current_top_right = (754, 1145)\u001b[0m\n",
      "\u001b[01;37m2019-12-19 01:05:20,288 INFO     [day19.q_2:16] current_top_right = (755, 1145)\u001b[0m\n",
      "\u001b[01;37m2019-12-19 01:05:20,806 INFO     [day19.q_2:16] current_top_right = (755, 1146)\u001b[0m\n",
      "\u001b[01;37m2019-12-19 01:05:21,327 INFO     [day19.q_2:16] current_top_right = (756, 1146)\u001b[0m\n",
      "\u001b[01;37m2019-12-19 01:05:21,849 INFO     [day19.q_2:16] current_top_right = (756, 1147)\u001b[0m\n"
     ]
    },
    {
     "name": "stdout",
     "output_type": "stream",
     "text": [
      "\u001b[01;37m2019-12-19 01:05:22,369 INFO     [day19.q_2:16] current_top_right = (756, 1148)\u001b[0m\n",
      "\u001b[01;37m2019-12-19 01:05:22,885 INFO     [day19.q_2:16] current_top_right = (757, 1148)\u001b[0m\n",
      "\u001b[01;37m2019-12-19 01:05:23,404 INFO     [day19.q_2:16] current_top_right = (757, 1149)\u001b[0m\n",
      "\u001b[01;37m2019-12-19 01:05:23,929 INFO     [day19.q_2:16] current_top_right = (758, 1149)\u001b[0m\n",
      "\u001b[01;37m2019-12-19 01:05:24,452 INFO     [day19.q_2:16] current_top_right = (758, 1150)\u001b[0m\n",
      "\u001b[01;37m2019-12-19 01:05:24,946 INFO     [day19.q_2:16] current_top_right = (758, 1151)\u001b[0m\n",
      "\u001b[01;37m2019-12-19 01:05:25,497 INFO     [day19.q_2:16] current_top_right = (759, 1151)\u001b[0m\n",
      "\u001b[01;37m2019-12-19 01:05:26,017 INFO     [day19.q_2:16] current_top_right = (759, 1152)\u001b[0m\n",
      "\u001b[01;37m2019-12-19 01:05:26,541 INFO     [day19.q_2:16] current_top_right = (760, 1152)\u001b[0m\n",
      "\u001b[01;37m2019-12-19 01:05:27,064 INFO     [day19.q_2:16] current_top_right = (760, 1153)\u001b[0m\n",
      "\u001b[01;37m2019-12-19 01:05:27,558 INFO     [day19.q_2:16] current_top_right = (760, 1154)\u001b[0m\n",
      "\u001b[01;37m2019-12-19 01:05:28,107 INFO     [day19.q_2:16] current_top_right = (761, 1154)\u001b[0m\n",
      "\u001b[01;37m2019-12-19 01:05:28,601 INFO     [day19.q_2:16] current_top_right = (761, 1155)\u001b[0m\n",
      "\u001b[01;37m2019-12-19 01:05:29,131 INFO     [day19.q_2:16] current_top_right = (761, 1156)\u001b[0m\n",
      "\u001b[01;37m2019-12-19 01:05:29,689 INFO     [day19.q_2:16] current_top_right = (762, 1156)\u001b[0m\n",
      "\u001b[01;37m2019-12-19 01:05:30,188 INFO     [day19.q_2:16] current_top_right = (762, 1157)\u001b[0m\n",
      "\u001b[01;37m2019-12-19 01:05:30,739 INFO     [day19.q_2:16] current_top_right = (763, 1157)\u001b[0m\n",
      "\u001b[01;37m2019-12-19 01:05:31,240 INFO     [day19.q_2:16] current_top_right = (763, 1158)\u001b[0m\n",
      "\u001b[01;37m2019-12-19 01:05:31,770 INFO     [day19.q_2:16] current_top_right = (763, 1159)\u001b[0m\n",
      "\u001b[01;37m2019-12-19 01:05:32,306 INFO     [day19.q_2:16] current_top_right = (764, 1159)\u001b[0m\n",
      "\u001b[01;37m2019-12-19 01:05:32,831 INFO     [day19.q_2:16] current_top_right = (764, 1160)\u001b[0m\n",
      "\u001b[01;37m2019-12-19 01:05:33,394 INFO     [day19.q_2:16] current_top_right = (765, 1160)\u001b[0m\n",
      "\u001b[01;37m2019-12-19 01:05:33,894 INFO     [day19.q_2:16] current_top_right = (765, 1161)\u001b[0m\n",
      "\u001b[01;37m2019-12-19 01:05:34,423 INFO     [day19.q_2:16] current_top_right = (765, 1162)\u001b[0m\n",
      "\u001b[01;37m2019-12-19 01:05:34,953 INFO     [day19.q_2:16] current_top_right = (766, 1162)\u001b[0m\n",
      "\u001b[01;37m2019-12-19 01:05:35,483 INFO     [day19.q_2:16] current_top_right = (766, 1163)\u001b[0m\n",
      "\u001b[01;37m2019-12-19 01:05:36,016 INFO     [day19.q_2:16] current_top_right = (767, 1163)\u001b[0m\n",
      "\u001b[01;37m2019-12-19 01:05:36,548 INFO     [day19.q_2:16] current_top_right = (767, 1164)\u001b[0m\n",
      "\u001b[01;37m2019-12-19 01:05:37,184 INFO     [day19.q_2:16] current_top_right = (767, 1165)\u001b[0m\n",
      "\u001b[01;37m2019-12-19 01:05:37,721 INFO     [day19.q_2:16] current_top_right = (768, 1165)\u001b[0m\n",
      "\u001b[01;37m2019-12-19 01:05:38,254 INFO     [day19.q_2:16] current_top_right = (768, 1166)\u001b[0m\n",
      "\u001b[01;37m2019-12-19 01:05:38,796 INFO     [day19.q_2:16] current_top_right = (769, 1166)\u001b[0m\n",
      "\u001b[01;37m2019-12-19 01:05:39,327 INFO     [day19.q_2:16] current_top_right = (769, 1167)\u001b[0m\n",
      "\u001b[01;37m2019-12-19 01:05:39,832 INFO     [day19.q_2:16] current_top_right = (769, 1168)\u001b[0m\n",
      "\u001b[01;37m2019-12-19 01:05:40,394 INFO     [day19.q_2:16] current_top_right = (770, 1168)\u001b[0m\n",
      "\u001b[01;37m2019-12-19 01:05:40,900 INFO     [day19.q_2:16] current_top_right = (770, 1169)\u001b[0m\n",
      "\u001b[01;37m2019-12-19 01:05:41,464 INFO     [day19.q_2:16] current_top_right = (771, 1169)\u001b[0m\n",
      "\u001b[01;37m2019-12-19 01:05:42,015 INFO     [day19.q_2:16] current_top_right = (771, 1170)\u001b[0m\n",
      "\u001b[01;37m2019-12-19 01:05:42,557 INFO     [day19.q_2:16] current_top_right = (771, 1171)\u001b[0m\n",
      "\u001b[01;37m2019-12-19 01:05:43,312 INFO     [day19.q_2:16] current_top_right = (772, 1171)\u001b[0m\n",
      "\u001b[01;37m2019-12-19 01:05:44,013 INFO     [day19.q_2:16] current_top_right = (772, 1172)\u001b[0m\n",
      "\u001b[01;37m2019-12-19 01:05:44,834 INFO     [day19.q_2:16] current_top_right = (773, 1172)\u001b[0m\n",
      "\u001b[01;37m2019-12-19 01:05:45,555 INFO     [day19.q_2:16] current_top_right = (773, 1173)\u001b[0m\n",
      "\u001b[01;37m2019-12-19 01:05:46,261 INFO     [day19.q_2:16] current_top_right = (773, 1174)\u001b[0m\n",
      "\u001b[01;37m2019-12-19 01:05:46,864 INFO     [day19.q_2:16] current_top_right = (774, 1174)\u001b[0m\n",
      "\u001b[01;37m2019-12-19 01:05:47,394 INFO     [day19.q_2:16] current_top_right = (774, 1175)\u001b[0m\n",
      "\u001b[01;37m2019-12-19 01:05:48,137 INFO     [day19.q_2:16] current_top_right = (775, 1175)\u001b[0m\n",
      "\u001b[01;37m2019-12-19 01:05:48,662 INFO     [day19.q_2:16] current_top_right = (775, 1176)\u001b[0m\n",
      "\u001b[01;37m2019-12-19 01:05:49,253 INFO     [day19.q_2:16] current_top_right = (775, 1177)\u001b[0m\n",
      "\u001b[01;37m2019-12-19 01:05:49,833 INFO     [day19.q_2:16] current_top_right = (776, 1177)\u001b[0m\n",
      "\u001b[01;37m2019-12-19 01:05:50,391 INFO     [day19.q_2:16] current_top_right = (776, 1178)\u001b[0m\n",
      "\u001b[01;37m2019-12-19 01:05:50,959 INFO     [day19.q_2:16] current_top_right = (777, 1178)\u001b[0m\n",
      "\u001b[01;37m2019-12-19 01:05:51,481 INFO     [day19.q_2:16] current_top_right = (777, 1179)\u001b[0m\n",
      "\u001b[01;37m2019-12-19 01:05:52,023 INFO     [day19.q_2:16] current_top_right = (777, 1180)\u001b[0m\n",
      "\u001b[01;37m2019-12-19 01:05:52,571 INFO     [day19.q_2:16] current_top_right = (778, 1180)\u001b[0m\n",
      "\u001b[01;37m2019-12-19 01:05:53,134 INFO     [day19.q_2:16] current_top_right = (778, 1181)\u001b[0m\n",
      "\u001b[01;37m2019-12-19 01:05:53,756 INFO     [day19.q_2:16] current_top_right = (779, 1181)\u001b[0m\n",
      "\u001b[01;37m2019-12-19 01:05:54,474 INFO     [day19.q_2:16] current_top_right = (779, 1182)\u001b[0m\n",
      "\u001b[01;37m2019-12-19 01:05:55,252 INFO     [day19.q_2:16] current_top_right = (779, 1183)\u001b[0m\n",
      "\u001b[01;37m2019-12-19 01:05:55,992 INFO     [day19.q_2:16] current_top_right = (780, 1183)\u001b[0m\n",
      "\u001b[01;37m2019-12-19 01:05:56,698 INFO     [day19.q_2:16] current_top_right = (780, 1184)\u001b[0m\n",
      "\u001b[01;37m2019-12-19 01:05:57,294 INFO     [day19.q_2:16] current_top_right = (781, 1184)\u001b[0m\n",
      "\u001b[01;37m2019-12-19 01:05:57,899 INFO     [day19.q_2:16] current_top_right = (781, 1185)\u001b[0m\n",
      "\u001b[01;37m2019-12-19 01:05:58,533 INFO     [day19.q_2:16] current_top_right = (781, 1186)\u001b[0m\n",
      "\u001b[01;37m2019-12-19 01:05:59,354 INFO     [day19.q_2:16] current_top_right = (782, 1186)\u001b[0m\n",
      "\u001b[01;37m2019-12-19 01:06:00,038 INFO     [day19.q_2:16] current_top_right = (782, 1187)\u001b[0m\n",
      "\u001b[01;37m2019-12-19 01:06:00,729 INFO     [day19.q_2:16] current_top_right = (783, 1187)\u001b[0m\n",
      "\u001b[01;37m2019-12-19 01:06:01,332 INFO     [day19.q_2:16] current_top_right = (783, 1188)\u001b[0m\n",
      "\u001b[01;37m2019-12-19 01:06:01,959 INFO     [day19.q_2:16] current_top_right = (783, 1189)\u001b[0m\n",
      "\u001b[01;37m2019-12-19 01:06:02,575 INFO     [day19.q_2:16] current_top_right = (784, 1189)\u001b[0m\n",
      "\u001b[01;37m2019-12-19 01:06:03,153 INFO     [day19.q_2:16] current_top_right = (784, 1190)\u001b[0m\n",
      "\u001b[01;37m2019-12-19 01:06:03,773 INFO     [day19.q_2:16] current_top_right = (785, 1190)\u001b[0m\n",
      "\u001b[01;37m2019-12-19 01:06:04,467 INFO     [day19.q_2:16] current_top_right = (785, 1191)\u001b[0m\n",
      "\u001b[01;37m2019-12-19 01:06:05,180 INFO     [day19.q_2:16] current_top_right = (785, 1192)\u001b[0m\n",
      "\u001b[01;37m2019-12-19 01:06:06,164 INFO     [day19.q_2:16] current_top_right = (786, 1192)\u001b[0m\n",
      "\u001b[01;37m2019-12-19 01:06:06,866 INFO     [day19.q_2:16] current_top_right = (786, 1193)\u001b[0m\n",
      "\u001b[01;37m2019-12-19 01:06:07,549 INFO     [day19.q_2:16] current_top_right = (786, 1194)\u001b[0m\n",
      "\u001b[01;37m2019-12-19 01:06:08,110 INFO     [day19.q_2:16] current_top_right = (787, 1194)\u001b[0m\n",
      "\u001b[01;37m2019-12-19 01:06:08,690 INFO     [day19.q_2:16] current_top_right = (787, 1195)\u001b[0m\n",
      "\u001b[01;37m2019-12-19 01:06:09,414 INFO     [day19.q_2:16] current_top_right = (788, 1195)\u001b[0m\n",
      "\u001b[01;37m2019-12-19 01:06:10,174 INFO     [day19.q_2:16] current_top_right = (788, 1196)\u001b[0m\n",
      "\u001b[01;37m2019-12-19 01:06:10,975 INFO     [day19.q_2:16] current_top_right = (788, 1197)\u001b[0m\n",
      "\u001b[01;37m2019-12-19 01:06:11,563 INFO     [day19.q_2:16] current_top_right = (789, 1197)\u001b[0m\n",
      "\u001b[01;37m2019-12-19 01:06:12,189 INFO     [day19.q_2:16] current_top_right = (789, 1198)\u001b[0m\n",
      "\u001b[01;37m2019-12-19 01:06:12,903 INFO     [day19.q_2:16] current_top_right = (790, 1198)\u001b[0m\n",
      "\u001b[01;37m2019-12-19 01:06:13,487 INFO     [day19.q_2:16] current_top_right = (790, 1199)\u001b[0m\n",
      "\u001b[01;37m2019-12-19 01:06:14,082 INFO     [day19.q_2:16] current_top_right = (790, 1200)\u001b[0m\n",
      "\u001b[01;37m2019-12-19 01:06:14,692 INFO     [day19.q_2:16] current_top_right = (791, 1200)\u001b[0m\n",
      "\u001b[01;37m2019-12-19 01:06:15,284 INFO     [day19.q_2:16] current_top_right = (791, 1201)\u001b[0m\n",
      "\u001b[01;37m2019-12-19 01:06:15,890 INFO     [day19.q_2:16] current_top_right = (792, 1201)\u001b[0m\n"
     ]
    },
    {
     "name": "stdout",
     "output_type": "stream",
     "text": [
      "\u001b[01;37m2019-12-19 01:06:16,494 INFO     [day19.q_2:16] current_top_right = (792, 1202)\u001b[0m\n",
      "\u001b[01;37m2019-12-19 01:06:17,082 INFO     [day19.q_2:16] current_top_right = (792, 1203)\u001b[0m\n",
      "\u001b[01;37m2019-12-19 01:06:17,727 INFO     [day19.q_2:16] current_top_right = (793, 1203)\u001b[0m\n",
      "\u001b[01;37m2019-12-19 01:06:18,306 INFO     [day19.q_2:16] current_top_right = (793, 1204)\u001b[0m\n",
      "\u001b[01;37m2019-12-19 01:06:18,941 INFO     [day19.q_2:16] current_top_right = (794, 1204)\u001b[0m\n",
      "\u001b[01;37m2019-12-19 01:06:19,562 INFO     [day19.q_2:16] current_top_right = (794, 1205)\u001b[0m\n",
      "\u001b[01;37m2019-12-19 01:06:20,153 INFO     [day19.q_2:16] current_top_right = (794, 1206)\u001b[0m\n",
      "\u001b[01;37m2019-12-19 01:06:20,970 INFO     [day19.q_2:16] current_top_right = (795, 1206)\u001b[0m\n",
      "\u001b[01;37m2019-12-19 01:06:21,551 INFO     [day19.q_2:16] current_top_right = (795, 1207)\u001b[0m\n",
      "\u001b[01;37m2019-12-19 01:06:22,161 INFO     [day19.q_2:16] current_top_right = (796, 1207)\u001b[0m\n",
      "\u001b[01;37m2019-12-19 01:06:22,699 INFO     [day19.q_2:16] current_top_right = (796, 1208)\u001b[0m\n",
      "\u001b[01;37m2019-12-19 01:06:23,267 INFO     [day19.q_2:16] current_top_right = (796, 1209)\u001b[0m\n",
      "\u001b[01;37m2019-12-19 01:06:23,924 INFO     [day19.q_2:16] current_top_right = (797, 1209)\u001b[0m\n",
      "\u001b[01;37m2019-12-19 01:06:24,469 INFO     [day19.q_2:16] current_top_right = (797, 1210)\u001b[0m\n",
      "\u001b[01;37m2019-12-19 01:06:25,070 INFO     [day19.q_2:16] current_top_right = (798, 1210)\u001b[0m\n",
      "\u001b[01;37m2019-12-19 01:06:25,617 INFO     [day19.q_2:16] current_top_right = (798, 1211)\u001b[0m\n",
      "\u001b[01;37m2019-12-19 01:06:26,197 INFO     [day19.q_2:16] current_top_right = (798, 1212)\u001b[0m\n",
      "\u001b[01;37m2019-12-19 01:06:26,770 INFO     [day19.q_2:16] current_top_right = (799, 1212)\u001b[0m\n",
      "\u001b[01;37m2019-12-19 01:06:27,343 INFO     [day19.q_2:16] current_top_right = (799, 1213)\u001b[0m\n",
      "\u001b[01;37m2019-12-19 01:06:27,941 INFO     [day19.q_2:16] current_top_right = (800, 1213)\u001b[0m\n",
      "\u001b[01;37m2019-12-19 01:06:28,485 INFO     [day19.q_2:16] current_top_right = (800, 1214)\u001b[0m\n",
      "\u001b[01;37m2019-12-19 01:06:29,059 INFO     [day19.q_2:16] current_top_right = (800, 1215)\u001b[0m\n",
      "\u001b[01;37m2019-12-19 01:06:29,633 INFO     [day19.q_2:16] current_top_right = (801, 1215)\u001b[0m\n",
      "\u001b[01;37m2019-12-19 01:06:30,206 INFO     [day19.q_2:16] current_top_right = (801, 1216)\u001b[0m\n",
      "\u001b[01;37m2019-12-19 01:06:30,786 INFO     [day19.q_2:16] current_top_right = (802, 1216)\u001b[0m\n",
      "\u001b[01;37m2019-12-19 01:06:31,371 INFO     [day19.q_2:16] current_top_right = (802, 1217)\u001b[0m\n",
      "\u001b[01;37m2019-12-19 01:06:31,959 INFO     [day19.q_2:16] current_top_right = (802, 1218)\u001b[0m\n",
      "\u001b[01;37m2019-12-19 01:06:32,534 INFO     [day19.q_2:16] current_top_right = (803, 1218)\u001b[0m\n",
      "\u001b[01;37m2019-12-19 01:06:33,113 INFO     [day19.q_2:16] current_top_right = (803, 1219)\u001b[0m\n",
      "\u001b[01;37m2019-12-19 01:06:33,694 INFO     [day19.q_2:16] current_top_right = (804, 1219)\u001b[0m\n",
      "\u001b[01;37m2019-12-19 01:06:34,269 INFO     [day19.q_2:16] current_top_right = (804, 1220)\u001b[0m\n",
      "\u001b[01;37m2019-12-19 01:06:34,822 INFO     [day19.q_2:16] current_top_right = (804, 1221)\u001b[0m\n",
      "\u001b[01;37m2019-12-19 01:06:35,435 INFO     [day19.q_2:16] current_top_right = (805, 1221)\u001b[0m\n",
      "\u001b[01;37m2019-12-19 01:06:35,989 INFO     [day19.q_2:16] current_top_right = (805, 1222)\u001b[0m\n",
      "\u001b[01;37m2019-12-19 01:06:36,600 INFO     [day19.q_2:16] current_top_right = (806, 1222)\u001b[0m\n",
      "\u001b[01;37m2019-12-19 01:06:37,187 INFO     [day19.q_2:16] current_top_right = (806, 1223)\u001b[0m\n",
      "\u001b[01;37m2019-12-19 01:06:37,740 INFO     [day19.q_2:16] current_top_right = (806, 1224)\u001b[0m\n",
      "\u001b[01;37m2019-12-19 01:06:38,354 INFO     [day19.q_2:16] current_top_right = (807, 1224)\u001b[0m\n",
      "\u001b[01;37m2019-12-19 01:06:38,917 INFO     [day19.q_2:16] current_top_right = (807, 1225)\u001b[0m\n",
      "\u001b[01;37m2019-12-19 01:06:39,528 INFO     [day19.q_2:16] current_top_right = (808, 1225)\u001b[0m\n",
      "\u001b[01;37m2019-12-19 01:06:40,084 INFO     [day19.q_2:16] current_top_right = (808, 1226)\u001b[0m\n",
      "\u001b[01;37m2019-12-19 01:06:40,670 INFO     [day19.q_2:16] current_top_right = (808, 1227)\u001b[0m\n",
      "\u001b[01;37m2019-12-19 01:06:41,283 INFO     [day19.q_2:16] current_top_right = (809, 1227)\u001b[0m\n",
      "\u001b[01;37m2019-12-19 01:06:41,861 INFO     [day19.q_2:16] current_top_right = (809, 1228)\u001b[0m\n",
      "\u001b[01;37m2019-12-19 01:06:42,616 INFO     [day19.q_2:16] current_top_right = (810, 1228)\u001b[0m\n",
      "\u001b[01;37m2019-12-19 01:06:43,279 INFO     [day19.q_2:16] current_top_right = (810, 1229)\u001b[0m\n",
      "\u001b[01;37m2019-12-19 01:06:43,916 INFO     [day19.q_2:16] current_top_right = (810, 1230)\u001b[0m\n",
      "\u001b[01;37m2019-12-19 01:06:44,595 INFO     [day19.q_2:16] current_top_right = (811, 1230)\u001b[0m\n",
      "\u001b[01;37m2019-12-19 01:06:45,225 INFO     [day19.q_2:16] current_top_right = (811, 1231)\u001b[0m\n",
      "\u001b[01;37m2019-12-19 01:06:45,905 INFO     [day19.q_2:16] current_top_right = (812, 1231)\u001b[0m\n",
      "\u001b[01;37m2019-12-19 01:06:46,681 INFO     [day19.q_2:16] current_top_right = (812, 1232)\u001b[0m\n",
      "\u001b[01;37m2019-12-19 01:06:47,594 INFO     [day19.q_2:16] current_top_right = (812, 1233)\u001b[0m\n",
      "\u001b[01;37m2019-12-19 01:06:48,501 INFO     [day19.q_2:16] current_top_right = (813, 1233)\u001b[0m\n",
      "\u001b[01;37m2019-12-19 01:06:49,448 INFO     [day19.q_2:16] current_top_right = (813, 1234)\u001b[0m\n",
      "\u001b[01;37m2019-12-19 01:06:50,340 INFO     [day19.q_2:16] current_top_right = (813, 1235)\u001b[0m\n",
      "\u001b[01;37m2019-12-19 01:06:51,185 INFO     [day19.q_2:16] current_top_right = (814, 1235)\u001b[0m\n",
      "\u001b[01;37m2019-12-19 01:06:52,024 INFO     [day19.q_2:16] current_top_right = (814, 1236)\u001b[0m\n",
      "\u001b[01;37m2019-12-19 01:06:52,773 INFO     [day19.q_2:16] current_top_right = (815, 1236)\u001b[0m\n",
      "\u001b[01;37m2019-12-19 01:06:53,391 INFO     [day19.q_2:16] current_top_right = (815, 1237)\u001b[0m\n",
      "\u001b[01;37m2019-12-19 01:06:53,978 INFO     [day19.q_2:16] current_top_right = (815, 1238)\u001b[0m\n",
      "\u001b[01;37m2019-12-19 01:06:54,619 INFO     [day19.q_2:16] current_top_right = (816, 1238)\u001b[0m\n",
      "\u001b[01;37m2019-12-19 01:06:55,203 INFO     [day19.q_2:16] current_top_right = (816, 1239)\u001b[0m\n",
      "\u001b[01;37m2019-12-19 01:06:55,831 INFO     [day19.q_2:16] current_top_right = (817, 1239)\u001b[0m\n",
      "\u001b[01;37m2019-12-19 01:06:56,435 INFO     [day19.q_2:16] current_top_right = (817, 1240)\u001b[0m\n",
      "\u001b[01;37m2019-12-19 01:06:57,017 INFO     [day19.q_2:16] current_top_right = (817, 1241)\u001b[0m\n",
      "\u001b[01;37m2019-12-19 01:06:57,658 INFO     [day19.q_2:16] current_top_right = (818, 1241)\u001b[0m\n",
      "\u001b[01;37m2019-12-19 01:06:58,250 INFO     [day19.q_2:16] current_top_right = (818, 1242)\u001b[0m\n",
      "\u001b[01;37m2019-12-19 01:06:58,900 INFO     [day19.q_2:16] current_top_right = (819, 1242)\u001b[0m\n",
      "\u001b[01;37m2019-12-19 01:06:59,485 INFO     [day19.q_2:16] current_top_right = (819, 1243)\u001b[0m\n",
      "\u001b[01;37m2019-12-19 01:07:00,103 INFO     [day19.q_2:16] current_top_right = (819, 1244)\u001b[0m\n",
      "\u001b[01;37m2019-12-19 01:07:00,747 INFO     [day19.q_2:16] current_top_right = (820, 1244)\u001b[0m\n",
      "\u001b[01;37m2019-12-19 01:07:01,345 INFO     [day19.q_2:16] current_top_right = (820, 1245)\u001b[0m\n",
      "\u001b[01;37m2019-12-19 01:07:01,981 INFO     [day19.q_2:16] current_top_right = (821, 1245)\u001b[0m\n",
      "\u001b[01;37m2019-12-19 01:07:02,567 INFO     [day19.q_2:16] current_top_right = (821, 1246)\u001b[0m\n",
      "\u001b[01;37m2019-12-19 01:07:03,199 INFO     [day19.q_2:16] current_top_right = (821, 1247)\u001b[0m\n",
      "\u001b[01;37m2019-12-19 01:07:03,977 INFO     [day19.q_2:16] current_top_right = (822, 1247)\u001b[0m\n",
      "\u001b[01;37m2019-12-19 01:07:04,628 INFO     [day19.q_2:16] current_top_right = (822, 1248)\u001b[0m\n"
     ]
    },
    {
     "ename": "KeyboardInterrupt",
     "evalue": "",
     "output_type": "error",
     "traceback": [
      "\u001b[0;31m---------------------------------------------------------------------------\u001b[0m",
      "\u001b[0;31mKeyboardInterrupt\u001b[0m                         Traceback (most recent call last)",
      "\u001b[0;32m<ipython-input-138-bc390c1969fe>\u001b[0m in \u001b[0;36m<module>\u001b[0;34m\u001b[0m\n\u001b[0;32m----> 1\u001b[0;31m \u001b[0mq_2\u001b[0m\u001b[0;34m(\u001b[0m\u001b[0mload_data\u001b[0m\u001b[0;34m(\u001b[0m\u001b[0;34m)\u001b[0m\u001b[0;34m)\u001b[0m\u001b[0;34m\u001b[0m\u001b[0;34m\u001b[0m\u001b[0m\n\u001b[0m",
      "\u001b[0;32m<ipython-input-135-39eecd5dad29>\u001b[0m in \u001b[0;36mq_2\u001b[0;34m(data)\u001b[0m\n\u001b[1;32m     40\u001b[0m             if any(((x_tr + 100 <= x_bl)\n\u001b[1;32m     41\u001b[0m                     and (y_bl + 100 <= y_tr))\n\u001b[0;32m---> 42\u001b[0;31m                    for (x_bl, y_bl) in bottom_lefts):\n\u001b[0m\u001b[1;32m     43\u001b[0m                 \u001b[0mLOGGER\u001b[0m\u001b[0;34m.\u001b[0m\u001b[0mwarning\u001b[0m\u001b[0;34m(\u001b[0m\u001b[0;34mf'top_right = {x_tr, y_tr}'\u001b[0m\u001b[0;34m)\u001b[0m\u001b[0;34m\u001b[0m\u001b[0;34m\u001b[0m\u001b[0m\n\u001b[1;32m     44\u001b[0m                 \u001b[0;32mreturn\u001b[0m \u001b[0mx_tr\u001b[0m\u001b[0;34m,\u001b[0m \u001b[0my_tr\u001b[0m \u001b[0;34m-\u001b[0m \u001b[0;36m100\u001b[0m\u001b[0;34m\u001b[0m\u001b[0;34m\u001b[0m\u001b[0m\n",
      "\u001b[0;32m<ipython-input-135-39eecd5dad29>\u001b[0m in \u001b[0;36m<genexpr>\u001b[0;34m(.0)\u001b[0m\n\u001b[1;32m     38\u001b[0m         \u001b[0;31m# x + 100, y - 100 is a bottom left, the square is in there\u001b[0m\u001b[0;34m\u001b[0m\u001b[0;34m\u001b[0m\u001b[0;34m\u001b[0m\u001b[0m\n\u001b[1;32m     39\u001b[0m         \u001b[0;32mfor\u001b[0m \u001b[0;34m(\u001b[0m\u001b[0mx_tr\u001b[0m\u001b[0;34m,\u001b[0m \u001b[0my_tr\u001b[0m\u001b[0;34m)\u001b[0m \u001b[0;32min\u001b[0m \u001b[0mtop_rights\u001b[0m\u001b[0;34m:\u001b[0m\u001b[0;34m\u001b[0m\u001b[0;34m\u001b[0m\u001b[0m\n\u001b[0;32m---> 40\u001b[0;31m             if any(((x_tr + 100 <= x_bl)\n\u001b[0m\u001b[1;32m     41\u001b[0m                     and (y_bl + 100 <= y_tr))\n\u001b[1;32m     42\u001b[0m                    for (x_bl, y_bl) in bottom_lefts):\n",
      "\u001b[0;31mKeyboardInterrupt\u001b[0m: "
     ]
    }
   ],
   "source": [
    "q_2(load_data())"
   ]
  },
  {
   "cell_type": "markdown",
   "metadata": {},
   "source": [
    "fin"
   ]
  },
  {
   "cell_type": "code",
   "execution_count": null,
   "metadata": {},
   "outputs": [],
   "source": []
  },
  {
   "cell_type": "code",
   "execution_count": 128,
   "metadata": {},
   "outputs": [],
   "source": [
    "def readfile(path):\n",
    "    with open(path) as input_file: \n",
    "        return input_file.read().strip()\n",
    "\n",
    "def params(program, i, count):\n",
    "    modes = str(program[i] // 100)[::-1]\n",
    "    result = []\n",
    "    \n",
    "    for x in range(count - 1):\n",
    "        arg = program[i + 1 + x]\n",
    "        if x >= len(modes) or modes[x] == \"0\":\n",
    "            result.append(program[arg])\n",
    "        elif modes[x] == \"2\":\n",
    "            result.append(program[program.offset + arg])\n",
    "        else:\n",
    "            result.append(arg)\n",
    "            \n",
    "    output = program[i + count]\n",
    "    if len(modes) >= count and modes[count - 1] == \"2\":\n",
    "        output += program.offset\n",
    "        \n",
    "    result.append(output) # output\n",
    "    return result\n",
    "\n",
    "def add(program, i, **kwargs):\n",
    "    assert program[i] % 100 == 1\n",
    "    a, b, out = params(program, i, 3)\n",
    "    program[out] = a + b\n",
    "    return i + 4, None\n",
    "    \n",
    "def mul(program, i, **kwargs):\n",
    "    assert program[i] % 100 == 2\n",
    "    a, b, out = params(program, i, 3)\n",
    "    program[out] = a * b\n",
    "    return i + 4, None\n",
    "\n",
    "def inp(program, i, input_value, **kwargs):\n",
    "    assert program[i] % 100 == 3\n",
    "    out, = params(program, i, 1)\n",
    "    program[out] = input_value\n",
    "    # print(f\"> {program[i]} program[{out}] = {program[out]}\")\n",
    "    return i + 2, None\n",
    "\n",
    "def out(program, i, **kwargs):\n",
    "    assert program[i] % 100 == 4\n",
    "    val, _ = params(program, i, 2)\n",
    "    # print(f\"> {val}\")\n",
    "    return i + 2, val\n",
    "    \n",
    "def jit(program, i, **kwargs):\n",
    "    assert program[i] % 100 == 5\n",
    "    test, ip, _ = params(program, i, 3)\n",
    "    if test != 0:\n",
    "        return ip, None\n",
    "    return i + 3, None\n",
    "\n",
    "def jif(program, i, **kwargs):\n",
    "    assert program[i] % 100 == 6\n",
    "    test, ip, _ = params(program, i, 3)\n",
    "    if test == 0:\n",
    "        return ip, None\n",
    "    return i + 3, None\n",
    "\n",
    "def lt(program, i, **kwargs):\n",
    "    assert program[i] % 100 == 7\n",
    "    a, b, out = params(program, i, 3)\n",
    "    program[out] = int(a < b)\n",
    "    return i + 4, None\n",
    "\n",
    "def eq(program, i, **kwargs):\n",
    "    assert program[i] % 100 == 8\n",
    "    a, b, out = params(program, i, 3)\n",
    "    program[out] = int(a == b)\n",
    "    return i + 4, None\n",
    "\n",
    "def rbo(program, i, **kwargs):\n",
    "    assert program[i] % 100 == 9\n",
    "    delta, _ = params(program, i, 2)\n",
    "    program.offset += delta\n",
    "    # print (f\"> rbo = {program.offset}\" )\n",
    "    return i + 2, None\n",
    "\n",
    "operations = { 1: add, 2: mul, 3: inp, 4: out, 5: jit, 6: jif, 7: lt, 8: eq, 9: rbo }\n",
    "\n",
    "class Program(list):\n",
    "    def __init__(self, *args, **kwargs):\n",
    "        super(Program, self).__init__(args[0])\n",
    "        self.offset = 0\n",
    "\n",
    "def compute(program, debug=False):\n",
    "    program = Program(program)\n",
    "    \n",
    "    l = len(program)\n",
    "    i = 0\n",
    "    output_value = None\n",
    "    last_output = None\n",
    "    \n",
    "    while i < l:\n",
    "        op = program[i]\n",
    "        if op == 99:\n",
    "            if debug: \n",
    "                print(f\">> exit {output_value}\")\n",
    "            return \n",
    "        \n",
    "        if debug:\n",
    "            print(f\">> {i}, {list(enumerate(program))[i:i+5]}\")\n",
    "            \n",
    "        if op % 100 == 3:\n",
    "            input_value = yield\n",
    "        else:\n",
    "            input_value = None\n",
    "            \n",
    "        i, output_value = operations[op % 100](program, i, input_value=input_value)\n",
    "        \n",
    "        if output_value is not None:\n",
    "            yield output_value\n",
    "        \n",
    "    raise Exception(\"Didn't terminate properly\")\n",
    "    \n",
    "def process(listing):\n",
    "    lst = list(map(int, listing.split(\",\")))\n",
    "    lst.extend([0] * 100000)\n",
    "    return lst"
   ]
  },
  {
   "cell_type": "code",
   "execution_count": 129,
   "metadata": {},
   "outputs": [],
   "source": [
    "program = readfile(\"data/day19.txt\")"
   ]
  },
  {
   "cell_type": "code",
   "execution_count": 132,
   "metadata": {},
   "outputs": [],
   "source": [
    "def test_point(x, y):\n",
    "    p = compute(process(program.strip()))\n",
    "    assert next(p) == None\n",
    "    assert p.send(x) == None\n",
    "    return p.send(y)\n",
    "\n",
    "def find(size):\n",
    "    x, y = 0, 0\n",
    "    while True:\n",
    "        if y >= size - 1:\n",
    "            if test_point(x + size - 1, y - size + 1):\n",
    "                return x, y - size + 1\n",
    "\n",
    "        i = 0\n",
    "        passed = test_point(x + i, y + 1)\n",
    "        while not passed and i <= 10:\n",
    "            i += 1\n",
    "            passed = test_point(x + i, y + 1)\n",
    "        \n",
    "        if passed:\n",
    "            x = x + i\n",
    "        y = y + 1\n",
    "    \n",
    "x, y = find(100)"
   ]
  },
  {
   "cell_type": "code",
   "execution_count": 133,
   "metadata": {},
   "outputs": [
    {
     "data": {
      "text/plain": [
       "11351625"
      ]
     },
     "execution_count": 133,
     "metadata": {},
     "output_type": "execute_result"
    }
   ],
   "source": [
    "x * 10000 + y"
   ]
  },
  {
   "cell_type": "code",
   "execution_count": null,
   "metadata": {},
   "outputs": [],
   "source": []
  }
 ],
 "metadata": {
  "kernelspec": {
   "display_name": "Python 3",
   "language": "python",
   "name": "python3"
  },
  "language_info": {
   "codemirror_mode": {
    "name": "ipython",
    "version": 3
   },
   "file_extension": ".py",
   "mimetype": "text/x-python",
   "name": "python",
   "nbconvert_exporter": "python",
   "pygments_lexer": "ipython3",
   "version": "3.7.3"
  },
  "toc": {
   "base_numbering": 1,
   "nav_menu": {},
   "number_sections": true,
   "sideBar": true,
   "skip_h1_title": false,
   "title_cell": "Table of Contents",
   "title_sidebar": "Contents",
   "toc_cell": false,
   "toc_position": {},
   "toc_section_display": true,
   "toc_window_display": false
  }
 },
 "nbformat": 4,
 "nbformat_minor": 2
}
