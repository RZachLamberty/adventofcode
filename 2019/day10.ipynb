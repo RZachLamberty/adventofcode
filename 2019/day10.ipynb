{
 "cells": [
  {
   "cell_type": "markdown",
   "metadata": {},
   "source": [
    "# day 10\n",
    "\n",
    "https://adventofcode.com/2019/day/10"
   ]
  },
  {
   "cell_type": "code",
   "execution_count": null,
   "metadata": {},
   "outputs": [],
   "source": [
    "import logging\n",
    "import logging.config\n",
    "import os\n",
    "\n",
    "import yaml"
   ]
  },
  {
   "cell_type": "code",
   "execution_count": null,
   "metadata": {},
   "outputs": [],
   "source": [
    "with open('../logging.yaml') as fp:\n",
    "    logging_config = yaml.load(fp, Loader=yaml.FullLoader)\n",
    "\n",
    "logging.config.dictConfig(logging_config)"
   ]
  },
  {
   "cell_type": "code",
   "execution_count": null,
   "metadata": {},
   "outputs": [],
   "source": [
    "FNAME = os.path.join('data', 'day10.txt')\n",
    "\n",
    "LOGGER = logging.getLogger('day10')"
   ]
  },
  {
   "cell_type": "markdown",
   "metadata": {},
   "source": [
    "## part 1\n",
    "\n",
    "### problem statement:"
   ]
  },
  {
   "cell_type": "markdown",
   "metadata": {},
   "source": [
    "#### loading data"
   ]
  },
  {
   "cell_type": "code",
   "execution_count": null,
   "metadata": {},
   "outputs": [],
   "source": [
    "test_1 = \"\"\".#..#\n",
    ".....\n",
    "#####\n",
    "....#\n",
    "...##\"\"\"\n",
    "\n",
    "test_2 = \"\"\"......#.#.\n",
    "#..#.#....\n",
    "..#######.\n",
    ".#.#.###..\n",
    ".#..#.....\n",
    "..#....#.#\n",
    "#..#....#.\n",
    ".##.#..###\n",
    "##...#..#.\n",
    ".#....####\"\"\"\n",
    "\n",
    "test_3 = \"\"\"#.#...#.#.\n",
    ".###....#.\n",
    ".#....#...\n",
    "##.#.#.#.#\n",
    "....#.#.#.\n",
    ".##..###.#\n",
    "..#...##..\n",
    "..##....##\n",
    "......#...\n",
    ".####.###.\"\"\"\n",
    "\n",
    "test_4 = \"\"\".#..#..###\n",
    "####.###.#\n",
    "....###.#.\n",
    "..###.##.#\n",
    "##.##.#.#.\n",
    "....###..#\n",
    "..#.#..#.#\n",
    "#..#.#.###\n",
    ".##...##.#\n",
    ".....#.#..\"\"\"\n",
    "\n",
    "test_5 = \"\"\".#..##.###...#######\n",
    "##.############..##.\n",
    ".#.######.########.#\n",
    ".###.#######.####.#.\n",
    "#####.##.#.##.###.##\n",
    "..#####..#.#########\n",
    "####################\n",
    "#.####....###.#.#.##\n",
    "##.#################\n",
    "#####.##.###..####..\n",
    "..######..##.#######\n",
    "####.##.####...##..#\n",
    ".#####..#.######.###\n",
    "##...#.##########...\n",
    "#.##########.#######\n",
    ".####.#.###.###.#.##\n",
    "....##.##.###..#####\n",
    ".#.#.###########.###\n",
    "#.#.#.#####.####.###\n",
    "###.##.####.##.#..##\"\"\""
   ]
  },
  {
   "cell_type": "code",
   "execution_count": null,
   "metadata": {},
   "outputs": [],
   "source": [
    "def load_data(fname=FNAME):\n",
    "    with open(fname) as fp:\n",
    "        return fp.read()"
   ]
  },
  {
   "cell_type": "markdown",
   "metadata": {},
   "source": [
    "#### function def"
   ]
  },
  {
   "cell_type": "code",
   "execution_count": null,
   "metadata": {},
   "outputs": [],
   "source": [
    "import math"
   ]
  },
  {
   "cell_type": "code",
   "execution_count": null,
   "metadata": {},
   "outputs": [],
   "source": [
    "ASTEROID = '#'\n",
    "EMPTY = '.'\n",
    "\n",
    "from collections import defaultdict\n",
    "\n",
    "\n",
    "def dist(p, q):\n",
    "    return math.sqrt(sum((px - qx) ** 2.0 for px, qx in zip(p, q)))\n",
    "\n",
    "\n",
    "class AsteroidField:\n",
    "    def __init__(self, s):\n",
    "        self.s = s.strip()\n",
    "        self.asteroids = {(int(j), int(i)): val == ASTEROID\n",
    "                          for (i, row) in enumerate(self.s.split('\\n'))\n",
    "                          for (j, val) in enumerate(row)}\n",
    "        self.asteroid_locations = [\n",
    "            k for (k, v) in self.asteroids.items() if v]\n",
    "    \n",
    "    def _theta_dict(self, loc):\n",
    "        theta_dict = defaultdict(dict)\n",
    "        x0, y0 = loc\n",
    "        for al in self.asteroid_locations:\n",
    "            if al != loc:\n",
    "                x1, y1 = al\n",
    "                rise = y1 - y0\n",
    "                run = x1 - x0\n",
    "                theta = math.atan2(rise, run)\n",
    "                d = dist(loc, al)\n",
    "                theta_dict[theta][d] = al\n",
    "        return theta_dict\n",
    "    \n",
    "    def num_seen_from(self, loc):\n",
    "        return len(self._theta_dict(loc))\n",
    "    \n",
    "    def best_monitoring_loc(self):\n",
    "        best_num = 0\n",
    "        best_loc = None\n",
    "        for al in self.asteroid_locations:\n",
    "            num_here = self.num_seen_from(al)\n",
    "            if num_here > best_num:\n",
    "                best_loc = al\n",
    "                best_num = num_here\n",
    "        return (best_loc, best_num)\n",
    "    \n",
    "    def blasted_by_lasers(self, loc):\n",
    "        theta_dict = self._theta_dict(loc)\n",
    "        last_angle = -math.pi / 2 - 1e-6\n",
    "        num_blasted = 0\n",
    "        while theta_dict:\n",
    "            # point it to the next asteroid\n",
    "            try:\n",
    "                ray_angle = min(k for k in theta_dict if k > last_angle)\n",
    "            except ValueError:\n",
    "                # start the loop over again\n",
    "                last_angle = -math.pi\n",
    "                continue\n",
    "            candidates = theta_dict[ray_angle]\n",
    "            shortest_dist = min(candidates.keys())\n",
    "            nearest_loc = candidates.pop(shortest_dist)\n",
    "            num_blasted += 1\n",
    "            LOGGER.debug(f\"blasting asteroid {num_blasted} at {(nearest_loc)}\")\n",
    "            yield (nearest_loc, shortest_dist)\n",
    "            if not candidates:\n",
    "                del theta_dict[ray_angle]\n",
    "            last_angle = ray_angle"
   ]
  },
  {
   "cell_type": "code",
   "execution_count": null,
   "metadata": {},
   "outputs": [],
   "source": [
    "def q_1(data):\n",
    "    af = AsteroidField(data)\n",
    "    return af.best_monitoring_loc()"
   ]
  },
  {
   "cell_type": "markdown",
   "metadata": {},
   "source": [
    "#### tests"
   ]
  },
  {
   "cell_type": "code",
   "execution_count": null,
   "metadata": {},
   "outputs": [],
   "source": [
    "def test_q_1():\n",
    "    LOGGER.setLevel(logging.DEBUG)\n",
    "    af = AsteroidField(test_1)\n",
    "    assert af.num_seen_from((1, 0)) == 7\n",
    "    assert af.num_seen_from((3, 4)) == 8\n",
    "\n",
    "    assert q_1(test_1) == ((3, 4), 8)\n",
    "    assert q_1(test_2) == ((5, 8), 33)\n",
    "    assert q_1(test_3) == ((1, 2), 35)\n",
    "    assert q_1(test_4) == ((6, 3), 41)\n",
    "    assert q_1(test_5) == ((11, 13), 210)\n",
    "    LOGGER.setLevel(logging.INFO)"
   ]
  },
  {
   "cell_type": "code",
   "execution_count": null,
   "metadata": {},
   "outputs": [],
   "source": [
    "test_q_1()"
   ]
  },
  {
   "cell_type": "markdown",
   "metadata": {},
   "source": [
    "#### answer"
   ]
  },
  {
   "cell_type": "code",
   "execution_count": null,
   "metadata": {},
   "outputs": [],
   "source": [
    "q_1(load_data())"
   ]
  },
  {
   "cell_type": "markdown",
   "metadata": {},
   "source": [
    "## part 2\n",
    "\n",
    "### problem statement:"
   ]
  },
  {
   "cell_type": "markdown",
   "metadata": {},
   "source": [
    "#### function def"
   ]
  },
  {
   "cell_type": "code",
   "execution_count": null,
   "metadata": {},
   "outputs": [],
   "source": [
    "def q_2(data):\n",
    "    af = AsteroidField(data)\n",
    "    best_loc, num_thetas = af.best_monitoring_loc()\n",
    "    for (i, (blasted_asteroid_loc, d)) in enumerate(af.blasted_by_lasers(best_loc)):\n",
    "        if i == 199:\n",
    "            return blasted_asteroid_loc"
   ]
  },
  {
   "cell_type": "markdown",
   "metadata": {},
   "source": [
    "#### tests"
   ]
  },
  {
   "cell_type": "code",
   "execution_count": null,
   "metadata": {},
   "outputs": [],
   "source": [
    "test_6 = \"\"\".#....#####...#..\n",
    "##...##.#####..##\n",
    "##...#...#.#####.\n",
    "..#.....#...###..\n",
    "..#.#.....#....##\"\"\"\n",
    "\n",
    "def test_q_2():\n",
    "    LOGGER.setLevel(logging.DEBUG)\n",
    "    af = AsteroidField(test_6)\n",
    "    assert af.best_monitoring_loc() == ((8, 3), 30)\n",
    "    assert q_2(test_5) == (8, 2)\n",
    "    LOGGER.setLevel(logging.INFO)"
   ]
  },
  {
   "cell_type": "code",
   "execution_count": null,
   "metadata": {
    "scrolled": true
   },
   "outputs": [],
   "source": [
    "test_q_2()"
   ]
  },
  {
   "cell_type": "markdown",
   "metadata": {},
   "source": [
    "#### answer"
   ]
  },
  {
   "cell_type": "code",
   "execution_count": null,
   "metadata": {
    "scrolled": true
   },
   "outputs": [],
   "source": [
    "x, y = q_2(load_data())\n",
    "\n",
    "100 * x + y"
   ]
  },
  {
   "cell_type": "markdown",
   "metadata": {},
   "source": [
    "fin"
   ]
  }
 ],
 "metadata": {
  "kernelspec": {
   "display_name": "Python 3",
   "language": "python",
   "name": "python3"
  },
  "language_info": {
   "codemirror_mode": {
    "name": "ipython",
    "version": 3
   },
   "file_extension": ".py",
   "mimetype": "text/x-python",
   "name": "python",
   "nbconvert_exporter": "python",
   "pygments_lexer": "ipython3",
   "version": "3.7.5"
  },
  "toc": {
   "base_numbering": 1,
   "nav_menu": {},
   "number_sections": true,
   "sideBar": true,
   "skip_h1_title": false,
   "title_cell": "Table of Contents",
   "title_sidebar": "Contents",
   "toc_cell": false,
   "toc_position": {},
   "toc_section_display": true,
   "toc_window_display": false
  }
 },
 "nbformat": 4,
 "nbformat_minor": 2
}
