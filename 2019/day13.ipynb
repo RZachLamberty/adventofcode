{
 "cells": [
  {
   "cell_type": "markdown",
   "metadata": {},
   "source": [
    "# day 13\n",
    "\n",
    "https://adventofcode.com/2019/day/13"
   ]
  },
  {
   "cell_type": "code",
   "execution_count": 1,
   "metadata": {},
   "outputs": [],
   "source": [
    "import logging\n",
    "import logging.config\n",
    "import os\n",
    "\n",
    "import yaml"
   ]
  },
  {
   "cell_type": "code",
   "execution_count": 2,
   "metadata": {},
   "outputs": [],
   "source": [
    "with open('../logging.yaml') as fp:\n",
    "    logging_config = yaml.load(fp, Loader=yaml.FullLoader)\n",
    "\n",
    "logging.config.dictConfig(logging_config)"
   ]
  },
  {
   "cell_type": "code",
   "execution_count": 3,
   "metadata": {},
   "outputs": [],
   "source": [
    "FNAME = os.path.join('data', 'day13.txt')\n",
    "\n",
    "LOGGER = logging.getLogger('day13')"
   ]
  },
  {
   "cell_type": "markdown",
   "metadata": {},
   "source": [
    "## part 1\n",
    "\n",
    "### problem statement:"
   ]
  },
  {
   "cell_type": "markdown",
   "metadata": {},
   "source": [
    "#### loading data"
   ]
  },
  {
   "cell_type": "code",
   "execution_count": 4,
   "metadata": {},
   "outputs": [],
   "source": [
    "test_data = []"
   ]
  },
  {
   "cell_type": "code",
   "execution_count": 5,
   "metadata": {},
   "outputs": [],
   "source": [
    "def load_data(fname=FNAME):\n",
    "    with open(fname) as fp:\n",
    "        return [int(_) for _ in fp.read().split(',')]"
   ]
  },
  {
   "cell_type": "markdown",
   "metadata": {},
   "source": [
    "#### function def"
   ]
  },
  {
   "cell_type": "code",
   "execution_count": 6,
   "metadata": {},
   "outputs": [],
   "source": [
    "import aoc2019 as A"
   ]
  },
  {
   "cell_type": "code",
   "execution_count": 7,
   "metadata": {},
   "outputs": [],
   "source": [
    "def q_1(data, do_draw=False):\n",
    "    ag = A.ArcadeGame(data, inputs=[])\n",
    "    ag.play(do_draw)\n",
    "    return ag"
   ]
  },
  {
   "cell_type": "markdown",
   "metadata": {},
   "source": [
    "#### tests"
   ]
  },
  {
   "cell_type": "code",
   "execution_count": 8,
   "metadata": {},
   "outputs": [],
   "source": [
    "# def test_q_1():\n",
    "#     LOGGER.setLevel(logging.DEBUG)\n",
    "#     assert q_1(test_data) == True\n",
    "#     LOGGER.setLevel(logging.INFO)"
   ]
  },
  {
   "cell_type": "code",
   "execution_count": 9,
   "metadata": {},
   "outputs": [],
   "source": [
    "# test_q_1()"
   ]
  },
  {
   "cell_type": "markdown",
   "metadata": {},
   "source": [
    "#### answer"
   ]
  },
  {
   "cell_type": "code",
   "execution_count": 12,
   "metadata": {},
   "outputs": [
    {
     "name": "stdout",
     "output_type": "stream",
     "text": [
      "226\n"
     ]
    }
   ],
   "source": [
    "import cProfile\n",
    "cProfile.run('print(q_1(load_data()).num_bricks)', 'day13.stats')"
   ]
  },
  {
   "cell_type": "code",
   "execution_count": 13,
   "metadata": {
    "scrolled": false
   },
   "outputs": [
    {
     "name": "stdout",
     "output_type": "stream",
     "text": [
      "Fri Dec 13 18:03:08 2019    day13.stats\n",
      "\n",
      "         911780 function calls (911537 primitive calls) in 5.078 seconds\n",
      "\n",
      "   Ordered by: standard name\n",
      "\n",
      "   ncalls  tottime  percall  cumtime  percall filename:lineno(function)\n",
      "        1    0.000    0.000    0.002    0.002 <ipython-input-5-90d60a3390b9>:1(load_data)\n",
      "        1    0.001    0.001    0.001    0.001 <ipython-input-5-90d60a3390b9>:3(<listcomp>)\n",
      "        1    0.000    0.000    5.076    5.076 <ipython-input-7-eb6740e7e811>:1(q_1)\n",
      "        1    0.000    0.000    5.078    5.078 <string>:1(<module>)\n",
      "   375473    0.095    0.000    0.149    0.000 __init__.py:1361(debug)\n",
      "    14308    0.004    0.000    0.006    0.000 __init__.py:1373(info)\n",
      "   389781    0.056    0.000    0.056    0.000 __init__.py:1619(isEnabledFor)\n",
      "        8    0.000    0.000    0.000    0.000 __init__.py:183(dumps)\n",
      "        1    0.000    0.000    0.000    0.000 _bootlocale.py:33(getpreferredencoding)\n",
      "      148    0.000    0.000    0.000    0.000 abc.py:137(__instancecheck__)\n",
      "     2509    0.001    0.000    5.064    0.002 aoc2019.py:102(get_output)\n",
      "    14307    0.212    0.000    0.322    0.000 aoc2019.py:107(load_instruction)\n",
      "     2509    2.738    0.001    5.062    0.002 aoc2019.py:159(__iter__)\n",
      "        1    0.000    0.000    0.010    0.010 aoc2019.py:228(__init__)\n",
      "        1    0.000    0.000    5.066    5.066 aoc2019.py:236(play)\n",
      "      837    0.002    0.000    5.066    0.006 aoc2019.py:246(step)\n",
      "        1    0.000    0.000    0.000    0.000 aoc2019.py:256(num_bricks)\n",
      "        1    0.000    0.000    0.000    0.000 aoc2019.py:258(<listcomp>)\n",
      "        1    0.000    0.000    0.000    0.000 aoc2019.py:79(__init__)\n",
      "    14307    1.398    0.000    1.950    0.000 aoc2019.py:87(intcode)\n",
      "       24    0.000    0.000    0.000    0.000 bunch.py:11(__getattr__)\n",
      "        1    0.000    0.000    0.000    0.000 codecs.py:260(__init__)\n",
      "        1    0.000    0.000    0.000    0.000 codecs.py:309(__init__)\n",
      "        1    0.000    0.000    0.000    0.000 codecs.py:319(decode)\n",
      "        2    0.000    0.000    0.000    0.000 comm.py:137(on_msg)\n",
      "        2    0.000    0.000    0.000    0.000 comm.py:19(_default_kernel)\n",
      "        2    0.000    0.000    0.000    0.000 comm.py:26(_default_comm_id)\n",
      "        2    0.000    0.000    0.000    0.000 comm.py:38(_default_topic)\n",
      "        2    0.000    0.000    0.005    0.002 comm.py:50(__init__)\n",
      "        2    0.000    0.000    0.003    0.001 comm.py:61(_publish_msg)\n",
      "        2    0.000    0.000    0.003    0.002 comm.py:80(open)\n",
      "        4    0.000    0.000    0.000    0.000 configurable.py:102(<listcomp>)\n",
      "        2    0.000    0.000    0.000    0.000 configurable.py:106(_find_my_config)\n",
      "        2    0.000    0.000    0.001    0.001 configurable.py:131(_load_config)\n",
      "        2    0.000    0.000    0.001    0.001 configurable.py:38(__init__)\n",
      "        2    0.000    0.000    0.000    0.000 configurable.py:381(instance)\n",
      "        2    0.000    0.000    0.000    0.000 configurable.py:426(initialized)\n",
      "        4    0.000    0.000    0.000    0.000 configurable.py:99(section_names)\n",
      "      106    0.000    0.000    0.000    0.000 contextlib.py:107(__enter__)\n",
      "      106    0.000    0.000    0.000    0.000 contextlib.py:116(__exit__)\n",
      "      106    0.000    0.000    0.000    0.000 contextlib.py:237(helper)\n",
      "      106    0.000    0.000    0.000    0.000 contextlib.py:81(__init__)\n",
      "        8    0.000    0.000    0.000    0.000 encoder.py:104(__init__)\n",
      "        8    0.000    0.000    0.000    0.000 encoder.py:182(encode)\n",
      "        8    0.000    0.000    0.000    0.000 encoder.py:204(iterencode)\n",
      "        2    0.000    0.000    0.000    0.000 hmac.py:104(copy)\n",
      "        2    0.000    0.000    0.000    0.000 hmac.py:117(_current)\n",
      "        2    0.000    0.000    0.000    0.000 hmac.py:136(hexdigest)\n",
      "        8    0.000    0.000    0.000    0.000 hmac.py:99(update)\n",
      "        5    0.000    0.000    0.001    0.000 iostream.py:197(schedule)\n",
      "        2    0.000    0.000    0.001    0.001 iostream.py:209(send_multipart)\n",
      "        2    0.000    0.000    0.001    0.001 iostream.py:262(send_multipart)\n",
      "        2    0.000    0.000    0.000    0.000 iostream.py:309(_is_master_process)\n",
      "        2    0.000    0.000    0.000    0.000 iostream.py:322(_schedule_flush)\n",
      "        2    0.000    0.000    0.000    0.000 iostream.py:384(write)\n",
      "        5    0.000    0.000    0.000    0.000 iostream.py:93(_event_pipe)\n",
      "        8    0.000    0.000    0.000    0.000 jsonapi.py:31(dumps)\n",
      "     74/4    0.000    0.000    0.001    0.000 jsonutil.py:109(json_clean)\n",
      "        4    0.000    0.000    0.000    0.000 jsonutil.py:177(<listcomp>)\n",
      "        4    0.000    0.000    0.000    0.000 jsonutil.py:34(_ensure_tzinfo)\n",
      "        4    0.000    0.000    0.000    0.000 jsonutil.py:87(date_default)\n",
      "        6    0.000    0.000    0.000    0.000 loader.py:150(_is_section_key)\n",
      "        4    0.000    0.000    0.000    0.000 loader.py:161(__init__)\n",
      "        4    0.000    0.000    0.000    0.000 loader.py:165(_ensure_subconfig)\n",
      "        6    0.000    0.000    0.000    0.000 loader.py:218(__contains__)\n",
      "        6    0.000    0.000    0.000    0.000 loader.py:231(_has_section)\n",
      "        2    0.000    0.000    0.000    0.000 manager.py:46(register_comm)\n",
      "        8    0.000    0.000    0.000    0.000 py3compat.py:188(iteritems)\n",
      "        2    0.000    0.000    0.000    0.000 py3compat.py:19(encode)\n",
      "        8    0.000    0.000    0.000    0.000 session.py:102(<lambda>)\n",
      "        2    0.000    0.000    0.000    0.000 session.py:121(new_id)\n",
      "        6    0.000    0.000    0.000    0.000 session.py:132(<genexpr>)\n",
      "        2    0.000    0.000    0.000    0.000 session.py:169(utcnow)\n",
      "        2    0.000    0.000    0.000    0.000 session.py:236(msg_header)\n",
      "        2    0.000    0.000    0.000    0.000 session.py:242(extract_header)\n",
      "        2    0.000    0.000    0.000    0.000 session.py:509(msg_id)\n",
      "        2    0.000    0.000    0.000    0.000 session.py:561(msg_header)\n",
      "        2    0.000    0.000    0.001    0.000 session.py:564(msg)\n",
      "        2    0.000    0.000    0.000    0.000 session.py:583(sign)\n",
      "        2    0.000    0.000    0.000    0.000 session.py:598(serialize)\n",
      "        2    0.000    0.000    0.002    0.001 session.py:657(send)\n",
      "        2    0.000    0.000    0.000    0.000 session.py:739(<listcomp>)\n",
      "        5    0.001    0.000    0.001    0.000 socket.py:342(send)\n",
      "        5    0.000    0.000    0.000    0.000 threading.py:1038(_wait_for_tstate_lock)\n",
      "        5    0.000    0.000    0.000    0.000 threading.py:1080(is_alive)\n",
      "        5    0.000    0.000    0.000    0.000 threading.py:507(is_set)\n",
      "        2    0.000    0.000    0.006    0.003 trait_types.py:161(validate)\n",
      "      200    0.000    0.000    0.000    0.000 traitlets.py:1047(cross_validation_lock)\n",
      "       12    0.000    0.000    0.000    0.000 traitlets.py:1067(hold_trait_notifications)\n",
      "        4    0.000    0.000    0.000    0.000 traitlets.py:1083(compress)\n",
      "        4    0.000    0.000    0.000    0.000 traitlets.py:1095(hold)\n",
      "     10/8    0.000    0.000    0.000    0.000 traitlets.py:1133(_notify_trait)\n",
      "     10/8    0.000    0.000    0.000    0.000 traitlets.py:1142(notify_change)\n",
      "        4    0.000    0.000    0.000    0.000 traitlets.py:1178(_add_notifiers)\n",
      "        4    0.000    0.000    0.000    0.000 traitlets.py:1237(observe)\n",
      "        1    0.000    0.000    0.000    0.000 traitlets.py:1299(_register_validator)\n",
      "        4    0.000    0.000    0.000    0.000 traitlets.py:1336(set_trait)\n",
      "        8    0.000    0.000    0.000    0.000 traitlets.py:1399(has_trait)\n",
      "        6    0.000    0.000    0.002    0.000 traitlets.py:1407(traits)\n",
      "        6    0.000    0.000    0.000    0.000 traitlets.py:1421(<listcomp>)\n",
      "       56    0.000    0.000    0.000    0.000 traitlets.py:1439(trait_metadata)\n",
      "       14    0.000    0.000    0.000    0.000 traitlets.py:1673(validate)\n",
      "       30    0.000    0.000    0.001    0.000 traitlets.py:1690(instance_init)\n",
      "       30    0.000    0.000    0.000    0.000 traitlets.py:1694(_resolve_classes)\n",
      "        8    0.000    0.000    0.000    0.000 traitlets.py:1698(make_dynamic_default)\n",
      "        4    0.000    0.000    0.000    0.000 traitlets.py:188(parse_notifier_name)\n",
      "        2    0.000    0.000    0.000    0.000 traitlets.py:2023(validate)\n",
      "       26    0.000    0.000    0.000    0.000 traitlets.py:2045(validate)\n",
      "        6    0.000    0.000    0.000    0.000 traitlets.py:2110(validate)\n",
      "       98    0.000    0.000    0.000    0.000 traitlets.py:215(__init__)\n",
      "       98    0.000    0.000    0.000    0.000 traitlets.py:216(__call__)\n",
      "        4    0.000    0.000    0.000    0.000 traitlets.py:2235(validate)\n",
      "        6    0.000    0.000    0.001    0.000 traitlets.py:224(getmembers)\n",
      "        6    0.000    0.000    0.000    0.000 traitlets.py:2246(validate_elements)\n",
      "        6    0.000    0.000    0.000    0.000 traitlets.py:2264(instance_init)\n",
      "        4    0.000    0.000    0.000    0.000 traitlets.py:2316(validate_elements)\n",
      "        2    0.000    0.000    0.000    0.000 traitlets.py:2323(validate)\n",
      "        7    0.000    0.000    0.000    0.000 traitlets.py:2566(instance_init)\n",
      "       12    0.000    0.000    0.000    0.000 traitlets.py:396(instance_init)\n",
      "      116    0.001    0.000    0.001    0.000 traitlets.py:486(_dynamic_default_callable)\n",
      "      100    0.000    0.000    0.002    0.000 traitlets.py:516(instance_init)\n",
      "  152/150    0.000    0.000    0.002    0.000 traitlets.py:526(get)\n",
      "  490/418    0.000    0.000    0.002    0.000 traitlets.py:545(__get__)\n",
      "     18/8    0.000    0.000    0.006    0.001 traitlets.py:558(set)\n",
      "     14/6    0.000    0.000    0.006    0.001 traitlets.py:576(__set__)\n",
      "   100/33    0.000    0.000    0.006    0.000 traitlets.py:587(_validate)\n",
      "       26    0.000    0.000    0.000    0.000 traitlets.py:596(_cross_validate)\n",
      "       47    0.000    0.000    0.000    0.000 traitlets.py:911(__get__)\n",
      "        4    0.000    0.000    0.000    0.000 traitlets.py:923(instance_init)\n",
      "        1    0.000    0.000    0.000    0.000 traitlets.py:932(instance_init)\n",
      "        4    0.000    0.000    0.003    0.001 traitlets.py:950(__new__)\n",
      "        4    0.000    0.000    0.003    0.001 traitlets.py:961(setup_instance)\n",
      "        4    0.000    0.000    0.003    0.001 traitlets.py:982(setup_instance)\n",
      "      4/2    0.000    0.000    0.006    0.003 traitlets.py:988(__init__)\n",
      "        2    0.000    0.000    0.000    0.000 uuid.py:121(__init__)\n",
      "        2    0.000    0.000    0.000    0.000 uuid.py:318(hex)\n",
      "        2    0.000    0.000    0.000    0.000 uuid.py:757(uuid4)\n",
      "        2    0.000    0.000    0.000    0.000 widget.py:118(_remove_buffers)\n",
      "        1    0.000    0.000    0.000    0.000 widget.py:31(_widget_to_json)\n",
      "        2    0.000    0.000    0.000    0.000 widget.py:314(_call_widget_constructed)\n",
      "        2    0.000    0.000    0.001    0.000 widget.py:396(_default_keys)\n",
      "        2    0.000    0.000    0.000    0.000 widget.py:398(<listcomp>)\n",
      "      2/1    0.000    0.000    0.009    0.009 widget.py:409(__init__)\n",
      "        2    0.000    0.000    0.008    0.004 widget.py:425(open)\n",
      "        2    0.000    0.000    0.000    0.000 widget.py:440(_comm_changed)\n",
      "        5    0.000    0.000    0.000    0.000 widget.py:450(model_id)\n",
      "        2    0.000    0.000    0.002    0.001 widget.py:492(get_state)\n",
      "        4    0.000    0.000    0.000    0.000 widget.py:596(notify_change)\n",
      "       55    0.000    0.000    0.000    0.000 widget.py:699(_trait_to_json)\n",
      "      4/2    0.000    0.000    0.000    0.000 widget.py:73(_separate_buffers)\n",
      "        6    0.000    0.000    0.000    0.000 {built-in method __new__ of type object at 0x102684830}\n",
      "      148    0.000    0.000    0.000    0.000 {built-in method _abc._abc_instancecheck}\n",
      "        1    0.000    0.000    0.000    0.000 {built-in method _codecs.utf_8_decode}\n",
      "        1    0.000    0.000    0.000    0.000 {built-in method _locale.nl_langinfo}\n",
      "        4    0.000    0.000    0.000    0.000 {built-in method binascii.b2a_hex}\n",
      "       10    0.001    0.000    0.001    0.000 {built-in method builtins.dir}\n",
      "        1    0.000    0.000    5.078    5.078 {built-in method builtins.exec}\n",
      "1485/1483    0.001    0.000    0.001    0.000 {built-in method builtins.getattr}\n",
      "      339    0.000    0.000    0.000    0.000 {built-in method builtins.hasattr}\n",
      "     1781    0.000    0.000    0.001    0.000 {built-in method builtins.isinstance}\n",
      "       36    0.000    0.000    0.000    0.000 {built-in method builtins.issubclass}\n",
      "        8    0.000    0.000    0.000    0.000 {built-in method builtins.iter}\n",
      "       43    0.000    0.000    0.000    0.000 {built-in method builtins.len}\n",
      "        2    0.000    0.000    0.000    0.000 {built-in method builtins.locals}\n",
      "    14309    0.548    0.000    0.548    0.000 {built-in method builtins.max}\n",
      "     2721    0.001    0.000    5.063    0.002 {built-in method builtins.next}\n",
      "        1    0.000    0.000    0.000    0.000 {built-in method builtins.print}\n",
      "      6/3    0.000    0.000    0.006    0.002 {built-in method builtins.setattr}\n",
      "        2    0.000    0.000    0.000    0.000 {built-in method from_bytes}\n",
      "        1    0.000    0.000    0.000    0.000 {built-in method io.open}\n",
      "        4    0.000    0.000    0.000    0.000 {built-in method posix.getpid}\n",
      "        4    0.001    0.000    0.001    0.000 {built-in method posix.urandom}\n",
      "        2    0.000    0.000    0.000    0.000 {built-in method utcnow}\n",
      "        6    0.000    0.000    0.000    0.000 {function Config.__contains__ at 0x102debf28}\n",
      "       24    0.000    0.000    0.000    0.000 {method '__getitem__' of 'dict' objects}\n",
      "        5    0.000    0.000    0.000    0.000 {method 'acquire' of '_thread.lock' objects}\n",
      "        5    0.000    0.000    0.000    0.000 {method 'append' of 'collections.deque' objects}\n",
      "      714    0.000    0.000    0.000    0.000 {method 'append' of 'list' objects}\n",
      "        6    0.000    0.000    0.000    0.000 {method 'copy' of '_hashlib.HASH' objects}\n",
      "        2    0.000    0.000    0.000    0.000 {method 'copy' of 'dict' objects}\n",
      "        2    0.000    0.000    0.000    0.000 {method 'count' of 'list' objects}\n",
      "        4    0.000    0.000    0.000    0.000 {method 'decode' of 'bytes' objects}\n",
      "        2    0.000    0.000    0.000    0.000 {method 'digest' of '_hashlib.HASH' objects}\n",
      "        1    0.000    0.000    0.000    0.000 {method 'disable' of '_lsprof.Profiler' objects}\n",
      "       12    0.000    0.000    0.000    0.000 {method 'encode' of 'str' objects}\n",
      "       44    0.000    0.000    0.000    0.000 {method 'extend' of 'list' objects}\n",
      "    44208    0.006    0.000    0.006    0.000 {method 'get' of 'dict' objects}\n",
      "        2    0.000    0.000    0.000    0.000 {method 'hexdigest' of '_hashlib.HASH' objects}\n",
      "      114    0.000    0.000    0.000    0.000 {method 'index' of 'list' objects}\n",
      "        4    0.000    0.000    0.000    0.000 {method 'isoformat' of 'datetime.datetime' objects}\n",
      "    14427    0.002    0.000    0.002    0.000 {method 'items' of 'dict' objects}\n",
      "       10    0.000    0.000    0.000    0.000 {method 'join' of 'str' objects}\n",
      "    14313    0.002    0.000    0.002    0.000 {method 'keys' of 'dict' objects}\n",
      "      114    0.000    0.000    0.000    0.000 {method 'mro' of 'type' objects}\n",
      "        6    0.000    0.000    0.000    0.000 {method 'pop' of 'dict' objects}\n",
      "        1    0.000    0.000    0.000    0.000 {method 'read' of '_io.TextIOWrapper' objects}\n",
      "        2    0.000    0.000    0.000    0.000 {method 'replace' of 'datetime.datetime' objects}\n",
      "        4    0.000    0.000    0.000    0.000 {method 'replace' of 'str' objects}\n",
      "        6    0.000    0.000    0.000    0.000 {method 'sort' of 'list' objects}\n",
      "        1    0.000    0.000    0.000    0.000 {method 'split' of 'str' objects}\n",
      "        6    0.000    0.000    0.000    0.000 {method 'startswith' of 'str' objects}\n",
      "       10    0.000    0.000    0.000    0.000 {method 'update' of '_hashlib.HASH' objects}\n",
      "        2    0.000    0.000    0.000    0.000 {method 'update' of 'dict' objects}\n",
      "        6    0.000    0.000    0.000    0.000 {method 'upper' of 'str' objects}\n",
      "        7    0.000    0.000    0.000    0.000 {method 'values' of 'dict' objects}\n",
      "\n",
      "\n"
     ]
    },
    {
     "data": {
      "text/plain": [
       "<pstats.Stats at 0x109becda0>"
      ]
     },
     "execution_count": 13,
     "metadata": {},
     "output_type": "execute_result"
    }
   ],
   "source": [
    "import pstats\n",
    "p = pstats.Stats('day13.stats')\n",
    "p.strip_dirs().sort_stats(-1).print_stats()"
   ]
  },
  {
   "cell_type": "code",
   "execution_count": null,
   "metadata": {},
   "outputs": [],
   "source": [
    "ag = q_1(load_data())\n",
    "ag.num_bricks"
   ]
  },
  {
   "cell_type": "markdown",
   "metadata": {},
   "source": [
    "## part 2\n",
    "\n",
    "### problem statement:"
   ]
  },
  {
   "cell_type": "markdown",
   "metadata": {},
   "source": [
    "#### function def"
   ]
  },
  {
   "cell_type": "code",
   "execution_count": null,
   "metadata": {},
   "outputs": [],
   "source": [
    "def q_2(data, do_draw=False):\n",
    "    data[0] = 2\n",
    "    return q_1(data, do_draw)"
   ]
  },
  {
   "cell_type": "markdown",
   "metadata": {},
   "source": [
    "#### tests"
   ]
  },
  {
   "cell_type": "code",
   "execution_count": null,
   "metadata": {},
   "outputs": [],
   "source": [
    "# def test_q_2():\n",
    "#     LOGGER.setLevel(logging.DEBUG)\n",
    "#     assert q_2(test_data) == True\n",
    "#     LOGGER.setLevel(logging.INFO)"
   ]
  },
  {
   "cell_type": "code",
   "execution_count": null,
   "metadata": {
    "scrolled": true
   },
   "outputs": [],
   "source": [
    "# test_q_2()"
   ]
  },
  {
   "cell_type": "markdown",
   "metadata": {},
   "source": [
    "#### answer"
   ]
  },
  {
   "cell_type": "code",
   "execution_count": null,
   "metadata": {},
   "outputs": [],
   "source": [
    "importlib.reload(A)"
   ]
  },
  {
   "cell_type": "code",
   "execution_count": null,
   "metadata": {
    "scrolled": false
   },
   "outputs": [],
   "source": [
    "ag = q_2(load_data(), do_draw=True)"
   ]
  },
  {
   "cell_type": "code",
   "execution_count": null,
   "metadata": {},
   "outputs": [],
   "source": [
    "ag.score"
   ]
  },
  {
   "cell_type": "markdown",
   "metadata": {},
   "source": [
    "fin"
   ]
  }
 ],
 "metadata": {
  "kernelspec": {
   "display_name": "Python 3",
   "language": "python",
   "name": "python3"
  },
  "language_info": {
   "codemirror_mode": {
    "name": "ipython",
    "version": 3
   },
   "file_extension": ".py",
   "mimetype": "text/x-python",
   "name": "python",
   "nbconvert_exporter": "python",
   "pygments_lexer": "ipython3",
   "version": "3.7.3"
  },
  "toc": {
   "base_numbering": 1,
   "nav_menu": {},
   "number_sections": true,
   "sideBar": true,
   "skip_h1_title": false,
   "title_cell": "Table of Contents",
   "title_sidebar": "Contents",
   "toc_cell": false,
   "toc_position": {},
   "toc_section_display": true,
   "toc_window_display": false
  }
 },
 "nbformat": 4,
 "nbformat_minor": 2
}
