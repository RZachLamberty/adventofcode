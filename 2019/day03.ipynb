{
 "cells": [
  {
   "cell_type": "markdown",
   "metadata": {},
   "source": [
    "# day 3\n",
    "\n",
    "https://adventofcode.com/2019/day/3"
   ]
  },
  {
   "cell_type": "code",
   "execution_count": null,
   "metadata": {},
   "outputs": [],
   "source": [
    "import logging\n",
    "import logging.config\n",
    "import os\n",
    "\n",
    "import yaml"
   ]
  },
  {
   "cell_type": "code",
   "execution_count": null,
   "metadata": {},
   "outputs": [],
   "source": [
    "with open('../logging.yaml') as fp:\n",
    "    logging_config = yaml.load(fp, Loader=yaml.FullLoader)\n",
    "\n",
    "logging.config.dictConfig(logging_config)"
   ]
  },
  {
   "cell_type": "code",
   "execution_count": null,
   "metadata": {},
   "outputs": [],
   "source": [
    "FNAME = os.path.join('data', 'day03.txt')\n",
    "\n",
    "LOGGER = logging.getLogger('day03')"
   ]
  },
  {
   "cell_type": "markdown",
   "metadata": {},
   "source": [
    "## part 1\n",
    "\n",
    "### problem statement:"
   ]
  },
  {
   "cell_type": "markdown",
   "metadata": {},
   "source": [
    "#### loading data"
   ]
  },
  {
   "cell_type": "code",
   "execution_count": null,
   "metadata": {},
   "outputs": [],
   "source": [
    "def parse_wire_path(s):\n",
    "    wire_1, wire_2 = s.split('\\n')\n",
    "    path_1 = [(dir_num[0], int(dir_num[1:]))\n",
    "              for dir_num in wire_1.split(',')]\n",
    "    path_2 = [(dir_num[0], int(dir_num[1:]))\n",
    "              for dir_num in wire_2.split(',')]\n",
    "    return path_1, path_2"
   ]
  },
  {
   "cell_type": "code",
   "execution_count": null,
   "metadata": {},
   "outputs": [],
   "source": [
    "test_1 = \"\"\"R8,U5,L5,D3\n",
    "U7,R6,D4,L4\"\"\"\n",
    "\n",
    "test_2 = \"\"\"R75,D30,R83,U83,L12,D49,R71,U7,L72\n",
    "U62,R66,U55,R34,D71,R55,D58,R83\"\"\"\n",
    "\n",
    "test_3 = \"\"\"R98,U47,R26,D63,R33,U87,L62,D20,R33,U53,R51\n",
    "U98,R91,D20,R16,D67,R40,U7,R15,U6,R7\"\"\""
   ]
  },
  {
   "cell_type": "code",
   "execution_count": null,
   "metadata": {},
   "outputs": [],
   "source": [
    "def load_data(fname=FNAME):\n",
    "    with open(fname) as fp:\n",
    "        return fp.read().strip()"
   ]
  },
  {
   "cell_type": "markdown",
   "metadata": {},
   "source": [
    "#### function def"
   ]
  },
  {
   "cell_type": "code",
   "execution_count": null,
   "metadata": {},
   "outputs": [],
   "source": [
    "def visited(path):\n",
    "    seen = set()\n",
    "    i = j = 0\n",
    "    \n",
    "    for (d, num_steps) in path:\n",
    "        for step in range(num_steps):\n",
    "            if d == 'R':\n",
    "                i += 1\n",
    "            elif d == 'L':\n",
    "                i -= 1\n",
    "            elif d == 'U':\n",
    "                j += 1\n",
    "            elif d == 'D':\n",
    "                j -= 1\n",
    "            seen.add((i, j))\n",
    "    return seen"
   ]
  },
  {
   "cell_type": "code",
   "execution_count": null,
   "metadata": {},
   "outputs": [],
   "source": [
    "def q_1(s):\n",
    "    path_1, path_2 = parse_wire_path(s)\n",
    "    \n",
    "    seen_1 = visited(path_1)\n",
    "    seen_2 = visited(path_2)\n",
    "    \n",
    "    intersections = seen_1.intersection(seen_2)\n",
    "    \n",
    "    return min((abs(i) + abs(j))\n",
    "               for (i, j) in intersections)"
   ]
  },
  {
   "cell_type": "markdown",
   "metadata": {},
   "source": [
    "#### tests"
   ]
  },
  {
   "cell_type": "code",
   "execution_count": null,
   "metadata": {},
   "outputs": [],
   "source": [
    "def test_q_1():\n",
    "    LOGGER.setLevel(logging.DEBUG)\n",
    "    assert q_1(test_1) == 6\n",
    "    assert q_1(test_2) == 159\n",
    "    assert q_1(test_3) == 135\n",
    "    LOGGER.setLevel(logging.INFO)"
   ]
  },
  {
   "cell_type": "code",
   "execution_count": null,
   "metadata": {},
   "outputs": [],
   "source": [
    "test_q_1()"
   ]
  },
  {
   "cell_type": "markdown",
   "metadata": {},
   "source": [
    "#### answer"
   ]
  },
  {
   "cell_type": "code",
   "execution_count": null,
   "metadata": {},
   "outputs": [],
   "source": [
    "q_1(load_data())"
   ]
  },
  {
   "cell_type": "markdown",
   "metadata": {},
   "source": [
    "## part 2\n",
    "\n",
    "### problem statement:"
   ]
  },
  {
   "cell_type": "markdown",
   "metadata": {},
   "source": [
    "#### function def"
   ]
  },
  {
   "cell_type": "code",
   "execution_count": null,
   "metadata": {},
   "outputs": [],
   "source": [
    "def visited(path):\n",
    "    seen = {}\n",
    "    i = j = total_steps = 0\n",
    "    \n",
    "    for (d, num_steps) in path:\n",
    "        for step in range(num_steps):\n",
    "            total_steps += 1\n",
    "            \n",
    "            if d == 'R':\n",
    "                i += 1\n",
    "            elif d == 'L':\n",
    "                i -= 1\n",
    "            elif d == 'U':\n",
    "                j += 1\n",
    "            elif d == 'D':\n",
    "                j -= 1\n",
    "            \n",
    "            if (i, j) not in seen:\n",
    "                seen[i, j] = total_steps\n",
    "    return seen"
   ]
  },
  {
   "cell_type": "code",
   "execution_count": null,
   "metadata": {},
   "outputs": [],
   "source": [
    "def q_2(s):\n",
    "    path_1, path_2 = parse_wire_path(s)\n",
    "    \n",
    "    seen_1 = visited(path_1)\n",
    "    seen_2 = visited(path_2)\n",
    "    \n",
    "    intersections = set(seen_1.keys()).intersection(seen_2.keys())\n",
    "    \n",
    "    return min((seen_1[i, j] + seen_2[i, j])\n",
    "               for (i, j) in intersections)"
   ]
  },
  {
   "cell_type": "markdown",
   "metadata": {},
   "source": [
    "#### tests"
   ]
  },
  {
   "cell_type": "code",
   "execution_count": null,
   "metadata": {},
   "outputs": [],
   "source": [
    "def test_q_2():\n",
    "    LOGGER.setLevel(logging.DEBUG)\n",
    "    assert q_2(test_1) == 30\n",
    "    assert q_2(test_2) == 610\n",
    "    assert q_2(test_3) == 410\n",
    "    LOGGER.setLevel(logging.INFO)"
   ]
  },
  {
   "cell_type": "code",
   "execution_count": null,
   "metadata": {
    "scrolled": true
   },
   "outputs": [],
   "source": [
    "test_q_2()"
   ]
  },
  {
   "cell_type": "markdown",
   "metadata": {},
   "source": [
    "#### answer"
   ]
  },
  {
   "cell_type": "code",
   "execution_count": null,
   "metadata": {
    "scrolled": true
   },
   "outputs": [],
   "source": [
    "q_2(load_data())"
   ]
  },
  {
   "cell_type": "markdown",
   "metadata": {},
   "source": [
    "fin"
   ]
  }
 ],
 "metadata": {
  "kernelspec": {
   "display_name": "Python 3",
   "language": "python",
   "name": "python3"
  },
  "language_info": {
   "codemirror_mode": {
    "name": "ipython",
    "version": 3
   },
   "file_extension": ".py",
   "mimetype": "text/x-python",
   "name": "python",
   "nbconvert_exporter": "python",
   "pygments_lexer": "ipython3",
   "version": "3.7.3"
  },
  "toc": {
   "base_numbering": 1,
   "nav_menu": {},
   "number_sections": true,
   "sideBar": true,
   "skip_h1_title": false,
   "title_cell": "Table of Contents",
   "title_sidebar": "Contents",
   "toc_cell": false,
   "toc_position": {},
   "toc_section_display": true,
   "toc_window_display": false
  }
 },
 "nbformat": 4,
 "nbformat_minor": 2
}
