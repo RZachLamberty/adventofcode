{
 "cells": [
  {
   "cell_type": "markdown",
   "metadata": {},
   "source": [
    "# day 15\n",
    "\n",
    "https://adventofcode.com/2019/day/15"
   ]
  },
  {
   "cell_type": "code",
   "execution_count": null,
   "metadata": {},
   "outputs": [],
   "source": [
    "import logging\n",
    "import logging.config\n",
    "import os\n",
    "\n",
    "import yaml"
   ]
  },
  {
   "cell_type": "code",
   "execution_count": null,
   "metadata": {},
   "outputs": [],
   "source": [
    "with open('../logging.yaml') as fp:\n",
    "    logging_config = yaml.load(fp, Loader=yaml.FullLoader)\n",
    "\n",
    "logging.config.dictConfig(logging_config)"
   ]
  },
  {
   "cell_type": "code",
   "execution_count": null,
   "metadata": {},
   "outputs": [],
   "source": [
    "FNAME = os.path.join('data', 'day15.txt')\n",
    "\n",
    "LOGGER = logging.getLogger('day15')"
   ]
  },
  {
   "cell_type": "markdown",
   "metadata": {},
   "source": [
    "## part 1\n",
    "\n",
    "### problem statement:"
   ]
  },
  {
   "cell_type": "markdown",
   "metadata": {},
   "source": [
    "#### loading data"
   ]
  },
  {
   "cell_type": "code",
   "execution_count": null,
   "metadata": {},
   "outputs": [],
   "source": [
    "test_data = []"
   ]
  },
  {
   "cell_type": "code",
   "execution_count": null,
   "metadata": {},
   "outputs": [],
   "source": [
    "def load_data(fname=FNAME):\n",
    "    with open(fname) as fp:\n",
    "        return [int(_) for _ in fp.read().strip().split(',')]"
   ]
  },
  {
   "cell_type": "markdown",
   "metadata": {},
   "source": [
    "#### function def"
   ]
  },
  {
   "cell_type": "code",
   "execution_count": null,
   "metadata": {},
   "outputs": [],
   "source": [
    "NORTH, SOUTH, WEST, EAST = range(1, 5)\n",
    "DELTA = {NORTH: 1j,\n",
    "         SOUTH: -1j,\n",
    "         WEST: -1,\n",
    "         EAST: 1, }\n",
    "\n",
    "OPPO_DIRS = [[NORTH, SOUTH],\n",
    "             [SOUTH, NORTH],\n",
    "             [EAST, WEST],\n",
    "             [WEST, EAST]]\n",
    "\n",
    "HIT_WALL, STEPPED, AT_OXY = range(3)"
   ]
  },
  {
   "cell_type": "code",
   "execution_count": null,
   "metadata": {},
   "outputs": [],
   "source": [
    "import aoc2019 as A"
   ]
  },
  {
   "cell_type": "code",
   "execution_count": null,
   "metadata": {},
   "outputs": [],
   "source": [
    "from copy import deepcopy\n",
    "\n",
    "def q_1(data):\n",
    "    shell = {tuple(): A.IntcodeComputer(data, inputs=[])}\n",
    "    seen_locs = set()\n",
    "    while True:\n",
    "        # for each position in the shell, take a step\n",
    "        # then walk the robot through each path (needed\n",
    "        # because we can't deep-copy the intcode prog)\n",
    "        new_shell = {}\n",
    "        for (step_sequence, ic) in shell.items():\n",
    "            for step_dir in [NORTH, SOUTH, EAST, WEST]:\n",
    "                # don't go backwards\n",
    "                if step_sequence and (step_sequence[-1], step_dir) in OPPO_DIRS:\n",
    "                    continue\n",
    "                new_step_seq = step_sequence + (step_dir,)\n",
    "                \n",
    "                # convert this step sequence into a place on the grid\n",
    "                # and if we've already been there, this is not the fastest\n",
    "                # path so skip it\n",
    "                curr_loc = sum(DELTA[_] for _ in new_step_seq)\n",
    "                if curr_loc in seen_locs:\n",
    "                    continue\n",
    "                else:\n",
    "                    seen_locs.add(curr_loc)\n",
    "                \n",
    "                ic_now = A.IntcodeComputer(intcode=ic.intcode,\n",
    "                                           inputs=ic.inputs + [step_dir],\n",
    "                                           inst_ptr=ic.inst_ptr,\n",
    "                                           relative_base=ic.relative_base)\n",
    "                curr_step = ic_now.get_output()\n",
    "                if curr_step == AT_OXY:\n",
    "                    return new_step_seq, seen_locs, curr_loc\n",
    "                elif curr_step == STEPPED:\n",
    "                    new_shell[new_step_seq] = ic_now\n",
    "                else:\n",
    "                    continue\n",
    "        LOGGER.debug(new_shell)\n",
    "        shell = new_shell"
   ]
  },
  {
   "cell_type": "markdown",
   "metadata": {},
   "source": [
    "#### tests"
   ]
  },
  {
   "cell_type": "code",
   "execution_count": null,
   "metadata": {},
   "outputs": [],
   "source": [
    "# def test_q_1():\n",
    "#     LOGGER.setLevel(logging.DEBUG)\n",
    "#     assert q_1(test_data) == True\n",
    "#     LOGGER.setLevel(logging.INFO)"
   ]
  },
  {
   "cell_type": "code",
   "execution_count": null,
   "metadata": {},
   "outputs": [],
   "source": [
    "# test_q_1()"
   ]
  },
  {
   "cell_type": "markdown",
   "metadata": {},
   "source": [
    "#### answer"
   ]
  },
  {
   "cell_type": "code",
   "execution_count": null,
   "metadata": {},
   "outputs": [],
   "source": [
    "new_step_seq, seen_locs, oxy_loc = q_1(load_data())\n",
    "len(new_step_seq)"
   ]
  },
  {
   "cell_type": "markdown",
   "metadata": {},
   "source": [
    "## part 2\n",
    "\n",
    "### problem statement:"
   ]
  },
  {
   "cell_type": "markdown",
   "metadata": {},
   "source": [
    "#### function def"
   ]
  },
  {
   "cell_type": "code",
   "execution_count": null,
   "metadata": {},
   "outputs": [],
   "source": [
    "import networkx as nx\n",
    "\n",
    "def q_2(data):\n",
    "    g = nx.Graph()\n",
    "    shell = {tuple(): A.IntcodeComputer(data, inputs=[])}\n",
    "    seen_locs = set()\n",
    "    while shell:\n",
    "        # for each position in the shell, take a step\n",
    "        # then walk the robot through each path (needed\n",
    "        # because we can't deep-copy the intcode prog)\n",
    "        new_shell = {}\n",
    "        for (step_sequence, ic) in shell.items():\n",
    "            for step_dir in [NORTH, SOUTH, EAST, WEST]:\n",
    "                # don't go backwards\n",
    "                if step_sequence and (step_sequence[-1], step_dir) in OPPO_DIRS:\n",
    "                    continue\n",
    "                new_step_seq = step_sequence + (step_dir,)\n",
    "                \n",
    "                ic_now = A.IntcodeComputer(intcode=ic.intcode,\n",
    "                                           inputs=ic.inputs + [step_dir],\n",
    "                                           inst_ptr=ic.inst_ptr,\n",
    "                                           relative_base=ic.relative_base)\n",
    "                curr_step = ic_now.get_output()\n",
    "                \n",
    "                if curr_step == HIT_WALL:\n",
    "                    continue\n",
    "                else:\n",
    "                    prev_loc = sum(DELTA[_] for _ in step_sequence)\n",
    "                    curr_loc = sum(DELTA[_] for _ in new_step_seq)\n",
    "                    g.add_edge(prev_loc, curr_loc)\n",
    "                    g.nodes[curr_loc]['at_oxy'] = curr_step == AT_OXY\n",
    "                    \n",
    "                    # add the new loc to the shell provided we haven't seen it before\n",
    "                    if curr_loc not in seen_locs:\n",
    "                        new_shell[new_step_seq] = ic_now\n",
    "                \n",
    "                seen_locs.add(curr_loc)\n",
    "        LOGGER.debug(new_shell)\n",
    "        shell = new_shell\n",
    "        \n",
    "    return max(nx.shortest_path_length(g, oxy_loc).values())"
   ]
  },
  {
   "cell_type": "markdown",
   "metadata": {},
   "source": [
    "#### tests"
   ]
  },
  {
   "cell_type": "code",
   "execution_count": null,
   "metadata": {},
   "outputs": [],
   "source": [
    "# def test_q_2():\n",
    "#     LOGGER.setLevel(logging.DEBUG)\n",
    "#     assert q_2(test_data) == True\n",
    "#     LOGGER.setLevel(logging.INFO)"
   ]
  },
  {
   "cell_type": "code",
   "execution_count": null,
   "metadata": {
    "scrolled": true
   },
   "outputs": [],
   "source": [
    "# test_q_2()"
   ]
  },
  {
   "cell_type": "markdown",
   "metadata": {},
   "source": [
    "#### answer"
   ]
  },
  {
   "cell_type": "code",
   "execution_count": null,
   "metadata": {
    "scrolled": true
   },
   "outputs": [],
   "source": [
    "LOGGER.setLevel(logging.INFO)\n",
    "q_2(load_data())"
   ]
  },
  {
   "cell_type": "markdown",
   "metadata": {},
   "source": [
    "fin"
   ]
  }
 ],
 "metadata": {
  "kernelspec": {
   "display_name": "Python 3",
   "language": "python",
   "name": "python3"
  },
  "language_info": {
   "codemirror_mode": {
    "name": "ipython",
    "version": 3
   },
   "file_extension": ".py",
   "mimetype": "text/x-python",
   "name": "python",
   "nbconvert_exporter": "python",
   "pygments_lexer": "ipython3",
   "version": "3.7.3"
  },
  "toc": {
   "base_numbering": 1,
   "nav_menu": {},
   "number_sections": true,
   "sideBar": true,
   "skip_h1_title": false,
   "title_cell": "Table of Contents",
   "title_sidebar": "Contents",
   "toc_cell": false,
   "toc_position": {},
   "toc_section_display": true,
   "toc_window_display": false
  }
 },
 "nbformat": 4,
 "nbformat_minor": 2
}
