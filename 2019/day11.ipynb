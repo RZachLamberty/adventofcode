{
 "cells": [
  {
   "cell_type": "markdown",
   "metadata": {},
   "source": [
    "# day 11\n",
    "\n",
    "https://adventofcode.com/2019/day/11"
   ]
  },
  {
   "cell_type": "code",
   "execution_count": null,
   "metadata": {},
   "outputs": [],
   "source": [
    "import logging\n",
    "import logging.config\n",
    "import os\n",
    "\n",
    "import yaml"
   ]
  },
  {
   "cell_type": "code",
   "execution_count": null,
   "metadata": {},
   "outputs": [],
   "source": [
    "with open('../logging.yaml') as fp:\n",
    "    logging_config = yaml.load(fp, Loader=yaml.FullLoader)\n",
    "\n",
    "logging.config.dictConfig(logging_config)"
   ]
  },
  {
   "cell_type": "code",
   "execution_count": null,
   "metadata": {},
   "outputs": [],
   "source": [
    "FNAME = os.path.join('data', 'day11.txt')\n",
    "\n",
    "LOGGER = logging.getLogger('day11')"
   ]
  },
  {
   "cell_type": "markdown",
   "metadata": {},
   "source": [
    "## part 1\n",
    "\n",
    "### problem statement:"
   ]
  },
  {
   "cell_type": "markdown",
   "metadata": {},
   "source": [
    "#### loading data"
   ]
  },
  {
   "cell_type": "code",
   "execution_count": null,
   "metadata": {},
   "outputs": [],
   "source": [
    "def load_data(fname=FNAME):\n",
    "    with open(fname) as fp:\n",
    "        return [int(_) for _ in fp.read().strip().split(',')]"
   ]
  },
  {
   "cell_type": "markdown",
   "metadata": {},
   "source": [
    "#### function def"
   ]
  },
  {
   "cell_type": "code",
   "execution_count": null,
   "metadata": {},
   "outputs": [],
   "source": [
    "import aoc2019 as A\n",
    "import importlib\n",
    "importlib.reload(A)"
   ]
  },
  {
   "cell_type": "code",
   "execution_count": null,
   "metadata": {},
   "outputs": [],
   "source": [
    "UP = 'UP'\n",
    "DOWN = 'DOWN'\n",
    "LEFT = 'LEFT'\n",
    "RIGHT = 'RIGHT'\n",
    "\n",
    "BLACK = 0\n",
    "WHITE = 1\n",
    "COLOR_STR = {BLACK: 'BLACK', WHITE: 'WHITE'}\n",
    "\n",
    "TURN_LEFT = 0\n",
    "TURN_RIGHT = 1\n",
    "TURN_STR = {TURN_LEFT: 'TURN_LEFT', TURN_RIGHT: 'TURN_RIGHT'}\n",
    "\n",
    "DELTA= {UP: 1j,\n",
    "        DOWN: -1j,\n",
    "        LEFT: -1,\n",
    "        RIGHT: 1, }\n",
    "TURN_LIST = [UP, RIGHT, DOWN, LEFT]"
   ]
  },
  {
   "cell_type": "code",
   "execution_count": null,
   "metadata": {},
   "outputs": [],
   "source": [
    "from collections import defaultdict\n",
    "\n",
    "class HullPainter:\n",
    "    def __init__(self, data):\n",
    "        self.ic = A.IntcodeComputer(data, inputs=[])\n",
    "        self.hull = defaultdict(int)  # default is BLACK\n",
    "        self.loc = 0\n",
    "        self.facing_dir = UP\n",
    "    \n",
    "    def paint(self, c):\n",
    "        self.hull[self.loc] = c\n",
    "\n",
    "    def turn(self, turn_dir):\n",
    "        LOGGER.debug(f'facing {self.facing_dir} and turning {TURN_STR[turn_dir]}')\n",
    "        i = TURN_LIST.index(self.facing_dir)\n",
    "        i += (1 if turn_dir == TURN_RIGHT else -1)\n",
    "        i %= len(TURN_LIST)\n",
    "        self.facing_dir = TURN_LIST[i]\n",
    "        LOGGER.debug(f'now facing {self.facing_dir}')\n",
    "        \n",
    "    def step(self):\n",
    "        LOGGER.debug(f'stepping one unit in direction {self.facing_dir}')\n",
    "        LOGGER.debug(f'{self.loc} + {self.facing_dir}')\n",
    "        self.loc += DELTA[self.facing_dir]\n",
    "        LOGGER.debug(f' = {self.loc}')\n",
    "    \n",
    "    def run(self):\n",
    "        while True:\n",
    "            try:\n",
    "                LOGGER.info(f'{self.loc}')\n",
    "                # \"read\" the hull and provide it as an input\n",
    "                LOGGER.debug(f'reading paint color {self.hull[self.loc]} at {self.loc}')\n",
    "                self.ic.inputs.append(self.hull[self.loc])\n",
    "\n",
    "                # paint the hull\n",
    "                new_color = self.ic.get_output()\n",
    "                LOGGER.debug(f'painting this loc {new_color}')\n",
    "                self.paint(new_color)\n",
    "\n",
    "                # turn and step\n",
    "                turn_dir = self.ic.get_output()\n",
    "                LOGGER.debug(f'turning direction {turn_dir}')\n",
    "                self.turn(turn_dir)\n",
    "                self.step()\n",
    "            except StopIteration:\n",
    "                return"
   ]
  },
  {
   "cell_type": "code",
   "execution_count": null,
   "metadata": {},
   "outputs": [],
   "source": [
    "def q_1(data):\n",
    "    hp = HullPainter(data)\n",
    "    hp.run()\n",
    "    \n",
    "    # at this point the number of places that have been\n",
    "    # painted is the number of keys in hp.hull minus 1\n",
    "    return len(hp.hull) - 1"
   ]
  },
  {
   "cell_type": "markdown",
   "metadata": {},
   "source": [
    "#### tests"
   ]
  },
  {
   "cell_type": "code",
   "execution_count": null,
   "metadata": {},
   "outputs": [],
   "source": [
    "# def test_q_1():\n",
    "#     LOGGER.setLevel(logging.DEBUG)\n",
    "#     assert q_1(test_data) == True\n",
    "#     LOGGER.setLevel(logging.INFO)"
   ]
  },
  {
   "cell_type": "code",
   "execution_count": null,
   "metadata": {},
   "outputs": [],
   "source": [
    "# test_q_1()"
   ]
  },
  {
   "cell_type": "markdown",
   "metadata": {},
   "source": [
    "#### answer"
   ]
  },
  {
   "cell_type": "code",
   "execution_count": null,
   "metadata": {
    "scrolled": true
   },
   "outputs": [],
   "source": [
    "LOGGER.setLevel(logging.WARN)\n",
    "q_1(load_data())"
   ]
  },
  {
   "cell_type": "markdown",
   "metadata": {},
   "source": [
    "## part 2\n",
    "\n",
    "### problem statement:"
   ]
  },
  {
   "cell_type": "markdown",
   "metadata": {},
   "source": [
    "#### function def"
   ]
  },
  {
   "cell_type": "code",
   "execution_count": null,
   "metadata": {},
   "outputs": [],
   "source": [
    "def q_2(data):\n",
    "    hp = HullPainter(data)\n",
    "    \n",
    "    # paint the origin white\n",
    "    hp.paint(WHITE)\n",
    "    hp.run()\n",
    "    \n",
    "    # the output must be printed\n",
    "    return hp"
   ]
  },
  {
   "cell_type": "markdown",
   "metadata": {},
   "source": [
    "#### tests"
   ]
  },
  {
   "cell_type": "code",
   "execution_count": null,
   "metadata": {},
   "outputs": [],
   "source": [
    "# def test_q_2():\n",
    "#     LOGGER.setLevel(logging.DEBUG)\n",
    "#     assert q_2(test_data) == True\n",
    "#     LOGGER.setLevel(logging.INFO)"
   ]
  },
  {
   "cell_type": "code",
   "execution_count": null,
   "metadata": {
    "scrolled": true
   },
   "outputs": [],
   "source": [
    "# test_q_2()"
   ]
  },
  {
   "cell_type": "markdown",
   "metadata": {},
   "source": [
    "#### answer"
   ]
  },
  {
   "cell_type": "code",
   "execution_count": null,
   "metadata": {
    "scrolled": true
   },
   "outputs": [],
   "source": [
    "hp = q_2(load_data())"
   ]
  },
  {
   "cell_type": "code",
   "execution_count": null,
   "metadata": {},
   "outputs": [],
   "source": [
    "for k in hp.hull:\n",
    "    break"
   ]
  },
  {
   "cell_type": "code",
   "execution_count": null,
   "metadata": {},
   "outputs": [],
   "source": [
    "# find x, y bounds\n",
    "min_x = int(min(k.real for k in hp.hull))\n",
    "max_x = int(max(k.real for k in hp.hull))\n",
    "\n",
    "min_y = int(min(k.imag for k in hp.hull))\n",
    "max_y = int(max(k.imag for k in hp.hull))"
   ]
  },
  {
   "cell_type": "code",
   "execution_count": null,
   "metadata": {},
   "outputs": [],
   "source": [
    "s = ''\n",
    "for j in range(max_y, min_y - 1, -1):\n",
    "    for i in range(min_x, max_x + 1):\n",
    "        s += ('#' if hp.hull[i + 1j * j] == WHITE else ' ')\n",
    "    s += '\\n'\n",
    "print(s)"
   ]
  },
  {
   "cell_type": "markdown",
   "metadata": {},
   "source": [
    "fin"
   ]
  }
 ],
 "metadata": {
  "kernelspec": {
   "display_name": "Python 3",
   "language": "python",
   "name": "python3"
  },
  "language_info": {
   "codemirror_mode": {
    "name": "ipython",
    "version": 3
   },
   "file_extension": ".py",
   "mimetype": "text/x-python",
   "name": "python",
   "nbconvert_exporter": "python",
   "pygments_lexer": "ipython3",
   "version": "3.7.3"
  },
  "toc": {
   "base_numbering": 1,
   "nav_menu": {},
   "number_sections": true,
   "sideBar": true,
   "skip_h1_title": false,
   "title_cell": "Table of Contents",
   "title_sidebar": "Contents",
   "toc_cell": false,
   "toc_position": {},
   "toc_section_display": true,
   "toc_window_display": false
  }
 },
 "nbformat": 4,
 "nbformat_minor": 2
}
