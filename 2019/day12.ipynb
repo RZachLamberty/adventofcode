{
 "cells": [
  {
   "cell_type": "markdown",
   "metadata": {},
   "source": [
    "# day 12\n",
    "\n",
    "https://adventofcode.com/2019/day/12"
   ]
  },
  {
   "cell_type": "code",
   "execution_count": null,
   "metadata": {},
   "outputs": [],
   "source": [
    "import logging\n",
    "import logging.config\n",
    "import os\n",
    "\n",
    "import yaml"
   ]
  },
  {
   "cell_type": "code",
   "execution_count": null,
   "metadata": {},
   "outputs": [],
   "source": [
    "with open('../logging.yaml') as fp:\n",
    "    logging_config = yaml.load(fp, Loader=yaml.FullLoader)\n",
    "\n",
    "logging.config.dictConfig(logging_config)"
   ]
  },
  {
   "cell_type": "code",
   "execution_count": null,
   "metadata": {},
   "outputs": [],
   "source": [
    "FNAME = os.path.join('data', 'day12.txt')\n",
    "\n",
    "LOGGER = logging.getLogger('day12')"
   ]
  },
  {
   "cell_type": "markdown",
   "metadata": {},
   "source": [
    "## part 1\n",
    "\n",
    "### problem statement:"
   ]
  },
  {
   "cell_type": "markdown",
   "metadata": {},
   "source": [
    "#### loading data"
   ]
  },
  {
   "cell_type": "code",
   "execution_count": null,
   "metadata": {},
   "outputs": [],
   "source": [
    "logging.getLogger('matplotlib').setLevel(logging.ERROR)\n",
    "\n",
    "import re\n",
    "\n",
    "import numpy as np\n",
    "import pandas as pd"
   ]
  },
  {
   "cell_type": "code",
   "execution_count": null,
   "metadata": {},
   "outputs": [],
   "source": [
    "def parse_input_str(s):\n",
    "    return pd.DataFrame(\n",
    "        np.array([[float(elem)\n",
    "                   for elem in re.match('<x=([\\-\\d]+), y=([\\-\\d]+), z=([\\-\\d]+)>', row).groups()]\n",
    "                  for row in s.split('\\n')]),\n",
    "        columns=['x', 'y', 'z'])"
   ]
  },
  {
   "cell_type": "code",
   "execution_count": null,
   "metadata": {},
   "outputs": [],
   "source": [
    "test_0 = \"\"\"<x=-1, y=0, z=2>\n",
    "<x=2, y=-10, z=-7>\n",
    "<x=4, y=-8, z=8>\n",
    "<x=3, y=5, z=-1>\"\"\"\n",
    "\n",
    "test_1 = \"\"\"<x=-8, y=-10, z=0>\n",
    "<x=5, y=5, z=10>\n",
    "<x=2, y=-7, z=3>\n",
    "<x=9, y=-8, z=-3>\"\"\""
   ]
  },
  {
   "cell_type": "code",
   "execution_count": null,
   "metadata": {},
   "outputs": [],
   "source": [
    "s = \"\"\"<x=10, y=15, z=7>\n",
    "<x=15, y=10, z=0>\n",
    "<x=20, y=12, z=3>\n",
    "<x=0, y=-3, z=13>\"\"\"\n",
    "\n",
    "def load_data():\n",
    "    return s"
   ]
  },
  {
   "cell_type": "code",
   "execution_count": null,
   "metadata": {},
   "outputs": [],
   "source": [
    "print(load_data())"
   ]
  },
  {
   "cell_type": "markdown",
   "metadata": {},
   "source": [
    "#### function def"
   ]
  },
  {
   "cell_type": "code",
   "execution_count": null,
   "metadata": {},
   "outputs": [],
   "source": [
    "def q_1(position_str, n_steps=1000, log_freq=100):\n",
    "    position = parse_input_str(position_str)\n",
    "    velocity = pd.DataFrame(np.zeros(position.shape),\n",
    "                            columns=position.columns)\n",
    "    \n",
    "    N_MOONS = position.shape[0]\n",
    "    for time_step in range(n_steps):\n",
    "        #if time_step % log_freq == 0:\n",
    "        #    LOGGER.debug(f'position = {position}')\n",
    "        #    LOGGER.debug(f'velocity = {velocity}')\n",
    "            \n",
    "        # calculate gravity and update velocty\n",
    "        for i in range(N_MOONS - 1):\n",
    "            g_i = position.iloc[i + 1:] - position.iloc[i]\n",
    "            g_i = (g_i / g_i.abs()).fillna(0)\n",
    "            velocity.iloc[i] += g_i.sum(axis=0)\n",
    "            velocity.iloc[i + 1:] -= g_i\n",
    "        \n",
    "        # update positions\n",
    "        position += velocity\n",
    "    \n",
    "    # calculate energy\n",
    "    pot = position.abs().sum(axis=1)\n",
    "    kin = velocity.abs().sum(axis=1)\n",
    "    total_energy = (pot * kin).sum()\n",
    "    #LOGGER.debug(f'pot = {pot}')\n",
    "    #LOGGER.debug(f'kin = {kin}')\n",
    "    return total_energy"
   ]
  },
  {
   "cell_type": "markdown",
   "metadata": {},
   "source": [
    "#### tests"
   ]
  },
  {
   "cell_type": "code",
   "execution_count": null,
   "metadata": {},
   "outputs": [],
   "source": [
    "def test_q_1():\n",
    "    LOGGER.setLevel(logging.DEBUG)\n",
    "    assert q_1(test_0, 10, 1) == 179\n",
    "    assert q_1(test_1, 100, 10) == 1940\n",
    "    LOGGER.setLevel(logging.INFO)"
   ]
  },
  {
   "cell_type": "code",
   "execution_count": null,
   "metadata": {},
   "outputs": [],
   "source": [
    "test_q_1()"
   ]
  },
  {
   "cell_type": "markdown",
   "metadata": {},
   "source": [
    "#### answer"
   ]
  },
  {
   "cell_type": "code",
   "execution_count": null,
   "metadata": {},
   "outputs": [],
   "source": [
    "q_1(load_data(), 1000)"
   ]
  },
  {
   "cell_type": "markdown",
   "metadata": {},
   "source": [
    "## part 2\n",
    "\n",
    "### problem statement:"
   ]
  },
  {
   "cell_type": "markdown",
   "metadata": {},
   "source": [
    "#### function def"
   ]
  },
  {
   "cell_type": "markdown",
   "metadata": {},
   "source": [
    "dropping pandas stuff (way too slow) and refactoring a bit of an answer posted to the subreddit"
   ]
  },
  {
   "cell_type": "code",
   "execution_count": null,
   "metadata": {},
   "outputs": [],
   "source": [
    "import math\n",
    "\n",
    "MP = parse_input_str(load_data()).to_dict(orient='records')\n",
    "MV = [{c: 0 for c in 'xyz'} for row in MP]"
   ]
  },
  {
   "cell_type": "code",
   "execution_count": null,
   "metadata": {},
   "outputs": [],
   "source": [
    "def tick():\n",
    "    for i in range(len(MP)):\n",
    "        for j in range(len(MP)):\n",
    "            for k in MP[i]:\n",
    "                if MP[i][k] < MP[j][k]:\n",
    "                    MV[i][k] += 1\n",
    "                if MP[i][k] > MP[j][k]:\n",
    "                    MV[i][k] -= 1\n",
    "    for i in range(len(MP)):\n",
    "        for k in MP[i]:\n",
    "            MP[i][k] += MV[i][k]"
   ]
  },
  {
   "cell_type": "code",
   "execution_count": null,
   "metadata": {},
   "outputs": [],
   "source": [
    "SEEN = {k: {} for k in MP[0]}\n",
    "CNT = {k: 0 for k in MP[0]}\n",
    "\n",
    "t = 0\n",
    "p2 = 1\n",
    "periods_seen = 0\n",
    "\n",
    "while periods_seen < 3:\n",
    "    tick()\n",
    "    KEY = {k: [] for k in MP[0]}\n",
    "    for i in range(len(MP)):\n",
    "        for k in MP[i]:\n",
    "            KEY[k].append(MP[i][k])\n",
    "            KEY[k].append(MV[i][k])\n",
    "    KEY = {k: tuple(v) for k,v in KEY.items()}\n",
    "    for k in KEY:\n",
    "        if KEY[k] in SEEN[k]:\n",
    "            if CNT[k] == 0:\n",
    "                assert SEEN[k][KEY[k]] == 0\n",
    "                # Say X repeats after tX, Y repeats after tY\n",
    "                # Then (X,Y) will repeat after lcm(tX,tY) = tX*tY/gcd(tX,tY)\n",
    "                # lcm(A,B,C) = lcm(lcm(A,B),C)\n",
    "                p2 = p2 * t // math.gcd(p2, t)\n",
    "                periods_seen += 1\n",
    "                if periods_seen == 3:\n",
    "                    print(p2)\n",
    "                    break\n",
    "            CNT[k] += 1\n",
    "        SEEN[k][KEY[k]] = t\n",
    "    t += 1"
   ]
  },
  {
   "cell_type": "markdown",
   "metadata": {},
   "source": [
    "fin"
   ]
  },
  {
   "cell_type": "code",
   "execution_count": null,
   "metadata": {},
   "outputs": [],
   "source": []
  }
 ],
 "metadata": {
  "kernelspec": {
   "display_name": "Python 3",
   "language": "python",
   "name": "python3"
  },
  "language_info": {
   "codemirror_mode": {
    "name": "ipython",
    "version": 3
   },
   "file_extension": ".py",
   "mimetype": "text/x-python",
   "name": "python",
   "nbconvert_exporter": "python",
   "pygments_lexer": "ipython3",
   "version": "3.7.3"
  },
  "toc": {
   "base_numbering": 1,
   "nav_menu": {},
   "number_sections": true,
   "sideBar": true,
   "skip_h1_title": false,
   "title_cell": "Table of Contents",
   "title_sidebar": "Contents",
   "toc_cell": false,
   "toc_position": {},
   "toc_section_display": true,
   "toc_window_display": false
  }
 },
 "nbformat": 4,
 "nbformat_minor": 2
}
