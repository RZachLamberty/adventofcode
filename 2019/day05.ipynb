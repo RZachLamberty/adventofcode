{
 "cells": [
  {
   "cell_type": "markdown",
   "metadata": {},
   "source": [
    "# day 5\n",
    "\n",
    "https://adventofcode.com/2019/day/5"
   ]
  },
  {
   "cell_type": "code",
   "execution_count": null,
   "metadata": {},
   "outputs": [],
   "source": [
    "import os\n",
    "\n",
    "import eri.logging as logging"
   ]
  },
  {
   "cell_type": "code",
   "execution_count": null,
   "metadata": {},
   "outputs": [],
   "source": [
    "FNAME = os.path.join('data', 'day05.txt')\n",
    "\n",
    "LOGGER = logging.getLogger('day05')\n",
    "logging.configure()"
   ]
  },
  {
   "cell_type": "markdown",
   "metadata": {},
   "source": [
    "## part 1\n",
    "\n",
    "### problem statement:"
   ]
  },
  {
   "cell_type": "markdown",
   "metadata": {},
   "source": [
    "#### loading data"
   ]
  },
  {
   "cell_type": "code",
   "execution_count": null,
   "metadata": {},
   "outputs": [],
   "source": [
    "test_data = [1002, 4, 3, 4, 33]"
   ]
  },
  {
   "cell_type": "code",
   "execution_count": null,
   "metadata": {},
   "outputs": [],
   "source": [
    "def load_data(fname=FNAME):\n",
    "    with open(fname) as fp:\n",
    "        return [int(_) for _ in fp.read().strip().split(',')]"
   ]
  },
  {
   "cell_type": "markdown",
   "metadata": {},
   "source": [
    "#### function def"
   ]
  },
  {
   "cell_type": "code",
   "execution_count": null,
   "metadata": {},
   "outputs": [],
   "source": [
    "def parse_opcode(x):\n",
    "    x5 = '{:0>5}'.format(x)\n",
    "    return (int(x5[3:]),\n",
    "            int(x5[2]),\n",
    "            int(x5[1]),\n",
    "            int(x5[0]))\n",
    "#     return (x % 10,\n",
    "#             x // 10_000,\n",
    "#             x // 1_000)"
   ]
  },
  {
   "cell_type": "code",
   "execution_count": null,
   "metadata": {},
   "outputs": [],
   "source": [
    "assert parse_opcode(1002) == (2, 0, 1, 0)"
   ]
  },
  {
   "cell_type": "code",
   "execution_count": null,
   "metadata": {},
   "outputs": [],
   "source": [
    "POSITION = 0\n",
    "IMMEDIATE = 1"
   ]
  },
  {
   "cell_type": "code",
   "execution_count": null,
   "metadata": {},
   "outputs": [],
   "source": [
    "def lookup_with_mode(i, param_mode, data):\n",
    "    # get the value in data\n",
    "    try:\n",
    "        val = data[i]\n",
    "    except IndexError:\n",
    "        return None, None\n",
    "    \n",
    "    try:\n",
    "        x = val if param_mode == IMMEDIATE else data[val]\n",
    "        return val, x\n",
    "    except IndexError:\n",
    "        return val, None"
   ]
  },
  {
   "cell_type": "code",
   "execution_count": null,
   "metadata": {},
   "outputs": [],
   "source": [
    "def intcode_compute(data, inp=1, non_zero_only_on_halt=True):\n",
    "    inst_ptr = 0\n",
    "    while True:\n",
    "        LOGGER.debug(f'data = {data}')\n",
    "        LOGGER.debug(f'inst_ptr = {inst_ptr}')\n",
    "        LOGGER.info(f'data[inst_ptr: inst_ptr + 4] = {data[inst_ptr: inst_ptr + 4]}')\n",
    "        \n",
    "        opcode, param_a, param_b, param_c = parse_opcode(data[inst_ptr])\n",
    "        \n",
    "        if opcode == 99:\n",
    "            return 0\n",
    "        \n",
    "        a_val, a = lookup_with_mode(inst_ptr + 1, param_a, data)\n",
    "        b_val, b = lookup_with_mode(inst_ptr + 2, param_b, data)\n",
    "        c_val, c = lookup_with_mode(inst_ptr + 3, param_c, data)\n",
    "        \n",
    "        LOGGER.debug(f'opcode = {opcode}')\n",
    "        LOGGER.debug(f\"a_val = {a_val}\")\n",
    "        LOGGER.debug(f\"a (in {'immediate' if param_a == IMMEDIATE else 'position'} mode) = {a}\")\n",
    "        LOGGER.debug(f\"b_val = {b_val}\")\n",
    "        LOGGER.debug(f\"b (in {'immediate' if param_b == IMMEDIATE else 'position'} mode) = {b}\")\n",
    "        LOGGER.debug(f\"c_val = {c_val}\")\n",
    "        LOGGER.debug(f\"c (in {'immediate' if param_c == IMMEDIATE else 'position'} mode) = {c}\")\n",
    "        \n",
    "        if opcode == 1:\n",
    "            LOGGER.debug('adding')\n",
    "            data[c_val] = a + b\n",
    "            inst_ptr += 4\n",
    "        elif opcode == 2:\n",
    "            LOGGER.debug('multiplying')\n",
    "            data[c_val] = a * b\n",
    "            inst_ptr += 4\n",
    "        elif opcode == 3:\n",
    "            LOGGER.debug('reading input')\n",
    "            data[a_val] = inp\n",
    "            inst_ptr += 2\n",
    "        elif opcode == 4:\n",
    "            LOGGER.debug('outputting')\n",
    "            output = a\n",
    "            if output != 0:\n",
    "                LOGGER.debug(f'b_val = {b_val}')\n",
    "                # check if the next element is a halt\n",
    "                if non_zero_only_on_halt and (b_val % 100 != 99):\n",
    "                    msg = f'error output = {output}'\n",
    "                    LOGGER.error(msg)\n",
    "                    raise ValueError(msg)\n",
    "                else:\n",
    "                    return output\n",
    "            else:\n",
    "                LOGGER.debug('test passed')\n",
    "            inst_ptr += 2\n",
    "        elif opcode == 5:\n",
    "            LOGGER.debug('jump-if-true (aka non-zero)')\n",
    "            if a != 0:\n",
    "                inst_ptr = b\n",
    "            else:\n",
    "                inst_ptr += 3\n",
    "        elif opcode == 6:\n",
    "            LOGGER.debug('jump-if-false (aka zero)')\n",
    "            if a == 0:\n",
    "                inst_ptr = b\n",
    "            else:\n",
    "                inst_ptr += 3\n",
    "        elif opcode == 7:\n",
    "            LOGGER.debug('less than')\n",
    "            data[c_val] = int(a < b)\n",
    "            inst_ptr += 4\n",
    "        elif opcode == 8:\n",
    "            LOGGER.debug('equal')\n",
    "            data[c_val] = int(a == b)\n",
    "            inst_ptr += 4\n",
    "        else:\n",
    "            raise ValueError(f'opcode = {opcode}')"
   ]
  },
  {
   "cell_type": "code",
   "execution_count": null,
   "metadata": {},
   "outputs": [],
   "source": [
    "intcode_compute([1002, 4, 3, 4, 33])"
   ]
  },
  {
   "cell_type": "code",
   "execution_count": null,
   "metadata": {},
   "outputs": [],
   "source": [
    "def q_1(data):\n",
    "    return intcode_compute(data)"
   ]
  },
  {
   "cell_type": "markdown",
   "metadata": {},
   "source": [
    "#### tests"
   ]
  },
  {
   "cell_type": "code",
   "execution_count": null,
   "metadata": {},
   "outputs": [],
   "source": [
    "def test_q_1():\n",
    "    LOGGER.setLevel(logging.DEBUG)\n",
    "    for inp in [1, 10, 100, 1000]:\n",
    "        assert intcode_compute([3, 0, 4, 0, 99], inp=inp) == inp\n",
    "    LOGGER.setLevel(logging.INFO)"
   ]
  },
  {
   "cell_type": "code",
   "execution_count": null,
   "metadata": {},
   "outputs": [],
   "source": [
    "test_q_1()"
   ]
  },
  {
   "cell_type": "markdown",
   "metadata": {},
   "source": [
    "#### answer"
   ]
  },
  {
   "cell_type": "code",
   "execution_count": null,
   "metadata": {},
   "outputs": [],
   "source": [
    "LOGGER.setLevel(logging.WARNING)\n",
    "x = q_1(load_data())\n",
    "LOGGER.setLevel(logging.INFO)\n",
    "x"
   ]
  },
  {
   "cell_type": "markdown",
   "metadata": {},
   "source": [
    "## part 2\n",
    "\n",
    "### problem statement:"
   ]
  },
  {
   "cell_type": "markdown",
   "metadata": {},
   "source": [
    "#### function def"
   ]
  },
  {
   "cell_type": "code",
   "execution_count": null,
   "metadata": {},
   "outputs": [],
   "source": [
    "def q_2(data, inp=1, non_zero_only_on_halt=True):\n",
    "    LOGGER.warning('starting q_2')\n",
    "    LOGGER.debug(f'data = {data}')\n",
    "    LOGGER.debug(f'inp = {inp}')\n",
    "    return intcode_compute(data, inp, non_zero_only_on_halt)"
   ]
  },
  {
   "cell_type": "markdown",
   "metadata": {},
   "source": [
    "#### tests"
   ]
  },
  {
   "cell_type": "code",
   "execution_count": null,
   "metadata": {},
   "outputs": [],
   "source": [
    "def test_q_2():\n",
    "    LOGGER.setLevel(logging.DEBUG)\n",
    "    # input == 8\n",
    "    assert q_2([3,9,8,9,10,9,4,9,99,-1,8], 1) == 0\n",
    "    assert q_2([3,9,8,9,10,9,4,9,99,-1,8], 8) == 1\n",
    "    \n",
    "    # input < 8\n",
    "    assert q_2([3,9,7,9,10,9,4,9,99,-1,8], 8) == 0\n",
    "    assert q_2([3,9,7,9,10,9,4,9,99,-1,8], 7) == 1\n",
    "    \n",
    "    # input == 8\n",
    "    assert q_2([3,3,1108,-1,8,3,4,3,99], 1) == 0\n",
    "    assert q_2([3,3,1108,-1,8,3,4,3,99], 8) == 1\n",
    "    \n",
    "    # input < 8\n",
    "    assert q_2([3,3,1107,-1,8,3,4,3,99], 8) == 0\n",
    "    assert q_2([3,3,1107,-1,8,3,4,3,99], 7) == 1\n",
    "    \n",
    "    # 0 if 0, 1 else\n",
    "    assert q_2([3,12,6,12,15,1,13,14,13,4,13,99,-1,0,1,9], 0) == 0\n",
    "    assert q_2([3,12,6,12,15,1,13,14,13,4,13,99,-1,0,1,9], 8) == 1\n",
    "    assert q_2([3,3,1105,-1,9,1101,0,0,12,4,12,99,1], 0) == 0\n",
    "    assert q_2([3,3,1105,-1,9,1101,0,0,12,4,12,99,1], 8) == 1\n",
    "\n",
    "    big_prog = [3,21,1008,21,8,20,1005,20,22,107,8,21,20,1006,20,31,\n",
    "                1106,0,36,98,0,0,1002,21,125,20,4,20,1105,1,46,104,\n",
    "                999,1105,1,46,1101,1000,1,20,4,20,1105,1,46,98,99]\n",
    "    assert q_2(big_prog, 7, False) == 999\n",
    "    assert q_2(big_prog, 8, False) == 1000\n",
    "    assert q_2(big_prog, 9, False) == 1001\n",
    "    \n",
    "    LOGGER.setLevel(logging.INFO)"
   ]
  },
  {
   "cell_type": "code",
   "execution_count": null,
   "metadata": {
    "scrolled": true
   },
   "outputs": [],
   "source": [
    "test_q_2()"
   ]
  },
  {
   "cell_type": "markdown",
   "metadata": {},
   "source": [
    "#### answer"
   ]
  },
  {
   "cell_type": "code",
   "execution_count": null,
   "metadata": {
    "scrolled": true
   },
   "outputs": [],
   "source": [
    "q_2(load_data(), 5)"
   ]
  },
  {
   "cell_type": "markdown",
   "metadata": {},
   "source": [
    "fin"
   ]
  }
 ],
 "metadata": {
  "kernelspec": {
   "display_name": "Python 3",
   "language": "python",
   "name": "python3"
  },
  "language_info": {
   "codemirror_mode": {
    "name": "ipython",
    "version": 3
   },
   "file_extension": ".py",
   "mimetype": "text/x-python",
   "name": "python",
   "nbconvert_exporter": "python",
   "pygments_lexer": "ipython3",
   "version": "3.7.3"
  },
  "toc": {
   "base_numbering": 1,
   "nav_menu": {},
   "number_sections": true,
   "sideBar": true,
   "skip_h1_title": false,
   "title_cell": "Table of Contents",
   "title_sidebar": "Contents",
   "toc_cell": false,
   "toc_position": {},
   "toc_section_display": true,
   "toc_window_display": false
  }
 },
 "nbformat": 4,
 "nbformat_minor": 2
}
