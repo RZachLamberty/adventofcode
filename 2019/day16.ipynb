{
 "cells": [
  {
   "cell_type": "markdown",
   "metadata": {},
   "source": [
    "# day 16\n",
    "\n",
    "https://adventofcode.com/2019/day/16"
   ]
  },
  {
   "cell_type": "code",
   "execution_count": null,
   "metadata": {},
   "outputs": [],
   "source": [
    "import logging\n",
    "import logging.config\n",
    "import os\n",
    "\n",
    "import yaml"
   ]
  },
  {
   "cell_type": "code",
   "execution_count": null,
   "metadata": {},
   "outputs": [],
   "source": [
    "with open('../logging.yaml') as fp:\n",
    "    logging_config = yaml.load(fp, Loader=yaml.FullLoader)\n",
    "\n",
    "logging.config.dictConfig(logging_config)"
   ]
  },
  {
   "cell_type": "code",
   "execution_count": null,
   "metadata": {},
   "outputs": [],
   "source": [
    "FNAME = os.path.join('data', 'day16.txt')\n",
    "\n",
    "LOGGER = logging.getLogger('day16')"
   ]
  },
  {
   "cell_type": "markdown",
   "metadata": {},
   "source": [
    "## part 1\n",
    "\n",
    "### problem statement:"
   ]
  },
  {
   "cell_type": "markdown",
   "metadata": {},
   "source": [
    "#### loading data"
   ]
  },
  {
   "cell_type": "code",
   "execution_count": null,
   "metadata": {},
   "outputs": [],
   "source": [
    "test_0 = [int(_) for _ in \"80871224585914546619083218645595\"]\n",
    "test_1 = [int(_) for _ in \"19617804207202209144916044189917\"]\n",
    "test_2 = [int(_) for _ in \"69317163492948606335995924319873\"]\n",
    "\n",
    "a0 = 24176176\n",
    "a1 = 73745418\n",
    "a2 = 52432133"
   ]
  },
  {
   "cell_type": "code",
   "execution_count": null,
   "metadata": {},
   "outputs": [],
   "source": [
    "def load_data(fname=FNAME):\n",
    "    with open(fname) as fp:\n",
    "        return [int(_) for _ in fp.read().strip()]"
   ]
  },
  {
   "cell_type": "code",
   "execution_count": null,
   "metadata": {},
   "outputs": [],
   "source": [
    "import numpy as np\n",
    "import tqdm.autonotebook as tqdm\n",
    "\n",
    "def pattern_array(pattern, L):\n",
    "    z = np.zeros((L, L + 1), dtype=np.int8)\n",
    "    \n",
    "    for i in tqdm.trange(L, leave=False):\n",
    "        for j in range(i, L + 1):\n",
    "            z[i, j] = pattern[(j // (i + 1)) % len(pattern)]\n",
    "    return z[:, 1:]"
   ]
  },
  {
   "cell_type": "code",
   "execution_count": null,
   "metadata": {},
   "outputs": [],
   "source": [
    "pattern_array([0, 1, 0, -1], 8)"
   ]
  },
  {
   "cell_type": "markdown",
   "metadata": {},
   "source": [
    "#### function def"
   ]
  },
  {
   "cell_type": "code",
   "execution_count": null,
   "metadata": {},
   "outputs": [],
   "source": [
    "def apply_phase(input_signal, arr):\n",
    "    # LOGGER.debug(f'input_signal = {input_signal}')\n",
    "    # LOGGER.debug(f'input_signal.shape = {np.array(input_signal).shape}')\n",
    "    # LOGGER.debug(f'arr = {arr}')\n",
    "    # LOGGER.debug(f'arr.shape = {arr.shape}')\n",
    "    return abs(arr @ input_signal) % 10"
   ]
  },
  {
   "cell_type": "code",
   "execution_count": null,
   "metadata": {},
   "outputs": [],
   "source": [
    "pa = pattern_array([0, 1, 0, -1], 8)\n",
    "assert (apply_phase([1, 2, 3, 4, 5, 6, 7, 8], pa) == np.array([4, 8, 2, 2, 6, 1, 5, 8])).all()\n",
    "assert (apply_phase([4, 8, 2, 2, 6, 1, 5, 8], pa) == np.array([3, 4, 0, 4, 0, 4, 3, 8])).all()\n",
    "assert (apply_phase([3, 4, 0, 4, 0, 4, 3, 8], pa) == np.array([0, 3, 4, 1, 5, 5, 1, 8])).all()\n",
    "assert (apply_phase([0, 3, 4, 1, 5, 5, 1, 8], pa) == np.array([0, 1, 0, 2, 9, 4, 9, 8])).all()"
   ]
  },
  {
   "cell_type": "code",
   "execution_count": null,
   "metadata": {},
   "outputs": [],
   "source": [
    "def q_1(input_signal, pattern=None):\n",
    "    input_signal = np.array(input_signal)\n",
    "    L = len(input_signal)\n",
    "    if pattern is None:\n",
    "        pattern = [0, 1, 0, -1]\n",
    "    LOGGER.debug('making pattern')\n",
    "    pa = pattern_array(pattern, L)\n",
    "    LOGGER.debug('done with pattern')\n",
    "    # LOGGER.debug(f\"pattern = {pattern}\")\n",
    "    # LOGGER.debug(f\"L = {L}\")\n",
    "    # LOGGER.debug(f\"pa = {pa}\")\n",
    "    # LOGGER.debug(f\"pa.shape = {pa.shape}\")\n",
    "    \n",
    "    for phase_num in tqdm.trange(100, leave=False):\n",
    "        # LOGGER.debug(f\"input_signal = {input_signal}\")\n",
    "        new_input = apply_phase(input_signal, pa)\n",
    "        input_signal = new_input\n",
    "        \n",
    "    return int(''.join([str(int(_)) for _ in input_signal[:8]]))"
   ]
  },
  {
   "cell_type": "markdown",
   "metadata": {},
   "source": [
    "\n",
    "#### tests"
   ]
  },
  {
   "cell_type": "code",
   "execution_count": null,
   "metadata": {},
   "outputs": [],
   "source": [
    "def test_q_1():\n",
    "    LOGGER.setLevel(logging.DEBUG)\n",
    "    assert q_1(test_0) == a0\n",
    "    assert q_1(test_1) == a1\n",
    "    assert q_1(test_2) == a2\n",
    "    LOGGER.setLevel(logging.INFO)"
   ]
  },
  {
   "cell_type": "code",
   "execution_count": null,
   "metadata": {},
   "outputs": [],
   "source": [
    "test_q_1()"
   ]
  },
  {
   "cell_type": "markdown",
   "metadata": {},
   "source": [
    "#### answer"
   ]
  },
  {
   "cell_type": "code",
   "execution_count": null,
   "metadata": {},
   "outputs": [],
   "source": [
    "q_1(load_data())"
   ]
  },
  {
   "cell_type": "markdown",
   "metadata": {},
   "source": [
    "## part 2\n",
    "\n",
    "### problem statement:"
   ]
  },
  {
   "cell_type": "markdown",
   "metadata": {},
   "source": [
    "#### function def"
   ]
  },
  {
   "cell_type": "markdown",
   "metadata": {},
   "source": [
    "note: over `L / 2`, the matrix is defined as `pa(i, j) = int(i < j)`"
   ]
  },
  {
   "cell_type": "code",
   "execution_count": null,
   "metadata": {},
   "outputs": [],
   "source": [
    "LOGGER.setLevel(logging.INFO)\n",
    "logging.getLogger('matplotlib').setLevel(logging.INFO)\n",
    "\n",
    "%matplotlib inline\n",
    "\n",
    "pa = pattern_array([0, 1, 0, -1], 100)\n",
    "\n",
    "import matplotlib.pyplot as plt\n",
    "\n",
    "plt.matshow(pa)\n",
    "plt.colorbar()"
   ]
  },
  {
   "cell_type": "markdown",
   "metadata": {},
   "source": [
    "this means that for elements L/2 and beyond in the ouptut vector of the apply step are computed as\n",
    "\n",
    "```python\n",
    "input_vec[i:].sum().abs() % 10\n",
    "```"
   ]
  },
  {
   "cell_type": "code",
   "execution_count": null,
   "metadata": {},
   "outputs": [],
   "source": [
    "def q_2(input_signal):\n",
    "    z_full = np.array(input_signal * 10_000)\n",
    "    offset = int(''.join(str(_) for _ in z_full[:7]))\n",
    "    LOGGER.debug(f'offset = {offset}')\n",
    "    z = z_full[offset:]\n",
    "    \n",
    "    for i in range(100):\n",
    "        z = (z.sum() - z.cumsum() + z) % 10\n",
    "    \n",
    "    return int(''.join([str(_) for _ in z[:8]]))"
   ]
  },
  {
   "cell_type": "markdown",
   "metadata": {},
   "source": [
    "#### tests"
   ]
  },
  {
   "cell_type": "code",
   "execution_count": null,
   "metadata": {},
   "outputs": [],
   "source": [
    "test_0 = [int(_) for _ in '03036732577212944063491565474664']\n",
    "answer_0 = 84462026\n",
    "\n",
    "test_1 = [int(_) for _ in '02935109699940807407585447034323']\n",
    "answer_1 = 78725270\n",
    "\n",
    "test_2 = [int(_) for _ in '03081770884921959731165446850517']\n",
    "answer_2 = 53553731\n",
    "\n",
    "tests = [(test_0, answer_0),\n",
    "         (test_1, answer_1),\n",
    "         (test_2, answer_2),]"
   ]
  },
  {
   "cell_type": "code",
   "execution_count": null,
   "metadata": {},
   "outputs": [],
   "source": [
    "def test_q_2():\n",
    "    LOGGER.setLevel(logging.DEBUG)\n",
    "    for t, a in tests:\n",
    "        assert q_2(t) == a\n",
    "    LOGGER.setLevel(logging.INFO)"
   ]
  },
  {
   "cell_type": "code",
   "execution_count": null,
   "metadata": {
    "scrolled": true
   },
   "outputs": [],
   "source": [
    "test_q_2()"
   ]
  },
  {
   "cell_type": "markdown",
   "metadata": {},
   "source": [
    "#### answer"
   ]
  },
  {
   "cell_type": "code",
   "execution_count": null,
   "metadata": {
    "scrolled": true
   },
   "outputs": [],
   "source": [
    "q_2(load_data())"
   ]
  },
  {
   "cell_type": "markdown",
   "metadata": {},
   "source": [
    "fin"
   ]
  }
 ],
 "metadata": {
  "kernelspec": {
   "display_name": "Python 3",
   "language": "python",
   "name": "python3"
  },
  "language_info": {
   "codemirror_mode": {
    "name": "ipython",
    "version": 3
   },
   "file_extension": ".py",
   "mimetype": "text/x-python",
   "name": "python",
   "nbconvert_exporter": "python",
   "pygments_lexer": "ipython3",
   "version": "3.7.3"
  },
  "toc": {
   "base_numbering": 1,
   "nav_menu": {},
   "number_sections": true,
   "sideBar": true,
   "skip_h1_title": false,
   "title_cell": "Table of Contents",
   "title_sidebar": "Contents",
   "toc_cell": false,
   "toc_position": {},
   "toc_section_display": true,
   "toc_window_display": false
  }
 },
 "nbformat": 4,
 "nbformat_minor": 2
}
