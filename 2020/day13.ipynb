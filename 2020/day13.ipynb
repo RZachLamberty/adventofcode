{
 "cells": [
  {
   "cell_type": "markdown",
   "metadata": {},
   "source": [
    "# day 13\n",
    "\n",
    "https://adventofcode.com/2020/day/13"
   ]
  },
  {
   "cell_type": "code",
   "execution_count": null,
   "metadata": {},
   "outputs": [],
   "source": [
    "import logging\n",
    "import logging.config\n",
    "import os\n",
    "\n",
    "import yaml"
   ]
  },
  {
   "cell_type": "code",
   "execution_count": null,
   "metadata": {},
   "outputs": [],
   "source": [
    "with open('../logging.yaml') as fp:\n",
    "    logging_config = yaml.load(fp, Loader=yaml.FullLoader)\n",
    "\n",
    "logging.config.dictConfig(logging_config)"
   ]
  },
  {
   "cell_type": "code",
   "execution_count": null,
   "metadata": {},
   "outputs": [],
   "source": [
    "FNAME = os.path.join('data', 'day13.txt')\n",
    "\n",
    "LOGGER = logging.getLogger('day13')"
   ]
  },
  {
   "cell_type": "markdown",
   "metadata": {},
   "source": [
    "## part 1\n",
    "\n",
    "### problem statement:"
   ]
  },
  {
   "cell_type": "markdown",
   "metadata": {},
   "source": [
    "#### loading data"
   ]
  },
  {
   "cell_type": "code",
   "execution_count": null,
   "metadata": {},
   "outputs": [],
   "source": [
    "test_data = \"\"\"939\n",
    "7,13,x,x,59,x,31,19\"\"\""
   ]
  },
  {
   "cell_type": "code",
   "execution_count": null,
   "metadata": {},
   "outputs": [],
   "source": [
    "def load_data(fname=FNAME):\n",
    "    with open(fname) as fp:\n",
    "        return fp.read().strip()"
   ]
  },
  {
   "cell_type": "code",
   "execution_count": null,
   "metadata": {},
   "outputs": [],
   "source": [
    "def parse(s):\n",
    "    ts, bus_ids = s.split('\\n')\n",
    "    ts = int(ts)\n",
    "    bus_ids = [int(_) for _ in bus_ids.split(',') if _ != 'x']\n",
    "    return ts, bus_ids"
   ]
  },
  {
   "cell_type": "code",
   "execution_count": null,
   "metadata": {},
   "outputs": [],
   "source": [
    "parse(test_data)"
   ]
  },
  {
   "cell_type": "code",
   "execution_count": null,
   "metadata": {},
   "outputs": [],
   "source": [
    "parse(load_data())"
   ]
  },
  {
   "cell_type": "markdown",
   "metadata": {},
   "source": [
    "#### function def"
   ]
  },
  {
   "cell_type": "code",
   "execution_count": null,
   "metadata": {},
   "outputs": [],
   "source": [
    "def q_1(data):\n",
    "    ts, bus_ids = parse(data)\n",
    "    best_id = min(bus_ids, key=lambda k: k - (ts % k))\n",
    "    return best_id * (best_id - (ts % best_id))"
   ]
  },
  {
   "cell_type": "markdown",
   "metadata": {},
   "source": [
    "#### tests"
   ]
  },
  {
   "cell_type": "code",
   "execution_count": null,
   "metadata": {},
   "outputs": [],
   "source": [
    "def test_q_1():\n",
    "    LOGGER.setLevel(logging.DEBUG)\n",
    "    assert q_1(test_data) == 295\n",
    "    LOGGER.setLevel(logging.INFO)"
   ]
  },
  {
   "cell_type": "code",
   "execution_count": null,
   "metadata": {},
   "outputs": [],
   "source": [
    "test_q_1()"
   ]
  },
  {
   "cell_type": "markdown",
   "metadata": {},
   "source": [
    "#### answer"
   ]
  },
  {
   "cell_type": "code",
   "execution_count": null,
   "metadata": {},
   "outputs": [],
   "source": [
    "q_1(load_data())"
   ]
  },
  {
   "cell_type": "markdown",
   "metadata": {},
   "source": [
    "## part 2\n",
    "\n",
    "### problem statement:"
   ]
  },
  {
   "cell_type": "markdown",
   "metadata": {},
   "source": [
    "#### function def"
   ]
  },
  {
   "cell_type": "code",
   "execution_count": null,
   "metadata": {},
   "outputs": [],
   "source": [
    "import math\n",
    "\n",
    "def lcm(a, b):\n",
    "    return abs(a * b) // math.gcd(a, b)"
   ]
  },
  {
   "cell_type": "code",
   "execution_count": null,
   "metadata": {},
   "outputs": [],
   "source": [
    "def parse(s):\n",
    "    _, bus_ids = s.split('\\n')\n",
    "    return [[i, int(b)] for (i, b) in enumerate(bus_ids.split(','))\n",
    "            if b != 'x']"
   ]
  },
  {
   "cell_type": "code",
   "execution_count": null,
   "metadata": {},
   "outputs": [],
   "source": [
    "parse(load_data())"
   ]
  },
  {
   "cell_type": "code",
   "execution_count": null,
   "metadata": {},
   "outputs": [],
   "source": [
    "def q_2(data):\n",
    "    reqs = parse(data)\n",
    "    \n",
    "    t = 0\n",
    "    step = reqs[0][1]\n",
    "    goodness = 1\n",
    "    while goodness < len(reqs):\n",
    "        offset, period = reqs[goodness]\n",
    "        if (t + offset) % period == 0:\n",
    "            step = lcm(step, period)\n",
    "            goodness = goodness + 1\n",
    "        else:\n",
    "            t += step\n",
    "\n",
    "    return t"
   ]
  },
  {
   "cell_type": "markdown",
   "metadata": {},
   "source": [
    "#### tests"
   ]
  },
  {
   "cell_type": "code",
   "execution_count": null,
   "metadata": {},
   "outputs": [],
   "source": [
    "def test_q_2():\n",
    "    LOGGER.setLevel(logging.DEBUG)\n",
    "    assert q_2(test_data) == 1068781\n",
    "    LOGGER.setLevel(logging.INFO)"
   ]
  },
  {
   "cell_type": "code",
   "execution_count": null,
   "metadata": {
    "scrolled": true
   },
   "outputs": [],
   "source": [
    "test_q_2()"
   ]
  },
  {
   "cell_type": "markdown",
   "metadata": {},
   "source": [
    "#### answer"
   ]
  },
  {
   "cell_type": "code",
   "execution_count": null,
   "metadata": {
    "scrolled": true
   },
   "outputs": [],
   "source": [
    "q_2(load_data())"
   ]
  },
  {
   "cell_type": "markdown",
   "metadata": {},
   "source": [
    "fin"
   ]
  },
  {
   "cell_type": "markdown",
   "metadata": {},
   "source": [
    "# looking at wikipedia\n",
    "\n",
    "methods [here](https://en.wikipedia.org/wiki/Chinese_remainder_theorem)"
   ]
  },
  {
   "cell_type": "code",
   "execution_count": null,
   "metadata": {},
   "outputs": [],
   "source": [
    "parse(test_data)"
   ]
  },
  {
   "cell_type": "markdown",
   "metadata": {},
   "source": [
    "above is equivalent to\n",
    "\n",
    "$$\n",
    "t = 0 \\mod 7 \\\\\n",
    "t = 1 \\mod 13 \\\\\n",
    "t = 4 \\mod 59 \\\\\n",
    "t = 6 \\mod 31 \\\\\n",
    "t = 7 \\mod 19 \\\\\n",
    "$$\n",
    "\n",
    "consider each of the above a statement of the form $t = a_i \\mod n_i$\n",
    "\n",
    "the Bezout's identity for the first two equations suggests\n",
    "\n",
    "$$\n",
    "\\exists m_0, m_1: 7 m_0 + 13 m_1 = 1\n",
    "$$\n",
    "\n",
    "and wikipedia suggest using the [extended Euclidean algorithm](https://en.wikipedia.org/wiki/Extended_Euclidean_algorithm) for that"
   ]
  },
  {
   "cell_type": "code",
   "execution_count": null,
   "metadata": {},
   "outputs": [],
   "source": [
    "def extended_gcd(a, b):\n",
    "    r, r_prev = a, b\n",
    "    s, s_prev = 0, 1\n",
    "    t, t_prev = 1, 0\n",
    "    \n",
    "    while r != 0:\n",
    "        quo = r_prev // r\n",
    "        r_prev, r = r, r_prev - quo * r\n",
    "        s_prev, s = s, s_prev - quo * s\n",
    "        t_prev, t = t, t_prev - quo * t\n",
    "        LOGGER.debug(r)\n",
    "    \n",
    "    return {'bezout': (s_prev, t_prev),\n",
    "            'gcd': r_prev,\n",
    "            'quotients': (t, s)}"
   ]
  },
  {
   "cell_type": "code",
   "execution_count": null,
   "metadata": {},
   "outputs": [],
   "source": [
    "# the wikipedia example\n",
    "#   x = 0 mod 3\n",
    "#   x = 3 mod 4\n",
    "#   x = 4 mod 5\n",
    "a0, n0 = 0, 3\n",
    "a1, n1 = 3, 4\n",
    "m1, m0 = extended_gcd(n0, n1)['bezout']\n",
    "assert m0 * n0 + m1 * n1 == 1\n",
    "t = (a0 * m1 * n1\n",
    "     + a1 * m0 * n0)\n",
    "if t < 0:\n",
    "    t %= n0 * n1\n",
    "t"
   ]
  },
  {
   "cell_type": "code",
   "execution_count": null,
   "metadata": {},
   "outputs": [],
   "source": [
    "# these are treated now as the first of a pair\n",
    "#   x = 3 mod 12\n",
    "#   x = 4 mod 5\n",
    "a0, n0 = 3, 12\n",
    "a1, n1 = 4, 5\n",
    "m1, m0 = extended_gcd(n0, n1)['bezout']\n",
    "assert m0 * n0 + m1 * n1 == 1\n",
    "t = (a0 * m1 * n1\n",
    "     + a1 * m0 * n0)\n",
    "if t < 0:\n",
    "    t %= n0 * n1\n",
    "t"
   ]
  },
  {
   "cell_type": "code",
   "execution_count": null,
   "metadata": {},
   "outputs": [],
   "source": [
    "for (a, n) in [(0, 3), (3, 4), (4, 5)]:\n",
    "    assert 39 % n == a"
   ]
  },
  {
   "cell_type": "markdown",
   "metadata": {},
   "source": [
    "okay so given the above, the new function is straight forward:"
   ]
  },
  {
   "cell_type": "code",
   "execution_count": null,
   "metadata": {},
   "outputs": [],
   "source": [
    "def step(a0, n0, a1, n1):  \n",
    "    m1, m0 = extended_gcd(n0, n1)['bezout']\n",
    "    t = (a0 * m1 * n1\n",
    "         + a1 * m0 * n0)\n",
    "    if t < 0:\n",
    "        t %= n0 * n1\n",
    "    return t, n0 * n1"
   ]
  },
  {
   "cell_type": "code",
   "execution_count": null,
   "metadata": {},
   "outputs": [],
   "source": [
    "def q_2(data):\n",
    "    reqs = parse(data)\n",
    "    \n",
    "    a0, n0 = reqs.pop()\n",
    "    while reqs:\n",
    "        a1, n1 = reqs.pop()\n",
    "        LOGGER.debug(f\"a0, n0, a1, n1 = {a0, n0, a1, n1}\")\n",
    "        a0, n0 = step(a0, n0, a1, n1)\n",
    "    return a0"
   ]
  },
  {
   "cell_type": "code",
   "execution_count": null,
   "metadata": {},
   "outputs": [],
   "source": [
    "def test_q_2():\n",
    "    LOGGER.setLevel(logging.DEBUG)\n",
    "    assert q_2(test_data) == 1068781\n",
    "    LOGGER.setLevel(logging.INFO)"
   ]
  },
  {
   "cell_type": "code",
   "execution_count": null,
   "metadata": {},
   "outputs": [],
   "source": [
    "test_q_2()"
   ]
  },
  {
   "cell_type": "code",
   "execution_count": null,
   "metadata": {},
   "outputs": [],
   "source": [
    "q_2(test_data)"
   ]
  },
  {
   "cell_type": "code",
   "execution_count": null,
   "metadata": {},
   "outputs": [],
   "source": [
    "parse(test_data)"
   ]
  },
  {
   "cell_type": "code",
   "execution_count": null,
   "metadata": {},
   "outputs": [],
   "source": []
  }
 ],
 "metadata": {
  "kernelspec": {
   "display_name": "Python 3",
   "language": "python",
   "name": "python3"
  },
  "language_info": {
   "codemirror_mode": {
    "name": "ipython",
    "version": 3
   },
   "file_extension": ".py",
   "mimetype": "text/x-python",
   "name": "python",
   "nbconvert_exporter": "python",
   "pygments_lexer": "ipython3",
   "version": "3.7.3"
  },
  "toc": {
   "base_numbering": 1,
   "nav_menu": {},
   "number_sections": true,
   "sideBar": true,
   "skip_h1_title": false,
   "title_cell": "Table of Contents",
   "title_sidebar": "Contents",
   "toc_cell": false,
   "toc_position": {},
   "toc_section_display": true,
   "toc_window_display": false
  }
 },
 "nbformat": 4,
 "nbformat_minor": 2
}
