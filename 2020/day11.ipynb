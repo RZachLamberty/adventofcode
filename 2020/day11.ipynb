{
 "cells": [
  {
   "cell_type": "markdown",
   "metadata": {},
   "source": [
    "# day 11\n",
    "\n",
    "https://adventofcode.com/2020/day/11"
   ]
  },
  {
   "cell_type": "code",
   "execution_count": null,
   "metadata": {},
   "outputs": [],
   "source": [
    "import logging\n",
    "import logging.config\n",
    "import os\n",
    "\n",
    "import yaml"
   ]
  },
  {
   "cell_type": "code",
   "execution_count": null,
   "metadata": {},
   "outputs": [],
   "source": [
    "with open('../logging.yaml') as fp:\n",
    "    logging_config = yaml.load(fp, Loader=yaml.FullLoader)\n",
    "\n",
    "logging.config.dictConfig(logging_config)"
   ]
  },
  {
   "cell_type": "code",
   "execution_count": null,
   "metadata": {},
   "outputs": [],
   "source": [
    "FNAME = os.path.join('data', 'day11.txt')\n",
    "\n",
    "LOGGER = logging.getLogger('day11')"
   ]
  },
  {
   "cell_type": "markdown",
   "metadata": {},
   "source": [
    "## part 1\n",
    "\n",
    "### problem statement:"
   ]
  },
  {
   "cell_type": "markdown",
   "metadata": {},
   "source": [
    "#### loading data"
   ]
  },
  {
   "cell_type": "code",
   "execution_count": null,
   "metadata": {},
   "outputs": [],
   "source": [
    "test_data = \"\"\"#.##.##.##\n",
    "#######.##\n",
    "#.#.#..#..\n",
    "####.##.##\n",
    "#.##.##.##\n",
    "#.#####.##\n",
    "..#.#.....\n",
    "##########\n",
    "#.######.#\n",
    "#.#####.##\"\"\""
   ]
  },
  {
   "cell_type": "code",
   "execution_count": null,
   "metadata": {},
   "outputs": [],
   "source": [
    "EMPTY, FLOOR, OCCUPIED = -1, 0, 1"
   ]
  },
  {
   "cell_type": "code",
   "execution_count": null,
   "metadata": {},
   "outputs": [],
   "source": [
    "def load_data(fname=FNAME):\n",
    "    with open(fname) as fp:\n",
    "        return fp.read().strip()"
   ]
  },
  {
   "cell_type": "code",
   "execution_count": null,
   "metadata": {},
   "outputs": [],
   "source": [
    "import numpy as np\n",
    "\n",
    "def make_map_array(s):\n",
    "    return np.array([[FLOOR if c == '.'\n",
    "                      else EMPTY if c == 'L'\n",
    "                      else OCCUPIED\n",
    "                      for c in line.strip()]\n",
    "                     for line in s.split('\\n')])"
   ]
  },
  {
   "cell_type": "code",
   "execution_count": null,
   "metadata": {},
   "outputs": [],
   "source": [
    "make_map_array(test_data)"
   ]
  },
  {
   "cell_type": "code",
   "execution_count": null,
   "metadata": {},
   "outputs": [],
   "source": [
    "def make_map_dict(a):\n",
    "    return {(i, j): a[i, j]\n",
    "            for i in range(a.shape[0])\n",
    "            for j in range(a.shape[1])}"
   ]
  },
  {
   "cell_type": "markdown",
   "metadata": {},
   "source": [
    "#### function def"
   ]
  },
  {
   "cell_type": "code",
   "execution_count": null,
   "metadata": {},
   "outputs": [],
   "source": [
    "def get_num_neighbors(d, i0, j0):\n",
    "    return sum([d.get((i, j), FLOOR) == OCCUPIED\n",
    "                for (i, j) in [(i0 - 1, j0), (i0 + 1, j0),\n",
    "                               (i0, j0 - 1), (i0, j0 + 1),\n",
    "                               (i0 - 1, j0 - 1), (i0 + 1, j0 + 1),\n",
    "                               (i0 + 1, j0 - 1), (i0 - 1, j0 + 1)]])\n",
    "\n",
    "def step(a):\n",
    "    N_ROW, N_COL = a.shape\n",
    "    d = make_map_dict(a)\n",
    "    next_map = a.copy()\n",
    "    for i_row in range(N_ROW):\n",
    "        for i_col in range(N_COL):\n",
    "            c = d[i_row, i_col]\n",
    "            if c == FLOOR:\n",
    "                continue\n",
    "            else:\n",
    "                n = get_num_neighbors(d, i_row, i_col)\n",
    "                if (c == EMPTY and n == 0) or (c == OCCUPIED and n >= 4):\n",
    "                    next_map[i_row, i_col] *= -1\n",
    "    return next_map"
   ]
  },
  {
   "cell_type": "code",
   "execution_count": null,
   "metadata": {},
   "outputs": [],
   "source": [
    "def q_1(data):\n",
    "    a = make_map_array(data)\n",
    "    while True:\n",
    "        next_a = step(a)\n",
    "        if (next_a == a).all():\n",
    "            return (a == OCCUPIED).sum()\n",
    "        a = next_a"
   ]
  },
  {
   "cell_type": "markdown",
   "metadata": {},
   "source": [
    "#### tests"
   ]
  },
  {
   "cell_type": "code",
   "execution_count": null,
   "metadata": {},
   "outputs": [],
   "source": [
    "def test_q_1():\n",
    "    LOGGER.setLevel(logging.DEBUG)\n",
    "    assert q_1(test_data) == 37\n",
    "    LOGGER.setLevel(logging.INFO)"
   ]
  },
  {
   "cell_type": "code",
   "execution_count": null,
   "metadata": {},
   "outputs": [],
   "source": [
    "test_q_1()"
   ]
  },
  {
   "cell_type": "markdown",
   "metadata": {},
   "source": [
    "#### answer"
   ]
  },
  {
   "cell_type": "code",
   "execution_count": null,
   "metadata": {},
   "outputs": [],
   "source": [
    "q_1(load_data())"
   ]
  },
  {
   "cell_type": "markdown",
   "metadata": {},
   "source": [
    "## part 2\n",
    "\n",
    "### problem statement:"
   ]
  },
  {
   "cell_type": "markdown",
   "metadata": {},
   "source": [
    "#### function def"
   ]
  },
  {
   "cell_type": "code",
   "execution_count": null,
   "metadata": {},
   "outputs": [],
   "source": [
    "offsets = [(1, 0), (-1, 0), (0, 1), (0, -1),\n",
    "           (1, 1), (-1, -1), (1, -1), (-1, 1)]\n",
    "\n",
    "def get_num_neighbors_2(d, i0, j0):\n",
    "    N, M = d.shape\n",
    "    num_seen = 0\n",
    "    for i_delta, j_delta in offsets:\n",
    "        i_now, j_now = i0, j0\n",
    "        while True:\n",
    "            i_now += i_delta\n",
    "            j_now += j_delta\n",
    "            if i_now < 0 or i_now >= N or j_now < 0 or j_now >= M:\n",
    "                break\n",
    "            else:\n",
    "                if d[i_now, j_now] == OCCUPIED:\n",
    "                    LOGGER.debug(f'{i_now, j_now} is OCCUPIED')\n",
    "                    num_seen += 1\n",
    "                    break\n",
    "                elif d[i_now, j_now] == EMPTY:\n",
    "                    LOGGER.debug(f'{i_now, j_now} is EMPTY')\n",
    "                    break\n",
    "    return num_seen\n",
    "\n",
    "\n",
    "def step_2(a):\n",
    "    N_ROW, N_COL = a.shape\n",
    "    next_map = a.copy()\n",
    "    for i_row in range(N_ROW):\n",
    "        for i_col in range(N_COL):\n",
    "            c = a[i_row, i_col]\n",
    "            if c == FLOOR:\n",
    "                continue\n",
    "            else:\n",
    "                n = get_num_neighbors_2(a, i_row, i_col)\n",
    "                if (c == EMPTY and n == 0) or (c == OCCUPIED and n >= 5):\n",
    "                    next_map[i_row, i_col] *= -1\n",
    "    return next_map"
   ]
  },
  {
   "cell_type": "code",
   "execution_count": null,
   "metadata": {},
   "outputs": [],
   "source": [
    "def q_2(data):\n",
    "    a = make_map_array(data)\n",
    "    while True:\n",
    "        next_a = step_2(a)\n",
    "        if (next_a == a).all():\n",
    "            return (a == OCCUPIED).sum()\n",
    "        a = next_a"
   ]
  },
  {
   "cell_type": "code",
   "execution_count": null,
   "metadata": {},
   "outputs": [],
   "source": [
    "s0 = \"\"\"L.LL.LL.LL\n",
    "LLLLLLL.LL\n",
    "L.L.L..L..\n",
    "LLLL.LL.LL\n",
    "L.LL.LL.LL\n",
    "L.LLLLL.LL\n",
    "..L.L.....\n",
    "LLLLLLLLLL\n",
    "L.LLLLLL.L\n",
    "L.LLLLL.LL\"\"\"\n",
    "\n",
    "s1 = \"\"\"#.##.##.##\n",
    "#######.##\n",
    "#.#.#..#..\n",
    "####.##.##\n",
    "#.##.##.##\n",
    "#.#####.##\n",
    "..#.#.....\n",
    "##########\n",
    "#.######.#\n",
    "#.#####.##\"\"\"\n",
    "\n",
    "s2 = \"\"\"#.LL.LL.L#\n",
    "#LLLLLL.LL\n",
    "L.L.L..L..\n",
    "LLLL.LL.LL\n",
    "L.LL.LL.LL\n",
    "L.LLLLL.LL\n",
    "..L.L.....\n",
    "LLLLLLLLL#\n",
    "#.LLLLLL.L\n",
    "#.LLLLL.L#\"\"\"\n",
    "\n",
    "s3 = \"\"\"#.L#.##.L#\n",
    "#L#####.LL\n",
    "L.#.#..#..\n",
    "##L#.##.##\n",
    "#.##.#L.##\n",
    "#.#####.#L\n",
    "..#.#.....\n",
    "LLL####LL#\n",
    "#.L#####.L\n",
    "#.L####.L#\"\"\"\n",
    "\n",
    "s4 = \"\"\"#.L#.L#.L#\n",
    "#LLLLLL.LL\n",
    "L.L.L..#..\n",
    "##LL.LL.L#\n",
    "L.LL.LL.L#\n",
    "#.LLLLL.LL\n",
    "..L.L.....\n",
    "LLLLLLLLL#\n",
    "#.LLLLL#.L\n",
    "#.L#LL#.L#\"\"\"\n",
    "\n",
    "s5 = \"\"\"#.L#.L#.L#\n",
    "#LLLLLL.LL\n",
    "L.L.L..#..\n",
    "##L#.#L.L#\n",
    "L.L#.#L.L#\n",
    "#.L####.LL\n",
    "..#.#.....\n",
    "LLL###LLL#\n",
    "#.LLLLL#.L\n",
    "#.L#LL#.L#\"\"\"\n",
    "\n",
    "s6 = \"\"\"#.L#.L#.L#\n",
    "#LLLLLL.LL\n",
    "L.L.L..#..\n",
    "##L#.#L.L#\n",
    "L.L#.LL.L#\n",
    "#.LLLL#.LL\n",
    "..#.L.....\n",
    "LLL###LLL#\n",
    "#.LLLLL#.L\n",
    "#.L#LL#.L#\"\"\"\n",
    "\n",
    "a0 = make_map_array(s0)\n",
    "a1 = make_map_array(s1)\n",
    "a2 = make_map_array(s2)\n",
    "a3 = make_map_array(s3)\n",
    "a4 = make_map_array(s4)\n",
    "a5 = make_map_array(s5)\n",
    "a6 = make_map_array(s6)"
   ]
  },
  {
   "cell_type": "code",
   "execution_count": null,
   "metadata": {},
   "outputs": [],
   "source": [
    "assert (step_2(a0) == a1).all()\n",
    "assert (step_2(a1) == a2).all()\n",
    "assert (step_2(a2) == a3).all()\n",
    "assert (step_2(a3) == a4).all()\n",
    "assert (step_2(a4) == a5).all()\n",
    "assert (step_2(a5) == a6).all()"
   ]
  },
  {
   "cell_type": "markdown",
   "metadata": {},
   "source": [
    "#### tests"
   ]
  },
  {
   "cell_type": "code",
   "execution_count": null,
   "metadata": {},
   "outputs": [],
   "source": [
    "def test_q_2():\n",
    "    LOGGER.setLevel(logging.DEBUG)\n",
    "    assert q_2(test_data) == 26\n",
    "    LOGGER.setLevel(logging.INFO)"
   ]
  },
  {
   "cell_type": "code",
   "execution_count": null,
   "metadata": {
    "scrolled": true
   },
   "outputs": [],
   "source": [
    "test_q_2()"
   ]
  },
  {
   "cell_type": "markdown",
   "metadata": {},
   "source": [
    "#### answer"
   ]
  },
  {
   "cell_type": "code",
   "execution_count": null,
   "metadata": {
    "scrolled": true
   },
   "outputs": [],
   "source": [
    "q_2(load_data())"
   ]
  },
  {
   "cell_type": "markdown",
   "metadata": {},
   "source": [
    "fin"
   ]
  }
 ],
 "metadata": {
  "kernelspec": {
   "display_name": "Python 3",
   "language": "python",
   "name": "python3"
  },
  "language_info": {
   "codemirror_mode": {
    "name": "ipython",
    "version": 3
   },
   "file_extension": ".py",
   "mimetype": "text/x-python",
   "name": "python",
   "nbconvert_exporter": "python",
   "pygments_lexer": "ipython3",
   "version": "3.7.3"
  },
  "toc": {
   "base_numbering": 1,
   "nav_menu": {},
   "number_sections": true,
   "sideBar": true,
   "skip_h1_title": false,
   "title_cell": "Table of Contents",
   "title_sidebar": "Contents",
   "toc_cell": false,
   "toc_position": {},
   "toc_section_display": true,
   "toc_window_display": false
  }
 },
 "nbformat": 4,
 "nbformat_minor": 2
}
