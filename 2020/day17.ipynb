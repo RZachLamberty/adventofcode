{
 "cells": [
  {
   "cell_type": "markdown",
   "metadata": {},
   "source": [
    "# day 17\n",
    "\n",
    "https://adventofcode.com/2020/day/17"
   ]
  },
  {
   "cell_type": "code",
   "execution_count": null,
   "metadata": {},
   "outputs": [],
   "source": [
    "import logging\n",
    "import logging.config\n",
    "import os\n",
    "\n",
    "import yaml"
   ]
  },
  {
   "cell_type": "code",
   "execution_count": null,
   "metadata": {},
   "outputs": [],
   "source": [
    "with open('../logging.yaml') as fp:\n",
    "    logging_config = yaml.load(fp, Loader=yaml.FullLoader)\n",
    "\n",
    "logging.config.dictConfig(logging_config)"
   ]
  },
  {
   "cell_type": "code",
   "execution_count": null,
   "metadata": {},
   "outputs": [],
   "source": [
    "FNAME = os.path.join('data', 'day17.txt')\n",
    "\n",
    "LOGGER = logging.getLogger('day17')"
   ]
  },
  {
   "cell_type": "markdown",
   "metadata": {},
   "source": [
    "## part 1\n",
    "\n",
    "### problem statement:"
   ]
  },
  {
   "cell_type": "markdown",
   "metadata": {},
   "source": [
    "#### loading data"
   ]
  },
  {
   "cell_type": "code",
   "execution_count": null,
   "metadata": {},
   "outputs": [],
   "source": [
    "test_data = \"\"\".#.\n",
    "..#\n",
    "###\"\"\""
   ]
  },
  {
   "cell_type": "code",
   "execution_count": null,
   "metadata": {},
   "outputs": [],
   "source": [
    "def load_data(fname=FNAME):\n",
    "    with open(fname) as fp:\n",
    "        return fp.read().strip()"
   ]
  },
  {
   "cell_type": "code",
   "execution_count": null,
   "metadata": {},
   "outputs": [],
   "source": [
    "import collections\n",
    "import numpy as np\n",
    "\n",
    "INACTIVE, ACTIVE = 0, 1\n",
    "char_to_int = {\"#\": ACTIVE, \".\": INACTIVE}\n",
    "\n",
    "def parse_data_to_array(data):\n",
    "    return np.array([[char_to_int[c] for c in row.strip()]\n",
    "                     for row in data.split('\\n')\n",
    "                     if row])\n",
    "\n",
    "def parse_data_to_dict(data):\n",
    "    c = collections.defaultdict(int)\n",
    "    for (i, row) in enumerate(data.split('\\n'), -1):\n",
    "        if row:\n",
    "            for (j, char) in enumerate(row.strip(), -1):\n",
    "                c[i, j, 0] = char_to_int[char]\n",
    "    return c"
   ]
  },
  {
   "cell_type": "code",
   "execution_count": null,
   "metadata": {},
   "outputs": [],
   "source": [
    "parse_data_to_array(test_data)"
   ]
  },
  {
   "cell_type": "code",
   "execution_count": null,
   "metadata": {},
   "outputs": [],
   "source": [
    "parse_data_to_dict(test_data)"
   ]
  },
  {
   "cell_type": "markdown",
   "metadata": {},
   "source": [
    "#### function def"
   ]
  },
  {
   "cell_type": "code",
   "execution_count": null,
   "metadata": {},
   "outputs": [],
   "source": [
    "def get_neighbors(x, y, z):\n",
    "    for xval in (x - 1, x, x + 1):\n",
    "        for yval in (y - 1, y, y + 1):\n",
    "            for zval in (z - 1, z, z + 1):\n",
    "                if (xval, yval, zval) != (x, y, z):\n",
    "                    yield xval, yval, zval"
   ]
  },
  {
   "cell_type": "code",
   "execution_count": null,
   "metadata": {},
   "outputs": [],
   "source": [
    "assert len(list(get_neighbors(0, 0, 0))) == 26"
   ]
  },
  {
   "cell_type": "code",
   "execution_count": null,
   "metadata": {},
   "outputs": [],
   "source": [
    "def step(d):\n",
    "    num_active = collections.defaultdict(int)\n",
    "    for ((x, y, z), v) in d.items():\n",
    "        if v == ACTIVE:\n",
    "            for neighbor in get_neighbors(x, y, z):\n",
    "                num_active[neighbor] += 1\n",
    "    \n",
    "    d_new = collections.defaultdict(int)\n",
    "    updateables = set(num_active.keys()).union(d.keys())\n",
    "    for xyz in updateables:\n",
    "        curr_val = d[xyz]\n",
    "        num_active_neighbors = num_active[xyz]\n",
    "        if curr_val == ACTIVE:\n",
    "            d_new[xyz] = ACTIVE if num_active_neighbors in [2, 3] else INACTIVE\n",
    "        else:\n",
    "            d_new[xyz] = ACTIVE if num_active_neighbors == 3 else INACTIVE\n",
    "    \n",
    "    return d_new"
   ]
  },
  {
   "cell_type": "code",
   "execution_count": null,
   "metadata": {},
   "outputs": [],
   "source": [
    "d0 = parse_data_to_dict(test_data)\n",
    "assert sum(d0.values()) == 5\n",
    "\n",
    "d1 = step(d0)\n",
    "assert sum(d1.values()) == 11"
   ]
  },
  {
   "cell_type": "code",
   "execution_count": null,
   "metadata": {},
   "outputs": [],
   "source": [
    "def q_1(data, N=6):\n",
    "    d = parse_data_to_dict(data)\n",
    "    for i in range(N):\n",
    "        d = step(d)\n",
    "    \n",
    "    return sum(d.values())"
   ]
  },
  {
   "cell_type": "markdown",
   "metadata": {},
   "source": [
    "#### tests"
   ]
  },
  {
   "cell_type": "code",
   "execution_count": null,
   "metadata": {},
   "outputs": [],
   "source": [
    "def test_q_1():\n",
    "    LOGGER.setLevel(logging.DEBUG)\n",
    "    assert q_1(test_data) == 112\n",
    "    LOGGER.setLevel(logging.INFO)"
   ]
  },
  {
   "cell_type": "code",
   "execution_count": null,
   "metadata": {},
   "outputs": [],
   "source": [
    "test_q_1()"
   ]
  },
  {
   "cell_type": "markdown",
   "metadata": {},
   "source": [
    "#### answer"
   ]
  },
  {
   "cell_type": "code",
   "execution_count": null,
   "metadata": {},
   "outputs": [],
   "source": [
    "q_1(load_data())"
   ]
  },
  {
   "cell_type": "markdown",
   "metadata": {},
   "source": [
    "## part 2\n",
    "\n",
    "### problem statement:"
   ]
  },
  {
   "cell_type": "code",
   "execution_count": null,
   "metadata": {},
   "outputs": [],
   "source": [
    "def parse_data_to_dict(data):\n",
    "    c = collections.defaultdict(int)\n",
    "    for (i, row) in enumerate(data.split('\\n'), -1):\n",
    "        if row:\n",
    "            for (j, char) in enumerate(row.strip(), -1):\n",
    "                c[i, j, 0, 0] = char_to_int[char]\n",
    "    return c"
   ]
  },
  {
   "cell_type": "code",
   "execution_count": null,
   "metadata": {},
   "outputs": [],
   "source": [
    "def get_neighbors(x, y, z, w):\n",
    "    for xval in (x - 1, x, x + 1):\n",
    "        for yval in (y - 1, y, y + 1):\n",
    "            for zval in (z - 1, z, z + 1):\n",
    "                for wval in (w - 1, w, w + 1):\n",
    "                    if (xval, yval, zval, wval) != (x, y, z, w):\n",
    "                        yield xval, yval, zval, wval"
   ]
  },
  {
   "cell_type": "code",
   "execution_count": null,
   "metadata": {},
   "outputs": [],
   "source": [
    "assert len(list(get_neighbors(0, 0, 0, 0))) == 80"
   ]
  },
  {
   "cell_type": "code",
   "execution_count": null,
   "metadata": {},
   "outputs": [],
   "source": [
    "def step(d):\n",
    "    num_active = collections.defaultdict(int)\n",
    "    for ((x, y, z, w), v) in d.items():\n",
    "        if v == ACTIVE:\n",
    "            for neighbor in get_neighbors(x, y, z, w):\n",
    "                num_active[neighbor] += 1\n",
    "    \n",
    "    d_new = collections.defaultdict(int)\n",
    "    updateables = set(num_active.keys()).union(d.keys())\n",
    "    for xyzw in updateables:\n",
    "        curr_val = d[xyzw]\n",
    "        num_active_neighbors = num_active[xyzw]\n",
    "        if curr_val == ACTIVE:\n",
    "            d_new[xyzw] = ACTIVE if num_active_neighbors in [2, 3] else INACTIVE\n",
    "        else:\n",
    "            d_new[xyzw] = ACTIVE if num_active_neighbors == 3 else INACTIVE\n",
    "    \n",
    "    return d_new"
   ]
  },
  {
   "cell_type": "markdown",
   "metadata": {},
   "source": [
    "#### function def"
   ]
  },
  {
   "cell_type": "code",
   "execution_count": null,
   "metadata": {},
   "outputs": [],
   "source": [
    "def q_2(data, N=6):\n",
    "    d = parse_data_to_dict(data)\n",
    "    for i in range(N):\n",
    "        d = step(d)\n",
    "    \n",
    "    return sum(d.values())"
   ]
  },
  {
   "cell_type": "markdown",
   "metadata": {},
   "source": [
    "#### tests"
   ]
  },
  {
   "cell_type": "code",
   "execution_count": null,
   "metadata": {},
   "outputs": [],
   "source": [
    "def test_q_2():\n",
    "    LOGGER.setLevel(logging.DEBUG)\n",
    "    assert q_2(test_data) == 848\n",
    "    LOGGER.setLevel(logging.INFO)"
   ]
  },
  {
   "cell_type": "code",
   "execution_count": null,
   "metadata": {
    "scrolled": true
   },
   "outputs": [],
   "source": [
    "test_q_2()"
   ]
  },
  {
   "cell_type": "markdown",
   "metadata": {},
   "source": [
    "#### answer"
   ]
  },
  {
   "cell_type": "code",
   "execution_count": null,
   "metadata": {
    "scrolled": true
   },
   "outputs": [],
   "source": [
    "q_2(load_data())"
   ]
  },
  {
   "cell_type": "markdown",
   "metadata": {},
   "source": [
    "fin"
   ]
  }
 ],
 "metadata": {
  "kernelspec": {
   "display_name": "Python 3",
   "language": "python",
   "name": "python3"
  },
  "language_info": {
   "codemirror_mode": {
    "name": "ipython",
    "version": 3
   },
   "file_extension": ".py",
   "mimetype": "text/x-python",
   "name": "python",
   "nbconvert_exporter": "python",
   "pygments_lexer": "ipython3",
   "version": "3.7.3"
  },
  "toc": {
   "base_numbering": 1,
   "nav_menu": {},
   "number_sections": true,
   "sideBar": true,
   "skip_h1_title": false,
   "title_cell": "Table of Contents",
   "title_sidebar": "Contents",
   "toc_cell": false,
   "toc_position": {},
   "toc_section_display": true,
   "toc_window_display": false
  }
 },
 "nbformat": 4,
 "nbformat_minor": 2
}
