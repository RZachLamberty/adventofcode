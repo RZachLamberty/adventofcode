{
 "cells": [
  {
   "cell_type": "markdown",
   "metadata": {},
   "source": [
    "# day 20\n",
    "\n",
    "https://adventofcode.com/2020/day/20"
   ]
  },
  {
   "cell_type": "code",
   "execution_count": null,
   "metadata": {},
   "outputs": [],
   "source": [
    "import logging\n",
    "import logging.config\n",
    "import os\n",
    "\n",
    "import yaml"
   ]
  },
  {
   "cell_type": "code",
   "execution_count": null,
   "metadata": {},
   "outputs": [],
   "source": [
    "with open('../logging.yaml') as fp:\n",
    "    logging_config = yaml.load(fp, Loader=yaml.FullLoader)\n",
    "\n",
    "logging.config.dictConfig(logging_config)"
   ]
  },
  {
   "cell_type": "code",
   "execution_count": null,
   "metadata": {},
   "outputs": [],
   "source": [
    "FNAME = os.path.join('data', 'day20.txt')\n",
    "\n",
    "LOGGER = logging.getLogger('day20')"
   ]
  },
  {
   "cell_type": "markdown",
   "metadata": {},
   "source": [
    "## part 1\n",
    "\n",
    "### problem statement:"
   ]
  },
  {
   "cell_type": "markdown",
   "metadata": {},
   "source": [
    "#### loading data"
   ]
  },
  {
   "cell_type": "code",
   "execution_count": null,
   "metadata": {},
   "outputs": [],
   "source": [
    "test_data = \"\"\"Tile 2311:\n",
    "..##.#..#.\n",
    "##..#.....\n",
    "#...##..#.\n",
    "####.#...#\n",
    "##.##.###.\n",
    "##...#.###\n",
    ".#.#.#..##\n",
    "..#....#..\n",
    "###...#.#.\n",
    "..###..###\n",
    "\n",
    "Tile 1951:\n",
    "#.##...##.\n",
    "#.####...#\n",
    ".....#..##\n",
    "#...######\n",
    ".##.#....#\n",
    ".###.#####\n",
    "###.##.##.\n",
    ".###....#.\n",
    "..#.#..#.#\n",
    "#...##.#..\n",
    "\n",
    "Tile 1171:\n",
    "####...##.\n",
    "#..##.#..#\n",
    "##.#..#.#.\n",
    ".###.####.\n",
    "..###.####\n",
    ".##....##.\n",
    ".#...####.\n",
    "#.##.####.\n",
    "####..#...\n",
    ".....##...\n",
    "\n",
    "Tile 1427:\n",
    "###.##.#..\n",
    ".#..#.##..\n",
    ".#.##.#..#\n",
    "#.#.#.##.#\n",
    "....#...##\n",
    "...##..##.\n",
    "...#.#####\n",
    ".#.####.#.\n",
    "..#..###.#\n",
    "..##.#..#.\n",
    "\n",
    "Tile 1489:\n",
    "##.#.#....\n",
    "..##...#..\n",
    ".##..##...\n",
    "..#...#...\n",
    "#####...#.\n",
    "#..#.#.#.#\n",
    "...#.#.#..\n",
    "##.#...##.\n",
    "..##.##.##\n",
    "###.##.#..\n",
    "\n",
    "Tile 2473:\n",
    "#....####.\n",
    "#..#.##...\n",
    "#.##..#...\n",
    "######.#.#\n",
    ".#...#.#.#\n",
    ".#########\n",
    ".###.#..#.\n",
    "########.#\n",
    "##...##.#.\n",
    "..###.#.#.\n",
    "\n",
    "Tile 2971:\n",
    "..#.#....#\n",
    "#...###...\n",
    "#.#.###...\n",
    "##.##..#..\n",
    ".#####..##\n",
    ".#..####.#\n",
    "#..#.#..#.\n",
    "..####.###\n",
    "..#.#.###.\n",
    "...#.#.#.#\n",
    "\n",
    "Tile 2729:\n",
    "...#.#.#.#\n",
    "####.#....\n",
    "..#.#.....\n",
    "....#..#.#\n",
    ".##..##.#.\n",
    ".#.####...\n",
    "####.#.#..\n",
    "##.####...\n",
    "##..#.##..\n",
    "#.##...##.\n",
    "\n",
    "Tile 3079:\n",
    "#.#.#####.\n",
    ".#..######\n",
    "..#.......\n",
    "######....\n",
    "####.#..#.\n",
    ".#...#.##.\n",
    "#.#####.##\n",
    "..#.###...\n",
    "..#.......\n",
    "..#.###...\"\"\""
   ]
  },
  {
   "cell_type": "code",
   "execution_count": null,
   "metadata": {},
   "outputs": [],
   "source": [
    "def load_data(fname=FNAME):\n",
    "    with open(fname) as fp:\n",
    "        #return [line.strip() for line in fp]\n",
    "        return fp.read().strip()"
   ]
  },
  {
   "cell_type": "code",
   "execution_count": null,
   "metadata": {},
   "outputs": [],
   "source": [
    "import numpy as np\n",
    "def parse_data(data):\n",
    "    d = {}\n",
    "    for tile in data.strip().split('\\n\\n'):\n",
    "        id_line, *tile_vals = tile.split('\\n')\n",
    "        tile_id = int(id_line.split(' ')[1][:-1])\n",
    "        a = np.array([[c == '#' for c in row] for row in tile_vals])\n",
    "        d[tile_id] = a\n",
    "    return d"
   ]
  },
  {
   "cell_type": "code",
   "execution_count": null,
   "metadata": {},
   "outputs": [],
   "source": [
    "from collections import defaultdict\n",
    "\n",
    "def get_possible_edges(d):\n",
    "    edge_dict = defaultdict(set)\n",
    "    for (tile_id, a) in d.items():\n",
    "        edges = [a[0, :],\n",
    "                 a[:, 0],\n",
    "                 a[-1, :],\n",
    "                 a[:, -1]]\n",
    "        for edge in edges:\n",
    "            edge_rep_a = tuple(edge)\n",
    "            edge_rep_b = tuple(edge[::-1])\n",
    "            edge_dict[min(edge_rep_a, edge_rep_b)].add(tile_id)\n",
    "\n",
    "    tile_map = defaultdict(dict)\n",
    "    for edge, tile_set in edge_dict.items():\n",
    "        for tile_0 in tile_set:\n",
    "            for tile_1 in tile_set:\n",
    "                if tile_0 != tile_1:\n",
    "                    tile_map[tile_0][tile_1] = edge\n",
    "                    \n",
    "    return edge_dict, tile_map"
   ]
  },
  {
   "cell_type": "code",
   "execution_count": null,
   "metadata": {},
   "outputs": [],
   "source": [
    "d = parse_data(test_data)\n",
    "get_possible_edges(d)"
   ]
  },
  {
   "cell_type": "markdown",
   "metadata": {},
   "source": [
    "#### function def"
   ]
  },
  {
   "cell_type": "code",
   "execution_count": null,
   "metadata": {},
   "outputs": [],
   "source": [
    "def q_1(data):\n",
    "    d = parse_data(data)\n",
    "    possible_edges, tile_map = get_possible_edges(d)\n",
    "    # shortcut:\n",
    "    only_corners = {k for (k, v) in tile_map.items() if len(v) == 2}\n",
    "    if len(only_corners) == 4:\n",
    "        x = 1\n",
    "        for tile_id in only_corners:\n",
    "            x *= tile_id\n",
    "        return x\n",
    "    raise ValueError()\n",
    "    return d, possible_edges"
   ]
  },
  {
   "cell_type": "markdown",
   "metadata": {},
   "source": [
    "#### tests"
   ]
  },
  {
   "cell_type": "code",
   "execution_count": null,
   "metadata": {},
   "outputs": [],
   "source": [
    "def test_q_1():\n",
    "    LOGGER.setLevel(logging.DEBUG)\n",
    "    assert q_1(test_data) == 20899048083289\n",
    "    LOGGER.setLevel(logging.INFO)"
   ]
  },
  {
   "cell_type": "code",
   "execution_count": null,
   "metadata": {},
   "outputs": [],
   "source": [
    "q_1(test_data)"
   ]
  },
  {
   "cell_type": "code",
   "execution_count": null,
   "metadata": {},
   "outputs": [],
   "source": [
    "test_q_1()"
   ]
  },
  {
   "cell_type": "markdown",
   "metadata": {},
   "source": [
    "#### answer"
   ]
  },
  {
   "cell_type": "code",
   "execution_count": null,
   "metadata": {},
   "outputs": [],
   "source": [
    "q_1(load_data())"
   ]
  },
  {
   "cell_type": "markdown",
   "metadata": {},
   "source": [
    "## part 2\n",
    "\n",
    "### problem statement:"
   ]
  },
  {
   "cell_type": "markdown",
   "metadata": {},
   "source": [
    "#### function def"
   ]
  },
  {
   "cell_type": "code",
   "execution_count": null,
   "metadata": {},
   "outputs": [],
   "source": [
    "def q_2(data):\n",
    "    d = parse_data(data)\n",
    "    possible_edges, tile_map = get_possible_edges(d)\n",
    "    interiors = {tile_id: d[tile_id]\n",
    "                 for (tile_id, neighbor_set) in tile_map.items()\n",
    "                 if len(neighbor_set) == 4}\n",
    "    possible_occupied = sum(a.sum() for a in interiors.values())\n",
    "    snake_cts = [possible_occupied - 15 * i for i in range(2, 10)]\n",
    "    return d, possible_edges, tile_map, interiors, possible_occupied, snake_cts"
   ]
  },
  {
   "cell_type": "code",
   "execution_count": null,
   "metadata": {},
   "outputs": [],
   "source": [
    "d, possible_edges, tile_map, interiors, possible_occupied, snake_cts = q_2(load_data())\n",
    "size = len(tile_map) ** .5\n",
    "size"
   ]
  },
  {
   "cell_type": "code",
   "execution_count": null,
   "metadata": {},
   "outputs": [],
   "source": [
    "interiors"
   ]
  },
  {
   "cell_type": "code",
   "execution_count": null,
   "metadata": {},
   "outputs": [],
   "source": [
    "import networkx as nx"
   ]
  },
  {
   "cell_type": "code",
   "execution_count": null,
   "metadata": {},
   "outputs": [],
   "source": [
    "tile_map"
   ]
  },
  {
   "cell_type": "code",
   "execution_count": null,
   "metadata": {},
   "outputs": [],
   "source": [
    "g = nx.Graph()\n",
    "for src, dst_dict in tile_map.items():\n",
    "    for dst in dst_dict:\n",
    "        g.add_edge(src, dst)"
   ]
  },
  {
   "cell_type": "code",
   "execution_count": null,
   "metadata": {},
   "outputs": [],
   "source": [
    "import matplotlib.pyplot as plt\n",
    "%matplotlib inline"
   ]
  },
  {
   "cell_type": "code",
   "execution_count": null,
   "metadata": {},
   "outputs": [],
   "source": [
    "logging.getLogger('matplotlib').setLevel(logging.ERROR)\n",
    "fig, ax = plt.subplots(1, 1, figsize=(15, 15))\n",
    "nx.draw_kamada_kawai(g, with_labels=True, font_color='red', font_size=16, node_color='white')"
   ]
  },
  {
   "cell_type": "code",
   "execution_count": null,
   "metadata": {},
   "outputs": [],
   "source": [
    "box = [\n",
    "    [1759, 2287, 2663, 2609, 3769, 3637, 2011, 2273, 1699, 3593, 3529, 2719],\n",
    "    [1069, 2003, 2671, 2879, 3467, 3449, 3251, 1607, 1459, 1811, 1409, 3271],\n",
    "    [2917, 1481, 3833, 1061, 1549, 1423, 3049, 3557, 1913, 2729, 1787, 1609],\n",
    "    [1721, 3347, 3371, 1973, 2129, 2803, 2459, 1523, 1783, 1801, 1553, 3881],\n",
    "    [1063, 2269, 2711, 3797, 1559, 1861, 1109, 1901, 3917, 2437, 2791, 2381],\n",
    "    [3259, 2063, 3533, 3079, 1531, 3307, 2819, 3191, 2789, 1153, 3919, 1087],\n",
    "    [1307, 1667, 1187, 1831, 1583, 1301, 2237, 2699, 3041, 2549, 2887, 1949],\n",
    "    [3037, 1747, 3203, 1051, 1907, 2473, 2399, 3659, 1283, 2591, 1823, 1889],\n",
    "    [2713, 1847, 1933, 2777, 1427, 3119, 2749, 2347, 3821, 1279, 1697, 2939],\n",
    "    [1471, 1367, 2909, 2081, 3461, 3889, 3499, 2539, 3709, 3373, 3947, 3169],\n",
    "    [1319, 1093, 2281, 3793, 2797, 2089, 1163, 1019, 1979, 1447, 1657, 3607],\n",
    "    [2801, 2203, 3697, 1249, 1031, 1867, 1303, 1723, 2411, 1871, 3727, 3823],\n",
    "]"
   ]
  },
  {
   "cell_type": "code",
   "execution_count": null,
   "metadata": {},
   "outputs": [],
   "source": [
    "import itertools\n",
    "\n",
    "def transform_a(a, reflect_x, reflect_y, transpose):\n",
    "    if reflect_x:\n",
    "        a = np.flip(a, 0)\n",
    "    if reflect_y:\n",
    "        a = np.flip(a, 1)\n",
    "    if transpose:\n",
    "        a = a.T\n",
    "    return a\n",
    "\n",
    "def get_orientations(a):\n",
    "    a = a.copy()\n",
    "    for xyt in itertools.product([True, False], [True, False], [True, False]):\n",
    "        yield transform_a(a, *xyt), xyt"
   ]
  },
  {
   "cell_type": "code",
   "execution_count": null,
   "metadata": {},
   "outputs": [],
   "source": [
    "for i, ((a_lft, xyt_lft), (a_rgt, xyt_rgt)) in enumerate(itertools.combinations(list(get_orientations(d[1759])), 2)):\n",
    "    if (a_lft == a_rgt).all():\n",
    "        print(xyt_lft, xyt_rgt)"
   ]
  },
  {
   "cell_type": "code",
   "execution_count": null,
   "metadata": {},
   "outputs": [],
   "source": [
    "# 8: transpose, reflect x, refect y"
   ]
  },
  {
   "cell_type": "code",
   "execution_count": null,
   "metadata": {},
   "outputs": [],
   "source": [
    "# fix the orientation of 2003 by hand first"
   ]
  },
  {
   "cell_type": "code",
   "execution_count": null,
   "metadata": {},
   "outputs": [],
   "source": [
    "print(f'1759 right to 2287: {tile_map[1759][2287]}')\n",
    "print(f'1759 down to 1069: {tile_map[1759][1069]}')"
   ]
  },
  {
   "cell_type": "code",
   "execution_count": null,
   "metadata": {},
   "outputs": [],
   "source": [
    "for (i, (a, xyt)) in enumerate(get_orientations(d[1759])):\n",
    "    if a[:, -1].sum() == 5 and a[-1, :].sum() == 4:\n",
    "        print(i)\n",
    "        print(a)\n",
    "        known_tiles = {}\n",
    "        known_tiles[0, 0] = a"
   ]
  },
  {
   "cell_type": "code",
   "execution_count": null,
   "metadata": {},
   "outputs": [],
   "source": [
    "for (i, row) in enumerate(box):\n",
    "    for (j, tile_id) in enumerate(row[:-1]):\n",
    "        # there can be only one way to connect this to the one to its right; choose it\n",
    "        tile_id_right = row[j + 1]\n",
    "        a = known_tiles[i, j]\n",
    "        a_right_orig = d[tile_id_right]\n",
    "        \n",
    "        for (a_right, xyt_right) in get_orientations(a_right_orig):\n",
    "            if (a[:, -1] == a_right[: ,0]).all():\n",
    "                known_tiles[i, j + 1] = a_right\n",
    "                break\n",
    "        \n",
    "        if (j == 0) and (i != (len(box) - 1)):\n",
    "            tile_id_down = box[i + 1][j]\n",
    "            a_down_orig = d[tile_id_down]\n",
    "            for (a_down, xyt_down) in get_orientations(a_down_orig):\n",
    "                if (a[-1, :] == a_down[0, :]).all():\n",
    "                    known_tiles[i + 1, j] = a_down\n",
    "                    break"
   ]
  },
  {
   "cell_type": "code",
   "execution_count": null,
   "metadata": {},
   "outputs": [],
   "source": [
    "# assemble\n",
    "z = np.zeros((8 * 12, 8 * 12), bool)\n",
    "\n",
    "for ((i, j), tile) in known_tiles.items():\n",
    "    i0 = 8 * i\n",
    "    j0 = 8 * j\n",
    "    z[i0: i0 + 8, j0: j0 + 8] = tile[1: 9, 1: 9]\n",
    "\n",
    "\n",
    "ax, fig = plt.subplots(1, 1, figsize=(15, 15))\n",
    "fig.imshow(z)"
   ]
  },
  {
   "cell_type": "code",
   "execution_count": null,
   "metadata": {},
   "outputs": [],
   "source": [
    "MONSTER = \"\"\"                  # \n",
    "#    ##    ##    ###\n",
    " #  #  #  #  #  #   \"\"\".replace(' ', '.')\n",
    "MONSTER = np.array([[c == '#' for c in row] for row in MONSTER.split('\\n')])\n",
    "\n",
    "ax, fig\n",
    "plt.imshow(MONSTER)"
   ]
  },
  {
   "cell_type": "code",
   "execution_count": null,
   "metadata": {},
   "outputs": [],
   "source": [
    "# find sea creatures\n",
    "def find_monsters(img, monster):\n",
    "    for i0 in range(img.shape[0] - monster.shape[0]):\n",
    "        for j0 in range(img.shape[1] - monster.shape[1]):\n",
    "            sub_img = img[i0: i0 + monster.shape[0],\n",
    "                          j0: j0 + monster.shape[1]]\n",
    "            if (monster == (sub_img & monster)).all():\n",
    "                yield i0, j0"
   ]
  },
  {
   "cell_type": "code",
   "execution_count": null,
   "metadata": {},
   "outputs": [],
   "source": [
    "# test case\n",
    "img = \"\"\".####...#####..#...###..\n",
    "#####..#..#.#.####..#.#.\n",
    ".#.#...#.###...#.##.O#..\n",
    "#.O.##.OO#.#.OO.##.OOO##\n",
    "..#O.#O#.O##O..O.#O##.##\n",
    "...#.#..##.##...#..#..##\n",
    "#.##.#..#.#..#..##.#.#..\n",
    ".###.##.....#...###.#...\n",
    "#.####.#.#....##.#..#.#.\n",
    "##...#..#....#..#...####\n",
    "..#.##...###..#.#####..#\n",
    "....#.##.#.#####....#...\n",
    "..##.##.###.....#.##..#.\n",
    "#...#...###..####....##.\n",
    ".#.##...#.##.#.#.###...#\n",
    "#.###.#..####...##..#...\n",
    "#.###...#.##...#.##O###.\n",
    ".O##.#OO.###OO##..OOO##.\n",
    "..O#.O..O..O.#O##O##.###\n",
    "#.#..##.########..#..##.\n",
    "#.#####..#.#...##..#....\n",
    "#....##..#.#########..##\n",
    "#...#.....#..##...###.##\n",
    "#..###....##.#...##.##.#\"\"\".replace('O', '#')\n",
    "\n",
    "img = np.array([[c == '#' for c in row] for row in img.split('\\n')])\n",
    "\n",
    "N = len(list(find_monsters(img, MONSTER)))\n",
    "assert N == 2\n",
    "\n",
    "print(img.sum() - N * MONSTER.sum())"
   ]
  },
  {
   "cell_type": "code",
   "execution_count": null,
   "metadata": {},
   "outputs": [],
   "source": [
    "for z_prime, xyt_prime in get_orientations(z):\n",
    "    monsters = list(find_monsters(z_prime, MONSTER))\n",
    "    N = len(monsters)\n",
    "    print(N)\n",
    "    if N != 0:\n",
    "        print(f\"answer: {z_prime.sum() - N * MONSTER.sum()}\")\n",
    "        break"
   ]
  },
  {
   "cell_type": "markdown",
   "metadata": {},
   "source": [
    "let's see them monsters!"
   ]
  },
  {
   "cell_type": "code",
   "execution_count": null,
   "metadata": {},
   "outputs": [],
   "source": [
    "plottable = z_prime.astype(int)\n",
    "for (i0, j0) in monsters:\n",
    "    plottable[i0: i0 + MONSTER.shape[0], j0: j0 + MONSTER.shape[1]] += MONSTER\n",
    "\n",
    "ax, fig = plt.subplots(1, 1, figsize=(15, 15))\n",
    "fig.imshow(plottable, cmap='cividis')"
   ]
  },
  {
   "cell_type": "markdown",
   "metadata": {},
   "source": [
    "#### tests"
   ]
  },
  {
   "cell_type": "code",
   "execution_count": null,
   "metadata": {},
   "outputs": [],
   "source": [
    "# def test_q_2():\n",
    "#     LOGGER.setLevel(logging.DEBUG)\n",
    "#     assert q_2(test_data) == True\n",
    "#     LOGGER.setLevel(logging.INFO)"
   ]
  },
  {
   "cell_type": "code",
   "execution_count": null,
   "metadata": {
    "scrolled": true
   },
   "outputs": [],
   "source": [
    "# test_q_2()"
   ]
  },
  {
   "cell_type": "markdown",
   "metadata": {},
   "source": [
    "#### answer"
   ]
  },
  {
   "cell_type": "code",
   "execution_count": null,
   "metadata": {
    "scrolled": true
   },
   "outputs": [],
   "source": [
    "# q_2(load_data())"
   ]
  },
  {
   "cell_type": "markdown",
   "metadata": {},
   "source": [
    "fin"
   ]
  }
 ],
 "metadata": {
  "kernelspec": {
   "display_name": "Python 3",
   "language": "python",
   "name": "python3"
  },
  "language_info": {
   "codemirror_mode": {
    "name": "ipython",
    "version": 3
   },
   "file_extension": ".py",
   "mimetype": "text/x-python",
   "name": "python",
   "nbconvert_exporter": "python",
   "pygments_lexer": "ipython3",
   "version": "3.7.3"
  },
  "toc": {
   "base_numbering": 1,
   "nav_menu": {},
   "number_sections": true,
   "sideBar": true,
   "skip_h1_title": false,
   "title_cell": "Table of Contents",
   "title_sidebar": "Contents",
   "toc_cell": false,
   "toc_position": {},
   "toc_section_display": true,
   "toc_window_display": false
  }
 },
 "nbformat": 4,
 "nbformat_minor": 2
}
