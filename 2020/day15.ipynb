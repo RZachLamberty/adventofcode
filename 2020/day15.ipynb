{
 "cells": [
  {
   "cell_type": "markdown",
   "metadata": {},
   "source": [
    "# day 15\n",
    "\n",
    "https://adventofcode.com/2020/day/15"
   ]
  },
  {
   "cell_type": "code",
   "execution_count": null,
   "metadata": {},
   "outputs": [],
   "source": [
    "import logging\n",
    "import logging.config\n",
    "import os\n",
    "\n",
    "import yaml"
   ]
  },
  {
   "cell_type": "code",
   "execution_count": null,
   "metadata": {},
   "outputs": [],
   "source": [
    "with open('../logging.yaml') as fp:\n",
    "    logging_config = yaml.load(fp, Loader=yaml.FullLoader)\n",
    "\n",
    "logging.config.dictConfig(logging_config)"
   ]
  },
  {
   "cell_type": "code",
   "execution_count": null,
   "metadata": {},
   "outputs": [],
   "source": [
    "FNAME = os.path.join('data', 'day15.txt')\n",
    "\n",
    "LOGGER = logging.getLogger('day15')"
   ]
  },
  {
   "cell_type": "markdown",
   "metadata": {},
   "source": [
    "## part 1\n",
    "\n",
    "### problem statement:"
   ]
  },
  {
   "cell_type": "markdown",
   "metadata": {},
   "source": [
    "#### loading data"
   ]
  },
  {
   "cell_type": "code",
   "execution_count": null,
   "metadata": {},
   "outputs": [],
   "source": [
    "def load_data(fname=FNAME):\n",
    "    return [0,13,16,17,1,10,6]"
   ]
  },
  {
   "cell_type": "markdown",
   "metadata": {},
   "source": [
    "#### function def"
   ]
  },
  {
   "cell_type": "code",
   "execution_count": null,
   "metadata": {},
   "outputs": [],
   "source": [
    "from tqdm.notebook import trange"
   ]
  },
  {
   "cell_type": "code",
   "execution_count": null,
   "metadata": {},
   "outputs": [],
   "source": [
    "def q_1(data, N=2020):\n",
    "    said = list(reversed(data[:-1]))\n",
    "    to_say = data[-1]\n",
    "    for i in trange(len(data) + 1, N + 1):\n",
    "        #LOGGER.debug(f\"{i}: {to_say}\")\n",
    "        try:\n",
    "            depth = said.index(to_say) + 1\n",
    "        except ValueError:\n",
    "            depth = 0\n",
    "        said.insert(0, to_say)\n",
    "        to_say = depth\n",
    "    return to_say"
   ]
  },
  {
   "cell_type": "markdown",
   "metadata": {},
   "source": [
    "#### tests"
   ]
  },
  {
   "cell_type": "code",
   "execution_count": null,
   "metadata": {},
   "outputs": [],
   "source": [
    "def test_q_1():\n",
    "    LOGGER.setLevel(logging.DEBUG)\n",
    "    assert q_1([0,3,6]) == 436\n",
    "    assert q_1([1,3,2]) == 1\n",
    "    assert q_1([2,1,3]) == 10\n",
    "    assert q_1([1,2,3]) == 27\n",
    "    assert q_1([2,3,1]) == 78\n",
    "    assert q_1([3,2,1]) == 438\n",
    "    assert q_1([3,1,2]) == 1836\n",
    "    LOGGER.setLevel(logging.INFO)"
   ]
  },
  {
   "cell_type": "code",
   "execution_count": null,
   "metadata": {},
   "outputs": [],
   "source": [
    "test_q_1()"
   ]
  },
  {
   "cell_type": "markdown",
   "metadata": {},
   "source": [
    "#### answer"
   ]
  },
  {
   "cell_type": "code",
   "execution_count": null,
   "metadata": {},
   "outputs": [],
   "source": [
    "q_1(load_data())"
   ]
  },
  {
   "cell_type": "markdown",
   "metadata": {},
   "source": [
    "## part 2\n",
    "\n",
    "### problem statement:"
   ]
  },
  {
   "cell_type": "markdown",
   "metadata": {},
   "source": [
    "#### function def"
   ]
  },
  {
   "cell_type": "code",
   "execution_count": null,
   "metadata": {},
   "outputs": [],
   "source": [
    "def q_2(data, N):\n",
    "    last_said = {x: i for (i, x) in enumerate(data[:-1])}\n",
    "    to_say = data[-1]\n",
    "    for i in trange(len(data), N):\n",
    "        try:\n",
    "            time_since = (i - 1) - last_said[to_say]\n",
    "        except KeyError:\n",
    "            time_since = 0\n",
    "        last_said[to_say] = i - 1\n",
    "        to_say = time_since\n",
    "    return to_say"
   ]
  },
  {
   "cell_type": "code",
   "execution_count": null,
   "metadata": {},
   "outputs": [],
   "source": [
    "data = [0,3,6]\n",
    "N = 2020\n",
    "last_said = {x: i for (i, x) in enumerate(data[:-1])}\n",
    "to_say = data[-1]\n",
    "\n",
    "i = 3"
   ]
  },
  {
   "cell_type": "markdown",
   "metadata": {},
   "source": [
    "#### tests"
   ]
  },
  {
   "cell_type": "code",
   "execution_count": null,
   "metadata": {},
   "outputs": [],
   "source": [
    "def test_q_2():\n",
    "    LOGGER.setLevel(logging.DEBUG)\n",
    "    assert q_2([0,3,6], 2020) == 436\n",
    "    assert q_2([1,3,2], 2020) == 1\n",
    "    assert q_2([2,1,3], 2020) == 10\n",
    "    assert q_2([1,2,3], 2020) == 27\n",
    "    assert q_2([2,3,1], 2020) == 78\n",
    "    assert q_2([3,2,1], 2020) == 438\n",
    "    assert q_2([3,1,2], 2020) == 1836\n",
    "    \n",
    "    assert q_2([0,3,6], 30_000_000) == 175594\n",
    "    assert q_2([1,3,2], 30_000_000) == 2578\n",
    "    assert q_2([2,1,3], 30_000_000) == 3544142\n",
    "    assert q_2([1,2,3], 30_000_000) == 261214\n",
    "    assert q_2([2,3,1], 30_000_000) == 6895259\n",
    "    assert q_2([3,2,1], 30_000_000) == 18\n",
    "    assert q_2([3,1,2], 30_000_000) == 362\n",
    "    LOGGER.setLevel(logging.INFO)"
   ]
  },
  {
   "cell_type": "code",
   "execution_count": null,
   "metadata": {
    "scrolled": false
   },
   "outputs": [],
   "source": [
    "# test_q_2()"
   ]
  },
  {
   "cell_type": "markdown",
   "metadata": {},
   "source": [
    "#### answer"
   ]
  },
  {
   "cell_type": "code",
   "execution_count": null,
   "metadata": {
    "scrolled": true
   },
   "outputs": [],
   "source": [
    "q_2(load_data(), 30_000_000)"
   ]
  },
  {
   "cell_type": "markdown",
   "metadata": {},
   "source": [
    "fin"
   ]
  }
 ],
 "metadata": {
  "kernelspec": {
   "display_name": "Python 3",
   "language": "python",
   "name": "python3"
  },
  "language_info": {
   "codemirror_mode": {
    "name": "ipython",
    "version": 3
   },
   "file_extension": ".py",
   "mimetype": "text/x-python",
   "name": "python",
   "nbconvert_exporter": "python",
   "pygments_lexer": "ipython3",
   "version": "3.7.3"
  },
  "toc": {
   "base_numbering": 1,
   "nav_menu": {},
   "number_sections": true,
   "sideBar": true,
   "skip_h1_title": false,
   "title_cell": "Table of Contents",
   "title_sidebar": "Contents",
   "toc_cell": false,
   "toc_position": {},
   "toc_section_display": true,
   "toc_window_display": false
  }
 },
 "nbformat": 4,
 "nbformat_minor": 2
}
