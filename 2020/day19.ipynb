{
 "cells": [
  {
   "cell_type": "markdown",
   "metadata": {},
   "source": [
    "# day 19\n",
    "\n",
    "https://adventofcode.com/2020/day/19"
   ]
  },
  {
   "cell_type": "code",
   "execution_count": null,
   "metadata": {},
   "outputs": [],
   "source": [
    "import logging\n",
    "import logging.config\n",
    "import os\n",
    "\n",
    "import yaml"
   ]
  },
  {
   "cell_type": "code",
   "execution_count": null,
   "metadata": {},
   "outputs": [],
   "source": [
    "with open('../logging.yaml') as fp:\n",
    "    logging_config = yaml.load(fp, Loader=yaml.FullLoader)\n",
    "\n",
    "logging.config.dictConfig(logging_config)"
   ]
  },
  {
   "cell_type": "code",
   "execution_count": null,
   "metadata": {},
   "outputs": [],
   "source": [
    "FNAME = os.path.join('data', 'day19.txt')\n",
    "\n",
    "LOGGER = logging.getLogger('day19')"
   ]
  },
  {
   "cell_type": "markdown",
   "metadata": {},
   "source": [
    "## part 1\n",
    "\n",
    "### problem statement:"
   ]
  },
  {
   "cell_type": "markdown",
   "metadata": {},
   "source": [
    "#### loading data"
   ]
  },
  {
   "cell_type": "code",
   "execution_count": null,
   "metadata": {},
   "outputs": [],
   "source": [
    "test_data = \"\"\"0: 4 1 5\n",
    "1: 2 3 | 3 2\n",
    "2: 4 4 | 5 5\n",
    "3: 4 5 | 5 4\n",
    "4: \"a\"\n",
    "5: \"b\"\n",
    "\n",
    "ababbb\n",
    "bababa\n",
    "abbbab\n",
    "aaabbb\n",
    "aaaabbb\"\"\""
   ]
  },
  {
   "cell_type": "code",
   "execution_count": null,
   "metadata": {},
   "outputs": [],
   "source": [
    "def load_data(fname=FNAME):\n",
    "    with open(fname) as fp:\n",
    "        return fp.read().strip()\n",
    "        #return [line.strip() for line in fp]"
   ]
  },
  {
   "cell_type": "code",
   "execution_count": null,
   "metadata": {},
   "outputs": [],
   "source": [
    "def parse_data(data):\n",
    "    rules, message = data.split('\\n\\n')\n",
    "    rules = parse_rules(rules)\n",
    "    return rules, message"
   ]
  },
  {
   "cell_type": "code",
   "execution_count": null,
   "metadata": {},
   "outputs": [],
   "source": [
    "def resolve_rule(k, d):\n",
    "    resolved_rule = ''\n",
    "    s = d[k]['str']\n",
    "    LOGGER.debug(f'resolving rule {k}: {s}')\n",
    "    inner = '|'.join(''.join([d[int(c)]['str'] for c in rule_set.split(' ')])\n",
    "                     for rule_set in s.split(' | '))\n",
    "    new_val = f\"(?:{inner})\"\n",
    "    d[k] = {'str': new_val,\n",
    "            'is_unresolved': False,\n",
    "            'int_chars': set()}"
   ]
  },
  {
   "cell_type": "code",
   "execution_count": null,
   "metadata": {},
   "outputs": [],
   "source": [
    "import re\n",
    "\n",
    "def parse_rules(rules):\n",
    "    d = {}\n",
    "    # initial version\n",
    "    for line in rules.strip().split('\\n'):\n",
    "        k, v = line.split(': ')\n",
    "        k = int(k)\n",
    "        v = v.replace('\"', '')\n",
    "        is_unresolved = re.match('[ab\\(\\)]+', v) is None\n",
    "        \n",
    "        d[int(k)] = {'str': v,\n",
    "                     'is_unresolved': is_unresolved,\n",
    "                     'int_chars': {int(_) for _ in re.findall('\\d+', v)}}\n",
    "    \n",
    "    # which ones do we \"know\" vs. those we have to figure out yet\n",
    "    while any(v['is_unresolved'] for v in d.values()):\n",
    "        resolved = {k for (k, v) in d.items() if not v['is_unresolved']}\n",
    "        LOGGER.debug(f\"number currently unresolved: {len(d) - len(resolved)}\")\n",
    "        any_new_resolved = False\n",
    "        for (k, v) in d.items():\n",
    "            if v['int_chars'] and v['int_chars'].issubset(resolved):\n",
    "                resolve_rule(k, d)\n",
    "                LOGGER.debug(f\"rule {k} resolved\")\n",
    "                any_new_resolved = True\n",
    "        \n",
    "        if not any_new_resolved:\n",
    "            LOGGER.info(\"found a loop\")\n",
    "            break\n",
    "    \n",
    "    return d"
   ]
  },
  {
   "cell_type": "markdown",
   "metadata": {},
   "source": [
    "#### function def"
   ]
  },
  {
   "cell_type": "code",
   "execution_count": null,
   "metadata": {},
   "outputs": [],
   "source": [
    "def q_1(data):\n",
    "    rules, message = data.split('\\n\\n')\n",
    "    d = parse_rules(rules)\n",
    "    return len([m for m in message.strip().split('\\n')\n",
    "                if re.match(d[0]['str'] + '$', m) is not None])"
   ]
  },
  {
   "cell_type": "markdown",
   "metadata": {},
   "source": [
    "#### tests"
   ]
  },
  {
   "cell_type": "code",
   "execution_count": null,
   "metadata": {},
   "outputs": [],
   "source": [
    "def test_q_1():\n",
    "    LOGGER.setLevel(logging.DEBUG)\n",
    "    assert q_1(test_data) == 2\n",
    "    LOGGER.setLevel(logging.INFO)"
   ]
  },
  {
   "cell_type": "code",
   "execution_count": null,
   "metadata": {},
   "outputs": [],
   "source": [
    "test_q_1()"
   ]
  },
  {
   "cell_type": "markdown",
   "metadata": {},
   "source": [
    "#### answer"
   ]
  },
  {
   "cell_type": "code",
   "execution_count": null,
   "metadata": {},
   "outputs": [],
   "source": [
    "q_1(load_data())"
   ]
  },
  {
   "cell_type": "markdown",
   "metadata": {},
   "source": [
    "## part 2\n",
    "\n",
    "### problem statement:"
   ]
  },
  {
   "cell_type": "code",
   "execution_count": null,
   "metadata": {},
   "outputs": [],
   "source": [
    "test_data = \"\"\"42: 9 14 | 10 1\n",
    "9: 14 27 | 1 26\n",
    "10: 23 14 | 28 1\n",
    "1: \"a\"\n",
    "11: 42 31\n",
    "5: 1 14 | 15 1\n",
    "19: 14 1 | 14 14\n",
    "12: 24 14 | 19 1\n",
    "16: 15 1 | 14 14\n",
    "31: 14 17 | 1 13\n",
    "6: 14 14 | 1 14\n",
    "2: 1 24 | 14 4\n",
    "0: 8 11\n",
    "13: 14 3 | 1 12\n",
    "15: 1 | 14\n",
    "17: 14 2 | 1 7\n",
    "23: 25 1 | 22 14\n",
    "28: 16 1\n",
    "4: 1 1\n",
    "20: 14 14 | 1 15\n",
    "3: 5 14 | 16 1\n",
    "27: 1 6 | 14 18\n",
    "14: \"b\"\n",
    "21: 14 1 | 1 14\n",
    "25: 1 1 | 1 14\n",
    "22: 14 14\n",
    "8: 42\n",
    "26: 14 22 | 1 20\n",
    "18: 15 15\n",
    "7: 14 5 | 1 21\n",
    "24: 14 1\n",
    "\n",
    "abbbbbabbbaaaababbaabbbbabababbbabbbbbbabaaaa\n",
    "bbabbbbaabaabba\n",
    "babbbbaabbbbbabbbbbbaabaaabaaa\n",
    "aaabbbbbbaaaabaababaabababbabaaabbababababaaa\n",
    "bbbbbbbaaaabbbbaaabbabaaa\n",
    "bbbababbbbaaaaaaaabbababaaababaabab\n",
    "ababaaaaaabaaab\n",
    "ababaaaaabbbaba\n",
    "baabbaaaabbaaaababbaababb\n",
    "abbbbabbbbaaaababbbbbbaaaababb\n",
    "aaaaabbaabaaaaababaa\n",
    "aaaabbaaaabbaaa\n",
    "aaaabbaabbaaaaaaabbbabbbaaabbaabaaa\n",
    "babaaabbbaaabaababbaabababaaab\n",
    "aabbbbbaabbbaaaaaabbbbbababaaaaabbaaabba\"\"\""
   ]
  },
  {
   "cell_type": "markdown",
   "metadata": {},
   "source": [
    "#### function def"
   ]
  },
  {
   "cell_type": "code",
   "execution_count": null,
   "metadata": {},
   "outputs": [],
   "source": [
    "# data = test_data\n",
    "# rules, message = data.split('\\n\\n')\n",
    "# rules = re.sub('8:.*', '8: 42 | 42 8', rules)\n",
    "# rules = re.sub('11:.*', '11: 42 31 | 42 11 31', rules)\n",
    "# print(rules)\n",
    "# parse_rules(rules)"
   ]
  },
  {
   "cell_type": "code",
   "execution_count": null,
   "metadata": {},
   "outputs": [],
   "source": [
    "data = test_data\n",
    "\n",
    "rules, message = data.split('\\n\\n')\n",
    "    \n",
    "#rules = re.sub('8:.*', '8: 42 | 42 8', rules)\n",
    "rules = re.sub('8:.*', '8: 42', rules)\n",
    "\n",
    "#rules = re.sub('11:.*', '42 31 | 42 11 31', rules)\n",
    "rules = re.sub('11:.*', '11: 42 31', rules)\n",
    "\n",
    "print(rules)"
   ]
  },
  {
   "cell_type": "code",
   "execution_count": null,
   "metadata": {},
   "outputs": [],
   "source": [
    "def q_2(data):\n",
    "    rules, message = data.split('\\n\\n')\n",
    "    \n",
    "    #rules = re.sub('8:.*', '8: 42 | 42 8', rules)\n",
    "    rules = re.sub('8:.*', '8: 42', rules)\n",
    "    \n",
    "    #rules = re.sub('11:.*', '42 31 | 42 11 31', rules)\n",
    "    rules = re.sub('11:.*', '11: 42 31', rules)\n",
    "    \n",
    "    d = parse_rules(rules)\n",
    "\n",
    "    return len([m for m in message.strip().split('\\n')\n",
    "                if re.match(d[0]['str'] + '$', m) is not None])"
   ]
  },
  {
   "cell_type": "markdown",
   "metadata": {},
   "source": [
    "#### tests"
   ]
  },
  {
   "cell_type": "code",
   "execution_count": null,
   "metadata": {},
   "outputs": [],
   "source": [
    "def test_q_2():\n",
    "    LOGGER.setLevel(logging.DEBUG)\n",
    "    z = q_2(test_data)\n",
    "    assert z == 12, z\n",
    "    LOGGER.setLevel(logging.INFO)"
   ]
  },
  {
   "cell_type": "code",
   "execution_count": null,
   "metadata": {
    "scrolled": true
   },
   "outputs": [],
   "source": [
    "test_q_2()"
   ]
  },
  {
   "cell_type": "markdown",
   "metadata": {},
   "source": [
    "#### answer"
   ]
  },
  {
   "cell_type": "code",
   "execution_count": null,
   "metadata": {
    "scrolled": true
   },
   "outputs": [],
   "source": [
    "q_2(load_data())"
   ]
  },
  {
   "cell_type": "markdown",
   "metadata": {},
   "source": [
    "fin"
   ]
  },
  {
   "cell_type": "code",
   "execution_count": null,
   "metadata": {},
   "outputs": [],
   "source": [
    "import collections\n",
    "from collections import defaultdict\n",
    "import enum\n",
    "import functools\n",
    "import itertools\n",
    "import math\n",
    "import operator\n",
    "import os.path\n",
    "import re\n",
    "import sys\n",
    "\n",
    "#import numpy as np\n",
    "\n",
    "\n",
    "def get_input(filename=None):\n",
    "  if not filename:\n",
    "    filename = os.path.splitext(os.path.basename(__file__))[0] + '.txt'\n",
    "  with open(filename) as fp:\n",
    "    input = fp.read().rstrip('\\n')\n",
    "\n",
    "  rules = {}\n",
    "  messages = []\n",
    "\n",
    "  in_rules = True\n",
    "\n",
    "  for line in input.split('\\n'):\n",
    "    if in_rules:\n",
    "      if not line:\n",
    "        in_rules = False\n",
    "        continue\n",
    "      match = re.search(\n",
    "          r'^(\\d+): (?:\\\"(\\w)\\\"|(\\d+(?: \\d+)*(?: \\| \\d+(?: \\d+)*)*))$',\n",
    "          line)\n",
    "      rule_num = int(match.group(1))\n",
    "      if match.group(2):\n",
    "        rules[rule_num] = match.group(2)\n",
    "      else:\n",
    "        rules[rule_num] = [list(map(int, re.findall(r'\\d+', option)))\n",
    "                           for option in match.group(3).split('|')]\n",
    "    else:\n",
    "      messages.append(line)\n",
    "  return rules, messages\n",
    "\n",
    "\n",
    "def match_rules(rules, rule_nums, message):\n",
    "  if not rule_nums:\n",
    "    return not message\n",
    "  rule_num, *rule_nums = rule_nums\n",
    "  rule = rules[rule_num]\n",
    "  if isinstance(rule, str):\n",
    "    return (message.startswith(rule) and\n",
    "            match_rules(rules, rule_nums,message[len(rule):]))\n",
    "  else:\n",
    "    return any(match_rules(rules, option + rule_nums, message)\n",
    "               for option in rule)\n",
    "\n",
    "\n",
    "def part1(input):\n",
    "  rules, messages = input\n",
    "  return sum(match_rules(rules, [0], message) for message in messages)\n",
    "\n",
    "\n",
    "def part2(input):\n",
    "  rules, messages = input\n",
    "  rules[8] = [[42], [42, 8]]\n",
    "  rules[11] = [[42, 31], [42, 11, 31]]\n",
    "  return sum(match_rules(rules, [0], message) for message in messages)\n",
    "\n",
    "\n",
    "# if __name__ == '__main__':\n",
    "#   from argparse import ArgumentParser\n",
    "#   parser = ArgumentParser()\n",
    "#   parser.add_argument('input', nargs='?', metavar='input.txt')\n",
    "#   args = parser.parse_args()\n",
    "#   input = get_input(args.input)\n",
    "#   print(part1(input))\n",
    "#   print(part2(input))"
   ]
  }
 ],
 "metadata": {
  "kernelspec": {
   "display_name": "Python 3",
   "language": "python",
   "name": "python3"
  },
  "language_info": {
   "codemirror_mode": {
    "name": "ipython",
    "version": 3
   },
   "file_extension": ".py",
   "mimetype": "text/x-python",
   "name": "python",
   "nbconvert_exporter": "python",
   "pygments_lexer": "ipython3",
   "version": "3.7.3"
  },
  "toc": {
   "base_numbering": 1,
   "nav_menu": {},
   "number_sections": true,
   "sideBar": true,
   "skip_h1_title": false,
   "title_cell": "Table of Contents",
   "title_sidebar": "Contents",
   "toc_cell": false,
   "toc_position": {},
   "toc_section_display": true,
   "toc_window_display": false
  }
 },
 "nbformat": 4,
 "nbformat_minor": 2
}
