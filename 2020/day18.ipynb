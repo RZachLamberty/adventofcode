{
 "cells": [
  {
   "cell_type": "markdown",
   "metadata": {},
   "source": [
    "# day 18\n",
    "\n",
    "https://adventofcode.com/2020/day/18"
   ]
  },
  {
   "cell_type": "code",
   "execution_count": null,
   "metadata": {},
   "outputs": [],
   "source": [
    "import logging\n",
    "import logging.config\n",
    "import os\n",
    "\n",
    "import yaml"
   ]
  },
  {
   "cell_type": "code",
   "execution_count": null,
   "metadata": {},
   "outputs": [],
   "source": [
    "with open('../logging.yaml') as fp:\n",
    "    logging_config = yaml.load(fp, Loader=yaml.FullLoader)\n",
    "\n",
    "logging.config.dictConfig(logging_config)"
   ]
  },
  {
   "cell_type": "code",
   "execution_count": null,
   "metadata": {},
   "outputs": [],
   "source": [
    "FNAME = os.path.join('data', 'day18.txt')\n",
    "\n",
    "LOGGER = logging.getLogger('day18')"
   ]
  },
  {
   "cell_type": "markdown",
   "metadata": {},
   "source": [
    "## part 1\n",
    "\n",
    "### problem statement:"
   ]
  },
  {
   "cell_type": "markdown",
   "metadata": {},
   "source": [
    "#### loading data"
   ]
  },
  {
   "cell_type": "code",
   "execution_count": null,
   "metadata": {},
   "outputs": [],
   "source": [
    "def load_data(fname=FNAME):\n",
    "    with open(fname) as fp:\n",
    "        return fp.read().strip()"
   ]
  },
  {
   "cell_type": "markdown",
   "metadata": {},
   "source": [
    "#### function def"
   ]
  },
  {
   "cell_type": "code",
   "execution_count": null,
   "metadata": {},
   "outputs": [],
   "source": [
    "import re\n",
    "\n",
    "def simple_eval(s):\n",
    "    LOGGER.debug(f's = {s}')\n",
    "    if '(' in s or ')' in s:\n",
    "        raise ValueError()\n",
    "    try:\n",
    "        return int(s)\n",
    "    except ValueError:\n",
    "        rest, op, num = re.match('(.*) ([\\+\\*]) (\\d+)', s).groups()\n",
    "        lft = simple_eval(rest)\n",
    "        rgt = int(num)\n",
    "        return (lft + rgt) if op == '+' else (lft * rgt)"
   ]
  },
  {
   "cell_type": "code",
   "execution_count": null,
   "metadata": {},
   "outputs": [],
   "source": [
    "assert simple_eval(\"1 + 2 * 3 + 4 * 5 + 6\") == 71"
   ]
  },
  {
   "cell_type": "code",
   "execution_count": null,
   "metadata": {},
   "outputs": [],
   "source": [
    "from collections import defaultdict\n",
    "\n",
    "def get_depths(s):\n",
    "    num_opens = 0\n",
    "    open_ctr = defaultdict(list)\n",
    "    for (i, c) in enumerate(s):\n",
    "        if c == '(':\n",
    "            num_opens += 1\n",
    "            open_ctr[num_opens].append([i, None])\n",
    "        elif c == ')':\n",
    "            open_ctr[num_opens][-1][-1] = i + 1\n",
    "            num_opens -= 1\n",
    "        else:\n",
    "            pass\n",
    "    \n",
    "    return open_ctr\n",
    "\n",
    "def nested_eval(s):\n",
    "    depths = get_depths(s)\n",
    "    if not depths:\n",
    "        return simple_eval(s)\n",
    "    max_depth = max(depths.keys())\n",
    "    \n",
    "    for (i, j) in reversed(depths[max_depth]):\n",
    "        s = s[:i] + str(simple_eval(s[i + 1: j - 1])) + s[j:]\n",
    "    \n",
    "    return nested_eval(s)"
   ]
  },
  {
   "cell_type": "code",
   "execution_count": null,
   "metadata": {},
   "outputs": [],
   "source": [
    "expr = \"((2 + 4 * 9) * (6 + 9 * 8 + 6) + 6) + 2 + 4 * 2\"\n",
    "get_depths(expr)"
   ]
  },
  {
   "cell_type": "code",
   "execution_count": null,
   "metadata": {},
   "outputs": [],
   "source": [
    "nested_eval(expr)"
   ]
  },
  {
   "cell_type": "code",
   "execution_count": null,
   "metadata": {},
   "outputs": [],
   "source": [
    "assert nested_eval(\"1 + 2 * 3 + 4 * 5 + 6\") == 71\n",
    "assert nested_eval(\"1 + (2 * 3) + (4 * (5 + 6))\") == 51\n",
    "assert nested_eval(\"2 * 3 + (4 * 5)\") == 26\n",
    "assert nested_eval(\"5 + (8 * 3 + 9 + 3 * 4 * 3)\") == 437\n",
    "assert nested_eval(\"5 * 9 * (7 * 3 * 3 + 9 * 3 + (8 + 6 * 4))\") == 12240\n",
    "assert nested_eval(\"((2 + 4 * 9) * (6 + 9 * 8 + 6) + 6) + 2 + 4 * 2\") == 13632"
   ]
  },
  {
   "cell_type": "code",
   "execution_count": null,
   "metadata": {},
   "outputs": [],
   "source": [
    "def q_1(data):\n",
    "    return sum(nested_eval(s.strip()) for s in data.strip().split('\\n'))"
   ]
  },
  {
   "cell_type": "markdown",
   "metadata": {},
   "source": [
    "#### tests"
   ]
  },
  {
   "cell_type": "code",
   "execution_count": null,
   "metadata": {},
   "outputs": [],
   "source": [
    "test_data = \"\"\"1 + 2 * 3 + 4 * 5 + 6\n",
    "1 + (2 * 3) + (4 * (5 + 6))\n",
    "2 * 3 + (4 * 5)\n",
    "5 + (8 * 3 + 9 + 3 * 4 * 3)\n",
    "5 * 9 * (7 * 3 * 3 + 9 * 3 + (8 + 6 * 4))\n",
    "((2 + 4 * 9) * (6 + 9 * 8 + 6) + 6) + 2 + 4 * 2\"\"\""
   ]
  },
  {
   "cell_type": "code",
   "execution_count": null,
   "metadata": {},
   "outputs": [],
   "source": [
    "def test_q_1():\n",
    "    LOGGER.setLevel(logging.DEBUG)\n",
    "    assert q_1(test_data) == sum([71, 51, 26, 437, 12240, 13632])\n",
    "    LOGGER.setLevel(logging.INFO)"
   ]
  },
  {
   "cell_type": "code",
   "execution_count": null,
   "metadata": {},
   "outputs": [],
   "source": [
    "test_q_1()"
   ]
  },
  {
   "cell_type": "markdown",
   "metadata": {},
   "source": [
    "#### answer"
   ]
  },
  {
   "cell_type": "code",
   "execution_count": null,
   "metadata": {},
   "outputs": [],
   "source": [
    "q_1(load_data())"
   ]
  },
  {
   "cell_type": "markdown",
   "metadata": {},
   "source": [
    "## part 2\n",
    "\n",
    "### problem statement:"
   ]
  },
  {
   "cell_type": "markdown",
   "metadata": {},
   "source": [
    "#### function def"
   ]
  },
  {
   "cell_type": "code",
   "execution_count": null,
   "metadata": {},
   "outputs": [],
   "source": [
    "import re\n",
    "\n",
    "def simple_eval(s):\n",
    "    LOGGER.debug(f's = {s}')\n",
    "    if '(' in s or ')' in s:\n",
    "        raise ValueError()\n",
    "    \n",
    "    x = 1\n",
    "    for piece in s.split(' * '):\n",
    "        x *= eval(piece)\n",
    "    return x"
   ]
  },
  {
   "cell_type": "code",
   "execution_count": null,
   "metadata": {},
   "outputs": [],
   "source": [
    "LOGGER.setLevel(logging.DEBUG)\n",
    "assert simple_eval(\"1 + 2 * 3 + 4 * 5 + 6\") == 231"
   ]
  },
  {
   "cell_type": "code",
   "execution_count": null,
   "metadata": {},
   "outputs": [],
   "source": [
    "from collections import defaultdict\n",
    "\n",
    "def get_depths(s):\n",
    "    num_opens = 0\n",
    "    open_ctr = defaultdict(list)\n",
    "    for (i, c) in enumerate(s):\n",
    "        if c == '(':\n",
    "            num_opens += 1\n",
    "            open_ctr[num_opens].append([i, None])\n",
    "        elif c == ')':\n",
    "            open_ctr[num_opens][-1][-1] = i + 1\n",
    "            num_opens -= 1\n",
    "        else:\n",
    "            pass\n",
    "    \n",
    "    return open_ctr\n",
    "\n",
    "def nested_eval(s):\n",
    "    depths = get_depths(s)\n",
    "    if not depths:\n",
    "        return simple_eval(s)\n",
    "    max_depth = max(depths.keys())\n",
    "    \n",
    "    for (i, j) in reversed(depths[max_depth]):\n",
    "        s = s[:i] + str(simple_eval(s[i + 1: j - 1])) + s[j:]\n",
    "    \n",
    "    return nested_eval(s)"
   ]
  },
  {
   "cell_type": "code",
   "execution_count": null,
   "metadata": {},
   "outputs": [],
   "source": [
    "expr = \"((2 + 4 * 9) * (6 + 9 * 8 + 6) + 6) + 2 + 4 * 2\"\n",
    "get_depths(expr)"
   ]
  },
  {
   "cell_type": "code",
   "execution_count": null,
   "metadata": {},
   "outputs": [],
   "source": [
    "nested_eval(expr)"
   ]
  },
  {
   "cell_type": "code",
   "execution_count": null,
   "metadata": {},
   "outputs": [],
   "source": [
    "assert nested_eval(\"1 + 2 * 3 + 4 * 5 + 6\") == 231\n",
    "assert nested_eval(\"1 + (2 * 3) + (4 * (5 + 6))\") == 51\n",
    "assert nested_eval(\"2 * 3 + (4 * 5)\") == 46\n",
    "assert nested_eval(\"5 + (8 * 3 + 9 + 3 * 4 * 3)\") == 1445\n",
    "assert nested_eval(\"5 * 9 * (7 * 3 * 3 + 9 * 3 + (8 + 6 * 4))\") == 669060\n",
    "assert nested_eval(\"((2 + 4 * 9) * (6 + 9 * 8 + 6) + 6) + 2 + 4 * 2\") == 23340"
   ]
  },
  {
   "cell_type": "code",
   "execution_count": null,
   "metadata": {},
   "outputs": [],
   "source": [
    "def q_2(data):\n",
    "    return sum(nested_eval(s.strip()) for s in data.strip().split('\\n'))"
   ]
  },
  {
   "cell_type": "markdown",
   "metadata": {},
   "source": [
    "#### tests"
   ]
  },
  {
   "cell_type": "code",
   "execution_count": null,
   "metadata": {},
   "outputs": [],
   "source": [
    "def test_q_2():\n",
    "    LOGGER.setLevel(logging.DEBUG)\n",
    "    assert q_2(test_data) == sum([231, 51, 46, 1445, 669060, 23340])\n",
    "    LOGGER.setLevel(logging.INFO)"
   ]
  },
  {
   "cell_type": "code",
   "execution_count": null,
   "metadata": {
    "scrolled": true
   },
   "outputs": [],
   "source": [
    "test_q_2()"
   ]
  },
  {
   "cell_type": "markdown",
   "metadata": {},
   "source": [
    "#### answer"
   ]
  },
  {
   "cell_type": "code",
   "execution_count": null,
   "metadata": {
    "scrolled": true
   },
   "outputs": [],
   "source": [
    "q_2(load_data())"
   ]
  },
  {
   "cell_type": "markdown",
   "metadata": {},
   "source": [
    "fin"
   ]
  }
 ],
 "metadata": {
  "kernelspec": {
   "display_name": "Python 3",
   "language": "python",
   "name": "python3"
  },
  "language_info": {
   "codemirror_mode": {
    "name": "ipython",
    "version": 3
   },
   "file_extension": ".py",
   "mimetype": "text/x-python",
   "name": "python",
   "nbconvert_exporter": "python",
   "pygments_lexer": "ipython3",
   "version": "3.7.3"
  },
  "toc": {
   "base_numbering": 1,
   "nav_menu": {},
   "number_sections": true,
   "sideBar": true,
   "skip_h1_title": false,
   "title_cell": "Table of Contents",
   "title_sidebar": "Contents",
   "toc_cell": false,
   "toc_position": {},
   "toc_section_display": true,
   "toc_window_display": false
  }
 },
 "nbformat": 4,
 "nbformat_minor": 2
}
