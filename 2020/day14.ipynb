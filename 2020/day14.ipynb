{
 "cells": [
  {
   "cell_type": "markdown",
   "metadata": {},
   "source": [
    "# day 14\n",
    "\n",
    "https://adventofcode.com/2020/day/14"
   ]
  },
  {
   "cell_type": "code",
   "execution_count": 1,
   "metadata": {},
   "outputs": [],
   "source": [
    "import logging\n",
    "import logging.config\n",
    "import os\n",
    "\n",
    "import yaml"
   ]
  },
  {
   "cell_type": "code",
   "execution_count": 2,
   "metadata": {},
   "outputs": [],
   "source": [
    "with open('../logging.yaml') as fp:\n",
    "    logging_config = yaml.load(fp, Loader=yaml.FullLoader)\n",
    "\n",
    "logging.config.dictConfig(logging_config)"
   ]
  },
  {
   "cell_type": "code",
   "execution_count": 3,
   "metadata": {},
   "outputs": [],
   "source": [
    "FNAME = os.path.join('data', 'day14.txt')\n",
    "\n",
    "LOGGER = logging.getLogger('day14')"
   ]
  },
  {
   "cell_type": "markdown",
   "metadata": {},
   "source": [
    "## part 1\n",
    "\n",
    "### problem statement:"
   ]
  },
  {
   "cell_type": "markdown",
   "metadata": {},
   "source": [
    "#### loading data"
   ]
  },
  {
   "cell_type": "code",
   "execution_count": 4,
   "metadata": {},
   "outputs": [],
   "source": [
    "test_data = \"\"\"mask = XXXXXXXXXXXXXXXXXXXXXXXXXXXXX1XXXX0X\n",
    "mem[8] = 11\n",
    "mem[7] = 101\n",
    "mem[8] = 0\"\"\""
   ]
  },
  {
   "cell_type": "code",
   "execution_count": 5,
   "metadata": {},
   "outputs": [],
   "source": [
    "def load_data(fname=FNAME):\n",
    "    with open(fname) as fp:\n",
    "        return fp.read().strip()"
   ]
  },
  {
   "cell_type": "code",
   "execution_count": 37,
   "metadata": {},
   "outputs": [],
   "source": [
    "import re\n",
    "\n",
    "def parse_prog(p):\n",
    "    blocks = [_ for _ in p.split('mask = ') if _]\n",
    "    prog = []\n",
    "    for block in blocks:\n",
    "        lines = block.split('\\n')\n",
    "        mask = lines[0]\n",
    "        rest = [[int(_) for _ in re.match('mem\\[(\\d+)\\] = (\\d+)', line.strip()).groups()]\n",
    "                for line in lines[1:]\n",
    "                if line]\n",
    "        prog.append({'mask': mask, 'updates': rest})\n",
    "    return prog"
   ]
  },
  {
   "cell_type": "code",
   "execution_count": 38,
   "metadata": {},
   "outputs": [
    {
     "data": {
      "text/plain": [
       "[{'mask': 'XXXXXXXXXXXXXXXXXXXXXXXXXXXXX1XXXX0X',\n",
       "  'updates': [[8, 11], [7, 101], [8, 0]]}]"
      ]
     },
     "execution_count": 38,
     "metadata": {},
     "output_type": "execute_result"
    }
   ],
   "source": [
    "parse_prog(test_data)"
   ]
  },
  {
   "cell_type": "markdown",
   "metadata": {},
   "source": [
    "#### function def"
   ]
  },
  {
   "cell_type": "code",
   "execution_count": 40,
   "metadata": {},
   "outputs": [],
   "source": [
    "def q_1(data):\n",
    "    mem = {}\n",
    "    \n",
    "    for prog in parse_prog(data):\n",
    "        mask = prog['mask']\n",
    "        for addr, val in prog['updates']:\n",
    "            val_bin = bin(val)[2:].zfill(36)\n",
    "            val_out = ''.join([m if m != 'X' else v for (m, v) in zip(mask, val_bin)])\n",
    "            mem[addr] = int(val_out, base=2)\n",
    "\n",
    "    return sum(mem.values())"
   ]
  },
  {
   "cell_type": "markdown",
   "metadata": {},
   "source": [
    "#### tests"
   ]
  },
  {
   "cell_type": "code",
   "execution_count": 41,
   "metadata": {},
   "outputs": [],
   "source": [
    "def test_q_1():\n",
    "    LOGGER.setLevel(logging.DEBUG)\n",
    "    assert q_1(test_data) == 165\n",
    "    LOGGER.setLevel(logging.INFO)"
   ]
  },
  {
   "cell_type": "code",
   "execution_count": 42,
   "metadata": {},
   "outputs": [],
   "source": [
    "test_q_1()"
   ]
  },
  {
   "cell_type": "markdown",
   "metadata": {},
   "source": [
    "#### answer"
   ]
  },
  {
   "cell_type": "code",
   "execution_count": 43,
   "metadata": {},
   "outputs": [
    {
     "data": {
      "text/plain": [
       "12512013221615"
      ]
     },
     "execution_count": 43,
     "metadata": {},
     "output_type": "execute_result"
    }
   ],
   "source": [
    "q_1(load_data())"
   ]
  },
  {
   "cell_type": "markdown",
   "metadata": {},
   "source": [
    "## part 2\n",
    "\n",
    "### problem statement:"
   ]
  },
  {
   "cell_type": "code",
   "execution_count": 48,
   "metadata": {},
   "outputs": [],
   "source": [
    "test_data_2 = \"\"\"mask = 000000000000000000000000000000X1001X\n",
    "mem[42] = 100\n",
    "mask = 00000000000000000000000000000000X0XX\n",
    "mem[26] = 1\"\"\""
   ]
  },
  {
   "cell_type": "markdown",
   "metadata": {},
   "source": [
    "#### function def"
   ]
  },
  {
   "cell_type": "code",
   "execution_count": 55,
   "metadata": {},
   "outputs": [],
   "source": [
    "def q_2(data):\n",
    "    mem = {}\n",
    "    \n",
    "    for prog in parse_prog(data):\n",
    "        mask = prog['mask']\n",
    "        for addr, val in prog['updates']:\n",
    "            addr_bin = bin(addr)[2:].zfill(36)\n",
    "            addrs_to_write = ['']\n",
    "            for (m, a) in zip(mask, addr_bin):\n",
    "                if m == '0':\n",
    "                    update_options = a\n",
    "                elif m == '1':\n",
    "                    update_options = '1'\n",
    "                else:\n",
    "                    update_options = '01'\n",
    "                addrs_to_write = [_ + x for _ in addrs_to_write for x in update_options]\n",
    "            \n",
    "            for addr_to_write in addrs_to_write:\n",
    "                i = int(addr_to_write, base=2)\n",
    "                LOGGER.debug(f'{addr_to_write} (decimal {i})')\n",
    "                mem[i] = val\n",
    "\n",
    "    return sum(mem.values())"
   ]
  },
  {
   "cell_type": "markdown",
   "metadata": {},
   "source": [
    "#### tests"
   ]
  },
  {
   "cell_type": "code",
   "execution_count": 56,
   "metadata": {},
   "outputs": [],
   "source": [
    "def test_q_2():\n",
    "    LOGGER.setLevel(logging.DEBUG)\n",
    "    assert q_2(test_data_2) == 208\n",
    "    LOGGER.setLevel(logging.INFO)"
   ]
  },
  {
   "cell_type": "code",
   "execution_count": 57,
   "metadata": {
    "scrolled": true
   },
   "outputs": [
    {
     "name": "stdout",
     "output_type": "stream",
     "text": [
      "\u001b[37m2020-12-14 00:28:43,274 DEBUG    [day14.q_2:20] 000000000000000000000000000000011010 (decimal 26)\u001b[0m\n",
      "\u001b[37m2020-12-14 00:28:43,275 DEBUG    [day14.q_2:20] 000000000000000000000000000000011011 (decimal 27)\u001b[0m\n",
      "\u001b[37m2020-12-14 00:28:43,276 DEBUG    [day14.q_2:20] 000000000000000000000000000000111010 (decimal 58)\u001b[0m\n",
      "\u001b[37m2020-12-14 00:28:43,278 DEBUG    [day14.q_2:20] 000000000000000000000000000000111011 (decimal 59)\u001b[0m\n",
      "\u001b[37m2020-12-14 00:28:43,279 DEBUG    [day14.q_2:20] 000000000000000000000000000000010000 (decimal 16)\u001b[0m\n",
      "\u001b[37m2020-12-14 00:28:43,280 DEBUG    [day14.q_2:20] 000000000000000000000000000000010001 (decimal 17)\u001b[0m\n",
      "\u001b[37m2020-12-14 00:28:43,281 DEBUG    [day14.q_2:20] 000000000000000000000000000000010010 (decimal 18)\u001b[0m\n",
      "\u001b[37m2020-12-14 00:28:43,282 DEBUG    [day14.q_2:20] 000000000000000000000000000000010011 (decimal 19)\u001b[0m\n",
      "\u001b[37m2020-12-14 00:28:43,283 DEBUG    [day14.q_2:20] 000000000000000000000000000000011000 (decimal 24)\u001b[0m\n",
      "\u001b[37m2020-12-14 00:28:43,284 DEBUG    [day14.q_2:20] 000000000000000000000000000000011001 (decimal 25)\u001b[0m\n",
      "\u001b[37m2020-12-14 00:28:43,285 DEBUG    [day14.q_2:20] 000000000000000000000000000000011010 (decimal 26)\u001b[0m\n",
      "\u001b[37m2020-12-14 00:28:43,286 DEBUG    [day14.q_2:20] 000000000000000000000000000000011011 (decimal 27)\u001b[0m\n"
     ]
    }
   ],
   "source": [
    "test_q_2()"
   ]
  },
  {
   "cell_type": "markdown",
   "metadata": {},
   "source": [
    "#### answer"
   ]
  },
  {
   "cell_type": "code",
   "execution_count": 58,
   "metadata": {
    "scrolled": true
   },
   "outputs": [
    {
     "data": {
      "text/plain": [
       "3905642473893"
      ]
     },
     "execution_count": 58,
     "metadata": {},
     "output_type": "execute_result"
    }
   ],
   "source": [
    "q_2(load_data())"
   ]
  },
  {
   "cell_type": "markdown",
   "metadata": {},
   "source": [
    "fin"
   ]
  }
 ],
 "metadata": {
  "kernelspec": {
   "display_name": "Python 3",
   "language": "python",
   "name": "python3"
  },
  "language_info": {
   "codemirror_mode": {
    "name": "ipython",
    "version": 3
   },
   "file_extension": ".py",
   "mimetype": "text/x-python",
   "name": "python",
   "nbconvert_exporter": "python",
   "pygments_lexer": "ipython3",
   "version": "3.7.3"
  },
  "toc": {
   "base_numbering": 1,
   "nav_menu": {},
   "number_sections": true,
   "sideBar": true,
   "skip_h1_title": false,
   "title_cell": "Table of Contents",
   "title_sidebar": "Contents",
   "toc_cell": false,
   "toc_position": {},
   "toc_section_display": true,
   "toc_window_display": false
  }
 },
 "nbformat": 4,
 "nbformat_minor": 2
}
