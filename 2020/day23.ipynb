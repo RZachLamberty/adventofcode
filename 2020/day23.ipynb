{
 "cells": [
  {
   "cell_type": "markdown",
   "metadata": {},
   "source": [
    "# day 23\n",
    "\n",
    "https://adventofcode.com/2020/day/23"
   ]
  },
  {
   "cell_type": "code",
   "execution_count": null,
   "metadata": {},
   "outputs": [],
   "source": [
    "import logging\n",
    "import logging.config\n",
    "import os\n",
    "\n",
    "import yaml"
   ]
  },
  {
   "cell_type": "code",
   "execution_count": null,
   "metadata": {},
   "outputs": [],
   "source": [
    "with open('../logging.yaml') as fp:\n",
    "    logging_config = yaml.load(fp, Loader=yaml.FullLoader)\n",
    "\n",
    "logging.config.dictConfig(logging_config)"
   ]
  },
  {
   "cell_type": "code",
   "execution_count": null,
   "metadata": {},
   "outputs": [],
   "source": [
    "FNAME = os.path.join('data', 'day23.txt')\n",
    "\n",
    "LOGGER = logging.getLogger('day23')"
   ]
  },
  {
   "cell_type": "markdown",
   "metadata": {},
   "source": [
    "## part 1\n",
    "\n",
    "### problem statement:"
   ]
  },
  {
   "cell_type": "markdown",
   "metadata": {},
   "source": [
    "#### loading data"
   ]
  },
  {
   "cell_type": "code",
   "execution_count": null,
   "metadata": {},
   "outputs": [],
   "source": [
    "test_data = \"389125467\""
   ]
  },
  {
   "cell_type": "code",
   "execution_count": null,
   "metadata": {},
   "outputs": [],
   "source": [
    "def load_data(fname=FNAME):\n",
    "    return \"135468729\""
   ]
  },
  {
   "cell_type": "code",
   "execution_count": null,
   "metadata": {},
   "outputs": [],
   "source": [
    "def parse_data(data):\n",
    "    return [int(_) for _ in data]"
   ]
  },
  {
   "cell_type": "markdown",
   "metadata": {},
   "source": [
    "#### function def"
   ]
  },
  {
   "cell_type": "code",
   "execution_count": null,
   "metadata": {},
   "outputs": [],
   "source": [
    "def move(cups, current_cup_idx):\n",
    "    max_cup_val = max(cups)\n",
    "    current_cup_val = cups[current_cup_idx]\n",
    "    LOGGER.debug(f'cups: {cups}')\n",
    "    LOGGER.debug(f'current cup idx, val = {current_cup_idx, current_cup_val}')\n",
    "    removed = []\n",
    "    for i in range(3):\n",
    "        try:\n",
    "            removed.append(cups.pop(current_cup_idx + 1))\n",
    "        except:\n",
    "            removed.append(cups.pop(0))\n",
    "    LOGGER.debug(f'pick up: {removed}')\n",
    "    \n",
    "    destination_cup_val = current_cup_val - 1\n",
    "    while True:\n",
    "        try:\n",
    "            destination_cup_idx = cups.index(destination_cup_val)\n",
    "            break\n",
    "        except:\n",
    "            destination_cup_val -=1\n",
    "            if destination_cup_val < 1:\n",
    "                destination_cup_val = max_cup_val\n",
    "    LOGGER.debug(f\"destination val: {destination_cup_val}\")\n",
    "    LOGGER.debug(f\"destination idx: {destination_cup_idx}\")\n",
    "    \n",
    "    cups = cups[:destination_cup_idx + 1] + removed + cups[destination_cup_idx + 1:]\n",
    "    current_cup_idx = cups.index(current_cup_val) + 1\n",
    "    current_cup_idx %= len(cups)\n",
    "    return cups, current_cup_idx"
   ]
  },
  {
   "cell_type": "code",
   "execution_count": null,
   "metadata": {},
   "outputs": [],
   "source": [
    "def q_1(data):\n",
    "    cups = parse_data(data)\n",
    "    current_cup_idx = 0\n",
    "    for i in range(100):\n",
    "        cups, current_cup_idx = move(cups, current_cup_idx)\n",
    "    \n",
    "    i0 = cups.index(1)\n",
    "    return ''.join([str(_) for _ in cups[i0 + 1:] + cups[:i0]])"
   ]
  },
  {
   "cell_type": "markdown",
   "metadata": {},
   "source": [
    "#### tests"
   ]
  },
  {
   "cell_type": "code",
   "execution_count": null,
   "metadata": {},
   "outputs": [],
   "source": [
    "def test_q_1():\n",
    "    LOGGER.setLevel(logging.DEBUG)\n",
    "    assert q_1(test_data) == '67384529'\n",
    "    LOGGER.setLevel(logging.INFO)"
   ]
  },
  {
   "cell_type": "code",
   "execution_count": null,
   "metadata": {},
   "outputs": [],
   "source": [
    "test_q_1()"
   ]
  },
  {
   "cell_type": "markdown",
   "metadata": {},
   "source": [
    "#### answer"
   ]
  },
  {
   "cell_type": "code",
   "execution_count": null,
   "metadata": {},
   "outputs": [],
   "source": [
    "q_1(load_data())"
   ]
  },
  {
   "cell_type": "markdown",
   "metadata": {},
   "source": [
    "## part 2\n",
    "\n",
    "### problem statement:"
   ]
  },
  {
   "cell_type": "code",
   "execution_count": null,
   "metadata": {},
   "outputs": [],
   "source": [
    "# need a new data structure... thinking something that maps items and "
   ]
  },
  {
   "cell_type": "markdown",
   "metadata": {},
   "source": [
    "#### function def"
   ]
  },
  {
   "cell_type": "code",
   "execution_count": null,
   "metadata": {},
   "outputs": [],
   "source": [
    "from tqdm.notebook import trange\n",
    "\n",
    "def q_2(data):\n",
    "    cups = parse_data(data)\n",
    "    cups += list(range(max(cups) + 1, 1_000_001))\n",
    "    current_cup_idx = 0\n",
    "    \n",
    "    for i in trange(10_000_000):\n",
    "        cups, current_cup_idx = move(cups, current_cup_idx)\n",
    "    \n",
    "    i0 = cups.index(1)\n",
    "    return cups[i0 - 1] * cups[i0 + 1]"
   ]
  },
  {
   "cell_type": "markdown",
   "metadata": {},
   "source": [
    "#### tests"
   ]
  },
  {
   "cell_type": "code",
   "execution_count": null,
   "metadata": {},
   "outputs": [],
   "source": [
    "def test_q_2():\n",
    "    #LOGGER.setLevel(logging.DEBUG)\n",
    "    assert q_2(test_data) == 149245887792\n",
    "    #LOGGER.setLevel(logging.INFO)"
   ]
  },
  {
   "cell_type": "code",
   "execution_count": null,
   "metadata": {
    "scrolled": true
   },
   "outputs": [],
   "source": [
    "LOGGER.setLevel(logging.INFO)\n",
    "test_q_2()"
   ]
  },
  {
   "cell_type": "markdown",
   "metadata": {},
   "source": [
    "#### answer"
   ]
  },
  {
   "cell_type": "code",
   "execution_count": null,
   "metadata": {
    "scrolled": true
   },
   "outputs": [],
   "source": [
    "q_2(load_data())"
   ]
  },
  {
   "cell_type": "markdown",
   "metadata": {},
   "source": [
    "fin"
   ]
  },
  {
   "cell_type": "code",
   "execution_count": null,
   "metadata": {},
   "outputs": [],
   "source": [
    "import itertools as it\n",
    "\n",
    "# pattern = parse_data(test_data)\n",
    "pattern = parse_data(load_data())\n",
    "\n",
    "head = [pattern[0], None, None]\n",
    "prev = head\n",
    "for n in it.chain(pattern[1:], range(max(pattern)+1, 1000000+1)):\n",
    "    node = [n, prev, None]\n",
    "    prev[2] = node\n",
    "    prev = node\n",
    "head[1] = prev\n",
    "prev[2] = head\n",
    "\n",
    "nodes = {}\n",
    "curr = head\n",
    "for _ in range(1_000_000):\n",
    "    nodes[curr[0]] = curr\n",
    "    curr = curr[2]\n",
    "\n",
    "for i in trange(10_000_000):\n",
    "    pickl = curr[2]\n",
    "    pickr = pickl[2][2]\n",
    "    picked = {pickl[0], pickl[2][0], pickr[0]}\n",
    "    curr[2] = pickr[2]\n",
    "    curr[2][1] = curr\n",
    "    destv = (curr[0] - 1) % 1000000\n",
    "    if destv == 0: destv = 1000000\n",
    "    while destv in picked:\n",
    "        destv = (destv - 1) % 1000000\n",
    "        if destv == 0: destv = 1000000\n",
    "    dest = nodes[destv]\n",
    "    # i love linked lists 8)\n",
    "    pickr[2] = dest[2]\n",
    "    pickr[2][1] = pickr\n",
    "    dest[2] = pickl\n",
    "    pickl[1] = dest\n",
    "    curr = curr[2]\n",
    "\n",
    "print(nodes[1][2][0], nodes[1][2][2][0])\n",
    "print(nodes[1][2][0] * nodes[1][2][2][0])"
   ]
  },
  {
   "cell_type": "code",
   "execution_count": null,
   "metadata": {},
   "outputs": [],
   "source": []
  }
 ],
 "metadata": {
  "kernelspec": {
   "display_name": "Python 3",
   "language": "python",
   "name": "python3"
  },
  "language_info": {
   "codemirror_mode": {
    "name": "ipython",
    "version": 3
   },
   "file_extension": ".py",
   "mimetype": "text/x-python",
   "name": "python",
   "nbconvert_exporter": "python",
   "pygments_lexer": "ipython3",
   "version": "3.7.3"
  },
  "toc": {
   "base_numbering": 1,
   "nav_menu": {},
   "number_sections": true,
   "sideBar": true,
   "skip_h1_title": false,
   "title_cell": "Table of Contents",
   "title_sidebar": "Contents",
   "toc_cell": false,
   "toc_position": {},
   "toc_section_display": true,
   "toc_window_display": false
  }
 },
 "nbformat": 4,
 "nbformat_minor": 2
}
