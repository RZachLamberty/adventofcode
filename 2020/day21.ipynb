{
 "cells": [
  {
   "cell_type": "markdown",
   "metadata": {},
   "source": [
    "# day 21\n",
    "\n",
    "https://adventofcode.com/2020/day/21"
   ]
  },
  {
   "cell_type": "code",
   "execution_count": null,
   "metadata": {},
   "outputs": [],
   "source": [
    "import logging\n",
    "import logging.config\n",
    "import os\n",
    "\n",
    "import yaml"
   ]
  },
  {
   "cell_type": "code",
   "execution_count": null,
   "metadata": {},
   "outputs": [],
   "source": [
    "with open('../logging.yaml') as fp:\n",
    "    logging_config = yaml.load(fp, Loader=yaml.FullLoader)\n",
    "\n",
    "logging.config.dictConfig(logging_config)"
   ]
  },
  {
   "cell_type": "code",
   "execution_count": null,
   "metadata": {},
   "outputs": [],
   "source": [
    "FNAME = os.path.join('data', 'day21.txt')\n",
    "\n",
    "LOGGER = logging.getLogger('day21')"
   ]
  },
  {
   "cell_type": "markdown",
   "metadata": {},
   "source": [
    "## part 1\n",
    "\n",
    "### problem statement:"
   ]
  },
  {
   "cell_type": "markdown",
   "metadata": {},
   "source": [
    "#### loading data"
   ]
  },
  {
   "cell_type": "code",
   "execution_count": null,
   "metadata": {},
   "outputs": [],
   "source": [
    "test_data = \"\"\"mxmxvkd kfcds sqjhc nhms (contains dairy, fish)\n",
    "trh fvjkl sbzzf mxmxvkd (contains dairy)\n",
    "sqjhc fvjkl (contains soy)\n",
    "sqjhc mxmxvkd sbzzf (contains fish)\"\"\""
   ]
  },
  {
   "cell_type": "code",
   "execution_count": null,
   "metadata": {},
   "outputs": [],
   "source": [
    "def load_data(fname=FNAME):\n",
    "    with open(fname) as fp:\n",
    "        return fp.read().strip()\n",
    "        #return [line.strip() for line in fp]"
   ]
  },
  {
   "cell_type": "code",
   "execution_count": null,
   "metadata": {},
   "outputs": [],
   "source": [
    "def parse_data(data):\n",
    "    x = []\n",
    "    for line in data.strip().split('\\n'):\n",
    "        ingredients, allergens = line[:-1].split(' (contains ')\n",
    "        ingredients = ingredients.split(' ')\n",
    "        allergens = allergens.split(', ')\n",
    "        x.append([ingredients, allergens])\n",
    "    return x"
   ]
  },
  {
   "cell_type": "markdown",
   "metadata": {},
   "source": [
    "#### function def"
   ]
  },
  {
   "cell_type": "code",
   "execution_count": null,
   "metadata": {},
   "outputs": [],
   "source": [
    "def q_1(data):\n",
    "    x = parse_data(data)\n",
    "    \n",
    "    # build the possilbe allergens list, then eliminate\n",
    "    all_ingredients = {i for (ingredients, allergens) in x for i in ingredients}\n",
    "    all_allergies = {a for (ingredients, allergens) in x for a in allergens}\n",
    "    possible_allergens = {a: all_ingredients.copy() for a in all_allergies}\n",
    "    \n",
    "    # eliminate\n",
    "    for (ingredients, allergens) in x:\n",
    "        for a in allergens:\n",
    "            possible_allergens[a] = possible_allergens[a].intersection(ingredients)\n",
    "    \n",
    "    not_allergens = all_ingredients.difference({a for allergens in possible_allergens.values() for a in allergens})\n",
    "    \n",
    "    # count of times in ingredients:\n",
    "    return sum(len(set(ingredients).intersection(not_allergens))\n",
    "               for (ingredients, allergens) in x)"
   ]
  },
  {
   "cell_type": "markdown",
   "metadata": {},
   "source": [
    "#### tests"
   ]
  },
  {
   "cell_type": "code",
   "execution_count": null,
   "metadata": {},
   "outputs": [],
   "source": [
    "def test_q_1():\n",
    "    LOGGER.setLevel(logging.DEBUG)\n",
    "    assert q_1(test_data) == 5\n",
    "    LOGGER.setLevel(logging.INFO)"
   ]
  },
  {
   "cell_type": "code",
   "execution_count": null,
   "metadata": {},
   "outputs": [],
   "source": [
    "test_q_1()"
   ]
  },
  {
   "cell_type": "markdown",
   "metadata": {},
   "source": [
    "#### answer"
   ]
  },
  {
   "cell_type": "code",
   "execution_count": null,
   "metadata": {},
   "outputs": [],
   "source": [
    "q_1(load_data())"
   ]
  },
  {
   "cell_type": "markdown",
   "metadata": {},
   "source": [
    "## part 2\n",
    "\n",
    "### problem statement:"
   ]
  },
  {
   "cell_type": "markdown",
   "metadata": {},
   "source": [
    "#### function def"
   ]
  },
  {
   "cell_type": "code",
   "execution_count": null,
   "metadata": {},
   "outputs": [],
   "source": [
    "set([1, 2, 3]).pop()"
   ]
  },
  {
   "cell_type": "code",
   "execution_count": null,
   "metadata": {},
   "outputs": [],
   "source": [
    "def q_2(data):\n",
    "    x = parse_data(data)\n",
    "    \n",
    "    # build the possilbe allergens list, then eliminate\n",
    "    all_ingredients = {i for (ingredients, allergens) in x for i in ingredients}\n",
    "    all_allergies = {a for (ingredients, allergens) in x for a in allergens}\n",
    "    possible_allergens = {a: all_ingredients.copy() for a in all_allergies}\n",
    "    \n",
    "    # eliminate\n",
    "    for (ingredients, allergens) in x:\n",
    "        for a in allergens:\n",
    "            possible_allergens[a] = possible_allergens[a].intersection(ingredients)\n",
    "    \n",
    "    # easiest: do by hand\n",
    "    #return possible_allergens\n",
    "    \n",
    "    # harder: do automatically\n",
    "    while True:\n",
    "        all_known = True\n",
    "        for (allergen, possible_set) in possible_allergens.items():\n",
    "            if len(possible_set) == 1:\n",
    "                for other_allergen in possible_allergens:\n",
    "                    if other_allergen != allergen:\n",
    "                        possible_allergens[other_allergen].difference_update(possible_set)\n",
    "            else:\n",
    "                all_known = False\n",
    "        if all_known:\n",
    "            break\n",
    "    \n",
    "    return ','.join([possible_allergens[k].pop() for k in sorted(possible_allergens.keys())])"
   ]
  },
  {
   "cell_type": "markdown",
   "metadata": {},
   "source": [
    "#### tests"
   ]
  },
  {
   "cell_type": "code",
   "execution_count": null,
   "metadata": {},
   "outputs": [],
   "source": [
    "def test_q_2():\n",
    "    LOGGER.setLevel(logging.DEBUG)\n",
    "    assert q_2(test_data) == 'mxmxvkd,sqjhc,fvjkl'\n",
    "    LOGGER.setLevel(logging.INFO)"
   ]
  },
  {
   "cell_type": "code",
   "execution_count": null,
   "metadata": {
    "scrolled": true
   },
   "outputs": [],
   "source": [
    "test_q_2()"
   ]
  },
  {
   "cell_type": "markdown",
   "metadata": {},
   "source": [
    "#### answer"
   ]
  },
  {
   "cell_type": "code",
   "execution_count": null,
   "metadata": {
    "scrolled": true
   },
   "outputs": [],
   "source": [
    "q_2(load_data())"
   ]
  },
  {
   "cell_type": "markdown",
   "metadata": {},
   "source": [
    "fin"
   ]
  }
 ],
 "metadata": {
  "kernelspec": {
   "display_name": "Python 3",
   "language": "python",
   "name": "python3"
  },
  "language_info": {
   "codemirror_mode": {
    "name": "ipython",
    "version": 3
   },
   "file_extension": ".py",
   "mimetype": "text/x-python",
   "name": "python",
   "nbconvert_exporter": "python",
   "pygments_lexer": "ipython3",
   "version": "3.7.3"
  },
  "toc": {
   "base_numbering": 1,
   "nav_menu": {},
   "number_sections": true,
   "sideBar": true,
   "skip_h1_title": false,
   "title_cell": "Table of Contents",
   "title_sidebar": "Contents",
   "toc_cell": false,
   "toc_position": {},
   "toc_section_display": true,
   "toc_window_display": false
  }
 },
 "nbformat": 4,
 "nbformat_minor": 2
}
