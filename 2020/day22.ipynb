{
 "cells": [
  {
   "cell_type": "markdown",
   "metadata": {},
   "source": [
    "# day 22\n",
    "\n",
    "https://adventofcode.com/2020/day/22"
   ]
  },
  {
   "cell_type": "code",
   "execution_count": null,
   "metadata": {},
   "outputs": [],
   "source": [
    "import logging\n",
    "import logging.config\n",
    "import os\n",
    "\n",
    "import yaml"
   ]
  },
  {
   "cell_type": "code",
   "execution_count": null,
   "metadata": {},
   "outputs": [],
   "source": [
    "with open('../logging.yaml') as fp:\n",
    "    logging_config = yaml.load(fp, Loader=yaml.FullLoader)\n",
    "\n",
    "logging.config.dictConfig(logging_config)"
   ]
  },
  {
   "cell_type": "code",
   "execution_count": null,
   "metadata": {},
   "outputs": [],
   "source": [
    "FNAME = os.path.join('data', 'day22.txt')\n",
    "\n",
    "LOGGER = logging.getLogger('day22')"
   ]
  },
  {
   "cell_type": "markdown",
   "metadata": {},
   "source": [
    "## part 1\n",
    "\n",
    "### problem statement:"
   ]
  },
  {
   "cell_type": "markdown",
   "metadata": {},
   "source": [
    "#### loading data"
   ]
  },
  {
   "cell_type": "code",
   "execution_count": null,
   "metadata": {},
   "outputs": [],
   "source": [
    "test_data = \"\"\"Player 1:\n",
    "9\n",
    "2\n",
    "6\n",
    "3\n",
    "1\n",
    "\n",
    "Player 2:\n",
    "5\n",
    "8\n",
    "4\n",
    "7\n",
    "10\"\"\""
   ]
  },
  {
   "cell_type": "code",
   "execution_count": null,
   "metadata": {},
   "outputs": [],
   "source": [
    "def load_data(fname=FNAME):\n",
    "    with open(fname) as fp:\n",
    "        return fp.read().strip()\n",
    "        #return [line.strip() for line in fp]"
   ]
  },
  {
   "cell_type": "code",
   "execution_count": null,
   "metadata": {},
   "outputs": [],
   "source": [
    "def parse_data(data):\n",
    "    decks = {}\n",
    "    for deck in data.strip().split('\\n\\n'):\n",
    "        player_num, *cards = deck.strip().split('\\n')\n",
    "        cards = [int(c) for c in cards]\n",
    "        player_num = int(player_num[:-1].split(' ')[-1])\n",
    "        decks[player_num] = cards\n",
    "    return decks"
   ]
  },
  {
   "cell_type": "code",
   "execution_count": null,
   "metadata": {},
   "outputs": [],
   "source": [
    "parse_data(test_data)"
   ]
  },
  {
   "cell_type": "markdown",
   "metadata": {},
   "source": [
    "#### function def"
   ]
  },
  {
   "cell_type": "code",
   "execution_count": null,
   "metadata": {},
   "outputs": [],
   "source": [
    "def q_1(data):\n",
    "    decks = parse_data(data)\n",
    "    \n",
    "    d1 = decks[1]\n",
    "    d2 = decks[2]\n",
    "    \n",
    "    while len(d1) > 0 and len(d2) > 0:\n",
    "        c1 = d1.pop(0)\n",
    "        c2 = d2.pop(0)\n",
    "        \n",
    "        if c1 > c2:\n",
    "            d1 += [c1, c2]\n",
    "        elif c1 < c2:\n",
    "            d2 += [c2, c1]\n",
    "        else:\n",
    "            raise ValueError('tie')\n",
    "    \n",
    "    winner = d1 if len(d1) > 0 else d2\n",
    "    return sum([i * v for (i, v) in enumerate(reversed(winner), start=1)])"
   ]
  },
  {
   "cell_type": "markdown",
   "metadata": {},
   "source": [
    "#### tests"
   ]
  },
  {
   "cell_type": "code",
   "execution_count": null,
   "metadata": {},
   "outputs": [],
   "source": [
    "def test_q_1():\n",
    "    LOGGER.setLevel(logging.DEBUG)\n",
    "    assert q_1(test_data) == 306\n",
    "    LOGGER.setLevel(logging.INFO)"
   ]
  },
  {
   "cell_type": "code",
   "execution_count": null,
   "metadata": {},
   "outputs": [],
   "source": [
    "test_q_1()"
   ]
  },
  {
   "cell_type": "markdown",
   "metadata": {},
   "source": [
    "#### answer"
   ]
  },
  {
   "cell_type": "code",
   "execution_count": null,
   "metadata": {},
   "outputs": [],
   "source": [
    "q_1(load_data())"
   ]
  },
  {
   "cell_type": "markdown",
   "metadata": {},
   "source": [
    "## part 2\n",
    "\n",
    "### problem statement:"
   ]
  },
  {
   "cell_type": "markdown",
   "metadata": {},
   "source": [
    "#### function def"
   ]
  },
  {
   "cell_type": "code",
   "execution_count": null,
   "metadata": {},
   "outputs": [],
   "source": [
    "def play_game(d1, d2, game_id=1):\n",
    "    seen_matches = set()\n",
    "    \n",
    "    rnd = 1\n",
    "    while True:\n",
    "        LOGGER.debug(f\"round {rnd} (game {game_id})\")\n",
    "        LOGGER.debug(f\"player 1's deck: {d1}\")\n",
    "        LOGGER.debug(f\"player 2's deck: {d2}\")\n",
    "        match_now = (tuple(d1), tuple(d2))\n",
    "        if match_now in seen_matches:\n",
    "            LOGGER.debug(f\"seen this match already, calling it for player 1\")\n",
    "            return 1, d1\n",
    "        else:\n",
    "            seen_matches.add(match_now)\n",
    "        \n",
    "        c1 = d1.pop(0)\n",
    "        c2 = d2.pop(0)\n",
    "        LOGGER.debug(f\"player 1 plays: {c1}\")\n",
    "        LOGGER.debug(f\"player 2 plays: {c2}\")\n",
    "        \n",
    "        # determine the winner\n",
    "        if (c1 <= len(d1)) and (c2 <= len(d2)):\n",
    "            LOGGER.debug('playing a sub-game')\n",
    "            rnd_winner, d = play_game(d1[:c1], d2[:c2], game_id=game_id + 1)\n",
    "        elif c1 > c2:\n",
    "            rnd_winner = 1\n",
    "        elif c1 < c2:\n",
    "            rnd_winner = 2\n",
    "        else:\n",
    "            raise ValueError('tie')\n",
    "        \n",
    "        LOGGER.debug(f\"player {rnd_winner} wins round {rnd}\")\n",
    "        if rnd_winner == 1:\n",
    "            d1 += [c1, c2]\n",
    "        else:\n",
    "            d2 += [c2, c1]\n",
    "        \n",
    "        # do we have a game winner?\n",
    "        if len(d1) == 0:\n",
    "            return 2, d2\n",
    "        elif len(d2) == 0:\n",
    "            return 1, d1\n",
    "        \n",
    "        rnd += 1"
   ]
  },
  {
   "cell_type": "code",
   "execution_count": null,
   "metadata": {},
   "outputs": [],
   "source": [
    "LOGGER.setLevel(logging.DEBUG)\n",
    "# play_game([43, 19], [2, 29, 14])\n",
    "w, d = play_game([9,2,6,3,1], [5,8,4,7,10])\n",
    "LOGGER.setLevel(logging.INFO)\n",
    "w, d"
   ]
  },
  {
   "cell_type": "code",
   "execution_count": null,
   "metadata": {},
   "outputs": [],
   "source": [
    "def q_2(data):\n",
    "    decks = parse_data(data)\n",
    "    \n",
    "    d1 = decks[1]\n",
    "    d2 = decks[2]\n",
    "    \n",
    "    w, d = play_game(d1, d2)\n",
    "    \n",
    "    return sum([i * v for (i, v) in enumerate(reversed(d), start=1)])"
   ]
  },
  {
   "cell_type": "markdown",
   "metadata": {},
   "source": [
    "#### tests"
   ]
  },
  {
   "cell_type": "code",
   "execution_count": null,
   "metadata": {},
   "outputs": [],
   "source": [
    "def test_q_2():\n",
    "    LOGGER.setLevel(logging.DEBUG)\n",
    "    assert q_2(test_data) == 291\n",
    "    LOGGER.setLevel(logging.INFO)"
   ]
  },
  {
   "cell_type": "code",
   "execution_count": null,
   "metadata": {},
   "outputs": [],
   "source": [
    "decks = parse_data(test_data)\n",
    "d1 = decks[1]\n",
    "d2 = decks[2]\n",
    "\n",
    "w, d = play_game(d1, d2)"
   ]
  },
  {
   "cell_type": "code",
   "execution_count": null,
   "metadata": {
    "scrolled": true
   },
   "outputs": [],
   "source": [
    "test_q_2()"
   ]
  },
  {
   "cell_type": "markdown",
   "metadata": {},
   "source": [
    "#### answer"
   ]
  },
  {
   "cell_type": "code",
   "execution_count": null,
   "metadata": {
    "scrolled": true
   },
   "outputs": [],
   "source": [
    "q_2(load_data())"
   ]
  },
  {
   "cell_type": "markdown",
   "metadata": {},
   "source": [
    "fin"
   ]
  }
 ],
 "metadata": {
  "kernelspec": {
   "display_name": "Python 3",
   "language": "python",
   "name": "python3"
  },
  "language_info": {
   "codemirror_mode": {
    "name": "ipython",
    "version": 3
   },
   "file_extension": ".py",
   "mimetype": "text/x-python",
   "name": "python",
   "nbconvert_exporter": "python",
   "pygments_lexer": "ipython3",
   "version": "3.7.3"
  },
  "toc": {
   "base_numbering": 1,
   "nav_menu": {},
   "number_sections": true,
   "sideBar": true,
   "skip_h1_title": false,
   "title_cell": "Table of Contents",
   "title_sidebar": "Contents",
   "toc_cell": false,
   "toc_position": {},
   "toc_section_display": true,
   "toc_window_display": false
  }
 },
 "nbformat": 4,
 "nbformat_minor": 2
}
