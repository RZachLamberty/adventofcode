{
 "cells": [
  {
   "cell_type": "markdown",
   "metadata": {},
   "source": [
    "# day 14\n",
    "\n",
    "https://adventofcode.com/14/day/14"
   ]
  },
  {
   "cell_type": "code",
   "execution_count": null,
   "metadata": {},
   "outputs": [],
   "source": [
    "import logging\n",
    "import logging.config\n",
    "import os\n",
    "\n",
    "import yaml"
   ]
  },
  {
   "cell_type": "code",
   "execution_count": null,
   "metadata": {},
   "outputs": [],
   "source": [
    "with open('../logging.yaml') as fp:\n",
    "    logging_config = yaml.load(fp, Loader=yaml.FullLoader)\n",
    "\n",
    "logging.config.dictConfig(logging_config)"
   ]
  },
  {
   "cell_type": "code",
   "execution_count": null,
   "metadata": {},
   "outputs": [],
   "source": [
    "FNAME = os.path.join('data', 'day14.txt')\n",
    "\n",
    "LOGGER = logging.getLogger('day14')"
   ]
  },
  {
   "cell_type": "markdown",
   "metadata": {},
   "source": [
    "## part 1\n",
    "\n",
    "### problem statement:"
   ]
  },
  {
   "cell_type": "markdown",
   "metadata": {},
   "source": [
    "#### loading data"
   ]
  },
  {
   "cell_type": "code",
   "execution_count": null,
   "metadata": {},
   "outputs": [],
   "source": [
    "test_data = \"\"\"O....#....\n",
    "O.OO#....#\n",
    ".....##...\n",
    "OO.#O....O\n",
    ".O.....O#.\n",
    "O.#..O.#.#\n",
    "..O..#O..O\n",
    ".......O..\n",
    "#....###..\n",
    "#OO..#....\"\"\""
   ]
  },
  {
   "cell_type": "code",
   "execution_count": null,
   "metadata": {},
   "outputs": [],
   "source": [
    "def load_data(fname=FNAME):\n",
    "    with open(fname) as fp:\n",
    "        return fp.read().strip()"
   ]
  },
  {
   "cell_type": "code",
   "execution_count": null,
   "outputs": [],
   "source": [
    "import numpy as np\n",
    "\n",
    "\n",
    "def parse_data(d: str) -> np.ndarray:\n",
    "    return np.array([list(row.strip())\n",
    "                     for row in d.strip().split('\\n')])\n",
    "\n",
    "parse_data(test_data)"
   ],
   "metadata": {
    "collapsed": false
   }
  },
  {
   "cell_type": "markdown",
   "metadata": {},
   "source": [
    "#### function def"
   ]
  },
  {
   "cell_type": "code",
   "execution_count": null,
   "outputs": [],
   "source": [
    "def find_cube_rock_north(i: int, j: int, a: np.ndarray) -> int:\n",
    "    try:\n",
    "        return (a[:i + 1, j] == '#').nonzero()[0].max()\n",
    "    except ValueError:\n",
    "        return -1\n",
    "\n",
    "a = parse_data(test_data)\n",
    "for i in range(7):\n",
    "    assert find_cube_rock_north(i=i, j=0, a=a) == -1, str(i)\n",
    "assert find_cube_rock_north(i=8, j=0, a=a) == 8\n",
    "assert find_cube_rock_north(i=9, j=0, a=a) == 9"
   ],
   "metadata": {
    "collapsed": false
   }
  },
  {
   "cell_type": "code",
   "execution_count": null,
   "outputs": [],
   "source": [
    "def count_round_rocks_above(i: int, j: int, i_cube: int, a: np.ndarray) -> int:\n",
    "    return (a[max(i_cube, 0): i, j] == 'O').sum()\n",
    "\n",
    "a = parse_data(test_data)\n",
    "assert count_round_rocks_above(i=0, j=0, i_cube=0, a=a) == 0\n",
    "assert count_round_rocks_above(i=1, j=0, i_cube=0, a=a) == 1\n",
    "assert count_round_rocks_above(i=2, j=0, i_cube=0, a=a) == 2\n",
    "assert count_round_rocks_above(i=3, j=0, i_cube=0, a=a) == 2\n",
    "assert count_round_rocks_above(i=4, j=0, i_cube=0, a=a) == 3\n",
    "assert count_round_rocks_above(i=5, j=0, i_cube=0, a=a) == 3\n",
    "assert count_round_rocks_above(i=6, j=0, i_cube=0, a=a) == 4\n",
    "\n",
    "assert count_round_rocks_above(i=9, j=0, i_cube=5, a=a) == 1"
   ],
   "metadata": {
    "collapsed": false
   }
  },
  {
   "cell_type": "code",
   "execution_count": null,
   "outputs": [],
   "source": [
    "def calculate_load(i: int, j: int, a: np.ndarray) -> int:\n",
    "    c = a[i, j]\n",
    "    if c in '.#':\n",
    "        return 0\n",
    "\n",
    "    i_cube = find_cube_rock_north(i=i, j=j, a=a)\n",
    "    n_round = count_round_rocks_above(i=i, j=j, i_cube=i_cube, a=a)\n",
    "    row = i_cube + 1 + n_round\n",
    "    return a.shape[1] - row\n",
    "\n",
    "assert calculate_load(i=0, j=0, a=a) == 10\n",
    "assert calculate_load(i=1, j=0, a=a) == 9\n",
    "assert calculate_load(i=3, j=0, a=a) == 8\n",
    "assert calculate_load(i=6, j=2, a=a) == 4\n",
    "assert calculate_load(i=9, j=2, a=a) == 3\n",
    "\n",
    "assert calculate_load(i=2, j=0, a=a) == 0\n",
    "assert calculate_load(i=8, j=0, a=a) == 0"
   ],
   "metadata": {
    "collapsed": false
   }
  },
  {
   "cell_type": "code",
   "execution_count": null,
   "metadata": {},
   "outputs": [],
   "source": [
    "def q_1(data):\n",
    "    a = parse_data(d=data)\n",
    "    return sum(calculate_load(i=i, j=j, a=a) for i in range(a.shape[0]) for j in range(a.shape[1]))"
   ]
  },
  {
   "cell_type": "markdown",
   "metadata": {},
   "source": [
    "#### tests"
   ]
  },
  {
   "cell_type": "code",
   "execution_count": null,
   "metadata": {},
   "outputs": [],
   "source": [
    "def test_q_1():\n",
    "    LOGGER.setLevel(logging.DEBUG)\n",
    "    assert q_1(test_data) == 136\n",
    "    LOGGER.setLevel(logging.INFO)"
   ]
  },
  {
   "cell_type": "code",
   "execution_count": null,
   "metadata": {},
   "outputs": [],
   "source": [
    "test_q_1()"
   ]
  },
  {
   "cell_type": "markdown",
   "metadata": {},
   "source": [
    "#### answer"
   ]
  },
  {
   "cell_type": "code",
   "execution_count": null,
   "metadata": {},
   "outputs": [],
   "source": [
    "q_1(load_data())"
   ]
  },
  {
   "cell_type": "markdown",
   "metadata": {},
   "source": [
    "## part 2\n",
    "\n",
    "### problem statement:"
   ]
  },
  {
   "cell_type": "markdown",
   "metadata": {},
   "source": [
    "#### function def"
   ]
  },
  {
   "cell_type": "code",
   "execution_count": null,
   "outputs": [],
   "source": [
    "parse_data(test_data)"
   ],
   "metadata": {
    "collapsed": false
   }
  },
  {
   "cell_type": "code",
   "execution_count": null,
   "outputs": [],
   "source": [
    "from functools import cache\n",
    "\n",
    "sort_order = {'O': 0, '.': 1, '#': 2}\n",
    "\n",
    "@cache\n",
    "def sort_vec(v_str: str, reverse: bool = False) -> np.ndarray:\n",
    "    pieces = v_str.split('#')\n",
    "    sorted_pieces = [''.join(sorted(substr, key=lambda x: (-1 if reverse else 1) * sort_order[x]))\n",
    "                     for substr in pieces]\n",
    "    return np.array(list('#'.join(sorted_pieces)))\n",
    "\n",
    "assert (sort_vec('OO.O.O..##') == (np.array(list('OOOO....##')))).all()\n",
    "assert (sort_vec('...OO....O') == (np.array(list('OOO.......')))).all()\n",
    "assert (sort_vec('#.#..O#.##') == (np.array(list('#.#O..#.##')))).all()\n",
    "\n",
    "assert (sort_vec('OO.O.O..##', reverse=True) == (np.array(list('....OOOO##')))).all()\n",
    "assert (sort_vec('...OO....O', reverse=True) == (np.array(list('.......OOO')))).all()\n",
    "assert (sort_vec('#.#..O#.##', reverse=True) == (np.array(list('#.#..O#.##')))).all()"
   ],
   "metadata": {
    "collapsed": false
   }
  },
  {
   "cell_type": "code",
   "execution_count": null,
   "outputs": [],
   "source": [
    "from enum import Enum\n",
    "\n",
    "\n",
    "class TiltDir(Enum):\n",
    "    N = 'N'\n",
    "    E = 'E'\n",
    "    S = 'S'\n",
    "    W = 'W'\n",
    "\n",
    "\n",
    "class Dish:\n",
    "    def __init__(self, a: np.ndarray):\n",
    "        self.a = a\n",
    "\n",
    "    def as_str(self) -> str:\n",
    "        return '\\n'.join(''.join(char for char in row) for row in self.a)\n",
    "\n",
    "    def tilt(self, tilt_dir: TiltDir) -> None:\n",
    "        if tilt_dir in [TiltDir.N, TiltDir.S]:\n",
    "            # iterate through columns\n",
    "            for j in range(self.a.shape[1]):\n",
    "                v_str = ''.join(self.a[:, j])\n",
    "                self.a[:, j] = sort_vec(v_str=v_str, reverse=tilt_dir is TiltDir.S)\n",
    "        elif tilt_dir in [TiltDir.E, TiltDir.W]:\n",
    "            # iterate through rows\n",
    "            for i in range(self.a.shape[0]):\n",
    "                v_str = ''.join(self.a[i, :])\n",
    "                self.a[i, :] = sort_vec(v_str=v_str, reverse=tilt_dir is TiltDir.E)\n",
    "\n",
    "    def find_loop(self):\n",
    "        self.loop_dict = {}\n",
    "        i = 0\n",
    "        have_found_loop = False\n",
    "        while not have_found_loop:\n",
    "            for tilt_dir, next_tilt_dir in [(TiltDir.N, TiltDir.W),\n",
    "                                            (TiltDir.W, TiltDir.S),\n",
    "                                            (TiltDir.S, TiltDir.E),\n",
    "                                            (TiltDir.E, TiltDir.N)]:\n",
    "                k = self.as_str(), tilt_dir\n",
    "                self.tilt(tilt_dir=tilt_dir)\n",
    "                next_k = self.as_str(), next_tilt_dir\n",
    "                v_update = {'step': i, 'next_k': next_k}\n",
    "                try:\n",
    "                    self.loop_dict[k].append(v_update)\n",
    "                    have_found_loop = True\n",
    "                    break\n",
    "                except KeyError:\n",
    "                    self.loop_dict[k] = [v_update]\n",
    "                i += 1\n",
    "\n",
    "    @property\n",
    "    def cycle_key(self) -> tuple[str, TiltDir]:\n",
    "        try:\n",
    "            return [k for (k, v) in self.loop_dict.items() if len(v) > 1][0]\n",
    "        except AttributeError:\n",
    "            raise AttributeError(\"have you run `.find_loop` yet?\")\n",
    "\n",
    "    @property\n",
    "    def loop_steps(self) -> list[int]:\n",
    "        k = self.cycle_key\n",
    "        return list(sorted(_['step'] for _ in self.loop_dict[k]))"
   ],
   "metadata": {
    "collapsed": false
   }
  },
  {
   "cell_type": "code",
   "execution_count": null,
   "outputs": [],
   "source": [
    "a = parse_data(test_data)\n",
    "d = Dish(a=a)\n",
    "\n",
    "assert d.as_str() == test_data\n",
    "\n",
    "d.tilt(tilt_dir=TiltDir.N)\n",
    "assert d.as_str() == \"\"\"OOOO.#.O..\n",
    "OO..#....#\n",
    "OO..O##..O\n",
    "O..#.OO...\n",
    "........#.\n",
    "..#....#.#\n",
    "..O..#.O.O\n",
    "..O.......\n",
    "#....###..\n",
    "#....#....\"\"\"\n",
    "\n",
    "d.tilt(tilt_dir=TiltDir.W)\n",
    "assert d.as_str() == \"\"\"OOOO.#O...\n",
    "OO..#....#\n",
    "OOO..##O..\n",
    "O..#OO....\n",
    "........#.\n",
    "..#....#.#\n",
    "O....#OO..\n",
    "O.........\n",
    "#....###..\n",
    "#....#....\"\"\"\n",
    "\n",
    "d.tilt(tilt_dir=TiltDir.S)\n",
    "assert d.as_str() == \"\"\".....#....\n",
    "....#.O..#\n",
    "O..O.##...\n",
    "O.O#......\n",
    "O.O....O#.\n",
    "O.#..O.#.#\n",
    "O....#....\n",
    "OO....OO..\n",
    "#O...###..\n",
    "#O..O#....\"\"\"\n",
    "\n",
    "d.tilt(tilt_dir=TiltDir.E)\n",
    "assert d.as_str() == \"\"\".....#....\n",
    "....#...O#\n",
    "...OO##...\n",
    ".OO#......\n",
    ".....OOO#.\n",
    ".O#...O#.#\n",
    "....O#....\n",
    "......OOOO\n",
    "#...O###..\n",
    "#..OO#....\"\"\""
   ],
   "metadata": {
    "collapsed": false
   }
  },
  {
   "cell_type": "code",
   "execution_count": null,
   "outputs": [],
   "source": [
    "a = parse_data(test_data)\n",
    "d = Dish(a=a)\n",
    "d.find_loop()"
   ],
   "metadata": {
    "collapsed": false
   }
  },
  {
   "cell_type": "code",
   "execution_count": null,
   "outputs": [],
   "source": [
    "d.loop_steps"
   ],
   "metadata": {
    "collapsed": false
   }
  },
  {
   "cell_type": "code",
   "execution_count": null,
   "outputs": [],
   "source": [
    "a = parse_data(test_data)\n",
    "d = Dish(a=a)\n",
    "\n",
    "d.tilt(tilt_dir=TiltDir.N)\n",
    "d.tilt(tilt_dir=TiltDir.W)\n",
    "d.tilt(tilt_dir=TiltDir.S)\n",
    "d.tilt(tilt_dir=TiltDir.E)\n",
    "assert d.as_str(), \"\"\".....#....\n",
    "....#...O#\n",
    "...OO##...\n",
    ".OO#......\n",
    ".....OOO#.\n",
    ".O#...O#.#\n",
    "....O#....\n",
    "......OOOO\n",
    "#...O###..\n",
    "#..OO#....\"\"\"\n",
    "\n",
    "d.tilt(tilt_dir=TiltDir.N)\n",
    "d.tilt(tilt_dir=TiltDir.W)\n",
    "d.tilt(tilt_dir=TiltDir.S)\n",
    "d.tilt(tilt_dir=TiltDir.E)\n",
    "assert d.as_str(), \"\"\".....#....\n",
    "....#...O#\n",
    ".....##...\n",
    "..O#......\n",
    ".....OOO#.\n",
    ".O#...O#.#\n",
    "....O#...O\n",
    ".......OOO\n",
    "#..OO###..\n",
    "#.OOO#...O\"\"\"\n",
    "\n",
    "d.tilt(tilt_dir=TiltDir.N)\n",
    "d.tilt(tilt_dir=TiltDir.W)\n",
    "d.tilt(tilt_dir=TiltDir.S)\n",
    "d.tilt(tilt_dir=TiltDir.E)\n",
    "assert d.as_str(), \"\"\".....#....\n",
    "....#...O#\n",
    ".....##...\n",
    "..O#......\n",
    ".....OOO#.\n",
    ".O#...O#.#\n",
    "....O#...O\n",
    ".......OOO\n",
    "#...O###.O\n",
    "#.OOO#...O\"\"\""
   ],
   "metadata": {
    "collapsed": false
   }
  },
  {
   "cell_type": "code",
   "execution_count": null,
   "outputs": [],
   "source": [
    "def get_score(a: np.ndarray) -> int:\n",
    "    n = a.shape[0]\n",
    "    return ((a == 'O').sum(axis=1) * range(n, 0, -1)).sum()\n",
    "\n",
    "a = parse_data(\"\"\"OOOO.#.O..\n",
    "OO..#....#\n",
    "OO..O##..O\n",
    "O..#.OO...\n",
    "........#.\n",
    "..#....#.#\n",
    "..O..#.O.O\n",
    "..O.......\n",
    "#....###..\n",
    "#....#....\"\"\")\n",
    "assert get_score(a) == 136"
   ],
   "metadata": {
    "collapsed": false
   }
  },
  {
   "cell_type": "code",
   "execution_count": null,
   "metadata": {},
   "outputs": [],
   "source": [
    "def q_2(data):\n",
    "    a = parse_data(data)\n",
    "    d = Dish(a=a)\n",
    "\n",
    "    d.find_loop()\n",
    "    loop_start, loop_end = d.loop_steps\n",
    "    loop_len = loop_end - loop_start\n",
    "\n",
    "    n_cycles = 1_000_000_000\n",
    "    n_steps = n_cycles * 4\n",
    "    point_in_loop = (n_steps - loop_start) % loop_len\n",
    "    new_step = loop_start + point_in_loop\n",
    "\n",
    "    assert new_step % 4 == 0\n",
    "\n",
    "    for (k, v) in d.loop_dict.items():\n",
    "        if v[0]['step'] == new_step:\n",
    "            s = k[0]\n",
    "\n",
    "    return get_score(parse_data(s))"
   ]
  },
  {
   "cell_type": "markdown",
   "metadata": {},
   "source": [
    "#### tests"
   ]
  },
  {
   "cell_type": "code",
   "execution_count": null,
   "metadata": {},
   "outputs": [],
   "source": [
    "def test_q_2():\n",
    "    LOGGER.setLevel(logging.DEBUG)\n",
    "    assert q_2(test_data) == 64\n",
    "    LOGGER.setLevel(logging.INFO)"
   ]
  },
  {
   "cell_type": "code",
   "execution_count": null,
   "metadata": {
    "scrolled": true
   },
   "outputs": [],
   "source": [
    "test_q_2()"
   ]
  },
  {
   "cell_type": "markdown",
   "metadata": {},
   "source": [
    "#### answer"
   ]
  },
  {
   "cell_type": "code",
   "execution_count": null,
   "metadata": {
    "scrolled": true
   },
   "outputs": [],
   "source": [
    "q_2(load_data())"
   ]
  },
  {
   "cell_type": "markdown",
   "metadata": {},
   "source": [
    "fin"
   ]
  }
 ],
 "metadata": {
  "kernelspec": {
   "display_name": "Python 3",
   "language": "python",
   "name": "python3"
  },
  "language_info": {
   "codemirror_mode": {
    "name": "ipython",
    "version": 3
   },
   "file_extension": ".py",
   "mimetype": "text/x-python",
   "name": "python",
   "nbconvert_exporter": "python",
   "pygments_lexer": "ipython3",
   "version": "3.7.3"
  },
  "toc": {
   "base_numbering": 1,
   "nav_menu": {},
   "number_sections": true,
   "sideBar": true,
   "skip_h1_title": false,
   "title_cell": "Table of Contents",
   "title_sidebar": "Contents",
   "toc_cell": false,
   "toc_position": {},
   "toc_section_display": true,
   "toc_window_display": false
  }
 },
 "nbformat": 4,
 "nbformat_minor": 2
}
