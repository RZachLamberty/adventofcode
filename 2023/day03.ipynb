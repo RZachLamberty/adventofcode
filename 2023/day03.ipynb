{
 "cells": [
  {
   "cell_type": "markdown",
   "metadata": {},
   "source": [
    "# day 3\n",
    "\n",
    "https://adventofcode.com/3/day/3"
   ]
  },
  {
   "cell_type": "code",
   "execution_count": null,
   "metadata": {},
   "outputs": [],
   "source": [
    "import logging\n",
    "import logging.config\n",
    "import os\n",
    "\n",
    "import yaml"
   ]
  },
  {
   "cell_type": "code",
   "execution_count": null,
   "metadata": {},
   "outputs": [],
   "source": [
    "with open('../logging.yaml') as fp:\n",
    "    logging_config = yaml.load(fp, Loader=yaml.FullLoader)\n",
    "\n",
    "logging.config.dictConfig(logging_config)"
   ]
  },
  {
   "cell_type": "code",
   "execution_count": null,
   "metadata": {},
   "outputs": [],
   "source": [
    "FNAME = os.path.join('data', 'day03.txt')\n",
    "\n",
    "LOGGER = logging.getLogger('day03')"
   ]
  },
  {
   "cell_type": "markdown",
   "metadata": {},
   "source": [
    "## part 1\n",
    "\n",
    "### problem statement:"
   ]
  },
  {
   "cell_type": "markdown",
   "metadata": {},
   "source": [
    "#### loading data"
   ]
  },
  {
   "cell_type": "code",
   "execution_count": null,
   "metadata": {},
   "outputs": [],
   "source": [
    "test_data = \"\"\"467..114..\n",
    "...*......\n",
    "..35..633.\n",
    "......#...\n",
    "617*......\n",
    ".....+.58.\n",
    "..592.....\n",
    "......755.\n",
    "...$.*....\n",
    ".664.598..\"\"\""
   ]
  },
  {
   "cell_type": "code",
   "execution_count": null,
   "metadata": {},
   "outputs": [],
   "source": [
    "def load_data(fname=FNAME):\n",
    "    with open(fname) as fp:\n",
    "        return fp.read().strip()"
   ]
  },
  {
   "cell_type": "markdown",
   "metadata": {},
   "source": [
    "#### function def"
   ]
  },
  {
   "cell_type": "code",
   "execution_count": null,
   "outputs": [],
   "source": [
    "import numpy as np\n",
    "\n",
    "\n",
    "class Schematic:\n",
    "    def __init__(self, s: str):\n",
    "        self.s = s\n",
    "        self.a = self.str_to_array()\n",
    "\n",
    "    def str_to_array(self) -> np.ndarray:\n",
    "        return np.array([list(_) for _ in self.s.strip().split(\"\\n\")])\n",
    "\n",
    "    def get_schematic_numbers(self):\n",
    "        for (i, row) in enumerate(self.a):\n",
    "            current_number = None\n",
    "            for (j, c) in enumerate(row):\n",
    "                if c in '0123456789':\n",
    "                    if current_number is None:\n",
    "                        current_number = {'val': c, 'i': i, 'j0': j, 'j1': j}\n",
    "                    else:\n",
    "                        current_number['val'] += c\n",
    "                        current_number['j1'] = j\n",
    "                elif current_number is not None:\n",
    "                    current_number['val'] = int(current_number['val'])\n",
    "                    yield current_number\n",
    "                    current_number = None\n",
    "                else:\n",
    "                    continue\n",
    "            if current_number is not None:\n",
    "                current_number['val'] = int(current_number['val'])\n",
    "                yield current_number\n",
    "\n",
    "    def is_part_number(self, schematic_number: dict) -> bool:\n",
    "        i = schematic_number['i']\n",
    "        j0 = schematic_number['j0']\n",
    "        j1 = schematic_number['j1']\n",
    "        vals = self.a[max(i - 1, 0): i + 2, max(j0 - 1, 0): j1 + 2]\n",
    "        vals = set(vals.flatten())\n",
    "        non_symbols = set('.0123456789')\n",
    "        vals_has_symbols = len(vals.difference(non_symbols)) > 0\n",
    "        return vals_has_symbols\n",
    "\n",
    "    def get_gears_locations(self):\n",
    "        for (i, row) in enumerate(self.a):\n",
    "            for (j, c) in enumerate(row):\n",
    "                if c == '*':\n",
    "                    yield i, j\n",
    "\n",
    "    def gear_ratio(self, i, j) -> int | None:\n",
    "        schematic_numbers = list(self.get_schematic_numbers())\n",
    "        neighboring_numbers = [sn for sn in schematic_numbers\n",
    "                               if abs(sn['i'] - i) <= 1\n",
    "                               and sn['j0'] <= j + 1\n",
    "                               and sn['j1'] >= j - 1]\n",
    "        if len(neighboring_numbers) == 2:\n",
    "            a, b = neighboring_numbers\n",
    "            return a['val'] * b['val']\n",
    "        else:\n",
    "            return None"
   ],
   "metadata": {
    "collapsed": false
   }
  },
  {
   "cell_type": "code",
   "execution_count": null,
   "outputs": [],
   "source": [
    "s = Schematic(test_data)\n",
    "sns = list(s.get_schematic_numbers())\n",
    "\n",
    "assert s.is_part_number(sns[0]) is True\n",
    "assert s.is_part_number(sns[1]) is False\n",
    "\n",
    "gears_locations = list(s.get_gears_locations())\n",
    "assert gears_locations == [(1, 3), (4, 3), (8, 5)]\n",
    "assert s.gear_ratio(*gears_locations[0]) == 16345\n",
    "assert s.gear_ratio(*gears_locations[1]) == None\n",
    "assert s.gear_ratio(*gears_locations[2]) == 451490"
   ],
   "metadata": {
    "collapsed": false
   }
  },
  {
   "cell_type": "code",
   "execution_count": null,
   "metadata": {},
   "outputs": [],
   "source": [
    "def q_1(data):\n",
    "    schematic = Schematic(data)\n",
    "    s = 0\n",
    "    for schematic_number in schematic.get_schematic_numbers():\n",
    "        if schematic.is_part_number(schematic_number=schematic_number):\n",
    "            s += schematic_number['val']\n",
    "    return s"
   ]
  },
  {
   "cell_type": "markdown",
   "metadata": {},
   "source": [
    "#### tests"
   ]
  },
  {
   "cell_type": "code",
   "execution_count": null,
   "metadata": {},
   "outputs": [],
   "source": [
    "def test_q_1():\n",
    "    LOGGER.setLevel(logging.DEBUG)\n",
    "    assert q_1(test_data) == 4361\n",
    "    LOGGER.setLevel(logging.INFO)"
   ]
  },
  {
   "cell_type": "code",
   "execution_count": null,
   "metadata": {},
   "outputs": [],
   "source": [
    "test_q_1()"
   ]
  },
  {
   "cell_type": "markdown",
   "metadata": {},
   "source": [
    "#### answer"
   ]
  },
  {
   "cell_type": "code",
   "execution_count": null,
   "metadata": {},
   "outputs": [],
   "source": [
    "q_1(load_data())"
   ]
  },
  {
   "cell_type": "markdown",
   "metadata": {},
   "source": [
    "## part 2\n",
    "\n",
    "### problem statement:"
   ]
  },
  {
   "cell_type": "markdown",
   "metadata": {},
   "source": [
    "#### function def"
   ]
  },
  {
   "cell_type": "code",
   "execution_count": null,
   "metadata": {},
   "outputs": [],
   "source": [
    "def q_2(data):\n",
    "    schematic = Schematic(data)\n",
    "    s = 0\n",
    "    for (i, j) in schematic.get_gears_locations():\n",
    "        n = schematic.gear_ratio(i, j)\n",
    "        if n is not None:\n",
    "            s += n\n",
    "    return s"
   ]
  },
  {
   "cell_type": "markdown",
   "metadata": {},
   "source": [
    "#### tests"
   ]
  },
  {
   "cell_type": "code",
   "execution_count": null,
   "metadata": {},
   "outputs": [],
   "source": [
    "def test_q_2():\n",
    "    LOGGER.setLevel(logging.DEBUG)\n",
    "    assert q_2(test_data) == 467835\n",
    "    LOGGER.setLevel(logging.INFO)"
   ]
  },
  {
   "cell_type": "code",
   "execution_count": null,
   "metadata": {
    "scrolled": true
   },
   "outputs": [],
   "source": [
    "test_q_2()"
   ]
  },
  {
   "cell_type": "markdown",
   "metadata": {},
   "source": [
    "#### answer"
   ]
  },
  {
   "cell_type": "code",
   "execution_count": null,
   "metadata": {
    "scrolled": true
   },
   "outputs": [],
   "source": [
    "q_2(load_data())"
   ]
  },
  {
   "cell_type": "markdown",
   "metadata": {},
   "source": [
    "fin"
   ]
  }
 ],
 "metadata": {
  "kernelspec": {
   "display_name": "Python 3",
   "language": "python",
   "name": "python3"
  },
  "language_info": {
   "codemirror_mode": {
    "name": "ipython",
    "version": 3
   },
   "file_extension": ".py",
   "mimetype": "text/x-python",
   "name": "python",
   "nbconvert_exporter": "python",
   "pygments_lexer": "ipython3",
   "version": "3.7.3"
  },
  "toc": {
   "base_numbering": 1,
   "nav_menu": {},
   "number_sections": true,
   "sideBar": true,
   "skip_h1_title": false,
   "title_cell": "Table of Contents",
   "title_sidebar": "Contents",
   "toc_cell": false,
   "toc_position": {},
   "toc_section_display": true,
   "toc_window_display": false
  }
 },
 "nbformat": 4,
 "nbformat_minor": 2
}
