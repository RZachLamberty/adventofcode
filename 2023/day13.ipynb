{
 "cells": [
  {
   "cell_type": "markdown",
   "metadata": {},
   "source": [
    "# day 13\n",
    "\n",
    "https://adventofcode.com/13/day/13"
   ]
  },
  {
   "cell_type": "code",
   "execution_count": null,
   "metadata": {},
   "outputs": [],
   "source": [
    "import logging\n",
    "import logging.config\n",
    "import os\n",
    "\n",
    "import yaml"
   ]
  },
  {
   "cell_type": "code",
   "execution_count": null,
   "metadata": {},
   "outputs": [],
   "source": [
    "with open('../logging.yaml') as fp:\n",
    "    logging_config = yaml.load(fp, Loader=yaml.FullLoader)\n",
    "\n",
    "logging.config.dictConfig(logging_config)"
   ]
  },
  {
   "cell_type": "code",
   "execution_count": null,
   "metadata": {},
   "outputs": [],
   "source": [
    "FNAME = os.path.join('data', 'day13.txt')\n",
    "\n",
    "LOGGER = logging.getLogger('day13')"
   ]
  },
  {
   "cell_type": "markdown",
   "metadata": {},
   "source": [
    "## part 1\n",
    "\n",
    "### problem statement:"
   ]
  },
  {
   "cell_type": "markdown",
   "metadata": {},
   "source": [
    "#### loading data"
   ]
  },
  {
   "cell_type": "code",
   "execution_count": null,
   "metadata": {},
   "outputs": [],
   "source": [
    "test_data = \"\"\"#.##..##.\n",
    "..#.##.#.\n",
    "##......#\n",
    "##......#\n",
    "..#.##.#.\n",
    "..##..##.\n",
    "#.#.##.#.\n",
    "\n",
    "#...##..#\n",
    "#....#..#\n",
    "..##..###\n",
    "#####.##.\n",
    "#####.##.\n",
    "..##..###\n",
    "#....#..#\"\"\""
   ]
  },
  {
   "cell_type": "code",
   "execution_count": null,
   "metadata": {},
   "outputs": [],
   "source": [
    "def load_data(fname=FNAME):\n",
    "    with open(fname) as fp:\n",
    "        return fp.read().strip()"
   ]
  },
  {
   "cell_type": "code",
   "execution_count": null,
   "outputs": [],
   "source": [
    "import numpy as np\n",
    "\n",
    "def parse_data(d: str) -> list[np.ndarray]:\n",
    "    return [np.array([[int(char == '#') for char in row]\n",
    "                      for row in chunk.strip().split('\\n')])\n",
    "            for chunk in d.strip().split('\\n\\n')]"
   ],
   "metadata": {
    "collapsed": false
   }
  },
  {
   "cell_type": "markdown",
   "metadata": {},
   "source": [
    "#### function def"
   ]
  },
  {
   "cell_type": "code",
   "execution_count": null,
   "outputs": [],
   "source": [
    "i = 4\n",
    "n_cols = a.shape[1]\n",
    "lft_width = i + 1\n",
    "rgt_width = n_cols - lft_width\n",
    "width = min(lft_width, rgt_width)\n",
    "\n",
    "lft = a[:, :lft_width][:, -width:]\n",
    "rgt = a[:, lft_width:][:, :width][: , ::-1]\n",
    "(lft != rgt).sum()"
   ],
   "metadata": {
    "collapsed": false
   }
  },
  {
   "cell_type": "code",
   "execution_count": null,
   "outputs": [],
   "source": [
    "def find_vertical_line(a: np.ndarray, tgt: int = 0) -> int:\n",
    "    n_cols = a.shape[1]\n",
    "    for i in range(n_cols - 1):\n",
    "        lft_width = i + 1\n",
    "        rgt_width = n_cols - lft_width\n",
    "        width = min(lft_width, rgt_width)\n",
    "\n",
    "        lft = a[:, :lft_width][:, -width:]\n",
    "        rgt = a[:, lft_width:][:, :width][: , ::-1]\n",
    "\n",
    "        num_diff = (lft != rgt).sum()\n",
    "        if num_diff == tgt:\n",
    "            return i\n",
    "    return -1\n",
    "\n",
    "\n",
    "def find_horizontal_line(a: np.ndarray, tgt: int = 0) -> int:\n",
    "    n_rows = a.shape[0]\n",
    "    for i in range(n_rows - 1):\n",
    "        lft_height = i + 1\n",
    "        rgt_height = n_rows - lft_height\n",
    "        height = min(lft_height, rgt_height)\n",
    "\n",
    "        upper = a[:lft_height, :][-height:, :]\n",
    "        lower = a[lft_height:, :][:height, :][::-1, :]\n",
    "\n",
    "        num_diff = (upper != lower).sum()\n",
    "        if num_diff == tgt:\n",
    "            return i\n",
    "    return -1\n",
    "\n",
    "t0, t1 = parse_data(test_data)\n",
    "assert find_vertical_line(t0) == 4\n",
    "assert find_horizontal_line(t0) == -1\n",
    "assert find_vertical_line(t1) == -1\n",
    "assert find_horizontal_line(t1) == 3"
   ],
   "metadata": {
    "collapsed": false
   }
  },
  {
   "cell_type": "code",
   "execution_count": null,
   "outputs": [],
   "source": [
    "def get_score(a: np.ndarray, tgt: int = 0) -> int:\n",
    "    l = find_vertical_line(a, tgt)\n",
    "    if l != -1:\n",
    "        return (l + 1)\n",
    "\n",
    "    r = find_horizontal_line(a, tgt)\n",
    "    if r != -1:\n",
    "        return 100 * (r + 1)\n",
    "\n",
    "    raise ValueError(\"shouldn't have been possible\")\n",
    "\n",
    "assert get_score(t0) == 5\n",
    "assert get_score(t1) == 400"
   ],
   "metadata": {
    "collapsed": false
   }
  },
  {
   "cell_type": "code",
   "execution_count": null,
   "metadata": {},
   "outputs": [],
   "source": [
    "def q_1(data):\n",
    "    return sum([get_score(t) for t in parse_data(data)])"
   ]
  },
  {
   "cell_type": "markdown",
   "metadata": {},
   "source": [
    "#### tests"
   ]
  },
  {
   "cell_type": "code",
   "execution_count": null,
   "metadata": {},
   "outputs": [],
   "source": [
    "def test_q_1():\n",
    "    LOGGER.setLevel(logging.DEBUG)\n",
    "    assert q_1(test_data) == 405\n",
    "    LOGGER.setLevel(logging.INFO)"
   ]
  },
  {
   "cell_type": "code",
   "execution_count": null,
   "metadata": {},
   "outputs": [],
   "source": [
    "test_q_1()"
   ]
  },
  {
   "cell_type": "markdown",
   "metadata": {},
   "source": [
    "#### answer"
   ]
  },
  {
   "cell_type": "code",
   "execution_count": null,
   "metadata": {},
   "outputs": [],
   "source": [
    "q_1(load_data())"
   ]
  },
  {
   "cell_type": "markdown",
   "metadata": {},
   "source": [
    "## part 2\n",
    "\n",
    "### problem statement:"
   ]
  },
  {
   "cell_type": "markdown",
   "metadata": {},
   "source": [
    "#### function def"
   ]
  },
  {
   "cell_type": "code",
   "execution_count": null,
   "metadata": {},
   "outputs": [],
   "source": [
    "def q_2(data):\n",
    "    return sum([get_score(t, tgt=1) for t in parse_data(data)])"
   ]
  },
  {
   "cell_type": "markdown",
   "metadata": {},
   "source": [
    "#### tests"
   ]
  },
  {
   "cell_type": "code",
   "execution_count": null,
   "metadata": {},
   "outputs": [],
   "source": [
    "def test_q_2():\n",
    "    LOGGER.setLevel(logging.DEBUG)\n",
    "    assert q_2(test_data) == 400\n",
    "    LOGGER.setLevel(logging.INFO)"
   ]
  },
  {
   "cell_type": "code",
   "execution_count": null,
   "metadata": {
    "scrolled": true
   },
   "outputs": [],
   "source": [
    "test_q_2()"
   ]
  },
  {
   "cell_type": "markdown",
   "metadata": {},
   "source": [
    "#### answer"
   ]
  },
  {
   "cell_type": "code",
   "execution_count": null,
   "metadata": {
    "scrolled": true
   },
   "outputs": [],
   "source": [
    "q_2(load_data())"
   ]
  },
  {
   "cell_type": "markdown",
   "metadata": {},
   "source": [
    "fin"
   ]
  }
 ],
 "metadata": {
  "kernelspec": {
   "display_name": "Python 3",
   "language": "python",
   "name": "python3"
  },
  "language_info": {
   "codemirror_mode": {
    "name": "ipython",
    "version": 3
   },
   "file_extension": ".py",
   "mimetype": "text/x-python",
   "name": "python",
   "nbconvert_exporter": "python",
   "pygments_lexer": "ipython3",
   "version": "3.7.3"
  },
  "toc": {
   "base_numbering": 1,
   "nav_menu": {},
   "number_sections": true,
   "sideBar": true,
   "skip_h1_title": false,
   "title_cell": "Table of Contents",
   "title_sidebar": "Contents",
   "toc_cell": false,
   "toc_position": {},
   "toc_section_display": true,
   "toc_window_display": false
  }
 },
 "nbformat": 4,
 "nbformat_minor": 2
}
