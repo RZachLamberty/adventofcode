{
 "cells": [
  {
   "cell_type": "markdown",
   "metadata": {},
   "source": [
    "# day 5\n",
    "\n",
    "https://adventofcode.com/5/day/5"
   ]
  },
  {
   "cell_type": "code",
   "execution_count": 2,
   "metadata": {
    "ExecuteTime": {
     "end_time": "2023-12-06T02:07:02.145920Z",
     "start_time": "2023-12-06T02:07:02.141803Z"
    }
   },
   "outputs": [],
   "source": [
    "import logging\n",
    "import logging.config\n",
    "import os\n",
    "\n",
    "import yaml"
   ]
  },
  {
   "cell_type": "code",
   "execution_count": 3,
   "metadata": {
    "ExecuteTime": {
     "end_time": "2023-12-06T02:07:02.517883Z",
     "start_time": "2023-12-06T02:07:02.507105Z"
    }
   },
   "outputs": [],
   "source": [
    "with open('../logging.yaml') as fp:\n",
    "    logging_config = yaml.load(fp, Loader=yaml.FullLoader)\n",
    "\n",
    "logging.config.dictConfig(logging_config)"
   ]
  },
  {
   "cell_type": "code",
   "execution_count": 4,
   "metadata": {
    "ExecuteTime": {
     "end_time": "2023-12-06T02:07:02.917532Z",
     "start_time": "2023-12-06T02:07:02.914627Z"
    }
   },
   "outputs": [],
   "source": [
    "FNAME = os.path.join('data', 'day05.txt')\n",
    "\n",
    "LOGGER = logging.getLogger('day05')"
   ]
  },
  {
   "cell_type": "markdown",
   "metadata": {},
   "source": [
    "## part 1\n",
    "\n",
    "### problem statement:"
   ]
  },
  {
   "cell_type": "markdown",
   "metadata": {},
   "source": [
    "#### loading data"
   ]
  },
  {
   "cell_type": "code",
   "execution_count": 5,
   "metadata": {
    "ExecuteTime": {
     "end_time": "2023-12-06T02:07:04.034686Z",
     "start_time": "2023-12-06T02:07:04.010084Z"
    }
   },
   "outputs": [],
   "source": [
    "test_data = \"\"\"seeds: 79 14 55 13\n",
    "\n",
    "seed-to-soil map:\n",
    "50 98 2\n",
    "52 50 48\n",
    "\n",
    "soil-to-fertilizer map:\n",
    "0 15 37\n",
    "37 52 2\n",
    "39 0 15\n",
    "\n",
    "fertilizer-to-water map:\n",
    "49 53 8\n",
    "0 11 42\n",
    "42 0 7\n",
    "57 7 4\n",
    "\n",
    "water-to-light map:\n",
    "88 18 7\n",
    "18 25 70\n",
    "\n",
    "light-to-temperature map:\n",
    "45 77 23\n",
    "81 45 19\n",
    "68 64 13\n",
    "\n",
    "temperature-to-humidity map:\n",
    "0 69 1\n",
    "1 0 69\n",
    "\n",
    "humidity-to-location map:\n",
    "60 56 37\n",
    "56 93 4\"\"\""
   ]
  },
  {
   "cell_type": "code",
   "execution_count": 6,
   "metadata": {
    "ExecuteTime": {
     "end_time": "2023-12-06T02:07:04.533839Z",
     "start_time": "2023-12-06T02:07:04.528882Z"
    }
   },
   "outputs": [],
   "source": [
    "def load_data(fname=FNAME):\n",
    "    with open(fname) as fp:\n",
    "        return fp.read().strip()"
   ]
  },
  {
   "cell_type": "code",
   "execution_count": 14,
   "outputs": [],
   "source": [
    "class Map:\n",
    "    def __init__(self, instructions: list[list[int]]):\n",
    "        self.instructions = sorted(instructions, key=lambda x: x[1])\n",
    "\n",
    "    def map(self, i: int) -> int:\n",
    "        for (dst_start, src_start, l) in self.instructions:\n",
    "            x = i - src_start\n",
    "            if 0 <= x < l:\n",
    "                return dst_start + x\n",
    "        return i\n",
    "\n",
    "    def range_map(self, seed_range: list[int]) -> list[list[int]]:\n",
    "        # given the instructions, turn a range (i0, l) into possibly many new ranges after\n",
    "        # applying all instructions: [(j0, l0), (j1, l1), ...]\n",
    "        output_ranges = []\n",
    "        i_inst = 0\n",
    "        while True:\n",
    "            try:\n",
    "                instruction = self.instructions[i_inst]\n",
    "            except IndexError:\n",
    "                break\n",
    "\n",
    "            remapped_range, seed_range, instruction_consumed = self.apply_instruction_to_range(instruction, seed_range)\n",
    "            if remapped_range is not None:\n",
    "                output_ranges.append(remapped_range)\n",
    "\n",
    "            if seed_range is None:\n",
    "                return output_ranges\n",
    "\n",
    "            if instruction_consumed:\n",
    "                i_inst += 1\n",
    "\n",
    "        # at this point, if seed_range is not none, it means it wasn't touched by any instruction\n",
    "        # and should be considered a straight pass-through\n",
    "        output_ranges.append(seed_range)\n",
    "\n",
    "        return output_ranges\n",
    "\n",
    "    def range_list_map(self, seed_range_list: list[list[int]]) -> list[list[int]]:\n",
    "        output_seed_range_list = []\n",
    "        for seed_range in seed_range_list:\n",
    "            output_seed_range_list += self.range_map(seed_range=seed_range)\n",
    "        return output_seed_range_list\n",
    "\n",
    "    def apply_instruction_to_range(self, instruction: list[int], seed_range: list[int]) -> tuple[list[int] | None, list[int] | None, bool]:\n",
    "        \"\"\"for a given input seed range and instruction, there are four options:\n",
    "\n",
    "            1. no overlap at all\n",
    "            2. complete overlap\n",
    "            3. partial overlap: the first element is in the overlap\n",
    "            4. partial overlap: the first element is not in the overlap\n",
    "\n",
    "        turn each of those scenarios into a remapped range and remaining seed range\n",
    "\n",
    "        returns:\n",
    "            remapped_range\n",
    "            seed_range_remaining\n",
    "            instruction_consumed\n",
    "\n",
    "        \"\"\"\n",
    "        i0, l_i = seed_range\n",
    "        i1 = i0 + l_i\n",
    "\n",
    "        dst0, src0, l_src = instruction\n",
    "        src1 = src0 + l_src\n",
    "\n",
    "        # no overlap at all\n",
    "        if src1 < i0:\n",
    "            remapped_range = None\n",
    "            seed_range_remaining = seed_range\n",
    "            instruction_consumed = True\n",
    "        # first element is in the overlap\n",
    "        elif src0 <= i0 < src1:\n",
    "            j0 = dst0 + (i0 - src0)\n",
    "            # complete overlap\n",
    "            if i1 < src1:\n",
    "                remapped_range = [j0, l_i]\n",
    "                seed_range_remaining = None\n",
    "                # only consumed when we've \"passed\" the right edge\n",
    "                instruction_consumed = False\n",
    "            # partial overlap: the first element is in the overlap\n",
    "            else:\n",
    "                # the overlapping area ends at src1 by definition\n",
    "                l_overlap = src1 - i0\n",
    "                l_remaining = i1 - src1\n",
    "                remapped_range = [j0, l_overlap]\n",
    "                seed_range_remaining = [src1, l_remaining]\n",
    "                instruction_consumed = True\n",
    "        # first element is not in the overlap\n",
    "        else:\n",
    "            # *some* element is in the overlap:\n",
    "            if src0 < i1:\n",
    "                remapped_range = [i0, src0 - i0]\n",
    "                seed_range_remaining = [src0, i1 - src0]\n",
    "                instruction_consumed = False\n",
    "            # no overlap at all\n",
    "            else:\n",
    "                remapped_range = [i0, l_i]\n",
    "                seed_range_remaining = None\n",
    "                instruction_consumed = False\n",
    "\n",
    "        return remapped_range, seed_range_remaining, instruction_consumed\n",
    "\n",
    "\n",
    "class MapChain:\n",
    "    def __init__(self, *maps):\n",
    "        self.maps = maps\n",
    "\n",
    "    def map(self, i: int) -> int:\n",
    "        for map in self.maps:\n",
    "            i = map.map(i)\n",
    "        return i\n",
    "\n",
    "    def range_list_map(self, seed_range_list: list[list[int]]) -> list[list[int]]:\n",
    "        for map in self.maps:\n",
    "            seed_range_list = map.range_list_map(seed_range_list)\n",
    "        return seed_range_list\n",
    "\n",
    "\n",
    "def str_to_inst(s: str) -> list[list[int]]:\n",
    "    return [[int(_) for _ in line.split(' ')] for line in s.split('\\n')[1:]]\n",
    "\n",
    "\n",
    "def parse_data(d):\n",
    "    (seeds,\n",
    "     seed_to_soil,\n",
    "     soil_to_fert,\n",
    "     fert_to_water,\n",
    "     water_to_light,\n",
    "     light_to_temp,\n",
    "     temp_to_hum,\n",
    "     hum_to_loc) = d.split('\\n\\n')\n",
    "    _, seeds = seeds.split(': ')\n",
    "    seeds = [int(_) for _ in seeds.split(' ')]\n",
    "\n",
    "    seed_to_soil = Map(instructions=str_to_inst(s=seed_to_soil))\n",
    "    soil_to_fert = Map(instructions=str_to_inst(s=soil_to_fert))\n",
    "    fert_to_water = Map(instructions=str_to_inst(s=fert_to_water))\n",
    "    water_to_light = Map(instructions=str_to_inst(s=water_to_light))\n",
    "    light_to_temp = Map(instructions=str_to_inst(s=light_to_temp))\n",
    "    temp_to_hum = Map(instructions=str_to_inst(s=temp_to_hum))\n",
    "    hum_to_loc = Map(instructions=str_to_inst(s=hum_to_loc))\n",
    "    return seeds, (seed_to_soil,\n",
    "                   soil_to_fert,\n",
    "                   fert_to_water,\n",
    "                   water_to_light,\n",
    "                   light_to_temp,\n",
    "                   temp_to_hum,\n",
    "                   hum_to_loc)"
   ],
   "metadata": {
    "collapsed": false,
    "ExecuteTime": {
     "end_time": "2023-12-06T02:10:42.855302Z",
     "start_time": "2023-12-06T02:10:42.853167Z"
    }
   }
  },
  {
   "cell_type": "code",
   "execution_count": 15,
   "outputs": [],
   "source": [
    "(seeds,\n",
    " (seed_to_soil,\n",
    "  soil_to_fert,\n",
    "  fert_to_water,\n",
    "  water_to_light,\n",
    "  light_to_temp,\n",
    "  temp_to_hum,\n",
    "  hum_to_loc)) = parse_data(test_data)\n",
    "\n",
    "assert seed_to_soil.map(0) == 0\n",
    "assert seed_to_soil.map(1) == 1\n",
    "assert seed_to_soil.map(48) == 48\n",
    "assert seed_to_soil.map(49) == 49\n",
    "assert seed_to_soil.map(50) == 52\n",
    "assert seed_to_soil.map(51) == 53\n",
    "assert seed_to_soil.map(96) == 98\n",
    "assert seed_to_soil.map(97) == 99\n",
    "assert seed_to_soil.map(98) == 50\n",
    "assert seed_to_soil.map(99) == 51\n",
    "\n",
    "assert seed_to_soil.map(79) == 81\n",
    "assert seed_to_soil.map(14) == 14\n",
    "assert seed_to_soil.map(55) == 57\n",
    "assert seed_to_soil.map(13) == 13"
   ],
   "metadata": {
    "collapsed": false,
    "ExecuteTime": {
     "end_time": "2023-12-06T02:10:44.125696Z",
     "start_time": "2023-12-06T02:10:44.116459Z"
    }
   }
  },
  {
   "cell_type": "code",
   "execution_count": 16,
   "outputs": [],
   "source": [
    "assert seed_to_soil.range_map([79, 14]) == [[81, 14]]\n",
    "assert seed_to_soil.range_map([55, 13]) == [[57, 13]]"
   ],
   "metadata": {
    "collapsed": false,
    "ExecuteTime": {
     "end_time": "2023-12-06T02:10:44.531829Z",
     "start_time": "2023-12-06T02:10:44.530388Z"
    }
   }
  },
  {
   "cell_type": "code",
   "execution_count": 18,
   "outputs": [],
   "source": [
    "all_maps = MapChain(seed_to_soil,\n",
    "                    soil_to_fert,\n",
    "                    fert_to_water,\n",
    "                    water_to_light,\n",
    "                    light_to_temp,\n",
    "                    temp_to_hum,\n",
    "                    hum_to_loc)\n",
    "\n",
    "assert all_maps.map(79) == 82\n",
    "assert all_maps.map(14) == 43\n",
    "assert all_maps.map(55) == 86\n",
    "assert all_maps.map(13) == 35"
   ],
   "metadata": {
    "collapsed": false,
    "ExecuteTime": {
     "end_time": "2023-12-06T02:10:49.899911Z",
     "start_time": "2023-12-06T02:10:49.890464Z"
    }
   }
  },
  {
   "cell_type": "markdown",
   "metadata": {},
   "source": [
    "#### function def"
   ]
  },
  {
   "cell_type": "code",
   "execution_count": 20,
   "metadata": {
    "ExecuteTime": {
     "end_time": "2023-12-06T02:12:04.994055Z",
     "start_time": "2023-12-06T02:12:04.992285Z"
    }
   },
   "outputs": [],
   "source": [
    "def q_1(data):\n",
    "    (seeds,\n",
    "     (seed_to_soil,\n",
    "      soil_to_fert,\n",
    "      fert_to_water,\n",
    "      water_to_light,\n",
    "      light_to_temp,\n",
    "      temp_to_hum,\n",
    "      hum_to_loc)) = parse_data(d=data)\n",
    "    all_maps = MapChain(seed_to_soil,\n",
    "                        soil_to_fert,\n",
    "                        fert_to_water,\n",
    "                        water_to_light,\n",
    "                        light_to_temp,\n",
    "                        temp_to_hum,\n",
    "                        hum_to_loc)\n",
    "    seeds_to_loc = [[seed_idx, all_maps.map(seed_idx)] for seed_idx in seeds]\n",
    "    return sorted(seeds_to_loc, key=lambda x: x[-1])[0][1]"
   ]
  },
  {
   "cell_type": "markdown",
   "metadata": {},
   "source": [
    "#### tests"
   ]
  },
  {
   "cell_type": "code",
   "execution_count": 21,
   "metadata": {
    "ExecuteTime": {
     "end_time": "2023-12-06T02:12:05.611660Z",
     "start_time": "2023-12-06T02:12:05.604458Z"
    }
   },
   "outputs": [],
   "source": [
    "def test_q_1():\n",
    "    LOGGER.setLevel(logging.DEBUG)\n",
    "    assert q_1(test_data) == 35\n",
    "    LOGGER.setLevel(logging.INFO)"
   ]
  },
  {
   "cell_type": "code",
   "execution_count": 22,
   "metadata": {
    "ExecuteTime": {
     "end_time": "2023-12-06T02:12:05.967261Z",
     "start_time": "2023-12-06T02:12:05.960815Z"
    }
   },
   "outputs": [],
   "source": [
    "test_q_1()"
   ]
  },
  {
   "cell_type": "markdown",
   "metadata": {},
   "source": [
    "#### answer"
   ]
  },
  {
   "cell_type": "code",
   "execution_count": 23,
   "metadata": {
    "ExecuteTime": {
     "end_time": "2023-12-06T02:12:06.585313Z",
     "start_time": "2023-12-06T02:12:06.577492Z"
    }
   },
   "outputs": [
    {
     "data": {
      "text/plain": "551761867"
     },
     "execution_count": 23,
     "metadata": {},
     "output_type": "execute_result"
    }
   ],
   "source": [
    "q_1(load_data())"
   ]
  },
  {
   "cell_type": "markdown",
   "metadata": {},
   "source": [
    "## part 2\n",
    "\n",
    "### problem statement:"
   ]
  },
  {
   "cell_type": "markdown",
   "metadata": {},
   "source": [
    "#### function def"
   ]
  },
  {
   "cell_type": "code",
   "execution_count": 24,
   "outputs": [
    {
     "name": "stdout",
     "output_type": "stream",
     "text": [
      "\u001B[33m2023-12-05 21:12:07,919 WARNING  [day05.generate_seed_numbers:20] seed_idx: 79\u001B[0m\n",
      "\u001B[33m2023-12-05 21:12:07,920 WARNING  [day05.generate_seed_numbers:20] seed_idx: 55\u001B[0m\n"
     ]
    }
   ],
   "source": [
    "import itertools\n",
    "\n",
    "def grouper(iterable, n, *, incomplete='fill', fillvalue=None):\n",
    "    \"Collect data into non-overlapping fixed-length chunks or blocks\"\n",
    "    # grouper('ABCDEFG', 3, fillvalue='x') --> ABC DEF Gxx\n",
    "    # grouper('ABCDEFG', 3, incomplete='strict') --> ABC DEF ValueError\n",
    "    # grouper('ABCDEFG', 3, incomplete='ignore') --> ABC DEF\n",
    "    args = [iter(iterable)] * n\n",
    "    if incomplete == 'fill':\n",
    "        return itertools.zip_longest(*args, fillvalue=fillvalue)\n",
    "    if incomplete == 'strict':\n",
    "        return zip(*args, strict=True)\n",
    "    if incomplete == 'ignore':\n",
    "        return zip(*args)\n",
    "    else:\n",
    "        raise ValueError('Expected fill, strict, or ignore')\n",
    "\n",
    "def generate_seed_numbers(seeds):\n",
    "    for (seed_idx, l) in grouper(seeds, 2):\n",
    "        LOGGER.warning(f\"seed_idx: {seed_idx}\")\n",
    "        for i in range(l):\n",
    "            yield seed_idx + i\n",
    "\n",
    "seeds = [79, 14, 55, 13,]\n",
    "assert list(generate_seed_numbers(seeds)) == list(range(79, 93)) + list(range(55, 68))"
   ],
   "metadata": {
    "collapsed": false,
    "ExecuteTime": {
     "end_time": "2023-12-06T02:12:07.926641Z",
     "start_time": "2023-12-06T02:12:07.921678Z"
    }
   }
  },
  {
   "cell_type": "code",
   "execution_count": 29,
   "metadata": {
    "ExecuteTime": {
     "end_time": "2023-12-06T02:13:19.938877Z",
     "start_time": "2023-12-06T02:13:19.931935Z"
    }
   },
   "outputs": [],
   "source": [
    "def q_2(data):\n",
    "    (seeds,\n",
    "     (seed_to_soil,\n",
    "      soil_to_fert,\n",
    "      fert_to_water,\n",
    "      water_to_light,\n",
    "      light_to_temp,\n",
    "      temp_to_hum,\n",
    "      hum_to_loc)) = parse_data(d=data)\n",
    "    all_maps = MapChain(seed_to_soil,\n",
    "                        soil_to_fert,\n",
    "                        fert_to_water,\n",
    "                        water_to_light,\n",
    "                        light_to_temp,\n",
    "                        temp_to_hum,\n",
    "                        hum_to_loc)\n",
    "    seed_ranges = list(grouper(seeds, 2))\n",
    "    output_seed_ranges = all_maps.range_list_map(seed_ranges)\n",
    "    range_start_vals = [i for (i, _) in output_seed_ranges]\n",
    "    return min(range_start_vals)"
   ]
  },
  {
   "cell_type": "markdown",
   "metadata": {},
   "source": [
    "#### tests"
   ]
  },
  {
   "cell_type": "code",
   "execution_count": 30,
   "metadata": {
    "ExecuteTime": {
     "end_time": "2023-12-06T02:13:20.437455Z",
     "start_time": "2023-12-06T02:13:20.432333Z"
    }
   },
   "outputs": [],
   "source": [
    "def test_q_2():\n",
    "    LOGGER.setLevel(logging.DEBUG)\n",
    "    assert q_2(test_data) == 46\n",
    "    LOGGER.setLevel(logging.INFO)"
   ]
  },
  {
   "cell_type": "code",
   "execution_count": 31,
   "metadata": {
    "scrolled": true,
    "ExecuteTime": {
     "end_time": "2023-12-06T02:13:20.970686Z",
     "start_time": "2023-12-06T02:13:20.965066Z"
    }
   },
   "outputs": [],
   "source": [
    "test_q_2()"
   ]
  },
  {
   "cell_type": "markdown",
   "metadata": {},
   "source": [
    "#### answer"
   ]
  },
  {
   "cell_type": "code",
   "execution_count": 32,
   "metadata": {
    "scrolled": true,
    "ExecuteTime": {
     "end_time": "2023-12-06T02:13:22.064090Z",
     "start_time": "2023-12-06T02:13:22.054513Z"
    }
   },
   "outputs": [
    {
     "data": {
      "text/plain": "57451709"
     },
     "execution_count": 32,
     "metadata": {},
     "output_type": "execute_result"
    }
   ],
   "source": [
    "q_2(load_data())"
   ]
  },
  {
   "cell_type": "markdown",
   "metadata": {},
   "source": [
    "fin"
   ]
  }
 ],
 "metadata": {
  "kernelspec": {
   "display_name": "Python 3",
   "language": "python",
   "name": "python3"
  },
  "language_info": {
   "codemirror_mode": {
    "name": "ipython",
    "version": 3
   },
   "file_extension": ".py",
   "mimetype": "text/x-python",
   "name": "python",
   "nbconvert_exporter": "python",
   "pygments_lexer": "ipython3",
   "version": "3.7.3"
  },
  "toc": {
   "base_numbering": 1,
   "nav_menu": {},
   "number_sections": true,
   "sideBar": true,
   "skip_h1_title": false,
   "title_cell": "Table of Contents",
   "title_sidebar": "Contents",
   "toc_cell": false,
   "toc_position": {},
   "toc_section_display": true,
   "toc_window_display": false
  }
 },
 "nbformat": 4,
 "nbformat_minor": 2
}
