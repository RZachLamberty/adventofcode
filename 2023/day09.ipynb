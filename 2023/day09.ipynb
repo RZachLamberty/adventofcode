{
 "cells": [
  {
   "cell_type": "markdown",
   "metadata": {},
   "source": [
    "# day 9\n",
    "\n",
    "https://adventofcode.com/9/day/9"
   ]
  },
  {
   "cell_type": "code",
   "execution_count": null,
   "metadata": {},
   "outputs": [],
   "source": [
    "import logging\n",
    "import logging.config\n",
    "import os\n",
    "\n",
    "import numpy as np\n",
    "import yaml"
   ]
  },
  {
   "cell_type": "code",
   "execution_count": null,
   "metadata": {},
   "outputs": [],
   "source": [
    "with open('../logging.yaml') as fp:\n",
    "    logging_config = yaml.load(fp, Loader=yaml.FullLoader)\n",
    "\n",
    "logging.config.dictConfig(logging_config)"
   ]
  },
  {
   "cell_type": "code",
   "execution_count": null,
   "metadata": {},
   "outputs": [],
   "source": [
    "FNAME = os.path.join('data', 'day09.txt')\n",
    "\n",
    "LOGGER = logging.getLogger('day09')"
   ]
  },
  {
   "cell_type": "markdown",
   "metadata": {},
   "source": [
    "## part 1\n",
    "\n",
    "### problem statement:"
   ]
  },
  {
   "cell_type": "markdown",
   "metadata": {},
   "source": [
    "#### loading data"
   ]
  },
  {
   "cell_type": "code",
   "execution_count": null,
   "metadata": {},
   "outputs": [],
   "source": [
    "test_data = \"\"\"0 3 6 9 12 15\n",
    "1 3 6 10 15 21\n",
    "10 13 16 21 30 45\"\"\""
   ]
  },
  {
   "cell_type": "code",
   "execution_count": null,
   "metadata": {},
   "outputs": [],
   "source": [
    "def load_data(fname=FNAME):\n",
    "    with open(fname) as fp:\n",
    "        return fp.read().strip()"
   ]
  },
  {
   "cell_type": "code",
   "execution_count": null,
   "outputs": [],
   "source": [
    "def parse_data(s):\n",
    "    return [[int(_) for _ in line.strip().split(' ')]\n",
    "            for line in s.strip().split('\\n')]"
   ],
   "metadata": {
    "collapsed": false
   }
  },
  {
   "cell_type": "markdown",
   "metadata": {},
   "source": [
    "#### function def"
   ]
  },
  {
   "cell_type": "code",
   "execution_count": null,
   "outputs": [],
   "source": [
    "import pandas as pd\n",
    "\n",
    "\n",
    "def xcn(i: int) -> str:\n",
    "    return f\"x{i:0>3}\"\n",
    "\n",
    "\n",
    "def find_derivatives(x: list[int]) -> pd.DataFrame:\n",
    "    i = 0\n",
    "    df = pd.DataFrame({xcn(i): x})\n",
    "    while True:\n",
    "        i += 1\n",
    "        new_vals = df[xcn(i - 1)].diff()\n",
    "        df.loc[:, xcn(i)] = new_vals\n",
    "        if (new_vals.dropna() == 0).all():\n",
    "            break\n",
    "    return df"
   ],
   "metadata": {
    "collapsed": false
   }
  },
  {
   "cell_type": "code",
   "execution_count": null,
   "outputs": [],
   "source": [
    "x = [0, 3, 6, 9, 12, 15]\n",
    "df = find_derivatives(x)\n",
    "assert (df.fillna(-1) == pd.DataFrame({'x000': x,\n",
    "                                       'x001': [-1.0] + [3.0] * 5,\n",
    "                                       'x002': [-1.0] * 2 + [0.0] * 4})).all().all()\n",
    "\n",
    "x = [1, 3, 6, 10, 15, 21]\n",
    "df = find_derivatives(x)\n",
    "assert (df.fillna(-1) == pd.DataFrame({'x000': x,\n",
    "                                       'x001': [-1, 2, 3, 4, 5, 6],\n",
    "                                       'x002': [-1, -1, 1, 1, 1, 1],\n",
    "                                       'x003': [-1, -1, -1, 0, 0, 0]})).all().all()\n",
    "\n",
    "x = [10, 13, 16, 21, 30, 45]\n",
    "df = find_derivatives(x)\n",
    "assert (df.fillna(-1) == pd.DataFrame({'x000': x,\n",
    "                                       'x001': [-1, 3, 3, 5, 9, 15],\n",
    "                                       'x002': [-1, -1, 0, 2, 4, 6],\n",
    "                                       'x003': [-1, -1, -1, 2, 2, 2],\n",
    "                                       'x004': [-1, -1, -1, -1, 0, 0]})).all().all()"
   ],
   "metadata": {
    "collapsed": false
   }
  },
  {
   "cell_type": "code",
   "execution_count": null,
   "outputs": [],
   "source": [
    "def extrapolate(df: pd.DataFrame) -> int:\n",
    "    return df.iloc[-1].sum()"
   ],
   "metadata": {
    "collapsed": false
   }
  },
  {
   "cell_type": "code",
   "execution_count": null,
   "outputs": [],
   "source": [
    "x = [0, 3, 6, 9, 12, 15]\n",
    "assert extrapolate(find_derivatives(x)) == 18\n",
    "\n",
    "x = [1, 3, 6, 10, 15, 21]\n",
    "assert extrapolate(find_derivatives(x)) == 28\n",
    "\n",
    "x = [10, 13, 16, 21, 30, 45]\n",
    "assert extrapolate(find_derivatives(x)) == 68"
   ],
   "metadata": {
    "collapsed": false
   }
  },
  {
   "cell_type": "code",
   "execution_count": null,
   "metadata": {},
   "outputs": [],
   "source": [
    "def q_1(data):\n",
    "    return sum([extrapolate(df=find_derivatives(x=x))\n",
    "                for x in parse_data(s=data)])"
   ]
  },
  {
   "cell_type": "markdown",
   "metadata": {},
   "source": [
    "#### tests"
   ]
  },
  {
   "cell_type": "code",
   "execution_count": null,
   "metadata": {},
   "outputs": [],
   "source": [
    "def test_q_1():\n",
    "    LOGGER.setLevel(logging.DEBUG)\n",
    "    assert q_1(test_data) == 114\n",
    "    LOGGER.setLevel(logging.INFO)"
   ]
  },
  {
   "cell_type": "code",
   "execution_count": null,
   "metadata": {},
   "outputs": [],
   "source": [
    "test_q_1()"
   ]
  },
  {
   "cell_type": "markdown",
   "metadata": {},
   "source": [
    "#### answer"
   ]
  },
  {
   "cell_type": "code",
   "execution_count": null,
   "metadata": {},
   "outputs": [],
   "source": [
    "q_1(load_data())"
   ]
  },
  {
   "cell_type": "markdown",
   "metadata": {},
   "source": [
    "## part 2\n",
    "\n",
    "### problem statement:"
   ]
  },
  {
   "cell_type": "markdown",
   "metadata": {},
   "source": [
    "#### function def"
   ]
  },
  {
   "cell_type": "code",
   "execution_count": null,
   "outputs": [],
   "source": [
    "def reverse_extrapolate(df: pd.DataFrame) -> int:\n",
    "    z = list(reversed(df.bfill().iloc[0].values))\n",
    "    o = 0\n",
    "    for val in reversed(df.bfill().iloc[0].values):\n",
    "        o = val - o\n",
    "    return o"
   ],
   "metadata": {
    "collapsed": false
   }
  },
  {
   "cell_type": "code",
   "execution_count": null,
   "outputs": [],
   "source": [
    "x = [0, 3, 6, 9, 12, 15]\n",
    "df = find_derivatives(x)\n",
    "z = list(reversed(df.bfill().iloc[0].values))\n",
    "\n",
    "x = [1, 3, 6, 10, 15, 21]\n",
    "df = find_derivatives(x)\n",
    "z = list(reversed(df.bfill().iloc[0].values))\n",
    "[(-1) ** i * v for (i, v) in enumerate(z)]\n",
    "\n",
    "# x = [10, 13, 16, 21, 30, 45]\n",
    "# df = find_derivatives(x)\n",
    "# z = list(reversed(df.bfill().iloc[0].values))\n",
    "# sum([(-1) ** i * v for (i, v) in enumerate(z)])"
   ],
   "metadata": {
    "collapsed": false
   }
  },
  {
   "cell_type": "code",
   "execution_count": null,
   "outputs": [],
   "source": [
    "x = [0, 3, 6, 9, 12, 15]\n",
    "assert reverse_extrapolate(find_derivatives(x)) == -3\n",
    "\n",
    "x = [1, 3, 6, 10, 15, 21]\n",
    "assert reverse_extrapolate(find_derivatives(x)) == 0\n",
    "\n",
    "x = [10, 13, 16, 21, 30, 45]\n",
    "assert reverse_extrapolate(find_derivatives(x)) == 5"
   ],
   "metadata": {
    "collapsed": false
   }
  },
  {
   "cell_type": "code",
   "execution_count": null,
   "metadata": {},
   "outputs": [],
   "source": [
    "def q_2(data):\n",
    "    return sum([reverse_extrapolate(df=find_derivatives(x=x))\n",
    "                for x in parse_data(s=data)])"
   ]
  },
  {
   "cell_type": "code",
   "execution_count": null,
   "outputs": [],
   "source": [
    "x = parse_data(load_data())[0]\n",
    "df = find_derivatives(x)\n",
    "df"
   ],
   "metadata": {
    "collapsed": false
   }
  },
  {
   "cell_type": "code",
   "execution_count": null,
   "outputs": [],
   "source": [],
   "metadata": {
    "collapsed": false
   }
  },
  {
   "cell_type": "markdown",
   "metadata": {},
   "source": [
    "#### tests"
   ]
  },
  {
   "cell_type": "code",
   "execution_count": null,
   "metadata": {},
   "outputs": [],
   "source": [
    "def test_q_2():\n",
    "    LOGGER.setLevel(logging.DEBUG)\n",
    "    assert q_2(test_data) == 2\n",
    "    LOGGER.setLevel(logging.INFO)"
   ]
  },
  {
   "cell_type": "code",
   "execution_count": null,
   "metadata": {
    "scrolled": true
   },
   "outputs": [],
   "source": [
    "test_q_2()"
   ]
  },
  {
   "cell_type": "markdown",
   "metadata": {},
   "source": [
    "#### answer"
   ]
  },
  {
   "cell_type": "code",
   "execution_count": null,
   "metadata": {
    "scrolled": true
   },
   "outputs": [],
   "source": [
    "q_2(load_data())"
   ]
  },
  {
   "cell_type": "markdown",
   "metadata": {},
   "source": [
    "fin"
   ]
  }
 ],
 "metadata": {
  "kernelspec": {
   "display_name": "Python 3",
   "language": "python",
   "name": "python3"
  },
  "language_info": {
   "codemirror_mode": {
    "name": "ipython",
    "version": 3
   },
   "file_extension": ".py",
   "mimetype": "text/x-python",
   "name": "python",
   "nbconvert_exporter": "python",
   "pygments_lexer": "ipython3",
   "version": "3.7.3"
  },
  "toc": {
   "base_numbering": 1,
   "nav_menu": {},
   "number_sections": true,
   "sideBar": true,
   "skip_h1_title": false,
   "title_cell": "Table of Contents",
   "title_sidebar": "Contents",
   "toc_cell": false,
   "toc_position": {},
   "toc_section_display": true,
   "toc_window_display": false
  }
 },
 "nbformat": 4,
 "nbformat_minor": 2
}
