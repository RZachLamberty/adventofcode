{
 "cells": [
  {
   "cell_type": "markdown",
   "metadata": {},
   "source": [
    "# day 8\n",
    "\n",
    "https://adventofcode.com/8/day/8"
   ]
  },
  {
   "cell_type": "code",
   "execution_count": null,
   "metadata": {},
   "outputs": [],
   "source": [
    "import logging\n",
    "import logging.config\n",
    "import os\n",
    "\n",
    "import yaml"
   ]
  },
  {
   "cell_type": "code",
   "execution_count": null,
   "metadata": {},
   "outputs": [],
   "source": [
    "with open('../logging.yaml') as fp:\n",
    "    logging_config = yaml.load(fp, Loader=yaml.FullLoader)\n",
    "\n",
    "logging.config.dictConfig(logging_config)"
   ]
  },
  {
   "cell_type": "code",
   "execution_count": null,
   "metadata": {},
   "outputs": [],
   "source": [
    "FNAME = os.path.join('data', 'day08.txt')\n",
    "\n",
    "LOGGER = logging.getLogger('day08')"
   ]
  },
  {
   "cell_type": "markdown",
   "metadata": {},
   "source": [
    "## part 1\n",
    "\n",
    "### problem statement:"
   ]
  },
  {
   "cell_type": "markdown",
   "metadata": {},
   "source": [
    "#### loading data"
   ]
  },
  {
   "cell_type": "code",
   "execution_count": null,
   "metadata": {},
   "outputs": [],
   "source": [
    "test_data = \"\"\"RL\n",
    "\n",
    "AAA = (BBB, CCC)\n",
    "BBB = (DDD, EEE)\n",
    "CCC = (ZZZ, GGG)\n",
    "DDD = (DDD, DDD)\n",
    "EEE = (EEE, EEE)\n",
    "GGG = (GGG, GGG)\n",
    "ZZZ = (ZZZ, ZZZ)\"\"\"\n",
    "\n",
    "test_data_2 = \"\"\"LLR\n",
    "\n",
    "AAA = (BBB, BBB)\n",
    "BBB = (AAA, ZZZ)\n",
    "ZZZ = (ZZZ, ZZZ)\"\"\""
   ]
  },
  {
   "cell_type": "code",
   "execution_count": null,
   "metadata": {},
   "outputs": [],
   "source": [
    "def load_data(fname=FNAME):\n",
    "    with open(fname) as fp:\n",
    "        return fp.read().strip()"
   ]
  },
  {
   "cell_type": "markdown",
   "metadata": {},
   "source": [
    "#### function def"
   ]
  },
  {
   "cell_type": "code",
   "execution_count": null,
   "outputs": [],
   "source": [
    "def parse_data(s: str):\n",
    "    inst, netstr = s.split('\\n\\n')\n",
    "    inst = list(inst.strip())\n",
    "    net = {}\n",
    "    for line in netstr.split('\\n'):\n",
    "        node, neighbor_str = line.split(\" = \")\n",
    "        l_node, r_node = neighbor_str.replace('(', '').replace(')', '').split(', ')\n",
    "        net[node] = {\"L\": l_node, \"R\": r_node}\n",
    "    return inst, net"
   ],
   "metadata": {
    "collapsed": false
   }
  },
  {
   "cell_type": "code",
   "execution_count": null,
   "metadata": {},
   "outputs": [],
   "source": [
    "def q_1(data):\n",
    "    instructions, net = parse_data(data)\n",
    "    steps = 0\n",
    "    node = 'AAA'\n",
    "    i_inst = 0\n",
    "    L = len(instructions)\n",
    "    while node != 'ZZZ':\n",
    "        inst = instructions[i_inst % L]\n",
    "        node = net[node][inst]\n",
    "        steps += 1\n",
    "        i_inst += 1\n",
    "    return steps"
   ]
  },
  {
   "cell_type": "markdown",
   "metadata": {},
   "source": [
    "#### tests"
   ]
  },
  {
   "cell_type": "code",
   "execution_count": null,
   "metadata": {},
   "outputs": [],
   "source": [
    "def test_q_1():\n",
    "    LOGGER.setLevel(logging.DEBUG)\n",
    "    assert q_1(test_data) == 2\n",
    "    assert q_1(test_data_2) == 6\n",
    "    LOGGER.setLevel(logging.INFO)"
   ]
  },
  {
   "cell_type": "code",
   "execution_count": null,
   "metadata": {},
   "outputs": [],
   "source": [
    "test_q_1()"
   ]
  },
  {
   "cell_type": "markdown",
   "metadata": {},
   "source": [
    "#### answer"
   ]
  },
  {
   "cell_type": "code",
   "execution_count": null,
   "metadata": {},
   "outputs": [],
   "source": [
    "q_1(load_data())"
   ]
  },
  {
   "cell_type": "markdown",
   "metadata": {},
   "source": [
    "## part 2\n",
    "\n",
    "### problem statement:"
   ]
  },
  {
   "cell_type": "code",
   "execution_count": null,
   "outputs": [],
   "source": [
    "test_data = \"\"\"LR\n",
    "\n",
    "11A = (11B, XXX)\n",
    "11B = (XXX, 11Z)\n",
    "11Z = (11B, XXX)\n",
    "22A = (22B, XXX)\n",
    "22B = (22C, 22C)\n",
    "22C = (22Z, 22Z)\n",
    "22Z = (22B, 22B)\n",
    "XXX = (XXX, XXX)\"\"\""
   ],
   "metadata": {
    "collapsed": false
   }
  },
  {
   "cell_type": "markdown",
   "metadata": {},
   "source": [
    "#### function def"
   ]
  },
  {
   "cell_type": "code",
   "execution_count": null,
   "outputs": [],
   "source": [
    "def find_starting_nodes(net):\n",
    "    return sorted(n for n in net if n[-1] == 'A')"
   ],
   "metadata": {
    "collapsed": false
   }
  },
  {
   "cell_type": "code",
   "execution_count": null,
   "outputs": [],
   "source": [
    "instructions, net = parse_data(test_data)\n",
    "assert find_starting_nodes(net) == ['11A', '22A']"
   ],
   "metadata": {
    "collapsed": false
   }
  },
  {
   "cell_type": "code",
   "execution_count": null,
   "outputs": [],
   "source": [
    "instructions, net = parse_data(load_data())\n",
    "assert find_starting_nodes(net) == ['AAA', 'MHA', 'NBA', 'TTA', 'VVA', 'XSA']"
   ],
   "metadata": {
    "collapsed": false
   }
  },
  {
   "cell_type": "code",
   "execution_count": null,
   "outputs": [],
   "source": [
    "def find_cycles(instructions, net, starting_node):\n",
    "    \"\"\"starting at one node, walk the instructions until we have revisited one of the Z\n",
    "    nodes *at the same instruction position*. along the way, record the number of steps\n",
    "    at which that occurred. the first time we re-visit a Z node we have a cycle.\n",
    "    Once every key in the cycle dictionary has at least 2 values, we have a complete\n",
    "    cycle list and can turn that into a list of steps at which we will be at a Z node\n",
    "\n",
    "    \"\"\"\n",
    "    i_inst = steps = 0\n",
    "    L = len(instructions)\n",
    "    node = starting_node\n",
    "    z_cycles = {}\n",
    "    while True:\n",
    "        inst = instructions[i_inst]\n",
    "        node = net[node][inst]\n",
    "        steps += 1\n",
    "        if node[-1] == 'Z':\n",
    "            k = node, i_inst\n",
    "            if k not in z_cycles:\n",
    "                z_cycles[k] = []\n",
    "\n",
    "            z_cycles[k].append(steps)\n",
    "        if len(z_cycles) > 0 and all(len(v) >= 2 for v in z_cycles.values()):\n",
    "            return z_cycles\n",
    "        i_inst += 1\n",
    "        i_inst %= L"
   ],
   "metadata": {
    "collapsed": false
   }
  },
  {
   "cell_type": "code",
   "execution_count": null,
   "outputs": [],
   "source": [
    "instructions, net = parse_data(test_data)\n",
    "assert find_cycles(instructions, net, '11A') == {('11Z', 1): [2, 4]}\n",
    "assert find_cycles(instructions, net, '22A') == {('22Z', 0): [3, 9], ('22Z', 1): [6, 12]}"
   ],
   "metadata": {
    "collapsed": false
   }
  },
  {
   "cell_type": "code",
   "execution_count": null,
   "outputs": [],
   "source": [
    "def cycle_to_list(cycle, n_steps):\n",
    "    step_0, step_1 = cycle\n",
    "    delta = step_1 - step_0\n",
    "    return [step_0 + delta * i for i in range(0, n_steps + 1)]"
   ],
   "metadata": {
    "collapsed": false
   }
  },
  {
   "cell_type": "code",
   "execution_count": null,
   "outputs": [],
   "source": [
    "def cycle_set_to_list(cycle_set, n_steps):\n",
    "    o = {v\n",
    "         for cycle in cycle_set\n",
    "         for v in cycle_to_list(cycle=cycle, n_steps=n_steps)}\n",
    "    return sorted(o)"
   ],
   "metadata": {
    "collapsed": false
   }
  },
  {
   "cell_type": "code",
   "execution_count": null,
   "outputs": [],
   "source": [
    "assert cycle_to_list([2, 4], 4) == [2, 4, 6, 8, 10]\n",
    "assert cycle_to_list([3, 9], 5) == [3, 9, 15, 21, 27, 33]\n",
    "assert cycle_to_list([6, 12], 4) == [6, 12, 18, 24, 30]\n",
    "assert cycle_set_to_list([[3, 9], [6, 12]], 5) == [3, 6, 9, 12, 15, 18, 21, 24, 27, 30, 33, 36]"
   ],
   "metadata": {
    "collapsed": false
   }
  },
  {
   "cell_type": "code",
   "execution_count": null,
   "outputs": [],
   "source": [
    "def find_shared_values(step_lists):\n",
    "    shared = None\n",
    "    for step_list in step_lists:\n",
    "        if shared is None:\n",
    "            shared = set(step_list)\n",
    "        else:\n",
    "            shared = shared.intersection(step_list)\n",
    "    return sorted(shared)\n",
    "\n",
    "assert find_shared_values([[1, 2, 3], [3, 6, 9]]) == [3]"
   ],
   "metadata": {
    "collapsed": false
   }
  },
  {
   "cell_type": "code",
   "execution_count": null,
   "outputs": [],
   "source": [
    "# these functions from https://math.stackexchange.com/a/3864593\n",
    "\n",
    "def extended_gcd(a, b):\n",
    "    \"\"\"Extended Greatest Common Divisor Algorithm\n",
    "\n",
    "    Returns:\n",
    "        gcd: The greatest common divisor of a and b.\n",
    "        s, t: Coefficients such that s*a + t*b = gcd\n",
    "\n",
    "    Reference:\n",
    "        https://en.wikipedia.org/wiki/Extended_Euclidean_algorithm#Pseudocode\n",
    "    \"\"\"\n",
    "    old_r, r = a, b\n",
    "    old_s, s = 1, 0\n",
    "    old_t, t = 0, 1\n",
    "    while r:\n",
    "        quotient, remainder = divmod(old_r, r)\n",
    "        old_r, r = r, remainder\n",
    "        old_s, s = s, old_s - quotient * s\n",
    "        old_t, t = t, old_t - quotient * t\n",
    "\n",
    "    return old_r, old_s, old_t\n",
    "\n",
    "\n",
    "def combine_phased_rotations(a_period, a_phase, b_period, b_phase):\n",
    "    \"\"\"Combine two phased rotations into a single phased rotation\n",
    "\n",
    "    Returns: combined_period, combined_phase\n",
    "\n",
    "    The combined rotation is at its reference point if and only if both a and b\n",
    "    are at their reference points.\n",
    "    \"\"\"\n",
    "    gcd, s, t = extended_gcd(a_period, b_period)\n",
    "    phase_difference = a_phase - b_phase\n",
    "    pd_mult, pd_remainder = divmod(phase_difference, gcd)\n",
    "    if pd_remainder:\n",
    "        raise ValueError(\"Rotation reference points never synchronize.\")\n",
    "\n",
    "    combined_period = a_period // gcd * b_period\n",
    "    combined_phase = (a_phase - s * pd_mult * a_period) % combined_period\n",
    "    return combined_period, combined_phase"
   ],
   "metadata": {
    "collapsed": false
   }
  },
  {
   "cell_type": "code",
   "execution_count": null,
   "outputs": [],
   "source": [
    "def cycles_to_phased_rotations(cycles):\n",
    "    return {starting_node: [[cycle[1] - cycle[0], cycle[1]]\n",
    "                            for (ending_node, cycle) in cycle_dict.items()]\n",
    "            for (starting_node, cycle_dict) in cycles.items()}\n",
    "\n",
    "instructions, net = parse_data(test_data)\n",
    "starting_nodes = find_starting_nodes(net)\n",
    "cycles = {starting_node: find_cycles(instructions=instructions, net=net, starting_node=starting_node)\n",
    "          for starting_node in starting_nodes}\n",
    "\n",
    "assert cycles_to_phased_rotations(cycles) == {'11A': [[2, 4]], '22A': [[6, 9], [6, 12]]}"
   ],
   "metadata": {
    "collapsed": false
   }
  },
  {
   "cell_type": "code",
   "execution_count": null,
   "outputs": [],
   "source": [
    "def combine_cycles(cycles):\n",
    "    phased_rotations = cycles_to_phased_rotations(cycles=cycles)\n",
    "    combined = [[0, 1]]\n",
    "    for (starting_node, phased_rotation_list) in phased_rotations.items():\n",
    "        combined = [list(reversed(combine_phased_rotations(a_period=current_pr[1], a_phase=current_pr[0],\n",
    "                                                           b_period=new_pr[1], b_phase=new_pr[0])))\n",
    "                    for current_pr in combined\n",
    "                    for new_pr in phased_rotation_list]\n",
    "    return combined\n",
    "\n",
    "instructions, net = parse_data(test_data)\n",
    "starting_nodes = find_starting_nodes(net)\n",
    "cycles = {starting_node: find_cycles(instructions=instructions, net=net, starting_node=starting_node)\n",
    "          for starting_node in starting_nodes}\n",
    "assert combine_cycles(cycles) == [[6, 36], [6, 12]]"
   ],
   "metadata": {
    "collapsed": false
   }
  },
  {
   "cell_type": "code",
   "execution_count": null,
   "metadata": {},
   "outputs": [],
   "source": [
    "def q_2(data):\n",
    "    instructions, net = parse_data(data)\n",
    "    starting_nodes = find_starting_nodes(net)\n",
    "    cycles = {starting_node: find_cycles(instructions=instructions, net=net, starting_node=starting_node)\n",
    "              for starting_node in starting_nodes}\n",
    "    combined_cycles = combine_cycles(cycles)\n",
    "    return min(a for (a, b) in combined_cycles)"
   ]
  },
  {
   "cell_type": "markdown",
   "metadata": {},
   "source": [
    "#### tests"
   ]
  },
  {
   "cell_type": "code",
   "execution_count": null,
   "metadata": {},
   "outputs": [],
   "source": [
    "def test_q_2():\n",
    "    LOGGER.setLevel(logging.DEBUG)\n",
    "    assert q_2(test_data) == 6\n",
    "    LOGGER.setLevel(logging.INFO)"
   ]
  },
  {
   "cell_type": "code",
   "execution_count": null,
   "metadata": {
    "scrolled": true
   },
   "outputs": [],
   "source": [
    "test_q_2()"
   ]
  },
  {
   "cell_type": "markdown",
   "metadata": {},
   "source": [
    "#### answer"
   ]
  },
  {
   "cell_type": "code",
   "execution_count": null,
   "metadata": {
    "scrolled": true
   },
   "outputs": [],
   "source": [
    "q_2(load_data())"
   ]
  },
  {
   "cell_type": "markdown",
   "metadata": {},
   "source": [
    "fin"
   ]
  }
 ],
 "metadata": {
  "kernelspec": {
   "display_name": "Python 3",
   "language": "python",
   "name": "python3"
  },
  "language_info": {
   "codemirror_mode": {
    "name": "ipython",
    "version": 3
   },
   "file_extension": ".py",
   "mimetype": "text/x-python",
   "name": "python",
   "nbconvert_exporter": "python",
   "pygments_lexer": "ipython3",
   "version": "3.7.3"
  },
  "toc": {
   "base_numbering": 1,
   "nav_menu": {},
   "number_sections": true,
   "sideBar": true,
   "skip_h1_title": false,
   "title_cell": "Table of Contents",
   "title_sidebar": "Contents",
   "toc_cell": false,
   "toc_position": {},
   "toc_section_display": true,
   "toc_window_display": false
  }
 },
 "nbformat": 4,
 "nbformat_minor": 2
}
