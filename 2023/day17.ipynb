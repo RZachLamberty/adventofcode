{
 "cells": [
  {
   "cell_type": "markdown",
   "metadata": {},
   "source": [
    "# day 17\n",
    "\n",
    "https://adventofcode.com/17/day/17"
   ]
  },
  {
   "cell_type": "code",
   "execution_count": null,
   "metadata": {},
   "outputs": [],
   "source": [
    "import logging\n",
    "import logging.config\n",
    "import os\n",
    "import random\n",
    "\n",
    "import yaml"
   ]
  },
  {
   "cell_type": "code",
   "execution_count": null,
   "metadata": {},
   "outputs": [],
   "source": [
    "with open('../logging.yaml') as fp:\n",
    "    logging_config = yaml.load(fp, Loader=yaml.FullLoader)\n",
    "\n",
    "logging.config.dictConfig(logging_config)"
   ]
  },
  {
   "cell_type": "code",
   "execution_count": null,
   "metadata": {},
   "outputs": [],
   "source": [
    "FNAME = os.path.join('data', 'day17.txt')\n",
    "\n",
    "LOGGER = logging.getLogger('day17')"
   ]
  },
  {
   "cell_type": "markdown",
   "metadata": {},
   "source": [
    "## part 1\n",
    "\n",
    "### problem statement:"
   ]
  },
  {
   "cell_type": "markdown",
   "metadata": {},
   "source": [
    "#### loading data"
   ]
  },
  {
   "cell_type": "code",
   "execution_count": null,
   "metadata": {},
   "outputs": [],
   "source": [
    "test_data = \"\"\"2413432311323\n",
    "3215453535623\n",
    "3255245654254\n",
    "3446585845452\n",
    "4546657867536\n",
    "1438598798454\n",
    "4457876987766\n",
    "3637877979653\n",
    "4654967986887\n",
    "4564679986453\n",
    "1224686865563\n",
    "2546548887735\n",
    "4322674655533\"\"\""
   ]
  },
  {
   "cell_type": "code",
   "execution_count": null,
   "metadata": {},
   "outputs": [],
   "source": [
    "def load_data(fname=FNAME):\n",
    "    with open(fname) as fp:\n",
    "        return fp.read().strip()"
   ]
  },
  {
   "cell_type": "markdown",
   "metadata": {},
   "source": [
    "#### function def"
   ]
  },
  {
   "cell_type": "code",
   "execution_count": null,
   "outputs": [],
   "source": [
    "from enum import Enum\n",
    "\n",
    "\n",
    "class Direction(str, Enum):\n",
    "    UP = \"U\"\n",
    "    DOWN = \"D\"\n",
    "    LEFT = \"L\"\n",
    "    RIGHT = \"R\"\n",
    "\n",
    "\n",
    "def dir_to_delta(direction: Direction) -> complex:\n",
    "    match direction:\n",
    "        case Direction.UP:\n",
    "            return -1\n",
    "        case Direction.DOWN:\n",
    "            return 1\n",
    "        case Direction.LEFT:\n",
    "            return -1j\n",
    "        case Direction.RIGHT:\n",
    "            return 1j\n",
    "\n",
    "\n",
    "def parse_data(data):\n",
    "    return {i + j * 1j: int(char)\n",
    "            for (i, line) in enumerate(data.strip().split('\\n'))\n",
    "            for (j, char) in enumerate(line.strip())}\n",
    "\n",
    "\n",
    "m = parse_data(data=test_data)\n",
    "start = 0 + 0j\n",
    "end = max(m.keys(), key=abs)\n",
    "end"
   ],
   "metadata": {
    "collapsed": false
   }
  },
  {
   "cell_type": "code",
   "execution_count": null,
   "metadata": {},
   "outputs": [],
   "source": [
    "import heapq\n",
    "from dataclasses import dataclass\n",
    "\n",
    "\n",
    "@dataclass\n",
    "class DijkstraWalker:\n",
    "    cost: int\n",
    "    loc: complex\n",
    "    direction: Direction = None\n",
    "    \n",
    "    @property\n",
    "    def sortable_repr(self) -> tuple:\n",
    "        return (self.cost, self.loc.real, self.loc.imag, self.direction)\n",
    "    \n",
    "    def __lt__(self, other: 'DijkstraWalker'):\n",
    "        return self.sortable_repr < other.sortable_repr\n",
    "\n",
    "\n",
    "def dir_to_turn_dirs(direction: Direction | None) -> list[Direction]:\n",
    "    match direction:\n",
    "        case Direction.UP | Direction.DOWN:\n",
    "            return [Direction.LEFT, Direction.RIGHT]\n",
    "        case Direction.LEFT | Direction.RIGHT:\n",
    "            return [Direction.UP, Direction.DOWN]\n",
    "        case None:\n",
    "            return [Direction.LEFT, Direction.RIGHT, Direction.UP, Direction.DOWN]\n",
    "        case _:\n",
    "            raise ValueError()\n",
    "\n",
    "\n",
    "def find_shortest_path_len(m: dict[complex, str], start: complex, end: complex,\n",
    "                           min_steps: int = 1, max_steps: int = 3) -> int:\n",
    "    map_max = max(m.keys(), key=abs)\n",
    "\n",
    "    explore_heap = [DijkstraWalker(cost=0, loc=start, direction=None)]\n",
    "    heapq.heapify(explore_heap)\n",
    "\n",
    "    seen = set()\n",
    "\n",
    "    while explore_heap:\n",
    "        walker = heapq.heappop(explore_heap)\n",
    "        \n",
    "        if walker.loc == end:\n",
    "            return walker.cost\n",
    "\n",
    "        if (walker.loc, walker.direction) in seen:\n",
    "            continue\n",
    "\n",
    "        seen.add((walker.loc, walker.direction))\n",
    "\n",
    "        # treat the current location as a place where we have decided to turn\n",
    "        # for each of the directions we could have turned (given the previous\n",
    "        # direction), take up to three steps and then add that new location to\n",
    "        # the heapq\n",
    "        for new_direction in dir_to_turn_dirs(walker.direction):\n",
    "            new_loc = walker.loc\n",
    "            new_cost = walker.cost\n",
    "            delta = dir_to_delta(direction=new_direction)\n",
    "            # take three steps and register a new heapq for turns at each step\n",
    "            for i in range(max_steps):\n",
    "                new_loc += delta\n",
    "                try:\n",
    "                    incurred_cost = m[new_loc]\n",
    "                except KeyError:\n",
    "                    # off the map, do nothing\n",
    "                    break\n",
    "                new_cost += incurred_cost\n",
    "                if (i + 1) >= min_steps:\n",
    "                    new_walker = DijkstraWalker(cost=new_cost, loc=new_loc, direction=new_direction)\n",
    "                    heapq.heappush(explore_heap, new_walker)"
   ]
  },
  {
   "cell_type": "code",
   "execution_count": null,
   "outputs": [],
   "source": [
    "def q_1(data: str, min_steps: int = 1, max_steps: int = 3):\n",
    "    m = parse_data(data)\n",
    "    end = max(m.keys(), key=abs)\n",
    "    return find_shortest_path_len(m=m, start=0.0j, end=end, min_steps=min_steps, max_steps=max_steps)"
   ],
   "metadata": {
    "collapsed": false
   }
  },
  {
   "cell_type": "markdown",
   "metadata": {},
   "source": [
    "#### tests"
   ]
  },
  {
   "cell_type": "code",
   "execution_count": null,
   "metadata": {},
   "outputs": [],
   "source": [
    "def test_q_1():\n",
    "    LOGGER.setLevel(logging.DEBUG)\n",
    "    assert q_1(test_data) == 102\n",
    "    LOGGER.setLevel(logging.INFO)"
   ]
  },
  {
   "cell_type": "code",
   "execution_count": null,
   "metadata": {},
   "outputs": [],
   "source": [
    "test_q_1()"
   ]
  },
  {
   "cell_type": "markdown",
   "metadata": {},
   "source": [
    "#### answer"
   ]
  },
  {
   "cell_type": "code",
   "execution_count": null,
   "metadata": {},
   "outputs": [],
   "source": [
    "q_1(load_data())"
   ]
  },
  {
   "cell_type": "markdown",
   "metadata": {},
   "source": [
    "## part 2\n",
    "\n",
    "### problem statement:"
   ]
  },
  {
   "cell_type": "markdown",
   "metadata": {},
   "source": [
    "#### function def"
   ]
  },
  {
   "cell_type": "code",
   "execution_count": null,
   "metadata": {},
   "outputs": [],
   "source": [
    "def q_2(data):\n",
    "    return q_1(data, min_steps=4, max_steps=10)"
   ]
  },
  {
   "cell_type": "markdown",
   "metadata": {},
   "source": [
    "#### tests"
   ]
  },
  {
   "cell_type": "code",
   "execution_count": null,
   "outputs": [],
   "source": [
    "test_data_2 = \"\"\"111111111111\n",
    "999999999991\n",
    "999999999991\n",
    "999999999991\n",
    "999999999991\"\"\""
   ],
   "metadata": {
    "collapsed": false
   }
  },
  {
   "cell_type": "code",
   "execution_count": null,
   "metadata": {},
   "outputs": [],
   "source": [
    "def test_q_2():\n",
    "    LOGGER.setLevel(logging.DEBUG)\n",
    "    assert q_2(test_data) == 94, q_2(test_data)\n",
    "    assert q_2(test_data_2) == 71, q_2(test_data_2)\n",
    "    LOGGER.setLevel(logging.INFO)"
   ]
  },
  {
   "cell_type": "code",
   "execution_count": null,
   "metadata": {
    "scrolled": true
   },
   "outputs": [],
   "source": [
    "test_q_2()"
   ]
  },
  {
   "cell_type": "markdown",
   "metadata": {},
   "source": [
    "#### answer"
   ]
  },
  {
   "cell_type": "code",
   "execution_count": null,
   "metadata": {
    "scrolled": true
   },
   "outputs": [],
   "source": [
    "q_2(load_data())"
   ]
  },
  {
   "cell_type": "markdown",
   "metadata": {},
   "source": [
    "fin"
   ]
  }
 ],
 "metadata": {
  "kernelspec": {
   "display_name": "Python 3",
   "language": "python",
   "name": "python3"
  },
  "language_info": {
   "codemirror_mode": {
    "name": "ipython",
    "version": 3
   },
   "file_extension": ".py",
   "mimetype": "text/x-python",
   "name": "python",
   "nbconvert_exporter": "python",
   "pygments_lexer": "ipython3",
   "version": "3.7.3"
  },
  "toc": {
   "base_numbering": 1,
   "nav_menu": {},
   "number_sections": true,
   "sideBar": true,
   "skip_h1_title": false,
   "title_cell": "Table of Contents",
   "title_sidebar": "Contents",
   "toc_cell": false,
   "toc_position": {},
   "toc_section_display": true,
   "toc_window_display": false
  }
 },
 "nbformat": 4,
 "nbformat_minor": 2
}
