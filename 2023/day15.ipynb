{
 "cells": [
  {
   "cell_type": "markdown",
   "metadata": {},
   "source": [
    "# day 15\n",
    "\n",
    "https://adventofcode.com/15/day/15"
   ]
  },
  {
   "cell_type": "code",
   "execution_count": null,
   "metadata": {},
   "outputs": [],
   "source": [
    "import logging\n",
    "import logging.config\n",
    "import os\n",
    "\n",
    "import yaml"
   ]
  },
  {
   "cell_type": "code",
   "execution_count": null,
   "metadata": {},
   "outputs": [],
   "source": [
    "with open('../logging.yaml') as fp:\n",
    "    logging_config = yaml.load(fp, Loader=yaml.FullLoader)\n",
    "\n",
    "logging.config.dictConfig(logging_config)"
   ]
  },
  {
   "cell_type": "code",
   "execution_count": null,
   "metadata": {},
   "outputs": [],
   "source": [
    "FNAME = os.path.join('data', 'day15.txt')\n",
    "\n",
    "LOGGER = logging.getLogger('day15')"
   ]
  },
  {
   "cell_type": "markdown",
   "metadata": {},
   "source": [
    "## part 1\n",
    "\n",
    "### problem statement:"
   ]
  },
  {
   "cell_type": "markdown",
   "metadata": {},
   "source": [
    "#### loading data"
   ]
  },
  {
   "cell_type": "code",
   "execution_count": null,
   "metadata": {},
   "outputs": [],
   "source": [
    "test_data = \"rn=1,cm-,qp=3,cm=2,qp-,pc=4,ot=9,ab=5,pc-,pc=6,ot=7\""
   ]
  },
  {
   "cell_type": "code",
   "execution_count": null,
   "metadata": {},
   "outputs": [],
   "source": [
    "def load_data(fname=FNAME):\n",
    "    with open(fname) as fp:\n",
    "        return fp.read().strip()"
   ]
  },
  {
   "cell_type": "markdown",
   "metadata": {},
   "source": [
    "#### function def"
   ]
  },
  {
   "cell_type": "code",
   "execution_count": null,
   "outputs": [],
   "source": [
    "def hash(s: str, start_val: int = 0) -> int:\n",
    "    current_val = start_val\n",
    "    for char in s:\n",
    "        current_val += ord(char)\n",
    "        current_val *= 17\n",
    "        current_val %= 256\n",
    "    return current_val\n",
    "\n",
    "assert hash('HASH') == 52\n",
    "assert hash(\"rn=1\") == 30\n",
    "assert hash(\"cm-\") == 253\n",
    "assert hash(\"qp=3\") == 97\n",
    "assert hash(\"cm=2\") == 47\n",
    "assert hash(\"qp-\") == 14\n",
    "assert hash(\"pc=4\") == 180\n",
    "assert hash(\"ot=9\") == 9\n",
    "assert hash(\"ab=5\") == 197\n",
    "assert hash(\"pc-\") == 48\n",
    "assert hash(\"pc=6\") == 214\n",
    "assert hash(\"ot=7\") == 231"
   ],
   "metadata": {
    "collapsed": false
   }
  },
  {
   "cell_type": "code",
   "execution_count": null,
   "outputs": [],
   "source": [
    "def parse_data(s: str) -> list[str]:\n",
    "    return s.replace('\\n', '').split(',')"
   ],
   "metadata": {
    "collapsed": false
   }
  },
  {
   "cell_type": "code",
   "execution_count": null,
   "metadata": {},
   "outputs": [],
   "source": [
    "def q_1(data):\n",
    "    return sum(hash(s) for s in parse_data(data))"
   ]
  },
  {
   "cell_type": "markdown",
   "metadata": {},
   "source": [
    "#### tests"
   ]
  },
  {
   "cell_type": "code",
   "execution_count": null,
   "metadata": {},
   "outputs": [],
   "source": [
    "def test_q_1():\n",
    "    LOGGER.setLevel(logging.DEBUG)\n",
    "    assert q_1(test_data) == 1320\n",
    "    LOGGER.setLevel(logging.INFO)"
   ]
  },
  {
   "cell_type": "code",
   "execution_count": null,
   "metadata": {},
   "outputs": [],
   "source": [
    "test_q_1()"
   ]
  },
  {
   "cell_type": "markdown",
   "metadata": {},
   "source": [
    "#### answer"
   ]
  },
  {
   "cell_type": "code",
   "execution_count": null,
   "metadata": {},
   "outputs": [],
   "source": [
    "q_1(load_data())"
   ]
  },
  {
   "cell_type": "markdown",
   "metadata": {},
   "source": [
    "## part 2\n",
    "\n",
    "### problem statement:"
   ]
  },
  {
   "cell_type": "markdown",
   "metadata": {},
   "source": [
    "#### function def"
   ]
  },
  {
   "cell_type": "code",
   "execution_count": null,
   "outputs": [],
   "source": [
    "from dataclasses import dataclass\n",
    "from enum import Enum\n",
    "\n",
    "class Operation(str, Enum):\n",
    "    EQUALS = '='\n",
    "    DASH = '-'\n",
    "\n",
    "\n",
    "@dataclass\n",
    "class Instruction:\n",
    "    lens_label: str\n",
    "    operation: Operation\n",
    "    focal_length: int = None\n",
    "\n",
    "\n",
    "def parse_instruction(instruction: str) -> Instruction:\n",
    "    try:\n",
    "        lens_label, focal_length = instruction.split('=')\n",
    "        focal_length = int(focal_length)\n",
    "        return Instruction(lens_label=lens_label, operation=Operation.EQUALS, focal_length=focal_length)\n",
    "    except ValueError:\n",
    "        return Instruction(lens_label=instruction[:-1], operation=Operation.DASH)\n",
    "    raise ValueError()\n",
    "\n",
    "assert parse_instruction(\"rn=1\") == Instruction(lens_label='rn', operation=Operation.EQUALS, focal_length=1)\n",
    "assert parse_instruction(\"rn-\") == Instruction(lens_label='rn', operation=Operation.DASH)"
   ],
   "metadata": {
    "collapsed": false
   }
  },
  {
   "cell_type": "code",
   "execution_count": null,
   "outputs": [],
   "source": [
    "def focusing_power(box_idx: int, slot_idx: int, focal_length: int) -> int:\n",
    "    return (box_idx + 1) * (slot_idx + 1) * focal_length\n",
    "\n",
    "assert focusing_power(box_idx=0, slot_idx=0, focal_length=1) == 1\n",
    "assert focusing_power(box_idx=0, slot_idx=1, focal_length=2) == 4\n",
    "assert focusing_power(box_idx=3, slot_idx=0, focal_length=7) == 28\n",
    "assert focusing_power(box_idx=3, slot_idx=1, focal_length=5) == 40\n",
    "assert focusing_power(box_idx=3, slot_idx=2, focal_length=6) == 72"
   ],
   "metadata": {
    "collapsed": false
   }
  },
  {
   "cell_type": "code",
   "execution_count": null,
   "outputs": [],
   "source": [
    "class Boxes(dict):\n",
    "    def add_to_box(self, box_idx: int, lens_label: str, focal_length: int) -> None:\n",
    "        if box_idx not in self:\n",
    "            self[box_idx] = {}\n",
    "        self[box_idx][lens_label] = focal_length\n",
    "\n",
    "    def remove_from_box(self, box_idx: int, lens_label: str) -> None:\n",
    "        try:\n",
    "            _ = self[box_idx].pop(lens_label)\n",
    "        except:\n",
    "            pass\n",
    "\n",
    "    def process_instruction(self, instruction: Instruction) -> None:\n",
    "        box_idx = hash(instruction.lens_label)\n",
    "        if instruction.operation is Operation.EQUALS:\n",
    "            self.add_to_box(box_idx=box_idx, lens_label=instruction.lens_label, focal_length=instruction.focal_length)\n",
    "        elif instruction.operation is Operation.DASH:\n",
    "            self.remove_from_box(box_idx=box_idx, lens_label=instruction.lens_label)\n",
    "\n",
    "    def process_instruction_list(self, instruction_list: list[Instruction], verbose: bool = False) -> None:\n",
    "        for instruction in instruction_list:\n",
    "            if verbose:\n",
    "                print(instruction)\n",
    "            self.process_instruction(instruction=instruction)\n",
    "            if verbose:\n",
    "                self.show()\n",
    "                print()\n",
    "\n",
    "    def show(self) -> None:\n",
    "        for (box_idx, box_dict) in self.items():\n",
    "            if len(box_dict) > 0:\n",
    "                s = f\"Box {box_idx}:\"\n",
    "                for (lens_label, focal_length) in box_dict.items():\n",
    "                    s += f' [{lens_label} {focal_length}]'\n",
    "                print(s)\n",
    "\n",
    "    def calculate_focusing_power(self) -> int:\n",
    "        return sum(focusing_power(box_idx=box_idx, slot_idx=slot_idx, focal_length=focal_length)\n",
    "                   for (box_idx, box_dict) in self.items()\n",
    "                   for slot_idx, (lens_label, focal_length) in enumerate(box_dict.items()))"
   ],
   "metadata": {
    "collapsed": false
   }
  },
  {
   "cell_type": "code",
   "execution_count": null,
   "outputs": [],
   "source": [
    "b = Boxes()\n",
    "instruction_list = [parse_instruction(_) for _ in parse_data(test_data)]\n",
    "\n",
    "# b.process_instruction_list(instruction_list=instruction_list, verbose=True)\n",
    "b.process_instruction_list(instruction_list=instruction_list, verbose=False)\n",
    "\n",
    "assert b.calculate_focusing_power() == 145"
   ],
   "metadata": {
    "collapsed": false
   }
  },
  {
   "cell_type": "code",
   "execution_count": null,
   "metadata": {},
   "outputs": [],
   "source": [
    "def q_2(data):\n",
    "    b = Boxes()\n",
    "    instruction_list = [parse_instruction(_) for _ in parse_data(data)]\n",
    "    b.process_instruction_list(instruction_list=instruction_list, verbose=False)\n",
    "    return b.calculate_focusing_power()"
   ]
  },
  {
   "cell_type": "markdown",
   "metadata": {},
   "source": [
    "#### tests"
   ]
  },
  {
   "cell_type": "code",
   "execution_count": null,
   "metadata": {},
   "outputs": [],
   "source": [
    "def test_q_2():\n",
    "    LOGGER.setLevel(logging.DEBUG)\n",
    "    assert q_2(test_data) == 145\n",
    "    LOGGER.setLevel(logging.INFO)"
   ]
  },
  {
   "cell_type": "code",
   "execution_count": null,
   "metadata": {
    "scrolled": true
   },
   "outputs": [],
   "source": [
    "test_q_2()"
   ]
  },
  {
   "cell_type": "markdown",
   "metadata": {},
   "source": [
    "#### answer"
   ]
  },
  {
   "cell_type": "code",
   "execution_count": null,
   "metadata": {
    "scrolled": true
   },
   "outputs": [],
   "source": [
    "q_2(load_data())"
   ]
  },
  {
   "cell_type": "markdown",
   "metadata": {},
   "source": [
    "fin"
   ]
  }
 ],
 "metadata": {
  "kernelspec": {
   "display_name": "Python 3",
   "language": "python",
   "name": "python3"
  },
  "language_info": {
   "codemirror_mode": {
    "name": "ipython",
    "version": 3
   },
   "file_extension": ".py",
   "mimetype": "text/x-python",
   "name": "python",
   "nbconvert_exporter": "python",
   "pygments_lexer": "ipython3",
   "version": "3.7.3"
  },
  "toc": {
   "base_numbering": 1,
   "nav_menu": {},
   "number_sections": true,
   "sideBar": true,
   "skip_h1_title": false,
   "title_cell": "Table of Contents",
   "title_sidebar": "Contents",
   "toc_cell": false,
   "toc_position": {},
   "toc_section_display": true,
   "toc_window_display": false
  }
 },
 "nbformat": 4,
 "nbformat_minor": 2
}
