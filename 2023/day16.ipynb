{
 "cells": [
  {
   "cell_type": "markdown",
   "metadata": {},
   "source": [
    "# day 16\n",
    "\n",
    "https://adventofcode.com/16/day/16"
   ]
  },
  {
   "cell_type": "code",
   "execution_count": null,
   "metadata": {},
   "outputs": [],
   "source": [
    "import logging\n",
    "import logging.config\n",
    "import os\n",
    "\n",
    "import yaml"
   ]
  },
  {
   "cell_type": "code",
   "execution_count": null,
   "metadata": {},
   "outputs": [],
   "source": [
    "with open('../logging.yaml') as fp:\n",
    "    logging_config = yaml.load(fp, Loader=yaml.FullLoader)\n",
    "\n",
    "logging.config.dictConfig(logging_config)"
   ]
  },
  {
   "cell_type": "code",
   "execution_count": null,
   "metadata": {},
   "outputs": [],
   "source": [
    "FNAME = os.path.join('data', 'day16.txt')\n",
    "\n",
    "LOGGER = logging.getLogger('day16')"
   ]
  },
  {
   "cell_type": "markdown",
   "metadata": {},
   "source": [
    "## part 1\n",
    "\n",
    "### problem statement:"
   ]
  },
  {
   "cell_type": "markdown",
   "metadata": {},
   "source": [
    "#### loading data"
   ]
  },
  {
   "cell_type": "code",
   "execution_count": null,
   "metadata": {},
   "outputs": [],
   "source": [
    "test_data = \"\"\".|...\\....\n",
    "|.-.\\.....\n",
    ".....|-...\n",
    "........|.\n",
    "..........\n",
    ".........\\\\\n",
    "..../.\\\\\\\\..\n",
    ".-.-/..|..\n",
    ".|....-|.\\\\\n",
    "..//.|....\"\"\""
   ]
  },
  {
   "cell_type": "code",
   "execution_count": null,
   "metadata": {},
   "outputs": [],
   "source": [
    "def load_data(fname=FNAME):\n",
    "    with open(fname) as fp:\n",
    "        return fp.read().strip()"
   ]
  },
  {
   "cell_type": "markdown",
   "metadata": {},
   "source": [
    "#### function def"
   ]
  },
  {
   "cell_type": "code",
   "execution_count": null,
   "outputs": [],
   "source": [
    "def parse_data(s: str) -> dict[complex, str]:\n",
    "    return {(i + j * 1j): char\n",
    "            for (i, row) in enumerate(s.strip().split('\\n'))\n",
    "            for (j, char) in enumerate(row)}"
   ],
   "metadata": {
    "collapsed": false
   }
  },
  {
   "cell_type": "code",
   "execution_count": null,
   "outputs": [],
   "source": [
    "from enum import Enum\n",
    "\n",
    "\n",
    "class Direction(Enum):\n",
    "    UP = 'up'\n",
    "    DOWN = 'down'\n",
    "    LEFT = 'left'\n",
    "    RIGHT = 'right'\n",
    "\n",
    "\n",
    "dir_map = {Direction.UP: -1,\n",
    "           Direction.DOWN: +1,\n",
    "           Direction.LEFT: -1j,\n",
    "           Direction.RIGHT: +1j}\n",
    "\n",
    "\n",
    "class Contraption:\n",
    "    def __init__(self, data: str, starting_loc: complex = -1j, starting_dir: Direction = Direction.RIGHT):\n",
    "        self.data = data\n",
    "        self.map = parse_data(self.data)\n",
    "        self.beam_history = set()\n",
    "        self.beam_locs = {starting_loc: {starting_dir}}\n",
    "        self.beam_starting_locs = {(starting_loc, starting_dir),}\n",
    "\n",
    "    @property\n",
    "    def height(self) -> int:\n",
    "        return max(int(_.real) for _ in self.map)\n",
    "\n",
    "    @property\n",
    "    def width(self) -> int:\n",
    "        return max(int(_.imag) for _ in self.map)\n",
    "\n",
    "    def step(self) -> None:\n",
    "        new_beam_locs = {}\n",
    "        for beam_loc, beam_directions in self.beam_locs.items():\n",
    "            for beam_direction in beam_directions:\n",
    "                new_beam_loc = beam_loc + dir_map[beam_direction]\n",
    "                if new_beam_loc not in self.map:\n",
    "                    continue\n",
    "\n",
    "                if new_beam_loc not in new_beam_locs:\n",
    "                    new_beam_locs[new_beam_loc] = set()\n",
    "                for new_beam_direction in self.resolve_beam_dirs(new_space=new_beam_loc,\n",
    "                                                                 current_dir=beam_direction):\n",
    "                    new_beam_locs[new_beam_loc].add(new_beam_direction)\n",
    "                self.beam_history.add(new_beam_loc)\n",
    "        self.beam_locs = new_beam_locs\n",
    "\n",
    "    def resolve_beam_dirs(self, new_space: complex, current_dir: Direction) -> list[Direction]:\n",
    "        match self.map[new_space]:\n",
    "            case '.':\n",
    "                return [current_dir]\n",
    "            case '|':\n",
    "                match current_dir:\n",
    "                    case Direction.LEFT | Direction.RIGHT:\n",
    "                        return [Direction.UP, Direction.DOWN]\n",
    "                    case _:\n",
    "                        return [current_dir]\n",
    "            case '-':\n",
    "                match current_dir:\n",
    "                    case Direction.UP | Direction.DOWN:\n",
    "                        return [Direction.LEFT, Direction.RIGHT]\n",
    "                    case _:\n",
    "                        return [current_dir]\n",
    "            case '\\\\':\n",
    "                match current_dir:\n",
    "                    case Direction.UP:\n",
    "                        return [Direction.LEFT]\n",
    "                    case Direction.DOWN:\n",
    "                        return [Direction.RIGHT]\n",
    "                    case Direction.LEFT:\n",
    "                        return [Direction.UP]\n",
    "                    case Direction.RIGHT:\n",
    "                        return [Direction.DOWN]\n",
    "                    case _:\n",
    "                        raise ValueError(f\"unhandled character / current dir = {self.map[new_space], current_dir}\")\n",
    "            case '/':\n",
    "                match current_dir:\n",
    "                    case Direction.UP:\n",
    "                        return [Direction.RIGHT]\n",
    "                    case Direction.DOWN:\n",
    "                        return [Direction.LEFT]\n",
    "                    case Direction.LEFT:\n",
    "                        return [Direction.DOWN]\n",
    "                    case Direction.RIGHT:\n",
    "                        return [Direction.UP]\n",
    "                    case _:\n",
    "                        raise ValueError(f\"unhandled character / current dir = {self.map[new_space], current_dir}\")\n",
    "            case _:\n",
    "                raise ValueError(f\"Unhandled character {self.map[new_space]}\")\n",
    "\n",
    "    def history_as_str(self) -> str:\n",
    "        s = ''\n",
    "        for i in range(self.height + 1):\n",
    "            for j in range(self.width + 1):\n",
    "                loc = i + j * 1j\n",
    "                s += '#' if loc in self.beam_history else '.'\n",
    "            s += '\\n'\n",
    "        return s\n",
    "\n",
    "    def beam_locs_as_str(self) -> str:\n",
    "        s = ''\n",
    "        for beam_loc in sorted(self.beam_locs.keys(), key=lambda x: (x.real, x.imag)):\n",
    "            s += f\"{beam_loc}:\"\n",
    "            for direction in self.beam_locs[beam_loc]:\n",
    "                s += f\"{direction};\"\n",
    "            s += '|'\n",
    "        return s\n",
    "\n",
    "    @property\n",
    "    def num_energized(self) -> int:\n",
    "        return self.history_as_str().count('#')"
   ],
   "metadata": {
    "collapsed": false
   }
  },
  {
   "cell_type": "code",
   "execution_count": null,
   "outputs": [],
   "source": [
    "c = Contraption(test_data)\n",
    "for i in range(10):\n",
    "    c.step()\n",
    "    print(f\"after step {i},\")\n",
    "    print(f\"  {c.beam_history = }\")\n",
    "    print(f\"  {c.beam_locs = }\")\n",
    "    print(f\"  {c.beam_locs_as_str() = }\")\n",
    "\n",
    "for i in range(100):\n",
    "    c.step()\n",
    "print()\n",
    "print(c.history_as_str())\n",
    "print()\n",
    "\n",
    "print(c.num_energized)"
   ],
   "metadata": {
    "collapsed": false
   }
  },
  {
   "cell_type": "code",
   "execution_count": null,
   "metadata": {},
   "outputs": [],
   "source": [
    "def q_1(data, num_steps=100):\n",
    "    c = Contraption(data)\n",
    "    for i in range(num_steps):\n",
    "        c.step()\n",
    "\n",
    "    return c.num_energized"
   ]
  },
  {
   "cell_type": "markdown",
   "metadata": {},
   "source": [
    "#### tests"
   ]
  },
  {
   "cell_type": "code",
   "execution_count": null,
   "metadata": {},
   "outputs": [],
   "source": [
    "def test_q_1():\n",
    "    LOGGER.setLevel(logging.DEBUG)\n",
    "    assert q_1(test_data) == 46\n",
    "    LOGGER.setLevel(logging.INFO)"
   ]
  },
  {
   "cell_type": "code",
   "execution_count": null,
   "metadata": {},
   "outputs": [],
   "source": [
    "test_q_1()"
   ]
  },
  {
   "cell_type": "markdown",
   "metadata": {},
   "source": [
    "#### answer"
   ]
  },
  {
   "cell_type": "code",
   "execution_count": null,
   "metadata": {},
   "outputs": [],
   "source": [
    "q_1(load_data(), 1_000)"
   ]
  },
  {
   "cell_type": "markdown",
   "metadata": {},
   "source": [
    "## part 2\n",
    "\n",
    "### problem statement:"
   ]
  },
  {
   "cell_type": "markdown",
   "metadata": {},
   "source": [
    "#### function def"
   ]
  },
  {
   "cell_type": "code",
   "execution_count": null,
   "outputs": [],
   "source": [
    "import networkx as nx"
   ],
   "metadata": {
    "collapsed": false
   }
  },
  {
   "cell_type": "code",
   "execution_count": null,
   "outputs": [],
   "source": [
    "def map_to_graph(map: dict[complex: str]) -> nx.DiGraph:\n",
    "    g = nx.DiGraph()\n",
    "\n",
    "    for (loc, char) in map.items():\n",
    "        l_node = loc - 0.5 * 1j\n",
    "        r_node = loc + 0.5 * 1j\n",
    "        u_node = loc - 0.5\n",
    "        d_node = loc + 0.5\n",
    "        # edges are \"enter from -> exit to\"\n",
    "        match char:\n",
    "            case '.':\n",
    "                g.add_edge(l_node, r_node, loc=loc)\n",
    "                g.add_edge(r_node, l_node, loc=loc)\n",
    "                g.add_edge(u_node, d_node, loc=loc)\n",
    "                g.add_edge(d_node, u_node, loc=loc)\n",
    "            case '-':\n",
    "                g.add_edge(l_node, r_node, loc=loc)\n",
    "                g.add_edge(r_node, l_node, loc=loc)\n",
    "                g.add_edge(u_node, l_node, loc=loc)\n",
    "                g.add_edge(u_node, r_node, loc=loc)\n",
    "                g.add_edge(d_node, l_node, loc=loc)\n",
    "                g.add_edge(d_node, r_node, loc=loc)\n",
    "            case '|':\n",
    "                g.add_edge(l_node, u_node, loc=loc)\n",
    "                g.add_edge(l_node, d_node, loc=loc)\n",
    "                g.add_edge(r_node, u_node, loc=loc)\n",
    "                g.add_edge(r_node, d_node, loc=loc)\n",
    "                g.add_edge(u_node, d_node, loc=loc)\n",
    "                g.add_edge(d_node, u_node, loc=loc)\n",
    "            case '/':\n",
    "                g.add_edge(l_node, u_node, loc=loc)\n",
    "                g.add_edge(u_node, l_node, loc=loc)\n",
    "                g.add_edge(r_node, d_node, loc=loc)\n",
    "                g.add_edge(d_node, r_node, loc=loc)\n",
    "            case '\\\\':\n",
    "                g.add_edge(l_node, d_node, loc=loc)\n",
    "                g.add_edge(d_node, l_node, loc=loc)\n",
    "                g.add_edge(r_node, u_node, loc=loc)\n",
    "                g.add_edge(u_node, r_node, loc=loc)\n",
    "    return g"
   ],
   "metadata": {
    "collapsed": false
   }
  },
  {
   "cell_type": "code",
   "execution_count": null,
   "outputs": [],
   "source": [
    "map = parse_data(test_data)\n",
    "g = map_to_graph(map=map)\n",
    "\n",
    "def draw_graph(g):\n",
    "    pos = {n: (n.imag, -n.real) for n in g.nodes}\n",
    "    nx.draw(g, pos=pos, node_size=50)\n",
    "\n",
    "draw_graph(g)"
   ],
   "metadata": {
    "collapsed": false
   }
  },
  {
   "cell_type": "code",
   "execution_count": null,
   "outputs": [],
   "source": [
    "import math\n",
    "\n",
    "def get_height_and_width(g) -> tuple[int, int]:\n",
    "    height = 0\n",
    "    width = 0\n",
    "    for node in g.nodes:\n",
    "        height = max(int(node.real), height)\n",
    "        width = max(int(node.imag), width)\n",
    "    return height, width\n",
    "\n",
    "\n",
    "def get_num_energized(g, source: complex = -0.5 * 1j):\n",
    "    s = set()\n",
    "    height, width = get_height_and_width(g=g)\n",
    "    for c in nx.descendants(G=g, source=source):\n",
    "        a = math.ceil(c.real), math.ceil(c.imag)\n",
    "        if (0 <= a[0] <= height) and (0 <= a[1] <= width):\n",
    "            s.add(a)\n",
    "\n",
    "        b = math.floor(c.real), math.floor(c.imag)\n",
    "        if (0 <= b[0] <= height) and (0 <= b[1] <= width):\n",
    "            s.add(b)\n",
    "\n",
    "    return len(s)"
   ],
   "metadata": {
    "collapsed": false
   }
  },
  {
   "cell_type": "code",
   "execution_count": null,
   "outputs": [],
   "source": [
    "def q_1(data):\n",
    "    map = parse_data(data)\n",
    "    g = map_to_graph(map=map)\n",
    "    return get_num_energized(g=g)\n",
    "\n",
    "\n",
    "assert q_1(test_data) == 46\n",
    "# q_1(load_data())\n",
    "map = parse_data(load_data())\n",
    "g = map_to_graph(map=map)\n",
    "# nx.descendants(G=g, source=-0.5 * 1j)\n",
    "q_1(load_data())"
   ],
   "metadata": {
    "collapsed": false
   }
  },
  {
   "cell_type": "code",
   "execution_count": null,
   "metadata": {},
   "outputs": [],
   "source": [
    "def q_2(data):\n",
    "    # just to get the height and width\n",
    "    map = parse_data(data)\n",
    "    g = map_to_graph(map=map)\n",
    "    height, width = get_height_and_width(g=g)\n",
    "\n",
    "    energy_dict = {}\n",
    "    for i in range(height + 1):\n",
    "        source_left_edge = i - 0.5j\n",
    "        energy_dict[source_left_edge] = get_num_energized(g=g, source=source_left_edge)\n",
    "\n",
    "        source_right_edge = i + (width + 0.5) * 1j\n",
    "        energy_dict[source_right_edge] = get_num_energized(g=g, source=source_right_edge)\n",
    "\n",
    "    for i in range(width + 1):\n",
    "        source_top_edge = -.5 + i * 1j\n",
    "        energy_dict[source_top_edge] = get_num_energized(g=g, source=source_top_edge)\n",
    "\n",
    "        source_bottom_edge = (height + 0.5) + i * 1j\n",
    "        energy_dict[source_bottom_edge] = get_num_energized(g=g, source=source_bottom_edge)\n",
    "\n",
    "    return max(energy_dict.values())"
   ]
  },
  {
   "cell_type": "markdown",
   "metadata": {},
   "source": [
    "#### tests"
   ]
  },
  {
   "cell_type": "code",
   "execution_count": null,
   "metadata": {},
   "outputs": [],
   "source": [
    "def test_q_2():\n",
    "    LOGGER.setLevel(logging.DEBUG)\n",
    "    assert q_2(test_data) == 51\n",
    "    LOGGER.setLevel(logging.INFO)"
   ]
  },
  {
   "cell_type": "code",
   "execution_count": null,
   "metadata": {
    "scrolled": true
   },
   "outputs": [],
   "source": [
    "test_q_2()"
   ]
  },
  {
   "cell_type": "markdown",
   "metadata": {},
   "source": [
    "#### answer"
   ]
  },
  {
   "cell_type": "code",
   "execution_count": null,
   "metadata": {
    "scrolled": true
   },
   "outputs": [],
   "source": [
    "q_2(load_data())"
   ]
  },
  {
   "cell_type": "markdown",
   "metadata": {},
   "source": [
    "fin"
   ]
  }
 ],
 "metadata": {
  "kernelspec": {
   "display_name": "Python 3",
   "language": "python",
   "name": "python3"
  },
  "language_info": {
   "codemirror_mode": {
    "name": "ipython",
    "version": 3
   },
   "file_extension": ".py",
   "mimetype": "text/x-python",
   "name": "python",
   "nbconvert_exporter": "python",
   "pygments_lexer": "ipython3",
   "version": "3.7.3"
  },
  "toc": {
   "base_numbering": 1,
   "nav_menu": {},
   "number_sections": true,
   "sideBar": true,
   "skip_h1_title": false,
   "title_cell": "Table of Contents",
   "title_sidebar": "Contents",
   "toc_cell": false,
   "toc_position": {},
   "toc_section_display": true,
   "toc_window_display": false
  }
 },
 "nbformat": 4,
 "nbformat_minor": 2
}
