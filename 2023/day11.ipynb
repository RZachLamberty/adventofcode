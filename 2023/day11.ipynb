{
 "cells": [
  {
   "cell_type": "markdown",
   "metadata": {},
   "source": [
    "# day 11\n",
    "\n",
    "https://adventofcode.com/11/day/11"
   ]
  },
  {
   "cell_type": "code",
   "execution_count": null,
   "metadata": {},
   "outputs": [],
   "source": [
    "import logging\n",
    "import logging.config\n",
    "import os\n",
    "\n",
    "import yaml"
   ]
  },
  {
   "cell_type": "code",
   "execution_count": null,
   "metadata": {},
   "outputs": [],
   "source": [
    "with open('../logging.yaml') as fp:\n",
    "    logging_config = yaml.load(fp, Loader=yaml.FullLoader)\n",
    "\n",
    "logging.config.dictConfig(logging_config)"
   ]
  },
  {
   "cell_type": "code",
   "execution_count": null,
   "metadata": {},
   "outputs": [],
   "source": [
    "FNAME = os.path.join('data', 'day11.txt')\n",
    "\n",
    "LOGGER = logging.getLogger('day11')"
   ]
  },
  {
   "cell_type": "markdown",
   "metadata": {},
   "source": [
    "## part 1\n",
    "\n",
    "### problem statement:"
   ]
  },
  {
   "cell_type": "markdown",
   "metadata": {},
   "source": [
    "#### loading data"
   ]
  },
  {
   "cell_type": "code",
   "execution_count": null,
   "metadata": {},
   "outputs": [],
   "source": [
    "test_data = \"\"\"...#......\n",
    ".......#..\n",
    "#.........\n",
    "..........\n",
    "......#...\n",
    ".#........\n",
    ".........#\n",
    "..........\n",
    ".......#..\n",
    "#...#.....\"\"\""
   ]
  },
  {
   "cell_type": "code",
   "execution_count": null,
   "metadata": {},
   "outputs": [],
   "source": [
    "def load_data(fname=FNAME):\n",
    "    with open(fname) as fp:\n",
    "        return fp.read().strip()"
   ]
  },
  {
   "cell_type": "code",
   "execution_count": null,
   "outputs": [],
   "source": [
    "import networkx as nx\n",
    "\n",
    "def parse_data(data: str) -> tuple[nx.Graph, list[complex]]:\n",
    "    galaxies = []\n",
    "    g = nx.Graph()\n",
    "    for (i, line) in enumerate(data.strip().split('\\n')):\n",
    "        for (j, c) in enumerate(line.strip()):\n",
    "            # real increases downward\n",
    "            # imaginary increases rightward\n",
    "            idx = i + j * 1j\n",
    "            if c == '#':\n",
    "                galaxies.append(idx)\n",
    "            for dir in [1, 1j]:\n",
    "                g.add_edge(idx, idx + dir)\n",
    "            W = j + 1\n",
    "        H = i + 1\n",
    "\n",
    "    empty_rows = set(range(H)).difference(x.real for x in galaxies)\n",
    "    empty_cols = set(range(W)).difference(x.imag for x in galaxies)\n",
    "    \n",
    "    return g, galaxies, H, W, empty_rows, empty_cols"
   ],
   "metadata": {
    "collapsed": false
   }
  },
  {
   "cell_type": "code",
   "execution_count": null,
   "outputs": [],
   "source": [
    "g, galaxies, H, W, empty_rows, empty_cols = parse_data(test_data)\n",
    "galaxies"
   ],
   "metadata": {
    "collapsed": false
   }
  },
  {
   "cell_type": "code",
   "execution_count": null,
   "outputs": [],
   "source": [
    "H, W"
   ],
   "metadata": {
    "collapsed": false
   }
  },
  {
   "cell_type": "code",
   "execution_count": null,
   "outputs": [],
   "source": [
    "empty_rows"
   ],
   "metadata": {
    "collapsed": false
   }
  },
  {
   "cell_type": "code",
   "execution_count": null,
   "outputs": [],
   "source": [
    "empty_cols"
   ],
   "metadata": {
    "collapsed": false
   }
  },
  {
   "cell_type": "code",
   "execution_count": null,
   "outputs": [],
   "source": [
    "def build_wt_func(empty_rows: set[int], empty_cols: set[int]):\n",
    "    def wt_func(u: complex, v: complex, d: dict) -> int:\n",
    "        if (u.real in empty_rows) and (v.real == u.real + 1):\n",
    "            return 2.0\n",
    "        elif (v.real in empty_rows) and (u.real == v.real + 1):\n",
    "            return 2.0\n",
    "        elif (u.imag in empty_cols) and (v.imag == u.imag + 1):\n",
    "            return 2.0\n",
    "        elif (v.imag in empty_cols) and (u.imag == v.imag + 1):\n",
    "            return 2.0\n",
    "        else:\n",
    "            return 1.0\n",
    "    return wt_func"
   ],
   "metadata": {
    "collapsed": false
   }
  },
  {
   "cell_type": "code",
   "execution_count": null,
   "outputs": [],
   "source": [
    "wt_func = build_wt_func(empty_rows=empty_rows, empty_cols=empty_cols)\n",
    "assert wt_func(2j, 3j, {}) == 2.0\n",
    "assert wt_func(3j, 2j, {}) == 2.0\n",
    "assert wt_func(3, 4, {}) == 2.0\n",
    "assert wt_func(4, 3, {}) == 2.0"
   ],
   "metadata": {
    "collapsed": false
   }
  },
  {
   "cell_type": "code",
   "execution_count": null,
   "outputs": [],
   "source": [
    "assert nx.shortest_path_length(g, source=3j, target=8 + 7j, weight=wt_func) == 15.0\n",
    "assert nx.shortest_path_length(g, source=8 + 7j, target=3j, weight=wt_func) == 15.0\n",
    "assert nx.shortest_path_length(g, source=5 + 1j, target=9+4j, weight=wt_func) == 9.0\n",
    "assert nx.shortest_path_length(g, source=9 + 4j, target=5 + 1j, weight=wt_func) == 9.0"
   ],
   "metadata": {
    "collapsed": false
   }
  },
  {
   "cell_type": "markdown",
   "metadata": {},
   "source": [
    "#### function def"
   ]
  },
  {
   "cell_type": "code",
   "execution_count": null,
   "outputs": [],
   "source": [
    "def get_path_lens(g, node_list, wt_func):\n",
    "    path_lens = {}\n",
    "    for (i, n0) in enumerate(node_list[:-1], start=1):\n",
    "        LOGGER.info(f\"i = {i}\")\n",
    "        for (j, n1) in enumerate(node_list[i:], start=i + 1):\n",
    "            LOGGER.info(f\"  j = {j}\")\n",
    "            path_lens[i, j] = nx.shortest_path_length(g, source=n0, target=n1, weight=wt_func)\n",
    "    return path_lens\n",
    "\n",
    "\n",
    "def get_path_lens_2(g, node_list, empty_rows, empty_cols, exp_coef=2):\n",
    "    path_lens = {}\n",
    "    for (i, n0) in enumerate(node_list[:-1], start=1):\n",
    "        for (j, n1) in enumerate(node_list[i:], start=i + 1):\n",
    "            real_diff = abs(n1.real - n0.real) + (exp_coef - 1) * len(empty_rows.intersection(range(int(min(n0.real, n1.real)), int(max(n0.real, n1.real)))))\n",
    "            imag_diff = abs(n1.imag - n0.imag) + (exp_coef - 1) * len(empty_cols.intersection(range(int(min(n0.imag, n1.imag)), int(max(n0.imag, n1.imag))))) \n",
    "            path_lens[i, j] = real_diff + imag_diff\n",
    "    return path_lens"
   ],
   "metadata": {
    "collapsed": false
   }
  },
  {
   "cell_type": "code",
   "execution_count": null,
   "outputs": [],
   "source": [
    "g, galaxies, H, W, empty_rows, empty_cols = parse_data(data=test_data)\n",
    "wt_func = build_wt_func(empty_rows=empty_rows, empty_cols=empty_cols)\n",
    "path_lens = get_path_lens(g=g, node_list=galaxies, wt_func=wt_func)\n",
    "path_lens_2 = get_path_lens_2(g=g, node_list=galaxies, empty_rows=empty_rows, empty_cols=empty_cols)\n",
    "assert path_lens == path_lens_2"
   ],
   "metadata": {
    "collapsed": false
   }
  },
  {
   "cell_type": "code",
   "execution_count": null,
   "metadata": {},
   "outputs": [],
   "source": [
    "def q_1(data):\n",
    "    g, galaxies, H, W, empty_rows, empty_cols = parse_data(data=data)\n",
    "    # wt_func = build_wt_func(empty_rows=empty_rows, empty_cols=empty_cols)\n",
    "    # path_lens = get_path_lens(g=g, node_list=galaxies, wt_func=wt_func)\n",
    "    path_lens = get_path_lens_2(g=g, node_list=galaxies, empty_rows=empty_rows, empty_cols=empty_cols)\n",
    "    return sum(path_lens.values())"
   ]
  },
  {
   "cell_type": "markdown",
   "metadata": {},
   "source": [
    "#### tests"
   ]
  },
  {
   "cell_type": "code",
   "execution_count": null,
   "metadata": {},
   "outputs": [],
   "source": [
    "def test_q_1():\n",
    "    LOGGER.setLevel(logging.DEBUG)\n",
    "    assert q_1(test_data) == 374\n",
    "    LOGGER.setLevel(logging.INFO)"
   ]
  },
  {
   "cell_type": "code",
   "execution_count": null,
   "metadata": {},
   "outputs": [],
   "source": [
    "test_q_1()"
   ]
  },
  {
   "cell_type": "markdown",
   "metadata": {},
   "source": [
    "#### answer"
   ]
  },
  {
   "cell_type": "code",
   "execution_count": null,
   "metadata": {},
   "outputs": [],
   "source": [
    "q_1(load_data())"
   ]
  },
  {
   "cell_type": "markdown",
   "metadata": {},
   "source": [
    "## part 2\n",
    "\n",
    "### problem statement:"
   ]
  },
  {
   "cell_type": "markdown",
   "metadata": {},
   "source": [
    "#### function def"
   ]
  },
  {
   "cell_type": "code",
   "execution_count": null,
   "metadata": {},
   "outputs": [],
   "source": [
    "def q_2(data, exp_coef=2.0):\n",
    "    g, galaxies, H, W, empty_rows, empty_cols = parse_data(data=data)\n",
    "    # wt_func = build_wt_func(empty_rows=empty_rows, empty_cols=empty_cols)\n",
    "    # path_lens = get_path_lens(g=g, node_list=galaxies, wt_func=wt_func)\n",
    "    path_lens = get_path_lens_2(g=g, node_list=galaxies, empty_rows=empty_rows, empty_cols=empty_cols, exp_coef=exp_coef)\n",
    "    return sum(path_lens.values())"
   ]
  },
  {
   "cell_type": "markdown",
   "metadata": {},
   "source": [
    "#### tests"
   ]
  },
  {
   "cell_type": "code",
   "execution_count": null,
   "metadata": {},
   "outputs": [],
   "source": [
    "def test_q_2():\n",
    "    LOGGER.setLevel(logging.DEBUG)\n",
    "    assert q_2(test_data, 10) == 1030\n",
    "    assert q_2(test_data, 100) == 8410\n",
    "    LOGGER.setLevel(logging.INFO)"
   ]
  },
  {
   "cell_type": "code",
   "execution_count": null,
   "outputs": [],
   "source": [
    "q_2(test_data, 10)"
   ],
   "metadata": {
    "collapsed": false
   }
  },
  {
   "cell_type": "code",
   "execution_count": null,
   "metadata": {
    "scrolled": true
   },
   "outputs": [],
   "source": [
    "test_q_2()"
   ]
  },
  {
   "cell_type": "markdown",
   "metadata": {},
   "source": [
    "#### answer"
   ]
  },
  {
   "cell_type": "code",
   "execution_count": null,
   "metadata": {
    "scrolled": true
   },
   "outputs": [],
   "source": [
    "q_2(load_data(), 1_000_000)"
   ]
  },
  {
   "cell_type": "markdown",
   "metadata": {},
   "source": [
    "fin"
   ]
  }
 ],
 "metadata": {
  "kernelspec": {
   "display_name": "Python 3",
   "language": "python",
   "name": "python3"
  },
  "language_info": {
   "codemirror_mode": {
    "name": "ipython",
    "version": 3
   },
   "file_extension": ".py",
   "mimetype": "text/x-python",
   "name": "python",
   "nbconvert_exporter": "python",
   "pygments_lexer": "ipython3",
   "version": "3.7.3"
  },
  "toc": {
   "base_numbering": 1,
   "nav_menu": {},
   "number_sections": true,
   "sideBar": true,
   "skip_h1_title": false,
   "title_cell": "Table of Contents",
   "title_sidebar": "Contents",
   "toc_cell": false,
   "toc_position": {},
   "toc_section_display": true,
   "toc_window_display": false
  }
 },
 "nbformat": 4,
 "nbformat_minor": 2
}
