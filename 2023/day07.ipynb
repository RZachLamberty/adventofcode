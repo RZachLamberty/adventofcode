{
 "cells": [
  {
   "cell_type": "markdown",
   "metadata": {},
   "source": [
    "# day 7\n",
    "\n",
    "https://adventofcode.com/7/day/7"
   ]
  },
  {
   "cell_type": "code",
   "execution_count": null,
   "metadata": {},
   "outputs": [],
   "source": [
    "import logging\n",
    "import logging.config\n",
    "import os\n",
    "\n",
    "import yaml"
   ]
  },
  {
   "cell_type": "code",
   "execution_count": null,
   "metadata": {},
   "outputs": [],
   "source": [
    "with open('../logging.yaml') as fp:\n",
    "    logging_config = yaml.load(fp, Loader=yaml.FullLoader)\n",
    "\n",
    "logging.config.dictConfig(logging_config)"
   ]
  },
  {
   "cell_type": "code",
   "execution_count": null,
   "metadata": {},
   "outputs": [],
   "source": [
    "FNAME = os.path.join('data', 'day07.txt')\n",
    "\n",
    "LOGGER = logging.getLogger('day07')"
   ]
  },
  {
   "cell_type": "markdown",
   "metadata": {},
   "source": [
    "## part 1\n",
    "\n",
    "### problem statement:"
   ]
  },
  {
   "cell_type": "markdown",
   "metadata": {},
   "source": [
    "#### loading data"
   ]
  },
  {
   "cell_type": "code",
   "execution_count": null,
   "metadata": {},
   "outputs": [],
   "source": [
    "test_data =\"\"\"32T3K 765\n",
    "T55J5 684\n",
    "KK677 28\n",
    "KTJJT 220\n",
    "QQQJA 483\"\"\""
   ]
  },
  {
   "cell_type": "code",
   "execution_count": null,
   "outputs": [],
   "source": [
    "def parse_data(s: str) -> list[list[str | int]]:\n",
    "    o = []\n",
    "    for line in s.split('\\n'):\n",
    "        hand_str, bid = line.strip().split(\" \")\n",
    "        bid = int(bid)\n",
    "        o.append([hand_str, bid])\n",
    "    return o"
   ],
   "metadata": {
    "collapsed": false
   }
  },
  {
   "cell_type": "code",
   "execution_count": null,
   "metadata": {},
   "outputs": [],
   "source": [
    "def load_data(fname=FNAME):\n",
    "    with open(fname) as fp:\n",
    "        return fp.read().strip()"
   ]
  },
  {
   "cell_type": "code",
   "execution_count": null,
   "outputs": [],
   "source": [
    "parse_data(test_data)"
   ],
   "metadata": {
    "collapsed": false
   }
  },
  {
   "cell_type": "markdown",
   "metadata": {},
   "source": [
    "#### function def"
   ]
  },
  {
   "cell_type": "code",
   "execution_count": null,
   "outputs": [],
   "source": [
    "import collections\n",
    "import enum\n",
    "\n",
    "class Card(enum.IntEnum):\n",
    "    X = 0  # stand-in for joker\n",
    "    _2 = 2\n",
    "    _3 = 3\n",
    "    _4 = 4\n",
    "    _5 = 5\n",
    "    _6 = 6\n",
    "    _7 = 7\n",
    "    _8 = 8\n",
    "    _9 = 9\n",
    "    T = 10\n",
    "    J = 11\n",
    "    Q = 12\n",
    "    K = 13\n",
    "    A = 14\n",
    "\n",
    "card_lookup = {'A': Card.A,\n",
    "               '2': Card._2,\n",
    "               '3': Card._3,\n",
    "               '4': Card._4,\n",
    "               '5': Card._5,\n",
    "               '6': Card._6,\n",
    "               '7': Card._7,\n",
    "               '8': Card._8,\n",
    "               '9': Card._9,\n",
    "               'T': Card.T,\n",
    "               'J': Card.J,\n",
    "               'Q': Card.Q,\n",
    "               'K': Card.K,\n",
    "               'X': Card.X, }\n",
    "\n",
    "class HandType(enum.IntEnum):\n",
    "    HIGH_CARD = 1\n",
    "    ONE_PAIR = 2\n",
    "    TWO_PAIR = 3\n",
    "    THREE_OF_A_KIND = 4\n",
    "    FULL_HOUSE = 5\n",
    "    FOUR_OF_A_KIND = 6\n",
    "    FIVE_OF_A_KIND = 7\n",
    "\n",
    "class Hand:\n",
    "    def __init__(self, hand_str: str):\n",
    "        self.hand_str = hand_str\n",
    "\n",
    "    @property\n",
    "    def cards(self) -> list[Card]:\n",
    "        return [card_lookup[c] for c in self.hand_str]\n",
    "\n",
    "    @property\n",
    "    def hand_type(self) -> HandType:\n",
    "        hand_str_to_score = self.hand_str.replace('X', '')\n",
    "        num_jokers = len(self.hand_str) - len(hand_str_to_score)\n",
    "\n",
    "        c = collections.Counter(hand_str_to_score)\n",
    "        cts = tuple(sorted(list(c.values())))\n",
    "\n",
    "        if num_jokers == 0:\n",
    "            cts_map = {(5,): HandType.FIVE_OF_A_KIND,\n",
    "                       (1, 4): HandType.FOUR_OF_A_KIND,\n",
    "                       (2, 3): HandType.FULL_HOUSE,\n",
    "                       (1, 1, 3): HandType.THREE_OF_A_KIND,\n",
    "                       (1, 2, 2): HandType.TWO_PAIR,\n",
    "                       (1, 1, 1, 2): HandType.ONE_PAIR,\n",
    "                       (1, 1, 1, 1, 1): HandType.HIGH_CARD}\n",
    "        elif num_jokers == 1:\n",
    "            cts_map = {(4,): HandType.FIVE_OF_A_KIND,\n",
    "                       (1, 3): HandType.FOUR_OF_A_KIND,\n",
    "                       (2, 2): HandType.FULL_HOUSE,\n",
    "                       (1, 1, 2): HandType.THREE_OF_A_KIND,\n",
    "                       (1, 1, 1, 1): HandType.ONE_PAIR, }\n",
    "        elif num_jokers == 2:\n",
    "            cts_map = {(3,): HandType.FIVE_OF_A_KIND,\n",
    "                       (1, 2): HandType.FOUR_OF_A_KIND,\n",
    "                       (1, 1, 1): HandType.THREE_OF_A_KIND, }\n",
    "        elif num_jokers == 3:\n",
    "            cts_map = {(2,): HandType.FIVE_OF_A_KIND,\n",
    "                       (1, 1): HandType.FOUR_OF_A_KIND, }\n",
    "        elif num_jokers == 4:\n",
    "            cts_map = {(1,): HandType.FIVE_OF_A_KIND, }\n",
    "        elif num_jokers == 5:\n",
    "            cts_map = {tuple(): HandType.FIVE_OF_A_KIND,}\n",
    "        else:\n",
    "            raise ValueError(\"didn't expect to get here\")\n",
    "        return cts_map[cts]\n",
    "\n",
    "    def __lt__(self, other: 'Hand') -> bool:\n",
    "        return [self.hand_type, self.cards] < [other.hand_type, other.cards]"
   ],
   "metadata": {
    "collapsed": false
   }
  },
  {
   "cell_type": "code",
   "execution_count": null,
   "outputs": [],
   "source": [
    "h1 = Hand('32T3K')\n",
    "h2 = Hand('T55J5')\n",
    "h3 = Hand('KK677')\n",
    "h4 = Hand('KTJJT')\n",
    "h5 = Hand('QQQJA')\n",
    "\n",
    "assert h1.hand_type is HandType.ONE_PAIR\n",
    "assert h2.hand_type is HandType.THREE_OF_A_KIND\n",
    "assert h3.hand_type is HandType.TWO_PAIR\n",
    "assert h4.hand_type is HandType.TWO_PAIR\n",
    "assert h5.hand_type is HandType.THREE_OF_A_KIND\n",
    "\n",
    "assert h1 < h2\n",
    "assert h1 < h3\n",
    "assert h1 < h4\n",
    "assert h1 < h5\n",
    "\n",
    "assert h4 < h2\n",
    "assert h4 < h3\n",
    "assert h4 < h5\n",
    "\n",
    "assert h3 < h2\n",
    "assert h3 < h5\n",
    "\n",
    "assert h2 < h5"
   ],
   "metadata": {
    "collapsed": false
   }
  },
  {
   "cell_type": "code",
   "execution_count": null,
   "outputs": [],
   "source": [
    "assert Hand('XXXXX').hand_type is HandType.FIVE_OF_A_KIND\n",
    "assert Hand('QXXQ2').hand_type is HandType.FOUR_OF_A_KIND\n",
    "assert Hand('XKKK2').hand_type is HandType.FOUR_OF_A_KIND\n",
    "assert Hand('QQQQ2').hand_type is HandType.FOUR_OF_A_KIND\n",
    "assert Hand('XKKK2') < Hand('QQQQ2')"
   ],
   "metadata": {
    "collapsed": false
   }
  },
  {
   "cell_type": "code",
   "execution_count": null,
   "metadata": {},
   "outputs": [],
   "source": [
    "def q_1(data):\n",
    "    game = parse_data(data)\n",
    "    game = [[Hand(hand_str), bid] for (hand_str, bid) in game]\n",
    "    game = sorted(game, key=lambda x: x[0])\n",
    "    score = sum(rnk * bid for (rnk, (hand, bid)) in enumerate(game, start=1))\n",
    "    return score"
   ]
  },
  {
   "cell_type": "code",
   "execution_count": null,
   "outputs": [],
   "source": [
    "q_1(test_data)"
   ],
   "metadata": {
    "collapsed": false
   }
  },
  {
   "cell_type": "markdown",
   "metadata": {},
   "source": [
    "#### tests"
   ]
  },
  {
   "cell_type": "code",
   "execution_count": null,
   "metadata": {},
   "outputs": [],
   "source": [
    "def test_q_1():\n",
    "    LOGGER.setLevel(logging.DEBUG)\n",
    "    assert q_1(test_data) == 6440\n",
    "    LOGGER.setLevel(logging.INFO)"
   ]
  },
  {
   "cell_type": "code",
   "execution_count": null,
   "metadata": {},
   "outputs": [],
   "source": [
    "test_q_1()"
   ]
  },
  {
   "cell_type": "markdown",
   "metadata": {},
   "source": [
    "#### answer"
   ]
  },
  {
   "cell_type": "code",
   "execution_count": null,
   "metadata": {},
   "outputs": [],
   "source": [
    "q_1(load_data())"
   ]
  },
  {
   "cell_type": "markdown",
   "metadata": {},
   "source": [
    "## part 2\n",
    "\n",
    "### problem statement:"
   ]
  },
  {
   "cell_type": "markdown",
   "metadata": {},
   "source": [
    "#### function def"
   ]
  },
  {
   "cell_type": "code",
   "execution_count": null,
   "metadata": {},
   "outputs": [],
   "source": [
    "def q_2(data):\n",
    "    return q_1(data.replace('J', 'X'))"
   ]
  },
  {
   "cell_type": "markdown",
   "metadata": {},
   "source": [
    "#### tests"
   ]
  },
  {
   "cell_type": "code",
   "execution_count": null,
   "metadata": {},
   "outputs": [],
   "source": [
    "def test_q_2():\n",
    "    LOGGER.setLevel(logging.DEBUG)\n",
    "    assert q_2(test_data) == 5905\n",
    "    LOGGER.setLevel(logging.INFO)"
   ]
  },
  {
   "cell_type": "code",
   "execution_count": null,
   "metadata": {
    "scrolled": true
   },
   "outputs": [],
   "source": [
    "test_q_2()"
   ]
  },
  {
   "cell_type": "markdown",
   "metadata": {},
   "source": [
    "#### answer"
   ]
  },
  {
   "cell_type": "code",
   "execution_count": null,
   "metadata": {
    "scrolled": true
   },
   "outputs": [],
   "source": [
    "q_2(load_data())"
   ]
  },
  {
   "cell_type": "markdown",
   "metadata": {},
   "source": [
    "fin"
   ]
  }
 ],
 "metadata": {
  "kernelspec": {
   "display_name": "Python 3",
   "language": "python",
   "name": "python3"
  },
  "language_info": {
   "codemirror_mode": {
    "name": "ipython",
    "version": 3
   },
   "file_extension": ".py",
   "mimetype": "text/x-python",
   "name": "python",
   "nbconvert_exporter": "python",
   "pygments_lexer": "ipython3",
   "version": "3.7.3"
  },
  "toc": {
   "base_numbering": 1,
   "nav_menu": {},
   "number_sections": true,
   "sideBar": true,
   "skip_h1_title": false,
   "title_cell": "Table of Contents",
   "title_sidebar": "Contents",
   "toc_cell": false,
   "toc_position": {},
   "toc_section_display": true,
   "toc_window_display": false
  }
 },
 "nbformat": 4,
 "nbformat_minor": 2
}
