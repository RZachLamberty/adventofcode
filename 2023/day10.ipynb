{
 "cells": [
  {
   "cell_type": "markdown",
   "metadata": {},
   "source": [
    "# day 10\n",
    "\n",
    "https://adventofcode.com/10/day/10"
   ]
  },
  {
   "cell_type": "code",
   "execution_count": null,
   "metadata": {},
   "outputs": [],
   "source": [
    "import logging\n",
    "import logging.config\n",
    "import os\n",
    "\n",
    "import yaml"
   ]
  },
  {
   "cell_type": "code",
   "execution_count": null,
   "metadata": {},
   "outputs": [],
   "source": [
    "with open('../logging.yaml') as fp:\n",
    "    logging_config = yaml.load(fp, Loader=yaml.FullLoader)\n",
    "\n",
    "logging.config.dictConfig(logging_config)"
   ]
  },
  {
   "cell_type": "code",
   "execution_count": null,
   "metadata": {},
   "outputs": [],
   "source": [
    "FNAME = os.path.join('data', 'day10.txt')\n",
    "\n",
    "LOGGER = logging.getLogger('day10')"
   ]
  },
  {
   "cell_type": "markdown",
   "metadata": {},
   "source": [
    "## part 1\n",
    "\n",
    "### problem statement:"
   ]
  },
  {
   "cell_type": "markdown",
   "metadata": {},
   "source": [
    "#### loading data"
   ]
  },
  {
   "cell_type": "code",
   "execution_count": null,
   "metadata": {},
   "outputs": [],
   "source": [
    "test_data = \"\"\"-L|F7\n",
    "7S-7|\n",
    "L|7||\n",
    "-L-J|\n",
    "L|-JF\"\"\""
   ]
  },
  {
   "cell_type": "code",
   "execution_count": null,
   "outputs": [],
   "source": [
    "test_data_2 = \"\"\"7-F7-\n",
    ".FJ|7\n",
    "SJLL7\n",
    "|F--J\n",
    "LJ.LJ\"\"\""
   ],
   "metadata": {
    "collapsed": false
   }
  },
  {
   "cell_type": "code",
   "execution_count": null,
   "outputs": [],
   "source": [
    "import networkx as nx\n",
    "\n",
    "# left is real neg, right is real pos\n",
    "# up is imag neg, down is imag pos\n",
    "neighbor_map = {'-': [-1, +1],\n",
    "                '|': [-1j, +1j],\n",
    "                '7': [-1, +1j],\n",
    "                'F': [+1, +1j],\n",
    "                'L': [+1, -1j],\n",
    "                'J': [-1, -1j],\n",
    "                'S': [-1, +1, -1j, +1j],\n",
    "                '.': [],}\n",
    "\n",
    "def parse_data(s: str) -> tuple[complex, nx.Graph]:\n",
    "    g = nx.Graph()\n",
    "    s_loc = None\n",
    "    lines = s.strip().split('\\n')\n",
    "    H = len(lines)\n",
    "    possible_neighbors = set()\n",
    "    for (i, line) in enumerate(lines):\n",
    "        W = len(line)\n",
    "        for (j, c) in enumerate(line):\n",
    "            idx = j + i * 1j\n",
    "            g.add_node(idx, c=c)\n",
    "            for neighbor_dir in neighbor_map[c]:\n",
    "                nbr = idx + neighbor_dir\n",
    "                if (0 <= nbr.real < W) and (0 <= nbr.imag < H):\n",
    "                    edge = tuple(sorted([idx, nbr], key=lambda x: (x.real, x.imag)))\n",
    "                    if edge in possible_neighbors:\n",
    "                        g.add_edge(*edge)\n",
    "                    else:\n",
    "                        possible_neighbors.add(edge)\n",
    "            if c == 'S':\n",
    "                s_loc = idx\n",
    "    return s_loc, g, H, W"
   ],
   "metadata": {
    "collapsed": false
   }
  },
  {
   "cell_type": "code",
   "execution_count": null,
   "outputs": [],
   "source": [
    "s_loc, g, H, W = parse_data(test_data)\n",
    "g.nodes"
   ],
   "metadata": {
    "collapsed": false
   }
  },
  {
   "cell_type": "code",
   "execution_count": null,
   "metadata": {},
   "outputs": [],
   "source": [
    "def load_data(fname=FNAME):\n",
    "    with open(fname) as fp:\n",
    "        return fp.read().strip()"
   ]
  },
  {
   "cell_type": "markdown",
   "metadata": {},
   "source": [
    "#### function def"
   ]
  },
  {
   "cell_type": "code",
   "execution_count": null,
   "metadata": {},
   "outputs": [],
   "source": [
    "def q_1(data):\n",
    "    s_loc, g, H, W = parse_data(s=data)\n",
    "    return max(len(v) for v in nx.single_source_shortest_path(g, s_loc).values()) - 1"
   ]
  },
  {
   "cell_type": "markdown",
   "metadata": {},
   "source": [
    "#### tests"
   ]
  },
  {
   "cell_type": "code",
   "execution_count": null,
   "metadata": {},
   "outputs": [],
   "source": [
    "def test_q_1():\n",
    "    LOGGER.setLevel(logging.DEBUG)\n",
    "    assert q_1(test_data) == 4\n",
    "    assert q_1(test_data_2) == 8\n",
    "    LOGGER.setLevel(logging.INFO)"
   ]
  },
  {
   "cell_type": "code",
   "execution_count": null,
   "outputs": [],
   "source": [
    "test_q_1()"
   ],
   "metadata": {
    "collapsed": false
   }
  },
  {
   "cell_type": "markdown",
   "metadata": {},
   "source": [
    "#### answer"
   ]
  },
  {
   "cell_type": "code",
   "execution_count": null,
   "metadata": {},
   "outputs": [],
   "source": [
    "q_1(load_data())"
   ]
  },
  {
   "cell_type": "markdown",
   "metadata": {},
   "source": [
    "## part 2\n",
    "\n",
    "### problem statement:"
   ]
  },
  {
   "cell_type": "markdown",
   "metadata": {},
   "source": [
    "#### function def"
   ]
  },
  {
   "cell_type": "code",
   "execution_count": null,
   "outputs": [],
   "source": [
    "test_data_3 = \"\"\"...........\n",
    ".S-------7.\n",
    ".|F-----7|.\n",
    ".||.....||.\n",
    ".||.....||.\n",
    ".|L-7.F-J|.\n",
    ".|..|.|..|.\n",
    ".L--J.L--J.\n",
    "...........\"\"\""
   ],
   "metadata": {
    "collapsed": false
   }
  },
  {
   "cell_type": "code",
   "execution_count": null,
   "outputs": [],
   "source": [
    "test_data_4 = \"\"\".F----7F7F7F7F-7....\n",
    ".|F--7||||||||FJ....\n",
    ".||.FJ||||||||L7....\n",
    "FJL7L7LJLJ||LJ.L-7..\n",
    "L--J.L7...LJS7F-7L7.\n",
    "....F-J..F7FJ|L7L7L7\n",
    "....L7.F7||L7|.L7L7|\n",
    ".....|FJLJ|FJ|F7|.LJ\n",
    "....FJL-7.||.||||...\n",
    "....L---J.LJ.LJLJ...\"\"\""
   ],
   "metadata": {
    "collapsed": false
   }
  },
  {
   "cell_type": "code",
   "execution_count": null,
   "outputs": [],
   "source": [
    "test_data_5 = \"\"\"FF7FSF7F7F7F7F7F---7\n",
    "L|LJ||||||||||||F--J\n",
    "FL-7LJLJ||||||LJL-77\n",
    "F--JF--7||LJLJ7F7FJ-\n",
    "L---JF-JLJ.||-FJLJJ7\n",
    "|F|F-JF---7F7-L7L|7|\n",
    "|FFJF7L7F-JF7|JL---7\n",
    "7-L-JL7||F7|L7F-7F7|\n",
    "L.L7LFJ|||||FJL7||LJ\n",
    "L7JLJL-JLJLJL--JLJ.L\"\"\""
   ],
   "metadata": {
    "collapsed": false
   }
  },
  {
   "cell_type": "code",
   "execution_count": null,
   "outputs": [],
   "source": [
    "def is_inside_loop(idx, loop_nodes):\n",
    "    if idx in loop_nodes:\n",
    "        return False\n",
    "    \n",
    "    imag = int(idx.imag)\n",
    "    real = int(idx.real)\n",
    "    \n",
    "    num_up = num_down = 0\n",
    "    for i in range(real):\n",
    "        c = loop_nodes.get(i + imag * 1j, '.')\n",
    "        if c in '|LJ':\n",
    "            num_up += 1\n",
    "        if c in '|F7':\n",
    "            num_down += 1\n",
    "    if (num_up %2 == 0) or (num_down %2 == 0):\n",
    "        return False\n",
    "    \n",
    "    num_left = num_right = 0\n",
    "    for j in range(imag):\n",
    "        c = loop_nodes.get(real + j * 1j, '.')\n",
    "        if c in '-J7':\n",
    "            num_left += 1\n",
    "        if c in '-LF':\n",
    "            num_right += 1\n",
    "    if (num_left %2 == 0) or (num_right %2 == 0):\n",
    "        return False\n",
    "    \n",
    "    return True"
   ],
   "metadata": {
    "collapsed": false
   }
  },
  {
   "cell_type": "code",
   "execution_count": null,
   "outputs": [],
   "source": [
    "s_loc, g, H, W = parse_data(test_data_3)\n",
    "loop_nodes = {k: g.nodes[k]['c'] for k in nx.single_source_shortest_path(g, s_loc)}\n",
    "\n",
    "assert not is_inside_loop(idx=0 + 0 * 1j, loop_nodes=loop_nodes), \"0 + 0 * 1j\"\n",
    "assert not is_inside_loop(idx=1 + 1 * 1j, loop_nodes=loop_nodes), \"1 + 1 * 1j\"\n",
    "assert not is_inside_loop(idx=3 + 3 * 1j, loop_nodes=loop_nodes), \"3 + 3 * 1j\"\n",
    "assert is_inside_loop(idx=2 + 6 * 1j, loop_nodes=loop_nodes), \"2 + 6 * 1j\"\n",
    "assert is_inside_loop(idx=3 + 6 * 1j, loop_nodes=loop_nodes), \"3 + 6 * 1j\"\n",
    "assert not is_inside_loop(idx=4 + 6 * 1j, loop_nodes=loop_nodes), \"4 + 6 * 1j\"\n",
    "assert not is_inside_loop(idx=5 + 6 * 1j, loop_nodes=loop_nodes), \"5 + 6 * 1j\""
   ],
   "metadata": {
    "collapsed": false
   }
  },
  {
   "cell_type": "code",
   "execution_count": null,
   "outputs": [],
   "source": [
    "s_loc, g, H, W = parse_data(test_data_3)\n",
    "loop_nodes = {k: g.nodes[k]['c'] for k in nx.single_source_shortest_path(g, s_loc)}\n",
    "\n",
    "s = \"\"\n",
    "\n",
    "for i in range(H):\n",
    "    for j in range(W):\n",
    "        idx = j + i * 1j\n",
    "        s += 'I' if is_inside_loop(idx, loop_nodes) else loop_nodes.get(idx, '.')\n",
    "    s += '\\n'\n",
    "\n",
    "print(s)"
   ],
   "metadata": {
    "collapsed": false
   }
  },
  {
   "cell_type": "code",
   "execution_count": null,
   "outputs": [],
   "source": [
    "s_loc, g, H, W = parse_data(test_data_4)\n",
    "loop_nodes = {k: g.nodes[k]['c'] for k in nx.single_source_shortest_path(g, s_loc)}\n",
    "\n",
    "s = \"\"\n",
    "\n",
    "for i in range(H):\n",
    "    for j in range(W):\n",
    "        idx = j + i * 1j\n",
    "        s += 'I' if is_inside_loop(idx, loop_nodes) else loop_nodes.get(idx, '.')\n",
    "    s += '\\n'\n",
    "\n",
    "print(s)"
   ],
   "metadata": {
    "collapsed": false
   }
  },
  {
   "cell_type": "code",
   "execution_count": null,
   "outputs": [],
   "source": [
    "# idx = 2 + 6 * 1j\n",
    "# # idx in loop_nodes\n",
    "# imag = int(idx.imag)\n",
    "# real = int(idx.real)\n",
    "# \n",
    "# num_path_nodes_to_left = 0\n",
    "# for i in range(real):\n",
    "#     print(i + imag * 1j)\n",
    "#     print(loop_nodes.get(i + imag * 1j, 'dunno'))\n",
    "#     if loop_nodes.get(i + imag * 1j, '.') in '|.':\n",
    "#         num_path_nodes_to_left += 1\n",
    "# num_path_nodes_to_left %2 == 0\n",
    "# \n",
    "# print()\n",
    "# num_path_nodes_above = 0\n",
    "# for j in range(imag):\n",
    "#     print(real + j * 1j)\n",
    "#     print(loop_nodes.get(real + j * 1j, '.'))\n",
    "#     if loop_nodes.get(real + j * 1j, '.') in '-SFLJ7':\n",
    "#         num_path_nodes_above += 1\n",
    "# num_path_nodes_above %2 == 0"
   ],
   "metadata": {
    "collapsed": false
   }
  },
  {
   "cell_type": "code",
   "execution_count": null,
   "outputs": [],
   "source": [
    "s_loc, g, H, W = parse_data(test_data_4)\n",
    "loop_nodes = {k: g.nodes[k]['c'] for k in nx.single_source_shortest_path(g, s_loc)}\n",
    "\n",
    "assert is_inside_loop(idx=14 + 3 * 1j, loop_nodes=loop_nodes), \"14 + 3 * 1j\"\n",
    "# assert not is_inside_loop(idx=1 + 1 * 1j, loop_nodes=loop_nodes), \"1 + 1 * 1j\"\n",
    "# assert not is_inside_loop(idx=3 + 3 * 1j, loop_nodes=loop_nodes), \"3 + 3 * 1j\"\n",
    "# assert is_inside_loop(idx=2 + 6 * 1j, loop_nodes=loop_nodes), \"2 + 6 * 1j\"\n",
    "# assert is_inside_loop(idx=3 + 6 * 1j, loop_nodes=loop_nodes), \"3 + 6 * 1j\"\n",
    "# assert not is_inside_loop(idx=4 + 6 * 1j, loop_nodes=loop_nodes), \"4 + 6 * 1j\"\n",
    "# assert not is_inside_loop(idx=5 + 6 * 1j, loop_nodes=loop_nodes), \"5 + 6 * 1j\""
   ],
   "metadata": {
    "collapsed": false
   }
  },
  {
   "cell_type": "code",
   "execution_count": null,
   "outputs": [],
   "source": [
    "idx = 14 + 3 * 1j\n",
    "g.nodes"
   ],
   "metadata": {
    "collapsed": false
   }
  },
  {
   "cell_type": "code",
   "execution_count": null,
   "metadata": {},
   "outputs": [],
   "source": [
    "def q_2(data):\n",
    "    s_loc, g, H, W = parse_data(s=data)\n",
    "    loop_nodes = {k: g.nodes[k]['c'] for k in nx.single_source_shortest_path(g, s_loc)}\n",
    "    return sum(is_inside_loop(idx=real + imag * 1j, loop_nodes=loop_nodes)\n",
    "               for real in range(W)\n",
    "               for imag in range(H))"
   ]
  },
  {
   "cell_type": "code",
   "execution_count": null,
   "outputs": [],
   "source": [
    "q_2(test_data_4)"
   ],
   "metadata": {
    "collapsed": false
   }
  },
  {
   "cell_type": "code",
   "execution_count": null,
   "outputs": [],
   "source": [],
   "metadata": {
    "collapsed": false
   }
  },
  {
   "cell_type": "markdown",
   "metadata": {},
   "source": [
    "#### tests"
   ]
  },
  {
   "cell_type": "code",
   "execution_count": null,
   "metadata": {},
   "outputs": [],
   "source": [
    "def test_q_2():\n",
    "    LOGGER.setLevel(logging.DEBUG)\n",
    "    assert q_2(test_data_3) == 4, \"test_data_3\"\n",
    "    assert q_2(test_data_4) == 8, \"test_data_4\"\n",
    "    assert q_2(test_data_5) == 10, \"test_data_5\"\n",
    "    LOGGER.setLevel(logging.INFO)"
   ]
  },
  {
   "cell_type": "code",
   "execution_count": null,
   "metadata": {
    "scrolled": true
   },
   "outputs": [],
   "source": [
    "test_q_2()"
   ]
  },
  {
   "cell_type": "markdown",
   "metadata": {},
   "source": [
    "#### answer"
   ]
  },
  {
   "cell_type": "code",
   "execution_count": null,
   "metadata": {
    "scrolled": true
   },
   "outputs": [],
   "source": [
    "q_2(load_data())"
   ]
  },
  {
   "cell_type": "markdown",
   "metadata": {},
   "source": [
    "fin"
   ]
  }
 ],
 "metadata": {
  "kernelspec": {
   "display_name": "Python 3",
   "language": "python",
   "name": "python3"
  },
  "language_info": {
   "codemirror_mode": {
    "name": "ipython",
    "version": 3
   },
   "file_extension": ".py",
   "mimetype": "text/x-python",
   "name": "python",
   "nbconvert_exporter": "python",
   "pygments_lexer": "ipython3",
   "version": "3.7.3"
  },
  "toc": {
   "base_numbering": 1,
   "nav_menu": {},
   "number_sections": true,
   "sideBar": true,
   "skip_h1_title": false,
   "title_cell": "Table of Contents",
   "title_sidebar": "Contents",
   "toc_cell": false,
   "toc_position": {},
   "toc_section_display": true,
   "toc_window_display": false
  }
 },
 "nbformat": 4,
 "nbformat_minor": 2
}
