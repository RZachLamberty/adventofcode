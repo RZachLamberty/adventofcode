{
 "cells": [
  {
   "cell_type": "markdown",
   "metadata": {},
   "source": [
    "# day 5\n",
    "\n",
    "https://adventofcode.com/2022/day/5"
   ]
  },
  {
   "cell_type": "code",
   "execution_count": null,
   "metadata": {},
   "outputs": [],
   "source": [
    "import logging\n",
    "import logging.config\n",
    "import os\n",
    "\n",
    "import yaml"
   ]
  },
  {
   "cell_type": "code",
   "execution_count": null,
   "metadata": {},
   "outputs": [],
   "source": [
    "with open('../logging.yaml') as fp:\n",
    "    logging_config = yaml.load(fp, Loader=yaml.FullLoader)\n",
    "\n",
    "logging.config.dictConfig(logging_config)"
   ]
  },
  {
   "cell_type": "code",
   "execution_count": null,
   "metadata": {},
   "outputs": [],
   "source": [
    "FNAME = os.path.join('data', 'day05.txt')\n",
    "\n",
    "LOGGER = logging.getLogger('day05')"
   ]
  },
  {
   "cell_type": "markdown",
   "metadata": {},
   "source": [
    "## part 1\n",
    "\n",
    "### problem statement:"
   ]
  },
  {
   "cell_type": "markdown",
   "metadata": {},
   "source": [
    "#### loading data"
   ]
  },
  {
   "cell_type": "code",
   "execution_count": null,
   "metadata": {},
   "outputs": [],
   "source": [
    "test_data = \"\"\"    [D]\n",
    "[N] [C]\n",
    "[Z] [M] [P]\n",
    " 1   2   3\n",
    "\n",
    "move 1 from 2 to 1\n",
    "move 3 from 1 to 3\n",
    "move 2 from 2 to 1\n",
    "move 1 from 1 to 2\"\"\""
   ]
  },
  {
   "cell_type": "code",
   "execution_count": null,
   "metadata": {},
   "outputs": [],
   "source": [
    "def load_data(fname=FNAME):\n",
    "    with open(fname) as fp:\n",
    "        return fp.read()"
   ]
  },
  {
   "cell_type": "code",
   "execution_count": null,
   "outputs": [],
   "source": [
    "from typing import List\n",
    "import re\n",
    "\n",
    "def parse_stack_drawing(stack_drawing: str) -> List[List[str]]:\n",
    "    stacks = []\n",
    "    for line in stack_drawing.split('\\n'):\n",
    "        stack_now = []\n",
    "        if line.startswith(' 1 '):\n",
    "            break\n",
    "        L = len(line)\n",
    "        i = 0\n",
    "        while i < L:\n",
    "            c = line[i]\n",
    "            if c == '[':\n",
    "                stack_now.append(line[i + 1])\n",
    "            elif c == ' ':\n",
    "                stack_now.append(None)\n",
    "            i += 4\n",
    "        stacks.append(stack_now)\n",
    "    n_rows = len(stacks)\n",
    "    n_cols = len(stacks[0])\n",
    "    stacks = [[stacks[i][j] for i in range(n_rows)] for j in range(n_cols)]\n",
    "    stacks = [[_ for _ in row if _ is not None] for row in stacks]\n",
    "    return stacks\n",
    "\n",
    "def parse_procs(procs: str) -> List[List[int]]:\n",
    "    return [[int(_) for _ in re.match('move (\\d+) from (\\d+) to (\\d+)', line).groups()]\n",
    "            for line in procs.strip().split('\\n')]\n",
    "\n",
    "def parse_data(data: str):\n",
    "    stack_drawing, procs = data.split('\\n\\n')\n",
    "    stacks = parse_stack_drawing(stack_drawing)\n",
    "    procs = parse_procs(procs)\n",
    "    return stacks, procs\n",
    "\n",
    "parse_data(test_data)"
   ],
   "metadata": {
    "collapsed": false
   }
  },
  {
   "cell_type": "markdown",
   "metadata": {},
   "source": [
    "#### function def"
   ]
  },
  {
   "cell_type": "code",
   "execution_count": null,
   "outputs": [],
   "source": [
    "def move(stacks: List[List[str]], proc: List[int], reverse: bool = True) -> List[List[str]]:\n",
    "    n, c_0, c_1 = proc\n",
    "    c_0 -= 1\n",
    "    c_1 -= 1\n",
    "    to_move = [stacks[c_0].pop(0) for i in range(n)]\n",
    "    if reverse:\n",
    "        to_move = list(reversed(to_move))\n",
    "    stacks[c_1] = to_move + stacks[c_1]\n",
    "    return stacks\n",
    "\n",
    "stacks, procs = parse_data(test_data)\n",
    "assert move(stacks, procs[0]) == [['D', 'N', 'Z'], ['C', 'M'], ['P']]"
   ],
   "metadata": {
    "collapsed": false
   }
  },
  {
   "cell_type": "code",
   "execution_count": null,
   "metadata": {},
   "outputs": [],
   "source": [
    "def q_1(data):\n",
    "    stacks, procs = parse_data(data=data)\n",
    "    for proc in procs:\n",
    "        stacks = move(stacks, proc)\n",
    "    return ''.join([s[0] for s in stacks])"
   ]
  },
  {
   "cell_type": "markdown",
   "metadata": {},
   "source": [
    "#### tests"
   ]
  },
  {
   "cell_type": "code",
   "execution_count": null,
   "metadata": {},
   "outputs": [],
   "source": [
    "def test_q_1():\n",
    "    LOGGER.setLevel(logging.DEBUG)\n",
    "    assert q_1(test_data) == 'CMZ'\n",
    "    LOGGER.setLevel(logging.INFO)"
   ]
  },
  {
   "cell_type": "code",
   "execution_count": null,
   "metadata": {},
   "outputs": [],
   "source": [
    "test_q_1()"
   ]
  },
  {
   "cell_type": "markdown",
   "metadata": {},
   "source": [
    "#### answer"
   ]
  },
  {
   "cell_type": "code",
   "execution_count": null,
   "metadata": {},
   "outputs": [],
   "source": [
    "q_1(load_data())"
   ]
  },
  {
   "cell_type": "markdown",
   "metadata": {},
   "source": [
    "## part 2\n",
    "\n",
    "### problem statement:"
   ]
  },
  {
   "cell_type": "markdown",
   "metadata": {},
   "source": [
    "#### function def"
   ]
  },
  {
   "cell_type": "code",
   "execution_count": null,
   "metadata": {},
   "outputs": [],
   "source": [
    "def q_2(data):\n",
    "    stacks, procs = parse_data(data=data)\n",
    "    for proc in procs:\n",
    "        stacks = move(stacks, proc, reverse=False)\n",
    "    return ''.join([s[0] for s in stacks])"
   ]
  },
  {
   "cell_type": "markdown",
   "metadata": {},
   "source": [
    "#### tests"
   ]
  },
  {
   "cell_type": "code",
   "execution_count": null,
   "metadata": {},
   "outputs": [],
   "source": [
    "def test_q_2():\n",
    "    LOGGER.setLevel(logging.DEBUG)\n",
    "    assert q_2(test_data) == 'MCD'\n",
    "    LOGGER.setLevel(logging.INFO)"
   ]
  },
  {
   "cell_type": "code",
   "execution_count": null,
   "metadata": {
    "scrolled": true
   },
   "outputs": [],
   "source": [
    "test_q_2()"
   ]
  },
  {
   "cell_type": "markdown",
   "metadata": {},
   "source": [
    "#### answer"
   ]
  },
  {
   "cell_type": "code",
   "execution_count": null,
   "metadata": {
    "scrolled": true
   },
   "outputs": [],
   "source": [
    "q_2(load_data())"
   ]
  },
  {
   "cell_type": "markdown",
   "metadata": {},
   "source": [
    "fin\n"
   ]
  }
 ],
 "metadata": {
  "kernelspec": {
   "display_name": "Python 3",
   "language": "python",
   "name": "python3"
  },
  "language_info": {
   "codemirror_mode": {
    "name": "ipython",
    "version": 3
   },
   "file_extension": ".py",
   "mimetype": "text/x-python",
   "name": "python",
   "nbconvert_exporter": "python",
   "pygments_lexer": "ipython3",
   "version": "3.7.3"
  },
  "toc": {
   "base_numbering": 1,
   "nav_menu": {},
   "number_sections": true,
   "sideBar": true,
   "skip_h1_title": false,
   "title_cell": "Table of Contents",
   "title_sidebar": "Contents",
   "toc_cell": false,
   "toc_position": {},
   "toc_section_display": true,
   "toc_window_display": false
  }
 },
 "nbformat": 4,
 "nbformat_minor": 2
}
