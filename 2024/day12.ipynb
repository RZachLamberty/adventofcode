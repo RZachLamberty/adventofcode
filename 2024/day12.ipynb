{
 "cells": [
  {
   "cell_type": "markdown",
   "metadata": {},
   "source": [
    "# day 12\n",
    "\n",
    "https://adventofcode.com/12/day/12"
   ]
  },
  {
   "cell_type": "code",
   "metadata": {},
   "source": [
    "import logging\n",
    "import logging.config\n",
    "import os\n",
    "\n",
    "import networkx as nx\n",
    "import yaml"
   ],
   "outputs": [],
   "execution_count": null
  },
  {
   "cell_type": "code",
   "metadata": {},
   "source": [
    "with open('../logging.yaml') as fp:\n",
    "    logging_config = yaml.load(fp, Loader=yaml.FullLoader)\n",
    "\n",
    "logging.config.dictConfig(logging_config)"
   ],
   "outputs": [],
   "execution_count": null
  },
  {
   "cell_type": "code",
   "metadata": {},
   "source": [
    "FNAME = os.path.join('data', 'day12.txt')\n",
    "\n",
    "LOGGER = logging.getLogger('day12')"
   ],
   "outputs": [],
   "execution_count": null
  },
  {
   "cell_type": "markdown",
   "metadata": {},
   "source": [
    "## part 1\n",
    "\n",
    "### problem statement:"
   ]
  },
  {
   "cell_type": "markdown",
   "metadata": {},
   "source": [
    "#### loading data"
   ]
  },
  {
   "cell_type": "code",
   "metadata": {},
   "source": [
    "test_1 = \"\"\"AAAA\n",
    "BBCD\n",
    "BBCC\n",
    "EEEC\"\"\"\n",
    "\n",
    "test_2 = \"\"\"OOOOO\n",
    "OXOXO\n",
    "OOOOO\n",
    "OXOXO\n",
    "OOOOO\"\"\"\n",
    "\n",
    "test_3 = \"\"\"RRRRIICCFF\n",
    "RRRRIICCCF\n",
    "VVRRRCCFFF\n",
    "VVRCCCJFFF\n",
    "VVVVCJJCFE\n",
    "VVIVCCJJEE\n",
    "VVIIICJJEE\n",
    "MIIIIIJJEE\n",
    "MIIISIJEEE\n",
    "MMMISSJEEE\"\"\""
   ],
   "outputs": [],
   "execution_count": null
  },
  {
   "cell_type": "code",
   "metadata": {},
   "source": [
    "def load_data(fname=FNAME):\n",
    "    with open(fname) as fp:\n",
    "        return fp.read().strip()"
   ],
   "outputs": [],
   "execution_count": null
  },
  {
   "metadata": {},
   "cell_type": "code",
   "source": [
    "UP = -1j\n",
    "DOWN = 1j\n",
    "LEFT = -1\n",
    "RIGHT = 1\n",
    "\n",
    "def build_dict(data: str) -> dict[complex, str]:\n",
    "    return {(j + i * 1j): c\n",
    "            for (i, row) in enumerate(data.split('\\n'))\n",
    "            for (j, c) in enumerate(row)}\n",
    "\n",
    "\n",
    "def build_graph(data: str) -> nx.Graph:\n",
    "    d = build_dict(data)\n",
    "    g = nx.Graph()\n",
    "\n",
    "    g.add_nodes_from([(k, {'val': v}) for (k, v) in d.items()])\n",
    "\n",
    "    all_nodes = g.nodes(data=True)\n",
    "    for node, val_dict in all_nodes:\n",
    "        for dir in [RIGHT, DOWN]:\n",
    "            nbr_node = node + dir\n",
    "            try:\n",
    "                nbr_node_val = all_nodes[nbr_node]['val']\n",
    "            except KeyError:\n",
    "                continue\n",
    "\n",
    "            if val_dict['val'] == nbr_node_val:\n",
    "                g.add_edge(node, nbr_node)\n",
    "\n",
    "    return g\n",
    "\n",
    "\n",
    "def get_perimeter(component: set[complex], g: nx.Graph) -> int:\n",
    "    return 4 * len(component) - 2 * g.subgraph(component).number_of_edges()\n",
    "\n",
    "\n",
    "def get_score(component: set[complex], g: nx.Graph) -> int:\n",
    "    return len(component) * get_perimeter(component=component, g=g)\n",
    "\n",
    "g = build_graph(test_1)\n",
    "# g.nodes(data=True)\n",
    "# g.edges()\n",
    "\n",
    "# list(nx.connected_components(g))\n",
    "\n",
    "# for component in nx.connected_components(g):\n",
    "#     break\n",
    "#\n",
    "# print(f\"\"\"\n",
    "# {component = }\n",
    "# {get_perimeter(component=component, g=g) = }\n",
    "# \"\"\")"
   ],
   "outputs": [],
   "execution_count": null
  },
  {
   "cell_type": "markdown",
   "metadata": {},
   "source": [
    "#### function def"
   ]
  },
  {
   "cell_type": "code",
   "metadata": {},
   "source": [
    "def q_1(data):\n",
    "    g = build_graph(data)\n",
    "    return sum(get_score(component, g) for component in nx.connected_components(g))"
   ],
   "outputs": [],
   "execution_count": null
  },
  {
   "cell_type": "markdown",
   "metadata": {},
   "source": [
    "#### tests"
   ]
  },
  {
   "cell_type": "code",
   "metadata": {},
   "source": [
    "def test_q_1():\n",
    "    LOGGER.setLevel(logging.DEBUG)\n",
    "    assert q_1(test_1) == 140\n",
    "    assert q_1(test_2) == 772\n",
    "    assert q_1(test_3) == 1930\n",
    "    LOGGER.setLevel(logging.INFO)"
   ],
   "outputs": [],
   "execution_count": null
  },
  {
   "cell_type": "code",
   "metadata": {},
   "source": [
    "test_q_1()"
   ],
   "outputs": [],
   "execution_count": null
  },
  {
   "cell_type": "markdown",
   "metadata": {},
   "source": [
    "#### answer"
   ]
  },
  {
   "cell_type": "code",
   "metadata": {},
   "source": [
    "q_1(load_data())"
   ],
   "outputs": [],
   "execution_count": null
  },
  {
   "cell_type": "markdown",
   "metadata": {},
   "source": [
    "## part 2\n",
    "\n",
    "### problem statement:"
   ]
  },
  {
   "metadata": {},
   "cell_type": "code",
   "source": [
    "test_4 = \"\"\"EEEEE\n",
    "EXXXX\n",
    "EEEEE\n",
    "EXXXX\n",
    "EEEEE\"\"\"\n",
    "\n",
    "test_5 = \"\"\"AAAAAA\n",
    "AAABBA\n",
    "AAABBA\n",
    "ABBAAA\n",
    "ABBAAA\n",
    "AAAAAA\"\"\""
   ],
   "outputs": [],
   "execution_count": null
  },
  {
   "metadata": {},
   "cell_type": "code",
   "source": "g.degree",
   "outputs": [],
   "execution_count": null
  },
  {
   "cell_type": "markdown",
   "metadata": {},
   "source": [
    "#### function def"
   ]
  },
  {
   "metadata": {},
   "cell_type": "code",
   "source": [
    "wl = 2+2j\n",
    "pn = {wl + dir for dir in [UP, DOWN, LEFT, RIGHT]}\n",
    "pn, sg.nodes()\n",
    "pn, set(sg.nodes())"
   ],
   "outputs": [],
   "execution_count": null
  },
  {
   "metadata": {},
   "cell_type": "code",
   "source": [
    "import copy\n",
    "\n",
    "\n",
    "def get_num_sides(component: set[complex], g: nx.Graph) -> int:\n",
    "    sg = g.subgraph(component)\n",
    "    all_edge_nodes = {n for (n, d) in sg.degree if d < 4}\n",
    "    unseen_edge_nodes = copy.deepcopy(all_edge_nodes)\n",
    "    num_sides = 0\n",
    "\n",
    "    while unseen_edge_nodes:\n",
    "        # walk along the edge and count sides\n",
    "        walker_loc = unseen_edge_nodes.pop()\n",
    "\n",
    "        # one edge case: a single node\n",
    "        if len(unseen_edge_nodes) == 0:\n",
    "            return 4\n",
    "\n",
    "        # choose one direction that is _not_ an edge and one\n",
    "        # direction that points to another edge\n",
    "        found_walker_orientation = False\n",
    "        for (out_dir, forward_dir) in ([LEFT, UP], [UP, RIGHT], [RIGHT, DOWN], [DOWN, LEFT]):\n",
    "            out_nbr = walker_loc + out_dir\n",
    "            forward_nbr = walker_loc + forward_dir\n",
    "            if (out_nbr not in sg) and (forward_nbr in all_edge_nodes):\n",
    "                found_walker_orientation = True\n",
    "                break\n",
    "\n",
    "        if not found_walker_orientation:\n",
    "            raise ValueError(f\"couldn't find walker orientation for {walker_loc = }\")\n",
    "\n",
    "        # start walking\n",
    "        start_loc = walker_loc  # so we know when we return\n",
    "        start_forward_dir = forward_dir\n",
    "        num_sides = 1\n",
    "        while True:\n",
    "            # take step\n",
    "            prev_walker_loc = walker_loc\n",
    "            walker_loc += forward_dir\n",
    "\n",
    "            unseen_edge_nodes.discard(walker_loc)\n",
    "\n",
    "            # we finished a loop\n",
    "            if (walker_loc == start_loc) and (forward_dir == start_forward_dir):\n",
    "                break\n",
    "\n",
    "            # check directions and turn until they're true\n",
    "            while True:\n",
    "                out_nbr = walker_loc + out_dir\n",
    "                forward_nbr = walker_loc + forward_dir\n",
    "                out_still_empty = (out_nbr not in sg) or (out_nbr == prev_walker_loc)\n",
    "                forward_still_edge = forward_nbr in all_edge_nodes\n",
    "                match out_still_empty, forward_still_edge:\n",
    "                    case True, True:\n",
    "                        # keep walking\n",
    "                        break\n",
    "                    case True, False:\n",
    "                        # turn right\n",
    "                        out_dir *= 1j\n",
    "                        forward_dir *= 1j\n",
    "                        num_sides += 1\n",
    "                    case False, _:\n",
    "                        # turn left\n",
    "                        out_dir *= -1j\n",
    "                        forward_dir *= -1j\n",
    "                        num_sides += 1\n",
    "\n",
    "    return num_sides\n",
    "\n",
    "g = build_graph(test_1)\n",
    "# for component in nx.connected_components(g):\n",
    "#     val = {vd['val'] for (n, vd) in g.subgraph(component).nodes(data=True)}\n",
    "#     print(f\"{component = }\")\n",
    "#     print(f\"{val = }\")\n",
    "#     print(f\"{get_num_sides(component, g) = }\")\n",
    "#     print()\n",
    "component = list(nx.connected_components(g))[2]\n",
    "get_num_sides(component, g)"
   ],
   "outputs": [],
   "execution_count": null
  },
  {
   "metadata": {},
   "cell_type": "code",
   "source": [
    "def get_score(component: set[complex], g: nx.Graph) -> int:\n",
    "    return len(component) * get_num_sides(component=component, g=g)"
   ],
   "outputs": [],
   "execution_count": null
  },
  {
   "cell_type": "code",
   "metadata": {},
   "source": [
    "def q_2(data):\n",
    "    return False"
   ],
   "outputs": [],
   "execution_count": null
  },
  {
   "cell_type": "markdown",
   "metadata": {},
   "source": [
    "#### tests"
   ]
  },
  {
   "cell_type": "code",
   "metadata": {},
   "source": [
    "def test_q_2():\n",
    "    LOGGER.setLevel(logging.DEBUG)\n",
    "    assert q_2(test_1) == 80\n",
    "    assert q_2(test_2) == 436\n",
    "\n",
    "    assert q_2(test_4) == 236\n",
    "    assert q_2(test_5) == 368\n",
    "\n",
    "    assert q_2(test_3) == 1206\n",
    "    LOGGER.setLevel(logging.INFO)"
   ],
   "outputs": [],
   "execution_count": null
  },
  {
   "cell_type": "code",
   "metadata": {
    "scrolled": true
   },
   "source": [
    "test_q_2()"
   ],
   "outputs": [],
   "execution_count": null
  },
  {
   "cell_type": "markdown",
   "metadata": {},
   "source": [
    "#### answer"
   ]
  },
  {
   "cell_type": "code",
   "metadata": {
    "scrolled": true
   },
   "source": [
    "q_2(load_data())"
   ],
   "outputs": [],
   "execution_count": null
  },
  {
   "cell_type": "markdown",
   "metadata": {},
   "source": [
    "fin"
   ]
  },
  {
   "metadata": {},
   "cell_type": "markdown",
   "source": "# online solution"
  },
  {
   "metadata": {},
   "cell_type": "code",
   "source": [
    "from collections import deque\n",
    "\n",
    "inp = []\n",
    "with open(FNAME, 'r') as f:\n",
    "  for line in f:\n",
    "    inp.append(list(line.strip()))\n",
    "\n",
    "# print(inp)\n",
    "num_rows = len(inp)\n",
    "num_cols = len(inp[0])\n",
    "\n",
    "def in_bounds(rc):\n",
    "  r, c = rc\n",
    "  return (0 <= r < num_rows) and (0 <= c < num_cols)\n",
    "\n",
    "def get_plant(rc):\n",
    "  r, c = rc\n",
    "  return inp[r][c]\n",
    "\n",
    "def get_neighbors(rc):\n",
    "  r, c = rc\n",
    "  neighbors = []\n",
    "  ds = [(-1, 0), (0, 1), (1, 0), (0, -1)] # NESW\n",
    "  for (dr, dc) in ds:\n",
    "    neighbors.append((r + dr, c + dc))\n",
    "  return [n for n in neighbors if in_bounds(n)]\n",
    "\n",
    "def get_plant_neighbors(rc):\n",
    "  neighbors = get_neighbors(rc)\n",
    "  return [n for n in neighbors if get_plant(n)==get_plant(rc)]\n",
    "\n",
    "# BFS\n",
    "def get_region(rc):\n",
    "  visited = set()\n",
    "  region = set()\n",
    "  queue = deque([rc])\n",
    "  while queue:\n",
    "    node = queue.popleft()\n",
    "    if node not in visited:\n",
    "      visited.add(node)\n",
    "      # visit node\n",
    "      region.add(node)\n",
    "      # add all unvisited neighbors to the queue\n",
    "      neighbors = get_plant_neighbors(node)\n",
    "      unvisited_neighbors = [n for n in neighbors if n not in visited]\n",
    "      # print(f'At node {node}, ns: {neighbors}, unvisited: {unvisited_neighbors}')\n",
    "      queue.extend(unvisited_neighbors)\n",
    "  return region\n",
    "\n",
    "\n",
    "def calc_edges(region):\n",
    "  edges = 0\n",
    "  for (r, c) in region:\n",
    "    north_n = (r - 1, c) # TODO: Add const NORTH vector of (-1, 0)\n",
    "    west_n = (r, c - 1)\n",
    "    nw_n = (r - 1, c - 1)\n",
    "    # TODO: Do this once, rotate 90 degrees and do it in a loop\n",
    "    if (north_n not in region):\n",
    "      # Top is an edge. But is it a new edge?\n",
    "      # it's the same edge if the spot west of plot is in_bounds\n",
    "      # and the NW plot is not the same plant (or is out of bounds)\n",
    "      same_edge = (west_n in region) and (nw_n not in region)\n",
    "      if not same_edge:\n",
    "        edges += 1\n",
    "\n",
    "    south_n = (r + 1, c)\n",
    "    sw_n = (r + 1, c - 1)\n",
    "    if south_n not in region:\n",
    "      # bottom is an edge\n",
    "      same_edge = (west_n in region) and (sw_n not in region)\n",
    "      if not same_edge:\n",
    "        edges += 1\n",
    "\n",
    "    if west_n not in region:\n",
    "      # left is an edge\n",
    "      same_edge = (north_n in region) and (nw_n not in region)\n",
    "      if not same_edge:\n",
    "        edges += 1\n",
    "\n",
    "    east_n = (r, c + 1)\n",
    "    ne_n = (r - 1, c + 1)\n",
    "    if east_n not in region:\n",
    "      # right is an edge\n",
    "      same_edge = (north_n in region) and (ne_n not in region)\n",
    "      if not same_edge:\n",
    "        edges += 1\n",
    "  return edges\n",
    "\n",
    "\n",
    "regions = []\n",
    "visited = set()\n",
    "for r in range(num_rows):\n",
    "  for c in range(num_cols):\n",
    "    rc = (r, c)\n",
    "    if rc not in visited:\n",
    "      region = get_region(rc)\n",
    "      visited |= region\n",
    "      regions.append(region)\n",
    "\n",
    "# print(regions)\n",
    "\n",
    "total_price = 0\n",
    "for region in regions:\n",
    "  plant = get_plant(next(iter(region)))\n",
    "  area = len(region)\n",
    "  edges = calc_edges(region)\n",
    "  price = area * edges\n",
    "  total_price += price\n",
    "  # print(f'{plant} (area: {area}, edges: {edges}): {region}')\n",
    "\n",
    "print(total_price)"
   ],
   "outputs": [],
   "execution_count": null
  },
  {
   "metadata": {},
   "cell_type": "code",
   "source": "",
   "outputs": [],
   "execution_count": null
  }
 ],
 "metadata": {
  "kernelspec": {
   "display_name": "Python 3",
   "language": "python",
   "name": "python3"
  },
  "language_info": {
   "codemirror_mode": {
    "name": "ipython",
    "version": 3
   },
   "file_extension": ".py",
   "mimetype": "text/x-python",
   "name": "python",
   "nbconvert_exporter": "python",
   "pygments_lexer": "ipython3",
   "version": "3.7.3"
  },
  "toc": {
   "base_numbering": 1,
   "nav_menu": {},
   "number_sections": true,
   "sideBar": true,
   "skip_h1_title": false,
   "title_cell": "Table of Contents",
   "title_sidebar": "Contents",
   "toc_cell": false,
   "toc_position": {},
   "toc_section_display": true,
   "toc_window_display": false
  }
 },
 "nbformat": 4,
 "nbformat_minor": 2
}
