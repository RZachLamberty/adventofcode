{
 "cells": [
  {
   "cell_type": "markdown",
   "metadata": {},
   "source": [
    "# day 10\n",
    "\n",
    "https://adventofcode.com/10/day/10"
   ]
  },
  {
   "cell_type": "code",
   "metadata": {},
   "source": [
    "import itertools\n",
    "import logging\n",
    "import logging.config\n",
    "import os\n",
    "from collections import Counter\n",
    "\n",
    "import networkx as nx\n",
    "import yaml"
   ],
   "outputs": [],
   "execution_count": null
  },
  {
   "cell_type": "code",
   "metadata": {},
   "source": [
    "with open('../logging.yaml') as fp:\n",
    "    logging_config = yaml.load(fp, Loader=yaml.FullLoader)\n",
    "\n",
    "logging.config.dictConfig(logging_config)"
   ],
   "outputs": [],
   "execution_count": null
  },
  {
   "cell_type": "code",
   "metadata": {},
   "source": [
    "FNAME = os.path.join('data', 'day10.txt')\n",
    "\n",
    "LOGGER = logging.getLogger('day10')"
   ],
   "outputs": [],
   "execution_count": null
  },
  {
   "cell_type": "markdown",
   "metadata": {},
   "source": [
    "## part 1\n",
    "\n",
    "### problem statement:"
   ]
  },
  {
   "cell_type": "markdown",
   "metadata": {},
   "source": [
    "#### loading data"
   ]
  },
  {
   "cell_type": "code",
   "metadata": {},
   "source": [
    "test_data = \"\"\"89010123\n",
    "78121874\n",
    "87430965\n",
    "96549874\n",
    "45678903\n",
    "32019012\n",
    "01329801\n",
    "10456732\"\"\""
   ],
   "outputs": [],
   "execution_count": null
  },
  {
   "cell_type": "code",
   "metadata": {},
   "source": [
    "def load_data(fname=FNAME):\n",
    "    with open(fname) as fp:\n",
    "        return fp.read().strip()"
   ],
   "outputs": [],
   "execution_count": null
  },
  {
   "metadata": {},
   "cell_type": "code",
   "source": [
    "T_HEIGHT_MAP = dict[complex, int]\n",
    "def build_heightmap(data: str) -> T_HEIGHT_MAP:\n",
    "    return {j + i * 1j: int(val)\n",
    "            for (i, row) in enumerate(data.strip().split(\"\\n\"))\n",
    "            for j, val in enumerate(row.strip())}\n",
    "\n",
    "# parse_data(test_data)"
   ],
   "outputs": [],
   "execution_count": null
  },
  {
   "metadata": {},
   "cell_type": "code",
   "source": [
    "UP = -1j\n",
    "DOWN = 1j\n",
    "LEFT = -1\n",
    "RIGHT = 1\n",
    "\n",
    "def heightmap_to_network(hm: T_HEIGHT_MAP) -> nx.DiGraph:\n",
    "    n = nx.DiGraph()\n",
    "    n.add_nodes_from([(k, {'v': v}) for (k, v) in hm.items()])\n",
    "\n",
    "    for (k, v) in hm.items():\n",
    "        for dir in [DOWN, RIGHT]:\n",
    "            nbr_k = k + dir\n",
    "            try:\n",
    "                nbr_val = hm[nbr_k]\n",
    "            except KeyError:\n",
    "                continue\n",
    "\n",
    "            if nbr_val - v == 1:\n",
    "                n.add_edge(k, nbr_k)\n",
    "            elif v - nbr_val == 1:\n",
    "                n.add_edge(nbr_k, k)\n",
    "\n",
    "    return n\n",
    "\n",
    "g = heightmap_to_network(build_heightmap(test_data))\n",
    "# g.nodes(data=True)\n",
    "# list(g.edges())"
   ],
   "outputs": [],
   "execution_count": null
  },
  {
   "metadata": {},
   "cell_type": "code",
   "source": [
    "# nx.dag_longest_path(G=g)\n",
    "# list(nx.all_simple_paths(g, 2+0j, 1+0j))"
   ],
   "outputs": [],
   "execution_count": null
  },
  {
   "metadata": {},
   "cell_type": "code",
   "source": [
    "T_TRAILS = dict[tuple[complex, complex], list[list[complex]]]\n",
    "\n",
    "def find_trails(g: nx.DiGraph) -> T_TRAILS:\n",
    "    possible_trailheads = [n for (n, attr) in g.nodes(data=True) if attr['v'] == 0]\n",
    "    possible_trailends = [n for (n, attr) in g.nodes(data=True) if attr['v'] == 9]\n",
    "\n",
    "    return {(pth, pte): list(nx.all_simple_paths(g, pth, pte))\n",
    "            for (pth, pte) in itertools.product(possible_trailheads, possible_trailends)}\n",
    "\n",
    "# g = heightmap_to_network(build_heightmap(test_data))\n",
    "# trails = find_trails(g)\n",
    "# trails"
   ],
   "outputs": [],
   "execution_count": null
  },
  {
   "cell_type": "markdown",
   "metadata": {},
   "source": [
    "#### function def"
   ]
  },
  {
   "metadata": {},
   "cell_type": "code",
   "source": [
    "def get_trailhead_score(trails: T_TRAILS) -> Counter:\n",
    "    trailhead_scores = Counter()\n",
    "    for (pth, pte), paths in trails.items():\n",
    "        if len(paths) > 0:\n",
    "            trailhead_scores[pth] += 1\n",
    "    return trailhead_scores\n",
    "\n",
    "# g = heightmap_to_network(build_heightmap(test_data))\n",
    "# trails = find_trails(g)\n",
    "# trailhead_scores = get_trailhead_score(trails)\n",
    "# trailhead_scores"
   ],
   "outputs": [],
   "execution_count": null
  },
  {
   "cell_type": "code",
   "metadata": {},
   "source": [
    "def q_1(data):\n",
    "    hm = build_heightmap(data)\n",
    "    g = heightmap_to_network(hm)\n",
    "    trails = find_trails(g)\n",
    "    trailhead_scores = get_trailhead_score(trails)\n",
    "    return sum(trailhead_scores.values())"
   ],
   "outputs": [],
   "execution_count": null
  },
  {
   "cell_type": "markdown",
   "metadata": {},
   "source": [
    "#### tests"
   ]
  },
  {
   "cell_type": "code",
   "metadata": {},
   "source": [
    "def test_q_1():\n",
    "    LOGGER.setLevel(logging.DEBUG)\n",
    "    assert q_1(test_data) == 36\n",
    "    LOGGER.setLevel(logging.INFO)"
   ],
   "outputs": [],
   "execution_count": null
  },
  {
   "cell_type": "code",
   "metadata": {},
   "source": [
    "test_q_1()"
   ],
   "outputs": [],
   "execution_count": null
  },
  {
   "cell_type": "markdown",
   "metadata": {},
   "source": [
    "#### answer"
   ]
  },
  {
   "cell_type": "code",
   "metadata": {},
   "source": [
    "q_1(load_data())"
   ],
   "outputs": [],
   "execution_count": null
  },
  {
   "cell_type": "markdown",
   "metadata": {},
   "source": [
    "## part 2\n",
    "\n",
    "### problem statement:"
   ]
  },
  {
   "cell_type": "markdown",
   "metadata": {},
   "source": [
    "#### function def"
   ]
  },
  {
   "metadata": {},
   "cell_type": "code",
   "source": [
    "def get_trailhead_score(trails: T_TRAILS) -> Counter:\n",
    "    trailhead_scores = Counter()\n",
    "    for (pth, pte), paths in trails.items():\n",
    "        trailhead_scores[pth] += len(paths)\n",
    "    return trailhead_scores\n",
    "\n",
    "\n",
    "g = heightmap_to_network(build_heightmap(test_data))\n",
    "trails = find_trails(g)\n",
    "trailhead_scores = get_trailhead_score(trails)\n",
    "trailhead_scores"
   ],
   "outputs": [],
   "execution_count": null
  },
  {
   "cell_type": "code",
   "metadata": {},
   "source": [
    "def q_2(data):\n",
    "    hm = build_heightmap(data)\n",
    "    g = heightmap_to_network(hm)\n",
    "    trails = find_trails(g)\n",
    "    trailhead_scores = get_trailhead_score(trails)\n",
    "    return sum(trailhead_scores.values())"
   ],
   "outputs": [],
   "execution_count": null
  },
  {
   "cell_type": "markdown",
   "metadata": {},
   "source": [
    "#### tests"
   ]
  },
  {
   "cell_type": "code",
   "metadata": {},
   "source": [
    "def test_q_2():\n",
    "    LOGGER.setLevel(logging.DEBUG)\n",
    "    assert q_2(test_data) == 81\n",
    "    LOGGER.setLevel(logging.INFO)"
   ],
   "outputs": [],
   "execution_count": null
  },
  {
   "cell_type": "code",
   "metadata": {
    "scrolled": true
   },
   "source": [
    "test_q_2()"
   ],
   "outputs": [],
   "execution_count": null
  },
  {
   "cell_type": "markdown",
   "metadata": {},
   "source": [
    "#### answer"
   ]
  },
  {
   "cell_type": "code",
   "metadata": {
    "scrolled": true
   },
   "source": [
    "q_2(load_data())"
   ],
   "outputs": [],
   "execution_count": null
  },
  {
   "cell_type": "markdown",
   "metadata": {},
   "source": [
    "fin"
   ]
  }
 ],
 "metadata": {
  "kernelspec": {
   "display_name": "Python 3",
   "language": "python",
   "name": "python3"
  },
  "language_info": {
   "codemirror_mode": {
    "name": "ipython",
    "version": 3
   },
   "file_extension": ".py",
   "mimetype": "text/x-python",
   "name": "python",
   "nbconvert_exporter": "python",
   "pygments_lexer": "ipython3",
   "version": "3.7.3"
  },
  "toc": {
   "base_numbering": 1,
   "nav_menu": {},
   "number_sections": true,
   "sideBar": true,
   "skip_h1_title": false,
   "title_cell": "Table of Contents",
   "title_sidebar": "Contents",
   "toc_cell": false,
   "toc_position": {},
   "toc_section_display": true,
   "toc_window_display": false
  }
 },
 "nbformat": 4,
 "nbformat_minor": 2
}
