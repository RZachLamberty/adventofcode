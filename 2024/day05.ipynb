{
 "cells": [
  {
   "cell_type": "markdown",
   "metadata": {},
   "source": [
    "# day 5\n",
    "\n",
    "https://adventofcode.com/5/day/5"
   ]
  },
  {
   "cell_type": "code",
   "metadata": {
    "ExecuteTime": {
     "end_time": "2024-12-07T16:28:26.656844Z",
     "start_time": "2024-12-07T16:28:26.640801Z"
    }
   },
   "source": [
    "import logging\n",
    "import logging.config\n",
    "import os\n",
    "\n",
    "import yaml"
   ],
   "outputs": [],
   "execution_count": 1
  },
  {
   "cell_type": "code",
   "metadata": {
    "ExecuteTime": {
     "end_time": "2024-12-07T16:28:26.666998Z",
     "start_time": "2024-12-07T16:28:26.660473Z"
    }
   },
   "source": [
    "with open('../logging.yaml') as fp:\n",
    "    logging_config = yaml.load(fp, Loader=yaml.FullLoader)\n",
    "\n",
    "logging.config.dictConfig(logging_config)"
   ],
   "outputs": [],
   "execution_count": 2
  },
  {
   "cell_type": "code",
   "metadata": {
    "ExecuteTime": {
     "end_time": "2024-12-07T16:28:26.705112Z",
     "start_time": "2024-12-07T16:28:26.703492Z"
    }
   },
   "source": [
    "FNAME = os.path.join('data', 'day05.txt')\n",
    "\n",
    "LOGGER = logging.getLogger('day05')"
   ],
   "outputs": [],
   "execution_count": 3
  },
  {
   "cell_type": "markdown",
   "metadata": {},
   "source": [
    "## part 1\n",
    "\n",
    "### problem statement:"
   ]
  },
  {
   "cell_type": "markdown",
   "metadata": {},
   "source": [
    "#### loading data"
   ]
  },
  {
   "cell_type": "code",
   "metadata": {
    "ExecuteTime": {
     "end_time": "2024-12-07T16:28:31.578160Z",
     "start_time": "2024-12-07T16:28:31.575829Z"
    }
   },
   "source": [
    "test_data = \"\"\"47|53\n",
    "97|13\n",
    "97|61\n",
    "97|47\n",
    "75|29\n",
    "61|13\n",
    "75|53\n",
    "29|13\n",
    "97|29\n",
    "53|29\n",
    "61|53\n",
    "97|53\n",
    "61|29\n",
    "47|13\n",
    "75|47\n",
    "97|75\n",
    "47|61\n",
    "75|61\n",
    "47|29\n",
    "75|13\n",
    "53|13\n",
    "\n",
    "75,47,61,53,29\n",
    "97,61,53,29,13\n",
    "75,29,13\n",
    "75,97,47,61,53\n",
    "61,13,29\n",
    "97,13,75,29,47\"\"\""
   ],
   "outputs": [],
   "execution_count": 4
  },
  {
   "cell_type": "code",
   "metadata": {
    "ExecuteTime": {
     "end_time": "2024-12-07T16:28:38.172813Z",
     "start_time": "2024-12-07T16:28:38.167723Z"
    }
   },
   "source": [
    "def load_data(fname=FNAME):\n",
    "    with open(fname) as fp:\n",
    "        return fp.read().strip()"
   ],
   "outputs": [],
   "execution_count": 5
  },
  {
   "metadata": {
    "ExecuteTime": {
     "end_time": "2024-12-07T16:50:50.731642Z",
     "start_time": "2024-12-07T16:50:50.715501Z"
    }
   },
   "cell_type": "code",
   "source": [
    "def parse_data(s: str) -> tuple[dict[int, list[int]], list[list[int]]]:\n",
    "    order_rules, update_pagelists = s.split('\\n\\n')\n",
    "    order_rules_dict = {}\n",
    "    for line in order_rules.split('\\n'):\n",
    "        a, b = [int(_) for _ in line.strip().split('|')]\n",
    "        if a not in order_rules_dict:\n",
    "            order_rules_dict[a] = []\n",
    "        order_rules_dict[a].append(b)\n",
    "    update_pagelists = [[int(_) for _ in line.strip().split(',')] for line in update_pagelists.split('\\n')]\n",
    "    return order_rules_dict, update_pagelists"
   ],
   "outputs": [],
   "execution_count": 19
  },
  {
   "metadata": {
    "ExecuteTime": {
     "end_time": "2024-12-07T16:50:50.967634Z",
     "start_time": "2024-12-07T16:50:50.960795Z"
    }
   },
   "cell_type": "code",
   "source": "parse_data(test_data)",
   "outputs": [
    {
     "data": {
      "text/plain": [
       "({47: [53, 13, 61, 29],\n",
       "  97: [13, 61, 47, 29, 53, 75],\n",
       "  75: [29, 53, 47, 61, 13],\n",
       "  61: [13, 53, 29],\n",
       "  29: [13],\n",
       "  53: [29, 13]},\n",
       " [[75, 47, 61, 53, 29],\n",
       "  [97, 61, 53, 29, 13],\n",
       "  [75, 29, 13],\n",
       "  [75, 97, 47, 61, 53],\n",
       "  [61, 13, 29],\n",
       "  [97, 13, 75, 29, 47]])"
      ]
     },
     "execution_count": 20,
     "metadata": {},
     "output_type": "execute_result"
    }
   ],
   "execution_count": 20
  },
  {
   "cell_type": "markdown",
   "metadata": {},
   "source": [
    "#### function def"
   ]
  },
  {
   "metadata": {
    "ExecuteTime": {
     "end_time": "2024-12-07T16:51:03.282898Z",
     "start_time": "2024-12-07T16:51:03.280137Z"
    }
   },
   "cell_type": "code",
   "source": [
    "def get_middle_page(update_pagelist: list[int]) -> int:\n",
    "    l = len(update_pagelist)\n",
    "    return update_pagelist[l // 2]\n",
    "\n",
    "assert get_middle_page(update_pagelist=[75, 47, 61, 53, 29]) == 61\n",
    "assert get_middle_page(update_pagelist=[97, 61, 53, 29, 13]) == 53\n",
    "assert get_middle_page(update_pagelist=[75, 29, 13]) == 29"
   ],
   "outputs": [],
   "execution_count": 21
  },
  {
   "metadata": {
    "ExecuteTime": {
     "end_time": "2024-12-07T16:53:52.253404Z",
     "start_time": "2024-12-07T16:53:52.249574Z"
    }
   },
   "cell_type": "code",
   "source": [
    "def is_ordered(update_pagelist: list[int], order_rules: dict[int, list[int]]) -> bool:\n",
    "    for (i, page) in enumerate(update_pagelist):\n",
    "        try:\n",
    "            rules = order_rules[page]\n",
    "            if set(update_pagelist[:i]).intersection(rules):\n",
    "                return False\n",
    "        except KeyError:\n",
    "            continue\n",
    "    return True\n",
    "\n",
    "order_rules, update_pagelists = parse_data(test_data)\n",
    "assert is_ordered(update_pagelists[0], order_rules)\n",
    "assert is_ordered(update_pagelists[1], order_rules)\n",
    "assert is_ordered(update_pagelists[2], order_rules)\n",
    "assert not is_ordered(update_pagelists[3], order_rules)\n",
    "assert not is_ordered(update_pagelists[4], order_rules)\n",
    "assert not is_ordered(update_pagelists[5], order_rules)"
   ],
   "outputs": [],
   "execution_count": 25
  },
  {
   "cell_type": "code",
   "metadata": {
    "ExecuteTime": {
     "end_time": "2024-12-07T16:54:50.643675Z",
     "start_time": "2024-12-07T16:54:50.628542Z"
    }
   },
   "source": [
    "def q_1(data):\n",
    "    order_rules, update_pagelists = parse_data(data)\n",
    "    return sum([get_middle_page(update_pagelist=update_pagelist)\n",
    "                for update_pagelist in update_pagelists\n",
    "                if is_ordered(update_pagelist=update_pagelist, order_rules=order_rules)])"
   ],
   "outputs": [],
   "execution_count": 27
  },
  {
   "cell_type": "markdown",
   "metadata": {},
   "source": [
    "#### tests"
   ]
  },
  {
   "cell_type": "code",
   "metadata": {
    "ExecuteTime": {
     "end_time": "2024-12-07T16:54:56.073210Z",
     "start_time": "2024-12-07T16:54:56.070767Z"
    }
   },
   "source": [
    "def test_q_1():\n",
    "    LOGGER.setLevel(logging.DEBUG)\n",
    "    assert q_1(test_data) ==143\n",
    "    LOGGER.setLevel(logging.INFO)"
   ],
   "outputs": [],
   "execution_count": 28
  },
  {
   "cell_type": "code",
   "metadata": {
    "ExecuteTime": {
     "end_time": "2024-12-07T16:54:56.247531Z",
     "start_time": "2024-12-07T16:54:56.245139Z"
    }
   },
   "source": [
    "test_q_1()"
   ],
   "outputs": [],
   "execution_count": 29
  },
  {
   "cell_type": "markdown",
   "metadata": {},
   "source": [
    "#### answer"
   ]
  },
  {
   "cell_type": "code",
   "metadata": {
    "ExecuteTime": {
     "end_time": "2024-12-07T16:54:57.378390Z",
     "start_time": "2024-12-07T16:54:57.370667Z"
    }
   },
   "source": [
    "q_1(load_data())"
   ],
   "outputs": [
    {
     "data": {
      "text/plain": [
       "4790"
      ]
     },
     "execution_count": 30,
     "metadata": {},
     "output_type": "execute_result"
    }
   ],
   "execution_count": 30
  },
  {
   "cell_type": "markdown",
   "metadata": {},
   "source": [
    "## part 2\n",
    "\n",
    "### problem statement:"
   ]
  },
  {
   "cell_type": "markdown",
   "metadata": {},
   "source": [
    "#### function def"
   ]
  },
  {
   "metadata": {
    "ExecuteTime": {
     "end_time": "2024-12-07T17:08:52.279146Z",
     "start_time": "2024-12-07T17:08:52.275730Z"
    }
   },
   "cell_type": "code",
   "source": [
    "class Page:\n",
    "    def __init__(self, value: int, order_rules: dict[int, list[int]]):\n",
    "        self.value = value\n",
    "        self.order_rules = order_rules\n",
    "\n",
    "    def __lt__(self, other) -> bool:\n",
    "        a = self.value\n",
    "        b = other.value\n",
    "        return b in self.order_rules.get(a, [])\n",
    "\n",
    "    def __repr__(self):\n",
    "        return f\"Page({self.value})\""
   ],
   "outputs": [],
   "execution_count": 47
  },
  {
   "metadata": {
    "ExecuteTime": {
     "end_time": "2024-12-07T17:08:52.645074Z",
     "start_time": "2024-12-07T17:08:52.642873Z"
    }
   },
   "cell_type": "code",
   "source": [
    "order_rules, update_pagelists = parse_data(test_data)\n",
    "\n",
    "assert Page(47, order_rules) < Page(53, order_rules)\n",
    "assert not Page(53, order_rules) < Page(47, order_rules)"
   ],
   "outputs": [],
   "execution_count": 48
  },
  {
   "metadata": {
    "ExecuteTime": {
     "end_time": "2024-12-07T17:08:52.969071Z",
     "start_time": "2024-12-07T17:08:52.965234Z"
    }
   },
   "cell_type": "code",
   "source": [
    "def sort_update_pagelist(update_pagelist: list[int], order_rules: dict[int, list[int]]) -> list[int]:\n",
    "    p = [Page(value=_, order_rules=order_rules) for _ in update_pagelist]\n",
    "    p = sorted(p)\n",
    "    return [_.value for _ in p]\n",
    "\n",
    "def is_ordered(update_pagelist: list[int], order_rules: dict[int, list[int]]) -> bool:\n",
    "    return sort_update_pagelist(update_pagelist, order_rules) == update_pagelist\n",
    "\n",
    "order_rules, update_pagelists = parse_data(test_data)\n",
    "assert is_ordered(update_pagelists[0], order_rules)\n",
    "assert is_ordered(update_pagelists[1], order_rules)\n",
    "assert is_ordered(update_pagelists[2], order_rules)\n",
    "assert not is_ordered(update_pagelists[3], order_rules)\n",
    "assert not is_ordered(update_pagelists[4], order_rules)\n",
    "assert not is_ordered(update_pagelists[5], order_rules)"
   ],
   "outputs": [],
   "execution_count": 49
  },
  {
   "cell_type": "code",
   "metadata": {
    "ExecuteTime": {
     "end_time": "2024-12-07T17:10:20.235103Z",
     "start_time": "2024-12-07T17:10:20.223860Z"
    }
   },
   "source": [
    "def q_2(data):\n",
    "    order_rules, update_pagelists = parse_data(data)\n",
    "    return sum([get_middle_page(sort_update_pagelist(update_pagelist=update_pagelist, order_rules=order_rules))\n",
    "                for update_pagelist in update_pagelists\n",
    "                if not is_ordered(update_pagelist=update_pagelist, order_rules=order_rules)])"
   ],
   "outputs": [],
   "execution_count": 50
  },
  {
   "cell_type": "markdown",
   "metadata": {},
   "source": [
    "#### tests"
   ]
  },
  {
   "cell_type": "code",
   "metadata": {
    "ExecuteTime": {
     "end_time": "2024-12-07T17:10:36.073251Z",
     "start_time": "2024-12-07T17:10:36.070617Z"
    }
   },
   "source": [
    "def test_q_2():\n",
    "    LOGGER.setLevel(logging.DEBUG)\n",
    "    assert q_2(test_data) == 123\n",
    "    LOGGER.setLevel(logging.INFO)"
   ],
   "outputs": [],
   "execution_count": 51
  },
  {
   "cell_type": "code",
   "metadata": {
    "scrolled": true,
    "ExecuteTime": {
     "end_time": "2024-12-07T17:10:36.284838Z",
     "start_time": "2024-12-07T17:10:36.282046Z"
    }
   },
   "source": [
    "test_q_2()"
   ],
   "outputs": [],
   "execution_count": 52
  },
  {
   "cell_type": "markdown",
   "metadata": {},
   "source": [
    "#### answer"
   ]
  },
  {
   "cell_type": "code",
   "metadata": {
    "scrolled": true,
    "ExecuteTime": {
     "end_time": "2024-12-07T17:10:37.356785Z",
     "start_time": "2024-12-07T17:10:37.346039Z"
    }
   },
   "source": [
    "q_2(load_data())"
   ],
   "outputs": [
    {
     "data": {
      "text/plain": [
       "6319"
      ]
     },
     "execution_count": 53,
     "metadata": {},
     "output_type": "execute_result"
    }
   ],
   "execution_count": 53
  },
  {
   "cell_type": "markdown",
   "metadata": {},
   "source": [
    "fin"
   ]
  }
 ],
 "metadata": {
  "kernelspec": {
   "display_name": "Python 3",
   "language": "python",
   "name": "python3"
  },
  "language_info": {
   "codemirror_mode": {
    "name": "ipython",
    "version": 3
   },
   "file_extension": ".py",
   "mimetype": "text/x-python",
   "name": "python",
   "nbconvert_exporter": "python",
   "pygments_lexer": "ipython3",
   "version": "3.7.3"
  },
  "toc": {
   "base_numbering": 1,
   "nav_menu": {},
   "number_sections": true,
   "sideBar": true,
   "skip_h1_title": false,
   "title_cell": "Table of Contents",
   "title_sidebar": "Contents",
   "toc_cell": false,
   "toc_position": {},
   "toc_section_display": true,
   "toc_window_display": false
  }
 },
 "nbformat": 4,
 "nbformat_minor": 2
}
