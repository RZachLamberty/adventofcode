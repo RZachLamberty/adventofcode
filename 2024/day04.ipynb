{
 "cells": [
  {
   "cell_type": "markdown",
   "metadata": {},
   "source": [
    "# day 4\n",
    "\n",
    "https://adventofcode.com/4/day/4"
   ]
  },
  {
   "cell_type": "code",
   "metadata": {},
   "source": [
    "import logging\n",
    "import logging.config\n",
    "import os\n",
    "\n",
    "import numpy as np\n",
    "import yaml"
   ],
   "outputs": [],
   "execution_count": null
  },
  {
   "cell_type": "code",
   "metadata": {},
   "source": [
    "with open('../logging.yaml') as fp:\n",
    "    logging_config = yaml.load(fp, Loader=yaml.FullLoader)\n",
    "\n",
    "logging.config.dictConfig(logging_config)"
   ],
   "outputs": [],
   "execution_count": null
  },
  {
   "cell_type": "code",
   "metadata": {},
   "source": [
    "FNAME = os.path.join('data', 'day04.txt')\n",
    "\n",
    "LOGGER = logging.getLogger('day04')"
   ],
   "outputs": [],
   "execution_count": null
  },
  {
   "cell_type": "markdown",
   "metadata": {},
   "source": [
    "## part 1\n",
    "\n",
    "### problem statement:"
   ]
  },
  {
   "cell_type": "markdown",
   "metadata": {},
   "source": [
    "#### loading data"
   ]
  },
  {
   "cell_type": "code",
   "metadata": {},
   "source": [
    "test_data = \"\"\"MMMSXXMASM\n",
    "MSAMXMSMSA\n",
    "AMXSXMAAMM\n",
    "MSAMASMSMX\n",
    "XMASAMXAMM\n",
    "XXAMMXXAMA\n",
    "SMSMSASXSS\n",
    "SAXAMASAAA\n",
    "MAMMMXMMMM\n",
    "MXMXAXMASX\"\"\""
   ],
   "outputs": [],
   "execution_count": null
  },
  {
   "cell_type": "code",
   "metadata": {},
   "source": [
    "def load_data(fname=FNAME):\n",
    "    with open(fname) as fp:\n",
    "        return fp.read().strip()"
   ],
   "outputs": [],
   "execution_count": null
  },
  {
   "metadata": {},
   "cell_type": "code",
   "source": [
    "def parse_data(data: str) -> np.ndarray:\n",
    "    return np.array([list(line) for line in data.split('\\n')])\n",
    "\n",
    "parse_data(test_data)"
   ],
   "outputs": [],
   "execution_count": null
  },
  {
   "cell_type": "markdown",
   "metadata": {},
   "source": [
    "#### function def"
   ]
  },
  {
   "metadata": {},
   "cell_type": "code",
   "source": [
    "def num_xmas(data, i, j) -> int:\n",
    "    n = 0\n",
    "    four_sq = data[i: i + 4, j: j + 4]\n",
    "    s_top_side = ''.join(four_sq[0, :])\n",
    "    s_left_side = ''.join(four_sq[:, 0])\n",
    "    s_down_right = ''.join(four_sq.diagonal())\n",
    "    s_down_left = ''.join(four_sq[:,::-1].diagonal())\n",
    "\n",
    "    n = 0\n",
    "    for s in [s_top_side, s_left_side, s_down_right, s_down_left]:\n",
    "        if s in ('XMAS', 'SAMX'):\n",
    "            n += 1\n",
    "    return n"
   ],
   "outputs": [],
   "execution_count": null
  },
  {
   "metadata": {},
   "cell_type": "code",
   "source": [
    "assert num_xmas(parse_data(test_data), 0, 0) == 0\n",
    "assert num_xmas(parse_data(test_data), 0, 4) == 1\n",
    "assert num_xmas(parse_data(test_data), 0, 5) == 1\n",
    "assert num_xmas(parse_data(test_data), 1, 6) == 1\n",
    "assert num_xmas(parse_data(test_data), 3, 6) == 1"
   ],
   "outputs": [],
   "execution_count": null
  },
  {
   "cell_type": "code",
   "metadata": {},
   "source": [
    "def q_1(data):\n",
    "    data = parse_data(data)\n",
    "    return sum([num_xmas(data, i, j) for i in range(data.shape[0]) for j in range(data.shape[1])])"
   ],
   "outputs": [],
   "execution_count": null
  },
  {
   "cell_type": "markdown",
   "metadata": {},
   "source": [
    "#### tests"
   ]
  },
  {
   "cell_type": "code",
   "metadata": {},
   "source": [
    "def test_q_1():\n",
    "    LOGGER.setLevel(logging.DEBUG)\n",
    "    assert q_1(test_data) == 18, f\"{q_1(test_data) = }\"\n",
    "    LOGGER.setLevel(logging.INFO)"
   ],
   "outputs": [],
   "execution_count": null
  },
  {
   "cell_type": "code",
   "metadata": {},
   "source": [
    "test_q_1()"
   ],
   "outputs": [],
   "execution_count": null
  },
  {
   "cell_type": "markdown",
   "metadata": {},
   "source": [
    "#### answer"
   ]
  },
  {
   "cell_type": "code",
   "metadata": {},
   "source": [
    "q_1(load_data())"
   ],
   "outputs": [],
   "execution_count": null
  },
  {
   "cell_type": "markdown",
   "metadata": {},
   "source": [
    "## part 2\n",
    "\n",
    "### problem statement:"
   ]
  },
  {
   "cell_type": "markdown",
   "metadata": {},
   "source": [
    "#### function def"
   ]
  },
  {
   "metadata": {},
   "cell_type": "code",
   "source": [
    "def num_x_mas(data, i, j) -> int:\n",
    "    four_sq = data[i: i + 3, j: j + 3]\n",
    "    s_down_right = ''.join(four_sq.diagonal())\n",
    "    s_down_left = ''.join(four_sq[:,::-1].diagonal())\n",
    "\n",
    "    n = 0\n",
    "    for s in [s_down_right, s_down_left]:\n",
    "        if s in ('MAS', 'SAM'):\n",
    "            n += 1\n",
    "    return int(n == 2)"
   ],
   "outputs": [],
   "execution_count": null
  },
  {
   "metadata": {},
   "cell_type": "code",
   "source": [
    "assert num_x_mas(parse_data(test_data), 0, 0) == 0\n",
    "assert num_x_mas(parse_data(test_data), 0, 1) == 1"
   ],
   "outputs": [],
   "execution_count": null
  },
  {
   "cell_type": "code",
   "metadata": {},
   "source": [
    "def q_2(data):\n",
    "    data = parse_data(data)\n",
    "    return sum([num_x_mas(data, i, j) for i in range(data.shape[0]) for j in range(data.shape[1])])"
   ],
   "outputs": [],
   "execution_count": null
  },
  {
   "cell_type": "markdown",
   "metadata": {},
   "source": [
    "#### tests"
   ]
  },
  {
   "cell_type": "code",
   "metadata": {},
   "source": [
    "def test_q_2():\n",
    "    LOGGER.setLevel(logging.DEBUG)\n",
    "    assert q_2(test_data) == 9\n",
    "    LOGGER.setLevel(logging.INFO)"
   ],
   "outputs": [],
   "execution_count": null
  },
  {
   "cell_type": "code",
   "metadata": {
    "scrolled": true
   },
   "source": [
    "test_q_2()"
   ],
   "outputs": [],
   "execution_count": null
  },
  {
   "cell_type": "markdown",
   "metadata": {},
   "source": [
    "#### answer"
   ]
  },
  {
   "cell_type": "code",
   "metadata": {
    "scrolled": true
   },
   "source": [
    "q_2(load_data())"
   ],
   "outputs": [],
   "execution_count": null
  },
  {
   "cell_type": "markdown",
   "metadata": {},
   "source": [
    "fin"
   ]
  }
 ],
 "metadata": {
  "kernelspec": {
   "display_name": "Python 3",
   "language": "python",
   "name": "python3"
  },
  "language_info": {
   "codemirror_mode": {
    "name": "ipython",
    "version": 3
   },
   "file_extension": ".py",
   "mimetype": "text/x-python",
   "name": "python",
   "nbconvert_exporter": "python",
   "pygments_lexer": "ipython3",
   "version": "3.7.3"
  },
  "toc": {
   "base_numbering": 1,
   "nav_menu": {},
   "number_sections": true,
   "sideBar": true,
   "skip_h1_title": false,
   "title_cell": "Table of Contents",
   "title_sidebar": "Contents",
   "toc_cell": false,
   "toc_position": {},
   "toc_section_display": true,
   "toc_window_display": false
  }
 },
 "nbformat": 4,
 "nbformat_minor": 2
}
