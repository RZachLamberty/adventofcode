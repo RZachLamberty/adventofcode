{
 "cells": [
  {
   "cell_type": "markdown",
   "metadata": {},
   "source": [
    "# day 3\n",
    "\n",
    "https://adventofcode.com/3/day/3"
   ]
  },
  {
   "cell_type": "code",
   "metadata": {
    "ExecuteTime": {
     "end_time": "2024-12-07T14:52:51.109490Z",
     "start_time": "2024-12-07T14:52:51.107343Z"
    }
   },
   "source": [
    "import logging\n",
    "import logging.config\n",
    "import os\n",
    "import re\n",
    "from typing import Any, List, Tuple\n",
    "\n",
    "import yaml"
   ],
   "outputs": [],
   "execution_count": 10
  },
  {
   "cell_type": "code",
   "metadata": {
    "ExecuteTime": {
     "end_time": "2024-12-07T14:50:55.325292Z",
     "start_time": "2024-12-07T14:50:55.318375Z"
    }
   },
   "source": [
    "with open('../logging.yaml') as fp:\n",
    "    logging_config = yaml.load(fp, Loader=yaml.FullLoader)\n",
    "\n",
    "logging.config.dictConfig(logging_config)"
   ],
   "outputs": [],
   "execution_count": 2
  },
  {
   "cell_type": "code",
   "metadata": {
    "ExecuteTime": {
     "end_time": "2024-12-07T14:50:55.371001Z",
     "start_time": "2024-12-07T14:50:55.368725Z"
    }
   },
   "source": [
    "FNAME = os.path.join('data', 'day03.txt')\n",
    "\n",
    "LOGGER = logging.getLogger('day03')"
   ],
   "outputs": [],
   "execution_count": 3
  },
  {
   "cell_type": "markdown",
   "metadata": {},
   "source": [
    "## part 1\n",
    "\n",
    "### problem statement:"
   ]
  },
  {
   "cell_type": "markdown",
   "metadata": {},
   "source": [
    "#### loading data"
   ]
  },
  {
   "cell_type": "code",
   "metadata": {
    "ExecuteTime": {
     "end_time": "2024-12-07T14:51:22.756227Z",
     "start_time": "2024-12-07T14:51:22.753576Z"
    }
   },
   "source": "test_data = \"xmul(2,4)%&mul[3,7]!@^do_not_mul(5,5)+mul(32,64]then(mul(11,8)mul(8,5))\"",
   "outputs": [],
   "execution_count": 7
  },
  {
   "cell_type": "code",
   "metadata": {
    "ExecuteTime": {
     "end_time": "2024-12-07T14:51:23.093431Z",
     "start_time": "2024-12-07T14:51:23.091104Z"
    }
   },
   "source": [
    "def load_data(fname=FNAME):\n",
    "    with open(fname) as fp:\n",
    "        return fp.read().strip()"
   ],
   "outputs": [],
   "execution_count": 8
  },
  {
   "metadata": {
    "ExecuteTime": {
     "end_time": "2024-12-07T14:53:45.475034Z",
     "start_time": "2024-12-07T14:53:45.472477Z"
    }
   },
   "cell_type": "code",
   "source": [
    "def extract_commands(s: str) -> list[Any]:\n",
    "    return re.findall(pattern='mul\\(\\d+,\\d+\\)', string=s)"
   ],
   "outputs": [],
   "execution_count": 18
  },
  {
   "metadata": {
    "ExecuteTime": {
     "end_time": "2024-12-07T14:54:35.552686Z",
     "start_time": "2024-12-07T14:54:35.538332Z"
    }
   },
   "cell_type": "code",
   "source": "assert extract_commands(test_data) == ['mul(2,4)', 'mul(5,5)', 'mul(11,8)', 'mul(8,5)']",
   "outputs": [],
   "execution_count": 20
  },
  {
   "metadata": {
    "ExecuteTime": {
     "end_time": "2024-12-07T14:59:53.882508Z",
     "start_time": "2024-12-07T14:59:53.876506Z"
    }
   },
   "cell_type": "code",
   "source": [
    "def execute_mul(s: str) -> int:\n",
    "    a, b = [int(_) for _ in s.replace('mul(', '').replace(')', '').split(',')]\n",
    "    return a * b\n",
    "\n",
    "assert execute_mul('mul(2,4)') == 8\n",
    "assert execute_mul('mul(5,5)') == 25\n",
    "assert execute_mul('mul(11,8)') == 88\n",
    "assert execute_mul('mul(8,5)') == 40"
   ],
   "outputs": [],
   "execution_count": 21
  },
  {
   "cell_type": "markdown",
   "metadata": {},
   "source": [
    "#### function def"
   ]
  },
  {
   "cell_type": "code",
   "metadata": {
    "ExecuteTime": {
     "end_time": "2024-12-07T15:00:09.703544Z",
     "start_time": "2024-12-07T15:00:09.698577Z"
    }
   },
   "source": [
    "def q_1(data):\n",
    "    return sum([execute_mul(s) for s in extract_commands(data)])"
   ],
   "outputs": [],
   "execution_count": 22
  },
  {
   "cell_type": "markdown",
   "metadata": {},
   "source": [
    "#### tests"
   ]
  },
  {
   "cell_type": "code",
   "metadata": {
    "ExecuteTime": {
     "end_time": "2024-12-07T15:00:18.440891Z",
     "start_time": "2024-12-07T15:00:18.438270Z"
    }
   },
   "source": [
    "def test_q_1():\n",
    "    LOGGER.setLevel(logging.DEBUG)\n",
    "    assert q_1(test_data) ==161\n",
    "    LOGGER.setLevel(logging.INFO)"
   ],
   "outputs": [],
   "execution_count": 23
  },
  {
   "cell_type": "code",
   "metadata": {
    "ExecuteTime": {
     "end_time": "2024-12-07T15:00:18.805986Z",
     "start_time": "2024-12-07T15:00:18.803066Z"
    }
   },
   "source": [
    "test_q_1()"
   ],
   "outputs": [],
   "execution_count": 24
  },
  {
   "cell_type": "markdown",
   "metadata": {},
   "source": [
    "#### answer"
   ]
  },
  {
   "cell_type": "code",
   "metadata": {
    "ExecuteTime": {
     "end_time": "2024-12-07T15:00:19.615700Z",
     "start_time": "2024-12-07T15:00:19.609291Z"
    }
   },
   "source": [
    "q_1(load_data())"
   ],
   "outputs": [
    {
     "data": {
      "text/plain": [
       "178538786"
      ]
     },
     "execution_count": 25,
     "metadata": {},
     "output_type": "execute_result"
    }
   ],
   "execution_count": 25
  },
  {
   "cell_type": "markdown",
   "metadata": {},
   "source": [
    "## part 2\n",
    "\n",
    "### problem statement:"
   ]
  },
  {
   "metadata": {
    "ExecuteTime": {
     "end_time": "2024-12-07T15:02:39.161137Z",
     "start_time": "2024-12-07T15:02:39.158295Z"
    }
   },
   "cell_type": "code",
   "source": "test_data = \"xmul(2,4)&mul[3,7]!^don't()_mul(5,5)+mul(32,64](mul(11,8)undo()?mul(8,5))\"",
   "outputs": [],
   "execution_count": 27
  },
  {
   "metadata": {
    "ExecuteTime": {
     "end_time": "2024-12-07T15:04:55.181919Z",
     "start_time": "2024-12-07T15:04:55.179577Z"
    }
   },
   "cell_type": "code",
   "source": [
    "def extract_commands(s: str) -> list[Any]:\n",
    "    return re.findall(pattern='(?:mul\\(\\d+,\\d+\\)|do\\(\\)|don\\'t\\(\\))', string=s)"
   ],
   "outputs": [],
   "execution_count": 33
  },
  {
   "metadata": {
    "ExecuteTime": {
     "end_time": "2024-12-07T15:05:21.003923Z",
     "start_time": "2024-12-07T15:05:21.000394Z"
    }
   },
   "cell_type": "code",
   "source": "assert extract_commands(test_data) == ['mul(2,4)', \"don't()\", 'mul(5,5)', 'mul(11,8)', 'do()', 'mul(8,5)']",
   "outputs": [],
   "execution_count": 35
  },
  {
   "cell_type": "markdown",
   "metadata": {},
   "source": [
    "#### function def"
   ]
  },
  {
   "cell_type": "code",
   "metadata": {
    "ExecuteTime": {
     "end_time": "2024-12-07T15:07:11.996983Z",
     "start_time": "2024-12-07T15:07:11.982776Z"
    }
   },
   "source": [
    "def q_2(data):\n",
    "    acc = 0\n",
    "    do_mul = True\n",
    "    for cmd in extract_commands(data):\n",
    "        if cmd == \"don't()\":\n",
    "            do_mul = False\n",
    "        elif cmd == 'do()':\n",
    "            do_mul = True\n",
    "        elif do_mul:\n",
    "            acc += execute_mul(cmd)\n",
    "    return acc"
   ],
   "outputs": [],
   "execution_count": 36
  },
  {
   "cell_type": "markdown",
   "metadata": {},
   "source": [
    "#### tests"
   ]
  },
  {
   "cell_type": "code",
   "metadata": {
    "ExecuteTime": {
     "end_time": "2024-12-07T15:07:22.319724Z",
     "start_time": "2024-12-07T15:07:22.315549Z"
    }
   },
   "source": [
    "def test_q_2():\n",
    "    LOGGER.setLevel(logging.DEBUG)\n",
    "    assert q_2(test_data) == 48\n",
    "    LOGGER.setLevel(logging.INFO)"
   ],
   "outputs": [],
   "execution_count": 39
  },
  {
   "cell_type": "code",
   "metadata": {
    "scrolled": true,
    "ExecuteTime": {
     "end_time": "2024-12-07T15:07:22.471609Z",
     "start_time": "2024-12-07T15:07:22.466806Z"
    }
   },
   "source": [
    "test_q_2()"
   ],
   "outputs": [],
   "execution_count": 40
  },
  {
   "cell_type": "markdown",
   "metadata": {},
   "source": [
    "#### answer"
   ]
  },
  {
   "cell_type": "code",
   "metadata": {
    "scrolled": true,
    "ExecuteTime": {
     "end_time": "2024-12-07T15:07:23.644535Z",
     "start_time": "2024-12-07T15:07:23.635113Z"
    }
   },
   "source": [
    "q_2(load_data())"
   ],
   "outputs": [
    {
     "data": {
      "text/plain": [
       "102467299"
      ]
     },
     "execution_count": 41,
     "metadata": {},
     "output_type": "execute_result"
    }
   ],
   "execution_count": 41
  },
  {
   "cell_type": "markdown",
   "metadata": {},
   "source": [
    "fin"
   ]
  }
 ],
 "metadata": {
  "kernelspec": {
   "display_name": "Python 3",
   "language": "python",
   "name": "python3"
  },
  "language_info": {
   "codemirror_mode": {
    "name": "ipython",
    "version": 3
   },
   "file_extension": ".py",
   "mimetype": "text/x-python",
   "name": "python",
   "nbconvert_exporter": "python",
   "pygments_lexer": "ipython3",
   "version": "3.7.3"
  },
  "toc": {
   "base_numbering": 1,
   "nav_menu": {},
   "number_sections": true,
   "sideBar": true,
   "skip_h1_title": false,
   "title_cell": "Table of Contents",
   "title_sidebar": "Contents",
   "toc_cell": false,
   "toc_position": {},
   "toc_section_display": true,
   "toc_window_display": false
  }
 },
 "nbformat": 4,
 "nbformat_minor": 2
}
