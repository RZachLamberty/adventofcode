{
 "cells": [
  {
   "cell_type": "markdown",
   "metadata": {},
   "source": [
    "# day 7\n",
    "\n",
    "https://adventofcode.com/7/day/7"
   ]
  },
  {
   "cell_type": "code",
   "metadata": {},
   "source": [
    "import logging\n",
    "import logging.config\n",
    "import os\n",
    "\n",
    "import yaml"
   ],
   "outputs": [],
   "execution_count": null
  },
  {
   "cell_type": "code",
   "metadata": {},
   "source": [
    "with open('../logging.yaml') as fp:\n",
    "    logging_config = yaml.load(fp, Loader=yaml.FullLoader)\n",
    "\n",
    "logging.config.dictConfig(logging_config)"
   ],
   "outputs": [],
   "execution_count": null
  },
  {
   "cell_type": "code",
   "metadata": {},
   "source": [
    "FNAME = os.path.join('data', 'day07.txt')\n",
    "\n",
    "LOGGER = logging.getLogger('day07')"
   ],
   "outputs": [],
   "execution_count": null
  },
  {
   "cell_type": "markdown",
   "metadata": {},
   "source": [
    "## part 1\n",
    "\n",
    "### problem statement:"
   ]
  },
  {
   "cell_type": "markdown",
   "metadata": {},
   "source": [
    "#### loading data"
   ]
  },
  {
   "cell_type": "code",
   "metadata": {},
   "source": [
    "test_data = \"\"\"190: 10 19\n",
    "3267: 81 40 27\n",
    "83: 17 5\n",
    "156: 15 6\n",
    "7290: 6 8 6 15\n",
    "161011: 16 10 13\n",
    "192: 17 8 14\n",
    "21037: 9 7 18 13\n",
    "292: 11 6 16 20\"\"\""
   ],
   "outputs": [],
   "execution_count": null
  },
  {
   "cell_type": "code",
   "metadata": {},
   "source": [
    "def load_data(fname=FNAME):\n",
    "    with open(fname) as fp:\n",
    "        return fp.read().strip()"
   ],
   "outputs": [],
   "execution_count": null
  },
  {
   "metadata": {},
   "cell_type": "code",
   "source": [
    "def parse_data(s: str):\n",
    "    equations = []\n",
    "    for line in s.strip().split('\\n'):\n",
    "        test_val, inputs = line.strip().split(': ')\n",
    "        test_val = int(test_val)\n",
    "        inputs = tuple([int(_) for _ in inputs.split(' ')])\n",
    "        equations.append({'test_val': test_val, 'inputs': inputs})\n",
    "    return equations"
   ],
   "outputs": [],
   "execution_count": null
  },
  {
   "metadata": {},
   "cell_type": "code",
   "source": "parse_data(test_data)",
   "outputs": [],
   "execution_count": null
  },
  {
   "metadata": {},
   "cell_type": "code",
   "source": [
    "from enum import Enum\n",
    "\n",
    "\n",
    "class Operators(Enum):\n",
    "    ADD = 'add'\n",
    "    MUL = 'mul'"
   ],
   "outputs": [],
   "execution_count": null
  },
  {
   "metadata": {},
   "cell_type": "code",
   "source": "# sum([2 ** len(d['inputs']) for d in parse_data(load_data())])",
   "outputs": [],
   "execution_count": null
  },
  {
   "metadata": {},
   "cell_type": "code",
   "source": [
    "from functools import lru_cache\n",
    "\n",
    "@lru_cache\n",
    "def eqn_exists(test_val: int, inputs: tuple[int, ...]) -> bool:\n",
    "    *head, tail = inputs\n",
    "\n",
    "    if not head:\n",
    "        return test_val == tail\n",
    "\n",
    "    return any([eqn_exists(test_val=test_val / tail, inputs=tuple(head)),\n",
    "                eqn_exists(test_val=test_val - tail, inputs=tuple(head))])"
   ],
   "outputs": [],
   "execution_count": null
  },
  {
   "metadata": {},
   "cell_type": "code",
   "source": [
    "assert eqn_exists(test_val=190, inputs=(10, 19))\n",
    "assert eqn_exists(test_val=3267, inputs=(81, 40, 27))\n",
    "assert not eqn_exists(test_val=83, inputs=(17, 5))\n",
    "assert not eqn_exists(test_val=156, inputs=(15, 6))\n",
    "assert not eqn_exists(test_val=7290, inputs=(6, 8, 6, 15))\n",
    "assert not eqn_exists(test_val=161011, inputs=(16, 10, 13))\n",
    "assert not eqn_exists(test_val=192, inputs=(17, 8, 14))\n",
    "assert not eqn_exists(test_val=21037, inputs=(9, 7, 18, 13))\n",
    "assert eqn_exists(test_val=292, inputs=(11, 6, 16, 20))"
   ],
   "outputs": [],
   "execution_count": null
  },
  {
   "cell_type": "markdown",
   "metadata": {},
   "source": [
    "#### function def"
   ]
  },
  {
   "cell_type": "code",
   "metadata": {},
   "source": [
    "def q_1(data):\n",
    "    equations = parse_data(data)\n",
    "    return sum([d['test_val'] for d in equations if eqn_exists(**d)])"
   ],
   "outputs": [],
   "execution_count": null
  },
  {
   "cell_type": "markdown",
   "metadata": {},
   "source": [
    "#### tests"
   ]
  },
  {
   "cell_type": "code",
   "metadata": {},
   "source": [
    "def test_q_1():\n",
    "    LOGGER.setLevel(logging.DEBUG)\n",
    "    assert q_1(test_data) == 3749\n",
    "    LOGGER.setLevel(logging.INFO)"
   ],
   "outputs": [],
   "execution_count": null
  },
  {
   "cell_type": "code",
   "metadata": {},
   "source": [
    "test_q_1()"
   ],
   "outputs": [],
   "execution_count": null
  },
  {
   "cell_type": "markdown",
   "metadata": {},
   "source": [
    "#### answer"
   ]
  },
  {
   "cell_type": "code",
   "metadata": {},
   "source": [
    "q_1(load_data())"
   ],
   "outputs": [],
   "execution_count": null
  },
  {
   "cell_type": "markdown",
   "metadata": {},
   "source": [
    "## part 2\n",
    "\n",
    "### problem statement:"
   ]
  },
  {
   "cell_type": "markdown",
   "metadata": {},
   "source": [
    "#### function def"
   ]
  },
  {
   "metadata": {},
   "cell_type": "code",
   "source": [
    "from functools import lru_cache\n",
    "\n",
    "@lru_cache\n",
    "def eqn_exists(test_val: int, inputs: tuple[int, ...]) -> bool:\n",
    "    if test_val <= 0:\n",
    "        return False\n",
    "\n",
    "    *head, tail = inputs\n",
    "    if not head:\n",
    "        return test_val == tail\n",
    "\n",
    "    sub_eqs_params = [{'test_val': test_val / tail, 'inputs': tuple(head)},\n",
    "                      {'test_val': test_val - tail, 'inputs': tuple(head)},]\n",
    "\n",
    "    # concatenation is possible when tail is the last  n digits in the current test_val\n",
    "    # AND also only possible when the current value is an exact integer\n",
    "    int_test_val = int(test_val)\n",
    "    test_val_is_int = int_test_val == test_val\n",
    "    if test_val_is_int and str(int_test_val).endswith(str(tail)):\n",
    "        remainder = str(int_test_val)[:-len(str(tail))]\n",
    "        if remainder != '':\n",
    "            remainder = int(remainder)\n",
    "            sub_eqs_params.append({'test_val': remainder, 'inputs': tuple(head)})\n",
    "\n",
    "    return any([eqn_exists(**d) for d in sub_eqs_params])\n",
    "\n",
    "# assert eqn_exists(test_val=7290, inputs=(6, 8, 6, 15))\n",
    "# assert not eqn_exists(test_val=21037, inputs=(9, 7, 18, 13))\n",
    "# assert not eqn_exists(test_val=1, inputs=(2, 1))"
   ],
   "outputs": [],
   "execution_count": null
  },
  {
   "metadata": {},
   "cell_type": "code",
   "source": [
    "assert eqn_exists(test_val=190, inputs=(10, 19))\n",
    "assert eqn_exists(test_val=3267, inputs=(81, 40, 27))\n",
    "assert not eqn_exists(test_val=83, inputs=(17, 5))\n",
    "assert eqn_exists(test_val=156, inputs=(15, 6))\n",
    "assert eqn_exists(test_val=7290, inputs=(6, 8, 6, 15))\n",
    "assert not eqn_exists(test_val=161011, inputs=(16, 10, 13))\n",
    "assert eqn_exists(test_val=192, inputs=(17, 8, 14))\n",
    "assert not eqn_exists(test_val=21037, inputs=(9, 7, 18, 13))\n",
    "assert eqn_exists(test_val=292, inputs=(11, 6, 16, 20))\n",
    "assert not eqn_exists(test_val=1, inputs=(2, 1))"
   ],
   "outputs": [],
   "execution_count": null
  },
  {
   "cell_type": "code",
   "metadata": {},
   "source": [
    "def q_2(data):\n",
    "    equations = parse_data(data)\n",
    "    return sum([d['test_val'] for d in equations if eqn_exists(**d)])"
   ],
   "outputs": [],
   "execution_count": null
  },
  {
   "cell_type": "markdown",
   "metadata": {},
   "source": [
    "#### tests"
   ]
  },
  {
   "cell_type": "code",
   "metadata": {},
   "source": [
    "def test_q_2():\n",
    "    LOGGER.setLevel(logging.DEBUG)\n",
    "    assert q_2(test_data) == 11387\n",
    "    LOGGER.setLevel(logging.INFO)"
   ],
   "outputs": [],
   "execution_count": null
  },
  {
   "cell_type": "code",
   "metadata": {
    "scrolled": true
   },
   "source": [
    "test_q_2()"
   ],
   "outputs": [],
   "execution_count": null
  },
  {
   "cell_type": "markdown",
   "metadata": {},
   "source": [
    "#### answer"
   ]
  },
  {
   "cell_type": "code",
   "metadata": {
    "scrolled": true
   },
   "source": [
    "q_2(load_data())"
   ],
   "outputs": [],
   "execution_count": null
  },
  {
   "cell_type": "markdown",
   "metadata": {},
   "source": [
    "fin"
   ]
  }
 ],
 "metadata": {
  "kernelspec": {
   "display_name": "Python 3",
   "language": "python",
   "name": "python3"
  },
  "language_info": {
   "codemirror_mode": {
    "name": "ipython",
    "version": 3
   },
   "file_extension": ".py",
   "mimetype": "text/x-python",
   "name": "python",
   "nbconvert_exporter": "python",
   "pygments_lexer": "ipython3",
   "version": "3.7.3"
  },
  "toc": {
   "base_numbering": 1,
   "nav_menu": {},
   "number_sections": true,
   "sideBar": true,
   "skip_h1_title": false,
   "title_cell": "Table of Contents",
   "title_sidebar": "Contents",
   "toc_cell": false,
   "toc_position": {},
   "toc_section_display": true,
   "toc_window_display": false
  }
 },
 "nbformat": 4,
 "nbformat_minor": 2
}
