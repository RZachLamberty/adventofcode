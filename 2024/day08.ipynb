{
 "cells": [
  {
   "cell_type": "markdown",
   "metadata": {},
   "source": [
    "# day 8\n",
    "\n",
    "https://adventofcode.com/8/day/8"
   ]
  },
  {
   "cell_type": "code",
   "metadata": {},
   "source": [
    "import itertools\n",
    "import logging\n",
    "import logging.config\n",
    "import os\n",
    "\n",
    "import yaml"
   ],
   "outputs": [],
   "execution_count": null
  },
  {
   "cell_type": "code",
   "metadata": {},
   "source": [
    "with open('../logging.yaml') as fp:\n",
    "    logging_config = yaml.load(fp, Loader=yaml.FullLoader)\n",
    "\n",
    "logging.config.dictConfig(logging_config)"
   ],
   "outputs": [],
   "execution_count": null
  },
  {
   "cell_type": "code",
   "metadata": {},
   "source": [
    "FNAME = os.path.join('data', 'day08.txt')\n",
    "\n",
    "LOGGER = logging.getLogger('day08')"
   ],
   "outputs": [],
   "execution_count": null
  },
  {
   "cell_type": "markdown",
   "metadata": {},
   "source": [
    "## part 1\n",
    "\n",
    "### problem statement:"
   ]
  },
  {
   "cell_type": "markdown",
   "metadata": {},
   "source": [
    "#### loading data"
   ]
  },
  {
   "cell_type": "code",
   "metadata": {},
   "source": [
    "test_data = \"\"\"............\n",
    "........0...\n",
    ".....0......\n",
    ".......0....\n",
    "....0.......\n",
    "......A.....\n",
    "............\n",
    "............\n",
    "........A...\n",
    ".........A..\n",
    "............\n",
    "............\"\"\""
   ],
   "outputs": [],
   "execution_count": null
  },
  {
   "cell_type": "code",
   "metadata": {},
   "source": [
    "def load_data(fname=FNAME):\n",
    "    with open(fname) as fp:\n",
    "        return fp.read().strip()"
   ],
   "outputs": [],
   "execution_count": null
  },
  {
   "metadata": {},
   "cell_type": "code",
   "source": [
    "def parse_data(s: str):\n",
    "    return {j + i * 1j: c\n",
    "            for (i, line) in enumerate(s.strip().split('\\n'))\n",
    "            for (j, c) in enumerate(line)}"
   ],
   "outputs": [],
   "execution_count": null
  },
  {
   "cell_type": "markdown",
   "metadata": {},
   "source": [
    "#### function def"
   ]
  },
  {
   "metadata": {},
   "cell_type": "code",
   "source": [
    "def build_char_map(d: dict[complex, str]) -> dict[str, list[complex]]:\n",
    "    cm = {}\n",
    "    for (loc, c) in d.items():\n",
    "        if c != '.':\n",
    "            if c not in cm:\n",
    "                cm[c] = []\n",
    "            cm[c].append(loc)\n",
    "    return cm"
   ],
   "outputs": [],
   "execution_count": null
  },
  {
   "cell_type": "code",
   "metadata": {},
   "source": [
    "def q_1(data):\n",
    "    m = parse_data(data)\n",
    "    cm = build_char_map(m)\n",
    "    i_max = max(c.imag for c in m)\n",
    "    j_max = max(c.real for c in m)\n",
    "\n",
    "    antinodes = set()\n",
    "    for char, locs in cm.items():\n",
    "        for loc_a, loc_b in itertools.combinations(locs, 2):\n",
    "            antinode_ab = 2 * loc_a - loc_b\n",
    "            antinode_ba = 2 * loc_b - loc_a\n",
    "            for an in [antinode_ab, antinode_ba]:\n",
    "                if (0 <= an.imag <= i_max) and (0 <= an.real <= j_max):\n",
    "                    antinodes.add(an)\n",
    "\n",
    "    return len(antinodes)"
   ],
   "outputs": [],
   "execution_count": null
  },
  {
   "cell_type": "markdown",
   "metadata": {},
   "source": [
    "#### tests"
   ]
  },
  {
   "cell_type": "code",
   "metadata": {},
   "source": [
    "def test_q_1():\n",
    "    LOGGER.setLevel(logging.DEBUG)\n",
    "    assert q_1(test_data) == 14\n",
    "    LOGGER.setLevel(logging.INFO)"
   ],
   "outputs": [],
   "execution_count": null
  },
  {
   "cell_type": "code",
   "metadata": {},
   "source": [
    "test_q_1()"
   ],
   "outputs": [],
   "execution_count": null
  },
  {
   "cell_type": "markdown",
   "metadata": {},
   "source": [
    "#### answer"
   ]
  },
  {
   "cell_type": "code",
   "metadata": {},
   "source": [
    "q_1(load_data())"
   ],
   "outputs": [],
   "execution_count": null
  },
  {
   "cell_type": "markdown",
   "metadata": {},
   "source": [
    "## part 2\n",
    "\n",
    "### problem statement:"
   ]
  },
  {
   "cell_type": "markdown",
   "metadata": {},
   "source": [
    "#### function def"
   ]
  },
  {
   "metadata": {},
   "cell_type": "code",
   "source": [
    "from fractions import Fraction\n",
    "\n",
    "def resolve_antinode_step_size(loc_a: complex, loc_b: complex) -> complex:\n",
    "    rise = loc_b.imag - loc_a.imag\n",
    "    run = loc_b.real - loc_a.real\n",
    "    slope = Fraction(int(rise), int(run))\n",
    "    return slope.denominator + slope.numerator * 1j\n",
    "\n",
    "assert resolve_antinode_step_size(0, 1 + 1j) == 1 + 1j\n",
    "assert resolve_antinode_step_size(0, 1 + 2j) == 1 + 2j\n",
    "assert resolve_antinode_step_size(0, 2 + 4j) == 1 + 2j\n",
    "assert resolve_antinode_step_size(1 - 1j, 2 + 4j) == 1 + 5j\n",
    "assert resolve_antinode_step_size(1 - 1j, 3 + 5j) == 1 + 3j\n",
    "assert resolve_antinode_step_size(0, 3 + 1j) == 3 + 1j"
   ],
   "outputs": [],
   "execution_count": null
  },
  {
   "metadata": {},
   "cell_type": "code",
   "source": [
    "def is_in_range(z: complex, i_max: int, j_max: int) -> bool:\n",
    "    return (0 <= z.imag <= i_max) and (0 <= z.real <= j_max)"
   ],
   "outputs": [],
   "execution_count": null
  },
  {
   "cell_type": "code",
   "metadata": {},
   "source": [
    "def q_2(data):\n",
    "    m = parse_data(data)\n",
    "    cm = build_char_map(m)\n",
    "    i_max = max(c.imag for c in m)\n",
    "    j_max = max(c.real for c in m)\n",
    "\n",
    "    antinodes = set()\n",
    "    for char, locs in cm.items():\n",
    "        for loc_a, loc_b in itertools.combinations(locs, 2):\n",
    "            # LOGGER.info(f\"{loc_a = }, {loc_b = }\")\n",
    "            # start at a, walk step sizes towards and then away from b until you leave the grid\n",
    "            step = resolve_antinode_step_size(loc_a, loc_b)\n",
    "            # LOGGER.info(f\"{step = }\")\n",
    "            for dir_mod in [1, -1]:\n",
    "                # LOGGER.info(f\"{dir_mod = }\")\n",
    "                z = loc_a\n",
    "                antinodes.add(z)\n",
    "                # LOGGER.debug(f\"{z = }\")\n",
    "                while True:\n",
    "                    z += dir_mod * step\n",
    "                    # LOGGER.debug(f\"{z = } after step\")\n",
    "                    if is_in_range(z, i_max, j_max):\n",
    "                        antinodes.add(z)\n",
    "                        # LOGGER.debug(antinodes)\n",
    "                    else:\n",
    "                        break\n",
    "\n",
    "    return len(antinodes)"
   ],
   "outputs": [],
   "execution_count": null
  },
  {
   "cell_type": "markdown",
   "metadata": {},
   "source": [
    "#### tests"
   ]
  },
  {
   "metadata": {},
   "cell_type": "code",
   "source": [
    "new_test_data = \"\"\"T.........\n",
    "...T......\n",
    ".T........\n",
    "..........\n",
    "..........\n",
    "..........\n",
    "..........\n",
    "..........\n",
    "..........\n",
    "..........\"\"\"\n",
    "\n",
    "new_test_data_answer = \"\"\"\n",
    "T....#....\n",
    "...T......\n",
    ".T....#...\n",
    ".........#\n",
    "..#.......\n",
    "..........\n",
    "...#......\n",
    "..........\n",
    "....#.....\n",
    "..........\n",
    "\"\"\""
   ],
   "outputs": [],
   "execution_count": null
  },
  {
   "cell_type": "code",
   "metadata": {},
   "source": [
    "def test_q_2():\n",
    "    LOGGER.setLevel(logging.DEBUG)\n",
    "    v = q_2(new_test_data)\n",
    "    assert v == 9, v\n",
    "    v = q_2(test_data)\n",
    "    assert v == 34, v\n",
    "    LOGGER.setLevel(logging.INFO)"
   ],
   "outputs": [],
   "execution_count": null
  },
  {
   "cell_type": "code",
   "metadata": {
    "scrolled": true
   },
   "source": [
    "test_q_2()"
   ],
   "outputs": [],
   "execution_count": null
  },
  {
   "cell_type": "markdown",
   "metadata": {},
   "source": [
    "#### answer"
   ]
  },
  {
   "cell_type": "code",
   "metadata": {
    "scrolled": true
   },
   "source": [
    "q_2(load_data())"
   ],
   "outputs": [],
   "execution_count": null
  },
  {
   "cell_type": "markdown",
   "metadata": {},
   "source": [
    "fin"
   ]
  }
 ],
 "metadata": {
  "kernelspec": {
   "display_name": "Python 3",
   "language": "python",
   "name": "python3"
  },
  "language_info": {
   "codemirror_mode": {
    "name": "ipython",
    "version": 3
   },
   "file_extension": ".py",
   "mimetype": "text/x-python",
   "name": "python",
   "nbconvert_exporter": "python",
   "pygments_lexer": "ipython3",
   "version": "3.7.3"
  },
  "toc": {
   "base_numbering": 1,
   "nav_menu": {},
   "number_sections": true,
   "sideBar": true,
   "skip_h1_title": false,
   "title_cell": "Table of Contents",
   "title_sidebar": "Contents",
   "toc_cell": false,
   "toc_position": {},
   "toc_section_display": true,
   "toc_window_display": false
  }
 },
 "nbformat": 4,
 "nbformat_minor": 2
}
