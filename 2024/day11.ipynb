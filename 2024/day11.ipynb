{
 "cells": [
  {
   "cell_type": "markdown",
   "metadata": {},
   "source": [
    "# day 11\n",
    "\n",
    "https://adventofcode.com/11/day/11"
   ]
  },
  {
   "cell_type": "code",
   "metadata": {},
   "source": [
    "import logging\n",
    "import logging.config\n",
    "import os\n",
    "\n",
    "import yaml"
   ],
   "outputs": [],
   "execution_count": null
  },
  {
   "cell_type": "code",
   "metadata": {},
   "source": [
    "with open('../logging.yaml') as fp:\n",
    "    logging_config = yaml.load(fp, Loader=yaml.FullLoader)\n",
    "\n",
    "logging.config.dictConfig(logging_config)"
   ],
   "outputs": [],
   "execution_count": null
  },
  {
   "cell_type": "code",
   "metadata": {},
   "source": [
    "FNAME = os.path.join('data', 'day11.txt')\n",
    "\n",
    "LOGGER = logging.getLogger('day11')"
   ],
   "outputs": [],
   "execution_count": null
  },
  {
   "cell_type": "markdown",
   "metadata": {},
   "source": [
    "## part 1\n",
    "\n",
    "### problem statement:"
   ]
  },
  {
   "cell_type": "markdown",
   "metadata": {},
   "source": [
    "#### loading data"
   ]
  },
  {
   "cell_type": "code",
   "metadata": {},
   "source": "test_data = \"125 17\"",
   "outputs": [],
   "execution_count": null
  },
  {
   "cell_type": "code",
   "metadata": {},
   "source": [
    "def load_data(fname=FNAME):\n",
    "    with open(fname) as fp:\n",
    "        return fp.read().strip()"
   ],
   "outputs": [],
   "execution_count": null
  },
  {
   "metadata": {},
   "cell_type": "code",
   "source": [
    "def parse_data(data: str) -> list[int]:\n",
    "    return [int(_) for _ in data.strip().split(' ')]"
   ],
   "outputs": [],
   "execution_count": null
  },
  {
   "cell_type": "markdown",
   "metadata": {},
   "source": [
    "#### function def"
   ]
  },
  {
   "metadata": {},
   "cell_type": "code",
   "source": [
    "def take_step(stones: list[int]) -> list[int]:\n",
    "    new_stones = []\n",
    "    for stone in stones:\n",
    "        s = str(stone)\n",
    "        L = len(s)\n",
    "        if stone == 0:\n",
    "            new_stones.append(1)\n",
    "        elif L % 2 == 0:\n",
    "            new_stones += [int(s[:L // 2]), int(s[L // 2:])]\n",
    "        else:\n",
    "            new_stones.append(2024 * stone)\n",
    "\n",
    "    return new_stones\n",
    "\n",
    "assert take_step(parse_data('0 1 10 99 999')) == parse_data('1 2024 1 0 9 9 2021976')"
   ],
   "outputs": [],
   "execution_count": null
  },
  {
   "metadata": {},
   "cell_type": "code",
   "source": [
    "stones = parse_data(test_data)\n",
    "stones = take_step(stones)\n",
    "assert stones == parse_data('253000 1 7')\n",
    "stones = take_step(stones)\n",
    "assert stones == parse_data('253 0 2024 14168')\n",
    "stones = take_step(stones)\n",
    "assert stones == parse_data('512072 1 20 24 28676032')\n",
    "stones = take_step(stones)\n",
    "assert stones == parse_data('512 72 2024 2 0 2 4 2867 6032')\n",
    "stones = take_step(stones)\n",
    "assert stones == parse_data('1036288 7 2 20 24 4048 1 4048 8096 28 67 60 32')\n",
    "stones = take_step(stones)\n",
    "assert stones == parse_data('2097446912 14168 4048 2 0 2 4 40 48 2024 40 48 80 96 2 8 6 7 6 0 3 2')"
   ],
   "outputs": [],
   "execution_count": null
  },
  {
   "cell_type": "code",
   "metadata": {},
   "source": [
    "def q_1(data, num_steps: int = 25):\n",
    "    stones = parse_data(data)\n",
    "    for i in range(num_steps):\n",
    "        stones = take_step(stones)\n",
    "        if i % 5 == 0:\n",
    "            LOGGER.info(f\"{i = }, {len(stones) = :,}\")\n",
    "    return len(stones)"
   ],
   "outputs": [],
   "execution_count": null
  },
  {
   "cell_type": "markdown",
   "metadata": {},
   "source": [
    "#### tests"
   ]
  },
  {
   "cell_type": "code",
   "metadata": {},
   "source": [
    "def test_q_1():\n",
    "    LOGGER.setLevel(logging.DEBUG)\n",
    "    assert q_1(test_data, 6) == 22\n",
    "    assert q_1(test_data, 25) == 55312\n",
    "    LOGGER.setLevel(logging.INFO)"
   ],
   "outputs": [],
   "execution_count": null
  },
  {
   "cell_type": "code",
   "metadata": {},
   "source": [
    "test_q_1()"
   ],
   "outputs": [],
   "execution_count": null
  },
  {
   "cell_type": "markdown",
   "metadata": {},
   "source": [
    "#### answer"
   ]
  },
  {
   "cell_type": "code",
   "metadata": {},
   "source": [
    "q_1(load_data())"
   ],
   "outputs": [],
   "execution_count": null
  },
  {
   "cell_type": "markdown",
   "metadata": {},
   "source": [
    "## part 2\n",
    "\n",
    "### problem statement:"
   ]
  },
  {
   "cell_type": "markdown",
   "metadata": {},
   "source": [
    "#### function def"
   ]
  },
  {
   "metadata": {},
   "cell_type": "code",
   "source": [
    "from functools import cache\n",
    "\n",
    "@cache\n",
    "def count_stones(stone0: int, num_steps: int = 75):\n",
    "    if num_steps == 0:\n",
    "        return 1\n",
    "    if stone0 == 0:\n",
    "        # turns into a 1\n",
    "        return count_stones(stone0=1, num_steps=num_steps - 1)\n",
    "    # do we split?\n",
    "    s = str(stone0)\n",
    "    L = len(s)\n",
    "    if L % 2 == 0:\n",
    "        stone1_a, stone1_b = int(s[:L // 2]), int(s[L // 2:])\n",
    "        return (count_stones(stone0=stone1_a, num_steps=num_steps - 1)\n",
    "                + count_stones(stone0=stone1_b, num_steps=num_steps - 1))\n",
    "\n",
    "    # if none of those happened, mult by 2024 and move on\n",
    "    return count_stones(stone0=2024 * stone0, num_steps = num_steps - 1)"
   ],
   "outputs": [],
   "execution_count": null
  },
  {
   "cell_type": "code",
   "metadata": {},
   "source": [
    "def q_2(data, num_steps: int = 75):\n",
    "    return sum(count_stones(stone, num_steps=num_steps) for stone in parse_data(data))"
   ],
   "outputs": [],
   "execution_count": null
  },
  {
   "cell_type": "markdown",
   "metadata": {},
   "source": [
    "#### tests"
   ]
  },
  {
   "cell_type": "code",
   "metadata": {},
   "source": [
    "def test_q_2():\n",
    "    LOGGER.setLevel(logging.DEBUG)\n",
    "    assert q_2(test_data, 1) == 3\n",
    "    assert q_2(test_data, 2) == 4\n",
    "    assert q_2(test_data, 3) == 5\n",
    "    assert q_2(test_data, 4) == 9\n",
    "    assert q_2(test_data, 5) == 13\n",
    "    assert q_2(test_data, 6) == 22\n",
    "    assert q_2(test_data, 25) == 55312\n",
    "    LOGGER.setLevel(logging.INFO)"
   ],
   "outputs": [],
   "execution_count": null
  },
  {
   "cell_type": "code",
   "metadata": {
    "scrolled": true
   },
   "source": "test_q_2()",
   "outputs": [],
   "execution_count": null
  },
  {
   "cell_type": "markdown",
   "metadata": {},
   "source": [
    "#### answer"
   ]
  },
  {
   "cell_type": "code",
   "metadata": {
    "scrolled": true
   },
   "source": [
    "q_2(load_data())"
   ],
   "outputs": [],
   "execution_count": null
  },
  {
   "cell_type": "markdown",
   "metadata": {},
   "source": [
    "fin"
   ]
  }
 ],
 "metadata": {
  "kernelspec": {
   "display_name": "Python 3",
   "language": "python",
   "name": "python3"
  },
  "language_info": {
   "codemirror_mode": {
    "name": "ipython",
    "version": 3
   },
   "file_extension": ".py",
   "mimetype": "text/x-python",
   "name": "python",
   "nbconvert_exporter": "python",
   "pygments_lexer": "ipython3",
   "version": "3.7.3"
  },
  "toc": {
   "base_numbering": 1,
   "nav_menu": {},
   "number_sections": true,
   "sideBar": true,
   "skip_h1_title": false,
   "title_cell": "Table of Contents",
   "title_sidebar": "Contents",
   "toc_cell": false,
   "toc_position": {},
   "toc_section_display": true,
   "toc_window_display": false
  }
 },
 "nbformat": 4,
 "nbformat_minor": 2
}
