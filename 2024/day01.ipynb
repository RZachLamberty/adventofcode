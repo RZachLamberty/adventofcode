{
 "cells": [
  {
   "cell_type": "markdown",
   "metadata": {},
   "source": [
    "# day 1\n",
    "\n",
    "https://adventofcode.com/1/day/1"
   ]
  },
  {
   "cell_type": "code",
   "metadata": {
    "ExecuteTime": {
     "end_time": "2024-12-02T14:43:47.106168Z",
     "start_time": "2024-12-02T14:43:40.342501Z"
    }
   },
   "source": [
    "import logging\n",
    "import logging.config\n",
    "import os\n",
    "\n",
    "import pandas as pd\n",
    "import yaml"
   ],
   "outputs": [],
   "execution_count": 22
  },
  {
   "cell_type": "code",
   "metadata": {
    "ExecuteTime": {
     "end_time": "2024-12-02T14:43:47.114804Z",
     "start_time": "2024-12-02T14:43:47.110232Z"
    }
   },
   "source": [
    "with open('../logging.yaml') as fp:\n",
    "    logging_config = yaml.load(fp, Loader=yaml.FullLoader)\n",
    "\n",
    "logging.config.dictConfig(logging_config)"
   ],
   "outputs": [],
   "execution_count": 23
  },
  {
   "cell_type": "code",
   "metadata": {
    "ExecuteTime": {
     "end_time": "2024-12-02T14:43:47.122088Z",
     "start_time": "2024-12-02T14:43:47.120233Z"
    }
   },
   "source": [
    "FNAME = os.path.join('data', 'day01.txt')\n",
    "\n",
    "LOGGER = logging.getLogger('day01')"
   ],
   "outputs": [],
   "execution_count": 24
  },
  {
   "cell_type": "markdown",
   "metadata": {},
   "source": [
    "## part 1\n",
    "\n",
    "### problem statement:"
   ]
  },
  {
   "cell_type": "markdown",
   "metadata": {},
   "source": [
    "#### loading data"
   ]
  },
  {
   "cell_type": "code",
   "metadata": {
    "ExecuteTime": {
     "end_time": "2024-12-02T14:44:13.962026Z",
     "start_time": "2024-12-02T14:44:13.955145Z"
    }
   },
   "source": [
    "test_data = pd.DataFrame([[3, 4],\n",
    "                          [4, 3],\n",
    "                          [2, 5],\n",
    "                          [1, 3],\n",
    "                          [3, 9],\n",
    "                          [3, 3]])\n",
    "test_data.columns = ['a', 'b']"
   ],
   "outputs": [],
   "execution_count": 25
  },
  {
   "cell_type": "code",
   "metadata": {
    "ExecuteTime": {
     "end_time": "2024-12-02T14:44:23.473277Z",
     "start_time": "2024-12-02T14:44:23.468994Z"
    }
   },
   "source": [
    "def load_data(fname=FNAME):\n",
    "    d = []\n",
    "    with open(fname) as fp:\n",
    "        for line in fp:\n",
    "            a, *_, b = line.strip().split(' ')\n",
    "            d.append([int(a), int(b)])\n",
    "    return pd.DataFrame(d, columns=['a', 'b'])"
   ],
   "outputs": [],
   "execution_count": 26
  },
  {
   "metadata": {
    "ExecuteTime": {
     "end_time": "2024-12-02T14:44:27.265405Z",
     "start_time": "2024-12-02T14:44:27.262891Z"
    }
   },
   "cell_type": "code",
   "source": "# load_data()",
   "outputs": [],
   "execution_count": 28
  },
  {
   "cell_type": "markdown",
   "metadata": {},
   "source": [
    "#### function def"
   ]
  },
  {
   "cell_type": "code",
   "metadata": {
    "ExecuteTime": {
     "end_time": "2024-12-02T14:46:51.133494Z",
     "start_time": "2024-12-02T14:46:51.117851Z"
    }
   },
   "source": [
    "def q_1(data):\n",
    "    a_sorted = sorted(data.a)\n",
    "    b_sroted = sorted(data.b)\n",
    "    total_distance = sum(abs(a - b) for (a, b) in zip(a_sorted, b_sroted))\n",
    "    return total_distance"
   ],
   "outputs": [],
   "execution_count": 31
  },
  {
   "cell_type": "markdown",
   "metadata": {},
   "source": [
    "#### tests"
   ]
  },
  {
   "cell_type": "code",
   "metadata": {
    "ExecuteTime": {
     "end_time": "2024-12-02T14:46:55.397242Z",
     "start_time": "2024-12-02T14:46:55.394425Z"
    }
   },
   "source": [
    "def test_q_1():\n",
    "    LOGGER.setLevel(logging.DEBUG)\n",
    "    assert q_1(test_data) == 11\n",
    "    LOGGER.setLevel(logging.INFO)"
   ],
   "outputs": [],
   "execution_count": 32
  },
  {
   "cell_type": "code",
   "metadata": {
    "ExecuteTime": {
     "end_time": "2024-12-02T14:46:55.567215Z",
     "start_time": "2024-12-02T14:46:55.564416Z"
    }
   },
   "source": [
    "test_q_1()"
   ],
   "outputs": [],
   "execution_count": 33
  },
  {
   "cell_type": "markdown",
   "metadata": {},
   "source": [
    "#### answer"
   ]
  },
  {
   "cell_type": "code",
   "metadata": {
    "ExecuteTime": {
     "end_time": "2024-12-02T14:46:56.779522Z",
     "start_time": "2024-12-02T14:46:56.770562Z"
    }
   },
   "source": [
    "q_1(load_data())"
   ],
   "outputs": [
    {
     "data": {
      "text/plain": [
       "765748"
      ]
     },
     "execution_count": 34,
     "metadata": {},
     "output_type": "execute_result"
    }
   ],
   "execution_count": 34
  },
  {
   "cell_type": "markdown",
   "metadata": {},
   "source": [
    "## part 2\n",
    "\n",
    "### problem statement:"
   ]
  },
  {
   "cell_type": "markdown",
   "metadata": {},
   "source": [
    "#### function def"
   ]
  },
  {
   "cell_type": "code",
   "metadata": {
    "ExecuteTime": {
     "end_time": "2024-12-02T14:56:33.783036Z",
     "start_time": "2024-12-02T14:56:33.768922Z"
    }
   },
   "source": [
    "def q_2(data):\n",
    "    a_cts = data.a.value_counts()\n",
    "    b_cts = data.b.value_counts()\n",
    "\n",
    "    z = pd.DataFrame({'a': a_cts, 'b': b_cts}).fillna(0).reset_index()\n",
    "    z.loc[:, 'z'] = z['index'] * z.a * z.b\n",
    "    return z.z.sum()"
   ],
   "outputs": [],
   "execution_count": 43
  },
  {
   "cell_type": "markdown",
   "metadata": {},
   "source": [
    "#### tests"
   ]
  },
  {
   "cell_type": "code",
   "metadata": {
    "ExecuteTime": {
     "end_time": "2024-12-02T14:56:34.429586Z",
     "start_time": "2024-12-02T14:56:34.427341Z"
    }
   },
   "source": [
    "def test_q_2():\n",
    "    LOGGER.setLevel(logging.DEBUG)\n",
    "    assert q_2(test_data) == 31\n",
    "    LOGGER.setLevel(logging.INFO)"
   ],
   "outputs": [],
   "execution_count": 44
  },
  {
   "cell_type": "code",
   "metadata": {
    "scrolled": true,
    "ExecuteTime": {
     "end_time": "2024-12-02T14:56:35.052863Z",
     "start_time": "2024-12-02T14:56:35.047714Z"
    }
   },
   "source": [
    "test_q_2()"
   ],
   "outputs": [],
   "execution_count": 45
  },
  {
   "cell_type": "markdown",
   "metadata": {},
   "source": [
    "#### answer"
   ]
  },
  {
   "cell_type": "code",
   "metadata": {
    "scrolled": true,
    "ExecuteTime": {
     "end_time": "2024-12-02T14:56:36.316806Z",
     "start_time": "2024-12-02T14:56:36.309571Z"
    }
   },
   "source": [
    "q_2(load_data())"
   ],
   "outputs": [
    {
     "data": {
      "text/plain": [
       "27732508.0"
      ]
     },
     "execution_count": 46,
     "metadata": {},
     "output_type": "execute_result"
    }
   ],
   "execution_count": 46
  },
  {
   "cell_type": "markdown",
   "metadata": {},
   "source": [
    "fin"
   ]
  }
 ],
 "metadata": {
  "kernelspec": {
   "display_name": "Python 3",
   "language": "python",
   "name": "python3"
  },
  "language_info": {
   "codemirror_mode": {
    "name": "ipython",
    "version": 3
   },
   "file_extension": ".py",
   "mimetype": "text/x-python",
   "name": "python",
   "nbconvert_exporter": "python",
   "pygments_lexer": "ipython3",
   "version": "3.7.3"
  },
  "toc": {
   "base_numbering": 1,
   "nav_menu": {},
   "number_sections": true,
   "sideBar": true,
   "skip_h1_title": false,
   "title_cell": "Table of Contents",
   "title_sidebar": "Contents",
   "toc_cell": false,
   "toc_position": {},
   "toc_section_display": true,
   "toc_window_display": false
  }
 },
 "nbformat": 4,
 "nbformat_minor": 2
}
