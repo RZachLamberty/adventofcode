{
 "cells": [
  {
   "cell_type": "markdown",
   "metadata": {},
   "source": [
    "# day 9\n",
    "\n",
    "https://adventofcode.com/9/day/9"
   ]
  },
  {
   "cell_type": "code",
   "metadata": {},
   "source": [
    "import logging\n",
    "import logging.config\n",
    "import os\n",
    "from collections import deque\n",
    "\n",
    "import yaml"
   ],
   "outputs": [],
   "execution_count": null
  },
  {
   "cell_type": "code",
   "metadata": {},
   "source": [
    "with open('../logging.yaml') as fp:\n",
    "    logging_config = yaml.load(fp, Loader=yaml.FullLoader)\n",
    "\n",
    "logging.config.dictConfig(logging_config)"
   ],
   "outputs": [],
   "execution_count": null
  },
  {
   "cell_type": "code",
   "metadata": {},
   "source": [
    "FNAME = os.path.join('data', 'day09.txt')\n",
    "\n",
    "LOGGER = logging.getLogger('day09')"
   ],
   "outputs": [],
   "execution_count": null
  },
  {
   "cell_type": "markdown",
   "metadata": {},
   "source": [
    "## part 1\n",
    "\n",
    "### problem statement:"
   ]
  },
  {
   "cell_type": "markdown",
   "metadata": {},
   "source": [
    "#### loading data"
   ]
  },
  {
   "cell_type": "code",
   "metadata": {},
   "source": "test_data = \"2333133121414131402\"",
   "outputs": [],
   "execution_count": null
  },
  {
   "cell_type": "code",
   "metadata": {},
   "source": [
    "def load_data(fname=FNAME):\n",
    "    with open(fname) as fp:\n",
    "        return fp.read().strip()"
   ],
   "outputs": [],
   "execution_count": null
  },
  {
   "metadata": {},
   "cell_type": "code",
   "source": [
    "class Defrag:\n",
    "    def __init__(self, data: str):\n",
    "        self.disk_map = data\n",
    "\n",
    "    def get_unpacked_disk_map(self) -> deque:\n",
    "        udm = deque()\n",
    "        for (i, block_len) in enumerate(self.disk_map):\n",
    "            for j in range(int(block_len)):\n",
    "                udm.append(i // 2 if i % 2 == 0 else None)\n",
    "        return udm\n",
    "\n",
    "    def get_unpacked_disk_map_as_str(self) -> str:\n",
    "        return ''.join('.' if elem is None else str(elem)\n",
    "                       for elem in self.get_unpacked_disk_map())\n",
    "\n",
    "    def get_file_disk_map(self) -> deque[dict]:\n",
    "        return deque({'file_val': i // 2 if i % 2 == 0 else None,\n",
    "                      'file_len': int(block_len)}\n",
    "                     for (i, block_len) in enumerate(self.disk_map)\n",
    "                     if int(block_len) > 0)\n",
    "\n",
    "    def get_defragged_disk_map(self) -> list[int]:\n",
    "        udm = self.get_unpacked_disk_map()\n",
    "        ddm = []\n",
    "        while udm:\n",
    "            next_val = udm.popleft()\n",
    "            if next_val is None:\n",
    "                while True:\n",
    "                    tail_val = udm.pop()\n",
    "                    if tail_val is not None:\n",
    "                        next_val = tail_val\n",
    "                        break\n",
    "            ddm.append(next_val)\n",
    "        return ddm\n",
    "\n",
    "    def get_defragged_disk_map_as_str(self) -> str:\n",
    "        return ''.join('.' if elem is None else str(elem)\n",
    "                       for elem in self.get_defragged_disk_map())\n",
    "\n",
    "    def get_file_defragged_disk_map(self) -> deque[dict]:\n",
    "        fdm = self.get_file_disk_map()\n",
    "        tail_ptr = len(fdm) - 1\n",
    "        while tail_ptr > 0:\n",
    "            tail = fdm[tail_ptr]\n",
    "            if tail['file_val'] is None:\n",
    "                tail_ptr -= 1\n",
    "                continue\n",
    "\n",
    "            # find first empty block large enough to fit this block\n",
    "            list_grew = False\n",
    "            largest_empty_block_size = max(_['file_len'] for _ in fdm if _['file_val'] is None)\n",
    "            if tail['file_len'] > largest_empty_block_size:\n",
    "                tail_ptr -= 1\n",
    "                continue\n",
    "\n",
    "            for (i, f) in enumerate(list(fdm)[:tail_ptr]):\n",
    "                if f['file_val'] is None and f['file_len'] >= tail['file_len']:\n",
    "                    # insert!\n",
    "                    new_records = [tail]\n",
    "                    leftover_space = f['file_len'] - tail['file_len']\n",
    "                    if leftover_space > 0:\n",
    "                        new_records.append({'file_val': None, 'file_len': leftover_space})\n",
    "\n",
    "                    # sew that all together\n",
    "                    new_fdm = deque()\n",
    "                    new_fdm.extend(list(fdm)[:i])\n",
    "                    new_fdm.extend(new_records)\n",
    "                    new_fdm.extend(list(fdm)[i + 1: tail_ptr])\n",
    "                    new_fdm.append({'file_val': None, 'file_len': tail['file_len']})\n",
    "                    new_fdm.extend(list(fdm)[tail_ptr + 1:])\n",
    "                    fdm = new_fdm.copy()\n",
    "\n",
    "                    list_grew = leftover_space > 0\n",
    "\n",
    "                    break\n",
    "\n",
    "            # adjust the tail ptr\n",
    "            # tail ptr needs to go backwards from where it was, but the list\n",
    "            # may have also gotten longer if leftover_space was greater than 0\n",
    "            tail_ptr -= (1 - list_grew)\n",
    "        return fdm\n",
    "\n",
    "    def get_file_defragged_disk_map_as_str(self) -> str:\n",
    "        s = ''\n",
    "        for elem in self.get_file_defragged_disk_map():\n",
    "            for i in range(elem['file_len']):\n",
    "                s += '.' if elem['file_val'] is None else str(elem['file_val'])\n",
    "        return s\n",
    "\n",
    "    def get_checksum(self) -> int:\n",
    "        return sum(i * v for (i, v) in enumerate(self.get_defragged_disk_map()))\n",
    "\n",
    "    def get_file_checksum(self) -> int:\n",
    "        file_ids = []\n",
    "        for d in self.get_file_defragged_disk_map():\n",
    "            file_ids += [d['file_val'] or 0 for _ in range(d['file_len'])]\n",
    "        return sum(i * v for (i, v) in enumerate(file_ids))\n",
    "\n",
    "\n",
    "d = Defrag(test_data)\n",
    "# assert d.get_unpacked_disk_map_as_str() == '00...111...2...333.44.5555.6666.777.888899'\n",
    "# assert d.get_defragged_disk_map_as_str() == '0099811188827773336446555566'\n",
    "# assert d.get_checksum() == 1928\n",
    "# d.get_file_disk_map()\n",
    "# d.get_file_defragged_disk_map()\n",
    "# assert d.get_file_defragged_disk_map_as_str() == '00992111777.44.333....5555.6666.....8888..'\n",
    "# ''.join([str(_) for _ in d.get_file_checksum()])"
   ],
   "outputs": [],
   "execution_count": null
  },
  {
   "cell_type": "markdown",
   "metadata": {},
   "source": [
    "#### function def"
   ]
  },
  {
   "metadata": {},
   "cell_type": "code",
   "source": [
    "def q_1(data):\n",
    "    d = Defrag(data)\n",
    "    return d.get_checksum()"
   ],
   "outputs": [],
   "execution_count": null
  },
  {
   "cell_type": "markdown",
   "metadata": {},
   "source": [
    "#### tests"
   ]
  },
  {
   "cell_type": "code",
   "metadata": {},
   "source": [
    "def test_q_1():\n",
    "    LOGGER.setLevel(logging.DEBUG)\n",
    "    assert q_1(test_data) == 1928\n",
    "    v = q_1(\"2333133121414131402\"); assert v == 1_928, v\n",
    "    v = q_1(\"1010101010101010101010\"); assert v == 385, v\n",
    "    v = q_1(\"10101010101010101010101\"); assert v == 506, v\n",
    "    v = q_1(\"24854985253541181957739287987372996558882497114196891429411\"); assert v == 167_402, v\n",
    "    v = q_1(\"111010101010101010101\"); assert v == 340, v\n",
    "    v = q_1(\"15101010101010101010105\"); assert v == 825, v\n",
    "    LOGGER.setLevel(logging.INFO)"
   ],
   "outputs": [],
   "execution_count": null
  },
  {
   "cell_type": "code",
   "metadata": {},
   "source": [
    "test_q_1()"
   ],
   "outputs": [],
   "execution_count": null
  },
  {
   "cell_type": "markdown",
   "metadata": {},
   "source": [
    "#### answer"
   ]
  },
  {
   "cell_type": "code",
   "metadata": {},
   "source": [
    "q_1(load_data())"
   ],
   "outputs": [],
   "execution_count": null
  },
  {
   "cell_type": "markdown",
   "metadata": {},
   "source": [
    "## part 2\n",
    "\n",
    "### problem statement:"
   ]
  },
  {
   "cell_type": "markdown",
   "metadata": {},
   "source": [
    "#### function def"
   ]
  },
  {
   "cell_type": "code",
   "metadata": {},
   "source": [
    "def q_2(data):\n",
    "    d = Defrag(data)\n",
    "    return d.get_file_checksum()"
   ],
   "outputs": [],
   "execution_count": null
  },
  {
   "cell_type": "markdown",
   "metadata": {},
   "source": [
    "#### tests"
   ]
  },
  {
   "cell_type": "code",
   "metadata": {},
   "source": [
    "def test_q_2():\n",
    "    LOGGER.setLevel(logging.DEBUG)\n",
    "    assert q_2(test_data) == 2858\n",
    "    LOGGER.setLevel(logging.INFO)"
   ],
   "outputs": [],
   "execution_count": null
  },
  {
   "cell_type": "code",
   "metadata": {
    "scrolled": true
   },
   "source": [
    "test_q_2()"
   ],
   "outputs": [],
   "execution_count": null
  },
  {
   "cell_type": "markdown",
   "metadata": {},
   "source": [
    "#### answer"
   ]
  },
  {
   "cell_type": "code",
   "metadata": {
    "scrolled": true
   },
   "source": [
    "q_2(load_data())"
   ],
   "outputs": [],
   "execution_count": null
  },
  {
   "cell_type": "markdown",
   "metadata": {},
   "source": [
    "fin"
   ]
  }
 ],
 "metadata": {
  "kernelspec": {
   "display_name": "Python 3",
   "language": "python",
   "name": "python3"
  },
  "language_info": {
   "codemirror_mode": {
    "name": "ipython",
    "version": 3
   },
   "file_extension": ".py",
   "mimetype": "text/x-python",
   "name": "python",
   "nbconvert_exporter": "python",
   "pygments_lexer": "ipython3",
   "version": "3.7.3"
  },
  "toc": {
   "base_numbering": 1,
   "nav_menu": {},
   "number_sections": true,
   "sideBar": true,
   "skip_h1_title": false,
   "title_cell": "Table of Contents",
   "title_sidebar": "Contents",
   "toc_cell": false,
   "toc_position": {},
   "toc_section_display": true,
   "toc_window_display": false
  }
 },
 "nbformat": 4,
 "nbformat_minor": 2
}
